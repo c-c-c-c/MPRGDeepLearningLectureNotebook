{
  "nbformat": 4,
  "nbformat_minor": 0,
  "metadata": {
    "accelerator": "GPU",
    "colab": {
      "name": "00_python_and_numpy.ipynb",
      "provenance": [],
      "collapsed_sections": []
    },
    "kernelspec": {
      "display_name": "Python 3",
      "language": "python",
      "name": "python3"
    },
    "language_info": {
      "codemirror_mode": {
        "name": "ipython",
        "version": 3
      },
      "file_extension": ".py",
      "mimetype": "text/x-python",
      "name": "python",
      "nbconvert_exporter": "python",
      "pygments_lexer": "ipython3",
      "version": "3.5.2"
    }
  },
  "cells": [
    {
      "cell_type": "markdown",
      "metadata": {
        "colab_type": "text",
        "id": "8G5SYENhn6Vg"
      },
      "source": [
        "# 00：PythonプログラミングとNumPy\n",
        "\n",
        "---\n",
        "## 目的\n",
        "Google ColaboratoryとPython，NumPyの基本的な使い方について学ぶ．\n",
        "\n",
        "\n",
        "## Google Colaboratoryについて\n",
        "Google Colaboratory (以下，Colab.) はGoogleが提供するクラウド型のJupyter Notebook環境です．Colab.は機械学習や画像認識に関する教育や研究を目的として開発されたサービスであり，無料で使用することができます．\n",
        "\n",
        "### 計算機のOS確認\n",
        "下記のコードを実行してOSを確認してみます．"
      ]
    },
    {
      "cell_type": "code",
      "metadata": {
        "colab_type": "code",
        "id": "FJqP5_-vyb8u",
        "colab": {}
      },
      "source": [
        "!lsb_release -a"
      ],
      "execution_count": null,
      "outputs": []
    },
    {
      "cell_type": "markdown",
      "metadata": {
        "colab_type": "text",
        "id": "pFGC3y1I0Upl"
      },
      "source": [
        "### ハードウェアの確認\n",
        "\n",
        "#### CPU\n",
        "下記のコードを実行してCPU情報を確認してみます．"
      ]
    },
    {
      "cell_type": "code",
      "metadata": {
        "colab_type": "code",
        "id": "6B680KB_0Utd",
        "colab": {}
      },
      "source": [
        "!cat /proc/cpuinfo | grep 'model name' | uniq\n",
        "!cat /proc/cpuinfo | grep 'processor' | uniq"
      ],
      "execution_count": null,
      "outputs": []
    },
    {
      "cell_type": "markdown",
      "metadata": {
        "colab_type": "text",
        "id": "e9b3Yt1V0UxV"
      },
      "source": [
        "#### メモリ\n",
        "下記のコードを実行して，メモリの総量と使用可能量を確認します．\n",
        "また，Colab.では，メモリの総容量と現在の使用状況はこのページの右上の「RAM」と表示されているアイコンにカーソルを重ねることで，確認することができます．"
      ]
    },
    {
      "cell_type": "code",
      "metadata": {
        "colab_type": "code",
        "id": "Q3ppY9ZT0U14",
        "colab": {}
      },
      "source": [
        "!cat /proc/meminfo | grep 'MemTotal'\n",
        "!cat /proc/meminfo | grep 'MemAvailable'"
      ],
      "execution_count": null,
      "outputs": []
    },
    {
      "cell_type": "markdown",
      "metadata": {
        "colab_type": "text",
        "id": "AQ0vG_Wt2HGy"
      },
      "source": [
        "#### GPU\n",
        "下記のコードを実行してGPU情報を確認します．\n",
        "GPUの確認を行うためには，**上部のメニューバーの「ランタイム」→「ランタイムのタイプを変更」からハードウェアアクセラレータをGPUにしてください．**"
      ]
    },
    {
      "cell_type": "code",
      "metadata": {
        "colab_type": "code",
        "id": "JNFjzVEj2HLK",
        "colab": {}
      },
      "source": [
        "!nvidia-smi"
      ],
      "execution_count": null,
      "outputs": []
    },
    {
      "cell_type": "markdown",
      "metadata": {
        "colab_type": "text",
        "id": "kbswCri5freT"
      },
      "source": [
        "***\n",
        "## Pythonプログラムの実行方法\n",
        "Pythonは近年，画像認識や機械学習等の人工知能研究分野で広く用いられているプログラミング言語です．\n",
        "\n",
        "Pythonの特徴としては，\n",
        "\n",
        "1. 基本的な文法が簡単で覚えやすい，書きやすい\n",
        "2. ユニバーサルな言語で，どのようなOSでも同じように動作することが可能\n",
        "3. 画像認識や機械学習，データ解析に役立つモジュールが豊富に開発されている\n",
        "\n",
        "という特徴があります．\n",
        "以下では，Pythonの基本的な文法をプログラムを交えて説明します．\n",
        "\n",
        "### モジュール\n",
        "モジュールとはPythonにおいて特定の計算を便利に行う，簡単に記述するためのプログラム群であり，C言語のライブラリに相当するものです．\n",
        "\n",
        "代表的なツールとしては\n",
        "* 行列演算など：numpy\n",
        "* 科学技術計算など：scipy\n",
        "* グラフの描画など：matplotlib\n",
        "* 機械学習：scikit-learn\n",
        "* ディープラーニング：pylearn2, caffe, chainer\n",
        "* 画像処理：pillow, scikit-image, opencv\n",
        "* シミュレーション：simpy\n",
        "* 解析的な計算：theano\n",
        "* インタラクティブシェル：ipython\n",
        "\n",
        "などの様々なものが存在しています．\n",
        "\n",
        "\n",
        "### print文\n",
        "定義した変数などを表示するためにはprint関数（print文）を用います．\n",
        "print関数の引数として複数の値を指定することで，一度に複数の情報を表示することができます．"
      ]
    },
    {
      "cell_type": "code",
      "metadata": {
        "colab_type": "code",
        "id": "juQa2f_mnsWa",
        "colab": {}
      },
      "source": [
        "print(\"Hello world!\")\n",
        "print(1)\n",
        "print(\"abc\", 123)"
      ],
      "execution_count": null,
      "outputs": []
    },
    {
      "cell_type": "markdown",
      "metadata": {
        "colab_type": "text",
        "id": "EqCCmSHDhIL3"
      },
      "source": [
        "### Pythonの型\n",
        "\n",
        "Pythonの代表的な変数の型としては，以下のものが挙げられます．\n",
        "\n",
        "* 数値型：整数，浮動小数点数，複素数\n",
        "  - C言語のようなint, floatなどの型宣言は必要ありません\n",
        "* コンテナ：リスト，タプル，辞書，集合\n",
        "  - 型の混在が可能で，基本的にどんな型のデータでも代入可能\n",
        "* 文字列\n",
        "  - シングルクォート (') またはダブルクォート (\") で囲むことで文字列として表現\n",
        "* 定数：真偽値(True, False)，None(C言語のNULLに相当)\n",
        "\n",
        "以下では，本実習で使用する代表的な型とPythonの文法についてプログラムを交えて説明します．"
      ]
    },
    {
      "cell_type": "code",
      "metadata": {
        "colab_type": "code",
        "id": "52R-Ydv4ojbz",
        "colab": {}
      },
      "source": [
        "# 整数，浮動小数点数\n",
        "i = 10\n",
        "f = 0.001\n",
        "\n",
        "# コンテナ（リスト，タプル，辞書，集合）\n",
        "l = [1, 0.01, \"abcd\"]\n",
        "t = (3, -4.5, \"defg\")\n",
        "d = {\"a\": 1.0, \"b\": 2.0, \"c\": 3.0}\n",
        "s = {1, 2, 3}\n",
        "\n",
        "# 真偽値\n",
        "b1 = True\n",
        "b2 = False\n",
        "\n",
        "# None\n",
        "n = None"
      ],
      "execution_count": null,
      "outputs": []
    },
    {
      "cell_type": "markdown",
      "metadata": {
        "colab_type": "text",
        "id": "MYJzRDFXiSrs"
      },
      "source": [
        "### 文字列\n",
        "文字列はダブルクォート「\"」で囲むことで定義します．\n",
        "\n",
        "#### 文字列の整形方法\n",
        "C言語のprintf系関数のようなものです．\n",
        "「%」演算子を利用します．\n",
        "複数の変数を文字列に代入する場合は「(...)」を用います．\n",
        "（下記プログラム参照）"
      ]
    },
    {
      "cell_type": "code",
      "metadata": {
        "colab_type": "code",
        "id": "OMXeqWSmfrCc",
        "colab": {}
      },
      "source": [
        "# + 演算子で連結することが可能です\n",
        "string1 = \"abc\" + \"def\"\n",
        "print(string1)\n",
        "\n",
        "# 文字列の整形方法\n",
        "# 1. 一つの変数の場合\n",
        "value = 10\n",
        "string2 = \"integer: %d\" % value\n",
        "print(string2)\n",
        "\n",
        "# 2. 複数の場合\n",
        "value1 = 10\n",
        "float_val1 = 0.01\n",
        "str1 = \"abc\"\n",
        "string3 = \"integer: %d, float value: %f, string: %s\" % (value1, float_val1, str1)\n",
        "print(string3)"
      ],
      "execution_count": null,
      "outputs": []
    },
    {
      "cell_type": "markdown",
      "metadata": {
        "colab_type": "text",
        "id": "hOMZNxTWkvQ5"
      },
      "source": [
        "#### 制御構文\n",
        "PythonでもC言語と同様の制御構文が用意されています．\n",
        "\n",
        "* if文\n",
        "* while文\n",
        "* for文\n",
        "\n",
        "C言語の大きな特徴としてこれらの制御構文の対象範囲をインデント（スペース4つまたは2つ）で表現することが挙げられます．スペースの数はプログラム内で統一する必要があります．"
      ]
    },
    {
      "cell_type": "code",
      "metadata": {
        "colab_type": "code",
        "id": "XI3IQSPjkvW4",
        "colab": {}
      },
      "source": [
        "# if文\n",
        "a = 0.5\n",
        "if a < 0:\n",
        "    print(\"negative value\")\n",
        "elif a > 0:\n",
        "    print(\"positive value\")\n",
        "else:\n",
        "    print(\"zero\")\n",
        "\n",
        "# while文\n",
        "print(\"==========\")\n",
        "b = 0\n",
        "while b < 5:\n",
        "    print(b)\n",
        "    b += 1\n",
        "\n",
        "# for文 1 \n",
        "print(\"==========\")\n",
        "c = [0.1, 2.34, 5.6, 7.89]\n",
        "for x in c:\n",
        "    print(x)"
      ],
      "execution_count": null,
      "outputs": []
    },
    {
      "cell_type": "markdown",
      "metadata": {
        "colab_type": "text",
        "id": "tuplJdt8kvc9"
      },
      "source": [
        "#### 関数\n",
        "Pythonの関数は「def」で定義を行います．\n",
        "関数の定義でも上の制御構文と同様にインデントを用いて範囲を指定します．"
      ]
    },
    {
      "cell_type": "code",
      "metadata": {
        "colab_type": "code",
        "id": "bw2B0QsCkviz",
        "colab": {}
      },
      "source": [
        "# 関数定義\n",
        "def sample_func1(x, y):\n",
        "    z = x + y\n",
        "    return z\n",
        "  \n",
        "# 関数の実行\n",
        "a = 10\n",
        "b = 20\n",
        "c = sample_func1(a, b)\n",
        "print(c)"
      ],
      "execution_count": null,
      "outputs": []
    },
    {
      "cell_type": "markdown",
      "metadata": {
        "colab_type": "text",
        "id": "ASUdSMbDpy0c"
      },
      "source": [
        "#### 多重代入\n",
        "C言語と異なり，複数の値を同時にreturnできる．"
      ]
    },
    {
      "cell_type": "code",
      "metadata": {
        "colab_type": "code",
        "id": "zCOGVVHgpysI",
        "colab": {}
      },
      "source": [
        "def sample_func2(x, y):\n",
        "    x = a + 1\n",
        "    y = b * 2\n",
        "    return x, y\n",
        "  \n",
        "c, d = sample_func2(1, 2)\n",
        "print(c, d)"
      ],
      "execution_count": null,
      "outputs": []
    },
    {
      "cell_type": "markdown",
      "metadata": {
        "colab_type": "text",
        "id": "cmiETFJ4qksS"
      },
      "source": [
        "#### モジュールのインポートと実行\n",
        "モジュールは「import」を用いることでプログラム内で使用することが可能です．\n",
        "ここでは，行列計算のモジュールである「Numpy」を使用してみます．"
      ]
    },
    {
      "cell_type": "code",
      "metadata": {
        "colab_type": "code",
        "id": "G0J4cwFXqcAh",
        "colab": {}
      },
      "source": [
        "# 通常の読み込み\n",
        "import numpy\n",
        "\n",
        "# numpyという関数をnpという名前で使用できるように読み込む\n",
        "import numpy as np\n",
        "\n",
        "# numpy.linalgの中のnormという関数を読み込む（他は読み込まない）\n",
        "from numpy.linalg import norm"
      ],
      "execution_count": null,
      "outputs": []
    },
    {
      "cell_type": "markdown",
      "metadata": {
        "colab_type": "text",
        "id": "MQy1q1QOseV3"
      },
      "source": [
        "***\n",
        "## Numpyの基本的な使い方\n",
        "本実習をはじめとする画像認識や機械学習のプログラムでは，Numpyを用いてデータの操作を行います．\n",
        "以下では，Numpyの基本的な使い方をプログラムを通じて学びます．\n",
        "\n",
        "### N次元配列：ndarray\n",
        "Numpyでは上のリストやタプルとは異なり，型を統一する必要があります．"
      ]
    },
    {
      "cell_type": "code",
      "metadata": {
        "colab_type": "code",
        "id": "X-JroKd3sPqU",
        "colab": {}
      },
      "source": [
        "import numpy as np\n",
        "\n",
        "a = np.array([[0, 0, 1], [0, 0, 2]], dtype=np.float32) # dtype=***で配列要素の型を決めています\n",
        "b = np.array([[1, 2, 3], [4, 5, 6]], dtype=np.float32)\n",
        "print(a)\n",
        "print(b)\n",
        "\n",
        "# 行列の演算（和・積）\n",
        "c = a + b\n",
        "d = a * b  # * は要素ごとの掛け算です\n",
        "print(c)\n",
        "print(d)\n",
        "\n",
        "# （数学的な）行列の掛け算\n",
        "e = np.dot(a, b.T)   # b.Tは行列bの転置を表しています\n",
        "print(e)"
      ],
      "execution_count": null,
      "outputs": []
    },
    {
      "cell_type": "markdown",
      "metadata": {
        "colab_type": "text",
        "id": "xRlYHA9QuzTx"
      },
      "source": [
        "### 行列の扱い方\n",
        "\n",
        "#### 特定の要素を取り出す（インデキシング）\n",
        "\n",
        "`a[i, j]`：行列aの`(i, j)`要素を取り出します．\n",
        "\n",
        "####  特定の範囲を切り出す（スライシング）\n",
        "範囲を指定する際にはコロン「:」を用います\n",
        "\n",
        "`a[i,:]`：行列aの`i`行目（のベクトル）\n",
        "\n",
        "`a[:,j]`：行列aの`j`列目（のベクトル）\n",
        "\n",
        "`a[:,0:3]`：行列aの`0, 1, 2`列目の部分行列\n",
        "\n",
        "#### ファンシーインデキシング\n",
        "\n",
        "条件に合致する特定の要素のみを取り出します．\n",
        "認識を失敗したデータだけを取り出す場合などに用いることができる便利な機能です．\n"
      ]
    },
    {
      "cell_type": "code",
      "metadata": {
        "colab_type": "code",
        "id": "4Mx7l7O3uDJJ",
        "colab": {}
      },
      "source": [
        "# インデキシング\n",
        "a_elem = a[0, 2]\n",
        "print(a_elem)\n",
        "\n",
        "# スライシング\n",
        "a_slice1 = a[1, :]\n",
        "a_slice2 = a[:, 2]\n",
        "print(a_slice1)\n",
        "print(a_slice2)\n",
        "\n",
        "b_slice = b[1, 0:2]\n",
        "print(b_slice)\n",
        "\n",
        "# ファンシーインデキシング\n",
        "a = np.array([1, 0, 1, 0, 0], dtype=np.int32)\n",
        "b = np.array([[0, 1, 2, 3, 4], [5, 6, 7, 8, 9]], dtype=np.float32)\n",
        "print(b[:, a == 1])"
      ],
      "execution_count": null,
      "outputs": []
    },
    {
      "cell_type": "markdown",
      "metadata": {
        "colab_type": "text",
        "id": "s4PYMSWWwrRf"
      },
      "source": [
        "### Numpyの便利な関数\n",
        "Numpyには行列を演算するための便利な関数が多数含まれています．\n",
        "以下では，いくつかの関数を紹介します．\n",
        "ここで全てを紹介することは難しいので，興味のある方は公式のreferenceページへアクセスして調べてみてください．\n",
        "\n",
        "[Numpy Reference (関数一覧の公式ページ)](https://docs.scipy.org/doc/numpy/reference/)"
      ]
    },
    {
      "cell_type": "code",
      "metadata": {
        "colab_type": "code",
        "id": "N3aFEDIvx0kd",
        "colab": {}
      },
      "source": [
        "a = np.array([0,1,2], dtype=np.float32)\n",
        "\n",
        "# exp(指数関数を要素ごとに計算)\n",
        "print(np.exp(a))\n",
        "# power(累乗)\n",
        "print(np.power(a, 2))\n",
        "\n",
        "\n",
        "# 集計用の関数(非ゼロの要素数を計算)\n",
        "b = np.array([1, 0, 1, 0, 0], dtype=np.int32)\n",
        "print(np.count_nonzero(b))"
      ],
      "execution_count": null,
      "outputs": []
    }
  ]
}