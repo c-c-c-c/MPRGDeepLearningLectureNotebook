{
  "nbformat": 4,
  "nbformat_minor": 0,
  "metadata": {
    "kernelspec": {
      "display_name": "Python 3",
      "language": "python",
      "name": "python3"
    },
    "language_info": {
      "codemirror_mode": {
        "name": "ipython",
        "version": 3
      },
      "file_extension": ".py",
      "mimetype": "text/x-python",
      "name": "python",
      "nbconvert_exporter": "python",
      "pygments_lexer": "ipython3",
      "version": "3.5.2"
    },
    "colab": {
      "name": "07_im2col.ipynb",
      "provenance": [],
      "collapsed_sections": []
    }
  },
  "cells": [
    {
      "cell_type": "markdown",
      "metadata": {
        "id": "9VG2__TF4Bt_",
        "colab_type": "text"
      },
      "source": [
        "# 07：im2colを用いた効率的な畳み込み処理\n",
        "\n",
        "---\n",
        "## 目的\n",
        "畳み込みやプーリングを効率的に計算するために使用される`im2col`関数について理解する．\n",
        "\n",
        "## モジュールのインポート\n",
        "プログラムの実行に必要なモジュールをインポートします．\n",
        "`time`関数はシステム時刻を取得する関数であり，今回は処理時間の計測に使用します．"
      ]
    },
    {
      "cell_type": "code",
      "metadata": {
        "id": "R26GX1Cs4BuA",
        "colab_type": "code",
        "colab": {}
      },
      "source": [
        "import numpy as np\n",
        "from time import time"
      ],
      "execution_count": null,
      "outputs": []
    },
    {
      "cell_type": "markdown",
      "metadata": {
        "id": "yaS72Cqx4BuC",
        "colab_type": "text"
      },
      "source": [
        "## im2colを用いない畳み込み処理\n",
        "はじめに愚直に畳み込み処理を計算してみます．\n",
        "\n",
        "まず，畳み込みを行う際のパラメータを設定します．\n",
        "\n",
        "次に，設定したパラメータに基づいて，擬似的な画像`image`と畳み込みのカーネル`w`およびバイアス`b`を設定します．\n",
        "また，画像サイズおよびカーネルサイズ，ストライドから畳み込み処理を適用した場合の特徴マップのサイズ`feature_map_size`を計算し，\n",
        "畳み込みの結果を格納する配列`feature_map`を生成します．\n",
        "\n",
        "その後，画像の縦方向と横方向に対するfor文を定義し，1箇所ずつ畳み込み処理を行い，演算結果を`feature_map`の対応する要素へと格納していきます．\n",
        "この時，for文の前後に`time`関数を適用し時刻を取得することで，処理時間の計算を行います．"
      ]
    },
    {
      "cell_type": "code",
      "metadata": {
        "id": "9mRXIvJV4BuD",
        "colab_type": "code",
        "colab": {}
      },
      "source": [
        "# 畳み込み処理のパラメータの設定（画像サイズ，カーネルサイズ等）\n",
        "batch_size = 2\n",
        "img_size = 256\n",
        "kernel_size = 3\n",
        "in_channels = 3\n",
        "out_channels = 7\n",
        "stride = 1\n",
        "\n",
        "image = np.arange(batch_size * in_channels * img_size * img_size, dtype=np.float32).reshape(batch_size, in_channels, img_size, img_size) / 100.\n",
        "w = np.arange(out_channels * in_channels * kernel_size * kernel_size, dtype=np.float32).reshape(out_channels, in_channels, kernel_size, kernel_size) / 100.\n",
        "b = np.random.randn(out_channels)\n",
        "\n",
        "feature_map_size = int(img_size - (kernel_size - 1))\n",
        "feature_map = np.zeros((batch_size, out_channels, feature_map_size, feature_map_size))\n",
        "\n",
        "conv_start = time()\n",
        "for y in range(feature_map_size):\n",
        "    for x in range(feature_map_size):\n",
        "        for batch in range(batch_size):\n",
        "\n",
        "            img_patch = image[batch:batch+1, :, y:y+kernel_size, x:x+kernel_size]\n",
        "            value = np.tensordot(img_patch, w, ((1,2,3), (1,2,3)))\n",
        "            feature_map[batch, :, y, x] = value + b\n",
        "conv_end = time()\n",
        "\n",
        "print(feature_map.shape)\n",
        "print(\"processing time (w/ im2col):\", conv_end - conv_start, \"[s]\")"
      ],
      "execution_count": null,
      "outputs": []
    },
    {
      "cell_type": "markdown",
      "metadata": {
        "id": "HqIlm_0B4BuF",
        "colab_type": "text"
      },
      "source": [
        "## im2colの実装\n",
        "\n",
        "上記の愚直な畳み込み処理では，for文を入れ子にして繰り返し演算する必要があるため，pythonでは処理に多くの時間を要します．\n",
        "より効率的に処理を行うために，`im2col`と呼ばれる配列処理を用いて畳み込み処理が行われます．\n",
        "\n",
        "`im2col`では，畳み込みの演算を一度に適用することができるように，入力画像の配列を変換する処理を行っています．\n",
        "具体的には，下の図に示すように，一度の畳み込み演算に該当するデータを取得し，それを横一列に平坦化します．\n",
        "そして，その配列を縦に並べたものを返します．\n",
        "![im2col](https://qiita-image-store.s3.ap-northeast-1.amazonaws.com/0/143078/abaf537b-0763-b92a-e714-477497b1f8d4.png)\n",
        "\n",
        "`im2col`を用いることで，for文で行なっていた演算を一度の行列演算に置き換えることができるため，numpyなどの行列演算ライブラリの高速な演算を活用することができます．\n",
        "\n",
        "### im2colの定義\n",
        "上記で説明したim2colを関数として定義します．\n",
        "まず，関数の引数として，変換対象の配列`input_image`，畳み込みを行う際のカーネルサイズ`kernel_h`, `kernel_w`，パディング，ストライドを与えます．\n",
        "画像のサイズ，パディング，ストライドから，縦横それぞれ畳み込みを行う回数を`dst_h`, `dst_w`として求めます．\n",
        "\n",
        "次に，入力画像に対してパディングを行い，`im2col`変換後の値を格納する配列`col`を初期化します．\n",
        "その後，for文をもちいて，対象となるデータを順次取得し，`col`へと格納していきます．\n",
        "\n",
        "最後に，`col`の配列を並び替えることで変換が実現されます．"
      ]
    },
    {
      "cell_type": "code",
      "metadata": {
        "id": "1cIVroh74BuF",
        "colab_type": "code",
        "colab": {}
      },
      "source": [
        "def im2col(input_image, kernel_h, kernel_w, stride=1, padding=0):\n",
        "    n, c, h, w = input_image.shape\n",
        "    \n",
        "    dst_h = (h + 2 * padding - kernel_h) // stride + 1\n",
        "    dst_w = (w + 2 * padding - kernel_w) // stride + 1\n",
        "    \n",
        "    image = np.pad(input_image, [(0,0), (0,0), (padding, padding), (padding, padding)], 'constant')\n",
        "    col = np.zeros((n, c, kernel_h, kernel_w, dst_h, dst_w))\n",
        "    \n",
        "    for y in range(kernel_h):\n",
        "        y_max = y + stride * dst_h\n",
        "        for x in range(kernel_w):\n",
        "            x_max = x + stride * dst_w\n",
        "            col[:, :, y, x, :, :] = image[:, :, y:y_max:stride, x:x_max:stride]\n",
        "    \n",
        "    col = col.transpose(0, 4, 5, 1, 2, 3).reshape(n * dst_h * dst_w, -1)\n",
        "    return col"
      ],
      "execution_count": null,
      "outputs": []
    },
    {
      "cell_type": "markdown",
      "metadata": {
        "id": "FCo8V40T4BuH",
        "colab_type": "text"
      },
      "source": [
        "上記で定義した`im2col`関数を用いて，入力画像の配列を変換してみます．"
      ]
    },
    {
      "cell_type": "code",
      "metadata": {
        "id": "CseK3FHB4BuH",
        "colab_type": "code",
        "colab": {}
      },
      "source": [
        "# 畳み込み処理のパラメータの設定（画像サイズ，カーネルサイズ等）\n",
        "img_size = 7\n",
        "kernel_size = 3\n",
        "in_channels = 3\n",
        "out_channels = 7\n",
        "stride = 1\n",
        "padding = 0\n",
        "\n",
        "x1 = np.random.rand(1, in_channels, img_size, img_size)\n",
        "col1 = im2col(x1, kernel_size, kernel_size, stride, padding)\n",
        "print(col1.shape)\n",
        "\n",
        "x2 = np.random.rand(10, in_channels, img_size, img_size)\n",
        "col2 = im2col(x2, kernel_size, kernel_size, stride, padding)\n",
        "print(col2.shape)"
      ],
      "execution_count": null,
      "outputs": []
    },
    {
      "cell_type": "markdown",
      "metadata": {
        "id": "zdusKNMd4BuJ",
        "colab_type": "text"
      },
      "source": [
        "## im2colを用いた畳み込み処理\n",
        "次に上記で定義した`im2col`を用いて，畳み込み処理とプーリング処理を行ってみます．"
      ]
    },
    {
      "cell_type": "code",
      "metadata": {
        "id": "jELgeU-c4BuK",
        "colab_type": "code",
        "colab": {}
      },
      "source": [
        "# 畳み込み処理のパラメータの設定（画像サイズ，カーネルサイズ等）\n",
        "batch_size = 2\n",
        "img_size = 256\n",
        "kernel_size = 3\n",
        "in_channels = 3\n",
        "out_channels = 7\n",
        "stride = 1\n",
        "padding = 0\n",
        "\n",
        "image = np.arange(batch_size * in_channels * img_size * img_size, dtype=np.float32).reshape(batch_size, in_channels, img_size, img_size) / 100.\n",
        "w = np.arange(out_channels * in_channels * kernel_size * kernel_size, dtype=np.float32).reshape(out_channels, in_channels, kernel_size, kernel_size) / 100.\n",
        "b = np.random.randn(out_channels)\n",
        "\n",
        "# forward\n",
        "out_h = 1 + int((img_size + 2 * padding - kernel_size) / stride)\n",
        "out_w = 1 + int((img_size + 2 * padding - kernel_size) / stride)\n",
        "\n",
        "# convolution\n",
        "conv_start = time()\n",
        "col = im2col(image, kernel_size, kernel_size, stride, padding)\n",
        "col_w = w.reshape(out_channels, -1).T\n",
        "\n",
        "out = np.dot(col, col_w) + b\n",
        "\n",
        "out = out.reshape(batch_size, out_h, out_w, -1).transpose(0, 3, 1, 2)\n",
        "\n",
        "conv_end = time()\n",
        "\n",
        "print(out.shape)\n",
        "print(\"processing time (w/ im2col):\", conv_end - conv_start, \"[s]\")"
      ],
      "execution_count": null,
      "outputs": []
    },
    {
      "cell_type": "markdown",
      "metadata": {
        "id": "rTxzPYNv4BuM",
        "colab_type": "text"
      },
      "source": [
        "## プーリング処理\n",
        "`im2col`関数は畳み込みだけでなく，プーリング処理にも用いられます．\n",
        "\n",
        "まず，for文を用いたプーリング処理を行います．"
      ]
    },
    {
      "cell_type": "code",
      "metadata": {
        "id": "oRJ-4gcF4BuN",
        "colab_type": "code",
        "colab": {}
      },
      "source": [
        "pooling_size = 2\n",
        "stride = 2\n",
        "\n",
        "image = np.random.randn(2, 3, 256, 256)\n",
        "n, c, h, w = image.shape\n",
        "\n",
        "pooled_map = np.zeros((2, 3, int(h / pooling_size), int(w / pooling_size)))\n",
        "\n",
        "pool_start = time()\n",
        "for y in range(0, h, pooling_size):\n",
        "    for x in range(0, h, pooling_size):\n",
        "        patch = image[:, :, y:y+pooling_size, x:x+pooling_size]\n",
        "        patch = patch.reshape(-1, pooling_size * pooling_size)\n",
        "        pool_tmp = np.max(patch, axis=1)\n",
        "        pool_tmp = pool_tmp.reshape(n, c)\n",
        "        pooled_map[:, :, int(y/2), int(x/2)] = pool_tmp\n",
        "pool_end = time()\n",
        "    \n",
        "print(\"processing time (w/o im2col):\", pool_end - pool_start, \"[s]\")"
      ],
      "execution_count": null,
      "outputs": []
    },
    {
      "cell_type": "markdown",
      "metadata": {
        "id": "o6uwMY0c4BuP",
        "colab_type": "text"
      },
      "source": [
        "次に，`im2col`を用いたプーリング処理を行なってみます．"
      ]
    },
    {
      "cell_type": "code",
      "metadata": {
        "id": "mELKcC-U4BuP",
        "colab_type": "code",
        "colab": {}
      },
      "source": [
        "pooling_size = 2\n",
        "stride = 2\n",
        "\n",
        "x = np.random.randn(2, 3, 256, 256)\n",
        "n, c, h, w = x.shape\n",
        "\n",
        "out_h = int(1 + (h - pooling_size) / stride)\n",
        "out_w = int(1 + (w - pooling_size) / stride)\n",
        "\n",
        "pool_start = time()\n",
        "col = im2col(x, pooling_size, pooling_size, stride, 0)\n",
        "col = col.reshape(-1, pooling_size * pooling_size)\n",
        "\n",
        "# arg_max = np.argmax(col, axis=1)\n",
        "out = np.max(col, axis=1)\n",
        "out = out.reshape(n, out_h, out_w, c).transpose(0, 3, 1, 2)\n",
        "pool_end = time()\n",
        "\n",
        "print(\"processing time (w/ im2col):\", pool_end - pool_start, \"[s]\")"
      ],
      "execution_count": null,
      "outputs": []
    },
    {
      "cell_type": "code",
      "metadata": {
        "id": "iekDTEQ94BuR",
        "colab_type": "code",
        "colab": {}
      },
      "source": [
        ""
      ],
      "execution_count": null,
      "outputs": []
    }
  ]
}