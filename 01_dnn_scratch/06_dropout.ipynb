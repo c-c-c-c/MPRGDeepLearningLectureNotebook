{
  "nbformat": 4,
  "nbformat_minor": 0,
  "metadata": {
    "kernelspec": {
      "display_name": "Python 3",
      "language": "python",
      "name": "python3"
    },
    "language_info": {
      "codemirror_mode": {
        "name": "ipython",
        "version": 3
      },
      "file_extension": ".py",
      "mimetype": "text/x-python",
      "name": "python",
      "nbconvert_exporter": "python",
      "pygments_lexer": "ipython3",
      "version": "3.5.2"
    },
    "colab": {
      "name": "06_dropout.ipynb",
      "provenance": [],
      "collapsed_sections": []
    }
  },
  "cells": [
    {
      "cell_type": "markdown",
      "metadata": {
        "id": "VQEJLU_C3_sL"
      },
      "source": [
        "# 06：正則化（Dropout）\n",
        "\n",
        "---\n",
        "## 目的\n",
        "多層パーセプトロン (Multi Layer Perceptoron; MLP) を用いたMNISTデータセットの認識において，ネットワークの正則化（Dropout）について理解する．\n",
        "\n",
        "## モジュールのインポート\n",
        "プログラムの実行に必要なモジュールをインポートします．"
      ]
    },
    {
      "cell_type": "code",
      "metadata": {
        "id": "7vZoiRR03_sL"
      },
      "source": [
        "import numpy as np\n",
        "import matplotlib.pyplot as plt\n",
        "import gzip"
      ],
      "execution_count": 1,
      "outputs": []
    },
    {
      "cell_type": "markdown",
      "metadata": {
        "id": "5VIul2gL3_sO"
      },
      "source": [
        "## データセットのダウンロードと読み込みと学習サンプルの削減\n",
        "\n",
        "\n",
        "まずはじめに，`wget`コマンドを使用して，MNISTデータセットをダウンロードします．"
      ]
    },
    {
      "cell_type": "code",
      "metadata": {
        "id": "8DDcpz6P3_sO"
      },
      "source": [
        "!wget -q http://yann.lecun.com/exdb/mnist/train-images-idx3-ubyte.gz -O train-images-idx3-ubyte.gz\n",
        "!wget -q http://yann.lecun.com/exdb/mnist/train-labels-idx1-ubyte.gz -O train-labels-idx1-ubyte.gz\n",
        "!wget -q http://yann.lecun.com/exdb/mnist/t10k-images-idx3-ubyte.gz -O t10k-images-idx3-ubyte.gz\n",
        "!wget -q http://yann.lecun.com/exdb/mnist/t10k-labels-idx1-ubyte.gz -O t10k-labels-idx1-ubyte.gz"
      ],
      "execution_count": 2,
      "outputs": []
    },
    {
      "cell_type": "markdown",
      "metadata": {
        "id": "6RXTzEns3_sQ"
      },
      "source": [
        "次に，ダウンロードしたファイルからデータを読み込みます．詳細は前回までのプログラムを確認してください．\n",
        "\n",
        "\n",
        "ここで，学習データを削減します．\n",
        "今回は1000サンプルになるように，先頭から1000個の学習データとラベルを取得します．"
      ]
    },
    {
      "cell_type": "code",
      "metadata": {
        "id": "qGEMFDLI3_sR",
        "outputId": "83f91456-7a4a-4879-8bc3-10c8465e6554",
        "colab": {
          "base_uri": "https://localhost:8080/",
          "height": 51
        }
      },
      "source": [
        "# load images\n",
        "with gzip.open('train-images-idx3-ubyte.gz', 'rb') as f:\n",
        "    x_train = np.frombuffer(f.read(), np.uint8, offset=16)\n",
        "x_train = x_train.reshape(-1, 784)\n",
        "\n",
        "with gzip.open('t10k-images-idx3-ubyte.gz', 'rb') as f:\n",
        "    x_test = np.frombuffer(f.read(), np.uint8, offset=16)\n",
        "x_test = x_test.reshape(-1, 784)\n",
        "\n",
        "with gzip.open('train-labels-idx1-ubyte.gz', 'rb') as f:\n",
        "    y_train = np.frombuffer(f.read(), np.uint8, offset=8)\n",
        "\n",
        "with gzip.open('t10k-labels-idx1-ubyte.gz', 'rb') as f:\n",
        "    y_test = np.frombuffer(f.read(), np.uint8, offset=8)\n",
        "\n",
        "# 学習サンプルの削減\n",
        "x_train = x_train[0:500, :]\n",
        "y_train = y_train[0:500]\n",
        "\n",
        "print(x_train.shape, y_train.shape)\n",
        "print(x_test.shape, y_test.shape)"
      ],
      "execution_count": 36,
      "outputs": [
        {
          "output_type": "stream",
          "text": [
            "(500, 784) (500,)\n",
            "(10000, 784) (10000,)\n"
          ],
          "name": "stdout"
        }
      ]
    },
    {
      "cell_type": "markdown",
      "metadata": {
        "id": "qlOaqBgd3_sV"
      },
      "source": [
        "## ネットワークモデルの定義\n",
        "次に，ニューラルネットワーク（多層パーセプトロン）を定義します．\n",
        "\n",
        "まずはじめに，ネットワークの定義に必要な関数を定義します．"
      ]
    },
    {
      "cell_type": "code",
      "metadata": {
        "id": "cVfJLTjw3_sV"
      },
      "source": [
        "def sigmoid(x):\n",
        "    return 1 / (1 + np.exp(-x))\n",
        "\n",
        "def sigmoid_grad(x):\n",
        "    return (1.0 - sigmoid(x)) * sigmoid(x)\n",
        "\n",
        "def relu(x):\n",
        "    return np.maximum(0, x)\n",
        "\n",
        "def relu_grad(x):\n",
        "    grad = np.zeros(x.shape)\n",
        "    grad[x > 0] = 1\n",
        "    return grad\n",
        "\n",
        "def softmax(x):\n",
        "    if x.ndim == 2:\n",
        "        x = x.T\n",
        "        y = np.exp(x) / np.sum(np.exp(x), axis=0)\n",
        "        return y.T \n",
        "    else:\n",
        "        return np.exp(x) / np.sum(np.exp(x))"
      ],
      "execution_count": 37,
      "outputs": []
    },
    {
      "cell_type": "markdown",
      "metadata": {
        "id": "PkdkqRjq3_sX"
      },
      "source": [
        "次に，上で定義した関数を用いてネットワークを定義します．\n",
        "ここでは，Dropoutを適用する場合としない場合の2種類の7層の多層パーセプトロンを定義します．\n",
        "\n",
        "まず，Dropoutを適用しないネットワーク`MLP`を定義します．詳細については前回までの資料を確認してください．\n"
      ]
    },
    {
      "cell_type": "code",
      "metadata": {
        "id": "VC4dXsRSPp6A"
      },
      "source": [
        "class MLP:\n",
        "\n",
        "    def __init__(self, input_size, hidden_size, output_size, w_std=0.05):\n",
        "        self.w1 = w_std * np.random.randn(input_size, hidden_size)\n",
        "        self.b1 = np.zeros(hidden_size)\n",
        "        self.w2 = w_std * np.random.randn(hidden_size, hidden_size)\n",
        "        self.b2 = np.zeros(hidden_size)\n",
        "        self.w3 = w_std * np.random.randn(hidden_size, hidden_size)\n",
        "        self.b3 = np.zeros(hidden_size)\n",
        "        self.w4 = w_std * np.random.randn(hidden_size, hidden_size)\n",
        "        self.b4 = np.zeros(hidden_size)\n",
        "        self.w5 = w_std * np.random.randn(hidden_size, hidden_size)\n",
        "        self.b5 = np.zeros(hidden_size)\n",
        "        self.w6 = w_std * np.random.randn(hidden_size, output_size)\n",
        "        self.b6 = np.zeros(output_size)\n",
        "\n",
        "        self.act = relu\n",
        "        self.act_grad = relu_grad\n",
        "\n",
        "        self.grads = {}\n",
        "\n",
        "    def forward(self, x, train_mode=False):\n",
        "        self.h1 = np.dot(x, self.w1) + self.b1\n",
        "        self.h2 = self.act(self.h1)\n",
        "        self.h3 = np.dot(self.h2, self.w2) + self.b2\n",
        "        self.h4 = self.act(self.h3)\n",
        "        self.h5 = np.dot(self.h4, self.w3) + self.b3\n",
        "        self.h6 = self.act(self.h5)\n",
        "        self.h7 = np.dot(self.h6, self.w4) + self.b4\n",
        "        self.h8 = self.act(self.h7)\n",
        "        self.h9 = np.dot(self.h8, self.w5) + self.b5\n",
        "        self.h10 = self.act(self.h9)\n",
        "        self.h11 = np.dot(self.h10, self.w6) + self.b6\n",
        "        self.y = softmax(self.h11)\n",
        "        return self.y\n",
        "\n",
        "    def backward(self, x, t):\n",
        "        batch_size = x.shape[0]\n",
        "        self.grads = {}\n",
        "        \n",
        "        t = np.identity(10)[t]\n",
        "        dy = (self.y - t) / batch_size\n",
        "        self.grads['w6'] = np.dot(self.h10.T, dy)\n",
        "        self.grads['b6'] = np.sum(dy, axis=0)\n",
        "\n",
        "        d_h10 = np.dot(dy, self.w6.T)\n",
        "        d_h9 = self.act_grad(self.h9) * d_h10\n",
        "        self.grads['w5'] = np.dot(self.h8.T, d_h9)\n",
        "        self.grads['b5'] = np.sum(d_h9, axis=0)\n",
        "        \n",
        "        d_h8 = np.dot(d_h9, self.w5.T)\n",
        "        d_h7 = self.act_grad(self.h7) * d_h8\n",
        "        self.grads['w4'] = np.dot(self.h6.T, d_h7)\n",
        "        self.grads['b4'] = np.sum(d_h7, axis=0)\n",
        "\n",
        "        d_h6 = np.dot(d_h7, self.w4.T)\n",
        "        d_h5 = self.act_grad(self.h5) * d_h6\n",
        "        self.grads['w3'] = np.dot(self.h4.T, d_h5)\n",
        "        self.grads['b3'] = np.sum(d_h5, axis=0)\n",
        "\n",
        "        d_h4 = np.dot(d_h5, self.w3.T)\n",
        "        d_h3 = self.act_grad(self.h3) * d_h4\n",
        "        self.grads['w2'] = np.dot(self.h2.T, d_h3)\n",
        "        self.grads['b2'] = np.sum(d_h3, axis=0)\n",
        "\n",
        "        d_h2 = np.dot(d_h3, self.w2.T)\n",
        "        d_h1 = self.act_grad(self.h1) * d_h2\n",
        "        self.grads['w1'] = np.dot(x.T, d_h1)\n",
        "        self.grads['b1'] = np.sum(d_h1, axis=0)\n",
        "        \n",
        "    def update_parameters(self, lr=0.1):\n",
        "        self.w1 -= lr * self.grads['w1']\n",
        "        self.b1 -= lr * self.grads['b1']\n",
        "        self.w2 -= lr * self.grads['w2']\n",
        "        self.b2 -= lr * self.grads['b2']  \n",
        "        self.w3 -= lr * self.grads['w3']\n",
        "        self.b3 -= lr * self.grads['b3']\n",
        "        self.w4 -= lr * self.grads['w4']\n",
        "        self.b4 -= lr * self.grads['b4']  \n",
        "        self.w5 -= lr * self.grads['w5']\n",
        "        self.b5 -= lr * self.grads['b5']  \n",
        "        self.w6 -= lr * self.grads['w6']\n",
        "        self.b6 -= lr * self.grads['b6'] "
      ],
      "execution_count": 38,
      "outputs": []
    },
    {
      "cell_type": "markdown",
      "metadata": {
        "id": "F7alocwTLXh3"
      },
      "source": [
        "次に，Dropoutを適用する場合のネットワーク`MLPDropout`を定義します．\n",
        "\n",
        "\n",
        "`__init__`関数でネットワークの初期化を行う際に，`dropout_ratio`という変数を定義します．この変数によってdropoutを適用する割合(`0 ~ 1`)を指定します．\n",
        "\n",
        "そして，`forward`関数で，データを入力して結果を出力するための演算を定義します．\n",
        "ここでは最終層手前の全結合層後にdropoutを適用します．\n",
        "まず，Dropoutへ入力されるデータの配列のサイズを`_batch_size`, `_feature_dims`として取得します．\n",
        "そして，入力データの次元と同じサイズの乱数で初期化された配列を`np.random.rand`で生成し，`dropout_ratio`を閾値として，マスク`dropout_mask`を作成します．\n",
        "この時，`dropout_mask`の各要素には閾値処理により`[True, False]`が格納されています．\n",
        "そのマスクを入力データと掛けることで，`False`の部分の値が0となったデータを出力します．\n",
        "\n",
        "次に，`backward`関数ではパラメータの更新量を計算します．\n",
        "Dropout部分では，上の`forward`関数を計算する際に保存しておいた`self.dropout_mask`と勾配を掛け合わせることで，Dropoutを考慮した勾配を計算することができます．"
      ]
    },
    {
      "cell_type": "code",
      "metadata": {
        "id": "C2xSRwq4Ym7y"
      },
      "source": [
        "class MLPDropout:\n",
        "\n",
        "    def __init__(self, input_size, hidden_size, output_size, dropout_ratio=0.5, w_std=0.05):\n",
        "        self.w1 = w_std * np.random.randn(input_size, hidden_size)\n",
        "        self.b1 = np.zeros(hidden_size)\n",
        "        self.w2 = w_std * np.random.randn(hidden_size, hidden_size)\n",
        "        self.b2 = np.zeros(hidden_size)\n",
        "        self.w3 = w_std * np.random.randn(hidden_size, hidden_size)\n",
        "        self.b3 = np.zeros(hidden_size)\n",
        "        self.w4 = w_std * np.random.randn(hidden_size, hidden_size)\n",
        "        self.b4 = np.zeros(hidden_size)\n",
        "        self.w5 = w_std * np.random.randn(hidden_size, hidden_size)\n",
        "        self.b5 = np.zeros(hidden_size)\n",
        "        self.w6 = w_std * np.random.randn(hidden_size, output_size)\n",
        "        self.b6 = np.zeros(output_size)\n",
        "\n",
        "        self.act = relu\n",
        "        self.act_grad = relu_grad\n",
        "\n",
        "        # dropoutのパラメータ\n",
        "        self.dropout_ratio = dropout_ratio\n",
        "\n",
        "        self.grads = {}\n",
        "\n",
        "    def forward(self, x, train_mode=True):\n",
        "        self.h1 = np.dot(x, self.w1) + self.b1\n",
        "        self.h2 = self.act(self.h1)\n",
        "        self.h3 = np.dot(self.h2, self.w2) + self.b2\n",
        "        self.h4 = self.act(self.h3)\n",
        "        self.h5 = np.dot(self.h4, self.w3) + self.b3\n",
        "        self.h6 = self.act(self.h5)\n",
        "        self.h7 = np.dot(self.h6, self.w4) + self.b4\n",
        "        self.h8 = self.act(self.h7)\n",
        "        self.h9 = np.dot(self.h8, self.w5) + self.b5\n",
        "        self.h10 = self.act(self.h9)\n",
        "\n",
        "        # dropoutの適用 =============\n",
        "        if train_mode:\n",
        "          self.dropout_mask = np.random.rand(self.h10.shape[1]) > self.dropout_ratio\n",
        "          self.h_d = self.h10 * self.dropout_mask\n",
        "        else:\n",
        "          self.h_d = self.h10\n",
        "        # ==========================\n",
        "\n",
        "        self.h11 = np.dot(self.h_d, self.w6) + self.b6\n",
        "        self.y = softmax(self.h11)\n",
        "        return self.y\n",
        "\n",
        "    def backward(self, x, t):\n",
        "        batch_size = x.shape[0]\n",
        "        self.grads = {}\n",
        "        \n",
        "        t = np.identity(10)[t]\n",
        "        dy = (self.y - t) / batch_size\n",
        "        self.grads['w6'] = np.dot(self.h10.T, dy)\n",
        "        self.grads['b6'] = np.sum(dy, axis=0)\n",
        "\n",
        "        d_h_d = np.dot(dy, self.w6.T)\n",
        "\n",
        "        # dropout部分の勾配計算 ======\n",
        "        d_h10 = d_h_d * self.dropout_mask\n",
        "        # ==========================\n",
        "      \n",
        "        d_h9 = self.act_grad(self.h9) * d_h10\n",
        "        self.grads['w5'] = np.dot(self.h8.T, d_h9)\n",
        "        self.grads['b5'] = np.sum(d_h9, axis=0)\n",
        "        \n",
        "        d_h8 = np.dot(d_h9, self.w5.T)\n",
        "        d_h7 = self.act_grad(self.h7) * d_h8\n",
        "        self.grads['w4'] = np.dot(self.h6.T, d_h7)\n",
        "        self.grads['b4'] = np.sum(d_h7, axis=0)\n",
        "\n",
        "        d_h6 = np.dot(d_h7, self.w4.T)\n",
        "        d_h5 = self.act_grad(self.h5) * d_h6\n",
        "        self.grads['w3'] = np.dot(self.h4.T, d_h5)\n",
        "        self.grads['b3'] = np.sum(d_h5, axis=0)\n",
        "\n",
        "        d_h4 = np.dot(d_h5, self.w3.T)\n",
        "        d_h3 = self.act_grad(self.h3) * d_h4\n",
        "        self.grads['w2'] = np.dot(self.h2.T, d_h3)\n",
        "        self.grads['b2'] = np.sum(d_h3, axis=0)\n",
        "\n",
        "        d_h2 = np.dot(d_h3, self.w2.T)\n",
        "        d_h1 = self.act_grad(self.h1) * d_h2\n",
        "        self.grads['w1'] = np.dot(x.T, d_h1)\n",
        "        self.grads['b1'] = np.sum(d_h1, axis=0)\n",
        "        \n",
        "    def update_parameters(self, lr=0.1):\n",
        "        self.w1 -= lr * self.grads['w1']\n",
        "        self.b1 -= lr * self.grads['b1']\n",
        "        self.w2 -= lr * self.grads['w2']\n",
        "        self.b2 -= lr * self.grads['b2']  \n",
        "        self.w3 -= lr * self.grads['w3']\n",
        "        self.b3 -= lr * self.grads['b3']\n",
        "        self.w4 -= lr * self.grads['w4']\n",
        "        self.b4 -= lr * self.grads['b4']  \n",
        "        self.w5 -= lr * self.grads['w5']\n",
        "        self.b5 -= lr * self.grads['b5']  \n",
        "        self.w6 -= lr * self.grads['w6']\n",
        "        self.b6 -= lr * self.grads['b6'] "
      ],
      "execution_count": 39,
      "outputs": []
    },
    {
      "cell_type": "markdown",
      "metadata": {
        "id": "HaRjNUOo3_sb"
      },
      "source": [
        "## 学習\n",
        "サンプル数を削減したMNISTデータセットと作成したネットワークを用いて，２つのネットワークの学習を行います．\n",
        "\n",
        "まず，学習およびネットワークに関するパラメータを設定します．\n",
        "\n",
        "1回の誤差を算出するデータ数（ミニバッチサイズ）を100，学習エポック数を100とします．\n",
        "\n",
        "また，中間層と出力層のユニット数を定義します．\n",
        "ここでは，入力層のユニット数`input_size`を学習データの次元，中間層のユニット数`hidden_size`100`output_size`を10とします．"
      ]
    },
    {
      "cell_type": "code",
      "metadata": {
        "id": "_habzfG4fjk8"
      },
      "source": [
        "# 学習途中の精度を確認するための関数\n",
        "def multiclass_classification_accuracy(pred, true):\n",
        "    clf_res = np.argmax(pred, axis=1)\n",
        "    return np.sum(clf_res == true).astype(np.float32)\n",
        "\n",
        "# 学習中の誤差を確認するための関数\n",
        "def cross_entropy(y, t):\n",
        "    if y.ndim == 1:\n",
        "        t = t.reshape(1, t.size)\n",
        "        y = y.reshape(1, y.size)\n",
        "\n",
        "    # 教師データがone-hot-vectorの場合、正解ラベルのインデックスに変換\n",
        "    if t.size == y.size:\n",
        "        t = t.argmax(axis=1)\n",
        "\n",
        "    batch_size = y.shape[0]\n",
        "    return -np.sum(np.log(y[np.arange(batch_size), t] + 1e-7)) / batch_size\n",
        "\n",
        "# 学習パラメータ\n",
        "num_train_data = x_train.shape[0]\n",
        "num_test_data = x_test.shape[0]\n",
        "batch_size = 100\n",
        "epoch_num = 100\n",
        "learning_rate = 0.01\n",
        "\n",
        "# ネットワークのパラメータ\n",
        "input_size = x_train.shape[1]\n",
        "hidden_size = 100\n",
        "output_size = 10"
      ],
      "execution_count": 40,
      "outputs": []
    },
    {
      "cell_type": "markdown",
      "metadata": {
        "id": "DZchI6GMkotD"
      },
      "source": [
        "### Dropout無しのモデルの学習\n",
        "\n",
        "Dropout無しのネットワークモデルを学習します．\n",
        "上で定義したパラメータを使用して，ネットワーク`MLP`を初期化し，学習を行います．\n",
        "学習プログラムの詳細については前回までの資料を参照してください．"
      ]
    },
    {
      "cell_type": "code",
      "metadata": {
        "id": "r108LKmi3_sc",
        "outputId": "96377bfc-ca61-4e45-f92a-d22b382f532d",
        "colab": {
          "base_uri": "https://localhost:8080/",
          "height": 1000
        }
      },
      "source": [
        "model = MLP(input_size=input_size, hidden_size=hidden_size, output_size=output_size)\n",
        "\n",
        "epoch_list = []\n",
        "train_loss_list = []\n",
        "train_accuracy_list = []\n",
        "test_accuracy_list = []\n",
        "\n",
        "iteration = 0\n",
        "for epoch in range(1, epoch_num + 1):\n",
        "    sum_accuracy, sum_loss = 0.0, 0.0\n",
        "    perm = np.random.permutation(num_train_data)\n",
        "    for i in range(0, num_train_data, batch_size):\n",
        "        x_batch = x_train[perm[i:i+batch_size]]\n",
        "        y_batch = y_train[perm[i:i+batch_size]]\n",
        "        \n",
        "        y = model.forward(x_batch)\n",
        "        sum_accuracy += multiclass_classification_accuracy(y, y_batch)\n",
        "        sum_loss += cross_entropy(y, y_batch)\n",
        "        \n",
        "        model.backward(x_batch, y_batch)\n",
        "        model.update_parameters(lr=learning_rate)\n",
        "        iteration += 1\n",
        "\n",
        "    # テストデータに対する認識精度の計算\n",
        "    test_correct_count = 0\n",
        "    for i in range(num_test_data):\n",
        "        input = x_test[i:i+1]\n",
        "        label = y_test[i:i+1]\n",
        "        y = model.forward(input)\n",
        "        test_correct_count += multiclass_classification_accuracy(y, label)\n",
        "\n",
        "    # 学習途中のlossと精度の保存\n",
        "    epoch_list.append(epoch)\n",
        "    train_loss_list.append(sum_loss / num_train_data)\n",
        "    train_accuracy_list.append(sum_accuracy / num_train_data)\n",
        "    test_accuracy_list.append(test_correct_count / num_test_data)\n",
        "\n",
        "    print(\"epoch: {}, train loss: {}, train accuracy: {}, test accuracy: {}\".format(epoch,\n",
        "                                                               sum_loss / num_train_data,\n",
        "                                                               sum_accuracy / num_train_data,\n",
        "                                                               test_correct_count / num_test_data))"
      ],
      "execution_count": 41,
      "outputs": [
        {
          "output_type": "stream",
          "text": [
            "epoch: 1, train loss: 0.02260948883935741, train accuracy: 0.156, test accuracy: 0.243\n",
            "epoch: 2, train loss: 0.019928664533748267, train accuracy: 0.368, test accuracy: 0.3783\n",
            "epoch: 3, train loss: 0.017119327259380604, train accuracy: 0.496, test accuracy: 0.4706\n",
            "epoch: 4, train loss: 0.014090177712726595, train accuracy: 0.57, test accuracy: 0.5268\n",
            "epoch: 5, train loss: 0.012238403593336293, train accuracy: 0.578, test accuracy: 0.4858\n",
            "epoch: 6, train loss: 0.010833343327034745, train accuracy: 0.662, test accuracy: 0.5734\n",
            "epoch: 7, train loss: 0.0083812341154846, train accuracy: 0.756, test accuracy: 0.4928\n",
            "epoch: 8, train loss: 0.010236399276259517, train accuracy: 0.646, test accuracy: 0.6235\n",
            "epoch: 9, train loss: 0.006926773044852546, train accuracy: 0.782, test accuracy: 0.6762\n",
            "epoch: 10, train loss: 0.00508929455715821, train accuracy: 0.872, test accuracy: 0.7021\n",
            "epoch: 11, train loss: 0.007191087445291178, train accuracy: 0.764, test accuracy: 0.5725\n",
            "epoch: 12, train loss: 0.005549148101208786, train accuracy: 0.844, test accuracy: 0.6912\n",
            "epoch: 13, train loss: 0.00393125131782409, train accuracy: 0.884, test accuracy: 0.7204\n",
            "epoch: 14, train loss: 0.0030945030739701657, train accuracy: 0.912, test accuracy: 0.7227\n",
            "epoch: 15, train loss: 0.0033252761103407086, train accuracy: 0.896, test accuracy: 0.7297\n",
            "epoch: 16, train loss: 0.002916769567941338, train accuracy: 0.918, test accuracy: 0.7276\n",
            "epoch: 17, train loss: 0.002257951203504533, train accuracy: 0.94, test accuracy: 0.7486\n",
            "epoch: 18, train loss: 0.002035993179579085, train accuracy: 0.954, test accuracy: 0.7471\n",
            "epoch: 19, train loss: 0.0018640872015524782, train accuracy: 0.944, test accuracy: 0.7366\n",
            "epoch: 20, train loss: 0.0015417516068402693, train accuracy: 0.97, test accuracy: 0.7697\n",
            "epoch: 21, train loss: 0.0014223806391941438, train accuracy: 0.964, test accuracy: 0.7293\n",
            "epoch: 22, train loss: 0.001273407165307992, train accuracy: 0.97, test accuracy: 0.7666\n",
            "epoch: 23, train loss: 0.001052299404023554, train accuracy: 0.98, test accuracy: 0.7686\n",
            "epoch: 24, train loss: 0.0009064723644911607, train accuracy: 0.984, test accuracy: 0.768\n",
            "epoch: 25, train loss: 0.0007770460150729739, train accuracy: 0.994, test accuracy: 0.7744\n",
            "epoch: 26, train loss: 0.0007541702337929504, train accuracy: 0.992, test accuracy: 0.7685\n",
            "epoch: 27, train loss: 0.0006364144252109943, train accuracy: 0.994, test accuracy: 0.7771\n",
            "epoch: 28, train loss: 0.0005636309528853818, train accuracy: 0.996, test accuracy: 0.7739\n",
            "epoch: 29, train loss: 0.0005194097717401701, train accuracy: 0.996, test accuracy: 0.7704\n",
            "epoch: 30, train loss: 0.00046733725911627646, train accuracy: 0.996, test accuracy: 0.78\n",
            "epoch: 31, train loss: 0.0004337207315465321, train accuracy: 1.0, test accuracy: 0.7783\n",
            "epoch: 32, train loss: 0.00039005179776435765, train accuracy: 1.0, test accuracy: 0.7766\n",
            "epoch: 33, train loss: 0.00035688662424522577, train accuracy: 1.0, test accuracy: 0.775\n",
            "epoch: 34, train loss: 0.0003218255831706466, train accuracy: 1.0, test accuracy: 0.7769\n",
            "epoch: 35, train loss: 0.0003049767823509463, train accuracy: 1.0, test accuracy: 0.7815\n",
            "epoch: 36, train loss: 0.00027276322086428674, train accuracy: 1.0, test accuracy: 0.7792\n",
            "epoch: 37, train loss: 0.00024855086418033325, train accuracy: 1.0, test accuracy: 0.7801\n",
            "epoch: 38, train loss: 0.00023022548028108609, train accuracy: 1.0, test accuracy: 0.7837\n",
            "epoch: 39, train loss: 0.00021821478478417162, train accuracy: 1.0, test accuracy: 0.783\n",
            "epoch: 40, train loss: 0.00020138781364072175, train accuracy: 1.0, test accuracy: 0.7816\n",
            "epoch: 41, train loss: 0.0001936451786781698, train accuracy: 1.0, test accuracy: 0.7832\n",
            "epoch: 42, train loss: 0.000178677124305124, train accuracy: 1.0, test accuracy: 0.7848\n",
            "epoch: 43, train loss: 0.0001696865699637236, train accuracy: 1.0, test accuracy: 0.7832\n",
            "epoch: 44, train loss: 0.0001595244886236018, train accuracy: 1.0, test accuracy: 0.782\n",
            "epoch: 45, train loss: 0.00014869962848626219, train accuracy: 1.0, test accuracy: 0.7849\n",
            "epoch: 46, train loss: 0.0001422253915755514, train accuracy: 1.0, test accuracy: 0.784\n",
            "epoch: 47, train loss: 0.00013567285772587075, train accuracy: 1.0, test accuracy: 0.7856\n",
            "epoch: 48, train loss: 0.00013194412314699203, train accuracy: 1.0, test accuracy: 0.786\n",
            "epoch: 49, train loss: 0.00012295324072987505, train accuracy: 1.0, test accuracy: 0.7849\n",
            "epoch: 50, train loss: 0.00011765137646921835, train accuracy: 1.0, test accuracy: 0.7854\n",
            "epoch: 51, train loss: 0.00011173206300370502, train accuracy: 1.0, test accuracy: 0.7859\n",
            "epoch: 52, train loss: 0.00010864623735523004, train accuracy: 1.0, test accuracy: 0.7871\n",
            "epoch: 53, train loss: 0.00010540973070091292, train accuracy: 1.0, test accuracy: 0.7869\n",
            "epoch: 54, train loss: 0.00010161595393543648, train accuracy: 1.0, test accuracy: 0.7869\n",
            "epoch: 55, train loss: 9.617609494710337e-05, train accuracy: 1.0, test accuracy: 0.7862\n",
            "epoch: 56, train loss: 9.316807045106791e-05, train accuracy: 1.0, test accuracy: 0.786\n",
            "epoch: 57, train loss: 8.807321595042754e-05, train accuracy: 1.0, test accuracy: 0.7872\n",
            "epoch: 58, train loss: 8.613880820745689e-05, train accuracy: 1.0, test accuracy: 0.7871\n",
            "epoch: 59, train loss: 8.23835161023293e-05, train accuracy: 1.0, test accuracy: 0.7856\n",
            "epoch: 60, train loss: 7.97060792106203e-05, train accuracy: 1.0, test accuracy: 0.7872\n",
            "epoch: 61, train loss: 7.722604217436091e-05, train accuracy: 1.0, test accuracy: 0.7885\n",
            "epoch: 62, train loss: 7.51461987401947e-05, train accuracy: 1.0, test accuracy: 0.7871\n",
            "epoch: 63, train loss: 7.285504464252434e-05, train accuracy: 1.0, test accuracy: 0.7876\n",
            "epoch: 64, train loss: 7.056867859502771e-05, train accuracy: 1.0, test accuracy: 0.7889\n",
            "epoch: 65, train loss: 6.801610238728343e-05, train accuracy: 1.0, test accuracy: 0.7889\n",
            "epoch: 66, train loss: 6.615838363545004e-05, train accuracy: 1.0, test accuracy: 0.7884\n",
            "epoch: 67, train loss: 6.4099637011888e-05, train accuracy: 1.0, test accuracy: 0.7891\n",
            "epoch: 68, train loss: 6.302396437704638e-05, train accuracy: 1.0, test accuracy: 0.789\n",
            "epoch: 69, train loss: 6.071864999104657e-05, train accuracy: 1.0, test accuracy: 0.7896\n",
            "epoch: 70, train loss: 5.921541293348903e-05, train accuracy: 1.0, test accuracy: 0.7883\n",
            "epoch: 71, train loss: 5.79738346708341e-05, train accuracy: 1.0, test accuracy: 0.7884\n",
            "epoch: 72, train loss: 5.63188687304893e-05, train accuracy: 1.0, test accuracy: 0.7884\n",
            "epoch: 73, train loss: 5.4749085528003374e-05, train accuracy: 1.0, test accuracy: 0.7889\n",
            "epoch: 74, train loss: 5.3329560152993214e-05, train accuracy: 1.0, test accuracy: 0.7894\n",
            "epoch: 75, train loss: 5.1805637486122256e-05, train accuracy: 1.0, test accuracy: 0.79\n",
            "epoch: 76, train loss: 5.0565897240645484e-05, train accuracy: 1.0, test accuracy: 0.7904\n",
            "epoch: 77, train loss: 4.961303054495004e-05, train accuracy: 1.0, test accuracy: 0.7902\n",
            "epoch: 78, train loss: 4.8239354247740324e-05, train accuracy: 1.0, test accuracy: 0.7906\n",
            "epoch: 79, train loss: 4.734507678261765e-05, train accuracy: 1.0, test accuracy: 0.791\n",
            "epoch: 80, train loss: 4.633767365673701e-05, train accuracy: 1.0, test accuracy: 0.7901\n",
            "epoch: 81, train loss: 4.513254238421961e-05, train accuracy: 1.0, test accuracy: 0.79\n",
            "epoch: 82, train loss: 4.441499259408706e-05, train accuracy: 1.0, test accuracy: 0.7908\n",
            "epoch: 83, train loss: 4.3128843520918314e-05, train accuracy: 1.0, test accuracy: 0.7909\n",
            "epoch: 84, train loss: 4.246413940381762e-05, train accuracy: 1.0, test accuracy: 0.7912\n",
            "epoch: 85, train loss: 4.1422639994870126e-05, train accuracy: 1.0, test accuracy: 0.7902\n",
            "epoch: 86, train loss: 4.0340409477565763e-05, train accuracy: 1.0, test accuracy: 0.7901\n",
            "epoch: 87, train loss: 3.985088745516282e-05, train accuracy: 1.0, test accuracy: 0.7902\n",
            "epoch: 88, train loss: 3.9161204323805874e-05, train accuracy: 1.0, test accuracy: 0.7907\n",
            "epoch: 89, train loss: 3.8382807012471625e-05, train accuracy: 1.0, test accuracy: 0.79\n",
            "epoch: 90, train loss: 3.7813195556760935e-05, train accuracy: 1.0, test accuracy: 0.7898\n",
            "epoch: 91, train loss: 3.680620287506179e-05, train accuracy: 1.0, test accuracy: 0.7905\n",
            "epoch: 92, train loss: 3.633282136796695e-05, train accuracy: 1.0, test accuracy: 0.7901\n",
            "epoch: 93, train loss: 3.53958839356909e-05, train accuracy: 1.0, test accuracy: 0.7912\n",
            "epoch: 94, train loss: 3.4723465361164405e-05, train accuracy: 1.0, test accuracy: 0.7901\n",
            "epoch: 95, train loss: 3.4360687856222966e-05, train accuracy: 1.0, test accuracy: 0.7909\n",
            "epoch: 96, train loss: 3.360363830716097e-05, train accuracy: 1.0, test accuracy: 0.7907\n",
            "epoch: 97, train loss: 3.301623976532387e-05, train accuracy: 1.0, test accuracy: 0.7913\n",
            "epoch: 98, train loss: 3.2344216542475676e-05, train accuracy: 1.0, test accuracy: 0.7906\n",
            "epoch: 99, train loss: 3.178472606876747e-05, train accuracy: 1.0, test accuracy: 0.7911\n",
            "epoch: 100, train loss: 3.1563602590911844e-05, train accuracy: 1.0, test accuracy: 0.7903\n"
          ],
          "name": "stdout"
        }
      ]
    },
    {
      "cell_type": "markdown",
      "metadata": {
        "id": "X2Vs2N4Qksl_"
      },
      "source": [
        "### Dropoutありのモデルの学習\n",
        "\n",
        "次にDropoutありのネットワークモデルの学習を行います．\n",
        "この時，Dropoutの割合`dropout_ratio`を`0.5`に設定します．\n",
        "\n",
        "テストデータの認識精度を計算する際は，Dropoutの適用を行わないようにするために，\n",
        "`train_mode=False`と指定することに注意してください．"
      ]
    },
    {
      "cell_type": "code",
      "metadata": {
        "id": "Gwd7lFWqfqsi",
        "outputId": "c05ddd52-d12b-41f2-8108-b0e97d9123dd",
        "colab": {
          "base_uri": "https://localhost:8080/",
          "height": 1000
        }
      },
      "source": [
        "model_dout = MLPDropout(input_size=input_size, hidden_size=hidden_size, output_size=output_size, dropout_ratio=0.5)\n",
        "\n",
        "epoch_list_dout = []\n",
        "train_loss_list_dout = []\n",
        "train_accuracy_list_dout = []\n",
        "test_accuracy_list_dout = []\n",
        "\n",
        "iteration = 0\n",
        "for epoch in range(1, epoch_num + 1):\n",
        "    sum_accuracy, sum_loss = 0.0, 0.0\n",
        "    perm = np.random.permutation(num_train_data)\n",
        "    for i in range(0, num_train_data, batch_size):\n",
        "        x_batch = x_train[perm[i:i+batch_size]]\n",
        "        y_batch = y_train[perm[i:i+batch_size]]\n",
        "        \n",
        "        y = model_dout.forward(x_batch)\n",
        "        sum_accuracy += multiclass_classification_accuracy(y, y_batch)\n",
        "        sum_loss += cross_entropy(y, y_batch)\n",
        "        \n",
        "        model_dout.backward(x_batch, y_batch)\n",
        "        model_dout.update_parameters(lr=learning_rate)\n",
        "        iteration += 1\n",
        "\n",
        "    # テストデータに対する認識精度の計算\n",
        "    test_correct_count = 0\n",
        "    for i in range(num_test_data):\n",
        "        input = x_test[i:i+1]\n",
        "        label = y_test[i:i+1]\n",
        "        y = model_dout.forward(input, train_mode=False)\n",
        "        test_correct_count += multiclass_classification_accuracy(y, label)\n",
        "\n",
        "    # 学習途中のlossと精度の保存\n",
        "    epoch_list_dout.append(epoch)\n",
        "    train_loss_list_dout.append(sum_loss / num_train_data)\n",
        "    train_accuracy_list_dout.append(sum_accuracy / num_train_data)\n",
        "    test_accuracy_list_dout.append(test_correct_count / num_test_data)\n",
        "\n",
        "    print(\"epoch: {}, train loss: {}, train accuracy: {}, test accuracy: {}\".format(epoch,\n",
        "                                                               sum_loss / num_train_data,\n",
        "                                                               sum_accuracy / num_train_data,\n",
        "                                                               test_correct_count / num_test_data))"
      ],
      "execution_count": 42,
      "outputs": [
        {
          "output_type": "stream",
          "text": [
            "epoch: 1, train loss: 0.023301208426141463, train accuracy: 0.13, test accuracy: 0.1797\n",
            "epoch: 2, train loss: 0.022550455043493883, train accuracy: 0.138, test accuracy: 0.2461\n",
            "epoch: 3, train loss: 0.02198679968289713, train accuracy: 0.184, test accuracy: 0.344\n",
            "epoch: 4, train loss: 0.020608323688297906, train accuracy: 0.266, test accuracy: 0.4412\n",
            "epoch: 5, train loss: 0.01972716749149409, train accuracy: 0.338, test accuracy: 0.481\n",
            "epoch: 6, train loss: 0.019508327499486913, train accuracy: 0.364, test accuracy: 0.4336\n",
            "epoch: 7, train loss: 0.017389242592057222, train accuracy: 0.514, test accuracy: 0.4847\n",
            "epoch: 8, train loss: 0.016663213398182615, train accuracy: 0.464, test accuracy: 0.4972\n",
            "epoch: 9, train loss: 0.01446480466830221, train accuracy: 0.534, test accuracy: 0.5386\n",
            "epoch: 10, train loss: 0.013755222669928369, train accuracy: 0.57, test accuracy: 0.5651\n",
            "epoch: 11, train loss: 0.012567302483131433, train accuracy: 0.618, test accuracy: 0.5464\n",
            "epoch: 12, train loss: 0.013310404183897227, train accuracy: 0.58, test accuracy: 0.6351\n",
            "epoch: 13, train loss: 0.01592798928886749, train accuracy: 0.426, test accuracy: 0.5077\n",
            "epoch: 14, train loss: 0.011140035103686175, train accuracy: 0.664, test accuracy: 0.6455\n",
            "epoch: 15, train loss: 0.009978327166928083, train accuracy: 0.702, test accuracy: 0.6771\n",
            "epoch: 16, train loss: 0.009541188956293887, train accuracy: 0.708, test accuracy: 0.6627\n",
            "epoch: 17, train loss: 0.00683021798775197, train accuracy: 0.788, test accuracy: 0.6834\n",
            "epoch: 18, train loss: 0.00841124952632846, train accuracy: 0.718, test accuracy: 0.6019\n",
            "epoch: 19, train loss: 0.009478593589562047, train accuracy: 0.68, test accuracy: 0.6726\n",
            "epoch: 20, train loss: 0.006301864570028307, train accuracy: 0.798, test accuracy: 0.6931\n",
            "epoch: 21, train loss: 0.006296877837448318, train accuracy: 0.774, test accuracy: 0.7269\n",
            "epoch: 22, train loss: 0.006727916718902175, train accuracy: 0.786, test accuracy: 0.6983\n",
            "epoch: 23, train loss: 0.006918223861071377, train accuracy: 0.774, test accuracy: 0.6416\n",
            "epoch: 24, train loss: 0.005008403658586523, train accuracy: 0.86, test accuracy: 0.7564\n",
            "epoch: 25, train loss: 0.0048358002904325265, train accuracy: 0.846, test accuracy: 0.7588\n",
            "epoch: 26, train loss: 0.004802840121781533, train accuracy: 0.852, test accuracy: 0.7531\n",
            "epoch: 27, train loss: 0.004732935696271887, train accuracy: 0.86, test accuracy: 0.7111\n",
            "epoch: 28, train loss: 0.005060088358240529, train accuracy: 0.844, test accuracy: 0.7257\n",
            "epoch: 29, train loss: 0.003808616452947988, train accuracy: 0.894, test accuracy: 0.77\n",
            "epoch: 30, train loss: 0.003589376314902716, train accuracy: 0.876, test accuracy: 0.7065\n",
            "epoch: 31, train loss: 0.004501697922609208, train accuracy: 0.874, test accuracy: 0.7863\n",
            "epoch: 32, train loss: 0.003448883891423729, train accuracy: 0.912, test accuracy: 0.7757\n",
            "epoch: 33, train loss: 0.0031093988087635997, train accuracy: 0.908, test accuracy: 0.7639\n",
            "epoch: 34, train loss: 0.0031520180305655023, train accuracy: 0.902, test accuracy: 0.7987\n",
            "epoch: 35, train loss: 0.002619014826850134, train accuracy: 0.922, test accuracy: 0.7762\n",
            "epoch: 36, train loss: 0.0033943530364300358, train accuracy: 0.9, test accuracy: 0.8044\n",
            "epoch: 37, train loss: 0.002046970109017132, train accuracy: 0.962, test accuracy: 0.7921\n",
            "epoch: 38, train loss: 0.0034796392479224583, train accuracy: 0.874, test accuracy: 0.7726\n",
            "epoch: 39, train loss: 0.003003858193440739, train accuracy: 0.9, test accuracy: 0.7648\n",
            "epoch: 40, train loss: 0.002396346879526515, train accuracy: 0.938, test accuracy: 0.8011\n",
            "epoch: 41, train loss: 0.0017181779126024292, train accuracy: 0.964, test accuracy: 0.8001\n",
            "epoch: 42, train loss: 0.0019825356566725207, train accuracy: 0.962, test accuracy: 0.8106\n",
            "epoch: 43, train loss: 0.0015964472656318492, train accuracy: 0.96, test accuracy: 0.7914\n",
            "epoch: 44, train loss: 0.002001724034087043, train accuracy: 0.926, test accuracy: 0.8114\n",
            "epoch: 45, train loss: 0.0017119316176144096, train accuracy: 0.946, test accuracy: 0.7797\n",
            "epoch: 46, train loss: 0.00218461570151342, train accuracy: 0.93, test accuracy: 0.8019\n",
            "epoch: 47, train loss: 0.001052476597653992, train accuracy: 0.976, test accuracy: 0.8157\n",
            "epoch: 48, train loss: 0.0012241399843101704, train accuracy: 0.968, test accuracy: 0.8245\n",
            "epoch: 49, train loss: 0.0008979570650543235, train accuracy: 0.978, test accuracy: 0.8226\n",
            "epoch: 50, train loss: 0.0013323746464440106, train accuracy: 0.958, test accuracy: 0.8157\n",
            "epoch: 51, train loss: 0.001142043085713548, train accuracy: 0.97, test accuracy: 0.804\n",
            "epoch: 52, train loss: 0.0013448059837343897, train accuracy: 0.964, test accuracy: 0.8145\n",
            "epoch: 53, train loss: 0.0012149796231518543, train accuracy: 0.964, test accuracy: 0.796\n",
            "epoch: 54, train loss: 0.0012965900688269374, train accuracy: 0.95, test accuracy: 0.8092\n",
            "epoch: 55, train loss: 0.0011610067561308617, train accuracy: 0.972, test accuracy: 0.8148\n",
            "epoch: 56, train loss: 0.0006721325009303723, train accuracy: 0.986, test accuracy: 0.8018\n",
            "epoch: 57, train loss: 0.0014264390050756095, train accuracy: 0.96, test accuracy: 0.8027\n",
            "epoch: 58, train loss: 0.000959136280245443, train accuracy: 0.97, test accuracy: 0.8216\n",
            "epoch: 59, train loss: 0.0007164163408625621, train accuracy: 0.99, test accuracy: 0.8156\n",
            "epoch: 60, train loss: 0.0011853485143252416, train accuracy: 0.956, test accuracy: 0.8139\n",
            "epoch: 61, train loss: 0.0005405161998076183, train accuracy: 0.982, test accuracy: 0.8153\n",
            "epoch: 62, train loss: 0.0007595800751874082, train accuracy: 0.988, test accuracy: 0.8223\n",
            "epoch: 63, train loss: 0.001173804149291684, train accuracy: 0.98, test accuracy: 0.7995\n",
            "epoch: 64, train loss: 0.0004096159869700133, train accuracy: 0.998, test accuracy: 0.823\n",
            "epoch: 65, train loss: 0.0006770932096391814, train accuracy: 0.984, test accuracy: 0.8198\n",
            "epoch: 66, train loss: 0.0009212099582186075, train accuracy: 0.976, test accuracy: 0.8191\n",
            "epoch: 67, train loss: 0.0006864697507798543, train accuracy: 0.982, test accuracy: 0.8238\n",
            "epoch: 68, train loss: 0.0003781417043486086, train accuracy: 0.994, test accuracy: 0.8212\n",
            "epoch: 69, train loss: 0.0005250088334959, train accuracy: 0.992, test accuracy: 0.8128\n",
            "epoch: 70, train loss: 0.0005066513390290721, train accuracy: 0.98, test accuracy: 0.8284\n",
            "epoch: 71, train loss: 0.0007130627436348915, train accuracy: 0.982, test accuracy: 0.824\n",
            "epoch: 72, train loss: 0.00033745839818907764, train accuracy: 0.994, test accuracy: 0.8283\n",
            "epoch: 73, train loss: 0.0034309019582660703, train accuracy: 0.892, test accuracy: 0.7536\n",
            "epoch: 74, train loss: 0.0011360945504411532, train accuracy: 0.964, test accuracy: 0.8241\n",
            "epoch: 75, train loss: 0.00039711136283312944, train accuracy: 0.996, test accuracy: 0.8266\n",
            "epoch: 76, train loss: 0.000535667130706283, train accuracy: 0.984, test accuracy: 0.8258\n",
            "epoch: 77, train loss: 0.0009939890164141214, train accuracy: 0.972, test accuracy: 0.824\n",
            "epoch: 78, train loss: 0.00039414650337981716, train accuracy: 0.994, test accuracy: 0.8176\n",
            "epoch: 79, train loss: 0.000413534056822075, train accuracy: 0.99, test accuracy: 0.8268\n",
            "epoch: 80, train loss: 0.0004929990722649505, train accuracy: 0.99, test accuracy: 0.8267\n",
            "epoch: 81, train loss: 0.00021626825503788982, train accuracy: 0.998, test accuracy: 0.8294\n",
            "epoch: 82, train loss: 0.0002442316706279469, train accuracy: 0.996, test accuracy: 0.8316\n",
            "epoch: 83, train loss: 0.00012304052295969585, train accuracy: 1.0, test accuracy: 0.8321\n",
            "epoch: 84, train loss: 0.00036194182681468053, train accuracy: 0.994, test accuracy: 0.8355\n",
            "epoch: 85, train loss: 0.0003759673853518959, train accuracy: 0.994, test accuracy: 0.8257\n",
            "epoch: 86, train loss: 0.00025669263385486935, train accuracy: 0.994, test accuracy: 0.8322\n",
            "epoch: 87, train loss: 0.00027204968625375837, train accuracy: 0.998, test accuracy: 0.8324\n",
            "epoch: 88, train loss: 0.00013579721065334243, train accuracy: 1.0, test accuracy: 0.8278\n",
            "epoch: 89, train loss: 0.00024224118194076725, train accuracy: 0.998, test accuracy: 0.8317\n",
            "epoch: 90, train loss: 0.00015066417833384276, train accuracy: 0.998, test accuracy: 0.8306\n",
            "epoch: 91, train loss: 0.00021899715122720618, train accuracy: 0.998, test accuracy: 0.8304\n",
            "epoch: 92, train loss: 0.00018056539952287213, train accuracy: 1.0, test accuracy: 0.8284\n",
            "epoch: 93, train loss: 0.0003051764257416694, train accuracy: 0.996, test accuracy: 0.8283\n",
            "epoch: 94, train loss: 0.00022810412361201228, train accuracy: 0.994, test accuracy: 0.8246\n",
            "epoch: 95, train loss: 7.646901187586477e-05, train accuracy: 1.0, test accuracy: 0.8316\n",
            "epoch: 96, train loss: 0.0004685084852060156, train accuracy: 0.99, test accuracy: 0.829\n",
            "epoch: 97, train loss: 0.00022598455011205564, train accuracy: 0.996, test accuracy: 0.8325\n",
            "epoch: 98, train loss: 0.00035007364216607716, train accuracy: 0.996, test accuracy: 0.8363\n",
            "epoch: 99, train loss: 0.00010496090149886911, train accuracy: 1.0, test accuracy: 0.838\n",
            "epoch: 100, train loss: 0.00024309432212065552, train accuracy: 1.0, test accuracy: 0.8344\n"
          ],
          "name": "stdout"
        }
      ]
    },
    {
      "cell_type": "markdown",
      "metadata": {
        "id": "oMXfb7CgkY2_"
      },
      "source": [
        "## 学習推移のグラフ化\n",
        "\n",
        "最後に2つのネットワークの学習推移を一つのグラフにまとめてプロットすることで，違いを確認します．\n"
      ]
    },
    {
      "cell_type": "code",
      "metadata": {
        "id": "614eAQzhgQHI",
        "outputId": "0459799c-c296-4c97-dfa8-4aef45ae99e7",
        "colab": {
          "base_uri": "https://localhost:8080/",
          "height": 541
        }
      },
      "source": [
        "plt.figure()\n",
        "plt.plot(epoch_list, train_loss_list, label='train loss')\n",
        "plt.plot(epoch_list_dout, train_loss_list_dout, label='train loss (w/ dout)')\n",
        "plt.xlabel(\"epoch\")     # x軸ラベル\n",
        "plt.ylabel(\"loss\")      # y軸ラベル\n",
        "plt.legend()            # 凡例\n",
        "plt.show()\n",
        "\n",
        "plt.figure()\n",
        "plt.plot(epoch_list, train_accuracy_list, label='train accuracy')\n",
        "plt.plot(epoch_list, test_accuracy_list, label='test accuracy')\n",
        "plt.plot(epoch_list_dout, train_accuracy_list_dout, label='train accuracy (w/ dropout)')\n",
        "plt.plot(epoch_list_dout, test_accuracy_list_dout, label='test accuracy (w/ dout)')\n",
        "plt.xlabel(\"epoch\")     # x軸ラベル\n",
        "plt.ylabel(\"accuracy\")  # y軸ラベル\n",
        "plt.legend()            # 凡例\n",
        "plt.show()\n"
      ],
      "execution_count": 43,
      "outputs": [
        {
          "output_type": "display_data",
          "data": {
            "image/png": "[encoded data removed]",
            "text/plain": [
              "<Figure size 432x288 with 1 Axes>"
            ]
          },
          "metadata": {
            "tags": [],
            "needs_background": "light"
          }
        },
        {
          "output_type": "display_data",
          "data": {
            "image/png": "[encoded data removed]",
            "text/plain": [
              "<Figure size 432x288 with 1 Axes>"
            ]
          },
          "metadata": {
            "tags": [],
            "needs_background": "light"
          }
        }
      ]
    },
    {
      "cell_type": "markdown",
      "metadata": {
        "id": "XJiDB3Is3_sf"
      },
      "source": [
        "## 課題\n",
        "1. ドロップアウト率を変化させて学習推移と認識率の変化について確認しよう"
      ]
    }
  ]
}