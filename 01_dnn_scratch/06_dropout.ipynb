{
  "nbformat": 4,
  "nbformat_minor": 0,
  "metadata": {
    "kernelspec": {
      "display_name": "Python 3",
      "language": "python",
      "name": "python3"
    },
    "language_info": {
      "codemirror_mode": {
        "name": "ipython",
        "version": 3
      },
      "file_extension": ".py",
      "mimetype": "text/x-python",
      "name": "python",
      "nbconvert_exporter": "python",
      "pygments_lexer": "ipython3",
      "version": "3.5.2"
    },
    "colab": {
      "name": "06_dropout.ipynb",
      "provenance": [],
      "collapsed_sections": []
    }
  },
  "cells": [
    {
      "cell_type": "markdown",
      "metadata": {
        "id": "VQEJLU_C3_sL"
      },
      "source": [
        "# 06：正則化（Dropout）\n",
        "\n",
        "---\n",
        "## 目的\n",
        "多層パーセプトロン (Multi Layer Perceptoron; MLP) を用いたMNISTデータセットの認識において，ネットワークの正則化（Dropout）について理解する．\n",
        "\n",
        "## モジュールのインポート\n",
        "プログラムの実行に必要なモジュールをインポートします．"
      ]
    },
    {
      "cell_type": "code",
      "metadata": {
        "id": "7vZoiRR03_sL"
      },
      "source": [
        "import numpy as np\n",
        "import matplotlib.pyplot as plt\n",
        "import gzip"
      ],
      "execution_count": null,
      "outputs": []
    },
    {
      "cell_type": "markdown",
      "metadata": {
        "id": "5VIul2gL3_sO"
      },
      "source": [
        "## データセットのダウンロードと読み込みと学習サンプルの削減\n",
        "\n",
        "\n",
        "まずはじめに，`wget`コマンドを使用して，MNISTデータセットをダウンロードします．"
      ]
    },
    {
      "cell_type": "code",
      "metadata": {
        "id": "8DDcpz6P3_sO"
      },
      "source": [
        "!wget -q http://yann.lecun.com/exdb/mnist/train-images-idx3-ubyte.gz -O train-images-idx3-ubyte.gz\n",
        "!wget -q http://yann.lecun.com/exdb/mnist/train-labels-idx1-ubyte.gz -O train-labels-idx1-ubyte.gz\n",
        "!wget -q http://yann.lecun.com/exdb/mnist/t10k-images-idx3-ubyte.gz -O t10k-images-idx3-ubyte.gz\n",
        "!wget -q http://yann.lecun.com/exdb/mnist/t10k-labels-idx1-ubyte.gz -O t10k-labels-idx1-ubyte.gz"
      ],
      "execution_count": 11,
      "outputs": []
    },
    {
      "cell_type": "markdown",
      "metadata": {
        "id": "6RXTzEns3_sQ"
      },
      "source": [
        "次に，ダウンロードしたファイルからデータを読み込みます．詳細は前回までのプログラムを確認してください．\n",
        "\n",
        "\n",
        "ここで，学習データを削減します．\n",
        "今回は500サンプルになるように，先頭から500個の学習データとラベルを取得します．"
      ]
    },
    {
      "cell_type": "code",
      "metadata": {
        "id": "qGEMFDLI3_sR",
        "outputId": "fa8d4fc6-11bb-4bcd-e6b9-8ae3f5746a82",
        "colab": {
          "base_uri": "https://localhost:8080/",
          "height": 72
        }
      },
      "source": [
        "# load images\n",
        "with gzip.open('train-images-idx3-ubyte.gz', 'rb') as f:\n",
        "    x_train = np.frombuffer(f.read(), np.uint8, offset=16)\n",
        "x_train = x_train.reshape(-1, 784)\n",
        "\n",
        "with gzip.open('t10k-images-idx3-ubyte.gz', 'rb') as f:\n",
        "    x_test = np.frombuffer(f.read(), np.uint8, offset=16)\n",
        "x_test = x_test.reshape(-1, 784)\n",
        "\n",
        "with gzip.open('train-labels-idx1-ubyte.gz', 'rb') as f:\n",
        "    y_train = np.frombuffer(f.read(), np.uint8, offset=8)\n",
        "\n",
        "with gzip.open('t10k-labels-idx1-ubyte.gz', 'rb') as f:\n",
        "    y_test = np.frombuffer(f.read(), np.uint8, offset=8)\n",
        "\n",
        "# 学習サンプルの削減\n",
        "x_train = x_train[0:500, :]\n",
        "y_train = y_train[0:500]\n",
        "\n",
        "print(x_train.shape, y_train.shape)\n",
        "print(x_test.shape, y_test.shape)"
      ],
      "execution_count": 12,
      "outputs": [
        {
          "output_type": "stream",
          "text": [
            "(500, 784) (500,)\n",
            "(10000, 784) (10000,)\n"
          ],
          "name": "stdout"
        }
      ]
    },
    {
      "cell_type": "markdown",
      "metadata": {
        "id": "qlOaqBgd3_sV"
      },
      "source": [
        "## ネットワークモデルの定義\n",
        "次に，ニューラルネットワーク（多層パーセプトロン）を定義します．\n",
        "\n",
        "まずはじめに，ネットワークの定義に必要な関数を定義します．"
      ]
    },
    {
      "cell_type": "code",
      "metadata": {
        "id": "cVfJLTjw3_sV"
      },
      "source": [
        "def sigmoid(x):\n",
        "    return 1 / (1 + np.exp(-x))\n",
        "\n",
        "def sigmoid_grad(x):\n",
        "    return (1.0 - sigmoid(x)) * sigmoid(x)\n",
        "\n",
        "def relu(x):\n",
        "    return np.maximum(0, x)\n",
        "\n",
        "def relu_grad(x):\n",
        "    grad = np.zeros(x.shape)\n",
        "    grad[x > 0] = 1\n",
        "    return grad\n",
        "\n",
        "def softmax(x):\n",
        "    if x.ndim == 2:\n",
        "        x = x.T\n",
        "        y = np.exp(x) / np.sum(np.exp(x), axis=0)\n",
        "        return y.T \n",
        "    else:\n",
        "        return np.exp(x) / np.sum(np.exp(x))"
      ],
      "execution_count": 13,
      "outputs": []
    },
    {
      "cell_type": "markdown",
      "metadata": {
        "id": "PkdkqRjq3_sX"
      },
      "source": [
        "次に，上で定義した関数を用いてネットワークを定義します．\n",
        "ここでは，Dropoutを適用する場合としない場合の2種類の7層の多層パーセプトロンを定義します．\n",
        "\n",
        "まず，Dropoutを適用しないネットワーク`MLP`を定義します．詳細については前回までの資料を確認してください．\n"
      ]
    },
    {
      "cell_type": "code",
      "metadata": {
        "id": "VC4dXsRSPp6A"
      },
      "source": [
        "class MLP:\n",
        "\n",
        "    def __init__(self, input_size, hidden_size, output_size, w_std=0.05):\n",
        "        self.w1 = w_std * np.random.randn(input_size, hidden_size)\n",
        "        self.b1 = np.zeros(hidden_size)\n",
        "        self.w2 = w_std * np.random.randn(hidden_size, hidden_size)\n",
        "        self.b2 = np.zeros(hidden_size)\n",
        "        self.w3 = w_std * np.random.randn(hidden_size, hidden_size)\n",
        "        self.b3 = np.zeros(hidden_size)\n",
        "        self.w4 = w_std * np.random.randn(hidden_size, hidden_size)\n",
        "        self.b4 = np.zeros(hidden_size)\n",
        "        self.w5 = w_std * np.random.randn(hidden_size, hidden_size)\n",
        "        self.b5 = np.zeros(hidden_size)\n",
        "        self.w6 = w_std * np.random.randn(hidden_size, output_size)\n",
        "        self.b6 = np.zeros(output_size)\n",
        "\n",
        "        self.act = relu\n",
        "        self.act_grad = relu_grad\n",
        "\n",
        "        self.grads = {}\n",
        "\n",
        "    def forward(self, x, train_mode=False):\n",
        "        self.h1 = np.dot(x, self.w1) + self.b1\n",
        "        self.h2 = self.act(self.h1)\n",
        "        self.h3 = np.dot(self.h2, self.w2) + self.b2\n",
        "        self.h4 = self.act(self.h3)\n",
        "        self.h5 = np.dot(self.h4, self.w3) + self.b3\n",
        "        self.h6 = self.act(self.h5)\n",
        "        self.h7 = np.dot(self.h6, self.w4) + self.b4\n",
        "        self.h8 = self.act(self.h7)\n",
        "        self.h9 = np.dot(self.h8, self.w5) + self.b5\n",
        "        self.h10 = self.act(self.h9)\n",
        "        self.h11 = np.dot(self.h10, self.w6) + self.b6\n",
        "        self.y = softmax(self.h11)\n",
        "        return self.y\n",
        "\n",
        "    def backward(self, x, t):\n",
        "        batch_size = x.shape[0]\n",
        "        self.grads = {}\n",
        "        \n",
        "        t = np.identity(10)[t]\n",
        "        dy = (self.y - t) / batch_size\n",
        "        self.grads['w6'] = np.dot(self.h10.T, dy)\n",
        "        self.grads['b6'] = np.sum(dy, axis=0)\n",
        "\n",
        "        d_h10 = np.dot(dy, self.w6.T)\n",
        "        d_h9 = self.act_grad(self.h9) * d_h10\n",
        "        self.grads['w5'] = np.dot(self.h8.T, d_h9)\n",
        "        self.grads['b5'] = np.sum(d_h9, axis=0)\n",
        "        \n",
        "        d_h8 = np.dot(d_h9, self.w5.T)\n",
        "        d_h7 = self.act_grad(self.h7) * d_h8\n",
        "        self.grads['w4'] = np.dot(self.h6.T, d_h7)\n",
        "        self.grads['b4'] = np.sum(d_h7, axis=0)\n",
        "\n",
        "        d_h6 = np.dot(d_h7, self.w4.T)\n",
        "        d_h5 = self.act_grad(self.h5) * d_h6\n",
        "        self.grads['w3'] = np.dot(self.h4.T, d_h5)\n",
        "        self.grads['b3'] = np.sum(d_h5, axis=0)\n",
        "\n",
        "        d_h4 = np.dot(d_h5, self.w3.T)\n",
        "        d_h3 = self.act_grad(self.h3) * d_h4\n",
        "        self.grads['w2'] = np.dot(self.h2.T, d_h3)\n",
        "        self.grads['b2'] = np.sum(d_h3, axis=0)\n",
        "\n",
        "        d_h2 = np.dot(d_h3, self.w2.T)\n",
        "        d_h1 = self.act_grad(self.h1) * d_h2\n",
        "        self.grads['w1'] = np.dot(x.T, d_h1)\n",
        "        self.grads['b1'] = np.sum(d_h1, axis=0)\n",
        "        \n",
        "    def update_parameters(self, lr=0.1):\n",
        "        self.w1 -= lr * self.grads['w1']\n",
        "        self.b1 -= lr * self.grads['b1']\n",
        "        self.w2 -= lr * self.grads['w2']\n",
        "        self.b2 -= lr * self.grads['b2']  \n",
        "        self.w3 -= lr * self.grads['w3']\n",
        "        self.b3 -= lr * self.grads['b3']\n",
        "        self.w4 -= lr * self.grads['w4']\n",
        "        self.b4 -= lr * self.grads['b4']  \n",
        "        self.w5 -= lr * self.grads['w5']\n",
        "        self.b5 -= lr * self.grads['b5']  \n",
        "        self.w6 -= lr * self.grads['w6']\n",
        "        self.b6 -= lr * self.grads['b6'] "
      ],
      "execution_count": 14,
      "outputs": []
    },
    {
      "cell_type": "markdown",
      "metadata": {
        "id": "F7alocwTLXh3"
      },
      "source": [
        "次に，Dropoutを適用する場合のネットワーク`MLPDropout`を定義します．\n",
        "\n",
        "\n",
        "`__init__`関数でネットワークの初期化を行う際に，`dropout_ratio`という変数を定義します．この変数によってdropoutを適用する割合(`0 ~ 1`)を指定します．\n",
        "\n",
        "そして，`forward`関数で，データを入力して結果を出力するための演算を定義します．\n",
        "ここでは最終層手前の全結合層後にdropoutを適用します．\n",
        "まず，Dropoutへ入力されるデータの配列のサイズを`_batch_size`, `_feature_dims`として取得します．\n",
        "そして，入力データの次元と同じサイズの乱数で初期化された配列を`np.random.rand`で生成し，`dropout_ratio`を閾値として，マスク`dropout_mask`を作成します．\n",
        "この時，`dropout_mask`の各要素には閾値処理により`[True, False]`が格納されています．\n",
        "そのマスクを入力データと掛けることで，`False`の部分の値が0となったデータを出力します．\n",
        "\n",
        "次に，`backward`関数ではパラメータの更新量を計算します．\n",
        "Dropout部分では，上の`forward`関数を計算する際に保存しておいた`self.dropout_mask`と勾配を掛け合わせることで，Dropoutを考慮した勾配を計算することができます．"
      ]
    },
    {
      "cell_type": "code",
      "metadata": {
        "id": "C2xSRwq4Ym7y"
      },
      "source": [
        "class MLPDropout:\n",
        "\n",
        "    def __init__(self, input_size, hidden_size, output_size, dropout_ratio=0.5, w_std=0.05):\n",
        "        self.w1 = w_std * np.random.randn(input_size, hidden_size)\n",
        "        self.b1 = np.zeros(hidden_size)\n",
        "        self.w2 = w_std * np.random.randn(hidden_size, hidden_size)\n",
        "        self.b2 = np.zeros(hidden_size)\n",
        "        self.w3 = w_std * np.random.randn(hidden_size, hidden_size)\n",
        "        self.b3 = np.zeros(hidden_size)\n",
        "        self.w4 = w_std * np.random.randn(hidden_size, hidden_size)\n",
        "        self.b4 = np.zeros(hidden_size)\n",
        "        self.w5 = w_std * np.random.randn(hidden_size, hidden_size)\n",
        "        self.b5 = np.zeros(hidden_size)\n",
        "        self.w6 = w_std * np.random.randn(hidden_size, output_size)\n",
        "        self.b6 = np.zeros(output_size)\n",
        "\n",
        "        self.act = relu\n",
        "        self.act_grad = relu_grad\n",
        "\n",
        "        # dropoutのパラメータ\n",
        "        self.dropout_ratio = dropout_ratio\n",
        "\n",
        "        self.grads = {}\n",
        "\n",
        "    def forward(self, x, train_mode=True):\n",
        "        self.h1 = np.dot(x, self.w1) + self.b1\n",
        "        self.h2 = self.act(self.h1)\n",
        "        self.h3 = np.dot(self.h2, self.w2) + self.b2\n",
        "        self.h4 = self.act(self.h3)\n",
        "        self.h5 = np.dot(self.h4, self.w3) + self.b3\n",
        "        self.h6 = self.act(self.h5)\n",
        "        self.h7 = np.dot(self.h6, self.w4) + self.b4\n",
        "        self.h8 = self.act(self.h7)\n",
        "\n",
        "        # dropoutの適用 =============\n",
        "        if train_mode:\n",
        "          self.dropout_mask8 = np.random.rand(self.h8.shape[1]) > self.dropout_ratio\n",
        "          self.h8_d = self.h8 * self.dropout_mask8\n",
        "        else:\n",
        "          self.h8_d = self.h8\n",
        "        # ==========================\n",
        "\n",
        "        self.h9 = np.dot(self.h8_d, self.w5) + self.b5\n",
        "        self.h10 = self.act(self.h9)\n",
        "\n",
        "        # dropoutの適用 =============\n",
        "        if train_mode:\n",
        "          self.dropout_mask10 = np.random.rand(self.h10.shape[1]) > self.dropout_ratio\n",
        "          self.h10_d = self.h10 * self.dropout_mask10\n",
        "        else:\n",
        "          self.h10_d = self.h10\n",
        "        # ==========================\n",
        "\n",
        "        self.h11 = np.dot(self.h10_d, self.w6) + self.b6\n",
        "        self.y = softmax(self.h11)\n",
        "        return self.y\n",
        "\n",
        "    def backward(self, x, t):\n",
        "        batch_size = x.shape[0]\n",
        "        self.grads = {}\n",
        "        \n",
        "        t = np.identity(10)[t]\n",
        "        dy = (self.y - t) / batch_size\n",
        "        self.grads['w6'] = np.dot(self.h10.T, dy)\n",
        "        self.grads['b6'] = np.sum(dy, axis=0)\n",
        "\n",
        "        d_h10_d = np.dot(dy, self.w6.T)\n",
        "\n",
        "        # dropout部分の勾配計算 ======\n",
        "        d_h10 = d_h10_d * self.dropout_mask10\n",
        "        # ==========================\n",
        "      \n",
        "        d_h9 = self.act_grad(self.h9) * d_h10\n",
        "        self.grads['w5'] = np.dot(self.h8.T, d_h9)\n",
        "        self.grads['b5'] = np.sum(d_h9, axis=0)\n",
        "        \n",
        "        d_h8_d = np.dot(d_h9, self.w5.T)\n",
        "\n",
        "        # dropout部分の勾配計算 ======\n",
        "        d_h8 = d_h8_d * self.dropout_mask8\n",
        "        # ==========================\n",
        "\n",
        "        d_h7 = self.act_grad(self.h7) * d_h8\n",
        "        self.grads['w4'] = np.dot(self.h6.T, d_h7)\n",
        "        self.grads['b4'] = np.sum(d_h7, axis=0)\n",
        "\n",
        "        d_h6 = np.dot(d_h7, self.w4.T)\n",
        "        d_h5 = self.act_grad(self.h5) * d_h6\n",
        "        self.grads['w3'] = np.dot(self.h4.T, d_h5)\n",
        "        self.grads['b3'] = np.sum(d_h5, axis=0)\n",
        "\n",
        "        d_h4 = np.dot(d_h5, self.w3.T)\n",
        "        d_h3 = self.act_grad(self.h3) * d_h4\n",
        "        self.grads['w2'] = np.dot(self.h2.T, d_h3)\n",
        "        self.grads['b2'] = np.sum(d_h3, axis=0)\n",
        "\n",
        "        d_h2 = np.dot(d_h3, self.w2.T)\n",
        "        d_h1 = self.act_grad(self.h1) * d_h2\n",
        "        self.grads['w1'] = np.dot(x.T, d_h1)\n",
        "        self.grads['b1'] = np.sum(d_h1, axis=0)\n",
        "        \n",
        "    def update_parameters(self, lr=0.1):\n",
        "        self.w1 -= lr * self.grads['w1']\n",
        "        self.b1 -= lr * self.grads['b1']\n",
        "        self.w2 -= lr * self.grads['w2']\n",
        "        self.b2 -= lr * self.grads['b2']  \n",
        "        self.w3 -= lr * self.grads['w3']\n",
        "        self.b3 -= lr * self.grads['b3']\n",
        "        self.w4 -= lr * self.grads['w4']\n",
        "        self.b4 -= lr * self.grads['b4']  \n",
        "        self.w5 -= lr * self.grads['w5']\n",
        "        self.b5 -= lr * self.grads['b5']  \n",
        "        self.w6 -= lr * self.grads['w6']\n",
        "        self.b6 -= lr * self.grads['b6'] "
      ],
      "execution_count": 15,
      "outputs": []
    },
    {
      "cell_type": "markdown",
      "metadata": {
        "id": "HaRjNUOo3_sb"
      },
      "source": [
        "## 学習\n",
        "サンプル数を削減したMNISTデータセットと作成したネットワークを用いて，２つのネットワークの学習を行います．\n",
        "\n",
        "まず，学習およびネットワークに関するパラメータを設定します．\n",
        "\n",
        "1回の誤差を算出するデータ数（ミニバッチサイズ）を100，学習エポック数を100とします．\n",
        "\n",
        "また，中間層と出力層のユニット数を定義します．\n",
        "ここでは，入力層のユニット数`input_size`を学習データの次元，中間層のユニット数`hidden_size`100`output_size`を10とします．"
      ]
    },
    {
      "cell_type": "code",
      "metadata": {
        "id": "_habzfG4fjk8"
      },
      "source": [
        "# 学習途中の精度を確認するための関数\n",
        "def multiclass_classification_accuracy(pred, true):\n",
        "    clf_res = np.argmax(pred, axis=1)\n",
        "    return np.sum(clf_res == true).astype(np.float32)\n",
        "\n",
        "# 学習中の誤差を確認するための関数\n",
        "def cross_entropy(y, t):\n",
        "    if y.ndim == 1:\n",
        "        t = t.reshape(1, t.size)\n",
        "        y = y.reshape(1, y.size)\n",
        "\n",
        "    # 教師データがone-hot-vectorの場合、正解ラベルのインデックスに変換\n",
        "    if t.size == y.size:\n",
        "        t = t.argmax(axis=1)\n",
        "\n",
        "    batch_size = y.shape[0]\n",
        "    return -np.sum(np.log(y[np.arange(batch_size), t] + 1e-7)) / batch_size\n",
        "\n",
        "# 学習パラメータ\n",
        "num_train_data = x_train.shape[0]\n",
        "num_test_data = x_test.shape[0]\n",
        "batch_size = 100\n",
        "epoch_num = 100\n",
        "learning_rate = 0.01\n",
        "\n",
        "# ネットワークのパラメータ\n",
        "input_size = x_train.shape[1]\n",
        "hidden_size = 100\n",
        "output_size = 10"
      ],
      "execution_count": 16,
      "outputs": []
    },
    {
      "cell_type": "markdown",
      "metadata": {
        "id": "DZchI6GMkotD"
      },
      "source": [
        "### Dropout無しのモデルの学習\n",
        "\n",
        "Dropout無しのネットワークモデルを学習します．\n",
        "上で定義したパラメータを使用して，ネットワーク`MLP`を初期化し，学習を行います．\n",
        "学習プログラムの詳細については前回までの資料を参照してください．"
      ]
    },
    {
      "cell_type": "code",
      "metadata": {
        "id": "r108LKmi3_sc",
        "outputId": "da96fade-5603-4f1a-85aa-1a7b155e1926",
        "colab": {
          "base_uri": "https://localhost:8080/",
          "height": 1000
        }
      },
      "source": [
        "model = MLP(input_size=input_size, hidden_size=hidden_size, output_size=output_size)\n",
        "\n",
        "epoch_list = []\n",
        "train_loss_list = []\n",
        "train_accuracy_list = []\n",
        "test_accuracy_list = []\n",
        "\n",
        "iteration = 0\n",
        "for epoch in range(1, epoch_num + 1):\n",
        "    sum_accuracy, sum_loss = 0.0, 0.0\n",
        "    perm = np.random.permutation(num_train_data)\n",
        "    for i in range(0, num_train_data, batch_size):\n",
        "        x_batch = x_train[perm[i:i+batch_size]]\n",
        "        y_batch = y_train[perm[i:i+batch_size]]\n",
        "        \n",
        "        y = model.forward(x_batch)\n",
        "        sum_accuracy += multiclass_classification_accuracy(y, y_batch)\n",
        "        sum_loss += cross_entropy(y, y_batch)\n",
        "        \n",
        "        model.backward(x_batch, y_batch)\n",
        "        model.update_parameters(lr=learning_rate)\n",
        "        iteration += 1\n",
        "\n",
        "    # テストデータに対する認識精度の計算\n",
        "    test_correct_count = 0\n",
        "    for i in range(num_test_data):\n",
        "        input = x_test[i:i+1]\n",
        "        label = y_test[i:i+1]\n",
        "        y = model.forward(input)\n",
        "        test_correct_count += multiclass_classification_accuracy(y, label)\n",
        "\n",
        "    # 学習途中のlossと精度の保存\n",
        "    epoch_list.append(epoch)\n",
        "    train_loss_list.append(sum_loss / num_train_data)\n",
        "    train_accuracy_list.append(sum_accuracy / num_train_data)\n",
        "    test_accuracy_list.append(test_correct_count / num_test_data)\n",
        "\n",
        "    print(\"epoch: {}, train loss: {}, train accuracy: {}, test accuracy: {}\".format(epoch,\n",
        "                                                               sum_loss / num_train_data,\n",
        "                                                               sum_accuracy / num_train_data,\n",
        "                                                               test_correct_count / num_test_data))"
      ],
      "execution_count": 17,
      "outputs": [
        {
          "output_type": "stream",
          "text": [
            "epoch: 1, train loss: 0.023372418008527955, train accuracy: 0.112, test accuracy: 0.2199\n",
            "epoch: 2, train loss: 0.020537096691323316, train accuracy: 0.342, test accuracy: 0.3265\n",
            "epoch: 3, train loss: 0.01814388015715572, train accuracy: 0.48, test accuracy: 0.4273\n",
            "epoch: 4, train loss: 0.015523130190300176, train accuracy: 0.564, test accuracy: 0.5282\n",
            "epoch: 5, train loss: 0.012771792738470256, train accuracy: 0.626, test accuracy: 0.5443\n",
            "epoch: 6, train loss: 0.010565723108301686, train accuracy: 0.696, test accuracy: 0.4828\n",
            "epoch: 7, train loss: 0.010863345972212965, train accuracy: 0.658, test accuracy: 0.5603\n",
            "epoch: 8, train loss: 0.00813659689538356, train accuracy: 0.78, test accuracy: 0.5997\n",
            "epoch: 9, train loss: 0.006602432028412428, train accuracy: 0.804, test accuracy: 0.5348\n",
            "epoch: 10, train loss: 0.0079385297989667, train accuracy: 0.736, test accuracy: 0.6868\n",
            "epoch: 11, train loss: 0.005307370330888039, train accuracy: 0.848, test accuracy: 0.6825\n",
            "epoch: 12, train loss: 0.008577328542258645, train accuracy: 0.732, test accuracy: 0.5901\n",
            "epoch: 13, train loss: 0.006861223622476803, train accuracy: 0.822, test accuracy: 0.7271\n",
            "epoch: 14, train loss: 0.004005046068143074, train accuracy: 0.898, test accuracy: 0.743\n",
            "epoch: 15, train loss: 0.003105107568254441, train accuracy: 0.912, test accuracy: 0.7469\n",
            "epoch: 16, train loss: 0.0028285535539541978, train accuracy: 0.926, test accuracy: 0.7058\n",
            "epoch: 17, train loss: 0.002453930824042174, train accuracy: 0.922, test accuracy: 0.7215\n",
            "epoch: 18, train loss: 0.0021246990776283277, train accuracy: 0.944, test accuracy: 0.7663\n",
            "epoch: 19, train loss: 0.002310158005322048, train accuracy: 0.93, test accuracy: 0.7853\n",
            "epoch: 20, train loss: 0.0015956809102219123, train accuracy: 0.964, test accuracy: 0.7694\n",
            "epoch: 21, train loss: 0.001590714163116059, train accuracy: 0.962, test accuracy: 0.788\n",
            "epoch: 22, train loss: 0.0012028939218746307, train accuracy: 0.982, test accuracy: 0.7892\n",
            "epoch: 23, train loss: 0.001142782446983039, train accuracy: 0.98, test accuracy: 0.7893\n",
            "epoch: 24, train loss: 0.0009887852682722044, train accuracy: 0.99, test accuracy: 0.7846\n",
            "epoch: 25, train loss: 0.0008440877231199107, train accuracy: 0.99, test accuracy: 0.7922\n",
            "epoch: 26, train loss: 0.0008611317977775457, train accuracy: 0.984, test accuracy: 0.7709\n",
            "epoch: 27, train loss: 0.0006824305749575859, train accuracy: 0.994, test accuracy: 0.7992\n",
            "epoch: 28, train loss: 0.0006253245233553216, train accuracy: 0.996, test accuracy: 0.7967\n",
            "epoch: 29, train loss: 0.0005381757376075703, train accuracy: 0.998, test accuracy: 0.7955\n",
            "epoch: 30, train loss: 0.0005026833976766769, train accuracy: 0.998, test accuracy: 0.7961\n",
            "epoch: 31, train loss: 0.0004313481858427687, train accuracy: 0.998, test accuracy: 0.7965\n",
            "epoch: 32, train loss: 0.0004136601394030201, train accuracy: 1.0, test accuracy: 0.7948\n",
            "epoch: 33, train loss: 0.00036713279711671806, train accuracy: 1.0, test accuracy: 0.8016\n",
            "epoch: 34, train loss: 0.0003697338243674107, train accuracy: 1.0, test accuracy: 0.7945\n",
            "epoch: 35, train loss: 0.000329746991159279, train accuracy: 1.0, test accuracy: 0.8021\n",
            "epoch: 36, train loss: 0.0002888066602709076, train accuracy: 1.0, test accuracy: 0.801\n",
            "epoch: 37, train loss: 0.00026945294488774687, train accuracy: 1.0, test accuracy: 0.7998\n",
            "epoch: 38, train loss: 0.0002574324004892606, train accuracy: 1.0, test accuracy: 0.8001\n",
            "epoch: 39, train loss: 0.00023665814261415773, train accuracy: 1.0, test accuracy: 0.8011\n",
            "epoch: 40, train loss: 0.00022099741927958494, train accuracy: 1.0, test accuracy: 0.8041\n",
            "epoch: 41, train loss: 0.0002082965789394374, train accuracy: 1.0, test accuracy: 0.8031\n",
            "epoch: 42, train loss: 0.00019516594982138235, train accuracy: 1.0, test accuracy: 0.8057\n",
            "epoch: 43, train loss: 0.00018237768311889533, train accuracy: 1.0, test accuracy: 0.7999\n",
            "epoch: 44, train loss: 0.0001706672158784332, train accuracy: 1.0, test accuracy: 0.8015\n",
            "epoch: 45, train loss: 0.0001615191570749611, train accuracy: 1.0, test accuracy: 0.8032\n",
            "epoch: 46, train loss: 0.00015163835341421968, train accuracy: 1.0, test accuracy: 0.803\n",
            "epoch: 47, train loss: 0.0001469195486218426, train accuracy: 1.0, test accuracy: 0.804\n",
            "epoch: 48, train loss: 0.00013681018662810285, train accuracy: 1.0, test accuracy: 0.803\n",
            "epoch: 49, train loss: 0.00013136600224202197, train accuracy: 1.0, test accuracy: 0.8032\n",
            "epoch: 50, train loss: 0.00012356432715486106, train accuracy: 1.0, test accuracy: 0.8042\n",
            "epoch: 51, train loss: 0.00011850531908679441, train accuracy: 1.0, test accuracy: 0.8049\n",
            "epoch: 52, train loss: 0.00011452066660060559, train accuracy: 1.0, test accuracy: 0.8064\n",
            "epoch: 53, train loss: 0.00010922719841976027, train accuracy: 1.0, test accuracy: 0.8049\n",
            "epoch: 54, train loss: 0.00010556881009107849, train accuracy: 1.0, test accuracy: 0.8059\n",
            "epoch: 55, train loss: 0.00010235461350917143, train accuracy: 1.0, test accuracy: 0.8047\n",
            "epoch: 56, train loss: 9.735141661526343e-05, train accuracy: 1.0, test accuracy: 0.8048\n",
            "epoch: 57, train loss: 9.38372728896674e-05, train accuracy: 1.0, test accuracy: 0.8059\n",
            "epoch: 58, train loss: 9.138486398100092e-05, train accuracy: 1.0, test accuracy: 0.8049\n",
            "epoch: 59, train loss: 8.736208123895577e-05, train accuracy: 1.0, test accuracy: 0.8037\n",
            "epoch: 60, train loss: 8.469012154891395e-05, train accuracy: 1.0, test accuracy: 0.8053\n",
            "epoch: 61, train loss: 8.096573463537058e-05, train accuracy: 1.0, test accuracy: 0.8062\n",
            "epoch: 62, train loss: 7.899454468489431e-05, train accuracy: 1.0, test accuracy: 0.8064\n",
            "epoch: 63, train loss: 7.592743465134295e-05, train accuracy: 1.0, test accuracy: 0.8061\n",
            "epoch: 64, train loss: 7.409125616863218e-05, train accuracy: 1.0, test accuracy: 0.8064\n",
            "epoch: 65, train loss: 7.10054548953111e-05, train accuracy: 1.0, test accuracy: 0.8061\n",
            "epoch: 66, train loss: 6.846037786806626e-05, train accuracy: 1.0, test accuracy: 0.8062\n",
            "epoch: 67, train loss: 6.679529698797927e-05, train accuracy: 1.0, test accuracy: 0.805\n",
            "epoch: 68, train loss: 6.513403305191334e-05, train accuracy: 1.0, test accuracy: 0.8057\n",
            "epoch: 69, train loss: 6.30195651785113e-05, train accuracy: 1.0, test accuracy: 0.8061\n",
            "epoch: 70, train loss: 6.14402305191389e-05, train accuracy: 1.0, test accuracy: 0.8056\n",
            "epoch: 71, train loss: 6.022190006646277e-05, train accuracy: 1.0, test accuracy: 0.8063\n",
            "epoch: 72, train loss: 5.8041742678309986e-05, train accuracy: 1.0, test accuracy: 0.8069\n",
            "epoch: 73, train loss: 5.660274714178423e-05, train accuracy: 1.0, test accuracy: 0.8055\n",
            "epoch: 74, train loss: 5.530453430632775e-05, train accuracy: 1.0, test accuracy: 0.8066\n",
            "epoch: 75, train loss: 5.460555282482642e-05, train accuracy: 1.0, test accuracy: 0.8063\n",
            "epoch: 76, train loss: 5.235276630730193e-05, train accuracy: 1.0, test accuracy: 0.8063\n",
            "epoch: 77, train loss: 5.083682608591658e-05, train accuracy: 1.0, test accuracy: 0.8072\n",
            "epoch: 78, train loss: 5.005902958458752e-05, train accuracy: 1.0, test accuracy: 0.8074\n",
            "epoch: 79, train loss: 4.8501109858968645e-05, train accuracy: 1.0, test accuracy: 0.8069\n",
            "epoch: 80, train loss: 4.786401840875725e-05, train accuracy: 1.0, test accuracy: 0.8064\n",
            "epoch: 81, train loss: 4.6390187948392616e-05, train accuracy: 1.0, test accuracy: 0.8063\n",
            "epoch: 82, train loss: 4.6183447915867965e-05, train accuracy: 1.0, test accuracy: 0.8063\n",
            "epoch: 83, train loss: 4.477750419640353e-05, train accuracy: 1.0, test accuracy: 0.807\n",
            "epoch: 84, train loss: 4.345561003635911e-05, train accuracy: 1.0, test accuracy: 0.8073\n",
            "epoch: 85, train loss: 4.235791454219126e-05, train accuracy: 1.0, test accuracy: 0.8068\n",
            "epoch: 86, train loss: 4.166874747565709e-05, train accuracy: 1.0, test accuracy: 0.8059\n",
            "epoch: 87, train loss: 4.0836645389553804e-05, train accuracy: 1.0, test accuracy: 0.8073\n",
            "epoch: 88, train loss: 4.016498266325949e-05, train accuracy: 1.0, test accuracy: 0.8079\n",
            "epoch: 89, train loss: 3.8923029625893976e-05, train accuracy: 1.0, test accuracy: 0.8072\n",
            "epoch: 90, train loss: 3.831436166665632e-05, train accuracy: 1.0, test accuracy: 0.8073\n",
            "epoch: 91, train loss: 3.76440705232871e-05, train accuracy: 1.0, test accuracy: 0.8071\n",
            "epoch: 92, train loss: 3.740500929523333e-05, train accuracy: 1.0, test accuracy: 0.8069\n",
            "epoch: 93, train loss: 3.6212357297010715e-05, train accuracy: 1.0, test accuracy: 0.8078\n",
            "epoch: 94, train loss: 3.554713090591287e-05, train accuracy: 1.0, test accuracy: 0.8082\n",
            "epoch: 95, train loss: 3.507382565939489e-05, train accuracy: 1.0, test accuracy: 0.8076\n",
            "epoch: 96, train loss: 3.4172134555476784e-05, train accuracy: 1.0, test accuracy: 0.8077\n",
            "epoch: 97, train loss: 3.362979601625136e-05, train accuracy: 1.0, test accuracy: 0.8072\n",
            "epoch: 98, train loss: 3.307383721226334e-05, train accuracy: 1.0, test accuracy: 0.8079\n",
            "epoch: 99, train loss: 3.248519306524785e-05, train accuracy: 1.0, test accuracy: 0.8078\n",
            "epoch: 100, train loss: 3.1965075520149185e-05, train accuracy: 1.0, test accuracy: 0.8079\n"
          ],
          "name": "stdout"
        }
      ]
    },
    {
      "cell_type": "markdown",
      "metadata": {
        "id": "X2Vs2N4Qksl_"
      },
      "source": [
        "### Dropoutありのモデルの学習\n",
        "\n",
        "次にDropoutありのネットワークモデルの学習を行います．\n",
        "この時，Dropoutの割合`dropout_ratio`を`0.3`に設定します．\n",
        "\n",
        "テストデータの認識精度を計算する際は，Dropoutの適用を行わないようにするために，\n",
        "`train_mode=False`と指定することに注意してください．"
      ]
    },
    {
      "cell_type": "code",
      "metadata": {
        "id": "Gwd7lFWqfqsi",
        "outputId": "c51eef77-6ae2-40b3-88b5-7f1f80e2ed69",
        "colab": {
          "base_uri": "https://localhost:8080/",
          "height": 1000
        }
      },
      "source": [
        "model_dout = MLPDropout(input_size=input_size, hidden_size=hidden_size, output_size=output_size, dropout_ratio=0.3)\n",
        "\n",
        "epoch_list_dout = []\n",
        "train_loss_list_dout = []\n",
        "train_accuracy_list_dout = []\n",
        "test_accuracy_list_dout = []\n",
        "\n",
        "iteration = 0\n",
        "for epoch in range(1, epoch_num + 1):\n",
        "    sum_accuracy, sum_loss = 0.0, 0.0\n",
        "    perm = np.random.permutation(num_train_data)\n",
        "    for i in range(0, num_train_data, batch_size):\n",
        "        x_batch = x_train[perm[i:i+batch_size]]\n",
        "        y_batch = y_train[perm[i:i+batch_size]]\n",
        "        \n",
        "        y = model_dout.forward(x_batch)\n",
        "        sum_accuracy += multiclass_classification_accuracy(y, y_batch)\n",
        "        sum_loss += cross_entropy(y, y_batch)\n",
        "        \n",
        "        model_dout.backward(x_batch, y_batch)\n",
        "        model_dout.update_parameters(lr=learning_rate)\n",
        "        iteration += 1\n",
        "\n",
        "    # テストデータに対する認識精度の計算\n",
        "    test_correct_count = 0\n",
        "    for i in range(num_test_data):\n",
        "        input = x_test[i:i+1]\n",
        "        label = y_test[i:i+1]\n",
        "        y = model_dout.forward(input, train_mode=False)\n",
        "        test_correct_count += multiclass_classification_accuracy(y, label)\n",
        "\n",
        "    # 学習途中のlossと精度の保存\n",
        "    epoch_list_dout.append(epoch)\n",
        "    train_loss_list_dout.append(sum_loss / num_train_data)\n",
        "    train_accuracy_list_dout.append(sum_accuracy / num_train_data)\n",
        "    test_accuracy_list_dout.append(test_correct_count / num_test_data)\n",
        "\n",
        "    print(\"epoch: {}, train loss: {}, train accuracy: {}, test accuracy: {}\".format(epoch,\n",
        "                                                               sum_loss / num_train_data,\n",
        "                                                               sum_accuracy / num_train_data,\n",
        "                                                               test_correct_count / num_test_data))"
      ],
      "execution_count": 18,
      "outputs": [
        {
          "output_type": "stream",
          "text": [
            "epoch: 1, train loss: 0.023447033090363802, train accuracy: 0.088, test accuracy: 0.137\n",
            "epoch: 2, train loss: 0.023040840072052374, train accuracy: 0.122, test accuracy: 0.1931\n",
            "epoch: 3, train loss: 0.022121373574723963, train accuracy: 0.148, test accuracy: 0.2492\n",
            "epoch: 4, train loss: 0.021993993268519488, train accuracy: 0.212, test accuracy: 0.2881\n",
            "epoch: 5, train loss: 0.021330924219944005, train accuracy: 0.234, test accuracy: 0.3352\n",
            "epoch: 6, train loss: 0.02039502394014414, train accuracy: 0.326, test accuracy: 0.3382\n",
            "epoch: 7, train loss: 0.01991666817344473, train accuracy: 0.274, test accuracy: 0.3937\n",
            "epoch: 8, train loss: 0.019199880532749177, train accuracy: 0.38, test accuracy: 0.4111\n",
            "epoch: 9, train loss: 0.018362954856072814, train accuracy: 0.35, test accuracy: 0.4177\n",
            "epoch: 10, train loss: 0.016539749557083934, train accuracy: 0.444, test accuracy: 0.5047\n",
            "epoch: 11, train loss: 0.016129725724102022, train accuracy: 0.484, test accuracy: 0.5532\n",
            "epoch: 12, train loss: 0.014015234569527973, train accuracy: 0.564, test accuracy: 0.5626\n",
            "epoch: 13, train loss: 0.014905811851526483, train accuracy: 0.498, test accuracy: 0.5031\n",
            "epoch: 14, train loss: 0.01408300423978798, train accuracy: 0.514, test accuracy: 0.6138\n",
            "epoch: 15, train loss: 0.012023400487375224, train accuracy: 0.614, test accuracy: 0.5572\n",
            "epoch: 16, train loss: 0.01139672541322948, train accuracy: 0.652, test accuracy: 0.5851\n",
            "epoch: 17, train loss: 0.011406212722859067, train accuracy: 0.63, test accuracy: 0.6652\n",
            "epoch: 18, train loss: 0.011191400642888774, train accuracy: 0.634, test accuracy: 0.6648\n",
            "epoch: 19, train loss: 0.009773665286479095, train accuracy: 0.698, test accuracy: 0.6319\n",
            "epoch: 20, train loss: 0.008542709960873203, train accuracy: 0.718, test accuracy: 0.6569\n",
            "epoch: 21, train loss: 0.010073977901084092, train accuracy: 0.662, test accuracy: 0.6191\n",
            "epoch: 22, train loss: 0.007946451516618101, train accuracy: 0.74, test accuracy: 0.6752\n",
            "epoch: 23, train loss: 0.007998115391147463, train accuracy: 0.748, test accuracy: 0.691\n",
            "epoch: 24, train loss: 0.007140212407244506, train accuracy: 0.77, test accuracy: 0.7037\n",
            "epoch: 25, train loss: 0.005599352254288114, train accuracy: 0.83, test accuracy: 0.7355\n",
            "epoch: 26, train loss: 0.007359949833528922, train accuracy: 0.742, test accuracy: 0.6454\n",
            "epoch: 27, train loss: 0.0059956615911616875, train accuracy: 0.81, test accuracy: 0.7364\n",
            "epoch: 28, train loss: 0.006255015063780644, train accuracy: 0.81, test accuracy: 0.7467\n",
            "epoch: 29, train loss: 0.005217438201545678, train accuracy: 0.83, test accuracy: 0.7211\n",
            "epoch: 30, train loss: 0.004420715238122505, train accuracy: 0.854, test accuracy: 0.7392\n",
            "epoch: 31, train loss: 0.00573329427369935, train accuracy: 0.796, test accuracy: 0.7502\n",
            "epoch: 32, train loss: 0.004378683381637405, train accuracy: 0.86, test accuracy: 0.7427\n",
            "epoch: 33, train loss: 0.00414072780659378, train accuracy: 0.874, test accuracy: 0.7726\n",
            "epoch: 34, train loss: 0.0038118224189382256, train accuracy: 0.906, test accuracy: 0.7602\n",
            "epoch: 35, train loss: 0.004287791966928328, train accuracy: 0.862, test accuracy: 0.779\n",
            "epoch: 36, train loss: 0.0038981751039385416, train accuracy: 0.866, test accuracy: 0.7561\n",
            "epoch: 37, train loss: 0.003938876737930304, train accuracy: 0.88, test accuracy: 0.7702\n",
            "epoch: 38, train loss: 0.0034861254624691603, train accuracy: 0.892, test accuracy: 0.7555\n",
            "epoch: 39, train loss: 0.003312084555882298, train accuracy: 0.888, test accuracy: 0.7897\n",
            "epoch: 40, train loss: 0.003253785620404932, train accuracy: 0.886, test accuracy: 0.7706\n",
            "epoch: 41, train loss: 0.0026414924079235283, train accuracy: 0.912, test accuracy: 0.7893\n",
            "epoch: 42, train loss: 0.002957828471009791, train accuracy: 0.904, test accuracy: 0.7971\n",
            "epoch: 43, train loss: 0.0022749414538402566, train accuracy: 0.926, test accuracy: 0.8021\n",
            "epoch: 44, train loss: 0.0025717863084885593, train accuracy: 0.906, test accuracy: 0.8009\n",
            "epoch: 45, train loss: 0.002603875220688789, train accuracy: 0.928, test accuracy: 0.7904\n",
            "epoch: 46, train loss: 0.0017071755703089453, train accuracy: 0.946, test accuracy: 0.7969\n",
            "epoch: 47, train loss: 0.0018375515310526801, train accuracy: 0.94, test accuracy: 0.7952\n",
            "epoch: 48, train loss: 0.0019523103963841524, train accuracy: 0.934, test accuracy: 0.782\n",
            "epoch: 49, train loss: 0.0017417855799448647, train accuracy: 0.946, test accuracy: 0.7946\n",
            "epoch: 50, train loss: 0.0013969974859475696, train accuracy: 0.958, test accuracy: 0.7934\n",
            "epoch: 51, train loss: 0.0015065937720976383, train accuracy: 0.95, test accuracy: 0.7984\n",
            "epoch: 52, train loss: 0.0015978052893781973, train accuracy: 0.948, test accuracy: 0.795\n",
            "epoch: 53, train loss: 0.0018443228050354435, train accuracy: 0.944, test accuracy: 0.7983\n",
            "epoch: 54, train loss: 0.0016147728566211256, train accuracy: 0.944, test accuracy: 0.8111\n",
            "epoch: 55, train loss: 0.0012764888333251562, train accuracy: 0.958, test accuracy: 0.7988\n",
            "epoch: 56, train loss: 0.00237937737342643, train accuracy: 0.928, test accuracy: 0.7997\n",
            "epoch: 57, train loss: 0.0022538862872759744, train accuracy: 0.922, test accuracy: 0.7894\n",
            "epoch: 58, train loss: 0.0011254601535749767, train accuracy: 0.974, test accuracy: 0.8102\n",
            "epoch: 59, train loss: 0.0010446057770410909, train accuracy: 0.964, test accuracy: 0.8085\n",
            "epoch: 60, train loss: 0.0011307624521439792, train accuracy: 0.972, test accuracy: 0.7999\n",
            "epoch: 61, train loss: 0.000950169932631757, train accuracy: 0.976, test accuracy: 0.8116\n",
            "epoch: 62, train loss: 0.0022934926524679085, train accuracy: 0.916, test accuracy: 0.7923\n",
            "epoch: 63, train loss: 0.0013944937682534707, train accuracy: 0.96, test accuracy: 0.8006\n",
            "epoch: 64, train loss: 0.0009895392457549461, train accuracy: 0.978, test accuracy: 0.8128\n",
            "epoch: 65, train loss: 0.0009971233802553005, train accuracy: 0.976, test accuracy: 0.8119\n",
            "epoch: 66, train loss: 0.0011169597491476496, train accuracy: 0.962, test accuracy: 0.8027\n",
            "epoch: 67, train loss: 0.000656281150513725, train accuracy: 0.982, test accuracy: 0.8118\n",
            "epoch: 68, train loss: 0.0007467675438073324, train accuracy: 0.982, test accuracy: 0.8172\n",
            "epoch: 69, train loss: 0.001233156818410514, train accuracy: 0.956, test accuracy: 0.8001\n",
            "epoch: 70, train loss: 0.0008532720055165017, train accuracy: 0.98, test accuracy: 0.8199\n",
            "epoch: 71, train loss: 0.0008908649107602398, train accuracy: 0.978, test accuracy: 0.8109\n",
            "epoch: 72, train loss: 0.0011121585678125925, train accuracy: 0.962, test accuracy: 0.8074\n",
            "epoch: 73, train loss: 0.0008624549593509447, train accuracy: 0.972, test accuracy: 0.8108\n",
            "epoch: 74, train loss: 0.0007727797868056591, train accuracy: 0.982, test accuracy: 0.814\n",
            "epoch: 75, train loss: 0.0005288375715931523, train accuracy: 0.982, test accuracy: 0.8183\n",
            "epoch: 76, train loss: 0.0003969480144957919, train accuracy: 0.984, test accuracy: 0.8161\n",
            "epoch: 77, train loss: 0.0006581187049765288, train accuracy: 0.984, test accuracy: 0.8202\n",
            "epoch: 78, train loss: 0.0008501606740423043, train accuracy: 0.974, test accuracy: 0.7982\n",
            "epoch: 79, train loss: 0.0006721221822801709, train accuracy: 0.986, test accuracy: 0.8123\n",
            "epoch: 80, train loss: 0.0005649580246232337, train accuracy: 0.988, test accuracy: 0.8145\n",
            "epoch: 81, train loss: 0.0010750953323441681, train accuracy: 0.966, test accuracy: 0.8194\n",
            "epoch: 82, train loss: 0.00022531938970521203, train accuracy: 0.994, test accuracy: 0.8165\n",
            "epoch: 83, train loss: 0.00036772502283275376, train accuracy: 0.994, test accuracy: 0.8241\n",
            "epoch: 84, train loss: 0.0005518786482362401, train accuracy: 0.98, test accuracy: 0.8134\n",
            "epoch: 85, train loss: 0.0003221846595321051, train accuracy: 0.99, test accuracy: 0.8166\n",
            "epoch: 86, train loss: 0.0002874584802997468, train accuracy: 0.99, test accuracy: 0.8167\n",
            "epoch: 87, train loss: 0.0003925113350833661, train accuracy: 0.984, test accuracy: 0.8225\n",
            "epoch: 88, train loss: 0.00038353830944316114, train accuracy: 0.99, test accuracy: 0.8209\n",
            "epoch: 89, train loss: 0.0005805952969424792, train accuracy: 0.98, test accuracy: 0.8226\n",
            "epoch: 90, train loss: 0.0002243367675520327, train accuracy: 0.996, test accuracy: 0.8214\n",
            "epoch: 91, train loss: 0.0006956714347751607, train accuracy: 0.984, test accuracy: 0.8188\n",
            "epoch: 92, train loss: 0.0006033921090579228, train accuracy: 0.982, test accuracy: 0.81\n",
            "epoch: 93, train loss: 0.00020866890501532325, train accuracy: 1.0, test accuracy: 0.8188\n",
            "epoch: 94, train loss: 0.000454691704508913, train accuracy: 0.988, test accuracy: 0.8157\n",
            "epoch: 95, train loss: 0.0010008118974457838, train accuracy: 0.968, test accuracy: 0.825\n",
            "epoch: 96, train loss: 0.00022048019623278277, train accuracy: 0.996, test accuracy: 0.8239\n",
            "epoch: 97, train loss: 0.0004832052450939225, train accuracy: 0.99, test accuracy: 0.8181\n",
            "epoch: 98, train loss: 0.0004031956701707969, train accuracy: 0.994, test accuracy: 0.8199\n",
            "epoch: 99, train loss: 0.0001684221183243078, train accuracy: 0.998, test accuracy: 0.8232\n",
            "epoch: 100, train loss: 0.00023213980827981886, train accuracy: 0.992, test accuracy: 0.8262\n"
          ],
          "name": "stdout"
        }
      ]
    },
    {
      "cell_type": "markdown",
      "metadata": {
        "id": "oMXfb7CgkY2_"
      },
      "source": [
        "## 学習推移のグラフ化\n",
        "\n",
        "最後に2つのネットワークの学習推移を一つのグラフにまとめてプロットすることで，違いを確認します．\n"
      ]
    },
    {
      "cell_type": "code",
      "metadata": {
        "id": "614eAQzhgQHI",
        "outputId": "970fb2e4-6d47-4827-bed1-929aa46742c6",
        "colab": {
          "base_uri": "https://localhost:8080/",
          "height": 560
        }
      },
      "source": [
        "plt.figure()\n",
        "plt.plot(epoch_list, train_loss_list, label='train loss')\n",
        "plt.plot(epoch_list_dout, train_loss_list_dout, label='train loss (w/ dout)')\n",
        "plt.xlabel(\"epoch\")     # x軸ラベル\n",
        "plt.ylabel(\"loss\")      # y軸ラベル\n",
        "plt.legend()            # 凡例\n",
        "plt.show()\n",
        "\n",
        "plt.figure()\n",
        "plt.plot(epoch_list, train_accuracy_list, label='train accuracy')\n",
        "plt.plot(epoch_list, test_accuracy_list, label='test accuracy')\n",
        "plt.plot(epoch_list_dout, train_accuracy_list_dout, label='train accuracy (w/ dropout)')\n",
        "plt.plot(epoch_list_dout, test_accuracy_list_dout, label='test accuracy (w/ dropout)')\n",
        "plt.xlabel(\"epoch\")     # x軸ラベル\n",
        "plt.ylabel(\"accuracy\")  # y軸ラベル\n",
        "plt.legend()            # 凡例\n",
        "plt.show()\n"
      ],
      "execution_count": 19,
      "outputs": [
        {
          "output_type": "display_data",
          "data": {
            "image/png": "[encoded data removed]",
            "text/plain": [
              "<Figure size 432x288 with 1 Axes>"
            ]
          },
          "metadata": {
            "tags": [],
            "needs_background": "light"
          }
        },
        {
          "output_type": "display_data",
          "data": {
            "image/png": "[encoded data removed]",
            "text/plain": [
              "<Figure size 432x288 with 1 Axes>"
            ]
          },
          "metadata": {
            "tags": [],
            "needs_background": "light"
          }
        }
      ]
    },
    {
      "cell_type": "markdown",
      "metadata": {
        "id": "XJiDB3Is3_sf"
      },
      "source": [
        "## 課題\n",
        "1. ドロップアウト率を変化させて学習推移と認識率の変化について確認しよう\n",
        "2. ドロップアウトを適用する中間層を増やした際の学習推移と認識率の変化について確認しよう"
      ]
    }
  ]
}