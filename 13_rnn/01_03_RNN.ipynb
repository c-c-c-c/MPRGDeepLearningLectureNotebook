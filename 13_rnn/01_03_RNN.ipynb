{
 "cells": [
  {
   "cell_type": "markdown",
   "metadata": {
    "id": "Q6ODOW0pVTXD"
   },
   "source": [
    "# リカレントニューラルネットワーク\n",
    "リカレントニューラルネットワークは，系列データを扱うことができるニューラルネットワークです． 例えば，「今日は良い天気です」という文章において，「今日は」，「良い」という時系列データを与えると，次に現れる単語として「天気」を予測するという問題です． リカレントニューラルネットワークを利用することで，過去の系列情報から文脈の流れを考慮した予測ができるようになります． 応用例として，３０分後の電力を予測する，翌日の株価を予測するなどの予測モデル，音声認識や機械翻訳などがあります．"
   ]
  },
  {
   "cell_type": "markdown",
   "metadata": {
    "id": "F6ENdskSVaqw"
   },
   "source": [
    "##リカレントニューラルネットワークの種類\n",
    "リカレントニューラルネットワークにはいくつかの種類があります．\n",
    "\n",
    "* Elman Network：一般的なリカレントニューラルネットワーク．１時刻前の情報を内部状態として，現時刻の入力と合わせて中間層に与える\n",
    "* Jordan Network：１時刻前の出力層の情報を現時刻の入力と合わせて中間層に与える\n",
    "* Echo state network (ESN)：一部の重みを乱数で初期化し，更新しない．中間層内のユニットは相互結合する\n",
    "* Long Short-Term Memory (LSTM)：内部情報を記憶するメモリセルを持ち，複数のゲートによってメモリセルの情報を書き換えたり出力したりする\n",
    "* Gated Recurrent Unit (GRU)：内部情報の保持方法をLSTMよりもシンプルな構造にしたリカレントニューラルネットワーク \n",
    "* Bidirectional RNN：過去の情報だけでなく，未来の情報も利用する双方向のリカレントニューラルネットワーク\n"
   ]
  },
  {
   "cell_type": "markdown",
   "metadata": {
    "id": "rMeg988hVjyB"
   },
   "source": [
    "## Elman Network\n",
    "リカレントニューラルネットワークは，普通のニューラルネットワークと同様に，入力層，中間層，出力層から構成されます．大きな違いは，中間層の出力が中間層の入力につながっている点です．具体的には，1時刻前の中間層の出力が次の時刻の中間層に入力されます．これにより，過去の情報を伝搬することができ，過去を考慮した出力が可能です．\n",
    "\n",
    "\n",
    "<img src=\"https://github.com/himidev/Lecture/blob/main/13_rnn/01_03_RNN/RNN.png?raw=true\" width = 80%>\n",
    "\n",
    "\n",
    "\n",
    "\n",
    "\n"
   ]
  },
  {
   "cell_type": "markdown",
   "metadata": {
    "id": "4U-Ta4SHVj0M"
   },
   "source": [
    "##リカレントニューラルネットワークの学習\n",
    "リカレントニューラルネットワークは，時系列データを逐次与えます．この流れを展開すると\n",
    "ニューラルネットワークを時間方向につなげた大きなネットワークとみなすことができます．\n",
    "そのため，リカレントニューラルネットワークの学習にもニューラルネットワークと同様に誤差逆伝播法を用いることができます．\n",
    "リカレントニューラルネットワークでの誤差逆伝播法は， Back-propagation through time (BPTT)法と呼ばれています．\n",
    "\n",
    "まず，図の黒矢印に従い，系列データを時刻$t=0$から順伝播します．\n",
    "ネットワークは時刻ごとに別々にあるのではなく，１つのネットワークに対して逐次データを入力します．\n",
    "その時，各時刻における各層の値は変わっていくので，それらを記憶しておきます．\n",
    "また，順伝播時に各時刻における誤差を算出しておきます．\n",
    "誤差関数には，平均二乗誤差関数を利用することが多いです．\n",
    "\n",
    "時刻t=Tまで系列データの順伝播が終わると学習開始となります．\n",
    "学習は，ニューラルネットワークの誤差逆伝播法と同様に，BPTTでも誤差の勾配を求めて結合重みを更新します．\n",
    "その際，時刻をさかのぼるように，時刻t=Tの出力層から始めます．\n",
    "学習では，以下の３箇所の結合重みを順番に更新します．\n",
    "* 時刻tの出力層から時刻tの中間層間の結合重み\n",
    "* 時刻tの中間層から時刻t-1の中間層間の結合重み\n",
    "* 時刻tの中間層から時刻tの入力層間の結合重み\n",
    "\n",
    "<img src=\"https://github.com/himidev/Lecture/blob/main/13_rnn/01_03_RNN/back.png?raw=true\" width = 70%>\n"
   ]
  },
  {
   "cell_type": "markdown",
   "metadata": {
    "id": "j8E9WwLkWKWj"
   },
   "source": [
    "## 勾配消失問題\n",
    "リカレントニューラルネットワークは，系列データの文脈を捉えて推定を行うことができます．\n",
    "この時，系列の長さに関係なく，系列データの文脈を反映せることが重要です．\n",
    "すなわち，時刻tから離れた遠い過去の時刻のデータを時刻tの出力に反映しなければなりません．\n",
    "しかし，リカレントニューラルネットワークを時間方向に展開すると深いニューラルネットワークと\n",
    "みなすことができ，誤差逆伝播時に誤差が入力に近い階層まで伝播させることが困難です．\n",
    "系列データが長い場合，リカレントニューラルネットワークでも勾配消失問題が生じます．\n",
    "したがって，リカレントニューラルネットワークでは，10時刻程度のデータが限界となることが多いです．\n"
   ]
  },
  {
   "cell_type": "markdown",
   "metadata": {
    "id": "jyU9p5x7WOTL"
   },
   "source": [
    "## Long Short Term Memory(LSTM)\n",
    "LSTMは，リカレントニューラルネットワークと同様に，時系列データを扱うニューラルネットモデルです．\n",
    "リカレントニューラルネットワークは，系列データにおける過去のデータを考慮することができますが，\n",
    "10時刻程度しか考慮できませんでした．\n",
    "LSTMは，内部状態を記憶するメモリセルと３つのゲートで構成されています．\n",
    "３つのゲートは，メモリセルの値が次時刻でどれだけ保持されるかを調節する忘却ゲート，メモリセルに加算される値を調節する入力ゲート，\n",
    "メモリセルの値が次の層にどれだけ影響を及ぼすかを調節する出力ゲートです．\n",
    "このような特徴を持つメモリセルと３つのゲートを駆使して，勾配消失問題を解決し，短期と長期の記憶を両立した内部情報の保持方法を実現しています．\n",
    "ここで，σはシグモイド関数，tanhはハイパボリックタンジェント関数です．\n",
    "忘却ゲートは赤線，入力ゲートは緑線，出力ゲートは青線に沿って処理をします．\n",
    "\n",
    "\n",
    "<img src=\"https://github.com/himidev/Lecture/blob/main/13_rnn/01_03_RNN/LSTM.png?raw=true\" width = 50%>\n"
   ]
  },
  {
   "cell_type": "markdown",
   "metadata": {
    "id": "yZel4bGXWOWI"
   },
   "source": [
    "## Gated Reccurent Unit (GRU)\n",
    "LSTMは非常に複雑な構造ですが，長期と短期の記憶の両立ができる特徴があります．\n",
    "同様の特徴をよりシンプルな構造で実現した方法がGated Recurrent Unit (GRU)です．\n",
    "GRUは，図ような構造をしています．\n",
    "LSTMとの大きな違いはメモリセルがないことです．\n",
    "また，LSTMでは，３種類のゲートがありましたが，GRUではリセットゲートと更新ゲートの２種類のゲートとなります．\n",
    "リセットゲートは，入力と前時刻の中間層の値から求めます．\n",
    "活性化関数にはシグモイド関数を用います．\n",
    "\n",
    "<img src=\"https://github.com/himidev/Lecture/blob/main/13_rnn/01_03_RNN/GRU.png?raw=true\" width = 50%>"
   ]
  },
  {
   "cell_type": "markdown",
   "metadata": {
    "id": "JzTttwD8WVxC"
   },
   "source": [
    "# リカレントニューラルネットワークによる電力予測\n",
    "リカレントニューラルネットワークを使って電力予測を行います．\n",
    "ここでは，Recurrent Neural Network（RNN）を使用します．"
   ]
  },
  {
   "cell_type": "markdown",
   "metadata": {
    "id": "NeMvLBptWY4l"
   },
   "source": [
    "##データのダウンロード\n",
    "プログラムの動作に必要なデータをダウンロードし，zipファイルを解凍します．"
   ]
  },
  {
   "cell_type": "code",
   "execution_count": 1,
   "metadata": {
    "id": "MPNQu0HnVKXV"
   },
   "outputs": [],
   "source": [
    "# !wget -q http://www.mprg.cs.chubu.ac.jp/tutorial/ML_Lecture/SOLAR/data.zip\n",
    "# !unzip -q data.zip"
   ]
  },
  {
   "cell_type": "markdown",
   "metadata": {
    "id": "8AR0OxdEXa7T"
   },
   "source": [
    "データを確認してみます．最初の７つの値が曜日のone-hot vector，次の２４個の値は時間のone-hot vector，残りが電力，気温，湿度です．"
   ]
  },
  {
   "cell_type": "code",
   "execution_count": 2,
   "metadata": {
    "colab": {
     "base_uri": "https://localhost:8080/"
    },
    "id": "uzqp8pngXlUC",
    "outputId": "4f263ed8-b2bf-4200-8c14-4a35e7f90326"
   },
   "outputs": [
    {
     "name": "stdout",
     "output_type": "stream",
     "text": [
      "BEMS_RNN_train_data.npy  BEMS_RNN_train_labels.npy\n",
      "[0.    0.    0.    1.    0.    0.    0.    1.    0.    0.    0.    0.\n",
      " 0.    0.    0.    0.    0.    0.    0.    0.    0.    0.    0.    0.\n",
      " 0.    0.    0.    0.    0.    0.    0.    0.364 0.216 0.89 ]\n",
      "(50000, 34)\n"
     ]
    }
   ],
   "source": [
    "import numpy as np\n",
    "!ls data/train\n",
    "tmp_data = np.load(\"./data/train/BEMS_RNN_train_data.npy\")\n",
    "print(tmp_data[0])\n",
    "print(tmp_data.shape)"
   ]
  },
  {
   "cell_type": "markdown",
   "metadata": {
    "id": "e-P-vK8-Xecl"
   },
   "source": [
    "## モジュールのインポート\n",
    "はじめに必要なモジュールをインポートします．\n",
    "\n",
    "\n",
    "### GPUの確認\n",
    "GPUを使用した計算が可能かどうかを確認します．\n",
    "\n"
   ]
  },
  {
   "cell_type": "code",
   "execution_count": 3,
   "metadata": {
    "colab": {
     "base_uri": "https://localhost:8080/"
    },
    "id": "H82XmLCBXnrb",
    "outputId": "712dcea0-d83d-492d-9995-90554d6fa3d5"
   },
   "outputs": [
    {
     "name": "stdout",
     "output_type": "stream",
     "text": [
      "Use CUDA: True\n"
     ]
    }
   ],
   "source": [
    "from time import time\n",
    "from os import path\n",
    "import numpy as np\n",
    "import matplotlib.pyplot as plt\n",
    "import torch\n",
    "import torch.nn as nn\n",
    "\n",
    "# GPUの確認\n",
    "use_cuda = torch.cuda.is_available()\n",
    "print('Use CUDA:', use_cuda)"
   ]
  },
  {
   "cell_type": "markdown",
   "metadata": {
    "id": "fKNB7rvIZ_Ml"
   },
   "source": [
    "## データセットオブジェクトの作成\n",
    "\n",
    "電力データセットに対する，PyTorchのデータセットオブジェクト (`torch.utils.data.Dataset`) を作成します．\n",
    "`Dataset`は，指定したデータセットを読み込み，学習やテストのためにデータを準備し生成するためのクラスです．\n",
    "これまでの実習で使用したMNISTやCIFARデータセットはPyTorch (torchvision) 内に準備されているデータセットオブジェクトでした．\n",
    "今回用いるデータセットは，torchvisonには存在しないため，自身で定義を行います．\n",
    "\n",
    "まず，`__init__`関数により，必要なデータを読み込みます．\n",
    "この時，`__init__`関数の引数を指定します．\n",
    "`root`は読み込むデータセットを配置しているディレクトリ，`train`は学習またはテストデータのどちらを扱うかを指定する変数，`delay`は入力された情報の何時刻後を正解として用意するかを指定する変数，`time_window`は1サンプルあたり何時刻のデータを準備するかをしてする変数です．\n",
    "\n",
    "まず，`root`および`train`変数から，学習またはテストデータを読み込みます．\n",
    "その後，`delay`で指定した時刻を元に正解データを準備します．\n",
    "最後に，`time_window`で指定した時間窓で1サンプルとなるように，データを作成し，`self.data`および`self.label`にデータを格納します．\n",
    "これにより，`self.data`，`self.label`に入力データおよび正解データを格納します．\n",
    "\n",
    "`__getitem__`関数で，指定したインデックス（`item`）のデータを取り出し，返します．\n",
    "\n",
    "`__len__`関数は，このデータセットが保有するサンプル数を返すように定義を行います．"
   ]
  },
  {
   "cell_type": "code",
   "execution_count": 4,
   "metadata": {
    "id": "ubF1_8DhaC5K"
   },
   "outputs": [],
   "source": [
    "class BEMSDataset(torch.utils.data.Dataset):\n",
    "\n",
    "    def __init__(self, root=\"./data\", train=True, delay=1, time_window=10):\n",
    "        super().__init__()\n",
    "        self.root = root\n",
    "        self.train = train\n",
    "        self.delay = delay\n",
    "        self.time_window = time_window\n",
    "\n",
    "        # データの読み込み\n",
    "        if self.train:\n",
    "            data_src = np.load(path.join(self.root, 'train', 'BEMS_RNN_train_data.npy'))\n",
    "            label_src = np.load(path.join(self.root, 'train', 'BEMS_RNN_train_labels.npy'))\n",
    "        else:\n",
    "            data_src  = np.load(path.join(self.root, 'test', 'BEMS_RNN_test_data.npy'))\n",
    "            label_src = np.load(path.join(self.root, 'test', 'BEMS_RNN_test_labels.npy'))\n",
    "\n",
    "        data_src = np.asarray(data_src[:-self.delay])\n",
    "        label_src = np.asarray(label_src[self.delay:])\n",
    "\n",
    "        self.data = []\n",
    "        self.label = []\n",
    "        for frame_i in range(len(data_src) - self.time_window):\n",
    "            self.data.append(data_src[frame_i:frame_i+self.time_window])\n",
    "            self.label.append(label_src[frame_i:frame_i+self.time_window])\n",
    "\n",
    "        self.data = np.asarray(self.data)\n",
    "        self.label = np.asarray(self.label)\n",
    "\n",
    "    def __getitem__(self, item):\n",
    "        d = self.data[item, :]\n",
    "        l = self.label[item, :]\n",
    "        return d, l\n",
    "\n",
    "    def __len__(self):\n",
    "        return self.data.shape[0]"
   ]
  },
  {
   "cell_type": "markdown",
   "metadata": {
    "id": "K-0d6emJaFWQ"
   },
   "source": [
    "## ネットワークモデルの定義\n",
    "リカレントニューラルネットワークを定義します．\n",
    "ここでは，RNN層1層，全結合層1層から構成されるネットワークとします．\n",
    "\n",
    "`forward`関数では，定義した層を接続して処理するように記述し，最終的な出力結果を求めます．"
   ]
  },
  {
   "cell_type": "code",
   "execution_count": 5,
   "metadata": {
    "id": "vdCVwOGBaHaz"
   },
   "outputs": [],
   "source": [
    "class RNN_Net(nn.Module):\n",
    "    def __init__(self):\n",
    "        super(RNN_Net, self).__init__()\n",
    "        self.rnn = nn.RNNCell(34, 128)\n",
    "        self.l1 = nn.Linear(128, 1)\n",
    "    \n",
    "    def forward(self, x, hx):\n",
    "        hx = self.rnn(x, hx)\n",
    "        h = self.l1(hx)\n",
    "        return h, hx"
   ]
  },
  {
   "cell_type": "markdown",
   "metadata": {
    "id": "I5eOqpBZaKGA"
   },
   "source": [
    "## ネットワークの作成\n",
    "上のプログラムで定義したネットワークを作成します．\n"
   ]
  },
  {
   "cell_type": "code",
   "execution_count": 6,
   "metadata": {
    "id": "43ToDcxsaPGq"
   },
   "outputs": [],
   "source": [
    "model = RNN_Net()\n",
    "if use_cuda:\n",
    "    model.cuda()\n",
    "\n",
    "optimizer = torch.optim.SGD(model.parameters(), lr=0.01, momentum=0.9)"
   ]
  },
  {
   "cell_type": "markdown",
   "metadata": {
    "id": "rQw0QicKaRAE"
   },
   "source": [
    "## 学習\n",
    "先ほど定義したデータセットと作成したネットワークを用いて，学習を行います．\n",
    "\n",
    "1回の誤差を算出するデータ数（ミニバッチサイズ）を100，学習エポック数を20とします．\n",
    "また，1サンプルあたりのデータの長さ（time window）を10に指定します．\n",
    "\n",
    "次にデータローダーを定義します．\n",
    "データローダーでは，上で読み込んだデータセット（`train_data`）を用いて，for文で指定したミニバッチサイズでデータを読み込むオブジェクトを作成します．\n",
    "この時，`shuffle=True`と設定することで，読み込むデータを毎回ランダムに指定します．\n",
    "\n",
    "次に，誤差関数を設定します．\n",
    "今回は，連続値を出力する回帰問題をあつかうため，`MSELoss`を`criterion`として定義します．\n",
    "\n",
    "学習を開始します．\n",
    "\n",
    "各更新において，学習用データと教師データをそれぞれ`data`と`label`とします．\n",
    "まず，LSTMの隠れ状態とセル状態である`hx`と`cx`を`torch.zeros`を用いて初期化します．\n",
    "この時，1次元目のサイズはバッチサイズに対応するように，`data`のサイズから自動的に決定します．\n",
    "\n",
    "その後，学習モデルに`data`を与えて各クラスの確率yを取得します．\n",
    "今回はLSTMを用いて時系列データを順次処理するため，for文を用いて，各時刻のデータを順番に入力し，結果を得ます．\n",
    "そして，各クラスの確率yと教師ラベルtとの誤差を`criterion`で算出します．\n",
    "また，認識精度も算出します．\n",
    "そして，誤差をbackward関数で逆伝播し，ネットワークの更新を行います．"
   ]
  },
  {
   "cell_type": "code",
   "execution_count": 7,
   "metadata": {
    "colab": {
     "base_uri": "https://localhost:8080/"
    },
    "id": "TFBfkbt5aTEa",
    "outputId": "af70e942-1f0b-4394-9544-fdebf4a461be"
   },
   "outputs": [
    {
     "name": "stderr",
     "output_type": "stream",
     "text": [
      "/opt/conda/lib/python3.7/site-packages/torch/nn/modules/loss.py:432: UserWarning: Using a target size (torch.Size([10])) that is different to the input size (torch.Size([10, 1])). This will likely lead to incorrect results due to broadcasting. Please ensure they have the same size.\n",
      "  return F.mse_loss(input, target, reduction=self.reduction)\n"
     ]
    },
    {
     "name": "stdout",
     "output_type": "stream",
     "text": [
      "epoch: 1, mean loss: 82.00459562127438, elapsed_time: 5.662775754928589\n",
      "epoch: 2, mean loss: 10.8673710512046, elapsed_time: 11.034223318099976\n",
      "epoch: 3, mean loss: 8.585184589452297, elapsed_time: 16.369728326797485\n",
      "epoch: 4, mean loss: 8.58592251404066, elapsed_time: 21.67610216140747\n",
      "epoch: 5, mean loss: 8.18418811714519, elapsed_time: 27.031697273254395\n",
      "epoch: 6, mean loss: 8.645279007268584, elapsed_time: 32.377174377441406\n",
      "epoch: 7, mean loss: 8.169557884535266, elapsed_time: 37.746267557144165\n",
      "epoch: 8, mean loss: 8.236921683600315, elapsed_time: 43.07990312576294\n",
      "epoch: 9, mean loss: 8.73704307970766, elapsed_time: 48.4319167137146\n",
      "epoch: 10, mean loss: 7.347879688705177, elapsed_time: 53.79287362098694\n",
      "epoch: 11, mean loss: 6.5657585546335895, elapsed_time: 59.122150182724\n",
      "epoch: 12, mean loss: 8.108419884225953, elapsed_time: 64.5216908454895\n",
      "epoch: 13, mean loss: 9.384952257730362, elapsed_time: 69.8653974533081\n",
      "epoch: 14, mean loss: 8.839159855836328, elapsed_time: 75.22831320762634\n",
      "epoch: 15, mean loss: 8.704766830535277, elapsed_time: 80.59669303894043\n",
      "epoch: 16, mean loss: 7.600553880422552, elapsed_time: 85.83746719360352\n",
      "epoch: 17, mean loss: 8.996018733417998, elapsed_time: 91.18034672737122\n",
      "epoch: 18, mean loss: 6.891335930730023, elapsed_time: 96.51649403572083\n",
      "epoch: 19, mean loss: 10.424231227974815, elapsed_time: 101.83625912666321\n",
      "epoch: 20, mean loss: 8.899045894181716, elapsed_time: 107.13072776794434\n"
     ]
    }
   ],
   "source": [
    "# ミニバッチサイズ・エポック数の設定\n",
    "batch_size = 100\n",
    "epoch_num = 20\n",
    "time_window = 10\n",
    "\n",
    "# データセットの読み込み・データローダーの設定\n",
    "train_data = BEMSDataset(root=\"./data\", train=True, delay=1, time_window=time_window)\n",
    "train_loader = torch.utils.data.DataLoader(train_data, batch_size=batch_size, shuffle=True)\n",
    "\n",
    "# 誤差関数の設定\n",
    "criterion = nn.MSELoss()\n",
    "if use_cuda:\n",
    "    criterion.cuda()\n",
    "\n",
    "# ネットワークを学習モードへ変更\n",
    "model.train()\n",
    "\n",
    "start = time()\n",
    "for epoch in range(1, epoch_num+1):\n",
    "    total_loss = 0\n",
    "\n",
    "    for data, label in train_loader:\n",
    "        hx = torch.zeros(data.size()[1], 128)\n",
    "        \n",
    "        if use_cuda:\n",
    "            data = data.cuda()\n",
    "            label = label.cuda()\n",
    "            hx = hx.cuda()\n",
    "    \n",
    "        accum_loss = 0.0\n",
    "        \n",
    "        for idx_window in range(time_window):\n",
    "            y, hx = model(data[idx_window], hx)\n",
    "            loss = criterion(y, label[idx_window])\n",
    "            accum_loss += loss\n",
    "            total_loss += loss.item()\n",
    "            \n",
    "        optimizer.zero_grad()\n",
    "        loss.backward()\n",
    "        optimizer.step()\n",
    "  \n",
    "    elapsed_time = time() - start\n",
    "    print(\"epoch: {}, mean loss: {}, elapsed_time: {}\".format(epoch, total_loss, elapsed_time))"
   ]
  },
  {
   "cell_type": "markdown",
   "metadata": {
    "id": "tDF2IlzvaUtE"
   },
   "source": [
    "## 評価\n",
    "学習したネットワークモデルを用いて評価（予測結果の可視化）を行います．\n",
    "可視化にはmatplotlibを用います"
   ]
  },
  {
   "cell_type": "code",
   "execution_count": 8,
   "metadata": {
    "colab": {
     "base_uri": "https://localhost:8080/",
     "height": 282
    },
    "id": "ixaVijMUaWei",
    "outputId": "935cf040-b7a8-4eda-cc81-ada998fabd1b"
   },
   "outputs": [
    {
     "name": "stdout",
     "output_type": "stream",
     "text": [
      "mse error : 0.0034\n"
     ]
    },
    {
     "data": {
      "image/png": "[encoded data removed]",
      "text/plain": [
       "<Figure size 432x288 with 1 Axes>"
      ]
     },
     "metadata": {
      "needs_background": "light"
     },
     "output_type": "display_data"
    }
   ],
   "source": [
    "# データセットの読み込み・データローダーの設定\n",
    "test_data = BEMSDataset(root=\"./data\", train=False, delay=1, time_window=1)\n",
    "test_loader = torch.utils.data.DataLoader(test_data, batch_size=1, shuffle=False)\n",
    "\n",
    "# ネットワークを評価モードへ変更\n",
    "model.eval()\n",
    "\n",
    "prediction_result = []\n",
    "        \n",
    "# 評価の実行\n",
    "hx = torch.zeros(1, 128)\n",
    "if use_cuda:\n",
    "    hx = hx.cuda()\n",
    "    \n",
    "with torch.no_grad():\n",
    "    for data, label in test_loader:\n",
    "        \n",
    "        if use_cuda:\n",
    "            data = data.cuda()\n",
    "\n",
    "        y, hx = model(data[0], hx)\n",
    "        \n",
    "        prediction_result.append(y.item())\n",
    "\n",
    "prediction_result = np.array(prediction_result).flatten()\n",
    "\n",
    "from sklearn.metrics import mean_squared_error\n",
    "mse = mean_squared_error(prediction_result, test_data.label)\n",
    "print(\"mse error : {:.4f}\".format(mse))\n",
    "\n",
    "\n",
    "# 結果の表示\n",
    "plt.figure()\n",
    "plt.plot(test_data.label, color='red', label='true')\n",
    "plt.plot(prediction_result.tolist(), color='blue', label='pred')\n",
    "plt.legend()\n",
    "plt.show()"
   ]
  },
  {
   "cell_type": "markdown",
   "metadata": {
    "id": "MdZl17-naZd9"
   },
   "source": [
    "## LSTMによる学習と評価\n",
    "次に，LSTMを利用します．\n",
    "LSTM層はRecurrent Neural Networkの一種です．\n",
    "LSTMへの入力サイズはNoneとし，データにより変更できるようにしておきます．\n",
    "\n",
    "`forward`関数では，定義した層を接続して処理するように記述します．\n",
    "LSTMをはじめとするRecurrent Neural Networkでは，内部に過去の入力情報から計算した値を保持しています．"
   ]
  },
  {
   "cell_type": "code",
   "execution_count": 9,
   "metadata": {
    "id": "lUB_3YiRaa47"
   },
   "outputs": [],
   "source": [
    "class LSTM_Net(nn.Module):\n",
    "    def __init__(self):\n",
    "        super(LSTM_Net, self).__init__()\n",
    "        self.lstm = nn.LSTMCell(34, 128)\n",
    "        self.l1 = nn.Linear(128, 1)\n",
    "    \n",
    "    def forward(self, x, hx, cx):\n",
    "        hx, cx = self.lstm(x, (hx, cx))\n",
    "        h = self.l1(hx)\n",
    "        return h, hx, cx"
   ]
  },
  {
   "cell_type": "code",
   "execution_count": 10,
   "metadata": {
    "colab": {
     "base_uri": "https://localhost:8080/",
     "height": 676
    },
    "id": "GX2SwWzoad0i",
    "outputId": "015a7110-89be-4e2a-d874-f7a7041f7ec5"
   },
   "outputs": [
    {
     "name": "stderr",
     "output_type": "stream",
     "text": [
      "/opt/conda/lib/python3.7/site-packages/torch/nn/modules/loss.py:432: UserWarning: Using a target size (torch.Size([10])) that is different to the input size (torch.Size([10, 1])). This will likely lead to incorrect results due to broadcasting. Please ensure they have the same size.\n",
      "  return F.mse_loss(input, target, reduction=self.reduction)\n"
     ]
    },
    {
     "name": "stdout",
     "output_type": "stream",
     "text": [
      "epoch: 1, mean loss: 256.04630673265183, elapsed_time: 5.5003883838653564\n",
      "epoch: 2, mean loss: 86.07392090136454, elapsed_time: 10.958017349243164\n",
      "epoch: 3, mean loss: 44.15594705377464, elapsed_time: 16.431597232818604\n",
      "epoch: 4, mean loss: 20.952317570237483, elapsed_time: 21.925220489501953\n",
      "epoch: 5, mean loss: 14.481983028220384, elapsed_time: 27.36696720123291\n",
      "epoch: 6, mean loss: 11.704820031933309, elapsed_time: 32.697470903396606\n",
      "epoch: 7, mean loss: 10.590290529253252, elapsed_time: 38.13561153411865\n",
      "epoch: 8, mean loss: 9.141500004994896, elapsed_time: 43.59450149536133\n",
      "epoch: 9, mean loss: 10.01205459179107, elapsed_time: 49.08319020271301\n",
      "epoch: 10, mean loss: 7.838811377212664, elapsed_time: 54.57229566574097\n",
      "epoch: 11, mean loss: 10.04123065414052, elapsed_time: 60.03070425987244\n",
      "epoch: 12, mean loss: 7.714749047442865, elapsed_time: 65.44452548027039\n",
      "epoch: 13, mean loss: 8.708778230127905, elapsed_time: 70.85321593284607\n",
      "epoch: 14, mean loss: 8.053734912837854, elapsed_time: 76.3450219631195\n",
      "epoch: 15, mean loss: 7.639257495156457, elapsed_time: 81.81003761291504\n",
      "epoch: 16, mean loss: 7.846184788439807, elapsed_time: 87.34161353111267\n",
      "epoch: 17, mean loss: 7.535772461483873, elapsed_time: 92.82534956932068\n",
      "epoch: 18, mean loss: 8.632789463310814, elapsed_time: 98.32203102111816\n",
      "epoch: 19, mean loss: 8.493147881543905, elapsed_time: 103.80628943443298\n",
      "epoch: 20, mean loss: 8.84459869659156, elapsed_time: 109.23701977729797\n",
      "mse error : 0.0034\n"
     ]
    },
    {
     "data": {
      "image/png": "[encoded data removed]",
      "text/plain": [
       "<Figure size 432x288 with 1 Axes>"
      ]
     },
     "metadata": {
      "needs_background": "light"
     },
     "output_type": "display_data"
    }
   ],
   "source": [
    "model = LSTM_Net()\n",
    "if use_cuda:\n",
    "    model.cuda()\n",
    "\n",
    "optimizer = torch.optim.SGD(model.parameters(), lr=0.01, momentum=0.9)\n",
    "\n",
    "# ミニバッチサイズ・エポック数の設定\n",
    "batch_size = 100\n",
    "epoch_num = 20\n",
    "time_window = 10\n",
    "\n",
    "# データセットの読み込み・データローダーの設定\n",
    "train_data = BEMSDataset(root=\"./data\", train=True, delay=1, time_window=time_window)\n",
    "train_loader = torch.utils.data.DataLoader(train_data, batch_size=batch_size, shuffle=True)\n",
    "\n",
    "# 誤差関数の設定\n",
    "criterion = nn.MSELoss()\n",
    "if use_cuda:\n",
    "    criterion.cuda()\n",
    "\n",
    "# ネットワークを学習モードへ変更\n",
    "model.train()\n",
    "\n",
    "start = time()\n",
    "for epoch in range(1, epoch_num+1):\n",
    "    total_loss = 0\n",
    "\n",
    "    for data, label in train_loader:\n",
    "        hx = torch.zeros(data.size()[1], 128)\n",
    "        cx = torch.zeros(data.size()[1], 128)\n",
    "        \n",
    "        if use_cuda:\n",
    "            data = data.cuda()\n",
    "            label = label.cuda()\n",
    "            hx = hx.cuda()\n",
    "            cx = cx.cuda()\n",
    "    \n",
    "        accum_loss = 0.0\n",
    "        \n",
    "        for idx_window in range(time_window):\n",
    "            y, hx, cx = model(data[idx_window], hx, cx)\n",
    "            loss = criterion(y, label[idx_window])\n",
    "            accum_loss += loss\n",
    "            total_loss += loss.item()\n",
    "            \n",
    "        optimizer.zero_grad()\n",
    "        loss.backward()\n",
    "        optimizer.step()\n",
    "  \n",
    "    elapsed_time = time() - start\n",
    "    print(\"epoch: {}, mean loss: {}, elapsed_time: {}\".format(epoch, total_loss, elapsed_time))\n",
    "\n",
    "\n",
    "# データセットの読み込み・データローダーの設定\n",
    "test_data = BEMSDataset(root=\"./data\", train=False, delay=1, time_window=1)\n",
    "test_loader = torch.utils.data.DataLoader(test_data, batch_size=1, shuffle=False)\n",
    "\n",
    "# ネットワークを評価モードへ変更\n",
    "model.eval()\n",
    "\n",
    "prediction_result = []\n",
    "        \n",
    "# 評価の実行\n",
    "hx = torch.zeros(1, 128)\n",
    "cx = torch.zeros(1, 128)\n",
    "if use_cuda:\n",
    "    hx = hx.cuda()\n",
    "    cx = cx.cuda()\n",
    "    \n",
    "with torch.no_grad():\n",
    "    for data, label in test_loader:\n",
    "        \n",
    "        if use_cuda:\n",
    "            data = data.cuda()\n",
    "\n",
    "        y, hx, cx = model(data[0], hx, cx)\n",
    "        \n",
    "        prediction_result.append(y.item())\n",
    "\n",
    "prediction_result = np.array(prediction_result).flatten()\n",
    "\n",
    "from sklearn.metrics import mean_squared_error\n",
    "mse = mean_squared_error(prediction_result, test_data.label)\n",
    "print(\"mse error : {:.4f}\".format(mse))\n",
    "\n",
    "\n",
    "# 結果の表示\n",
    "plt.figure()\n",
    "plt.plot(test_data.label, color='red', label='true')\n",
    "plt.plot(prediction_result.tolist(), color='blue', label='pred')\n",
    "plt.legend()\n",
    "plt.show()    "
   ]
  },
  {
   "cell_type": "markdown",
   "metadata": {
    "id": "VRccRuicagDN"
   },
   "source": [
    "## GRUによる学習と評価\n",
    " 次に，GRUも同様に実験してみます"
   ]
  },
  {
   "cell_type": "code",
   "execution_count": 11,
   "metadata": {
    "id": "IfQ-dRPpah8S"
   },
   "outputs": [],
   "source": [
    "class GRU_Net(nn.Module):\n",
    "    def __init__(self):\n",
    "        super(GRU_Net, self).__init__()\n",
    "        self.gru = nn.GRUCell(34, 128)\n",
    "        self.l1 = nn.Linear(128, 1)\n",
    "    \n",
    "    def forward(self, x, hx):\n",
    "        hx = self.gru(x, hx)\n",
    "        h = self.l1(hx)\n",
    "        return h, hx"
   ]
  },
  {
   "cell_type": "code",
   "execution_count": null,
   "metadata": {
    "colab": {
     "base_uri": "https://localhost:8080/",
     "height": 676
    },
    "id": "oP0mOR7GakDn",
    "outputId": "f6c001e6-6b36-4cfa-cc50-57e4b97104f4"
   },
   "outputs": [
    {
     "name": "stderr",
     "output_type": "stream",
     "text": [
      "/opt/conda/lib/python3.7/site-packages/torch/nn/modules/loss.py:432: UserWarning: Using a target size (torch.Size([10])) that is different to the input size (torch.Size([10, 1])). This will likely lead to incorrect results due to broadcasting. Please ensure they have the same size.\n",
      "  return F.mse_loss(input, target, reduction=self.reduction)\n"
     ]
    },
    {
     "name": "stdout",
     "output_type": "stream",
     "text": [
      "epoch: 1, mean loss: 174.43690883288855, elapsed_time: 5.620758056640625\n",
      "epoch: 2, mean loss: 69.09985245895587, elapsed_time: 11.300517320632935\n",
      "epoch: 3, mean loss: 24.677781323562613, elapsed_time: 16.963754653930664\n",
      "epoch: 4, mean loss: 14.739306122666449, elapsed_time: 22.63383650779724\n",
      "epoch: 5, mean loss: 12.789729573002205, elapsed_time: 28.34213662147522\n",
      "epoch: 6, mean loss: 10.313682804063887, elapsed_time: 33.97247266769409\n",
      "epoch: 7, mean loss: 9.514117580262791, elapsed_time: 39.623563051223755\n",
      "epoch: 8, mean loss: 9.81779485095883, elapsed_time: 45.25246286392212\n",
      "epoch: 9, mean loss: 10.310603468480451, elapsed_time: 50.87652277946472\n",
      "epoch: 10, mean loss: 9.368497207206502, elapsed_time: 56.531102895736694\n",
      "epoch: 11, mean loss: 9.728922862979093, elapsed_time: 62.12989282608032\n",
      "epoch: 12, mean loss: 7.491846831333577, elapsed_time: 67.80485105514526\n",
      "epoch: 13, mean loss: 9.72439922902759, elapsed_time: 73.45463681221008\n",
      "epoch: 14, mean loss: 8.742861103849124, elapsed_time: 79.05680537223816\n"
     ]
    }
   ],
   "source": [
    "model = GRU_Net()\n",
    "if use_cuda:\n",
    "    model.cuda()\n",
    "\n",
    "optimizer = torch.optim.SGD(model.parameters(), lr=0.01, momentum=0.9)\n",
    "\n",
    "# ミニバッチサイズ・エポック数の設定\n",
    "batch_size = 100\n",
    "epoch_num = 20\n",
    "time_window = 10\n",
    "\n",
    "# データセットの読み込み・データローダーの設定\n",
    "train_data = BEMSDataset(root=\"./data\", train=True, delay=1, time_window=time_window)\n",
    "train_loader = torch.utils.data.DataLoader(train_data, batch_size=batch_size, shuffle=True)\n",
    "\n",
    "# 誤差関数の設定\n",
    "criterion = nn.MSELoss()\n",
    "if use_cuda:\n",
    "    criterion.cuda()\n",
    "\n",
    "# ネットワークを学習モードへ変更\n",
    "model.train()\n",
    "\n",
    "start = time()\n",
    "for epoch in range(1, epoch_num+1):\n",
    "    total_loss = 0\n",
    "\n",
    "    for data, label in train_loader:\n",
    "        hx = torch.zeros(data.size()[1], 128)\n",
    "        \n",
    "        if use_cuda:\n",
    "            data = data.cuda()\n",
    "            label = label.cuda()\n",
    "            hx = hx.cuda()\n",
    "    \n",
    "        accum_loss = 0.0\n",
    "        \n",
    "        for idx_window in range(time_window):\n",
    "            y, hx = model(data[idx_window], hx)\n",
    "            loss = criterion(y, label[idx_window])\n",
    "            accum_loss += loss\n",
    "            total_loss += loss.item()\n",
    "            \n",
    "        optimizer.zero_grad()\n",
    "        loss.backward()\n",
    "        optimizer.step()\n",
    "  \n",
    "    elapsed_time = time() - start\n",
    "    print(\"epoch: {}, mean loss: {}, elapsed_time: {}\".format(epoch, total_loss, elapsed_time))\n",
    "\n",
    "# データセットの読み込み・データローダーの設定\n",
    "test_data = BEMSDataset(root=\"./data\", train=False, delay=1, time_window=1)\n",
    "test_loader = torch.utils.data.DataLoader(test_data, batch_size=1, shuffle=False)\n",
    "\n",
    "# ネットワークを評価モードへ変更\n",
    "model.eval()\n",
    "\n",
    "prediction_result = []\n",
    "        \n",
    "# 評価の実行\n",
    "hx = torch.zeros(1, 128)\n",
    "if use_cuda:\n",
    "    hx = hx.cuda()\n",
    "    \n",
    "with torch.no_grad():\n",
    "    for data, label in test_loader:\n",
    "        \n",
    "        if use_cuda:\n",
    "            data = data.cuda()\n",
    "\n",
    "        y, hx = model(data[0], hx)\n",
    "        \n",
    "        prediction_result.append(y.item())\n",
    "\n",
    "prediction_result = np.array(prediction_result).flatten()\n",
    "\n",
    "from sklearn.metrics import mean_squared_error\n",
    "mse = mean_squared_error(prediction_result, test_data.label)\n",
    "print(\"mse error : {:.4f}\".format(mse))\n",
    "\n",
    "# 結果の表示\n",
    "plt.figure()\n",
    "plt.plot(test_data.label, color='red', label='true')\n",
    "plt.plot(prediction_result.tolist(), color='blue', label='pred')\n",
    "plt.legend()\n",
    "plt.show()"
   ]
  },
  {
   "cell_type": "markdown",
   "metadata": {
    "id": "Ia8zuzsGarYu"
   },
   "source": [
    "## RNN 2層のネットワークモデル"
   ]
  },
  {
   "cell_type": "code",
   "execution_count": null,
   "metadata": {
    "id": "i7G3rarJaro6"
   },
   "outputs": [],
   "source": [
    "class RNN_Net(nn.Module):\n",
    "    def __init__(self):\n",
    "        super(RNN_Net, self).__init__()\n",
    "        self.rnn1 = nn.RNNCell(34, 128)\n",
    "        self.rnn2 = nn.RNNCell(128, 128)\n",
    "        self.l1 = nn.Linear(128, 1)\n",
    "    \n",
    "    def forward(self, x, hx1, hx2):\n",
    "        h1 = self.rnn1(x, hx1)\n",
    "        h2 = self.rnn2(h1, hx2)\n",
    "        h = self.l1(h2)\n",
    "        return h, h1, h2\n",
    "\n"
   ]
  },
  {
   "cell_type": "code",
   "execution_count": 14,
   "metadata": {
    "colab": {
     "base_uri": "https://localhost:8080/",
     "height": 676
    },
    "id": "1veXjZmeas3k",
    "outputId": "cba86fea-e028-40e5-903f-ccb65deeda64"
   },
   "outputs": [
    {
     "name": "stdout",
     "output_type": "stream",
     "text": [
      "epoch: 9, mean loss: 8.235019693532735, elapsed_time: 74.12333297729492\n",
      "epoch: 10, mean loss: 7.616172285788139, elapsed_time: 82.41387605667114\n",
      "epoch: 11, mean loss: 7.568067274627559, elapsed_time: 90.6479229927063\n",
      "epoch: 12, mean loss: 7.76089235442771, elapsed_time: 98.89861154556274\n",
      "epoch: 13, mean loss: 7.797360119092929, elapsed_time: 107.10796523094177\n",
      "epoch: 14, mean loss: 9.111304718118276, elapsed_time: 115.30835437774658\n",
      "epoch: 15, mean loss: 9.109256924420183, elapsed_time: 123.5123279094696\n",
      "epoch: 16, mean loss: 7.964109835639732, elapsed_time: 131.76022028923035\n",
      "epoch: 17, mean loss: 8.843442614880246, elapsed_time: 140.0013325214386\n",
      "epoch: 18, mean loss: 8.458012517113822, elapsed_time: 148.21876335144043\n",
      "epoch: 19, mean loss: 9.063014216378775, elapsed_time: 156.36525464057922\n",
      "epoch: 20, mean loss: 9.568654712706348, elapsed_time: 164.6057345867157\n",
      "mse error : 0.0035\n"
     ]
    },
    {
     "data": {
      "image/png": "[encoded data removed]",
      "text/plain": [
       "<Figure size 432x288 with 1 Axes>"
      ]
     },
     "metadata": {
      "needs_background": "light"
     },
     "output_type": "display_data"
    }
   ],
   "source": [
    "model = RNN_Net()\n",
    "if use_cuda:\n",
    "    model.cuda()\n",
    "\n",
    "optimizer = torch.optim.SGD(model.parameters(), lr=0.01, momentum=0.9)\n",
    "\n",
    "# ミニバッチサイズ・エポック数の設定\n",
    "batch_size = 100\n",
    "epoch_num = 20\n",
    "time_window = 10\n",
    "\n",
    "# データセットの読み込み・データローダーの設定\n",
    "train_data = BEMSDataset(root=\"./data\", train=True, delay=1, time_window=time_window)\n",
    "train_loader = torch.utils.data.DataLoader(train_data, batch_size=batch_size, shuffle=True)\n",
    "\n",
    "# 誤差関数の設定\n",
    "criterion = nn.MSELoss()\n",
    "if use_cuda:\n",
    "    criterion.cuda()\n",
    "\n",
    "# ネットワークを学習モードへ変更\n",
    "model.train()\n",
    "\n",
    "start = time()\n",
    "for epoch in range(1, epoch_num+1):\n",
    "    total_loss = 0\n",
    "\n",
    "    for data, label in train_loader:\n",
    "        hx1 = torch.zeros(data.size()[1], 128)\n",
    "        hx2 = torch.zeros(data.size()[1], 128)\n",
    "        \n",
    "        if use_cuda:\n",
    "            data = data.cuda()\n",
    "            label = label.cuda()\n",
    "            hx1 = hx1.cuda()\n",
    "            hx2 = hx2.cuda()\n",
    "    \n",
    "        accum_loss = 0.0\n",
    "        \n",
    "        for idx_window in range(time_window):\n",
    "            y, hx1, hx2 = model(data[idx_window], hx1, hx2)\n",
    "            loss = criterion(y, label[idx_window])\n",
    "            accum_loss += loss\n",
    "            total_loss += loss.item()\n",
    "            \n",
    "        optimizer.zero_grad()\n",
    "        loss.backward()\n",
    "        optimizer.step()\n",
    "  \n",
    "    elapsed_time = time() - start\n",
    "    print(\"epoch: {}, mean loss: {}, elapsed_time: {}\".format(epoch, total_loss, elapsed_time))\n",
    "\n",
    "# データセットの読み込み・データローダーの設定\n",
    "test_data = BEMSDataset(root=\"./data\", train=False, delay=1, time_window=1)\n",
    "test_loader = torch.utils.data.DataLoader(test_data, batch_size=1, shuffle=False)\n",
    "\n",
    "# ネットワークを評価モードへ変更\n",
    "model.eval()\n",
    "\n",
    "prediction_result = []\n",
    "        \n",
    "# 評価の実行\n",
    "hx1 = torch.zeros(1, 128)\n",
    "hx2 = torch.zeros(1, 128)\n",
    "if use_cuda:\n",
    "    hx1 = hx1.cuda()\n",
    "    hx2 = hx2.cuda()\n",
    "    \n",
    "with torch.no_grad():\n",
    "    for data, label in test_loader:\n",
    "        \n",
    "        if use_cuda:\n",
    "            data = data.cuda()\n",
    "\n",
    "        y, hx1, hx2 = model(data[0], hx1, hx2)\n",
    "        \n",
    "        prediction_result.append(y.item())\n",
    "\n",
    "prediction_result = np.array(prediction_result).flatten()\n",
    "\n",
    "from sklearn.metrics import mean_squared_error\n",
    "mse = mean_squared_error(prediction_result, test_data.label)\n",
    "print(\"mse error : {:.4f}\".format(mse))\n",
    "\n",
    "# 結果の表示\n",
    "plt.figure()\n",
    "plt.plot(test_data.label, color='red', label='true')\n",
    "plt.plot(prediction_result.tolist(), color='blue', label='pred')\n",
    "plt.legend()\n",
    "plt.show()"
   ]
  },
  {
   "cell_type": "markdown",
   "metadata": {
    "id": "7ro-rZoZauif"
   },
   "source": [
    "##10時刻未来を予測する"
   ]
  },
  {
   "cell_type": "code",
   "execution_count": 15,
   "metadata": {
    "colab": {
     "base_uri": "https://localhost:8080/",
     "height": 676
    },
    "id": "5ZQEGWD0aweC",
    "outputId": "7770dd03-7492-4f46-93e6-d1b45b377404"
   },
   "outputs": [
    {
     "name": "stderr",
     "output_type": "stream",
     "text": [
      "/opt/conda/lib/python3.7/site-packages/torch/nn/modules/loss.py:432: UserWarning: Using a target size (torch.Size([10])) that is different to the input size (torch.Size([10, 1])). This will likely lead to incorrect results due to broadcasting. Please ensure they have the same size.\n",
      "  return F.mse_loss(input, target, reduction=self.reduction)\n"
     ]
    },
    {
     "name": "stdout",
     "output_type": "stream",
     "text": [
      "epoch: 1, mean loss: 130.33691624898893, elapsed_time: 8.222043991088867\n",
      "epoch: 2, mean loss: 43.68347788234678, elapsed_time: 16.506040334701538\n",
      "epoch: 3, mean loss: 31.37969599151188, elapsed_time: 24.6791353225708\n",
      "epoch: 4, mean loss: 26.73853149193792, elapsed_time: 32.843425273895264\n",
      "epoch: 5, mean loss: 28.256690941871284, elapsed_time: 41.06111168861389\n",
      "epoch: 6, mean loss: 25.826478423693516, elapsed_time: 49.321223735809326\n",
      "epoch: 7, mean loss: 29.52466766787029, elapsed_time: 57.54171109199524\n",
      "epoch: 8, mean loss: 28.00082651890898, elapsed_time: 65.71518445014954\n",
      "epoch: 9, mean loss: 21.24850062122539, elapsed_time: 73.95736575126648\n",
      "epoch: 10, mean loss: 25.86055419946183, elapsed_time: 82.24949216842651\n",
      "epoch: 11, mean loss: 24.934877736218823, elapsed_time: 90.4785270690918\n",
      "epoch: 12, mean loss: 23.16951103936335, elapsed_time: 98.71896481513977\n",
      "epoch: 13, mean loss: 23.883262396829423, elapsed_time: 106.87616086006165\n",
      "epoch: 14, mean loss: 23.127924523334514, elapsed_time: 115.08956503868103\n",
      "epoch: 15, mean loss: 26.21559606200435, elapsed_time: 123.20822811126709\n",
      "epoch: 16, mean loss: 24.00257540710163, elapsed_time: 131.4546775817871\n",
      "epoch: 17, mean loss: 24.9909128638933, elapsed_time: 139.72186040878296\n",
      "epoch: 18, mean loss: 24.48709189149463, elapsed_time: 147.90641379356384\n",
      "epoch: 19, mean loss: 24.896832261283976, elapsed_time: 156.06276845932007\n",
      "epoch: 20, mean loss: 21.38227757507616, elapsed_time: 164.31897163391113\n",
      "mse error : 0.0038\n"
     ]
    },
    {
     "data": {
      "image/png": "[encoded data removed]",
      "text/plain": [
       "<Figure size 432x288 with 1 Axes>"
      ]
     },
     "metadata": {
      "needs_background": "light"
     },
     "output_type": "display_data"
    }
   ],
   "source": [
    "model = RNN_Net()\n",
    "if use_cuda:\n",
    "    model.cuda()\n",
    "\n",
    "optimizer = torch.optim.SGD(model.parameters(), lr=0.01, momentum=0.9)\n",
    "\n",
    "# ミニバッチサイズ・エポック数の設定\n",
    "batch_size = 100\n",
    "epoch_num = 20\n",
    "time_window = 10\n",
    "\n",
    "# データセットの読み込み・データローダーの設定\n",
    "train_data = BEMSDataset(root=\"./data\", train=True, delay=10, time_window=time_window)\n",
    "train_loader = torch.utils.data.DataLoader(train_data, batch_size=batch_size, shuffle=True)\n",
    "\n",
    "# 誤差関数の設定\n",
    "criterion = nn.MSELoss()\n",
    "if use_cuda:\n",
    "    criterion.cuda()\n",
    "\n",
    "# ネットワークを学習モードへ変更\n",
    "model.train()\n",
    "\n",
    "start = time()\n",
    "for epoch in range(1, epoch_num+1):\n",
    "    total_loss = 0\n",
    "\n",
    "    for data, label in train_loader:\n",
    "        hx1 = torch.zeros(data.size()[1], 128)\n",
    "        hx2 = torch.zeros(data.size()[1], 128)\n",
    "        \n",
    "        if use_cuda:\n",
    "            data = data.cuda()\n",
    "            label = label.cuda()\n",
    "            hx1 = hx1.cuda()\n",
    "            hx2 = hx2.cuda()\n",
    "    \n",
    "        accum_loss = 0.0\n",
    "        \n",
    "        for idx_window in range(time_window):\n",
    "            y, hx1, hx2 = model(data[idx_window], hx1, hx2)\n",
    "            loss = criterion(y, label[idx_window])\n",
    "            accum_loss += loss\n",
    "            total_loss += loss.item()\n",
    "            \n",
    "        optimizer.zero_grad()\n",
    "        loss.backward()\n",
    "        optimizer.step()\n",
    "  \n",
    "    elapsed_time = time() - start\n",
    "    print(\"epoch: {}, mean loss: {}, elapsed_time: {}\".format(epoch, total_loss, elapsed_time))\n",
    "\n",
    "# データセットの読み込み・データローダーの設定\n",
    "test_data = BEMSDataset(root=\"./data\", train=False, delay=10, time_window=1)\n",
    "test_loader = torch.utils.data.DataLoader(test_data, batch_size=1, shuffle=False)\n",
    "\n",
    "# ネットワークを評価モードへ変更\n",
    "model.eval()\n",
    "\n",
    "prediction_result = []\n",
    "        \n",
    "# 評価の実行\n",
    "hx1 = torch.zeros(1, 128)\n",
    "hx2 = torch.zeros(1, 128)\n",
    "if use_cuda:\n",
    "    hx1 = hx1.cuda()\n",
    "    hx2 = hx2.cuda()\n",
    "    \n",
    "with torch.no_grad():\n",
    "    for data, label in test_loader:\n",
    "        \n",
    "        if use_cuda:\n",
    "            data = data.cuda()\n",
    "\n",
    "        y, hx1, hx2 = model(data[0], hx1, hx2)\n",
    "        \n",
    "        prediction_result.append(y.item())\n",
    "\n",
    "prediction_result = np.array(prediction_result).flatten()\n",
    "\n",
    "from sklearn.metrics import mean_squared_error\n",
    "mse = mean_squared_error(prediction_result, test_data.label)\n",
    "print(\"mse error : {:.4f}\".format(mse))\n",
    "\n",
    "# 結果の表示\n",
    "plt.figure()\n",
    "plt.plot(test_data.label, color='red', label='true')\n",
    "plt.plot(prediction_result.tolist(), color='blue', label='pred')\n",
    "plt.legend()\n",
    "plt.show()"
   ]
  },
  {
   "cell_type": "markdown",
   "metadata": {
    "id": "a-EzxEBnbFwb"
   },
   "source": [
    "#課題\n",
    "　１．電力予測について，入力データを現在の電力・気温・湿度のみ入力してみましょう"
   ]
  },
  {
   "cell_type": "code",
   "execution_count": null,
   "metadata": {
    "id": "nFsrjBgubGJy"
   },
   "outputs": [],
   "source": []
  }
 ],
 "metadata": {
  "accelerator": "GPU",
  "colab": {
   "collapsed_sections": [],
   "name": "01-03_RNN.ipynb",
   "provenance": [],
   "toc_visible": true
  },
  "kernelspec": {
   "display_name": "Python 3",
   "language": "python",
   "name": "python3"
  },
  "language_info": {
   "codemirror_mode": {
    "name": "ipython",
    "version": 3
   },
   "file_extension": ".py",
   "mimetype": "text/x-python",
   "name": "python",
   "nbconvert_exporter": "python",
   "pygments_lexer": "ipython3",
   "version": "3.7.6"
  }
 },
 "nbformat": 4,
 "nbformat_minor": 1
}
