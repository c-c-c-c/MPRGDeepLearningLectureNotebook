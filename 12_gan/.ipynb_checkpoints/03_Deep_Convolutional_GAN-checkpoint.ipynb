{
 "cells": [
  {
   "cell_type": "markdown",
   "metadata": {
    "colab_type": "text",
    "id": "view-in-github"
   },
   "source": [
    "<a href=\"https://colab.research.google.com/github/machine-perception-robotics-group/MPRGDeepLearningLectureNotebook/blob/master/12_gan/03_Deep_Convolutional_GAN.ipynb\" target=\"_parent\"><img src=\"https://colab.research.google.com/assets/colab-badge.svg\" alt=\"Open In Colab\"/></a>"
   ]
  },
  {
   "cell_type": "markdown",
   "metadata": {
    "id": "9hMYxHFHeE9o"
   },
   "source": [
    "# Deep Convolutional Generative Adversarial Networks (DC-GAN)\n",
    "## 目的\n",
    "DC-GANによって画像の生成をして動作を理解する．"
   ]
  },
  {
   "cell_type": "markdown",
   "metadata": {
    "id": "lL9fMQrC6C4v"
   },
   "source": [
    "## 必要なモジュールのインポート\n",
    "Pytorchで学習するときに必要となるモジュールをインポートします．"
   ]
  },
  {
   "cell_type": "code",
   "execution_count": 1,
   "metadata": {
    "id": "_uTXbOYTeE9o"
   },
   "outputs": [],
   "source": [
    "import numpy as np\n",
    "from PIL import Image\n",
    "%matplotlib inline\n",
    "import matplotlib.pyplot as plt\n",
    "\n",
    "import torch\n",
    "import torch.nn as nn\n",
    "import torch.optim as optim\n",
    "from torch.utils.data import DataLoader\n",
    "from torchvision import datasets, transforms"
   ]
  },
  {
   "cell_type": "markdown",
   "metadata": {
    "id": "Ub7VJ3DFeE9s"
   },
   "source": [
    "## ネットワークの構築\n",
    "オリジナルのGANは，全結合層とReLUのみで構築される非常にシンプルなネットワークでした．<br>\n",
    "シンプルな反面で，学習が不安定になったり，高解像な画像生成とは言い難いものでした．\n",
    "\n",
    "Deep Convolutional GAN (DC-GAN)は，名前の通り畳み込み処理を用いたネットワークの構築することによって，オリジナルのGANより綺麗な画像を生成することを可能としました．\n",
    "他にもDC-GANは，以下に示す点でもオリジナルのGANと異なります．\n",
    "* Batch Normalizationを利用する．（Discriminatorの1層目と最終層は除く）\n",
    "* Discriminatorの活性化関数は，Leaky ReLUを使用する．\n",
    "* Generatorの最終層はtanh関数を使用する．（それ以外の層は全てReLU）\n",
    "* Deconvolutionの使用，PoolingではなくConvolutionによるDownsampling\n",
    "\n",
    "これらを考慮してDiscriminatorとGeneratorのネットワークを構築します．<br>\n",
    "GeneratorとDiscriminator共に重みパラメータは平均が0，偏差が0.02の正規分布で，バイアスは0で初期化します．"
   ]
  },
  {
   "cell_type": "code",
   "execution_count": 2,
   "metadata": {
    "id": "KET06Es1eE9s"
   },
   "outputs": [],
   "source": [
    "class Generator(nn.Module):\n",
    "    def __init__(self, latent_dim=100, out_ch=3, img_size=32):\n",
    "        super(Generator, self).__init__()\n",
    "        n_layer = int(np.log2(img_size)) - 2\n",
    "        self.model = nn.Sequential()\n",
    "        \n",
    "        features = 512\n",
    "        self.model.add_module('Deconv_first', nn.ConvTranspose2d(latent_dim, features, 2, 2, bias=True))\n",
    "        self.model.add_module('BN_first', nn.BatchNorm2d(features))\n",
    "        self.model.add_module('Act_first', nn.ReLU(inplace=True))\n",
    "  \n",
    "        in_features = features\n",
    "        for i in range(n_layer):\n",
    "            out_features = in_features // 2\n",
    "            self.model.add_module('Deconv%d' % i, nn.ConvTranspose2d(in_features, out_features, 4, 2, 1, bias=True))\n",
    "            self.model.add_module('BN%d' % i, nn.BatchNorm2d(out_features))\n",
    "            self.model.add_module('Act%d' % i, nn.ReLU(inplace=True))\n",
    "            in_features = out_features\n",
    "        \n",
    "        self.model.add_module('Deconv_last', nn.ConvTranspose2d(in_features, out_ch, 2, 2, bias=True))\n",
    "        self.model.add_module('Act_last', nn.Tanh())\n",
    "        self.weight_init()\n",
    "\n",
    "    def weight_init(self):\n",
    "        for m in self.model:\n",
    "          if isinstance(m, nn.ConvTranspose2d) or isinstance(m, nn.Conv2d):\n",
    "            m.weight.data.normal_(0.0, 0.02)\n",
    "            m.bias.data.zero_()\n",
    "\n",
    "    def forward(self, z):\n",
    "        return self.model(z)\n",
    "    \n",
    "class Discriminator(nn.Module):\n",
    "    def __init__(self, in_ch=3, img_size=32):\n",
    "        super(Discriminator, self).__init__()\n",
    "        n_layer = int(np.log2(img_size)) - 2\n",
    "        self.model = nn.Sequential()\n",
    "        \n",
    "        features = 32\n",
    "        self.model.add_module('Conv_first', nn.Conv2d(in_ch, features, 4, 2, 1, bias=True))\n",
    "        self.model.add_module('Act_first', nn.LeakyReLU(negative_slope=0.2))\n",
    "  \n",
    "        in_features = features\n",
    "        for i in range(n_layer):\n",
    "            out_features = in_features * 2\n",
    "            self.model.add_module('Conv%d' % i, nn.Conv2d(in_features, out_features, 4, 2, 1, bias=True))\n",
    "            self.model.add_module('BN%d' % i, nn.BatchNorm2d(out_features))\n",
    "            self.model.add_module('Act%d' % i, nn.LeakyReLU(negative_slope=0.2))\n",
    "            in_features = out_features\n",
    "        \n",
    "        self.model.add_module('Conv_last', nn.Conv2d(in_features, 1, 2, 1, bias=True))\n",
    "        self.weight_init()\n",
    "  \n",
    "    def weight_init(self):\n",
    "        for m in self.model:\n",
    "          if isinstance(m, nn.ConvTranspose2d) or isinstance(m, nn.Conv2d):\n",
    "            m.weight.data.normal_(0.0, 0.02)\n",
    "            m.bias.data.zero_()\n",
    "\n",
    "    def forward(self, x):\n",
    "        return self.model(x).view(-1)"
   ]
  },
  {
   "cell_type": "markdown",
   "metadata": {
    "id": "5Ata4tGheE9v"
   },
   "source": [
    "## データセットと最適化関数\n",
    "データセットにはMNISTを使用します．\n",
    "最適化関数はAdam optimizer使用し，学習率$2\\times 10^4$，betaの値を$0.5, 0.999$として学習します．"
   ]
  },
  {
   "cell_type": "code",
   "execution_count": null,
   "metadata": {
    "colab": {
     "base_uri": "https://localhost:8080/",
     "height": 646
    },
    "id": "OWYLuDW6eE9v",
    "outputId": "7f363b43-aeeb-4afe-94e3-0060386ca288"
   },
   "outputs": [
    {
     "name": "stdout",
     "output_type": "stream",
     "text": [
      "Downloading http://yann.lecun.com/exdb/mnist/train-images-idx3-ubyte.gz to ./data/MNIST/raw/train-images-idx3-ubyte.gz\n"
     ]
    },
    {
     "data": {
      "application/vnd.jupyter.widget-view+json": {
       "model_id": "f9272ec633c941a89e84474c11d231bd",
       "version_major": 2,
       "version_minor": 0
      },
      "text/plain": [
       "HBox(children=(FloatProgress(value=1.0, bar_style='info', max=1.0), HTML(value='')))"
      ]
     },
     "metadata": {},
     "output_type": "display_data"
    }
   ],
   "source": [
    "transform_training = transforms.Compose([\n",
    "        transforms.Resize((32, 32)),\n",
    "        transforms.ToTensor()])\n",
    "mnist_data = datasets.MNIST(root='./data', train=True, transform=transform_training, download=True)\n",
    "training_data = DataLoader(mnist_data, batch_size=128, shuffle=True)\n",
    "\n",
    "device = torch.device(\"cuda:0\" if torch.cuda.is_available() else \"cpu\")\n",
    "latent_dim = 100\n",
    "G = Generator(latent_dim=latent_dim, out_ch=1, img_size=32).to(device)\n",
    "D = Discriminator(in_ch=1, img_size=32).to(device)\n",
    "opt_g = optim.Adam(G.parameters(), lr=0.0002, betas=(0.5, 0.999))\n",
    "opt_d = optim.Adam(D.parameters(), lr=0.0002, betas=(0.5, 0.999))\n",
    "print('=' * 50)\n",
    "print(G)\n",
    "print('=' * 50)\n",
    "print(D)\n",
    "print('=' * 50)"
   ]
  },
  {
   "cell_type": "markdown",
   "metadata": {
    "id": "ea60zVkueE9z"
   },
   "source": [
    "## GANの学習\n",
    "学習のプロセスは，オリジナルのGANと同じです．"
   ]
  },
  {
   "cell_type": "code",
   "execution_count": null,
   "metadata": {
    "colab": {
     "base_uri": "https://localhost:8080/",
     "height": 1000
    },
    "id": "meu9G0CPeE9z",
    "outputId": "1bcd996f-2de6-4736-b3c4-4554597120a5"
   },
   "outputs": [],
   "source": [
    "n_epoch = 20\n",
    "n_critic = 1\n",
    "criterion = nn.BCEWithLogitsLoss()\n",
    "print(device)\n",
    "for epoch in range(1, n_epoch+1):\n",
    "    Tensor = torch.cuda.FloatTensor\n",
    "    G.train()\n",
    "    D.train()\n",
    "    for idx, (real_x, _) in enumerate(training_data):\n",
    "        real_x = real_x.to(device)\n",
    "        batch = real_x.size(0)\n",
    "        flag_real = Tensor(batch).fill_(1.0)\n",
    "        flag_fake = Tensor(batch).fill_(0.0)\n",
    "        \n",
    "        for _ in range(n_critic):\n",
    "            D.zero_grad()\n",
    "            z = torch.randn(batch, latent_dim, 1, 1).to(device)\n",
    "            fake_x = G(z)\n",
    "            out_real = D(real_x)\n",
    "            out_fake = D(fake_x.detach())\n",
    "            loss_real = criterion(out_real, flag_real)\n",
    "            loss_fake = criterion(out_fake, flag_fake)\n",
    "            dis_loss = loss_real + loss_fake\n",
    "            dis_loss.backward()\n",
    "            opt_d.step()\n",
    "            \n",
    "        G.zero_grad()\n",
    "        z = torch.randn(batch, latent_dim, 1, 1).to(device)\n",
    "        fake_x = G(z)\n",
    "        out_gen = D(fake_x)\n",
    "        gen_loss = criterion(out_gen, flag_real)\n",
    "        gen_loss.backward()\n",
    "        opt_g.step()\n",
    "        \n",
    "        if idx % 100 == 0:\n",
    "            print('Training epoch: {} [{}/{} ({:.0f}%)] | D loss: {:.6f} | G loss: {:.6f} |'\\\n",
    "                  .format(epoch, idx * len(real_x), len(training_data.dataset),\n",
    "                  100. * idx / len(training_data), dis_loss.item(), gen_loss.item()))"
   ]
  },
  {
   "cell_type": "code",
   "execution_count": null,
   "metadata": {
    "colab": {
     "base_uri": "https://localhost:8080/",
     "height": 578
    },
    "id": "RJJMbAwpeE91",
    "outputId": "44fe5e3b-2e1b-4125-b478-0647dc2bc111"
   },
   "outputs": [],
   "source": [
    "z = torch.randn(100, 100, 1, 1).to(device)\n",
    "G.eval()\n",
    "with torch.no_grad():\n",
    "  test_img = G(z)\n",
    "_test_img = (test_img * 256.).clamp(min=0., max=255.).squeeze().data.cpu().numpy()\n",
    "\n",
    "fig = plt.figure(figsize=(10, 10))\n",
    "for i, im in enumerate(_test_img):\n",
    "    ax = fig.add_subplot(10, 10, i+1, xticks=[], yticks=[])\n",
    "    ax.imshow(im, 'gray')"
   ]
  },
  {
   "cell_type": "markdown",
   "metadata": {
    "id": "VY2-w6Z1MTS1"
   },
   "source": [
    "## 課題\n",
    "1. データセットをMNISTからCIFAR-10に変更して学習してみましょう．\n",
    "2. 2つの潜在変数の間を補間するように画像生成した場合，どのような画像が生成されるか確認してください．"
   ]
  },
  {
   "cell_type": "markdown",
   "metadata": {
    "id": "mfKKH1rkplLp"
   },
   "source": [
    "# 参考文献\n",
    "[1] Alec Radford, Luke Metz and Soumith Chintala, Unsupervised Representation Learning with Deep Convolutional Generative Adversarial Networks, ICLR, 2016."
   ]
  },
  {
   "cell_type": "code",
   "execution_count": null,
   "metadata": {
    "id": "iGk8poh6eE98"
   },
   "outputs": [],
   "source": []
  },
  {
   "cell_type": "code",
   "execution_count": null,
   "metadata": {
    "id": "3pMa7eGneE9-"
   },
   "outputs": [],
   "source": []
  }
 ],
 "metadata": {
  "accelerator": "GPU",
  "colab": {
   "collapsed_sections": [],
   "include_colab_link": true,
   "name": "03_Deep_Convolutional_GAN.ipynb",
   "provenance": [],
   "toc_visible": true
  },
  "kernelspec": {
   "display_name": "Python 3",
   "language": "python",
   "name": "python3"
  },
  "language_info": {
   "codemirror_mode": {
    "name": "ipython",
    "version": 3
   },
   "file_extension": ".py",
   "mimetype": "text/x-python",
   "name": "python",
   "nbconvert_exporter": "python",
   "pygments_lexer": "ipython3",
   "version": "3.7.6"
  }
 },
 "nbformat": 4,
 "nbformat_minor": 1
}
