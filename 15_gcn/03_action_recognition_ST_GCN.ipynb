{
  "nbformat": 4,
  "nbformat_minor": 0,
  "metadata": {
    "colab": {
      "name": "03_action_recognition_ST-GCN.ipynb",
      "provenance": [],
      "collapsed_sections": [],
      "authorship_tag": "ABX9TyPSKO9jG/3+TbdEzl6WIg9N",
      "include_colab_link": true
    },
    "kernelspec": {
      "name": "python3",
      "display_name": "Python 3"
    },
    "accelerator": "GPU"
  },
  "cells": [
    {
      "cell_type": "markdown",
      "metadata": {
        "id": "view-in-github",
        "colab_type": "text"
      },
      "source": [
        "<a href=\"https://colab.research.google.com/github/machine-perception-robotics-group/MPRGDeepLearningLectureNotebook/blob/master/15_gcn/03_action_recognition_ST_GCN.ipynb\" target=\"_parent\"><img src=\"https://colab.research.google.com/assets/colab-badge.svg\" alt=\"Open In Colab\"/></a>"
      ]
    },
    {
      "cell_type": "markdown",
      "metadata": {
        "id": "e_4yIWKExMcV"
      },
      "source": [
        "#ST-GCNによる動作認識\n",
        "\n",
        "---\n",
        "\n"
      ]
    },
    {
      "cell_type": "markdown",
      "metadata": {
        "id": "YsAg0haiIC1a"
      },
      "source": [
        "#骨格データからの動作認識\n",
        "\n",
        "---\n",
        "\n"
      ]
    },
    {
      "cell_type": "markdown",
      "metadata": {
        "id": "GslML25UII5Y"
      },
      "source": [
        "骨格データからの動作認識を行います.  \n",
        "動作認識は, その人が何の動作(投げる, 蹴る, ジャンプ...)をしているかを認識するタスクです.  \n",
        "動作認識には,画像などから行う手法もありますが,ここでは骨格データを使います."
      ]
    },
    {
      "cell_type": "markdown",
      "metadata": {
        "id": "42iCYGbOIktX"
      },
      "source": [
        "###骨格データ"
      ]
    },
    {
      "cell_type": "markdown",
      "metadata": {
        "id": "3B7C36eHRrWb"
      },
      "source": [
        "骨格データとは，フレームごとの関節座標です.  \n",
        "しかしながら,素のデータはただの座標であり, グラフとは言えません.  \n",
        "\n",
        "人間の構造は関節と関節の繋がりで表現できます.つまり人間はグラフとして表現できます.\n",
        "\n",
        "ノードの特徴（座標）とエッジ（関節の繋がり）を使うことで，骨格データをグラフとして表現します.  \n",
        "グラフで表現することで,関節間の関係性を考慮することができます.\n",
        "\n",
        "グラフで表現した骨格データをGraph Convolutional Networks(GCN)に通して, 何の動作をしているかを認識します.\n",
        "\n",
        "下の動画が，グラフ表現をした骨格データの例です.\n",
        "\n"
      ]
    },
    {
      "cell_type": "markdown",
      "metadata": {
        "id": "Vz6pKa3pt2kE"
      },
      "source": [
        "<!--\n",
        "<img src='https://drive.google.com/uc?id=1WrYd80u9buVcmBnpsgSZnzFlsYMih7Nr' width=30%>\n",
        "-->\n",
        "<!--\n",
        "<img src='https://github.com/machine-perception-robotics-group/MPRGDeepLearningLectureNotebook/blob/master/15_gcn/fig/03_throw_skeleton.gif?raw=true' width=30%>\n",
        "-->\n",
        "<img src='https://github.com/sirakik/MPRGLecture/blob/master/15_gcn/fig/03_throw_skeleton.gif?raw=true' width=30%>"
      ]
    },
    {
      "cell_type": "markdown",
      "metadata": {
        "id": "ty9FHb4yVB94"
      },
      "source": [
        "#Spatial Temporal Graph Convolutional Networks\n",
        "\n",
        "---\n",
        "\n"
      ]
    },
    {
      "cell_type": "markdown",
      "metadata": {
        "id": "dnhYROVaVSXp"
      },
      "source": [
        "GCNを使った骨格データからの動作認識の代表的な手法として, Spatial Temporal Graph Convolutional Networks(ST-GCN)[[arXiv](https://arxiv.org/abs/1801.07455)]があります."
      ]
    },
    {
      "cell_type": "markdown",
      "metadata": {
        "id": "TwpdRsahuO-S"
      },
      "source": [
        "<!--\n",
        "<img src='https://drive.google.com/uc?id=1ZRf-NF4S0P1VwMxN2DrTFPeO4EJ5if3S' width=100%>\n",
        "-->\n",
        "<!--\n",
        "<img src='https://github.com/machine-perception-robotics-group/MPRGDeepLearningLectureNotebook/blob/master/15_gcn/fig/03_st-gcn.png?raw=true' width=100%>\n",
        "-->\n",
        "<img src='https://github.com/sirakik/MPRGLecture/blob/master/15_gcn/fig/03_st-gcn.png?raw=true' width=100%>"
      ]
    },
    {
      "cell_type": "markdown",
      "metadata": {
        "id": "1U_7UNeBWMN8"
      },
      "source": [
        "ST-GCNの特徴は,骨格データを2つのグラフ構造として表現したことです.\n",
        "- 空間グラフ：同一フレーム内の関節を結ぶグラフ　\n",
        "- 時間グラフ：隣接フレームの同一関節を結ぶグラフ\n",
        "\n",
        "空間グラフと時間グラフをGraph Covnolutionによって特徴を抽出することで，関節間の関係と, 時間的な変化を考慮しています. "
      ]
    },
    {
      "cell_type": "markdown",
      "metadata": {
        "id": "nAhpuPkHuf2E"
      },
      "source": [
        "<!--\n",
        "<img src='https://drive.google.com/uc?id=1FDOGPZxaIYs-be-6tZzPeBsrtMcBXcuv' width=30%>\n",
        "-->\n",
        "<!--\n",
        "<img src='https://github.com/machine-perception-robotics-group/MPRGDeepLearningLectureNotebook/blob/master/15_gcn/fig/03_st_graph.png?raw=true' width=30%>\n",
        "-->\n",
        "<img src='https://github.com/sirakik/MPRGLecture/blob/master/15_gcn/fig/03_st_graph.png?raw=true' width=30%>"
      ]
    },
    {
      "cell_type": "markdown",
      "metadata": {
        "id": "r9_Um9Dy3ZeI"
      },
      "source": [
        "# 実装前の準備\n",
        "\n",
        "---\n",
        "\n",
        "\n"
      ]
    },
    {
      "cell_type": "markdown",
      "metadata": {
        "id": "sa7D5v0f3e_E"
      },
      "source": [
        "必要なモジュールのインポート"
      ]
    },
    {
      "cell_type": "code",
      "metadata": {
        "id": "ShT0XzlC4Glz"
      },
      "source": [
        "import numpy as np\n",
        "import matplotlib.pyplot as plt\n",
        "import torch\n",
        "import torch.nn as nn\n",
        "import torch.nn.functional as F"
      ],
      "execution_count": null,
      "outputs": []
    },
    {
      "cell_type": "markdown",
      "metadata": {
        "id": "78xIwKEz4G69"
      },
      "source": [
        "### GPU確認\n",
        "今回からGPUを使用して学習します. 確認してください."
      ]
    },
    {
      "cell_type": "code",
      "metadata": {
        "id": "fVXaaWD54IBn",
        "outputId": "4aca60a4-6ada-4124-a900-29ace520ebb0",
        "colab": {
          "base_uri": "https://localhost:8080/",
          "height": 34
        }
      },
      "source": [
        "print('Use CUDA:', torch.cuda.is_available())"
      ],
      "execution_count": null,
      "outputs": [
        {
          "output_type": "stream",
          "text": [
            "Use CUDA: True\n"
          ],
          "name": "stdout"
        }
      ]
    },
    {
      "cell_type": "markdown",
      "metadata": {
        "id": "c5Zpy-Z0YFJS"
      },
      "source": [
        "# データセット\n",
        "\n",
        "---\n"
      ]
    },
    {
      "cell_type": "markdown",
      "metadata": {
        "id": "gLl5gIVi4pTn"
      },
      "source": [
        "データセットをダンロードします.今回は，小さな独自のデータセットを用意したので，それを使用します.  \n",
        "動作クラス数は10クラス（0~9）です.動作は以下の通りです.\n",
        "*   0:　飲む\n",
        "*   1:　投げる\n",
        "*   2:　座る\n",
        "*   3:　立ち上がる\n",
        "*   4:　拍手\n",
        "*   5:　手を振る\n",
        "*   6:　蹴る\n",
        "*   7:　ジャンプ\n",
        "*   8:　敬礼\n",
        "*   9:　転倒\n",
        "\n",
        "\n",
        "\n",
        "\n",
        "\n"
      ]
    },
    {
      "cell_type": "code",
      "metadata": {
        "id": "nb7J1jWy1Bpi"
      },
      "source": [
        "!wget -q --load-cookies /tmp/cookies.txt \"https://drive.google.com/uc?export=download&confirm=$(wget --quiet --save-cookies /tmp/cookies.txt --keep-session-cookies --no-check-certificate 'https://drive.google.com/uc?export=download&id=1zzPvyMLY7jlyJ3phEZRePsNKhhzspD0u' -O- | sed -rn 's/.*confirm=([0-9A-Za-z_]+).*/\\1\\n/p')&id=1zzPvyMLY7jlyJ3phEZRePsNKhhzspD0u\" -O data.zip && rm -rf /tmp/cookies.txt\n",
        "!unzip -q -o data.zip"
      ],
      "execution_count": null,
      "outputs": []
    },
    {
      "cell_type": "markdown",
      "metadata": {
        "id": "YktamQkB4wyB"
      },
      "source": [
        "メモ残し  \n",
        "自分のgithubからダウンロード  \n",
        "!wget -q https://github.com/sirakik/MPRGLecture/blob/master/15_gcn/data.zip?  raw=true -O data.zip  \n",
        "MPRGのgitubからダウンロード  \n",
        "!wget -q https://github.com/machine-perception-robotics-group/MPRGDeepLearningLectureNotebook/blob/master/15_gcn/data.zip?raw=true -O data.zip  \n",
        "!unzip -q -o data.zip"
      ]
    },
    {
      "cell_type": "markdown",
      "metadata": {
        "id": "rYixFxzPfgqd"
      },
      "source": [
        "学習データ数が2000(10クラス×200データ)，　評価データ数が200(10クラス×20データ)あります.\n",
        "\n",
        "データの構造を確認します.\n"
      ]
    },
    {
      "cell_type": "code",
      "metadata": {
        "id": "Oi7FLBnJ-156",
        "outputId": "b9676918-547c-4aec-bf16-3ec04047fba3",
        "colab": {
          "base_uri": "https://localhost:8080/",
          "height": 34
        }
      },
      "source": [
        "test_data = np.load(\"data/test_data.npy\")\n",
        "print(test_data[0].shape)"
      ],
      "execution_count": null,
      "outputs": [
        {
          "output_type": "stream",
          "text": [
            "(3, 80, 25)\n"
          ],
          "name": "stdout"
        }
      ]
    },
    {
      "cell_type": "markdown",
      "metadata": {
        "id": "ftiwD1KhoFVS"
      },
      "source": [
        "(次元数，フレーム数，関節数)の構造です.  \n",
        "1データあたり,3次元座標の25関節が80フレーム分入っています."
      ]
    },
    {
      "cell_type": "code",
      "metadata": {
        "id": "GGAvBo-MqpJy"
      },
      "source": [
        "# データを読み込むための関数\n",
        "class Feeder(torch.utils.data.Dataset):\n",
        "  def __init__(self, data_path, label_path):\n",
        "      super().__init__()\n",
        "      self.label = np.load(label_path)\n",
        "      self.data = np.load(data_path)\n",
        "\n",
        "  def __len__(self):\n",
        "      return len(self.label)\n",
        "\n",
        "  def __iter__(self):\n",
        "      return self\n",
        "\n",
        "  def __getitem__(self, index):\n",
        "      data = np.array(self.data[index])\n",
        "      label = self.label[index]\n",
        "\n",
        "      return data, label"
      ],
      "execution_count": null,
      "outputs": []
    },
    {
      "cell_type": "markdown",
      "metadata": {
        "id": "qEA6NlHGaGSb"
      },
      "source": [
        "### 隣接行列を作成"
      ]
    },
    {
      "cell_type": "markdown",
      "metadata": {
        "id": "KFYyypxdo3_G"
      },
      "source": [
        "今は座標データ（ノード特徴）しかないため，グラフではありません．  \n",
        "接続関係を定義して，グラフにします．接続関係の表現には隣接行列を使用します.  \n",
        "class化しておきます. モデルの定義する際に呼び出します.\n",
        "\n",
        "隣接行列を手作業で編集するのは大変であるため，接続関係を配列で用意し，それをもとに隣接行列を作ります."
      ]
    },
    {
      "cell_type": "code",
      "metadata": {
        "id": "IFV6MAuFds7V"
      },
      "source": [
        "class Graph():\n",
        "  def __init__(self, hop_size):\n",
        "    # エッジ配列を宣言します. 集合としては{{始点, 終点}, {始点, 終点}, {始点, 終点}...}のように一つのエッジを要素として宣言します.\n",
        "    self.get_edge()\n",
        "    \n",
        "    # hop: hop数分離れた関節を結びます.\n",
        "    # 例えばhop=2だと, 手首は肘だけではなく肩にも繋がっています.\n",
        "    self.hop_size = hop_size \n",
        "    self.hop_dis = self.get_hop_distance(self.num_node, self.edge, hop_size=hop_size)\n",
        "\n",
        "    # 隣接行列を作ります.ここではhop数ごとに隣接行列を作成します.\n",
        "    # hopが2の時, 0hop, 1hop, 2hopの３つの隣接行列が作成されます.\n",
        "    # 複数の生成方法が論文中に提案されています. 今回はわかりやすいものを使いました.\n",
        "    self.get_adjacency() \n",
        "\n",
        "  def __str__(self):\n",
        "    return self.A\n",
        "\n",
        "  def get_edge(self):\n",
        "    self.num_node = 25\n",
        "    self_link = [(i, i) for i in range(self.num_node)] # ループ\n",
        "    neighbor_base = [(1, 2), (2, 21), (3, 21), (4, 3), (5, 21),\n",
        "                      (6, 5), (7, 6), (8, 7), (9, 21), (10, 9),\n",
        "                      (11, 10), (12, 11), (13, 1), (14, 13), (15, 14),\n",
        "                      (16, 15), (17, 1), (18, 17), (19, 18), (20, 19),\n",
        "                      (22, 23), (23, 8), (24, 25), (25, 12)]\n",
        "    neighbor_link = [(i - 1, j - 1) for (i, j) in neighbor_base]\n",
        "    self.edge = self_link + neighbor_link\n",
        "\n",
        "  def get_adjacency(self):\n",
        "    valid_hop = range(0, self.hop_size + 1, 1)\n",
        "    adjacency = np.zeros((self.num_node, self.num_node))\n",
        "    for hop in valid_hop:\n",
        "        adjacency[self.hop_dis == hop] = 1\n",
        "    normalize_adjacency = self.normalize_digraph(adjacency)\n",
        "    A = np.zeros((len(valid_hop), self.num_node, self.num_node))\n",
        "    for i, hop in enumerate(valid_hop):\n",
        "        A[i][self.hop_dis == hop] = normalize_adjacency[self.hop_dis == hop]\n",
        "    self.A = A\n",
        "\n",
        "  def get_hop_distance(self, num_node, edge, hop_size):\n",
        "    A = np.zeros((num_node, num_node))\n",
        "    for i, j in edge:\n",
        "        A[j, i] = 1\n",
        "        A[i, j] = 1\n",
        "    hop_dis = np.zeros((num_node, num_node)) + np.inf\n",
        "    transfer_mat = [np.linalg.matrix_power(A, d) for d in range(hop_size + 1)]\n",
        "    arrive_mat = (np.stack(transfer_mat) > 0)\n",
        "    for d in range(hop_size, -1, -1):\n",
        "        hop_dis[arrive_mat[d]] = d\n",
        "    return hop_dis\n",
        "\n",
        "  def normalize_digraph(self, A):\n",
        "    Dl = np.sum(A, 0)\n",
        "    num_node = A.shape[0]\n",
        "    Dn = np.zeros((num_node, num_node))\n",
        "    for i in range(num_node):\n",
        "        if Dl[i] > 0:\n",
        "            Dn[i, i] = Dl[i]**(-1)\n",
        "    DAD = np.dot(A, Dn)\n",
        "    return DAD"
      ],
      "execution_count": null,
      "outputs": []
    },
    {
      "cell_type": "markdown",
      "metadata": {
        "id": "OTCb52YUYHYh"
      },
      "source": [
        "#ST-GCN実装\n",
        "\n",
        "---\n",
        "\n"
      ]
    },
    {
      "cell_type": "markdown",
      "metadata": {
        "id": "3H6jSUH9YdCQ"
      },
      "source": [
        "###空間グラフの畳み込み  "
      ]
    },
    {
      "cell_type": "markdown",
      "metadata": {
        "id": "RvIeqwf7tT1K"
      },
      "source": [
        "まずは，空間グラフ(人間の接続パターン)のグラフ畳み込みを実装します.  \n",
        "式は前回(Graph Convolutional Networksによるノード分類)に示したGraph Convolutionとほぼ同じです.\n",
        "\\begin{equation}\n",
        "{\\bf H}_{out}=\\sum_{j}{\\bf\\tilde D}^{-\\frac{1}{2}}_j{\\bf\\tilde A}_j{\\bf\\tilde D}^{-\\frac{1}{2}}_j{\\bf H}_{in}{\\bf W}_{j}\n",
        "\\end{equation}\n",
        "hop数分の隣接行列($j$:隣接行列の数)があるため，各隣接行列で畳み込んでから，特徴を足し合わせています.  \n",
        "\n",
        "高速化や，今後の拡張性のため，前回のGCとは実装を変えています.\n"
      ]
    },
    {
      "cell_type": "code",
      "metadata": {
        "id": "lrffcNi0ZCP7"
      },
      "source": [
        "class SpatialGraphConvolution(nn.Module):\n",
        "  def __init__(self, in_channels, out_channels, s_kernel_size):\n",
        "    super().__init__()\n",
        "    self.s_kernel_size = s_kernel_size\n",
        "    self.conv = nn.Conv2d(in_channels=in_channels,\n",
        "                          out_channels=out_channels * s_kernel_size,\n",
        "                          kernel_size=1)\n",
        "    \n",
        "  def forward(self, x, A):\n",
        "    x = self.conv(x)\n",
        "    n, kc, t, v = x.size()\n",
        "    x = x.view(n, self.s_kernel_size, kc//self.s_kernel_size, t, v)\n",
        "    # 隣接行列にGCを行い, 特徴を足し合わせています.\n",
        "    x = torch.einsum('nkctv,kvw->nctw', (x, A))\n",
        "    return x.contiguous()"
      ],
      "execution_count": null,
      "outputs": []
    },
    {
      "cell_type": "markdown",
      "metadata": {
        "id": "kosLltaeYg55"
      },
      "source": [
        "###時間グラフの畳み込み"
      ]
    },
    {
      "cell_type": "markdown",
      "metadata": {
        "id": "s5T1vQz6bvsu"
      },
      "source": [
        "時間グラフは,グラフ畳み込み処理ではなく一般的な2d畳み込み処理で実装できます.  \n",
        "特徴マップは（フレーム数×関節数)の形になっています. 同一関節をフレーム方向に繋いだものが時間グラフです.  \n",
        "フレーム方向に畳み込めばいいため（$T\\times 1$）の2d畳み込みフィルターで実装できます.\n",
        "\n",
        "また, ST-GCNは, 空間グラフと時間グラフの畳み込みを交互に行います.  \n",
        "これを繰り返すので, 空間グラフと時間グラフ，その他(活性化関数やdropout)を備えたクラス(STGC_block)を作っておきます."
      ]
    },
    {
      "cell_type": "code",
      "metadata": {
        "id": "mPcF2Od9AvmA"
      },
      "source": [
        "class STGC_block(nn.Module):\n",
        "  def __init__(self, in_channels, out_channels, stride, t_kernel_size, A_size, dropout=0.5):\n",
        "    super().__init__()\n",
        "    # 空間グラフの畳み込み\n",
        "    self.sgc = SpatialGraphConvolution(in_channels=in_channels,\n",
        "                                       out_channels=out_channels,\n",
        "                                       s_kernel_size=A_size[0])\n",
        "    \n",
        "    # Learnable weight matrix M エッジに重みを与えます. どのエッジが重要かを学習します.\n",
        "    self.M = nn.Parameter(torch.ones(A_size))\n",
        "\n",
        "    self.tgc = nn.Sequential(nn.BatchNorm2d(out_channels),\n",
        "                            nn.ReLU(),\n",
        "                            nn.Dropout(dropout),\n",
        "                            nn.Conv2d(out_channels,\n",
        "                                      out_channels,\n",
        "                                      (t_kernel_size, 1),\n",
        "                                      (stride, 1),\n",
        "                                      ((t_kernel_size - 1) // 2, 0)),\n",
        "                            nn.BatchNorm2d(out_channels),\n",
        "                            nn.ReLU())\n",
        "\n",
        "  def forward(self, x, A):\n",
        "    x = self.tgc(self.sgc(x, A * self.M))\n",
        "    return x"
      ],
      "execution_count": null,
      "outputs": []
    },
    {
      "cell_type": "markdown",
      "metadata": {
        "id": "Iy0nx9SvYod1"
      },
      "source": [
        "###ネットワークモデル"
      ]
    },
    {
      "cell_type": "code",
      "metadata": {
        "id": "lzAe1GgpZv7k"
      },
      "source": [
        "class ST_GCN(nn.Module):\n",
        "  def __init__(self, num_classes, in_channels, t_kernel_size, hop_size):\n",
        "    super().__init__()\n",
        "    # グラフ作成\n",
        "    graph = Graph(hop_size)\n",
        "    A = torch.tensor(graph.A, dtype=torch.float32, requires_grad=False)\n",
        "    self.register_buffer('A', A)\n",
        "    A_size = A.size()\n",
        "  \n",
        "    # Batch Normalization\n",
        "    self.bn = nn.BatchNorm1d(in_channels * A_size[1])\n",
        "    \n",
        "    # STGC_blocks\n",
        "    self.stgc1 = STGC_block(in_channels, 32, 1, t_kernel_size, A_size)\n",
        "    self.stgc2 = STGC_block(32, 32, 1, t_kernel_size, A_size)\n",
        "    self.stgc3 = STGC_block(32, 32, 1, t_kernel_size, A_size)\n",
        "    self.stgc4 = STGC_block(32, 64, 2, t_kernel_size, A_size)\n",
        "    self.stgc5 = STGC_block(64, 64, 1, t_kernel_size, A_size)\n",
        "    self.stgc6 = STGC_block(64, 64, 1, t_kernel_size, A_size)\n",
        "\n",
        "    # Prediction\n",
        "    self.fc = nn.Conv2d(64, num_classes, kernel_size=1)\n",
        "\n",
        "  def forward(self, x):\n",
        "    # Batch Normalization\n",
        "    N, C, T, V = x.size() # batch, channel, frame, node\n",
        "    x = x.permute(0, 3, 1, 2).contiguous().view(N, V * C, T)\n",
        "    x = self.bn(x)\n",
        "    x = x.view(N, V, C, T).permute(0, 2, 3, 1).contiguous()\n",
        "\n",
        "    # STGC_blocks\n",
        "    x = self.stgc1(x, self.A)\n",
        "    x = self.stgc2(x, self.A)\n",
        "    x = self.stgc3(x, self.A)\n",
        "    x = self.stgc4(x, self.A)\n",
        "    x = self.stgc5(x, self.A)\n",
        "    x = self.stgc6(x, self.A)\n",
        "\n",
        "    # Prediction\n",
        "    x = F.avg_pool2d(x, x.size()[2:])\n",
        "    x = x.view(N, -1, 1, 1)\n",
        "    x = self.fc(x)\n",
        "    x = x.view(x.size(0), -1)\n",
        "    return x"
      ],
      "execution_count": null,
      "outputs": []
    },
    {
      "cell_type": "markdown",
      "metadata": {
        "id": "dDCn2cuIYPG1"
      },
      "source": [
        "#学習\n",
        "\n",
        "---\n",
        "\n"
      ]
    },
    {
      "cell_type": "code",
      "metadata": {
        "id": "Vk-AMCVb5jqM",
        "outputId": "b49a969b-1f55-4d94-c7c9-595c983b3e6f",
        "colab": {
          "base_uri": "https://localhost:8080/",
          "height": 1000
        }
      },
      "source": [
        "NUM_EPOCH = 100\n",
        "BATCH_SIZE = 64\n",
        "\n",
        "# モデルを作成\n",
        "model = ST_GCN(num_classes=10, \n",
        "                  in_channels=3,\n",
        "                  t_kernel_size=9, # 時間グラフ畳み込みのカーネルサイズ (t_kernel_size × 1)\n",
        "                  hop_size=2).cuda()\n",
        "\n",
        "# オプティマイザ\n",
        "optimizer = torch.optim.SGD(model.parameters(), lr=0.01, momentum=0.9)\n",
        "\n",
        "# 誤差関数\n",
        "criterion = torch.nn.CrossEntropyLoss()\n",
        "\n",
        "# データセットの用意\n",
        "data_loader = dict()\n",
        "data_loader['train'] = torch.utils.data.DataLoader(dataset=Feeder(data_path='data/train_data.npy', label_path='data/train_label.npy'), batch_size=BATCH_SIZE, shuffle=True,)\n",
        "data_loader['test'] = torch.utils.data.DataLoader(dataset=Feeder(data_path='data/test_data.npy', label_path='data/test_label.npy'), batch_size=BATCH_SIZE, shuffle=False)\n",
        "\n",
        "# モデルを学習モードに変更\n",
        "model.train()\n",
        "\n",
        "# 学習開始\n",
        "for epoch in range(1, NUM_EPOCH+1):\n",
        "  correct = 0\n",
        "  sum_loss = 0\n",
        "  for batch_idx, (data, label) in enumerate(data_loader['train']):\n",
        "    data = data.cuda()\n",
        "    label = label.cuda()\n",
        "\n",
        "    output = model(data)\n",
        "\n",
        "    loss = criterion(output, label)\n",
        "    optimizer.zero_grad()\n",
        "    loss.backward()\n",
        "    optimizer.step()\n",
        "\n",
        "    sum_loss += loss.item()\n",
        "    _, predict = torch.max(output.data, 1)\n",
        "    correct += (predict == label).sum().item()\n",
        "\n",
        "  print('# Epoch: {} | Loss: {:.4f} | Accuracy: {:.4f}'.format(epoch, sum_loss/len(data_loader['train'].dataset), (100. * correct / len(data_loader['train'].dataset))))"
      ],
      "execution_count": null,
      "outputs": [
        {
          "output_type": "stream",
          "text": [
            "# Epoch: 1 | Loss: 0.0362 | Accuracy: 15.2500\n",
            "# Epoch: 2 | Loss: 0.0348 | Accuracy: 21.0500\n",
            "# Epoch: 3 | Loss: 0.0335 | Accuracy: 24.2500\n",
            "# Epoch: 4 | Loss: 0.0326 | Accuracy: 25.3000\n",
            "# Epoch: 5 | Loss: 0.0316 | Accuracy: 28.1500\n",
            "# Epoch: 6 | Loss: 0.0299 | Accuracy: 31.8500\n",
            "# Epoch: 7 | Loss: 0.0286 | Accuracy: 36.2000\n",
            "# Epoch: 8 | Loss: 0.0267 | Accuracy: 41.9500\n",
            "# Epoch: 9 | Loss: 0.0236 | Accuracy: 47.1500\n",
            "# Epoch: 10 | Loss: 0.0211 | Accuracy: 54.5000\n",
            "# Epoch: 11 | Loss: 0.0189 | Accuracy: 58.5500\n",
            "# Epoch: 12 | Loss: 0.0179 | Accuracy: 59.2500\n",
            "# Epoch: 13 | Loss: 0.0171 | Accuracy: 61.4000\n",
            "# Epoch: 14 | Loss: 0.0167 | Accuracy: 62.9000\n",
            "# Epoch: 15 | Loss: 0.0165 | Accuracy: 63.1500\n",
            "# Epoch: 16 | Loss: 0.0162 | Accuracy: 63.3000\n",
            "# Epoch: 17 | Loss: 0.0155 | Accuracy: 65.5000\n",
            "# Epoch: 18 | Loss: 0.0151 | Accuracy: 66.8000\n",
            "# Epoch: 19 | Loss: 0.0139 | Accuracy: 71.6000\n",
            "# Epoch: 20 | Loss: 0.0132 | Accuracy: 71.0500\n",
            "# Epoch: 21 | Loss: 0.0127 | Accuracy: 72.5500\n",
            "# Epoch: 22 | Loss: 0.0118 | Accuracy: 76.0000\n",
            "# Epoch: 23 | Loss: 0.0111 | Accuracy: 76.5000\n",
            "# Epoch: 24 | Loss: 0.0114 | Accuracy: 75.1000\n",
            "# Epoch: 25 | Loss: 0.0105 | Accuracy: 77.2500\n",
            "# Epoch: 26 | Loss: 0.0099 | Accuracy: 79.0000\n",
            "# Epoch: 27 | Loss: 0.0100 | Accuracy: 77.9000\n",
            "# Epoch: 28 | Loss: 0.0101 | Accuracy: 79.1000\n",
            "# Epoch: 29 | Loss: 0.0093 | Accuracy: 79.3500\n",
            "# Epoch: 30 | Loss: 0.0095 | Accuracy: 79.3000\n",
            "# Epoch: 31 | Loss: 0.0084 | Accuracy: 82.1500\n",
            "# Epoch: 32 | Loss: 0.0081 | Accuracy: 83.0000\n",
            "# Epoch: 33 | Loss: 0.0081 | Accuracy: 82.2000\n",
            "# Epoch: 34 | Loss: 0.0083 | Accuracy: 81.8000\n",
            "# Epoch: 35 | Loss: 0.0078 | Accuracy: 83.4000\n",
            "# Epoch: 36 | Loss: 0.0081 | Accuracy: 82.7500\n",
            "# Epoch: 37 | Loss: 0.0076 | Accuracy: 83.7500\n",
            "# Epoch: 38 | Loss: 0.0079 | Accuracy: 82.8500\n",
            "# Epoch: 39 | Loss: 0.0081 | Accuracy: 81.4500\n",
            "# Epoch: 40 | Loss: 0.0079 | Accuracy: 83.0500\n",
            "# Epoch: 41 | Loss: 0.0074 | Accuracy: 84.3000\n",
            "# Epoch: 42 | Loss: 0.0068 | Accuracy: 84.9000\n",
            "# Epoch: 43 | Loss: 0.0064 | Accuracy: 86.5000\n",
            "# Epoch: 44 | Loss: 0.0068 | Accuracy: 84.8000\n",
            "# Epoch: 45 | Loss: 0.0071 | Accuracy: 84.7000\n",
            "# Epoch: 46 | Loss: 0.0064 | Accuracy: 86.1500\n",
            "# Epoch: 47 | Loss: 0.0064 | Accuracy: 86.5000\n",
            "# Epoch: 48 | Loss: 0.0068 | Accuracy: 84.8500\n",
            "# Epoch: 49 | Loss: 0.0062 | Accuracy: 86.7000\n",
            "# Epoch: 50 | Loss: 0.0062 | Accuracy: 86.5500\n",
            "# Epoch: 51 | Loss: 0.0061 | Accuracy: 87.1500\n",
            "# Epoch: 52 | Loss: 0.0059 | Accuracy: 86.6000\n",
            "# Epoch: 53 | Loss: 0.0058 | Accuracy: 86.7000\n",
            "# Epoch: 54 | Loss: 0.0057 | Accuracy: 87.5500\n",
            "# Epoch: 55 | Loss: 0.0058 | Accuracy: 86.9500\n",
            "# Epoch: 56 | Loss: 0.0060 | Accuracy: 86.5000\n",
            "# Epoch: 57 | Loss: 0.0059 | Accuracy: 87.2500\n",
            "# Epoch: 58 | Loss: 0.0063 | Accuracy: 85.3500\n",
            "# Epoch: 59 | Loss: 0.0058 | Accuracy: 86.8500\n",
            "# Epoch: 60 | Loss: 0.0054 | Accuracy: 87.5500\n",
            "# Epoch: 61 | Loss: 0.0057 | Accuracy: 87.4000\n",
            "# Epoch: 62 | Loss: 0.0054 | Accuracy: 88.4000\n",
            "# Epoch: 63 | Loss: 0.0053 | Accuracy: 89.2500\n",
            "# Epoch: 64 | Loss: 0.0057 | Accuracy: 87.5000\n",
            "# Epoch: 65 | Loss: 0.0051 | Accuracy: 87.8500\n",
            "# Epoch: 66 | Loss: 0.0050 | Accuracy: 89.1000\n",
            "# Epoch: 67 | Loss: 0.0050 | Accuracy: 88.7000\n",
            "# Epoch: 68 | Loss: 0.0050 | Accuracy: 89.3500\n",
            "# Epoch: 69 | Loss: 0.0053 | Accuracy: 89.3000\n",
            "# Epoch: 70 | Loss: 0.0053 | Accuracy: 88.6000\n",
            "# Epoch: 71 | Loss: 0.0047 | Accuracy: 89.2500\n",
            "# Epoch: 72 | Loss: 0.0047 | Accuracy: 89.7500\n",
            "# Epoch: 73 | Loss: 0.0048 | Accuracy: 88.9000\n",
            "# Epoch: 74 | Loss: 0.0051 | Accuracy: 88.6000\n",
            "# Epoch: 75 | Loss: 0.0049 | Accuracy: 89.1000\n",
            "# Epoch: 76 | Loss: 0.0051 | Accuracy: 88.7500\n",
            "# Epoch: 77 | Loss: 0.0048 | Accuracy: 89.0000\n",
            "# Epoch: 78 | Loss: 0.0048 | Accuracy: 89.2500\n",
            "# Epoch: 79 | Loss: 0.0049 | Accuracy: 88.2500\n",
            "# Epoch: 80 | Loss: 0.0048 | Accuracy: 88.2000\n",
            "# Epoch: 81 | Loss: 0.0045 | Accuracy: 89.3500\n",
            "# Epoch: 82 | Loss: 0.0047 | Accuracy: 89.4500\n",
            "# Epoch: 83 | Loss: 0.0046 | Accuracy: 89.3500\n",
            "# Epoch: 84 | Loss: 0.0044 | Accuracy: 89.8500\n",
            "# Epoch: 85 | Loss: 0.0045 | Accuracy: 89.9500\n",
            "# Epoch: 86 | Loss: 0.0042 | Accuracy: 90.2000\n",
            "# Epoch: 87 | Loss: 0.0043 | Accuracy: 90.5500\n",
            "# Epoch: 88 | Loss: 0.0044 | Accuracy: 89.9500\n",
            "# Epoch: 89 | Loss: 0.0045 | Accuracy: 90.2500\n",
            "# Epoch: 90 | Loss: 0.0047 | Accuracy: 89.7000\n",
            "# Epoch: 91 | Loss: 0.0042 | Accuracy: 90.4000\n",
            "# Epoch: 92 | Loss: 0.0042 | Accuracy: 89.6500\n",
            "# Epoch: 93 | Loss: 0.0049 | Accuracy: 88.8000\n",
            "# Epoch: 94 | Loss: 0.0044 | Accuracy: 89.2500\n",
            "# Epoch: 95 | Loss: 0.0043 | Accuracy: 90.3500\n",
            "# Epoch: 96 | Loss: 0.0042 | Accuracy: 90.5000\n",
            "# Epoch: 97 | Loss: 0.0038 | Accuracy: 91.1000\n",
            "# Epoch: 98 | Loss: 0.0047 | Accuracy: 90.3000\n",
            "# Epoch: 99 | Loss: 0.0044 | Accuracy: 90.7000\n",
            "# Epoch: 100 | Loss: 0.0039 | Accuracy: 91.8000\n"
          ],
          "name": "stdout"
        }
      ]
    },
    {
      "cell_type": "markdown",
      "metadata": {
        "id": "IJmolf-w7yDJ"
      },
      "source": [
        "#評価\n",
        "\n",
        "---\n",
        "\n"
      ]
    },
    {
      "cell_type": "code",
      "metadata": {
        "id": "cHM5wt_670Li",
        "outputId": "7711c9c9-c722-4b3d-9be2-a43bd90a81e8",
        "colab": {
          "base_uri": "https://localhost:8080/",
          "height": 371
        }
      },
      "source": [
        "# モデルを評価モードに変更\n",
        "model.eval()\n",
        "\n",
        "correct = 0\n",
        "confusion_matrix = np.zeros((10, 10))\n",
        "with torch.no_grad():\n",
        "  for batch_idx, (data, label) in enumerate(data_loader['test']):\n",
        "    data = data.cuda()\n",
        "    label = label.cuda()\n",
        "\n",
        "    output = model(data)\n",
        "\n",
        "    _, predict = torch.max(output.data, 1)\n",
        "    correct += (predict == label).sum().item()\n",
        "\n",
        "    for l, p in zip(label.view(-1), predict.view(-1)):\n",
        "      confusion_matrix[l.long(), p.long()] += 1\n",
        "\n",
        "len_cm = len(confusion_matrix)\n",
        "for i in range(len_cm):\n",
        "    sum_cm = np.sum(confusion_matrix[i])\n",
        "    for j in range(len_cm):\n",
        "        confusion_matrix[i][j] = 100 * (confusion_matrix[i][j] / sum_cm)\n",
        "\n",
        "classes = ['drink', 'throw', 'sit down', 'stand up', 'clapping', 'hand waving', 'kicking', 'jump up', 'salute', 'falling down']\n",
        "plt.imshow(confusion_matrix, interpolation='nearest', cmap=plt.cm.Blues)\n",
        "plt.title('Confusion matrix')\n",
        "plt.tight_layout()\n",
        "tick_marks = np.arange(len(classes))\n",
        "plt.xticks(tick_marks, classes, rotation=45)\n",
        "plt.yticks(tick_marks, classes)\n",
        "plt.ylabel('True')\n",
        "plt.xlabel('Predicted')\n",
        "plt.show()\n",
        "\n",
        "\n",
        "print('# Test Accuracy: {:.3f}[%]'.format(100. * correct / len(data_loader['test'].dataset)))"
      ],
      "execution_count": null,
      "outputs": [
        {
          "output_type": "display_data",
          "data": {
            "image/png": "[encoded data removed]",
            "text/plain": [
              "<Figure size 432x288 with 1 Axes>"
            ]
          },
          "metadata": {
            "tags": [],
            "needs_background": "light"
          }
        },
        {
          "output_type": "stream",
          "text": [
            "# Test Accuracy: 82.000[%]\n"
          ],
          "name": "stdout"
        }
      ]
    }
  ]
}