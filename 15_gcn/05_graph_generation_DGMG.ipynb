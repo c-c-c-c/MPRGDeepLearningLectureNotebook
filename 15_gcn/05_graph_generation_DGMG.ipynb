{
  "nbformat": 4,
  "nbformat_minor": 0,
  "metadata": {
    "colab": {
      "name": "05_graph_generation_DGMG.ipynb",
      "provenance": [],
      "collapsed_sections": [],
      "toc_visible": true,
      "authorship_tag": "ABX9TyOPItY2aNzirYuETEHziP3t",
      "include_colab_link": true
    },
    "kernelspec": {
      "name": "python3",
      "display_name": "Python 3"
    }
  },
  "cells": [
    {
      "cell_type": "markdown",
      "metadata": {
        "id": "view-in-github",
        "colab_type": "text"
      },
      "source": [
        "<a href=\"https://colab.research.google.com/github/machine-perception-robotics-group/MPRGDeepLearningLectureNotebook/blob/master/15_gcn/05_graph_generation_DGMG.ipynb\" target=\"_parent\"><img src=\"https://colab.research.google.com/assets/colab-badge.svg\" alt=\"Open In Colab\"/></a>"
      ]
    },
    {
      "cell_type": "markdown",
      "metadata": {
        "id": "8lVD_IdhDqbQ"
      },
      "source": [
        "# グラフ生成\n",
        "\n",
        "---\n",
        "\n"
      ]
    },
    {
      "cell_type": "markdown",
      "metadata": {
        "id": "RXx93UOlsK86"
      },
      "source": [
        "グラフ生成とは,その名の通りグラフを生成する分野です.  \n",
        "最も一般的なタスクは, 化合物の生成です.  \n",
        "化合物の性質（水溶性,毒性...）を考慮しながら生成することで, 創薬研究などに役立ちます.\n",
        "\n",
        "グラフ構造を考慮できるGCNの発展に伴い,グラフ生成分野も研究が進みました.  \n",
        "グラフ生成にも色々なアプローチがありますが,ここではDGMGという手法について紹介します.  \n",
        "画像生成では出来ない,グラフ特有の生成の仕方なので面白いと思います."
      ]
    },
    {
      "cell_type": "markdown",
      "metadata": {
        "id": "vhq6hoJuGKkv"
      },
      "source": [
        "#Learning Deep Generative Models of Graphs (DGMG) [[arXiv](https://arxiv.org/pdf/1803.03324.pdf)]\n",
        "\n",
        "---\n",
        "\n"
      ]
    },
    {
      "cell_type": "markdown",
      "metadata": {
        "id": "-LbQNqdAGmKg"
      },
      "source": [
        "DGMGは3つの識別器と,生成フローを組み合わせることでグラフを生成する手法です.  \n",
        "\n",
        "3つの識別器\n",
        "- add node：新しいノードを追加　or 追加しない (生成フロー終了)\n",
        "- add edge：新しいノードにエッジを追加 or 追加しない\n",
        "- choose dest：新しいノードと，どのノードにエッジを追加するのかの識別器\n",
        "\n",
        "以下が, ３つの識別器を使った生成フローです."
      ]
    },
    {
      "cell_type": "markdown",
      "metadata": {
        "id": "Q7_2apWi2IHF"
      },
      "source": [
        "<!--\n",
        "<img src='https://drive.google.com/uc?id=1meLvQov6EbRnCZ8mSGvGaBeo_gjrWPk4' width=70%>\n",
        "-->\n",
        "<!--\n",
        "<img src='https://github.com/machine-perception-robotics-group/MPRGDeepLearningLectureNotebook/blob/master/15_gcn/fig/05_graph_flow.png?raw=true' width=70%>\n",
        "-->\n",
        "<img src='https://github.com/sirakik/MPRGLecture/blob/master/15_gcn/fig/05_graph_flow.png?raw=true' width=70%>"
      ]
    },
    {
      "cell_type": "markdown",
      "metadata": {
        "id": "rsa1y99W5VoK"
      },
      "source": [
        "3つのノードを持つグラフの生成過程の例が下の画像です.  \n",
        "生成フロー通りに, 識別器が動いているのが，分かると思います.\n",
        "\n",
        "ここで，各識別器の出力を並べると``[0100010000111]``のようなシーケンスとして表現することが出来ます.  \n",
        "DGMGはこのシーケンスを教師として学習を行います.  \n",
        "DGMGはグラフの形そのものを学習するのではなく, そのグラフにたどり着くための識別器の出力順を学習します."
      ]
    },
    {
      "cell_type": "markdown",
      "metadata": {
        "id": "Nm17kPBv2ZJQ"
      },
      "source": [
        "<!--\n",
        "<img src='https://drive.google.com/uc?id=1dgpk8kVBcOB1eJSKwwcxirvGeb6wI9bn' width=70%>\n",
        "-->\n",
        "<!--\n",
        "<img src='https://github.com/machine-perception-robotics-group/MPRGDeepLearningLectureNotebook/blob/master/15_gcn/fig/05_flow.png?raw=true' width=70%>\n",
        "-->\n",
        "<img src='https://github.com/sirakik/MPRGLecture/blob/master/15_gcn/fig/05_flow.png?raw=true' width=70%>"
      ]
    },
    {
      "cell_type": "markdown",
      "metadata": {
        "id": "ZpaVMQqPl_Yq"
      },
      "source": [
        "# 前準備"
      ]
    },
    {
      "cell_type": "markdown",
      "metadata": {
        "id": "_Y7NZt2mmB2f"
      },
      "source": [
        "必要なモジュールをインストール, インポートします."
      ]
    },
    {
      "cell_type": "code",
      "metadata": {
        "id": "XLqKs1I-nD5m",
        "outputId": "8c3567b8-80a4-482f-850d-3bec9d8ccc84",
        "colab": {
          "base_uri": "https://localhost:8080/",
          "height": 306
        }
      },
      "source": [
        "pip install dgl  \\\n",
        "pip install networkx"
      ],
      "execution_count": null,
      "outputs": [
        {
          "output_type": "stream",
          "text": [
            "Collecting dgl\n",
            "\u001b[?25l  Downloading https://files.pythonhosted.org/packages/4d/05/9627fd225854f9ab77984f79405e78def50eb673a962940ed30fc07e9ac6/dgl-0.5.2-cp36-cp36m-manylinux1_x86_64.whl (3.5MB)\n",
            "\u001b[K     |████████████████████████████████| 3.5MB 2.7MB/s \n",
            "\u001b[?25hRequirement already satisfied: pip in /usr/local/lib/python3.6/dist-packages (19.3.1)\n",
            "Collecting install\n",
            "  Downloading https://files.pythonhosted.org/packages/41/cf/e3e6b4d494051c07261cae8c403f0f0d0cedad43d980e5255f2c88fd5edf/install-1.3.3-py3-none-any.whl\n",
            "Requirement already satisfied: networkx in /usr/local/lib/python3.6/dist-packages (2.5)\n",
            "Requirement already satisfied: requests>=2.19.0 in /usr/local/lib/python3.6/dist-packages (from dgl) (2.23.0)\n",
            "Requirement already satisfied: scipy>=1.1.0 in /usr/local/lib/python3.6/dist-packages (from dgl) (1.4.1)\n",
            "Requirement already satisfied: numpy>=1.14.0 in /usr/local/lib/python3.6/dist-packages (from dgl) (1.18.5)\n",
            "Requirement already satisfied: decorator>=4.3.0 in /usr/local/lib/python3.6/dist-packages (from networkx) (4.4.2)\n",
            "Requirement already satisfied: certifi>=2017.4.17 in /usr/local/lib/python3.6/dist-packages (from requests>=2.19.0->dgl) (2020.6.20)\n",
            "Requirement already satisfied: urllib3!=1.25.0,!=1.25.1,<1.26,>=1.21.1 in /usr/local/lib/python3.6/dist-packages (from requests>=2.19.0->dgl) (1.24.3)\n",
            "Requirement already satisfied: chardet<4,>=3.0.2 in /usr/local/lib/python3.6/dist-packages (from requests>=2.19.0->dgl) (3.0.4)\n",
            "Requirement already satisfied: idna<3,>=2.5 in /usr/local/lib/python3.6/dist-packages (from requests>=2.19.0->dgl) (2.10)\n",
            "Installing collected packages: dgl, install\n",
            "Successfully installed dgl-0.5.2 install-1.3.3\n"
          ],
          "name": "stdout"
        }
      ]
    },
    {
      "cell_type": "code",
      "metadata": {
        "id": "5kpz7rJSmuvW",
        "outputId": "63b13059-79bc-44eb-fc12-ac4305bcb13f",
        "colab": {
          "base_uri": "https://localhost:8080/",
          "height": 68
        }
      },
      "source": [
        "import numpy as np\n",
        "import pickle\n",
        "import torch\n",
        "import torch.nn as nn\n",
        "import torch.nn.init as init\n",
        "import torch.nn.functional as F\n",
        "from torch.distributions import Bernoulli, Categorical\n",
        "import dgl\n",
        "from dgl.data import MiniGCDataset\n",
        "from dgl.nn.pytorch import GraphConv\n",
        "import networkx as nx\n",
        "import matplotlib.pyplot as plt"
      ],
      "execution_count": null,
      "outputs": [
        {
          "output_type": "stream",
          "text": [
            "DGL backend not selected or invalid.  Assuming PyTorch for now.\n",
            "Using backend: pytorch\n"
          ],
          "name": "stderr"
        },
        {
          "output_type": "stream",
          "text": [
            "Setting the default backend to \"pytorch\". You can change it in the ~/.dgl/config.json file or export the DGLBACKEND environment variable.  Valid options are: pytorch, mxnet, tensorflow (all lowercase)\n"
          ],
          "name": "stdout"
        }
      ]
    },
    {
      "cell_type": "markdown",
      "metadata": {
        "id": "O-pKd-sXHj86"
      },
      "source": [
        "# データセット　(MiniGCDataset)\n",
        "\n",
        "---\n",
        "\n"
      ]
    },
    {
      "cell_type": "markdown",
      "metadata": {
        "id": "jEibvFE_jbNM"
      },
      "source": [
        "生成される化合物を直感的に評価することが難しいので,ここでは簡単なグラフ構造の生成を試みます.  \n",
        "DGLが提供する, MiniGCDatasetを利用します.  \n",
        "MiniGCDatasetは, 8クラスのグラフ構造があり, クラスごとにノード数が異なるグラフを持ちます."
      ]
    },
    {
      "cell_type": "markdown",
      "metadata": {
        "id": "319Wfly32tkl"
      },
      "source": [
        "<!--\n",
        "<img src='https://drive.google.com/uc?id=1ALGAgXLqRAKbZ20oXFKYtmZYWjTn99Zv' width=80%>\n",
        "-->\n",
        "<!--\n",
        "<img src='https://github.com/machine-perception-robotics-group/MPRGDeepLearningLectureNotebook/blob/master/15_gcn/fig/05_dataset_overview.png?raw=true' width=80%>\n",
        "-->\n",
        "<img src='https://github.com/sirakik/MPRGLecture/blob/master/15_gcn/fig/05_dataset_overview.png?raw=true' width=80%>\n",
        "\n",
        "\n",
        "[引用元：https://docs.dgl.ai/en/0.4.x/tutorials/basics/4_batch.html]"
      ]
    },
    {
      "cell_type": "markdown",
      "metadata": {
        "id": "HHensQh-pvys"
      },
      "source": [
        "MiniGCDatasetはデータセットではあるものの，データ数や，ノード数を自由に設定し，作成することができます."
      ]
    },
    {
      "cell_type": "code",
      "metadata": {
        "id": "2ix7SySpnrmu"
      },
      "source": [
        "num_per_graph = 100 # クラスごとのデータ数\n",
        "min_num_node = 10 # 生成されるグラフの最小ノード数\n",
        "max_num_node = 20 # 生成されるグラフの最大ノード数\n",
        "dataset = MiniGCDataset(num_per_graph*8, min_num_node, max_num_node)"
      ],
      "execution_count": null,
      "outputs": []
    },
    {
      "cell_type": "markdown",
      "metadata": {
        "id": "HY9Bf5fPqRY4"
      },
      "source": [
        "データを可視化してみます.データはクラスごとに並んでいます.  \n",
        "クラスごとのデータ数を100にした場合, 0\\~99がクラス0, 100\\~199がクラス1のようになっています.  \n",
        "``DATA_INDEX``を編集して，可視化してみてください.  \n",
        "最小，最大ノード数内でグラフが生成されています."
      ]
    },
    {
      "cell_type": "code",
      "metadata": {
        "id": "jHG0l3bCqQ3v",
        "outputId": "7f615703-91f2-4306-d493-614d182fed7d",
        "colab": {
          "base_uri": "https://localhost:8080/",
          "height": 264
        }
      },
      "source": [
        "DATA_INDEX = 10\n",
        "\n",
        "graph, label = dataset[DATA_INDEX]\n",
        "fig, ax = plt.subplots()\n",
        "nx.draw(graph.to_networkx(), ax=ax, arrows=False)\n",
        "ax.set_title('Class: {:d}'.format(label))\n",
        "plt.show()"
      ],
      "execution_count": null,
      "outputs": [
        {
          "output_type": "display_data",
          "data": {
            "image/png": "[encoded data removed]",
            "text/plain": [
              "<Figure size 432x288 with 1 Axes>"
            ]
          },
          "metadata": {
            "tags": []
          }
        }
      ]
    },
    {
      "cell_type": "markdown",
      "metadata": {
        "id": "Csp6gTHDFtup"
      },
      "source": [
        "### グラフをシーケンスに変換\n"
      ]
    },
    {
      "cell_type": "markdown",
      "metadata": {
        "id": "PaKtzOQsVx8Z"
      },
      "source": [
        "DGMGの教師となるシーケンスを作成します.  \n",
        "``adj_to_sequence``関数によって,グラフの隣接行列からシーケンスを作成しています.  \n",
        "また，学習するクラスを変更する実験をするため，シーケンスを生成する手順を関数化しておき, 学習の直前で教師を作成します."
      ]
    },
    {
      "cell_type": "code",
      "metadata": {
        "id": "0Jk366LoN-hk"
      },
      "source": [
        "def adj_to_sequence(adj):\n",
        "    sequence = []\n",
        "    for node in range(len(adj)):\n",
        "        sequence.append(0)  # add node\n",
        "        for dest in range(node):\n",
        "            if adj[node][dest] == 1:\n",
        "                sequence.append(0)  # add edge\n",
        "                sequence.append(dest)  # add dest node\n",
        "        sequence.append(1)  # stop add edge\n",
        "    sequence.append(1)  # stop add node\n",
        "    return sequence\n",
        "\n",
        "def make_dataset(class_label):\n",
        "    list_sequence = []\n",
        "    for cla in class_label:\n",
        "        s_index = cla * num_per_graph\n",
        "        for index in range(s_index, s_index+num_per_graph):\n",
        "            graph, _ = dataset[index]\n",
        "            tril = np.ones((graph.number_of_nodes(), graph.number_of_nodes()))\n",
        "            tril = np.tril(tril, k=-1)\n",
        "            adj = graph.adjacency_matrix().to_dense().numpy()\n",
        "            adj = tril*adj\n",
        "            sequence = adj_to_sequence(adj)\n",
        "            list_sequence.append(sequence)\n",
        "    with open('sequence_data.p', 'wb') as f:\n",
        "        pickle.dump(list_sequence, f)"
      ],
      "execution_count": null,
      "outputs": []
    },
    {
      "cell_type": "markdown",
      "metadata": {
        "id": "udchuYx_WcSQ"
      },
      "source": [
        "データを読み込む関数です."
      ]
    },
    {
      "cell_type": "code",
      "metadata": {
        "id": "VlMFq-8oDKV2"
      },
      "source": [
        "class MiniGCDataset(torch.utils.data.Dataset):\n",
        "    def __init__(self, fname='sequence_data.p'):\n",
        "        super(MiniGCDataset, self).__init__()\n",
        "        with open(fname, 'rb') as f:\n",
        "            self.data = pickle.load(f)\n",
        "\n",
        "    def __len__(self):\n",
        "        return len(self.data)\n",
        "\n",
        "    def __getitem__(self, index):\n",
        "        return self.data[index]"
      ],
      "execution_count": null,
      "outputs": []
    },
    {
      "cell_type": "markdown",
      "metadata": {
        "id": "O4HVe19LHm25"
      },
      "source": [
        "# DGMG実装\n",
        "\n",
        "---\n",
        "\n"
      ]
    },
    {
      "cell_type": "markdown",
      "metadata": {
        "id": "F8pBEjjfrFnz"
      },
      "source": [
        "### graph embedding"
      ]
    },
    {
      "cell_type": "markdown",
      "metadata": {
        "id": "DOFhrNHBCJJo"
      },
      "source": [
        "add nodeやadd edgeの識別器（全結合層）に渡すために, グラフ特徴を埋め込み表現にする役割です.　　\n",
        "\n",
        "\\begin{equation}\n",
        "{\\bf h}_{G}=\\sum_{n\\in \\bf V} f_e({\\bf h}_v) \\odot sigmoid(g_e({\\bf h}_v))\n",
        "\\end{equation}\n",
        "\n",
        "$f_e(\\cdot),g_e(\\cdot)$は全結合層です.重要なノードを考慮しつつ特徴を埋め込みます."
      ]
    },
    {
      "cell_type": "markdown",
      "metadata": {
        "id": "Qtz1rU8i28Cl"
      },
      "source": [
        "<!--\n",
        "<img src='https://drive.google.com/uc?id=1fBUApZyGIHXUbWG6lVTYKt9gwDSevtxV' width=40%>\n",
        "-->\n",
        "<!--\n",
        "<img src='https://github.com/machine-perception-robotics-group/MPRGDeepLearningLectureNotebook/blob/master/15_gcn/fig/05_embed.png?raw=true' width=40%>\n",
        "-->\n",
        "<img src='https://github.com/sirakik/MPRGLecture/blob/master/15_gcn/fig/05_graph_embed.png?raw=true' width=40%>"
      ]
    },
    {
      "cell_type": "code",
      "metadata": {
        "id": "nPWfNh3FrK-5"
      },
      "source": [
        "class GraphEmbed(nn.Module):\n",
        "    def __init__(self, node_hidden_size):\n",
        "        super(GraphEmbed, self).__init__()\n",
        "        self.graph_hidden_size = 2 * node_hidden_size\n",
        "        self.node_gating = nn.Sequential(\n",
        "            nn.Linear(node_hidden_size, 1),\n",
        "            nn.Sigmoid())\n",
        "        self.node_to_graph = nn.Linear(node_hidden_size,\n",
        "                                       self.graph_hidden_size)\n",
        "\n",
        "    def forward(self, g):\n",
        "        # ノード数が0(生成の最初)のときは空の特徴を返します.\n",
        "        if g.number_of_nodes() == 0:\n",
        "            return torch.zeros(1, self.graph_hidden_size)\n",
        "        else:\n",
        "            hvs = g.ndata['hv']\n",
        "            hvs = (self.node_gating(hvs) * self.node_to_graph(hvs)).sum(0, keepdim=True)\n",
        "            return hvs"
      ],
      "execution_count": null,
      "outputs": []
    },
    {
      "cell_type": "markdown",
      "metadata": {
        "id": "WvnwsFMprFPT"
      },
      "source": [
        "### feature extractor"
      ]
    },
    {
      "cell_type": "markdown",
      "metadata": {
        "id": "raACAyyyFFgR"
      },
      "source": [
        "feature extractorは生成フロー中で,エッジが追加された後に使用され,現状のグラフ構造を理解します.  \n",
        "DGMGでは特徴抽出器としてGGNN(GRUを使ったノード特徴集約手法)を使っています.  \n",
        "Graph convolutionより少しだけ前の手法であり, GRUを利用するため勾配消失・爆発が起こりやすい特徴もあります.  \n",
        "せっかくなのでGraph convolutionに変更してみます.  \n",
        "今回は,DGLに実装されている``GraphConv``関数を利用します."
      ]
    },
    {
      "cell_type": "markdown",
      "metadata": {
        "id": "Z9xEGvpG3SVr"
      },
      "source": [
        "<!--\n",
        "<img src='https://drive.google.com/uc?id=12NPl3B8skdJ3qsZXwKiotlgFB94gCv1v' width=40%>\n",
        "-->\n",
        "<!--\n",
        "<img src='https://github.com/machine-perception-robotics-group/MPRGDeepLearningLectureNotebook/blob/master/15_gcn/fig/05_DGMG_feature_extractor.png?raw=true' width=40%>\n",
        "-->\n",
        "<img src='https://github.com/sirakik/MPRGLecture/blob/master/15_gcn/fig/05_DGMG_feature_extractor.png?raw=true' width=40%>"
      ]
    },
    {
      "cell_type": "code",
      "metadata": {
        "id": "pDHN2ZC6rUqj"
      },
      "source": [
        "class FeatureExtractor(nn.Module):\n",
        "    def __init__(self, num_hidden_size):\n",
        "        super(FeatureExtractor, self).__init__()\n",
        "        self.gc1 = GraphConv(num_hidden_size, 2 * num_hidden_size)\n",
        "        self.gc2 = GraphConv(2 * num_hidden_size, num_hidden_size)\n",
        "        self.sigmoid = nn.Sigmoid()\n",
        "\n",
        "    def forward(self, g):\n",
        "        if g.number_of_edges() == 0:\n",
        "            return g\n",
        "        else:\n",
        "            h = self.gc1(g, g.ndata['hv'])\n",
        "            h = self.sigmoid(h)\n",
        "            g.ndata['hv'] = self.gc2(g, h)\n",
        "            return g"
      ],
      "execution_count": null,
      "outputs": []
    },
    {
      "cell_type": "markdown",
      "metadata": {
        "id": "kc4PomYNpqfT"
      },
      "source": [
        "### add node"
      ]
    },
    {
      "cell_type": "markdown",
      "metadata": {
        "id": "44knGFExM1bB"
      },
      "source": [
        "グラフに新しいノードを追加するか, しないかの2クラス分類器です.  \n",
        "graph embedを通り, その出力値をadd node(全結合層)に通します.  \n",
        "化合物生成の場合, 新しいノード(原子)のクラス(H, He, Li, Be...)を予測する必要がありますが,ここでは必要ありません.  \n",
        "クラスではなく, 新しいノード特徴を生成するのみです(``itinialize_node``)."
      ]
    },
    {
      "cell_type": "markdown",
      "metadata": {
        "id": "8K0jrCnI3fgg"
      },
      "source": [
        "<!--\n",
        "<img src='https://drive.google.com/uc?id=1pK1QNLiaF7qHFMBXS6rbmm94glgUpGND' width=60%>\n",
        "-->\n",
        "<!--\n",
        "<img src='https://github.com/machine-perception-robotics-group/MPRGDeepLearningLectureNotebook/blob/master/15_gcn/fig/05_graph_embed_add_node.png?raw=true' width=60%>\n",
        "-->\n",
        "<img src='https://github.com/sirakik/MPRGLecture/blob/master/15_gcn/fig/05_graph_embed_add_node.png?raw=true' width=60%>"
      ]
    },
    {
      "cell_type": "code",
      "metadata": {
        "id": "8b7u8ST0psEG"
      },
      "source": [
        "class AddNode(nn.Module):\n",
        "    def __init__(self, graph_embed, node_hidden_size):\n",
        "        super(AddNode, self).__init__()\n",
        "        self.graph_embed = graph_embed\n",
        "        self.add_node = nn.Linear(graph_embed.graph_hidden_size, 1)\n",
        "        self.sigmoid = nn.Sigmoid()\n",
        "        # initialize node\n",
        "        self.node_embed = nn.Embedding(1, node_hidden_size)\n",
        "        self.initialize_hv = nn.Linear(graph_embed.graph_hidden_size, node_hidden_size)\n",
        "        self.activation_node = torch.zeros(1, 2 * node_hidden_size)\n",
        "\n",
        "    def prepare_training(self):\n",
        "        self.log_prob = 0\n",
        "\n",
        "    def initialize_node(self, g, graph_feature):\n",
        "        last_node = g.number_of_nodes() - 1\n",
        "        hv_init = self.initialize_hv(graph_feature)\n",
        "        g.nodes[last_node].data['hv'] = hv_init\n",
        "        g.nodes[last_node].data['a'] = self.activation_node\n",
        "        return g\n",
        "\n",
        "    def bernoulli_action_prob(self, logit, action):\n",
        "        if action == 0:\n",
        "            return F.logsigmoid(-logit)\n",
        "        else:\n",
        "            return F.logsigmoid(logit)\n",
        "\n",
        "    def forward(self, g, action=None):\n",
        "        graph_feature = self.graph_embed(g)\n",
        "        logit = self.add_node(graph_feature)\n",
        "\n",
        "        if self.training:\n",
        "            self.log_prob += self.bernoulli_action_prob(logit, action)\n",
        "        else:\n",
        "            prob = self.sigmoid(logit)\n",
        "            action = Bernoulli(prob).sample().item()\n",
        "\n",
        "        stop = bool(action == 1)  # 1はstop\n",
        "\n",
        "        if not stop:\n",
        "            g.add_nodes(1)\n",
        "            g = self.initialize_node(g, graph_feature)\n",
        "\n",
        "        return g, stop"
      ],
      "execution_count": null,
      "outputs": []
    },
    {
      "cell_type": "markdown",
      "metadata": {
        "id": "6RHlaiVqoyWw"
      },
      "source": [
        "### add edge"
      ]
    },
    {
      "cell_type": "markdown",
      "metadata": {
        "id": "83DkZQDlfnEP"
      },
      "source": [
        "新しいノードにエッジを追加するか, しないかの2クラス分類器です.  \n",
        "新しくノードが追加されたため, グラフの埋め込みをもう一度行います.  \n",
        "埋め込み表現された特徴に, 新しいノード特徴を結合しadd edge(全結合層)に通します."
      ]
    },
    {
      "cell_type": "markdown",
      "metadata": {
        "id": "7JLB1Re33rRm"
      },
      "source": [
        "<!--\n",
        "<img src='https://drive.google.com/uc?id=16iALJ82t-1QydVsYwWTnyjwgrXdO3zHK' width=60%>\n",
        "-->\n",
        "<!--\n",
        "<img src='https://github.com/machine-perception-robotics-group/MPRGDeepLearningLectureNotebook/blob/master/15_gcn/fig/05_graph_embed_add_edge.png?raw=true' width=60%>\n",
        "-->\n",
        "<img src='https://github.com/sirakik/MPRGLecture/blob/master/15_gcn/fig/05_graph_embed_add_edge.png?raw=true' width=60%>"
      ]
    },
    {
      "cell_type": "code",
      "metadata": {
        "id": "cQfaQT6vo1F2"
      },
      "source": [
        "class AddEdge(nn.Module):\n",
        "    def __init__(self, graph_embed, node_hidden_size):\n",
        "        super(AddEdge, self).__init__()\n",
        "        self.graph_embed = graph_embed\n",
        "        self.add_edge = nn.Linear(graph_embed.graph_hidden_size + node_hidden_size, 1)\n",
        "        self.sigmoid = nn.Sigmoid()\n",
        "\n",
        "    def prepare_training(self):\n",
        "        self.log_prob = 0\n",
        "\n",
        "    def bernoulli_action_prob(self, logit, action):\n",
        "        if action == 0:\n",
        "            return F.logsigmoid(-logit)\n",
        "        else:\n",
        "            return F.logsigmoid(logit)\n",
        "\n",
        "    def forward(self, g, action=None):\n",
        "        graph_feature = self.graph_embed(g)\n",
        "        last_node_feature = g.nodes[g.number_of_nodes() - 1].data['hv']\n",
        "        logit = self.add_edge(torch.cat([graph_feature, last_node_feature], dim=1))\n",
        "\n",
        "        if self.training:\n",
        "            self.log_prob += self.bernoulli_action_prob(logit, action)\n",
        "        else:\n",
        "            prob = self.sigmoid(logit)\n",
        "            action = Bernoulli(prob).sample().item()\n",
        "\n",
        "        to_add_edge = bool(action == 0)\n",
        "\n",
        "        return to_add_edge"
      ],
      "execution_count": null,
      "outputs": []
    },
    {
      "cell_type": "markdown",
      "metadata": {
        "id": "6GZoF4BKqKdh"
      },
      "source": [
        "### choose dest"
      ]
    },
    {
      "cell_type": "markdown",
      "metadata": {
        "id": "P5q1UEbJgIa9"
      },
      "source": [
        "add edgeによって,エッジを追加すると判断された場合に,どのノードにエッジを追加するかを決める多クラス分類器です.  \n",
        "エッジが追加された後に,feature extractorに通します."
      ]
    },
    {
      "cell_type": "markdown",
      "metadata": {
        "id": "jBTTp6Od33CS"
      },
      "source": [
        "<!--\n",
        "<img src='https://drive.google.com/uc?id=14_6edweMFguIJenWQ18xciHg3zg5gcsD' width=70%>\n",
        "-->\n",
        "<!--\n",
        "<img src='https://github.com/machine-perception-robotics-group/MPRGDeepLearningLectureNotebook/blob/master/15_gcn/fig/05_choose_dest_feature_extractor.png?raw=true' width=70%>\n",
        "-->\n",
        "<img src='https://github.com/sirakik/MPRGLecture/blob/master/15_gcn/fig/05_choose_dest_feature_extractor.png?raw=true' width=70%>"
      ]
    },
    {
      "cell_type": "code",
      "metadata": {
        "id": "5z6QIeCvqMdV"
      },
      "source": [
        "class ChooseDest(nn.Module):\n",
        "    def __init__(self, graph_prop, node_hidden_size):\n",
        "        super(ChooseDest, self).__init__()\n",
        "        self.graph_prop = graph_prop\n",
        "        self.choose_dest = nn.Linear(2 * node_hidden_size, 1)\n",
        "        self.softmax = nn.Softmax(dim=1)\n",
        "\n",
        "    def prepare_training(self):\n",
        "        self.log_prob = 0\n",
        "\n",
        "    def initialize_edge(self, g, src_list, dest_list):\n",
        "        edge_repr = torch.ones(len(src_list), 1)\n",
        "        g.edges[src_list, dest_list].data['he'] = edge_repr\n",
        "        return g\n",
        "\n",
        "    def forward(self, g, dest=None):\n",
        "        last_node = g.number_of_nodes() - 1\n",
        "        possible_dest = range(last_node)\n",
        "\n",
        "        last_node_feature_expand = g.nodes[last_node].data['hv'].expand(last_node, -1)\n",
        "        possible_dest_feature = g.nodes[possible_dest].data['hv']\n",
        "\n",
        "        dest_score = self.choose_dest(\n",
        "            torch.cat([possible_dest_feature, last_node_feature_expand], dim=-1\n",
        "        )).view(1, -1)\n",
        "        dest_prob = self.softmax(dest_score)\n",
        "\n",
        "        if self.training:\n",
        "            dest = int(dest.item())\n",
        "            if dest_prob.nelement() > 1:\n",
        "                self.log_prob += F.log_softmax(dest_score, dim=1)[:, dest:dest+1]\n",
        "        else:\n",
        "            dest = Categorical(dest_prob).sample().item()\n",
        "\n",
        "        if not g.has_edges_between(last_node, dest):\n",
        "            src_list = [last_node, dest]\n",
        "            dest_list = [dest, last_node]\n",
        "            g.add_edges(src_list, dest_list)\n",
        "            g = self.initialize_edge(g, src_list, dest_list)\n",
        "        g = self.graph_prop(g)\n",
        "        return g"
      ],
      "execution_count": null,
      "outputs": []
    },
    {
      "cell_type": "markdown",
      "metadata": {
        "id": "iZ3um0EwowTg"
      },
      "source": [
        "### DGMG"
      ]
    },
    {
      "cell_type": "markdown",
      "metadata": {
        "id": "KH6n0jJKg-WS"
      },
      "source": [
        "生成フローを定義しています.  \n",
        "学習時は，シーケンス（真値）を与え,グラフ生成をします.  \n",
        "仮に,識別器の答えが真値と違った場合でも,真値が出力されたと仮定して,生成を続けます. "
      ]
    },
    {
      "cell_type": "markdown",
      "metadata": {
        "id": "69oAGzPK39UI"
      },
      "source": [
        "<!--\n",
        "<img src='https://drive.google.com/uc?id=1meLvQov6EbRnCZ8mSGvGaBeo_gjrWPk4' width=70%>\n",
        "-->\n",
        "<!--\n",
        "<img src='https://github.com/machine-perception-robotics-group/MPRGDeepLearningLectureNotebook/blob/master/15_gcn/fig/05_graph_flow.png?raw=true' width=70%>\n",
        "-->\n",
        "<img src='https://github.com/sirakik/MPRGLecture/blob/master/15_gcn/fig/05_graph_flow.png?raw=true' width=70%>"
      ]
    },
    {
      "cell_type": "code",
      "metadata": {
        "id": "HC0GXjNZnWyl"
      },
      "source": [
        "def weights_init(m):\n",
        "    if isinstance(m, nn.Linear):\n",
        "        init.xavier_normal_(m.weight.data)\n",
        "        init.normal_(m.bias.data)\n",
        "    elif isinstance(m, nn.GRUCell):\n",
        "        for param in m.parameters():\n",
        "            if len(param.shape) >= 2:\n",
        "                init.orthogonal_(param.data)\n",
        "            else:\n",
        "                init.normal_(param.data)\n",
        "\n",
        "class DGMG(nn.Module):\n",
        "    def __init__(self, max_num_node, node_hidden_size):\n",
        "        super(DGMG, self).__init__()\n",
        "        self.max_num_node = max_num_node\n",
        "        self.graph_embed = GraphEmbed(node_hidden_size)\n",
        "        self.graph_prop = FeatureExtractor(node_hidden_size)\n",
        "        self.add_node = AddNode(self.graph_embed, node_hidden_size)\n",
        "        self.add_edge = AddEdge(self.graph_embed, node_hidden_size)\n",
        "        self.choose_dest = ChooseDest(self.graph_prop, node_hidden_size)\n",
        "        self.init_weight()\n",
        "\n",
        "    def init_weight(self):\n",
        "        self.graph_embed.apply(weights_init)\n",
        "        self.graph_prop.apply(weights_init)\n",
        "        self.add_node.apply(weights_init)\n",
        "        self.add_edge.apply(weights_init)\n",
        "        self.choose_dest.apply(weights_init)\n",
        "\n",
        "    @property\n",
        "    def action_step(self):\n",
        "        last_step_count = self.step_count\n",
        "        self.step_count += 1\n",
        "        return last_step_count\n",
        "\n",
        "    def prepare_for_train(self):\n",
        "        self.step_count = 0\n",
        "        self.add_node.prepare_training()\n",
        "        self.add_edge.prepare_training()\n",
        "        self.choose_dest.prepare_training()\n",
        "\n",
        "    def get_log_prob(self):\n",
        "        return self.add_node.log_prob + self.add_edge.log_prob + self.choose_dest.log_prob\n",
        "\n",
        "    def forward_train(self, sequence):\n",
        "        self.prepare_for_train()\n",
        "        self.g, stop = self.add_node(self.g, sequence[self.action_step])\n",
        "        while not stop:\n",
        "            to_add_edge = self.add_edge(self.g, sequence[self.action_step])\n",
        "            while to_add_edge:\n",
        "                self.g = self.choose_dest(self.g, sequence[self.action_step])\n",
        "                to_add_edge = self.add_edge(self.g, sequence[self.action_step])\n",
        "            self.g, stop = self.add_node(self.g, sequence[self.action_step])\n",
        "        return self.get_log_prob()\n",
        "\n",
        "    def forward_eval(self):\n",
        "        self.g, stop = self.add_node(self.g)\n",
        "        while (not stop) and (self.g.number_of_nodes() < self.max_num_node + 1):\n",
        "            num_dest = 0\n",
        "            to_add_edge = self.add_edge(self.g)\n",
        "            while to_add_edge and (num_dest < self.g.number_of_nodes() - 1):\n",
        "                self.g = self.choose_dest(self.g)\n",
        "                num_dest += 1\n",
        "                to_add_edge = self.add_edge(self.g)\n",
        "            self.g, stop = self.add_node(self.g)\n",
        "        return self.g\n",
        "\n",
        "    def forward(self, sequence=None):\n",
        "        self.g = dgl.DGLGraph()\n",
        "        self.g.set_n_initializer(dgl.frame.zero_initializer)\n",
        "        self.g.set_e_initializer(dgl.frame.zero_initializer)\n",
        "        if self.training:\n",
        "            return self.forward_train(sequence)\n",
        "        else:\n",
        "            return self.forward_eval()  "
      ],
      "execution_count": null,
      "outputs": []
    },
    {
      "cell_type": "markdown",
      "metadata": {
        "id": "OZCWz5CvHpCS"
      },
      "source": [
        "# 学習\n",
        "\n",
        "---\n",
        "\n"
      ]
    },
    {
      "cell_type": "markdown",
      "metadata": {
        "id": "pukwpi2iiVKg"
      },
      "source": [
        "各識別器のアクション$a_1,\\dots,a_T$は,以下のように確率として表現できます.\n",
        "\n",
        "\\begin{equation}\n",
        "p(a_1,\\dots,a_T)=p(a_1)p(a_2|a_1)\\dots p(a_T|a_1,\\dots,a_{T-1})\n",
        "\\end{equation}\n",
        "\n",
        "この確率をパラメータの関数と見なすことができるので,  \n",
        "MLE　Loss(Maximum Likelihood Estimation:最尤推定)によってモデルを最適化させます.\n",
        "\n",
        "\\begin{equation}\n",
        "E = -\\log p(a_1,\\dots,a_T) = -\\sum^T_t \\log p(a_t|a_1,\\dots,a_{t-1})\n",
        "\\end{equation}"
      ]
    },
    {
      "cell_type": "markdown",
      "metadata": {
        "id": "yRrwLBUbkZVx"
      },
      "source": [
        "また, 学習させるグラフクラスを選択することができます.  \n",
        "``make_dataset(class_label=[])``の配列にグラフラベルを入力してください.  \n",
        "複数のグラフを学習させることもできます.  \n",
        "複数のグラフを学習させた場合,　各グラフの特徴を考慮したグラフが生成されるはずです."
      ]
    },
    {
      "cell_type": "code",
      "metadata": {
        "id": "JN27Z6fFBqly",
        "outputId": "24913a7e-1154-4701-94c3-97593697e6c6",
        "colab": {
          "base_uri": "https://localhost:8080/",
          "height": 1000
        }
      },
      "source": [
        "NUM_EPOCH = 100\n",
        "BATCH_SIZE = 32\n",
        "\n",
        "# クラスの選択\n",
        "make_dataset(class_label=[2])\n",
        "\n",
        "# data loaderのバッチサイズは1で固定です\n",
        "data_loader = torch.utils.data.DataLoader(MiniGCDataset(),\n",
        "                                          batch_size=1,\n",
        "                                          shuffle=True)\n",
        "\n",
        "model = DGMG(max_num_node,\n",
        "                node_hidden_size=16)\n",
        "optimizer = torch.optim.Adam(model.parameters(), lr=0.01)\n",
        "\n",
        "#model.train()\n",
        "for epoch in range(1, NUM_EPOCH+1):\n",
        "    batch_count = 0\n",
        "    batch_loss = 0\n",
        "    optimizer.zero_grad()\n",
        "    for i, data in enumerate(data_loader):\n",
        "        data = data\n",
        "        log_prob = model(sequence=data)\n",
        "        prob = log_prob.detach().exp()\n",
        "\n",
        "        loss = - log_prob / BATCH_SIZE\n",
        "        loss.backward()\n",
        "        batch_loss += loss.item()\n",
        "        batch_count += 1\n",
        "\n",
        "        if batch_count % BATCH_SIZE == 0:\n",
        "            optimizer.step()\n",
        "            optimizer.zero_grad()\n",
        "            print('# Epoch: {} | Batch: [{}/{}] | loss: {:.4f}'.format(epoch, i+1, len(data_loader), batch_loss/BATCH_SIZE))\n",
        "            batch_loss = 0"
      ],
      "execution_count": null,
      "outputs": [
        {
          "output_type": "stream",
          "text": [
            "/usr/local/lib/python3.6/dist-packages/dgl/base.py:45: DGLWarning: Recommend creating graphs by `dgl.graph(data)` instead of `dgl.DGLGraph(data)`.\n",
            "  return warnings.warn(message, category=category, stacklevel=1)\n"
          ],
          "name": "stderr"
        },
        {
          "output_type": "stream",
          "text": [
            "# Epoch: 1 | Batch: [32/100] | loss: 3.5780\n",
            "# Epoch: 1 | Batch: [64/100] | loss: 2.6063\n",
            "# Epoch: 1 | Batch: [96/100] | loss: 2.7195\n",
            "# Epoch: 2 | Batch: [32/100] | loss: 2.4547\n",
            "# Epoch: 2 | Batch: [64/100] | loss: 2.7702\n",
            "# Epoch: 2 | Batch: [96/100] | loss: 2.4727\n",
            "# Epoch: 3 | Batch: [32/100] | loss: 2.4718\n",
            "# Epoch: 3 | Batch: [64/100] | loss: 2.4352\n",
            "# Epoch: 3 | Batch: [96/100] | loss: 2.3096\n",
            "# Epoch: 4 | Batch: [32/100] | loss: 2.5930\n",
            "# Epoch: 4 | Batch: [64/100] | loss: 2.3109\n",
            "# Epoch: 4 | Batch: [96/100] | loss: 2.2435\n",
            "# Epoch: 5 | Batch: [32/100] | loss: 2.4525\n",
            "# Epoch: 5 | Batch: [64/100] | loss: 2.3655\n",
            "# Epoch: 5 | Batch: [96/100] | loss: 2.2355\n",
            "# Epoch: 6 | Batch: [32/100] | loss: 2.3511\n",
            "# Epoch: 6 | Batch: [64/100] | loss: 2.3058\n",
            "# Epoch: 6 | Batch: [96/100] | loss: 2.2887\n",
            "# Epoch: 7 | Batch: [32/100] | loss: 2.1249\n",
            "# Epoch: 7 | Batch: [64/100] | loss: 2.3566\n",
            "# Epoch: 7 | Batch: [96/100] | loss: 2.1518\n",
            "# Epoch: 8 | Batch: [32/100] | loss: 2.2265\n",
            "# Epoch: 8 | Batch: [64/100] | loss: 2.1653\n",
            "# Epoch: 8 | Batch: [96/100] | loss: 2.1432\n",
            "# Epoch: 9 | Batch: [32/100] | loss: 2.1130\n",
            "# Epoch: 9 | Batch: [64/100] | loss: 1.9122\n",
            "# Epoch: 9 | Batch: [96/100] | loss: 2.1884\n",
            "# Epoch: 10 | Batch: [32/100] | loss: 1.9815\n",
            "# Epoch: 10 | Batch: [64/100] | loss: 1.9369\n",
            "# Epoch: 10 | Batch: [96/100] | loss: 2.0463\n",
            "# Epoch: 11 | Batch: [32/100] | loss: 1.8324\n",
            "# Epoch: 11 | Batch: [64/100] | loss: 1.8924\n",
            "# Epoch: 11 | Batch: [96/100] | loss: 1.9344\n",
            "# Epoch: 12 | Batch: [32/100] | loss: 1.7878\n",
            "# Epoch: 12 | Batch: [64/100] | loss: 1.8538\n",
            "# Epoch: 12 | Batch: [96/100] | loss: 1.7493\n",
            "# Epoch: 13 | Batch: [32/100] | loss: 1.8129\n",
            "# Epoch: 13 | Batch: [64/100] | loss: 1.6415\n",
            "# Epoch: 13 | Batch: [96/100] | loss: 1.6356\n",
            "# Epoch: 14 | Batch: [32/100] | loss: 1.6265\n",
            "# Epoch: 14 | Batch: [64/100] | loss: 1.7342\n",
            "# Epoch: 14 | Batch: [96/100] | loss: 1.6931\n",
            "# Epoch: 15 | Batch: [32/100] | loss: 1.5418\n",
            "# Epoch: 15 | Batch: [64/100] | loss: 1.8164\n",
            "# Epoch: 15 | Batch: [96/100] | loss: 1.5698\n",
            "# Epoch: 16 | Batch: [32/100] | loss: 1.7602\n",
            "# Epoch: 16 | Batch: [64/100] | loss: 1.6703\n",
            "# Epoch: 16 | Batch: [96/100] | loss: 1.5533\n",
            "# Epoch: 17 | Batch: [32/100] | loss: 1.4550\n",
            "# Epoch: 17 | Batch: [64/100] | loss: 1.4908\n",
            "# Epoch: 17 | Batch: [96/100] | loss: 1.5726\n",
            "# Epoch: 18 | Batch: [32/100] | loss: 1.4536\n",
            "# Epoch: 18 | Batch: [64/100] | loss: 1.5358\n",
            "# Epoch: 18 | Batch: [96/100] | loss: 1.4516\n",
            "# Epoch: 19 | Batch: [32/100] | loss: 1.3967\n",
            "# Epoch: 19 | Batch: [64/100] | loss: 1.3434\n",
            "# Epoch: 19 | Batch: [96/100] | loss: 1.4379\n",
            "# Epoch: 20 | Batch: [32/100] | loss: 1.4033\n",
            "# Epoch: 20 | Batch: [64/100] | loss: 1.4248\n",
            "# Epoch: 20 | Batch: [96/100] | loss: 1.2644\n",
            "# Epoch: 21 | Batch: [32/100] | loss: 1.2626\n",
            "# Epoch: 21 | Batch: [64/100] | loss: 1.3630\n",
            "# Epoch: 21 | Batch: [96/100] | loss: 1.2498\n",
            "# Epoch: 22 | Batch: [32/100] | loss: 1.2573\n",
            "# Epoch: 22 | Batch: [64/100] | loss: 1.2209\n",
            "# Epoch: 22 | Batch: [96/100] | loss: 1.1978\n",
            "# Epoch: 23 | Batch: [32/100] | loss: 1.2055\n",
            "# Epoch: 23 | Batch: [64/100] | loss: 1.1699\n",
            "# Epoch: 23 | Batch: [96/100] | loss: 1.1606\n",
            "# Epoch: 24 | Batch: [32/100] | loss: 1.1613\n",
            "# Epoch: 24 | Batch: [64/100] | loss: 1.1557\n",
            "# Epoch: 24 | Batch: [96/100] | loss: 1.0616\n",
            "# Epoch: 25 | Batch: [32/100] | loss: 1.0770\n",
            "# Epoch: 25 | Batch: [64/100] | loss: 1.0349\n",
            "# Epoch: 25 | Batch: [96/100] | loss: 1.0204\n",
            "# Epoch: 26 | Batch: [32/100] | loss: 0.9634\n",
            "# Epoch: 26 | Batch: [64/100] | loss: 0.9387\n",
            "# Epoch: 26 | Batch: [96/100] | loss: 0.9691\n",
            "# Epoch: 27 | Batch: [32/100] | loss: 0.8902\n",
            "# Epoch: 27 | Batch: [64/100] | loss: 0.8535\n",
            "# Epoch: 27 | Batch: [96/100] | loss: 0.8852\n",
            "# Epoch: 28 | Batch: [32/100] | loss: 0.8410\n",
            "# Epoch: 28 | Batch: [64/100] | loss: 0.7968\n",
            "# Epoch: 28 | Batch: [96/100] | loss: 0.7488\n",
            "# Epoch: 29 | Batch: [32/100] | loss: 0.7330\n",
            "# Epoch: 29 | Batch: [64/100] | loss: 0.7297\n",
            "# Epoch: 29 | Batch: [96/100] | loss: 0.7272\n",
            "# Epoch: 30 | Batch: [32/100] | loss: 0.6983\n",
            "# Epoch: 30 | Batch: [64/100] | loss: 0.6676\n",
            "# Epoch: 30 | Batch: [96/100] | loss: 0.6719\n",
            "# Epoch: 31 | Batch: [32/100] | loss: 0.6241\n",
            "# Epoch: 31 | Batch: [64/100] | loss: 0.6334\n",
            "# Epoch: 31 | Batch: [96/100] | loss: 0.6309\n",
            "# Epoch: 32 | Batch: [32/100] | loss: 0.6187\n",
            "# Epoch: 32 | Batch: [64/100] | loss: 0.5942\n",
            "# Epoch: 32 | Batch: [96/100] | loss: 0.5806\n",
            "# Epoch: 33 | Batch: [32/100] | loss: 0.6159\n",
            "# Epoch: 33 | Batch: [64/100] | loss: 0.5512\n",
            "# Epoch: 33 | Batch: [96/100] | loss: 0.6020\n",
            "# Epoch: 34 | Batch: [32/100] | loss: 0.5658\n",
            "# Epoch: 34 | Batch: [64/100] | loss: 0.5854\n",
            "# Epoch: 34 | Batch: [96/100] | loss: 0.5735\n",
            "# Epoch: 35 | Batch: [32/100] | loss: 0.5316\n",
            "# Epoch: 35 | Batch: [64/100] | loss: 0.6030\n",
            "# Epoch: 35 | Batch: [96/100] | loss: 0.5814\n",
            "# Epoch: 36 | Batch: [32/100] | loss: 0.5922\n",
            "# Epoch: 36 | Batch: [64/100] | loss: 0.5720\n",
            "# Epoch: 36 | Batch: [96/100] | loss: 0.5694\n",
            "# Epoch: 37 | Batch: [32/100] | loss: 0.5657\n",
            "# Epoch: 37 | Batch: [64/100] | loss: 0.5936\n",
            "# Epoch: 37 | Batch: [96/100] | loss: 0.5599\n",
            "# Epoch: 38 | Batch: [32/100] | loss: 0.5653\n",
            "# Epoch: 38 | Batch: [64/100] | loss: 0.5726\n",
            "# Epoch: 38 | Batch: [96/100] | loss: 0.5590\n",
            "# Epoch: 39 | Batch: [32/100] | loss: 0.5526\n",
            "# Epoch: 39 | Batch: [64/100] | loss: 0.5895\n",
            "# Epoch: 39 | Batch: [96/100] | loss: 0.5304\n",
            "# Epoch: 40 | Batch: [32/100] | loss: 0.5265\n",
            "# Epoch: 40 | Batch: [64/100] | loss: 0.5610\n",
            "# Epoch: 40 | Batch: [96/100] | loss: 0.5565\n",
            "# Epoch: 41 | Batch: [32/100] | loss: 0.5416\n",
            "# Epoch: 41 | Batch: [64/100] | loss: 0.5640\n",
            "# Epoch: 41 | Batch: [96/100] | loss: 0.5323\n",
            "# Epoch: 42 | Batch: [32/100] | loss: 0.5316\n",
            "# Epoch: 42 | Batch: [64/100] | loss: 0.5683\n",
            "# Epoch: 42 | Batch: [96/100] | loss: 0.5274\n",
            "# Epoch: 43 | Batch: [32/100] | loss: 0.5403\n",
            "# Epoch: 43 | Batch: [64/100] | loss: 0.5462\n",
            "# Epoch: 43 | Batch: [96/100] | loss: 0.5301\n",
            "# Epoch: 44 | Batch: [32/100] | loss: 0.5426\n",
            "# Epoch: 44 | Batch: [64/100] | loss: 0.5437\n",
            "# Epoch: 44 | Batch: [96/100] | loss: 0.5153\n",
            "# Epoch: 45 | Batch: [32/100] | loss: 0.5254\n",
            "# Epoch: 45 | Batch: [64/100] | loss: 0.5195\n",
            "# Epoch: 45 | Batch: [96/100] | loss: 0.5471\n",
            "# Epoch: 46 | Batch: [32/100] | loss: 0.5234\n",
            "# Epoch: 46 | Batch: [64/100] | loss: 0.5311\n",
            "# Epoch: 46 | Batch: [96/100] | loss: 0.5295\n",
            "# Epoch: 47 | Batch: [32/100] | loss: 0.5131\n",
            "# Epoch: 47 | Batch: [64/100] | loss: 0.5414\n",
            "# Epoch: 47 | Batch: [96/100] | loss: 0.5310\n",
            "# Epoch: 48 | Batch: [32/100] | loss: 0.5224\n",
            "# Epoch: 48 | Batch: [64/100] | loss: 0.5273\n",
            "# Epoch: 48 | Batch: [96/100] | loss: 0.5309\n",
            "# Epoch: 49 | Batch: [32/100] | loss: 0.5202\n",
            "# Epoch: 49 | Batch: [64/100] | loss: 0.5242\n",
            "# Epoch: 49 | Batch: [96/100] | loss: 0.5341\n",
            "# Epoch: 50 | Batch: [32/100] | loss: 0.5327\n",
            "# Epoch: 50 | Batch: [64/100] | loss: 0.5181\n",
            "# Epoch: 50 | Batch: [96/100] | loss: 0.5195\n",
            "# Epoch: 51 | Batch: [32/100] | loss: 0.5332\n",
            "# Epoch: 51 | Batch: [64/100] | loss: 0.5226\n",
            "# Epoch: 51 | Batch: [96/100] | loss: 0.5171\n",
            "# Epoch: 52 | Batch: [32/100] | loss: 0.5283\n",
            "# Epoch: 52 | Batch: [64/100] | loss: 0.5176\n",
            "# Epoch: 52 | Batch: [96/100] | loss: 0.5156\n",
            "# Epoch: 53 | Batch: [32/100] | loss: 0.5426\n",
            "# Epoch: 53 | Batch: [64/100] | loss: 0.5240\n",
            "# Epoch: 53 | Batch: [96/100] | loss: 0.5113\n",
            "# Epoch: 54 | Batch: [32/100] | loss: 0.5382\n",
            "# Epoch: 54 | Batch: [64/100] | loss: 0.5133\n",
            "# Epoch: 54 | Batch: [96/100] | loss: 0.5377\n",
            "# Epoch: 55 | Batch: [32/100] | loss: 0.5112\n",
            "# Epoch: 55 | Batch: [64/100] | loss: 0.5384\n",
            "# Epoch: 55 | Batch: [96/100] | loss: 0.5301\n",
            "# Epoch: 56 | Batch: [32/100] | loss: 0.5255\n",
            "# Epoch: 56 | Batch: [64/100] | loss: 0.5197\n",
            "# Epoch: 56 | Batch: [96/100] | loss: 0.5118\n",
            "# Epoch: 57 | Batch: [32/100] | loss: 0.5168\n",
            "# Epoch: 57 | Batch: [64/100] | loss: 0.5249\n",
            "# Epoch: 57 | Batch: [96/100] | loss: 0.5230\n",
            "# Epoch: 58 | Batch: [32/100] | loss: 0.5338\n",
            "# Epoch: 58 | Batch: [64/100] | loss: 0.5164\n",
            "# Epoch: 58 | Batch: [96/100] | loss: 0.4951\n",
            "# Epoch: 59 | Batch: [32/100] | loss: 0.5395\n",
            "# Epoch: 59 | Batch: [64/100] | loss: 0.5178\n",
            "# Epoch: 59 | Batch: [96/100] | loss: 0.5311\n",
            "# Epoch: 60 | Batch: [32/100] | loss: 0.5200\n",
            "# Epoch: 60 | Batch: [64/100] | loss: 0.5234\n",
            "# Epoch: 60 | Batch: [96/100] | loss: 0.5118\n",
            "# Epoch: 61 | Batch: [32/100] | loss: 0.5180\n",
            "# Epoch: 61 | Batch: [64/100] | loss: 0.5311\n",
            "# Epoch: 61 | Batch: [96/100] | loss: 0.5161\n",
            "# Epoch: 62 | Batch: [32/100] | loss: 0.5221\n",
            "# Epoch: 62 | Batch: [64/100] | loss: 0.5023\n",
            "# Epoch: 62 | Batch: [96/100] | loss: 0.5350\n",
            "# Epoch: 63 | Batch: [32/100] | loss: 0.5305\n",
            "# Epoch: 63 | Batch: [64/100] | loss: 0.5191\n",
            "# Epoch: 63 | Batch: [96/100] | loss: 0.5124\n",
            "# Epoch: 64 | Batch: [32/100] | loss: 0.5097\n",
            "# Epoch: 64 | Batch: [64/100] | loss: 0.5196\n",
            "# Epoch: 64 | Batch: [96/100] | loss: 0.5049\n",
            "# Epoch: 65 | Batch: [32/100] | loss: 0.4958\n",
            "# Epoch: 65 | Batch: [64/100] | loss: 0.5246\n",
            "# Epoch: 65 | Batch: [96/100] | loss: 0.5182\n",
            "# Epoch: 66 | Batch: [32/100] | loss: 0.5016\n",
            "# Epoch: 66 | Batch: [64/100] | loss: 0.5101\n",
            "# Epoch: 66 | Batch: [96/100] | loss: 0.5134\n",
            "# Epoch: 67 | Batch: [32/100] | loss: 0.5125\n",
            "# Epoch: 67 | Batch: [64/100] | loss: 0.5005\n",
            "# Epoch: 67 | Batch: [96/100] | loss: 0.5055\n",
            "# Epoch: 68 | Batch: [32/100] | loss: 0.5401\n",
            "# Epoch: 68 | Batch: [64/100] | loss: 0.5031\n",
            "# Epoch: 68 | Batch: [96/100] | loss: 0.5185\n",
            "# Epoch: 69 | Batch: [32/100] | loss: 0.4920\n",
            "# Epoch: 69 | Batch: [64/100] | loss: 0.5446\n",
            "# Epoch: 69 | Batch: [96/100] | loss: 0.5132\n",
            "# Epoch: 70 | Batch: [32/100] | loss: 0.5189\n",
            "# Epoch: 70 | Batch: [64/100] | loss: 0.5113\n",
            "# Epoch: 70 | Batch: [96/100] | loss: 0.5025\n",
            "# Epoch: 71 | Batch: [32/100] | loss: 0.5135\n",
            "# Epoch: 71 | Batch: [64/100] | loss: 0.5121\n",
            "# Epoch: 71 | Batch: [96/100] | loss: 0.5045\n",
            "# Epoch: 72 | Batch: [32/100] | loss: 0.5120\n",
            "# Epoch: 72 | Batch: [64/100] | loss: 0.5122\n",
            "# Epoch: 72 | Batch: [96/100] | loss: 0.4919\n",
            "# Epoch: 73 | Batch: [32/100] | loss: 0.5381\n",
            "# Epoch: 73 | Batch: [64/100] | loss: 0.4849\n",
            "# Epoch: 73 | Batch: [96/100] | loss: 0.5014\n",
            "# Epoch: 74 | Batch: [32/100] | loss: 0.4878\n",
            "# Epoch: 74 | Batch: [64/100] | loss: 0.5139\n",
            "# Epoch: 74 | Batch: [96/100] | loss: 0.5059\n",
            "# Epoch: 75 | Batch: [32/100] | loss: 0.5098\n",
            "# Epoch: 75 | Batch: [64/100] | loss: 0.5051\n",
            "# Epoch: 75 | Batch: [96/100] | loss: 0.4941\n",
            "# Epoch: 76 | Batch: [32/100] | loss: 0.4836\n",
            "# Epoch: 76 | Batch: [64/100] | loss: 0.5449\n",
            "# Epoch: 76 | Batch: [96/100] | loss: 0.4934\n",
            "# Epoch: 77 | Batch: [32/100] | loss: 0.5140\n",
            "# Epoch: 77 | Batch: [64/100] | loss: 0.5025\n",
            "# Epoch: 77 | Batch: [96/100] | loss: 0.5089\n",
            "# Epoch: 78 | Batch: [32/100] | loss: 0.5074\n",
            "# Epoch: 78 | Batch: [64/100] | loss: 0.5022\n",
            "# Epoch: 78 | Batch: [96/100] | loss: 0.4894\n",
            "# Epoch: 79 | Batch: [32/100] | loss: 0.4908\n",
            "# Epoch: 79 | Batch: [64/100] | loss: 0.5048\n",
            "# Epoch: 79 | Batch: [96/100] | loss: 0.4890\n",
            "# Epoch: 80 | Batch: [32/100] | loss: 0.4828\n",
            "# Epoch: 80 | Batch: [64/100] | loss: 0.5117\n",
            "# Epoch: 80 | Batch: [96/100] | loss: 0.4959\n",
            "# Epoch: 81 | Batch: [32/100] | loss: 0.5060\n",
            "# Epoch: 81 | Batch: [64/100] | loss: 0.4827\n",
            "# Epoch: 81 | Batch: [96/100] | loss: 0.5099\n",
            "# Epoch: 82 | Batch: [32/100] | loss: 0.4858\n",
            "# Epoch: 82 | Batch: [64/100] | loss: 0.4805\n",
            "# Epoch: 82 | Batch: [96/100] | loss: 0.4981\n",
            "# Epoch: 83 | Batch: [32/100] | loss: 0.4881\n",
            "# Epoch: 83 | Batch: [64/100] | loss: 0.4969\n",
            "# Epoch: 83 | Batch: [96/100] | loss: 0.4869\n",
            "# Epoch: 84 | Batch: [32/100] | loss: 0.4862\n",
            "# Epoch: 84 | Batch: [64/100] | loss: 0.5117\n",
            "# Epoch: 84 | Batch: [96/100] | loss: 0.4846\n",
            "# Epoch: 85 | Batch: [32/100] | loss: 0.4944\n",
            "# Epoch: 85 | Batch: [64/100] | loss: 0.4905\n",
            "# Epoch: 85 | Batch: [96/100] | loss: 0.4923\n",
            "# Epoch: 86 | Batch: [32/100] | loss: 0.5027\n",
            "# Epoch: 86 | Batch: [64/100] | loss: 0.4916\n",
            "# Epoch: 86 | Batch: [96/100] | loss: 0.4807\n",
            "# Epoch: 87 | Batch: [32/100] | loss: 0.4746\n",
            "# Epoch: 87 | Batch: [64/100] | loss: 0.5020\n",
            "# Epoch: 87 | Batch: [96/100] | loss: 0.4947\n",
            "# Epoch: 88 | Batch: [32/100] | loss: 0.4817\n",
            "# Epoch: 88 | Batch: [64/100] | loss: 0.4868\n",
            "# Epoch: 88 | Batch: [96/100] | loss: 0.4861\n",
            "# Epoch: 89 | Batch: [32/100] | loss: 0.4719\n",
            "# Epoch: 89 | Batch: [64/100] | loss: 0.4809\n",
            "# Epoch: 89 | Batch: [96/100] | loss: 0.5003\n",
            "# Epoch: 90 | Batch: [32/100] | loss: 0.4867\n",
            "# Epoch: 90 | Batch: [64/100] | loss: 0.4886\n",
            "# Epoch: 90 | Batch: [96/100] | loss: 0.4743\n",
            "# Epoch: 91 | Batch: [32/100] | loss: 0.4863\n",
            "# Epoch: 91 | Batch: [64/100] | loss: 0.4864\n",
            "# Epoch: 91 | Batch: [96/100] | loss: 0.4827\n",
            "# Epoch: 92 | Batch: [32/100] | loss: 0.4750\n",
            "# Epoch: 92 | Batch: [64/100] | loss: 0.4755\n",
            "# Epoch: 92 | Batch: [96/100] | loss: 0.5135\n",
            "# Epoch: 93 | Batch: [32/100] | loss: 0.4823\n",
            "# Epoch: 93 | Batch: [64/100] | loss: 0.4876\n",
            "# Epoch: 93 | Batch: [96/100] | loss: 0.4885\n",
            "# Epoch: 94 | Batch: [32/100] | loss: 0.4795\n",
            "# Epoch: 94 | Batch: [64/100] | loss: 0.4634\n",
            "# Epoch: 94 | Batch: [96/100] | loss: 0.5163\n",
            "# Epoch: 95 | Batch: [32/100] | loss: 0.4824\n",
            "# Epoch: 95 | Batch: [64/100] | loss: 0.4978\n",
            "# Epoch: 95 | Batch: [96/100] | loss: 0.4727\n",
            "# Epoch: 96 | Batch: [32/100] | loss: 0.5110\n",
            "# Epoch: 96 | Batch: [64/100] | loss: 0.4762\n",
            "# Epoch: 96 | Batch: [96/100] | loss: 0.4752\n",
            "# Epoch: 97 | Batch: [32/100] | loss: 0.4787\n",
            "# Epoch: 97 | Batch: [64/100] | loss: 0.4777\n",
            "# Epoch: 97 | Batch: [96/100] | loss: 0.4825\n",
            "# Epoch: 98 | Batch: [32/100] | loss: 0.4690\n",
            "# Epoch: 98 | Batch: [64/100] | loss: 0.4603\n",
            "# Epoch: 98 | Batch: [96/100] | loss: 0.5048\n",
            "# Epoch: 99 | Batch: [32/100] | loss: 0.4807\n",
            "# Epoch: 99 | Batch: [64/100] | loss: 0.4763\n",
            "# Epoch: 99 | Batch: [96/100] | loss: 0.4747\n",
            "# Epoch: 100 | Batch: [32/100] | loss: 0.4903\n",
            "# Epoch: 100 | Batch: [64/100] | loss: 0.4780\n",
            "# Epoch: 100 | Batch: [96/100] | loss: 0.4487\n"
          ],
          "name": "stdout"
        }
      ]
    },
    {
      "cell_type": "markdown",
      "metadata": {
        "id": "6QBEyDoyHrN3"
      },
      "source": [
        "# 可視化\n",
        "\n",
        "---\n",
        "\n"
      ]
    },
    {
      "cell_type": "markdown",
      "metadata": {
        "id": "DaUTZNPdk5h6"
      },
      "source": [
        "生成されるグラフを数値として評価することは困難なので,可視化することで評価します.  \n",
        "何回も生成してみてください．毎回違うグラフが生成されるはずです."
      ]
    },
    {
      "cell_type": "code",
      "metadata": {
        "id": "COCGqIWOAegm",
        "outputId": "cf437a92-4c75-47b0-c3a0-b779fc3ecd95",
        "colab": {
          "base_uri": "https://localhost:8080/",
          "height": 316
        }
      },
      "source": [
        "model.eval()\n",
        "g = model()\n",
        "\n",
        "print('ノードの数   :　', g.number_of_nodes())\n",
        "print('エッジの本数　：　', g.number_of_edges())\n",
        "nx.draw_networkx(g.to_networkx(), node_color=[[1.0, 0.45, 0.45]])\n",
        "plt.show()"
      ],
      "execution_count": null,
      "outputs": [
        {
          "output_type": "stream",
          "text": [
            "/usr/local/lib/python3.6/dist-packages/dgl/base.py:45: DGLWarning: Recommend creating graphs by `dgl.graph(data)` instead of `dgl.DGLGraph(data)`.\n",
            "  return warnings.warn(message, category=category, stacklevel=1)\n"
          ],
          "name": "stderr"
        },
        {
          "output_type": "stream",
          "text": [
            "ノードの数   :　 9\n",
            "エッジの本数　：　 30\n"
          ],
          "name": "stdout"
        },
        {
          "output_type": "display_data",
          "data": {
            "image/png": "[encoded data removed]",
            "text/plain": [
              "<Figure size 432x288 with 1 Axes>"
            ]
          },
          "metadata": {
            "tags": []
          }
        }
      ]
    }
  ]
}