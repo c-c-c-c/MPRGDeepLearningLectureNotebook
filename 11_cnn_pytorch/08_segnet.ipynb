{
  "nbformat": 4,
  "nbformat_minor": 0,
  "metadata": {
    "colab": {
      "name": "08-segnet.ipynb",
      "provenance": [],
      "collapsed_sections": [],
      "toc_visible": true,
      "mount_file_id": "1p0tebCTYHPHRzgyCSS5S7XFEi8b0GJks",
      "authorship_tag": "ABX9TyOzZrzTeA9F2u3P4i3ZVSr3",
      "include_colab_link": true
    },
    "kernelspec": {
      "name": "python3",
      "display_name": "Python 3"
    },
    "accelerator": "GPU"
  },
  "cells": [
    {
      "cell_type": "markdown",
      "metadata": {
        "id": "view-in-github",
        "colab_type": "text"
      },
      "source": [
        "<a href=\"https://colab.research.google.com/github/machine-perception-robotics-group/MPRGDeepLearningLectureNotebook/blob/master/11_cnn_pytorch/08_segnet.ipynb\" target=\"_parent\"><img src=\"https://colab.research.google.com/assets/colab-badge.svg\" alt=\"Open In Colab\"/></a>"
      ]
    },
    {
      "cell_type": "markdown",
      "metadata": {
        "id": "lSp9ycyYGKjA"
      },
      "source": [
        "# 08：SegNet\n",
        "\n",
        "---"
      ]
    },
    {
      "cell_type": "markdown",
      "metadata": {
        "id": "hVIbh-pdGo-P"
      },
      "source": [
        "## 目的\n",
        "セマンティックセグメンテーションとは何か理解する．\\\n",
        "SegNetの構造を理解する．\\\n",
        "SegNetを用いてARCDatsetでセグメンテーションを行う．"
      ]
    },
    {
      "cell_type": "markdown",
      "metadata": {
        "id": "2nTBxarRFuO2"
      },
      "source": [
        "## セマンティックセグメンテーション\n",
        "\n",
        "セマンティックセグメンテーションは,\n",
        "画像内のオブジェクトをピクセル単位でクラス分類を行うタスクです．\\\n",
        "複数の物体を認識することができ，物体位置や形状も認識することができます．\n",
        "自動運転や医療画像などの分野で使用されています．\n",
        "\n",
        "<img src=\"http://drive.google.com/uc?export=view&id=1Y995doYMR0jW-knUB5NCGN2SFTxnTECh\" width = 30%>\n",
        "\n",
        "\n",
        "<img src=\"http://drive.google.com/uc?export=view&id=1lTrHT21WBF-ylkArTB3fp0s6815jDSZB\" width = 30%>\n"
      ]
    },
    {
      "cell_type": "markdown",
      "metadata": {
        "id": "N0cbwkZLH_uz"
      },
      "source": [
        "## SegNet\n",
        "\n",
        "セマンティックセグメンテーションのネットワークはすべての層が畳み込み層となっていて，最終層ではクラス分のチャンネル数を出力します．\\\n",
        "<img src=\"http://drive.google.com/uc?export=view&id=1ZZoVHg8HtBYDizhtfCZ6iNCR_tEEkSsi\" width = 70%>\n",
        "\n",
        "### エンコーダデコーダ構造\n",
        "エンコーダでは，入力画像を畳み込みとpoolingを繰り返すことで，圧縮していき特徴マップを抽出する役割をしています．\n",
        "デコーダでは，unpoolingと畳み込み層を繰り返して，圧縮した特徴マップを元のサイズに戻していきます． エンコーダデコーダ構造にすることで，省メモリ化といった効果があります．\n",
        "\n",
        "\n",
        "## Pooling indices\n",
        "プーリング処理は，繰り返しおこなうことで局所的な特徴が欠落してしまいます． そこでSegNetでは，エンコーダでMaxPoolingを行ったときに最大値の位置情報を記録します，そして，unpoolingするときにその位置情報を使ってピクセルを戻していきます．この時，記録されていない位置には0が入ります．\\\n",
        "<img src=\"http://drive.google.com/uc?export=view&id=1uYN4W0kZK32x987IptgSlQmWYYkk5qdd\" width = 70%>"
      ]
    },
    {
      "cell_type": "markdown",
      "metadata": {
        "id": "cf2xacX0lS98"
      },
      "source": [
        "必要なモジュールのインポート"
      ]
    },
    {
      "cell_type": "code",
      "metadata": {
        "id": "puNTcqNClSwW"
      },
      "source": [
        "import os\n",
        "from PIL import Image, ImageOps, ImageFilter\n",
        "import numpy as np\n",
        "import torch\n",
        "from torch.utils.data import Dataset\n",
        "from torchvision import transforms\n",
        "from torch.utils.data import DataLoader\n",
        "from torchvision import transforms\n",
        "from torchvision.transforms.functional import normalize\n",
        "import sys\n",
        "import glob\n",
        "import numbers\n",
        "import random\n",
        "import matplotlib.pyplot as plt\n",
        "import torchsummary\n",
        "import cv2"
      ],
      "execution_count": null,
      "outputs": []
    },
    {
      "cell_type": "markdown",
      "metadata": {
        "id": "M6hMkL4PljJB"
      },
      "source": [
        "GPUの確認"
      ]
    },
    {
      "cell_type": "code",
      "metadata": {
        "id": "snuSd9IfPhi3",
        "outputId": "9edc1fd5-51e0-44b2-9938-fc3feb43ee3c",
        "colab": {
          "base_uri": "https://localhost:8080/",
          "height": 34
        }
      },
      "source": [
        "use_cuda = torch.cuda.is_available()\n",
        "print('Use CUDA:', use_cuda)"
      ],
      "execution_count": null,
      "outputs": [
        {
          "output_type": "stream",
          "text": [
            "Use CUDA: True\n"
          ],
          "name": "stdout"
        }
      ]
    },
    {
      "cell_type": "markdown",
      "metadata": {
        "id": "8EwQYfDKMR0g"
      },
      "source": [
        "GPUの確認です．"
      ]
    },
    {
      "cell_type": "code",
      "metadata": {
        "id": "ZTcKUbyjlo96",
        "outputId": "b625bfee-e23c-46a1-f09a-0275ac08ea6c",
        "colab": {
          "base_uri": "https://localhost:8080/",
          "height": 357
        }
      },
      "source": [
        "!nvidia-smi"
      ],
      "execution_count": null,
      "outputs": [
        {
          "output_type": "stream",
          "text": [
            "Thu Oct  1 14:50:39 2020       \n",
            "+-----------------------------------------------------------------------------+\n",
            "| NVIDIA-SMI 455.23.05    Driver Version: 418.67       CUDA Version: 10.1     |\n",
            "|-------------------------------+----------------------+----------------------+\n",
            "| GPU  Name        Persistence-M| Bus-Id        Disp.A | Volatile Uncorr. ECC |\n",
            "| Fan  Temp  Perf  Pwr:Usage/Cap|         Memory-Usage | GPU-Util  Compute M. |\n",
            "|                               |                      |               MIG M. |\n",
            "|===============================+======================+======================|\n",
            "|   0  Tesla K80           Off  | 00000000:00:04.0 Off |                    0 |\n",
            "| N/A   67C    P8    34W / 149W |     11MiB / 11441MiB |      0%      Default |\n",
            "|                               |                      |                 ERR! |\n",
            "+-------------------------------+----------------------+----------------------+\n",
            "                                                                               \n",
            "+-----------------------------------------------------------------------------+\n",
            "| Processes:                                                                  |\n",
            "|  GPU   GI   CI        PID   Type   Process name                  GPU Memory |\n",
            "|        ID   ID                                                   Usage      |\n",
            "|=============================================================================|\n",
            "|  No running processes found                                                 |\n",
            "+-----------------------------------------------------------------------------+\n"
          ],
          "name": "stdout"
        }
      ]
    },
    {
      "cell_type": "markdown",
      "metadata": {
        "id": "aFRKOczNFsr1"
      },
      "source": [
        "# データセットの用意\n",
        "セマンティックセグメンテーションは入力画像とラベル画像を用意する必要があります\\\n",
        "そのため，専用のDatasetクラスやデータ拡張クラスを用意しなければなりません．\\\n",
        "今回は，ARCDatsetを使用します．\n"
      ]
    },
    {
      "cell_type": "markdown",
      "metadata": {
        "id": "yfBQcwaLqNGB"
      },
      "source": [
        "## データ拡張\n",
        "セマンティックセグメンテーションでデータ拡張する場合は，入力画像とラベル画像に同じ処理を行なう必要があります．\\\n",
        "Pytorchのデータ拡張は，入力画像とラベル画像を同時に行えないため専用のものを用意します．\\\n",
        "今回は切り抜き，正規化の処理をPILという画像処理ライブラリを使い実装します．"
      ]
    },
    {
      "cell_type": "code",
      "metadata": {
        "id": "8fKBjvqhq8Sf"
      },
      "source": [
        "class Normalize(object):\n",
        "    def __init__(self, mean=(0., 0., 0.), std=(1., 1., 1.)):\n",
        "        self.mean = mean\n",
        "        self.std = std\n",
        "\n",
        "    def __call__(self, sample):\n",
        "        img = sample['image']\n",
        "        mask = sample['label']\n",
        "        img = np.array(img).astype(np.float32)\n",
        "        mask = np.array(mask).astype(np.float32)\n",
        "        img /= 255.0\n",
        "        img -= self.mean\n",
        "        img /= self.std\n",
        "       \n",
        "        return {'image': img,\n",
        "                'label': mask}\n",
        "\n",
        "class ToTensor(object):\n",
        "    \"\"\"Convert ndarrays in sample to Tensors.\"\"\"\n",
        "    def __init__(self):\n",
        "        self.to_tensor = transforms.ToTensor()\n",
        "\n",
        "    def __call__(self, sample):\n",
        "        # swap color axis because\n",
        "        # numpy image: H x W x C\n",
        "        # torch image: C X H X W\n",
        "        img = sample['image']\n",
        "        mask = sample['label']\n",
        "        #print(mask.shape)\n",
        "        img = np.array(img).astype(np.float32).transpose((2, 0, 1))\n",
        "        #img = self.to_tensor(img)\n",
        "        mask = np.array(mask).astype(np.float32)\n",
        "\n",
        "        img = torch.from_numpy(img).float()\n",
        "        mask = torch.from_numpy(mask).float()\n",
        "\n",
        "        return {'image': img,\n",
        "                'label': mask}\n",
        "\n",
        "\n",
        "\n",
        "class RandomCrop(object):\n",
        "    def __init__(self, size, padding=0):\n",
        "        if isinstance(size, numbers.Number):\n",
        "            self.size = (int(size), int(size))\n",
        "        else:\n",
        "            self.size = size # h, w\n",
        "        self.padding = padding\n",
        "\n",
        "    def __call__(self, sample):\n",
        "        img, mask = sample['image'], sample['label']\n",
        "\n",
        "        if self.padding > 0:\n",
        "            img = ImageOps.expand(img, border=self.padding, fill=0)\n",
        "            mask = ImageOps.expand(mask, border=self.padding, fill=255)\n",
        "\n",
        "        assert img.size == mask.size\n",
        "        w, h = img.size\n",
        "        th, tw = self.size # target size\n",
        "        if w == tw and h == th:\n",
        "            return {'image': img,\n",
        "                    'label': mask}\n",
        "        if w < tw or h < th:\n",
        "            img = img.resize((tw, th), Image.BILINEAR)\n",
        "            mask = mask.resize((tw, th), Image.NEAREST)\n",
        "            return {'image': img,\n",
        "                    'label': mask}\n",
        "\n",
        "        x1 = random.randint(0, w - tw)\n",
        "        y1 = random.randint(0, h - th)\n",
        "        img = img.crop((x1, y1, x1 + tw, y1 + th))\n",
        "        mask = mask.crop((x1, y1, x1 + tw, y1 + th))\n",
        "\n",
        "        return {'image': img,\n",
        "                'label': mask}\n"
      ],
      "execution_count": null,
      "outputs": []
    },
    {
      "cell_type": "markdown",
      "metadata": {
        "id": "tTOgiZw9x0BQ"
      },
      "source": [
        "## データセットクラス\n",
        "専用のDatasetクラスを用意します．\\\n",
        "Datsetクラスを作成するときは，torch.utils.data.Datasetを継承してオーバーライドします．\\\n",
        "\n"
      ]
    },
    {
      "cell_type": "code",
      "metadata": {
        "id": "qlH74rQmahX3",
        "outputId": "cc29f708-5acb-47d3-ef10-8f4cc5356429",
        "colab": {
          "base_uri": "https://localhost:8080/",
          "height": 34
        }
      },
      "source": [
        "#ラベル画像がRGB画像となっているので0～41の値に変換します\n",
        "class_color = np.array([\n",
        "           [  0,   0,   0],\n",
        "           [ 85,   0,   0],\n",
        "           [170,   0,   0],\n",
        "           [255,   0,   0],\n",
        "           [  0,  85,   0],\n",
        "           [ 85,  85,   0],\n",
        "           [170,  85,   0],\n",
        "           [255,  85,   0],\n",
        "           [  0, 170,   0],\n",
        "           [ 85, 170,   0],\n",
        "           [170, 170,   0],\n",
        "           [255, 170,   0],\n",
        "           [  0, 255,   0],\n",
        "           [ 85, 255,   0],\n",
        "           [170, 255,   0],\n",
        "           [255, 255,   0],\n",
        "           [  0,   0,  85],\n",
        "           [ 85,   0,  85],\n",
        "           [170,   0,  85],\n",
        "           [255,   0,  85],\n",
        "           [  0,  85,  85],\n",
        "           [ 85,  85,  85],\n",
        "           [170,  85,  85],\n",
        "           [255,  85,  85],\n",
        "           [  0, 170,  85],\n",
        "           [ 85, 170,  85],\n",
        "           [170, 170,  85],\n",
        "           [255, 170,  85],\n",
        "           [  0, 255,  85],\n",
        "           [ 85, 255,  85],\n",
        "           [170, 255,  85],\n",
        "           [255, 255,  85],\n",
        "           [  0,   0, 170],\n",
        "           [ 85,   0, 170],\n",
        "           [170,   0, 170],\n",
        "           [255,   0, 170],\n",
        "           [  0,  85, 170],\n",
        "           [ 85,  85, 170],\n",
        "           [170,  85, 170],\n",
        "           [255,  85, 170],\n",
        "           [  0, 170, 170]])\n",
        "\n",
        "class_color = class_color[:, ::-1]\n",
        "print(class_color.shape[0])\n",
        "\n",
        "def convertGray(img):\n",
        "    img = np.array(img, dtype=np.uint8)\n",
        "    img = cv2.cvtColor(img, cv2.COLOR_RGB2BGR)\n",
        "    for i in range(0, class_color.shape[0]):\n",
        "        #print(class_color[i])\n",
        "        img[np.where((img == class_color[i]).all(axis=2))] = [i, i, i]\n",
        "\n",
        "    img = cv2.cvtColor(img, cv2.COLOR_BGR2GRAY)\n",
        "    img=Image.fromarray(img)\n",
        "    #img = cv2.cvtColor(img, cv2.COLOR_BGR2GRAY)\n",
        "    return img\n",
        "\n",
        "\n",
        "def image_basename(filename):\n",
        "    return os.path.basename(os.path.splitext(filename)[0])\n",
        "\n",
        "def is_image(filename):\n",
        "    return filename.endswith('.png')\n",
        "\n",
        "def is_label(filename):\n",
        "    return filename.endswith(\".png\")\n",
        "\n",
        "def is_label_sip(filename):\n",
        "    return filename.endswith(\".png\")\n",
        "\n",
        "def image_path(root, basename, extension):\n",
        "    return os.path.join(root, f'{basename}{extension}')\n",
        "\n",
        "class MYDataset(Dataset):\n",
        "    \n",
        "    def __init__(self, split, transform):\n",
        "\n",
        "        #self._base_dir = '/content/drive/My Drive/dataset/'\n",
        "        self._base_dir = '/content/drive/My Drive/ARCdataset_png/'\n",
        "        \n",
        "        self.split = split\n",
        "        self.images_root = os.path.join(self._base_dir, split, 'rgb/')\n",
        "        self.labels_root = os.path.join(self._base_dir, split, 'segmentation/')\n",
        "        \n",
        "        self.filenames = [image_basename(f)\n",
        "            for f in os.listdir(self.images_root) if is_image(f)]\n",
        "        self.filenames.sort()\n",
        "\n",
        "        self.filenamesGt = [image_basename(f)\n",
        "            for f in os.listdir(self.labels_root) if is_label_sip(f)]\n",
        "        self.filenamesGt.sort()\n",
        "\n",
        "        self.transform = transform\n",
        "    \n",
        "    def __len__(self):\n",
        "        return len(self.filenames)\n",
        "\n",
        "\n",
        "    def __getitem__(self, index):\n",
        "         # 1. 画像読み込み\n",
        "        image_file_path = self.filenames[index]+ '.png'\n",
        "        #print( image_file_path)\n",
        "        image_file_path = os.path.join(self._base_dir, self.split, 'rgb/', image_file_path)\n",
        "        img = Image.open(image_file_path).convert('RGB')\n",
        "\n",
        "        # 2. アノテーション画像読み込み\n",
        "        label_file_path = self.filenamesGt[index]+ '.png'\n",
        "        label_file_path = os.path.join(self._base_dir, self.split, 'segmentation/', label_file_path)\n",
        "        label_class_img = Image.open(label_file_path).convert('RGB')\n",
        "        #print(label_class_img.size)\n",
        "        label_class_img =  convertGray(label_class_img)\n",
        "      \n",
        "        sample = {'image': img, 'label': label_class_img}\n",
        "\n",
        "        # 3. データ拡張を実施\n",
        "        return self.transform(sample)\n",
        "\n",
        "\n"
      ],
      "execution_count": null,
      "outputs": [
        {
          "output_type": "stream",
          "text": [
            "41\n"
          ],
          "name": "stdout"
        }
      ]
    },
    {
      "cell_type": "markdown",
      "metadata": {
        "id": "-9it_51ML9NI"
      },
      "source": [
        "## データローダの作成\n",
        "`transforms.Compose`を使い，使用するデータ拡張を設定します．先ほど作成したリサイズ，クロップ，画像の正規化のクラスを使用します．\\\n",
        "次にMYDatasetクラスには学習データか検証データどちらを使用するかとデータ拡張の設定を与えます．\\\n",
        "作成したMYDatasetクラスは`DataLoader`に与えます．\n",
        "ミニバッチは6とします．\n"
      ]
    },
    {
      "cell_type": "code",
      "metadata": {
        "id": "0lyjjqOXdXZk"
      },
      "source": [
        "# データ拡張を設定\n",
        "transform = transforms.Compose([\n",
        "    RandomCrop((224,224)), #224,224で切り抜き\n",
        "    Normalize((0.485, 0.456, 0.406), (0.229, 0.224, 0.225)),\n",
        "    ToTensor(),\n",
        "])\n",
        "\n",
        "test_transform = transforms.Compose([\n",
        "    Normalize((0.485, 0.456, 0.406), (0.229, 0.224, 0.225)),\n",
        "    ToTensor(),\n",
        "])\n",
        "\n",
        "# データセットの作成\n",
        "train_dataset = MYDataset(split='train', transform=transform)\n",
        "val_dataset = MYDataset(split='val', transform=test_transform)\n",
        "\n",
        "# データローダーの作成\n",
        "batch_size =6\n",
        "train_loader = DataLoader(train_dataset, batch_size=6, num_workers=2, shuffle=True)\n",
        "val_loader = DataLoader(val_dataset, batch_size=1, num_workers=0, shuffle=False)\n",
        "\n"
      ],
      "execution_count": null,
      "outputs": []
    },
    {
      "cell_type": "markdown",
      "metadata": {
        "id": "VvURcjTolyLg"
      },
      "source": [
        "# ネットワークモデルの定義\n",
        "SegNetを定義します．\n",
        "\n",
        "エンコーダでは，畳み込み層，BatchNorm，ReLUを2，3回繰り返した後MaxPoolingを行います．Pooling後はチャンネル数を増やして最終的に512チャンネルになります．\n",
        "Pooling処理は，`F.max_pool2d()`の引数を`return_indices=True`にすることで最大値を取った場所の位置情報を獲得することができます．\n",
        "\n",
        "また，各Pooling前の特徴マップのサイズ情報も獲得しておきます\n",
        "\n",
        "\n",
        "デコーダでは，まずアンプ―リング処理を行います．\n",
        "その後，逆畳み込み処理，BatchNorm，ReLUを2，3回繰り返していきます．\n",
        "エンコーダでは，チャンネル数を徐々に増やしていきましたが，デコーダではチャンネル数を徐々に減らしていきます．\n",
        "unpooling処理では，位置情報と出力する得著マップのサイズを渡します.\\\n",
        "`F.max_unpool2d()`の二つ目の引数に`F.max_pool2d()`で獲得した位置情報を与え,\n",
        "`output_siz`に出力する特徴マップサイズを与えます．\n",
        "\n",
        "デコーダの最終層はクラス数のチャンネルを出力します．\n"
      ]
    },
    {
      "cell_type": "code",
      "metadata": {
        "id": "zZ0Ybi0TstZW"
      },
      "source": [
        "\"\"\"\n",
        "Pytorch implementation of SegNet (https://arxiv.org/pdf/1511.00561.pdf)\n",
        "\"\"\"\n",
        "\n",
        "from __future__ import print_function\n",
        "from collections import OrderedDict\n",
        "import torch\n",
        "import torch.nn as nn\n",
        "import torch.nn.functional as F\n",
        "import torchvision.models as models\n",
        "import pprint\n",
        "\n",
        "\n",
        "class SegNet(nn.Module):\n",
        "    def __init__(self, input_channels, output_channels):\n",
        "        super(SegNet, self).__init__()\n",
        "\n",
        "        self.input_channels = input_channels\n",
        "        self.output_channels = output_channels\n",
        "\n",
        "        self.num_channels = input_channels\n",
        "\n",
        "        #self.vgg16 = models.vgg16(pretrained=True)\n",
        "\n",
        "\n",
        "        # Encoder layers\n",
        "\n",
        "        self.encoder_conv_00 = nn.Sequential(nn.Conv2d(in_channels=self.input_channels, out_channels=64, kernel_size=3, padding=1),\n",
        "                                             nn.BatchNorm2d(64),\n",
        "                                             nn.ReLU(inplace=True))\n",
        "        \n",
        "        self.encoder_conv_01 = nn.Sequential(nn.Conv2d(in_channels=64, out_channels=64, kernel_size=3, padding=1),\n",
        "                                             nn.BatchNorm2d(64),\n",
        "                                             nn.ReLU(inplace=True))\n",
        "        \n",
        "        self.encoder_conv_10 = nn.Sequential(nn.Conv2d(in_channels=64, out_channels=128, kernel_size=3, padding=1),\n",
        "                                             nn.BatchNorm2d(128),\n",
        "                                             nn.ReLU(inplace=True))\n",
        "        \n",
        "        self.encoder_conv_11 = nn.Sequential(nn.Conv2d(in_channels=128, out_channels=128, kernel_size=3, padding=1),\n",
        "                                             nn.BatchNorm2d(128),\n",
        "                                             nn.ReLU(inplace=True))\n",
        "        \n",
        "        self.encoder_conv_20 = nn.Sequential(nn.Conv2d(in_channels=128, out_channels=256, kernel_size=3, padding=1),\n",
        "                                             nn.BatchNorm2d(256),\n",
        "                                             nn.ReLU(inplace=True))\n",
        "        \n",
        "        self.encoder_conv_21 = nn.Sequential(nn.Conv2d(in_channels=256, out_channels=256, kernel_size=3, padding=1),\n",
        "                                             nn.BatchNorm2d(256),\n",
        "                                             nn.ReLU(inplace=True))\n",
        "        \n",
        "        self.encoder_conv_22 = nn.Sequential(nn.Conv2d(in_channels=256, out_channels=256, kernel_size=3, padding=1),\n",
        "                                             nn.BatchNorm2d(256),\n",
        "                                             nn.ReLU(inplace=True))\n",
        "        \n",
        "        self.encoder_conv_30 = nn.Sequential(nn.Conv2d(in_channels=256, out_channels=512, kernel_size=3, padding=1),\n",
        "                                             nn.BatchNorm2d(512),\n",
        "                                             nn.ReLU(inplace=True))\n",
        "        \n",
        "        self.encoder_conv_31 = nn.Sequential(nn.Conv2d(in_channels=512, out_channels=512, kernel_size=3, padding=1),\n",
        "                                             nn.BatchNorm2d(512),\n",
        "                                             nn.ReLU(inplace=True))\n",
        "        \n",
        "        self.encoder_conv_32 = nn.Sequential(nn.Conv2d(in_channels=512,out_channels=512, kernel_size=3, padding=1),\n",
        "                                             nn.BatchNorm2d(512),\n",
        "                                             nn.ReLU(inplace=True))\n",
        "        \n",
        "        self.encoder_conv_40 = nn.Sequential(nn.Conv2d(in_channels=512, out_channels=512, kernel_size=3, padding=1),\n",
        "                                             nn.BatchNorm2d(512),\n",
        "                                             nn.ReLU(inplace=True))\n",
        "        \n",
        "        self.encoder_conv_41 = nn.Sequential(nn.Conv2d(in_channels=512, out_channels=512, kernel_size=3, padding=1),\n",
        "                                             nn.BatchNorm2d(512),\n",
        "                                             nn.ReLU(inplace=True))\n",
        "        \n",
        "        self.encoder_conv_42 = nn.Sequential(nn.Conv2d(in_channels=512, out_channels=512, kernel_size=3, padding=1),\n",
        "                                             nn.BatchNorm2d(512),\n",
        "                                             nn.ReLU(inplace=True))\n",
        "\n",
        "        #self.init_vgg_weigts()\n",
        "        # Decoder layers\n",
        "\n",
        "        self.decoder_convtr_42 = nn.Sequential(nn.ConvTranspose2d(in_channels=512, out_channels=512, kernel_size=3, padding=1),\n",
        "                                               nn.BatchNorm2d(512),\n",
        "                                               nn.ReLU(inplace=True))\n",
        "        \n",
        "        self.decoder_convtr_41 = nn.Sequential(nn.ConvTranspose2d(in_channels=512, out_channels=512, kernel_size=3, padding=1),\n",
        "                                               nn.BatchNorm2d(512),\n",
        "                                               nn.ReLU(inplace=True))\n",
        "        \n",
        "        self.decoder_convtr_40 = nn.Sequential(nn.ConvTranspose2d(in_channels=512, out_channels=512, kernel_size=3, padding=1),\n",
        "                                               nn.BatchNorm2d(512),\n",
        "                                               nn.ReLU(inplace=True))\n",
        "        \n",
        "        self.decoder_convtr_32 = nn.Sequential(nn.ConvTranspose2d(in_channels=512, out_channels=512, kernel_size=3, padding=1),\n",
        "                                               nn.BatchNorm2d(512),\n",
        "                                               nn.ReLU(inplace=True))\n",
        "        \n",
        "        self.decoder_convtr_31 = nn.Sequential(nn.ConvTranspose2d(in_channels=512, out_channels=512, kernel_size=3, padding=1),\n",
        "                                               nn.BatchNorm2d(512),\n",
        "                                               nn.ReLU(inplace=True))\n",
        "        \n",
        "        self.decoder_convtr_30 = nn.Sequential(nn.ConvTranspose2d(in_channels=512, out_channels=256, kernel_size=3, padding=1),\n",
        "                                               nn.BatchNorm2d(256),\n",
        "                                               nn.ReLU(inplace=True))\n",
        "        \n",
        "        self.decoder_convtr_22 = nn.Sequential(nn.ConvTranspose2d(in_channels=256, out_channels=256, kernel_size=3, padding=1),\n",
        "                                               nn.BatchNorm2d(256),\n",
        "                                               nn.ReLU(inplace=True))\n",
        "        \n",
        "        self.decoder_convtr_21 = nn.Sequential(nn.ConvTranspose2d(in_channels=256, out_channels=256, kernel_size=3, padding=1),\n",
        "                                               nn.BatchNorm2d(256),\n",
        "                                               nn.ReLU(inplace=True))\n",
        "        \n",
        "        self.decoder_convtr_20 = nn.Sequential(nn.ConvTranspose2d(in_channels=256, out_channels=128, kernel_size=3, padding=1),\n",
        "                                               nn.BatchNorm2d(128),\n",
        "                                               nn.ReLU(inplace=True))\n",
        "        \n",
        "        self.decoder_convtr_11 = nn.Sequential(nn.ConvTranspose2d(in_channels=128, out_channels=128, kernel_size=3, padding=1),\n",
        "                                               nn.BatchNorm2d(128),\n",
        "                                               nn.ReLU(inplace=True))\n",
        "        \n",
        "        self.decoder_convtr_10 = nn.Sequential(nn.ConvTranspose2d(in_channels=128, out_channels=64, kernel_size=3, padding=1),\n",
        "                                               nn.BatchNorm2d(64),\n",
        "                                               nn.ReLU(inplace=True))\n",
        "        \n",
        "        self.decoder_convtr_01 = nn.Sequential(nn.ConvTranspose2d(in_channels=64,out_channels=64, kernel_size=3, padding=1),\n",
        "                                               nn.BatchNorm2d(64),\n",
        "                                               nn.ReLU(inplace=True))\n",
        "        \n",
        "        self.decoder_convtr_00 = nn.ConvTranspose2d(in_channels=64, out_channels=self.output_channels, kernel_size=3, padding=1)\n",
        "\n",
        "\n",
        "    def forward(self, input_img):\n",
        "        \"\"\"\n",
        "        Forward pass `input_img` through the network\n",
        "        \"\"\"\n",
        "\n",
        "        # Encoder\n",
        "\n",
        "        # Encoder Stage - 1\n",
        "        dim_0 = input_img.size()\n",
        "        x_00 = self.encoder_conv_00(input_img)\n",
        "        x_01 = self.encoder_conv_01(x_00)\n",
        "        x_0, indices_0 = F.max_pool2d(x_01, kernel_size=2, stride=2, return_indices=True)\n",
        "\n",
        "        # Encoder Stage - 2\n",
        "        dim_1 = x_0.size()\n",
        "        x_10 = self.encoder_conv_10(x_0)\n",
        "        x_11 = self.encoder_conv_11(x_10)\n",
        "        x_1, indices_1 = F.max_pool2d(x_11, kernel_size=2, stride=2, return_indices=True)\n",
        "\n",
        "        # Encoder Stage - 3\n",
        "        dim_2 = x_1.size()\n",
        "        x_20 = self.encoder_conv_20(x_1)\n",
        "        x_21 = self.encoder_conv_21(x_20)\n",
        "        x_22 = self.encoder_conv_22(x_21)\n",
        "        x_2, indices_2 = F.max_pool2d(x_22, kernel_size=2, stride=2, return_indices=True)\n",
        "\n",
        "        # Encoder Stage - 4\n",
        "        dim_3 = x_2.size()\n",
        "        x_30 = self.encoder_conv_30(x_2)\n",
        "        x_31 = self.encoder_conv_31(x_30)\n",
        "        x_32 = self.encoder_conv_32(x_31)\n",
        "        x_3, indices_3 = F.max_pool2d(x_32, kernel_size=2, stride=2, return_indices=True)\n",
        "\n",
        "        # Encoder Stage - 5\n",
        "        dim_4 = x_3.size()\n",
        "        x_40 = self.encoder_conv_40(x_3)\n",
        "        x_41 = self.encoder_conv_41(x_40)\n",
        "        x_42 = self.encoder_conv_42(x_41)\n",
        "        x_4, indices_4 = F.max_pool2d(x_42, kernel_size=2, stride=2, return_indices=True)\n",
        "\n",
        "        # Decoder\n",
        "\n",
        "        dim_d = x_4.size()\n",
        "\n",
        "        # Decoder Stage - 5\n",
        "        x_4d = F.max_unpool2d(x_4, indices_4, kernel_size=2, stride=2, output_size=dim_4)\n",
        "        x_42d = self.decoder_convtr_42(x_4d)\n",
        "        x_41d = self.decoder_convtr_41(x_42d)\n",
        "        x_40d = self.decoder_convtr_40(x_41d)\n",
        "        dim_4d = x_40d.size()\n",
        "\n",
        "        # Decoder Stage - 4\n",
        "        x_3d = F.max_unpool2d(x_40d, indices_3, kernel_size=2, stride=2, output_size=dim_3)\n",
        "        x_32d = self.decoder_convtr_32(x_3d)\n",
        "        x_31d = self.decoder_convtr_31(x_32d)\n",
        "        x_30d = self.decoder_convtr_30(x_31d)\n",
        "        dim_3d = x_30d.size()\n",
        "\n",
        "        # Decoder Stage - 3\n",
        "        x_2d = F.max_unpool2d(x_30d, indices_2, kernel_size=2, stride=2, output_size=dim_2)\n",
        "        x_22d = self.decoder_convtr_22(x_2d)\n",
        "        x_21d = self.decoder_convtr_21(x_22d)\n",
        "        x_20d = self.decoder_convtr_20(x_21d)\n",
        "        dim_2d = x_20d.size()\n",
        "\n",
        "        # Decoder Stage - 2\n",
        "        x_1d = F.max_unpool2d(x_20d, indices_1, kernel_size=2, stride=2, output_size=dim_1)\n",
        "        x_11d = self.decoder_convtr_11(x_1d)\n",
        "        x_10d = self.decoder_convtr_10(x_11d)\n",
        "        dim_1d = x_10d.size()\n",
        "\n",
        "        # Decoder Stage - 1\n",
        "        x_0d = F.max_unpool2d(x_10d, indices_0, kernel_size=2, stride=2, output_size=dim_0)\n",
        "        x_01d = self.decoder_convtr_01(x_0d)\n",
        "        x_00d = self.decoder_convtr_00(x_01d)\n",
        "        \n",
        "        return x_00d\n",
        "    \n",
        " \n",
        " \n",
        "\n"
      ],
      "execution_count": null,
      "outputs": []
    },
    {
      "cell_type": "markdown",
      "metadata": {
        "id": "FkeuMX5zCLMc"
      },
      "source": [
        "# 学習"
      ]
    },
    {
      "cell_type": "markdown",
      "metadata": {
        "id": "13G3IFnwGLPe"
      },
      "source": [
        "## ネットワークの設定\n",
        "\n",
        "定義したネットワークを作成します．\n",
        "`SegNet`クラスを呼び出して，ネットワークモデルを定義します．\n",
        "また，GPUを使う場合（`use_cuda == True`）には，ネットワークモデルをGPUメモリ上に配置します．\n",
        "これにより，GPUを用いた演算が可能となります．\n",
        "\n",
        "学習を行う際の最適化方法としてモーメンタムSGD(モーメンタム付き確率的勾配降下法）を利用します．\n",
        "また，学習率を0.01，モーメンタムを0.9として引数に与えます．\n",
        "\n",
        "定義したネットワーク情報を`torchsummary.summary()`関数を用いて表示ます．"
      ]
    },
    {
      "cell_type": "code",
      "metadata": {
        "id": "-O1dE1FN4Dcj",
        "outputId": "bdc9e83c-924c-4f42-a8a1-f642ad8a264f",
        "colab": {
          "base_uri": "https://localhost:8080/",
          "height": 1000
        }
      },
      "source": [
        "num_class = 41\n",
        "model = SegNet(input_channels=3, output_channels=num_class)\n",
        "if use_cuda:\n",
        "    model.cuda()\n",
        "\n",
        "optimizer = torch.optim.SGD(model.parameters(), lr=0.01, momentum=0.9)\n",
        "#モデルの情報を表示\n",
        "torchsummary.summary(model,(3,128,128))"
      ],
      "execution_count": null,
      "outputs": [
        {
          "output_type": "stream",
          "text": [
            "----------------------------------------------------------------\n",
            "        Layer (type)               Output Shape         Param #\n",
            "================================================================\n",
            "            Conv2d-1         [-1, 64, 128, 128]           1,792\n",
            "       BatchNorm2d-2         [-1, 64, 128, 128]             128\n",
            "              ReLU-3         [-1, 64, 128, 128]               0\n",
            "            Conv2d-4         [-1, 64, 128, 128]          36,928\n",
            "       BatchNorm2d-5         [-1, 64, 128, 128]             128\n",
            "              ReLU-6         [-1, 64, 128, 128]               0\n",
            "            Conv2d-7          [-1, 128, 64, 64]          73,856\n",
            "       BatchNorm2d-8          [-1, 128, 64, 64]             256\n",
            "              ReLU-9          [-1, 128, 64, 64]               0\n",
            "           Conv2d-10          [-1, 128, 64, 64]         147,584\n",
            "      BatchNorm2d-11          [-1, 128, 64, 64]             256\n",
            "             ReLU-12          [-1, 128, 64, 64]               0\n",
            "           Conv2d-13          [-1, 256, 32, 32]         295,168\n",
            "      BatchNorm2d-14          [-1, 256, 32, 32]             512\n",
            "             ReLU-15          [-1, 256, 32, 32]               0\n",
            "           Conv2d-16          [-1, 256, 32, 32]         590,080\n",
            "      BatchNorm2d-17          [-1, 256, 32, 32]             512\n",
            "             ReLU-18          [-1, 256, 32, 32]               0\n",
            "           Conv2d-19          [-1, 256, 32, 32]         590,080\n",
            "      BatchNorm2d-20          [-1, 256, 32, 32]             512\n",
            "             ReLU-21          [-1, 256, 32, 32]               0\n",
            "           Conv2d-22          [-1, 512, 16, 16]       1,180,160\n",
            "      BatchNorm2d-23          [-1, 512, 16, 16]           1,024\n",
            "             ReLU-24          [-1, 512, 16, 16]               0\n",
            "           Conv2d-25          [-1, 512, 16, 16]       2,359,808\n",
            "      BatchNorm2d-26          [-1, 512, 16, 16]           1,024\n",
            "             ReLU-27          [-1, 512, 16, 16]               0\n",
            "           Conv2d-28          [-1, 512, 16, 16]       2,359,808\n",
            "      BatchNorm2d-29          [-1, 512, 16, 16]           1,024\n",
            "             ReLU-30          [-1, 512, 16, 16]               0\n",
            "           Conv2d-31            [-1, 512, 8, 8]       2,359,808\n",
            "      BatchNorm2d-32            [-1, 512, 8, 8]           1,024\n",
            "             ReLU-33            [-1, 512, 8, 8]               0\n",
            "           Conv2d-34            [-1, 512, 8, 8]       2,359,808\n",
            "      BatchNorm2d-35            [-1, 512, 8, 8]           1,024\n",
            "             ReLU-36            [-1, 512, 8, 8]               0\n",
            "           Conv2d-37            [-1, 512, 8, 8]       2,359,808\n",
            "      BatchNorm2d-38            [-1, 512, 8, 8]           1,024\n",
            "             ReLU-39            [-1, 512, 8, 8]               0\n",
            "  ConvTranspose2d-40            [-1, 512, 8, 8]       2,359,808\n",
            "      BatchNorm2d-41            [-1, 512, 8, 8]           1,024\n",
            "             ReLU-42            [-1, 512, 8, 8]               0\n",
            "  ConvTranspose2d-43            [-1, 512, 8, 8]       2,359,808\n",
            "      BatchNorm2d-44            [-1, 512, 8, 8]           1,024\n",
            "             ReLU-45            [-1, 512, 8, 8]               0\n",
            "  ConvTranspose2d-46            [-1, 512, 8, 8]       2,359,808\n",
            "      BatchNorm2d-47            [-1, 512, 8, 8]           1,024\n",
            "             ReLU-48            [-1, 512, 8, 8]               0\n",
            "  ConvTranspose2d-49          [-1, 512, 16, 16]       2,359,808\n",
            "      BatchNorm2d-50          [-1, 512, 16, 16]           1,024\n",
            "             ReLU-51          [-1, 512, 16, 16]               0\n",
            "  ConvTranspose2d-52          [-1, 512, 16, 16]       2,359,808\n",
            "      BatchNorm2d-53          [-1, 512, 16, 16]           1,024\n",
            "             ReLU-54          [-1, 512, 16, 16]               0\n",
            "  ConvTranspose2d-55          [-1, 256, 16, 16]       1,179,904\n",
            "      BatchNorm2d-56          [-1, 256, 16, 16]             512\n",
            "             ReLU-57          [-1, 256, 16, 16]               0\n",
            "  ConvTranspose2d-58          [-1, 256, 32, 32]         590,080\n",
            "      BatchNorm2d-59          [-1, 256, 32, 32]             512\n",
            "             ReLU-60          [-1, 256, 32, 32]               0\n",
            "  ConvTranspose2d-61          [-1, 256, 32, 32]         590,080\n",
            "      BatchNorm2d-62          [-1, 256, 32, 32]             512\n",
            "             ReLU-63          [-1, 256, 32, 32]               0\n",
            "  ConvTranspose2d-64          [-1, 128, 32, 32]         295,040\n",
            "      BatchNorm2d-65          [-1, 128, 32, 32]             256\n",
            "             ReLU-66          [-1, 128, 32, 32]               0\n",
            "  ConvTranspose2d-67          [-1, 128, 64, 64]         147,584\n",
            "      BatchNorm2d-68          [-1, 128, 64, 64]             256\n",
            "             ReLU-69          [-1, 128, 64, 64]               0\n",
            "  ConvTranspose2d-70           [-1, 64, 64, 64]          73,792\n",
            "      BatchNorm2d-71           [-1, 64, 64, 64]             128\n",
            "             ReLU-72           [-1, 64, 64, 64]               0\n",
            "  ConvTranspose2d-73         [-1, 64, 128, 128]          36,928\n",
            "      BatchNorm2d-74         [-1, 64, 128, 128]             128\n",
            "             ReLU-75         [-1, 64, 128, 128]               0\n",
            "  ConvTranspose2d-76         [-1, 41, 128, 128]          23,657\n",
            "================================================================\n",
            "Total params: 29,466,665\n",
            "Trainable params: 29,466,665\n",
            "Non-trainable params: 0\n",
            "----------------------------------------------------------------\n",
            "Input size (MB): 0.19\n",
            "Forward/backward pass size (MB): 173.12\n",
            "Params size (MB): 112.41\n",
            "Estimated Total Size (MB): 285.72\n",
            "----------------------------------------------------------------\n"
          ],
          "name": "stdout"
        }
      ]
    },
    {
      "cell_type": "markdown",
      "metadata": {
        "id": "LpYGTvgtEKXQ"
      },
      "source": [
        "## 評価関数の設定\n",
        "mIoUとAccuracyの設定を行います．"
      ]
    },
    {
      "cell_type": "code",
      "metadata": {
        "id": "udXH8jVMtGqU"
      },
      "source": [
        "class Evaluator(object):\n",
        "    def __init__(self, num_class):\n",
        "        \n",
        "        self.num_class = num_class\n",
        "        self.confusion_matrix = np.zeros((self.num_class,)*2)\n",
        "\n",
        "    def Pixel_Accuracy(self):\n",
        "        Acc = np.diag(self.confusion_matrix).sum() / self.confusion_matrix.sum()\n",
        "        return Acc\n",
        "\n",
        "    def Mean_Intersection_over_Union(self):\n",
        "        MIoU = np.diag(self.confusion_matrix) / (\n",
        "                    np.sum(self.confusion_matrix, axis=1) + np.sum(self.confusion_matrix, axis=0) -\n",
        "                    np.diag(self.confusion_matrix))\n",
        "        MIoU = np.nanmean(MIoU)\n",
        "        return MIoU\n",
        "\n",
        "    def _generate_matrix(self, gt_image, pre_image):\n",
        "        mask = (gt_image >= 0) & (gt_image < self.num_class)\n",
        "        label = self.num_class * gt_image[mask].astype('int') + pre_image[mask]\n",
        "        count = np.bincount(label, minlength=self.num_class**2)\n",
        "        confusion_matrix = count.reshape(self.num_class, self.num_class)\n",
        "        return confusion_matrix\n",
        "\n",
        "    def add_batch(self, gt_image, pre_image):\n",
        "        assert gt_image.shape == pre_image.shape\n",
        "        self.confusion_matrix += self._generate_matrix(gt_image, pre_image)\n",
        "\n",
        "    def reset(self):\n",
        "        self.confusion_matrix = np.zeros((self.num_class,) * 2)\n"
      ],
      "execution_count": null,
      "outputs": []
    },
    {
      "cell_type": "markdown",
      "metadata": {
        "id": "om2rxBKKPpt4"
      },
      "source": [
        "## モデルの学習\n",
        "\n",
        "\n",
        "誤差関数を設定します． 使用する誤差関数はクロスエントロピー誤差です．CrossEntropyLossをcriterionとして定義します．\n",
        "\n",
        "学習を開始します．\n",
        "\n",
        "各更新において，学習用データと教師データをそれぞれimageとlabelとします． 学習モデルにimageを与えて画素レベルでクラスの確率を出力するyを取得します． 各クラスの確率yと教師ラベルlabelとの誤差をcriterionで算出します． また，認識精度も算出します． そして，誤差をbackward関数で逆伝播し，ネットワークの更新を行います．\n",
        "\n",
        "segmentationの学習は時間がかかるため今回は1epochだけ学習します．"
      ]
    },
    {
      "cell_type": "code",
      "metadata": {
        "id": "kB8jS1J24ES0",
        "outputId": "2da090db-9934-40e5-9310-285f2427bdd6",
        "colab": {
          "base_uri": "https://localhost:8080/",
          "height": 68
        }
      },
      "source": [
        "import time\n",
        "# ミニバッチサイズ・エポック数の設定\n",
        "#batch_size = 100\n",
        "epoch_num = 1\n",
        "\n",
        "#評価関数\n",
        "evaluator = Evaluator(num_class)\n",
        "\n",
        "# 誤差関数の設定\n",
        "criterion = nn.CrossEntropyLoss(ignore_index=255,reduction='mean')\n",
        "if use_cuda:\n",
        "    criterion.cuda()\n",
        "\n",
        "# ネットワークを学習モードへ変更\n",
        "model.train()\n",
        "\n",
        "# 学習の実行\n",
        "loss_history=[]\n",
        "for epoch in range(1, epoch_num+1):\n",
        "    sum_loss = 0.0\n",
        "    count = 0\n",
        "    evaluator.reset()\n",
        "\n",
        "\n",
        "    for sample in train_loader:\n",
        "        image, label = sample['image'], sample['label']    \n",
        "        if use_cuda:\n",
        "            image = image.cuda()\n",
        "            label = label.cuda()\n",
        "        y = model(image)\n",
        "        loss = criterion(y, label.long())\n",
        "        model.zero_grad()\n",
        "        loss.backward()\n",
        "        optimizer.step()\n",
        "        sum_loss += loss.item()\n",
        "\n",
        "        pred = torch.argmax(y, dim=1)\n",
        "        pred = pred.data.cpu().numpy()\n",
        "        target = label.cpu().numpy()      \n",
        "        evaluator.add_batch(target, pred)\n",
        "        \n",
        "        #break\n",
        "\n",
        "    img_size = image.size()\n",
        "    loss_history.append(sum_loss)\n",
        "    mIoU = evaluator.Mean_Intersection_over_Union()\n",
        "    Acc = evaluator.Pixel_Accuracy()\n",
        "    print(mIoU)\n",
        "    print(Acc)\n",
        "\n",
        "    print(\"epoch: {}, mean loss: {}, mean accuracy: {}\".format(epoch, sum_loss/(len(train_loader)*batch_size), Acc))\n",
        "\n"
      ],
      "execution_count": null,
      "outputs": [
        {
          "output_type": "stream",
          "text": [
            "0.04971586110207961\n",
            "0.39657492448287457\n",
            "epoch: 1, mean loss: 0.45554573046144586, mean accuracy: 0.39657492448287457\n"
          ],
          "name": "stdout"
        }
      ]
    },
    {
      "cell_type": "markdown",
      "metadata": {
        "id": "wCVhbP55f-KR"
      },
      "source": [
        ""
      ]
    },
    {
      "cell_type": "markdown",
      "metadata": {
        "id": "jKo4Hlf9BTgs"
      },
      "source": [
        "## 学習結果\n",
        "\n",
        "1epoch学習した結果を確認します．\n",
        "\n"
      ]
    },
    {
      "cell_type": "code",
      "metadata": {
        "id": "pMK767PlgGo9"
      },
      "source": [
        "\n",
        "# ネットワークを評価モードへ変更\n",
        "model.eval()\n",
        "\n",
        "# 評価の実行\n",
        "count = 0\n",
        "with torch.no_grad():\n",
        "    for sample in val_loader:\n",
        "        image, label = sample['image'], sample['label']\n",
        "\n",
        "        if use_cuda:\n",
        "            image = image.cuda()\n",
        "           \n",
        "        y = model(image)\n",
        "\n",
        "        pred = y.data.cpu().numpy()\n",
        "        #label = label.cpu().numpy()\n",
        "        pred = np.argmax(pred, axis=1)\n",
        "\n",
        "        result_img = np.transpose(pred, axes=[1, 2, 0])\n",
        "        label =  np.transpose(label, axes=[1, 2, 0])\n",
        "\n",
        "        result_img = np.array(result_img).astype(np.uint8)\n",
        "        label = np.array(label).astype(np.uint8)\n",
        "\n",
        "        #print(label)\n",
        "\n",
        "        result_img = cv2.cvtColor(result_img, cv2.COLOR_GRAY2BGR)\n",
        "        label = cv2.cvtColor(label, cv2.COLOR_GRAY2BGR)\n",
        "\n",
        "        for i in range(0, class_color.shape[0]):\n",
        "            #print(i)\n",
        "            result_img[np.where((result_img ==  [i, i, i]).all(axis=2))] = class_color[i]\n",
        "            label[np.where((label ==  [i, i, i]).all(axis=2))] = class_color[i]\n",
        "        \n",
        "        result_img = cv2.cvtColor(result_img, cv2.COLOR_BGR2RGB)\n",
        "        label = cv2.cvtColor(label, cv2.COLOR_BGR2RGB)\n",
        "\n",
        "        plt.imshow(result_img)\n",
        "        plt.show()\n",
        "        plt.imshow(label)\n",
        "        plt.show()\n",
        "\n",
        "        #pred = torch.argmax(y, dim=1)\n",
        "        #count += torch.sum(pred == label)\n",
        "img_size = image.size()\n",
        "#print(\"test accuracy: {}\".format(count.item() / (len(val_loader)*img_size[2]*img_size[3]*batch_size)))"
      ],
      "execution_count": null,
      "outputs": []
    },
    {
      "cell_type": "markdown",
      "metadata": {
        "id": "uEb0pAp8f_8h"
      },
      "source": [
        "## 学習済みモデル\n",
        "\n",
        "セマンティックセグメンテーションは，学習時間がかかるため\n",
        "学習済みのモデルを読み込んで結果画像を確認します．\n",
        "モデルの読み込みは`torch.load`で行います．\n",
        "`model.load_state_dict`でネットワークに重みを渡します．\n",
        "出力結果画像と正解画像を表示して比べます．"
      ]
    },
    {
      "cell_type": "code",
      "metadata": {
        "id": "m5LMHV7BtGOa",
        "outputId": "8d5bf141-06f7-4269-f7ac-8c4838638b4b",
        "colab": {
          "base_uri": "https://localhost:8080/",
          "height": 549
        }
      },
      "source": [
        "import matplotlib.pyplot as plt\n",
        "\n",
        "load_path = \"/content/drive/My Drive/ARCdataset_png/checkpoint.pth.tar\"\n",
        "\n",
        "checkpoint = torch.load(load_path)\n",
        "\n",
        "#print(checkpoint['state_dict'])\n",
        "model.load_state_dict(checkpoint['state_dict'])\n",
        "\n",
        "\n",
        "model.cuda()\n",
        "# ネットワークを評価モードへ変更\n",
        "model.eval()\n",
        "\n",
        "# 評価の実行\n",
        "count = 0\n",
        "with torch.no_grad():\n",
        "    for sample in val_loader:\n",
        "        image, label = sample['image'], sample['label']\n",
        "\n",
        "        if use_cuda:\n",
        "            image = image.cuda()\n",
        "           \n",
        "        y = model(image)\n",
        "\n",
        "        pred = y.data.cpu().numpy()\n",
        "        #label = label.cpu().numpy()\n",
        "        pred = np.argmax(pred, axis=1)\n",
        "\n",
        "        result_img = np.transpose(pred, axes=[1, 2, 0])\n",
        "        label =  np.transpose(label, axes=[1, 2, 0])\n",
        "\n",
        "        result_img = np.array(result_img).astype(np.uint8)\n",
        "        label = np.array(label).astype(np.uint8)\n",
        "\n",
        "        #print(label)\n",
        "\n",
        "        result_img = cv2.cvtColor(result_img, cv2.COLOR_GRAY2BGR)\n",
        "        label = cv2.cvtColor(label, cv2.COLOR_GRAY2BGR)\n",
        "\n",
        "        for i in range(0, class_color.shape[0]):\n",
        "            #print(i)\n",
        "            result_img[np.where((result_img ==  [i, i, i]).all(axis=2))] = class_color[i]\n",
        "            label[np.where((label ==  [i, i, i]).all(axis=2))] = class_color[i]\n",
        "        \n",
        "        result_img = cv2.cvtColor(result_img, cv2.COLOR_BGR2RGB)\n",
        "        label = cv2.cvtColor(label, cv2.COLOR_BGR2RGB)\n",
        "\n",
        "        plt.imshow(result_img)\n",
        "        plt.xlabel(\"result\")\n",
        "        plt.show()\n",
        "        plt.imshow(label)\n",
        "        plt.xlabel(\"label\")\n",
        "        plt.show()\n",
        "\n",
        "        break\n",
        "\n",
        "img_size = image.size()\n",
        "#print(\"test accuracy: {}\".format(count.item() / (len(val_loader)*img_size[2]*img_size[3]*batch_size)))"
      ],
      "execution_count": null,
      "outputs": [
        {
          "output_type": "display_data",
          "data": {
            "image/png": "[encoded data removed]",
            "text/plain": [
              "<Figure size 432x288 with 1 Axes>"
            ]
          },
          "metadata": {
            "tags": [],
            "needs_background": "light"
          }
        },
        {
          "output_type": "display_data",
          "data": {
            "image/png": "[encoded data removed]",
            "text/plain": [
              "<Figure size 432x288 with 1 Axes>"
            ]
          },
          "metadata": {
            "tags": [],
            "needs_background": "light"
          }
        }
      ]
    },
    {
      "cell_type": "code",
      "metadata": {
        "id": "EyXL47AVtGcv"
      },
      "source": [
        ""
      ],
      "execution_count": null,
      "outputs": []
    },
    {
      "cell_type": "code",
      "metadata": {
        "id": "Q0KCqYCStGk9"
      },
      "source": [
        ""
      ],
      "execution_count": null,
      "outputs": []
    }
  ]
}