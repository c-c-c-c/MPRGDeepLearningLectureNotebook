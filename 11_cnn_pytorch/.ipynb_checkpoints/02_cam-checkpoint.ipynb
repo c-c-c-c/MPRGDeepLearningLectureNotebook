{
 "cells": [
  {
   "cell_type": "markdown",
   "metadata": {
    "id": "vQfhYcVF8KPt"
   },
   "source": [
    "# CNNの可視化 (Class Activation Mapping; CAM)\n",
    "\n",
    "---\n",
    "\n",
    "## 目的\n",
    "Class Activation Mapping (CAM)の仕組みを理解する.\n",
    "\n",
    "CAMを用いてCIFAR-10データセットに対するネットワークの判断根拠の可視化を行う．\n",
    "\n",
    "## Class Activation Mapping (CAM)\n",
    "Class Activation Mapping (CAM)[1]とは，ネットワークの出力に対する全結合層の結合重みを用いて，ネットワークの推論時における貢献度の高い領域をClass Activation Map (Attention map) として可視化することができる手法です．\n",
    "まず，入力画像をネットワークに入力して特徴マップを獲得します．\n",
    "次に，獲得した特徴マップに対してGlobal Average Pooling (GAP)[2]を行い，各特徴マップの空間方向に対する平均値を算出します．\n",
    "GAPとは，特徴マップの各チャネルごとに空間方向に対する平均値を算出し，その平均値を各特徴マップの値とする処理です．\n",
    "これにより，全結合層におけるパラメータ数を大幅に削減することができます．\n",
    "一方で，空間的な情報が失われてしまうというデメリットもあります．\n",
    "このGlobal Average Poolingによって得られた各チャネルに対する平均値を全結合層のユニットの応答値として最終的な認識結果を出力します．\n",
    "最後に，畳み込み層で得られた特徴マップと特定のクラスにおける特徴マップの各チャネルに対応する全結合層の結合重みを乗算し，乗算した特徴マップを全て加算することで，Attention mapを獲得します．\n",
    "クラス$c$に対するAttention mapは，以下の式のように表すことができます．\n",
    "\n",
    "$$M_c(x,y)=\\sum_{k}w^{c}_{k}f_{k}(x,y)$$\n",
    "\n",
    "ここで，$M_c$はクラス$c$に対するAttention map，$w^{c}_{k}$はクラス$c$の$k$番目の特徴マップに対する結合重み，$f_{k}(x,y)$は$k$番目の特徴マップを示しています．\n",
    "\n",
    "<img src=\"https://drive.google.com/uc?export=view&id=10yN9GxNp34WNlUDWNoCToW60cEUbsJFV\" width=100%>\n",
    "\n",
    "\n"
   ]
  },
  {
   "cell_type": "markdown",
   "metadata": {
    "id": "V8ehSX6U8KPv"
   },
   "source": [
    "## モジュールのインポート\n",
    "プログラムの実行に必要なモジュールをインポートします．\n",
    "今回は，機械学習ライブラリであるPytorchを使用します．\n",
    "PyTorchとは，Python向けのオープンソース機械学習ライブラリで，Facebookに開発されました．"
   ]
  },
  {
   "cell_type": "code",
   "execution_count": 1,
   "metadata": {
    "id": "VaNXqInW8KPv"
   },
   "outputs": [],
   "source": [
    "import torch\n",
    "import torchvision\n",
    "import torchvision.transforms as transforms\n",
    "import torch.backends.cudnn as cudnn\n",
    "import torchsummary"
   ]
  },
  {
   "cell_type": "markdown",
   "metadata": {
    "id": "b4gEy7cGCfz8"
   },
   "source": [
    "## GPUの確認\n",
    "GPUを使用した計算が可能かどうかを確認します．\n",
    "下記のコードを実行してGPU情報を確認します． GPUの確認を行うためには，上部のメニューバーの「ランタイム」→「ランタイムのタイプを変更」からハードウェアアクセラレータをGPUにしてください．\n",
    "\n",
    "`Use CUDA: True`と表示されれば，GPUを使用した計算をPytorchで行うことが可能です． CPUとなっている場合は，上記に記載している手順にしたがって，設定を変更してください．"
   ]
  },
  {
   "cell_type": "code",
   "execution_count": 2,
   "metadata": {
    "colab": {
     "base_uri": "https://localhost:8080/"
    },
    "id": "p9fjeG_U8KP1",
    "outputId": "61a6bc74-4aad-4da5-9d72-05719567088f"
   },
   "outputs": [
    {
     "name": "stdout",
     "output_type": "stream",
     "text": [
      "Use CUDA: True\n"
     ]
    }
   ],
   "source": [
    "device = torch.device(\"cuda:0\" if torch.cuda.is_available() else \"cpu\")\n",
    "use_cuda = torch.cuda.is_available()\n",
    "cudnn.benchmark = True\n",
    "print('Use CUDA:', use_cuda)"
   ]
  },
  {
   "cell_type": "markdown",
   "metadata": {
    "id": "Uanw74k0F9iw"
   },
   "source": [
    "下記のコードを実行してGPU情報を確認します．\n",
    "\n"
   ]
  },
  {
   "cell_type": "code",
   "execution_count": 3,
   "metadata": {
    "colab": {
     "base_uri": "https://localhost:8080/"
    },
    "id": "eeUIUazLGGPu",
    "outputId": "771c5612-1c50-47e6-9dc4-04c58feb106e"
   },
   "outputs": [
    {
     "name": "stdout",
     "output_type": "stream",
     "text": [
      "Sat Feb  6 06:00:45 2021       \n",
      "+-----------------------------------------------------------------------------+\n",
      "| NVIDIA-SMI 450.80.02    Driver Version: 450.80.02    CUDA Version: 11.0     |\n",
      "|-------------------------------+----------------------+----------------------+\n",
      "| GPU  Name        Persistence-M| Bus-Id        Disp.A | Volatile Uncorr. ECC |\n",
      "| Fan  Temp  Perf  Pwr:Usage/Cap|         Memory-Usage | GPU-Util  Compute M. |\n",
      "|                               |                      |               MIG M. |\n",
      "|===============================+======================+======================|\n",
      "|   0  GeForce RTX 207...  Off  | 00000000:1A:00.0 Off |                  N/A |\n",
      "| 20%   26C    P8    14W / 215W |      3MiB /  7982MiB |      0%      Default |\n",
      "|                               |                      |                  N/A |\n",
      "+-------------------------------+----------------------+----------------------+\n",
      "|   1  GeForce RTX 207...  Off  | 00000000:1B:00.0 Off |                  N/A |\n",
      "| 20%   27C    P8    18W / 215W |      3MiB /  7982MiB |      0%      Default |\n",
      "|                               |                      |                  N/A |\n",
      "+-------------------------------+----------------------+----------------------+\n",
      "|   2  GeForce RTX 207...  Off  | 00000000:1C:00.0 Off |                  N/A |\n",
      "| 20%   29C    P8     7W / 215W |   2921MiB /  7982MiB |      0%      Default |\n",
      "|                               |                      |                  N/A |\n",
      "+-------------------------------+----------------------+----------------------+\n",
      "|   3  GeForce RTX 207...  Off  | 00000000:1D:00.0 Off |                  N/A |\n",
      "| 20%   28C    P8     9W / 215W |      3MiB /  7982MiB |      0%      Default |\n",
      "|                               |                      |                  N/A |\n",
      "+-------------------------------+----------------------+----------------------+\n",
      "|   4  GeForce RTX 207...  Off  | 00000000:1E:00.0 Off |                  N/A |\n",
      "| 20%   28C    P8    16W / 215W |      3MiB /  7982MiB |      0%      Default |\n",
      "|                               |                      |                  N/A |\n",
      "+-------------------------------+----------------------+----------------------+\n",
      "|   5  GeForce RTX 207...  Off  | 00000000:3D:00.0 Off |                  N/A |\n",
      "| 20%   27C    P8    13W / 215W |      3MiB /  7982MiB |      0%      Default |\n",
      "|                               |                      |                  N/A |\n",
      "+-------------------------------+----------------------+----------------------+\n",
      "|   6  GeForce RTX 207...  Off  | 00000000:3E:00.0 Off |                  N/A |\n",
      "| 20%   29C    P8    10W / 215W |      3MiB /  7982MiB |      0%      Default |\n",
      "|                               |                      |                  N/A |\n",
      "+-------------------------------+----------------------+----------------------+\n",
      "|   7  GeForce RTX 207...  Off  | 00000000:3F:00.0 Off |                  N/A |\n",
      "| 20%   27C    P8    15W / 215W |      3MiB /  7982MiB |      0%      Default |\n",
      "|                               |                      |                  N/A |\n",
      "+-------------------------------+----------------------+----------------------+\n",
      "|   8  GeForce RTX 207...  Off  | 00000000:40:00.0 Off |                  N/A |\n",
      "| 20%   28C    P8    16W / 215W |      3MiB /  7982MiB |      0%      Default |\n",
      "|                               |                      |                  N/A |\n",
      "+-------------------------------+----------------------+----------------------+\n",
      "|   9  GeForce RTX 207...  Off  | 00000000:41:00.0 Off |                  N/A |\n",
      "| 20%   28C    P8    18W / 215W |      3MiB /  7982MiB |      0%      Default |\n",
      "|                               |                      |                  N/A |\n",
      "+-------------------------------+----------------------+----------------------+\n",
      "                                                                               \n",
      "+-----------------------------------------------------------------------------+\n",
      "| Processes:                                                                  |\n",
      "|  GPU   GI   CI        PID   Type   Process name                  GPU Memory |\n",
      "|        ID   ID                                                   Usage      |\n",
      "|=============================================================================|\n",
      "+-----------------------------------------------------------------------------+\n"
     ]
    }
   ],
   "source": [
    "!nvidia-smi"
   ]
  },
  {
   "cell_type": "markdown",
   "metadata": {
    "id": "QEgbYa9EloXV"
   },
   "source": [
    "## 使用するデータセット\n",
    "\n",
    "### データセット\n",
    "今回の物体認識では，CIFAR-10データセットを使用します．CIFAR-10データセットは，飛行機や犬などの10クラスの物体が表示されている画像から構成されたデータセットです．\n",
    "\n",
    "![CIFAR10_sample.png](https://qiita-image-store.s3.ap-northeast-1.amazonaws.com/0/176458/b6b43478-c85f-9211-7bc6-227d9b387af5.png)"
   ]
  },
  {
   "cell_type": "markdown",
   "metadata": {
    "id": "xNzvYQL58KP4"
   },
   "source": [
    "### データセットのダウンロードと読み込み\n",
    "実験に使用するCIFAR-10データセットを読み込みます．\n",
    "１回の誤差を算出するデータ数 (ミニバッチサイズ) は，4とします．\n",
    "まず，CIFAR-10データセットをダウンロードします．\n",
    "次に，ダウンロードしたデータセットを読み込みます．\n",
    "学習には，大量のデータを利用しますが，それでも十分ではありません． そこで，データ拡張 (data augmentation) により，データのバリエーションを増やします． 一般的な方法は，画像の左右反転，明るさ変換などです． また，画像の一部にマスク処理をかけるRandom Erasingも行います．"
   ]
  },
  {
   "cell_type": "code",
   "execution_count": 4,
   "metadata": {
    "colab": {
     "base_uri": "https://localhost:8080/",
     "height": 150,
     "referenced_widgets": [
      "a0b9af73839b404ab03907ed0cad6792",
      "a043b4deaa9a464b89a0df861616b38b",
      "55ce6a71537a421a9944fd651a77f01a",
      "42b133d49cc74e70915d03119a5800c7",
      "485baa518e034cb4956dbb3e2eb6d753",
      "4ed8ba4caad842e88222b349452f9e68",
      "eabd855516604f1f9eedb77a244588c0",
      "43d0d5ce85eb42f3a9c1c7880dc120df"
     ]
    },
    "id": "leWJTOIL8KP4",
    "outputId": "0953ba39-e133-4247-f546-0bc327f786e2"
   },
   "outputs": [
    {
     "name": "stdout",
     "output_type": "stream",
     "text": [
      "Files already downloaded and verified\n",
      "Files already downloaded and verified\n"
     ]
    }
   ],
   "source": [
    "batch_size = 4\n",
    "\n",
    "transform_train = transforms.Compose([\n",
    "    transforms.RandomCrop(32, padding=4),\n",
    "    transforms.RandomHorizontalFlip(),\n",
    "    transforms.ToTensor(),\n",
    "    transforms.Normalize((0.4914, 0.4822, 0.4465), (0.2023, 0.1994, 0.2010)),\n",
    "    transforms.RandomErasing(),\n",
    "])\n",
    "\n",
    "transform_test = transforms.Compose([\n",
    "    transforms.ToTensor(),\n",
    "    transforms.Normalize((0.4914, 0.4822, 0.4465), (0.2023, 0.1994, 0.2010)),\n",
    "])\n",
    "\n",
    "trainset = torchvision.datasets.CIFAR10(root='./data', train=True,\n",
    "                                        download=True, transform=transform_train)\n",
    "trainloader = torch.utils.data.DataLoader(trainset, batch_size=batch_size,\n",
    "                                          shuffle=True, num_workers=20)\n",
    "\n",
    "testset = torchvision.datasets.CIFAR10(root='./data', train=False,\n",
    "                                       download=True, transform=transform_test)\n",
    "testloader = torch.utils.data.DataLoader(testset, batch_size=batch_size,\n",
    "                                         shuffle=False, num_workers=20)\n",
    "\n",
    "classes = ('plane', 'car', 'bird', 'cat',\n",
    "           'deer', 'dog', 'frog', 'horse', 'ship', 'truck')"
   ]
  },
  {
   "cell_type": "markdown",
   "metadata": {
    "id": "zHQfAwb_8KP7"
   },
   "source": [
    "### CIFAR-10データセットの表示\n",
    "CIFAR-10データセットに含まれる画像を表示してみます．\n",
    "ここでは，matplotlibを用いて複数の画像を表示させるプログラムを利用します．\n",
    "学習データは5万枚，1つのデータサイズは3x32x32の画像のような形式となっています． これは32x32ピクセルのカラー画像という意味になります．\n",
    "\n"
   ]
  },
  {
   "cell_type": "code",
   "execution_count": 5,
   "metadata": {
    "colab": {
     "base_uri": "https://localhost:8080/",
     "height": 211
    },
    "id": "Fod_SRFR8KP8",
    "outputId": "24d9a124-99ee-41d4-b9f8-8d2b37d0bb3b"
   },
   "outputs": [
    {
     "data": {
      "image/png": "[encoded data removed]",
      "text/plain": [
       "<Figure size 432x288 with 1 Axes>"
      ]
     },
     "metadata": {
      "needs_background": "light"
     },
     "output_type": "display_data"
    },
    {
     "name": "stdout",
     "output_type": "stream",
     "text": [
      "  cat  ship\n"
     ]
    }
   ],
   "source": [
    "import matplotlib.pyplot as plt\n",
    "import numpy as np\n",
    "\n",
    "# functions to show an image\n",
    "def imshow(img):\n",
    "    npimg = img.numpy()\n",
    "    npimg = ((npimg.transpose((1,2,0))  * [0.2023, 0.1994, 0.2010]) + [0.4914, 0.4822, 0.4465])  # unnormalize\n",
    "    plt.imshow(npimg)\n",
    "    plt.show()\n",
    "\n",
    "# get some random training images\n",
    "dataiter = iter(testloader)\n",
    "images, labels = dataiter.next()\n",
    "\n",
    "# show images\n",
    "imshow(torchvision.utils.make_grid(images[0:4]))\n",
    "# print labels\n",
    "print(' '.join('%5s' % classes[labels[j]] for j in range(2)))"
   ]
  },
  {
   "cell_type": "markdown",
   "metadata": {
    "id": "DduOi-s18KP_"
   },
   "source": [
    "## ネットワークモデルの定義\n",
    "次に，CAMを定義します．\n",
    "今回は，CNNにCAMを導入したモデル (CAM) を使用します．"
   ]
  },
  {
   "cell_type": "code",
   "execution_count": 6,
   "metadata": {
    "colab": {
     "base_uri": "https://localhost:8080/"
    },
    "id": "O0cpWP_w8KP_",
    "outputId": "5b8bfabb-75a5-40da-8fa3-9f7198233212"
   },
   "outputs": [
    {
     "data": {
      "text/plain": [
       "CAM(\n",
       "  (conv1): Conv2d(3, 32, kernel_size=(3, 3), stride=(1, 1), padding=(1, 1))\n",
       "  (conv2): Conv2d(32, 32, kernel_size=(3, 3), stride=(1, 1), padding=(1, 1))\n",
       "  (pool): MaxPool2d(kernel_size=2, stride=2, padding=0, dilation=1, ceil_mode=False)\n",
       "  (conv3): Conv2d(32, 128, kernel_size=(3, 3), stride=(1, 1), padding=(1, 1))\n",
       "  (conv4): Conv2d(128, 128, kernel_size=(3, 3), stride=(1, 1), padding=(1, 1))\n",
       "  (conv5): Conv2d(128, 128, kernel_size=(3, 3), stride=(1, 1), padding=(1, 1))\n",
       "  (gap): AvgPool2d(kernel_size=16, stride=16, padding=0)\n",
       "  (relu): ReLU(inplace=True)\n",
       "  (fc): Linear(in_features=128, out_features=10, bias=True)\n",
       ")"
      ]
     },
     "execution_count": 6,
     "metadata": {},
     "output_type": "execute_result"
    }
   ],
   "source": [
    "import torch.nn as nn\n",
    "import torch.nn.functional as F\n",
    "import math\n",
    "\n",
    "class CAM(nn.Module):\n",
    "    def __init__(self):\n",
    "        super(CAM, self).__init__()\n",
    "        num_classes = 10\n",
    "\n",
    "        self.conv1 = nn.Conv2d(3, 32, kernel_size=3, padding=1)\n",
    "        self.conv2 = nn.Conv2d(32, 32, kernel_size=3, padding=1)\n",
    "        self.pool = nn.MaxPool2d(2, 2)\n",
    "        self.conv3 = nn.Conv2d(32, 128, kernel_size=3, padding=1)\n",
    "        self.conv4 = nn.Conv2d(128, 128, kernel_size=3, padding=1)\n",
    "        self.conv5 = nn.Conv2d(128, 128, kernel_size=3, padding=1)\n",
    "        self.gap = nn.AvgPool2d(16)\n",
    "        self.relu = nn.ReLU(inplace=True)\n",
    "        self.fc = nn.Linear(128, num_classes)\n",
    "\n",
    "    def forward(self, x):\n",
    "        x = self.relu(self.conv1(x))\n",
    "        x = self.relu(self.conv2(x))\n",
    "        x = self.pool(x)\n",
    "        x = self.relu(self.conv3(x))\n",
    "        x = self.relu(self.conv4(x))\n",
    "        x = self.relu(self.conv5(x))\n",
    "\n",
    "        self.attmap = x\n",
    "        x = self.gap(x)\n",
    "        x = x.view(x.size(0), -1)\n",
    "        x = self.fc(x)\n",
    "        return x, [self.attmap, self.fc.weight]\n",
    "\n",
    "model = CAM()\n",
    "model.to(device)"
   ]
  },
  {
   "cell_type": "markdown",
   "metadata": {
    "id": "uFCekfs78KQC"
   },
   "source": [
    "## 損失関数と最適化手法の定義\n",
    "学習に使用する損失関数と最適化手法を定義します．\n",
    "今回は，分類問題を扱うため，クロスエントロピー誤差を計算するための`CrossEntropyLoss`を`criterion`として定義します．\n",
    "最適化手法には，Adamを用いて学習を行います．\n",
    "最後に，定義したネットワークの詳細情報を`torchsummary.summary()`関数を用いて表示します．"
   ]
  },
  {
   "cell_type": "code",
   "execution_count": 7,
   "metadata": {
    "colab": {
     "base_uri": "https://localhost:8080/"
    },
    "id": "rntVJhx98KQC",
    "outputId": "52d9c2d2-7cee-46ba-c3ef-5bbe8ae6f29b"
   },
   "outputs": [
    {
     "name": "stdout",
     "output_type": "stream",
     "text": [
      "----------------------------------------------------------------\n",
      "        Layer (type)               Output Shape         Param #\n",
      "================================================================\n",
      "            Conv2d-1           [-1, 32, 32, 32]             896\n",
      "              ReLU-2           [-1, 32, 32, 32]               0\n",
      "            Conv2d-3           [-1, 32, 32, 32]           9,248\n",
      "              ReLU-4           [-1, 32, 32, 32]               0\n",
      "         MaxPool2d-5           [-1, 32, 16, 16]               0\n",
      "            Conv2d-6          [-1, 128, 16, 16]          36,992\n",
      "              ReLU-7          [-1, 128, 16, 16]               0\n",
      "            Conv2d-8          [-1, 128, 16, 16]         147,584\n",
      "              ReLU-9          [-1, 128, 16, 16]               0\n",
      "           Conv2d-10          [-1, 128, 16, 16]         147,584\n",
      "             ReLU-11          [-1, 128, 16, 16]               0\n",
      "        AvgPool2d-12            [-1, 128, 1, 1]               0\n",
      "           Linear-13                   [-1, 10]           1,290\n",
      "================================================================\n",
      "Total params: 343,594\n",
      "Trainable params: 343,594\n",
      "Non-trainable params: 0\n",
      "----------------------------------------------------------------\n",
      "Input size (MB): 0.01\n",
      "Forward/backward pass size (MB): 2.56\n",
      "Params size (MB): 1.31\n",
      "Estimated Total Size (MB): 3.89\n",
      "----------------------------------------------------------------\n"
     ]
    }
   ],
   "source": [
    "import torch.optim as optim\n",
    "from torch.optim import SGD, lr_scheduler\n",
    "\n",
    "criterion = nn.CrossEntropyLoss()\n",
    "optimizer = optim.Adam(model.parameters(), lr=0.001)\n",
    "#optimizer = optim.SGD(model.parameters(), lr=0.001, momentum=0.9,  weight_decay=5e-4)\n",
    "\n",
    "# モデルの情報を表示\n",
    "torchsummary.summary(model, (3, 32, 32))"
   ]
  },
  {
   "cell_type": "markdown",
   "metadata": {
    "id": "Z4NRFd6i8KQF"
   },
   "source": [
    "## 学習\n",
    "読み込んだCIFAR-10データセットと作成したネットワークを用いて，学習を行います．\n",
    "今回は，学習エポック数を20とします．\n",
    "1エポック学習するごとに学習したモデルを評価し，最も認識精度の高いモデルが保存されます．\n",
    "各更新において，学習用データと教師データをそれぞれ`inputs`と`targets`とします．\n",
    "学習モデルに`inputs`を与えて，ネットワークの出力とAttention mapを取得します．\n",
    "ネットワークの出力は教師ラベル`targets`との誤差を`criterion`で算出します．\n",
    "また，認識精度も算出します．\n",
    "そして，誤差をbackward関数で逆伝播し，ネットワークの更新を行います．\n",
    "認識精度も同時に計算して，`print`関数で学習経過における誤差や認識精度を表示します．\n"
   ]
  },
  {
   "cell_type": "code",
   "execution_count": null,
   "metadata": {
    "colab": {
     "base_uri": "https://localhost:8080/"
    },
    "id": "nnMVTad98KQG",
    "outputId": "b2f1962f-da0b-445a-bb92-5c9a64ace908"
   },
   "outputs": [],
   "source": [
    "epochs = 20\n",
    "best_acc = 0  # best test accuracy\n",
    "\n",
    "for epoch in range(epochs):\n",
    "    train_running_loss = 0.0\n",
    "    train_running_acc = 0.0\n",
    "\n",
    "    # training\n",
    "    model.train()\n",
    "    train_loss = 0\n",
    "    correct = 0\n",
    "    total = 0\n",
    "    count = 0\n",
    "    for batch_idx, (inputs, targets) in enumerate(trainloader):\n",
    "        inputs, targets = inputs.to(device), targets.to(device)\n",
    "        optimizer.zero_grad()\n",
    "        outputs, _ = model(inputs)\n",
    "        loss = criterion(outputs, targets)\n",
    "        loss.backward()\n",
    "        optimizer.step()\n",
    "\n",
    "        train_loss += loss.item()\n",
    "        _, predicted = outputs.max(1)\n",
    "        total += targets.size(0)\n",
    "        correct += predicted.eq(targets).sum().item()\n",
    "        # print statistics\n",
    "        train_running_loss += loss\n",
    "        train_running_acc += 100.*correct/total\n",
    "        count += 1\n",
    "\n",
    "    print('[Epoch %d] Train Loss: %.5f | Train Acc: %.3f%%'\n",
    "                  % (epoch + 1, train_loss/count, train_running_acc/count))\n",
    "\n",
    "    # testing\n",
    "    model.eval() \n",
    "    with torch.no_grad():\n",
    "        test_running_loss = 0.0\n",
    "        test_running_acc = 0.0\n",
    "        test_loss = 0\n",
    "        correct = 0\n",
    "        total = 0\n",
    "        count = 0\n",
    "        for batch_idx, (inputs, targets) in enumerate(testloader):\n",
    "            inputs, targets = inputs.to(device), targets.to(device)\n",
    "            outputs, _ = model(inputs)\n",
    "            loss = criterion(outputs, targets)\n",
    "\n",
    "            test_loss += loss.item()\n",
    "            _, predicted = outputs.max(1)\n",
    "            total += targets.size(0)\n",
    "            correct += predicted.eq(targets).sum().item()\n",
    "\n",
    "            # print statistics\n",
    "            test_running_loss += loss\n",
    "            test_running_acc += 100.*correct/total\n",
    "            count += 1\n",
    "\n",
    "        print('Test Loss: %.5f | Test Acc: %.3f%%'\n",
    "                      % (test_loss/count, test_running_acc/count))\n",
    "        \n",
    "    # save model\n",
    "    if test_running_acc/count > best_acc:\n",
    "        best_acc = max(test_running_acc/count, best_acc)\n",
    "        PATH = './cifar_net.pth'\n",
    "        torch.save(model.state_dict(), PATH)\n",
    "    \n",
    "print('Finished Training')"
   ]
  },
  {
   "cell_type": "markdown",
   "metadata": {
    "id": "wlOo-rzY8KQL"
   },
   "source": [
    "##テスト\n",
    "学習したネットワークのテストデータに対する認識精度の確認を行います．\n",
    "まず，学習したネットワークを評価するために保存したモデルをロードします．"
   ]
  },
  {
   "cell_type": "code",
   "execution_count": null,
   "metadata": {
    "colab": {
     "base_uri": "https://localhost:8080/"
    },
    "id": "WSa0ATFj8KQP",
    "outputId": "87a09cd9-61ca-4ccf-ef05-2bb116cb498f"
   },
   "outputs": [],
   "source": [
    "model = CAM()\n",
    "model.to(device)\n",
    "PATH = './cifar_net.pth'\n",
    "model.load_state_dict(torch.load(PATH))"
   ]
  },
  {
   "cell_type": "markdown",
   "metadata": {
    "id": "VwWfJO358KQS"
   },
   "source": [
    "次に，学習したネットワークを用いて，テストデータに対する認識精度の確認を行います．\n",
    "`model.eval()`を適用することで，ネットワーク演算を評価モードへ変更します． これにより，学習時と評価時で挙動が異なる演算（dropout等）を変更することが可能です． また，`torch.no_grad()`を適用することで，学習時には必要になる勾配情報を保持することなく演算を行います．"
   ]
  },
  {
   "cell_type": "code",
   "execution_count": null,
   "metadata": {
    "colab": {
     "base_uri": "https://localhost:8080/"
    },
    "id": "ij38kQBP8KQS",
    "outputId": "379c2615-416b-45ef-ff9b-825f7543e51f"
   },
   "outputs": [],
   "source": [
    "model.eval()\n",
    "\n",
    "running_loss = 0.0\n",
    "running_acc = 0.0\n",
    "test_loss = 0\n",
    "correct = 0\n",
    "total = 0\n",
    "count = 0\n",
    "\n",
    "with torch.no_grad():\n",
    "    for batch_idx, (inputs, targets) in enumerate(testloader):\n",
    "        inputs, targets = inputs.to(device), targets.to(device)\n",
    "        outputs, _ = model(inputs)\n",
    "        loss = criterion(outputs, targets)\n",
    "\n",
    "        test_loss += loss.item()\n",
    "        _, predicted = outputs.max(1)\n",
    "        total += targets.size(0)\n",
    "        correct += predicted.eq(targets).sum().item()\n",
    "\n",
    "        # print statistics\n",
    "        running_loss += loss\n",
    "        running_acc += 100.*correct/total\n",
    "        count += 1\n",
    "\n",
    "    print('Test Loss: %.5f | Test Acc: %.3f%%'\n",
    "                  % (test_loss/count, running_acc/count))"
   ]
  },
  {
   "cell_type": "markdown",
   "metadata": {
    "id": "qiY_kiXb8KQV"
   },
   "source": [
    "## CAMによるAttention mapの可視化\n",
    "出力されたクラス確率の上位5クラスに対するAttention mapを可視化して，ネットワークの判断根拠を確認してみます．\n",
    "再度，実行することで他のテストサンプルに対するAttention mapを可視化することができます．\n",
    "pred (prediction) は認識結果，conf (confidence) は認識結果に対する信頼度を示しています．"
   ]
  },
  {
   "cell_type": "code",
   "execution_count": null,
   "metadata": {
    "colab": {
     "base_uri": "https://localhost:8080/",
     "height": 380
    },
    "id": "cB0SvioEwlm4",
    "outputId": "0acf3291-dd5f-4d5d-ff08-b334404adbb6"
   },
   "outputs": [],
   "source": [
    "import cv2\n",
    "from ipykernel import kernelapp as app\n",
    "\n",
    "testloader = torch.utils.data.DataLoader(testset, batch_size=1,\n",
    "                                         shuffle=True, num_workers=20)\n",
    "\n",
    "classes_list = ['plane', 'car', 'bird', 'cat',\n",
    "           'deer', 'dog', 'frog', 'horse', 'ship', 'truck']\n",
    "\n",
    "softmax = nn.Softmax(dim=1)\n",
    "\n",
    "def min_max(x, axis=None):\n",
    "    x_min = x.min(axis=axis, keepdims=True)\n",
    "    x_max = x.max(axis=axis, keepdims=True)\n",
    "    return (x - x_min) / (x_max - x_min)\n",
    "\n",
    "with torch.no_grad():\n",
    "    v_list = []\n",
    "    att_list = []\n",
    "    for batch_idx, (inputs, targets) in enumerate(testloader):\n",
    "        inputs, targets = inputs.to(device), targets.to(device)\n",
    "        outputs, attention = model(inputs)\n",
    "        outputs = softmax(outputs)\n",
    "        d_inputs = inputs.data.cpu()\n",
    "        d_inputs = d_inputs.numpy()\n",
    "\n",
    "        in_b, in_c, in_y, in_x = inputs.shape\n",
    "        item_img = d_inputs[0]\n",
    "        v_img = ((item_img.transpose((1, 2, 0)) * [0.2023, 0.1994, 0.2010]) + [0.4914, 0.4822, 0.4465]) * 255\n",
    "        v_img = np.uint8(v_img)\n",
    "\n",
    "        # Class Activation Mapping\n",
    "        out_put = outputs.data.topk(5, 1, True, True)\n",
    "        top5_score, top5_idx = out_put\n",
    "        top5_idx = top5_idx.cpu()\n",
    "        top5_idx = top5_idx.numpy()\n",
    "        maps, vecs = attention\n",
    "\n",
    "        for idx_rank, item_rank in enumerate(top5_idx[0]):\n",
    "            contributes = vecs[item_rank]\n",
    "            vis_maps = maps[0] * contributes.reshape(contributes.shape[0], 1, 1)\n",
    "            vis_maps = vis_maps.data.cpu()\n",
    "            vis_maps = vis_maps.numpy()\n",
    "            sum_map = np.sum(vis_maps, axis=0)\n",
    "\n",
    "            resize_map = cv2.resize(sum_map, (in_x, in_y))\n",
    "            resize_map = min_max(resize_map)\n",
    "            resize_map *= 255.\n",
    "            resize_map = np.uint8(resize_map)\n",
    "\n",
    "            jet_map = cv2.applyColorMap(resize_map, cv2.COLORMAP_JET)\n",
    "            jet_map = cv2.addWeighted(v_img, 0.6, jet_map, 0.4, 0)\n",
    "            v_list.append(v_img)\n",
    "            att_list.append(jet_map)\n",
    "        break\n",
    "\n",
    "# Show attention map\n",
    "cols = 1\n",
    "rows = 1\n",
    "\n",
    "fig = plt.figure(figsize=(14, 2.0))\n",
    "plt.axis(\"off\")\n",
    "for r in range(rows):\n",
    "    for c in range(cols):\n",
    "        cls = targets[c].item()\n",
    "        ax = fig.add_subplot(r+1, cols, c+1)\n",
    "        plt.title('Input image\\n\\n{}'.format(classes_list[cls]))\n",
    "        ax.imshow(v_list[cols * r + c])\n",
    "        ax.set_axis_off()\n",
    "plt.show()\n",
    "\n",
    "a_cols = 5\n",
    "a_rows = 1\n",
    "\n",
    "fig = plt.figure(figsize=(12, 1.5))\n",
    "plt.title('Attention map\\n\\n\\n')\n",
    "plt.axis(\"off\")\n",
    "for r in range(a_rows):\n",
    "    for c in range(a_cols):\n",
    "        cls = top5_idx[0][c].item()\n",
    "        conf = top5_score[0][c]\n",
    "        ax = fig.add_subplot(r+1, a_cols, c+1)\n",
    "        plt.title('class: {}\\nconf: {:.2f}'.format(classes_list[cls], conf))\n",
    "        ax.imshow(att_list[a_cols * r + c])\n",
    "        ax.set_axis_off()\n",
    "plt.show()"
   ]
  },
  {
   "cell_type": "markdown",
   "metadata": {
    "id": "MFFp16Bgcs4x"
   },
   "source": [
    "#課題\n",
    "1. ハイパーパラメータ (学習率，エポック数，ミニバッチサイズ等) を変更して，Attention mapの変化を確認してみましょう．"
   ]
  },
  {
   "cell_type": "code",
   "execution_count": null,
   "metadata": {
    "id": "0XznUZILdgos"
   },
   "outputs": [],
   "source": [
    "#ここにコードを書く"
   ]
  },
  {
   "cell_type": "markdown",
   "metadata": {
    "id": "MjKIGtvknT-G"
   },
   "source": [
    "# 参考文献\n",
    "- [1] B. Zhou, A. Khosla, A. Lapedriza, A. Oliva,\n",
    "and A. Torralba, \"Learning deep features for discriminative\n",
    "localization\". In 2016 IEEE Conference on Computer\n",
    "Vision and Pattern Recognition, pp. 2921–2929, 2016.\n",
    "\n",
    "- [2] M. Lin, Q. Chen, and S. Yan, \"Network in network\".\n",
    "In 2nd International Conference on Learning Representations,\n",
    "Banff, AB, Canada, April 14-16, 2014, Conference\n",
    "Track Proceedings, 2014."
   ]
  }
 ],
 "metadata": {
  "accelerator": "GPU",
  "colab": {
   "collapsed_sections": [],
   "name": "02_cam.ipynb",
   "provenance": []
  },
  "kernelspec": {
   "display_name": "Python 3",
   "language": "python",
   "name": "python3"
  },
  "language_info": {
   "codemirror_mode": {
    "name": "ipython",
    "version": 3
   },
   "file_extension": ".py",
   "mimetype": "text/x-python",
   "name": "python",
   "nbconvert_exporter": "python",
   "pygments_lexer": "ipython3",
   "version": "3.7.6"
  },
  "varInspector": {
   "cols": {
    "lenName": 16,
    "lenType": 16,
    "lenVar": 40
   },
   "kernels_config": {
    "python": {
     "delete_cmd_postfix": "",
     "delete_cmd_prefix": "del ",
     "library": "var_list.py",
     "varRefreshCmd": "print(var_dic_list())"
    },
    "r": {
     "delete_cmd_postfix": ") ",
     "delete_cmd_prefix": "rm(",
     "library": "var_list.r",
     "varRefreshCmd": "cat(var_dic_list()) "
    }
   },
   "types_to_exclude": [
    "module",
    "function",
    "builtin_function_or_method",
    "instance",
    "_Feature"
   ],
   "window_display": false
  },
  "widgets": {
   "application/vnd.jupyter.widget-state+json": {
    "42b133d49cc74e70915d03119a5800c7": {
     "model_module": "@jupyter-widgets/controls",
     "model_name": "HTMLModel",
     "state": {
      "_dom_classes": [],
      "_model_module": "@jupyter-widgets/controls",
      "_model_module_version": "1.5.0",
      "_model_name": "HTMLModel",
      "_view_count": null,
      "_view_module": "@jupyter-widgets/controls",
      "_view_module_version": "1.5.0",
      "_view_name": "HTMLView",
      "description": "",
      "description_tooltip": null,
      "layout": "IPY_MODEL_43d0d5ce85eb42f3a9c1c7880dc120df",
      "placeholder": "​",
      "style": "IPY_MODEL_eabd855516604f1f9eedb77a244588c0",
      "value": " 170500096/? [00:08&lt;00:00, 20420541.29it/s]"
     }
    },
    "43d0d5ce85eb42f3a9c1c7880dc120df": {
     "model_module": "@jupyter-widgets/base",
     "model_name": "LayoutModel",
     "state": {
      "_model_module": "@jupyter-widgets/base",
      "_model_module_version": "1.2.0",
      "_model_name": "LayoutModel",
      "_view_count": null,
      "_view_module": "@jupyter-widgets/base",
      "_view_module_version": "1.2.0",
      "_view_name": "LayoutView",
      "align_content": null,
      "align_items": null,
      "align_self": null,
      "border": null,
      "bottom": null,
      "display": null,
      "flex": null,
      "flex_flow": null,
      "grid_area": null,
      "grid_auto_columns": null,
      "grid_auto_flow": null,
      "grid_auto_rows": null,
      "grid_column": null,
      "grid_gap": null,
      "grid_row": null,
      "grid_template_areas": null,
      "grid_template_columns": null,
      "grid_template_rows": null,
      "height": null,
      "justify_content": null,
      "justify_items": null,
      "left": null,
      "margin": null,
      "max_height": null,
      "max_width": null,
      "min_height": null,
      "min_width": null,
      "object_fit": null,
      "object_position": null,
      "order": null,
      "overflow": null,
      "overflow_x": null,
      "overflow_y": null,
      "padding": null,
      "right": null,
      "top": null,
      "visibility": null,
      "width": null
     }
    },
    "485baa518e034cb4956dbb3e2eb6d753": {
     "model_module": "@jupyter-widgets/controls",
     "model_name": "ProgressStyleModel",
     "state": {
      "_model_module": "@jupyter-widgets/controls",
      "_model_module_version": "1.5.0",
      "_model_name": "ProgressStyleModel",
      "_view_count": null,
      "_view_module": "@jupyter-widgets/base",
      "_view_module_version": "1.2.0",
      "_view_name": "StyleView",
      "bar_color": null,
      "description_width": "initial"
     }
    },
    "4ed8ba4caad842e88222b349452f9e68": {
     "model_module": "@jupyter-widgets/base",
     "model_name": "LayoutModel",
     "state": {
      "_model_module": "@jupyter-widgets/base",
      "_model_module_version": "1.2.0",
      "_model_name": "LayoutModel",
      "_view_count": null,
      "_view_module": "@jupyter-widgets/base",
      "_view_module_version": "1.2.0",
      "_view_name": "LayoutView",
      "align_content": null,
      "align_items": null,
      "align_self": null,
      "border": null,
      "bottom": null,
      "display": null,
      "flex": null,
      "flex_flow": null,
      "grid_area": null,
      "grid_auto_columns": null,
      "grid_auto_flow": null,
      "grid_auto_rows": null,
      "grid_column": null,
      "grid_gap": null,
      "grid_row": null,
      "grid_template_areas": null,
      "grid_template_columns": null,
      "grid_template_rows": null,
      "height": null,
      "justify_content": null,
      "justify_items": null,
      "left": null,
      "margin": null,
      "max_height": null,
      "max_width": null,
      "min_height": null,
      "min_width": null,
      "object_fit": null,
      "object_position": null,
      "order": null,
      "overflow": null,
      "overflow_x": null,
      "overflow_y": null,
      "padding": null,
      "right": null,
      "top": null,
      "visibility": null,
      "width": null
     }
    },
    "55ce6a71537a421a9944fd651a77f01a": {
     "model_module": "@jupyter-widgets/controls",
     "model_name": "FloatProgressModel",
     "state": {
      "_dom_classes": [],
      "_model_module": "@jupyter-widgets/controls",
      "_model_module_version": "1.5.0",
      "_model_name": "FloatProgressModel",
      "_view_count": null,
      "_view_module": "@jupyter-widgets/controls",
      "_view_module_version": "1.5.0",
      "_view_name": "ProgressView",
      "bar_style": "success",
      "description": "",
      "description_tooltip": null,
      "layout": "IPY_MODEL_4ed8ba4caad842e88222b349452f9e68",
      "max": 1,
      "min": 0,
      "orientation": "horizontal",
      "style": "IPY_MODEL_485baa518e034cb4956dbb3e2eb6d753",
      "value": 1
     }
    },
    "a043b4deaa9a464b89a0df861616b38b": {
     "model_module": "@jupyter-widgets/base",
     "model_name": "LayoutModel",
     "state": {
      "_model_module": "@jupyter-widgets/base",
      "_model_module_version": "1.2.0",
      "_model_name": "LayoutModel",
      "_view_count": null,
      "_view_module": "@jupyter-widgets/base",
      "_view_module_version": "1.2.0",
      "_view_name": "LayoutView",
      "align_content": null,
      "align_items": null,
      "align_self": null,
      "border": null,
      "bottom": null,
      "display": null,
      "flex": null,
      "flex_flow": null,
      "grid_area": null,
      "grid_auto_columns": null,
      "grid_auto_flow": null,
      "grid_auto_rows": null,
      "grid_column": null,
      "grid_gap": null,
      "grid_row": null,
      "grid_template_areas": null,
      "grid_template_columns": null,
      "grid_template_rows": null,
      "height": null,
      "justify_content": null,
      "justify_items": null,
      "left": null,
      "margin": null,
      "max_height": null,
      "max_width": null,
      "min_height": null,
      "min_width": null,
      "object_fit": null,
      "object_position": null,
      "order": null,
      "overflow": null,
      "overflow_x": null,
      "overflow_y": null,
      "padding": null,
      "right": null,
      "top": null,
      "visibility": null,
      "width": null
     }
    },
    "a0b9af73839b404ab03907ed0cad6792": {
     "model_module": "@jupyter-widgets/controls",
     "model_name": "HBoxModel",
     "state": {
      "_dom_classes": [],
      "_model_module": "@jupyter-widgets/controls",
      "_model_module_version": "1.5.0",
      "_model_name": "HBoxModel",
      "_view_count": null,
      "_view_module": "@jupyter-widgets/controls",
      "_view_module_version": "1.5.0",
      "_view_name": "HBoxView",
      "box_style": "",
      "children": [
       "IPY_MODEL_55ce6a71537a421a9944fd651a77f01a",
       "IPY_MODEL_42b133d49cc74e70915d03119a5800c7"
      ],
      "layout": "IPY_MODEL_a043b4deaa9a464b89a0df861616b38b"
     }
    },
    "eabd855516604f1f9eedb77a244588c0": {
     "model_module": "@jupyter-widgets/controls",
     "model_name": "DescriptionStyleModel",
     "state": {
      "_model_module": "@jupyter-widgets/controls",
      "_model_module_version": "1.5.0",
      "_model_name": "DescriptionStyleModel",
      "_view_count": null,
      "_view_module": "@jupyter-widgets/base",
      "_view_module_version": "1.2.0",
      "_view_name": "StyleView",
      "description_width": ""
     }
    }
   }
  }
 },
 "nbformat": 4,
 "nbformat_minor": 1
}
