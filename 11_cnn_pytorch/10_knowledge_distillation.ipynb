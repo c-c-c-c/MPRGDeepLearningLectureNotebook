{
 "cells": [
  {
   "cell_type": "markdown",
   "metadata": {},
   "source": [
    "# 10. Knowledge distillation\n",
    "\n",
    "DNNは一般的に，ネットワークのパラメータ数を増やす（層の数やチャネル数を増やす）と性能が向上していきます．しかし，ネットワークのパラメータ数を増やすと，それに伴って，実行時に必要なメモリ量や計算コストが増えてしまいます．実応用上，少ないメモリ量と計算コストで高性能な推論ができる小さなネットワークを作ることが望まれます．\n",
    "\n",
    "Knowledge distillation（知識蒸留）は，そのような小さくて高性能なネットワークを作るための学習方法です．これには，TeacherネットワークとStudentネットワークと呼ばれる2つのネットワークを使用します．以下に，クラス分類問題を解くネットワークにおけるknowledge distillationの学習方法を示します．\n",
    "\n",
    "<img src=\"https://paper-attachments.dropbox.com/s_87B2D47FBD0A698415C3853F712E17ACC67F633356B04D1BA9138A68175CE0AD_1596688289510_image.png\" width = 40%>\n",
    "\n",
    "Teacherネットワークは大きくて優秀な事前学習済み(pre-trained)ネットワークであり，StudentネットワークはTeacherネットワークよりも小さなネットワークです．事前学習済みのTeacherネットワークが持っている知識を，Teacherネットワークに教えながら学習させることで，Studentネットワークの性能が向上します．通常の学習では，ネットワークの推論結果が，人間が作成した正解ラベル(Hard target)と一致するように学習を行います．Knowledge distillationでは，Hard targetに加えて，Teacherネットワークの出力(Soft target)にも一致するようにStudentネットワークを学習させます．損失関数はどちらもクロスエントロピー関数を使用します．このように学習することで，distillationを用いない場合よりもStudentネットワークの性能が向上します．"
   ]
  },
  {
   "cell_type": "markdown",
   "metadata": {},
   "source": [
    "## なぜ性能が向上するのか？\n",
    "\n",
    "クラス分類問題を解くネットワークを教師あり学習で学習させる場合，教師ラベル(Hard target)として正解クラスのみが1で他のクラスが0になっているデータを使用します．例えば，正解クラスがdogである場合には，以下の図ようにdogクラスのみが1になっており，それ以外のcatやcow, carなどのクラスは0になっている配列 [0, 1, 0, 0, …] を教師ラベルとして使用します．\n",
    "\n",
    "<img src=\"https://paper-attachments.dropbox.com/s_87B2D47FBD0A698415C3853F712E17ACC67F633356B04D1BA9138A68175CE0AD_1596368489677_image.png\" width = 30%>\n",
    "\n",
    "これに対して，学習済みのTeacherネットワークが出力する値(Soft target)は，以下の図のように，dogクラス以外にも0より大きな値が存在します．一般的に，この値は正解クラスと見た目が近いほど大きく，遠いほど小さくなります．この例では，dogクラスと見た目が近いcatクラスが2番目に大きな値を持っており，大きく見た目の異なるcarクラスは非常に小さな値となっています．\n",
    "\n",
    "<img src=\"https://paper-attachments.dropbox.com/s_87B2D47FBD0A698415C3853F712E17ACC67F633356B04D1BA9138A68175CE0AD_1596368473731_image.png\" width = 30%>\n",
    "\n",
    "つまり，学習済みのネットワークが出力する値には，入力画像に対する正解クラスの類似度情報（ここではdogクラスの0.9）の他に，正解クラス”以外”の類似度情報も含まれています．優秀なTeacherネットワークから得られた，この類似度情報をStudentネットワークに伝えることで，Studentネットワークの精度が向上すると考えられています．（※ただし，理論的な証明はまだ存在していません．また，この他にも”ラベル平滑化”による正則化の効果など，複数の要因によって性能が向上すると考えられています．）"
   ]
  },
  {
   "cell_type": "markdown",
   "metadata": {},
   "source": [
    "## 学習方法\n",
    "\n",
    "KDでは以下の2段階の手順でネットワークを学習します．\n",
    "\n",
    "1. 教師ラベル(hard target)を使ってTeacherネットワークを学習させる\n",
    "2. 教師ラベル(hard target)と学習済みのTeacherネットワークの出力(soft target)を使ってStudentネットワークを学習させる\n",
    "\n",
    "#### ステップ 1\n",
    "Teacherネットワークの学習は通常の教師あり学習です．損失関数として，教師ラベルとのCross entropy lossを使用します．このとき，学習させたTeacherネットワークを保存しておき，次のステップで使います．\n",
    "\n",
    "#### ステップ 2\n",
    "Studentネットワークの学習では，教師ラベルを使用した通常の教師あり学習に加え，学習済みTeacherネットワークの出力を模倣するような学習を行います．\n",
    "\n",
    "教師ラベル(hard target)との損失を計算する際にはcross entropy lossを使用します．損失関数は以下のように表されます．\n",
    "\n",
    "$$L_{hard} = - \\sum^C_i{t_i \\log{p^s_i(x)}}$$\n",
    "\n",
    "ここで，$C$はクラス数，$t_i \\in \\{0,1\\}$は$i$番目クラスの教師ラベル値，$x$は入力画像，$p^s_i$はStudentネットワークの出力をsoftmax関数で正規化した後の，$i$番目クラスの確率値です (例えば，dogクラスの0.9や，catクラスの0.1などです)．この損失関数は，通常の教師あり学習で使用するものとまったく同じ関数です．\n",
    "\n",
    "Teacherネットワークの出力(soft target)との損失を計算する際にも同様にcross entropy lossを使用します．損失関数は以下のように表されます．これがdistillationに使われる損失関数です．\n",
    "\n",
    "$$L_{soft} = - \\sum^C_i{p^t_i(x; \\tau) \\log{p^s_i(x; \\tau)}}$$\n",
    "\n",
    "ここで，$p^t_i$はTeacherネットワークの出力をsoftmax関数で正規化した後の，$i$番目クラスの確率値です．また，$\\tau$は温度パラメータと呼ばれるもので，softmax関数によって正規化された確率分布の滑らかさを決定する値です．この温度付きsoftmax関数には，Teacherネットワークの情報をStudentネットワークに伝えやすくする役割があります．\n",
    "\n",
    "最終的な損失は以下のように計算します．$\\alpha$は蒸留用の損失をどれだけ考慮するかを決定するパラメータです．\n",
    "$$L = L_{hard} + \\alpha \\cdot L_{soft}$$"
   ]
  },
  {
   "cell_type": "markdown",
   "metadata": {},
   "source": [
    "## Softmax関数の温度パラメータ\n",
    "\n",
    "温度付きSoftmax関数とは，以下の式で表される関数です．ここで，$z$がネットワークの出力(logits)，$\\tau$が温度パラメータを表します．温度$\\tau$を高い値にすることで，正規化後の確率分布が滑らかになります．\n",
    "\n",
    "$$p_i = \\frac{exp(z_i/\\tau)}{\\sum^C_k{exp(z_k/\\tau)}}$$\n",
    "\n",
    "温度付きSoftmax関数の振る舞いを理解するため，以下に温度$\\tau$を変更した際の，各クラスの確率値$p_i$の分布を示します．左がネットワークの出力$z_i$の分布，中央が$\\tau=1$で$z_i$を正規化したときの確率$p_i$の分布，右が$\\tau=4$の場合の確率$p_i$の分布です．温度を上げることで確率分布が変化していることが分かります．(プログラム中の”T”の値を書き換えて，分布がどのように変化するか調べてみてください)\n",
    "\n",
    "通常のsoftmax関数($\\tau=1$の場合に相当)は，最も大きな値のみが1に近く，それ以外は0に近い値となります．この状態のままクロスエントロピー関数を使って蒸留すると，Teacherネットワークが持つ不正解クラスの情報がStudentネットワークにうまく伝わりません．温度パラメータを導入し，$\\tau$の値を大きくすることで，不正解クラスの確率値がある程度大きくなるため，その情報が伝わりやすくなります．"
   ]
  },
  {
   "cell_type": "code",
   "execution_count": 1,
   "metadata": {},
   "outputs": [
    {
     "data": {
      "image/png": "[encoded data removed]",
      "text/plain": [
       "<Figure size 1296x288 with 3 Axes>"
      ]
     },
     "metadata": {
      "needs_background": "light"
     },
     "output_type": "display_data"
    }
   ],
   "source": [
    "import torch\n",
    "import matplotlib.pyplot as plt\n",
    "\n",
    "class_name = [\"car\",\"cat\", \"deer\", \"dog\", \"cow\"]\n",
    "z = torch.tensor([-5.2, 6.3, -0.5, 9.4, 3.1])\n",
    "\n",
    "T = 1\n",
    "p_1 = torch.softmax(z/T, dim=0)\n",
    "\n",
    "T = 4\n",
    "p_4 = torch.softmax(z/T, dim=0)\n",
    "\n",
    "fig, (ax1, ax2, ax3) = plt.subplots(ncols=3, figsize=(18,4))\n",
    "ax1.bar(class_name, z)\n",
    "ax2.bar(class_name, p_1)\n",
    "ax3.bar(class_name, p_4)\n",
    "ax2.set_ylim([0,1])\n",
    "ax3.set_ylim([0,1])\n",
    "ax1.set_title(\"$z_i$: logits\")\n",
    "ax2.set_title(\"$p_i$: softmax (T=1)\")\n",
    "ax3.set_title(\"$p_i$: softmax (T=4)\")\n",
    "fig.show()"
   ]
  },
  {
   "cell_type": "markdown",
   "metadata": {},
   "source": [
    "# 畳み込みニューラルネットワークのknowledge distillation\n",
    "クラス分類問題を解くネットワークに対して，knowledge distillationを適用した学習を行います．\n",
    "データセットには一般物体認識用のデータセットであるCIFAR-10を使います．CIFAR-10は10クラスの画像からなるデータセットです．\n",
    "蒸留では，\n",
    "\n",
    "1. Teacherネットワークを学習させる\n",
    "2. Studentネットワークを学習させる\n",
    "\n",
    "という2段階の学習を行います．\n",
    "この実験の目的は，Studentネットワークの精度が，蒸留を使用しない通常の学習よりも向上するかどうかを確かめることです．\n",
    "そのため，Studentネットワークを蒸留を用いずに学習させた場合と，蒸留を用いて学習させた場合の2つを比較します．"
   ]
  },
  {
   "cell_type": "code",
   "execution_count": 2,
   "metadata": {},
   "outputs": [],
   "source": [
    "from time import time\n",
    "import torch\n",
    "import torch.nn as nn\n",
    "import torch.nn.functional as F\n",
    "import torchvision\n",
    "import torchvision.transforms as transforms\n",
    "import torchsummary"
   ]
  },
  {
   "cell_type": "code",
   "execution_count": 3,
   "metadata": {},
   "outputs": [],
   "source": [
    "# エポック数の設定\n",
    "NUM_EPOCH = 20"
   ]
  },
  {
   "cell_type": "code",
   "execution_count": 4,
   "metadata": {},
   "outputs": [
    {
     "name": "stdout",
     "output_type": "stream",
     "text": [
      "Files already downloaded and verified\n",
      "Files already downloaded and verified\n"
     ]
    }
   ],
   "source": [
    "# データローダーの準備\n",
    "transform = transforms.Compose([\n",
    "    transforms.RandomHorizontalFlip(),\n",
    "    transforms.RandomCrop(32, padding=4),\n",
    "    transforms.ToTensor(),\n",
    "    transforms.Normalize((0.4914, 0.4822, 0.4465), (0.2470, 0.2435, 0.2616)),\n",
    "])\n",
    "\n",
    "test_transform = transforms.Compose([\n",
    "    transforms.ToTensor(),\n",
    "    transforms.Normalize((0.4914, 0.4822, 0.4465), (0.2470, 0.2435, 0.2616)),\n",
    "])\n",
    "\n",
    "train_data = torchvision.datasets.CIFAR10(root=\"./dataset/CIFAR-10\", train=True, transform=transform, download=True)\n",
    "test_data = torchvision.datasets.CIFAR10(root=\"./dataset/CIFAR-10\", train=False, transform=test_transform, download=True)\n",
    "\n",
    "train_loader = torch.utils.data.DataLoader(train_data, batch_size=4, shuffle=True, num_workers=10)\n",
    "test_loader = torch.utils.data.DataLoader(test_data, batch_size=100, shuffle=False, num_workers=10)"
   ]
  },
  {
   "cell_type": "markdown",
   "metadata": {},
   "source": [
    "## ネットワークの用意\n",
    "畳み込みネットワークを定義します．ここでは，2層の畳み込み層と3層の全結合層により構成されるネットワークとします．\n",
    "widen_factorという引数は，畳み込み層のフィルタ数と全結合層のユニット数をデフォルトの値から何倍するかを決定するものです．"
   ]
  },
  {
   "cell_type": "code",
   "execution_count": 5,
   "metadata": {},
   "outputs": [],
   "source": [
    "class CNN(nn.Module):\n",
    "    def __init__(self, widen_factor=1):\n",
    "        super().__init__()\n",
    "        self.conv1 = nn.Conv2d(3, 16*widen_factor, kernel_size=3, stride=1, padding=1)\n",
    "        self.conv2 = nn.Conv2d(16*widen_factor, 32*widen_factor, kernel_size=3, stride=1, padding=1)\n",
    "        self.l1 = nn.Linear(8*8*32*widen_factor, 1024*widen_factor)\n",
    "        self.l2 = nn.Linear(1024*widen_factor, 1024*widen_factor)\n",
    "        self.l3 = nn.Linear(1024*widen_factor, 10)\n",
    "        self.act = nn.ReLU()\n",
    "        self.pool = nn.MaxPool2d(2, 2)\n",
    "    \n",
    "    def forward(self, x):\n",
    "        h = self.pool(self.act(self.conv1(x)))\n",
    "        h = self.pool(self.act(self.conv2(h)))\n",
    "        h = h.view(h.size()[0], -1)\n",
    "        h = self.act(self.l1(h))\n",
    "        h = self.act(self.l2(h))\n",
    "        h = self.l3(h)\n",
    "        return h"
   ]
  },
  {
   "cell_type": "markdown",
   "metadata": {},
   "source": [
    "## Teacherネットワークの学習"
   ]
  },
  {
   "cell_type": "markdown",
   "metadata": {},
   "source": [
    "### Teacherネットワークの用意\n",
    "Teacherネットワークを作成します．今回は，widen_factor=2 の大きなネットワークを用意します．\n",
    "サマリーの Total params を見ると，パラメータ数が 12,626,890 あることが分かります．"
   ]
  },
  {
   "cell_type": "code",
   "execution_count": 6,
   "metadata": {},
   "outputs": [
    {
     "name": "stdout",
     "output_type": "stream",
     "text": [
      "----------------------------------------------------------------\n",
      "        Layer (type)               Output Shape         Param #\n",
      "================================================================\n",
      "            Conv2d-1           [-1, 32, 32, 32]             896\n",
      "              ReLU-2           [-1, 32, 32, 32]               0\n",
      "         MaxPool2d-3           [-1, 32, 16, 16]               0\n",
      "            Conv2d-4           [-1, 64, 16, 16]          18,496\n",
      "              ReLU-5           [-1, 64, 16, 16]               0\n",
      "         MaxPool2d-6             [-1, 64, 8, 8]               0\n",
      "            Linear-7                 [-1, 2048]       8,390,656\n",
      "              ReLU-8                 [-1, 2048]               0\n",
      "            Linear-9                 [-1, 2048]       4,196,352\n",
      "             ReLU-10                 [-1, 2048]               0\n",
      "           Linear-11                   [-1, 10]          20,490\n",
      "================================================================\n",
      "Total params: 12,626,890\n",
      "Trainable params: 12,626,890\n",
      "Non-trainable params: 0\n",
      "----------------------------------------------------------------\n",
      "Input size (MB): 0.01\n",
      "Forward/backward pass size (MB): 0.91\n",
      "Params size (MB): 48.17\n",
      "Estimated Total Size (MB): 49.09\n",
      "----------------------------------------------------------------\n"
     ]
    }
   ],
   "source": [
    "# teacher を用意\n",
    "teacher = CNN(widen_factor=2).cuda()\n",
    "# teacher のサマリーを表示\n",
    "torchsummary.summary(model=teacher, input_size=(3,32,32))"
   ]
  },
  {
   "cell_type": "markdown",
   "metadata": {},
   "source": [
    "### 学習 & 評価"
   ]
  },
  {
   "cell_type": "code",
   "execution_count": null,
   "metadata": {},
   "outputs": [
    {
     "name": "stdout",
     "output_type": "stream",
     "text": [
      "epoch: 1, mean loss: 1.907318680049181, mean accuracy: 0.29028, elapsed_time :92.82638454437256\n",
      "epoch: 2, mean loss: 1.816010889685154, mean accuracy: 0.34434, elapsed_time :186.4812033176422\n",
      "epoch: 3, mean loss: 1.8127907244163752, mean accuracy: 0.35192, elapsed_time :279.5665032863617\n",
      "epoch: 4, mean loss: 1.8259026667112113, mean accuracy: 0.34108, elapsed_time :375.3521873950958\n",
      "epoch: 5, mean loss: 1.8619633865261078, mean accuracy: 0.3288, elapsed_time :468.97943115234375\n",
      "epoch: 6, mean loss: 1.870491851181984, mean accuracy: 0.32162, elapsed_time :562.7674753665924\n",
      "epoch: 7, mean loss: 1.8735470607209206, mean accuracy: 0.32242, elapsed_time :658.047901391983\n",
      "epoch: 8, mean loss: 1.88550818618536, mean accuracy: 0.31964, elapsed_time :751.8262195587158\n",
      "epoch: 9, mean loss: 1.895700322008133, mean accuracy: 0.3117, elapsed_time :844.2108945846558\n",
      "epoch: 10, mean loss: 1.9028598303961755, mean accuracy: 0.30848, elapsed_time :938.1039531230927\n",
      "epoch: 11, mean loss: 1.8935062318277358, mean accuracy: 0.31242, elapsed_time :1032.061677455902\n",
      "epoch: 12, mean loss: 1.910229567246437, mean accuracy: 0.30434, elapsed_time :1125.3778522014618\n",
      "epoch: 13, mean loss: 1.9083600441503525, mean accuracy: 0.30314, elapsed_time :1219.512443304062\n",
      "epoch: 14, mean loss: 1.9359507335662842, mean accuracy: 0.29228, elapsed_time :1313.0454652309418\n",
      "epoch: 15, mean loss: 1.9331421252584458, mean accuracy: 0.29106, elapsed_time :1406.295385837555\n",
      "epoch: 16, mean loss: 1.92634939722538, mean accuracy: 0.29534, elapsed_time :1499.403685092926\n",
      "epoch: 17, mean loss: 1.9178845082139968, mean accuracy: 0.29686, elapsed_time :1595.3845188617706\n"
     ]
    }
   ],
   "source": [
    "# オプティマイザの設定\n",
    "optimizer = torch.optim.SGD(teacher.parameters(), lr=0.01, momentum=0.9)\n",
    "\n",
    "# ネットワークを学習モードへ変更\n",
    "teacher.train()\n",
    "\n",
    "start = time()\n",
    "for epoch in range(1, NUM_EPOCH+1):\n",
    "    sum_loss = 0.0\n",
    "    count = 0\n",
    "    \n",
    "    for image, label in train_loader:\n",
    "        \n",
    "        image = image.cuda()\n",
    "        label = label.cuda()\n",
    "        \n",
    "        y = teacher(image)\n",
    "        \n",
    "        # 損失の計算\n",
    "        loss = F.cross_entropy(y, label)\n",
    "        \n",
    "        teacher.zero_grad()\n",
    "        loss.backward()\n",
    "        optimizer.step()\n",
    "        \n",
    "        sum_loss += loss.item()\n",
    "        \n",
    "        pred = torch.argmax(y, dim=1)\n",
    "        count += torch.sum(pred == label)\n",
    "        \n",
    "    print(f\"epoch: {epoch}, mean loss: {sum_loss/len(train_loader)}, mean accuracy: {count.item()/len(train_loader.dataset)}, elapsed_time :{time()-start}\")\n",
    "\n",
    "# ネットワークを評価モードへ変更\n",
    "teacher.eval()\n",
    "\n",
    "# 評価の実行\n",
    "count = 0\n",
    "with torch.no_grad():\n",
    "    for image, label in test_loader:\n",
    "        \n",
    "        image = image.cuda()\n",
    "        label = label.cuda()\n",
    "        \n",
    "        y = teacher(image)\n",
    "        \n",
    "        pred = torch.argmax(y, dim=1)\n",
    "        count += torch.sum(pred == label)\n",
    "\n",
    "print(f\"test accuracy: {count.item()/len(test_loader.dataset)}\")"
   ]
  },
  {
   "cell_type": "markdown",
   "metadata": {},
   "source": [
    "### モデルの保存\n",
    "学習済みのTeacherネットワークの重みパラメータを保存しておきます．こうすることで，再実験を行う際に，Teacherネットワークを再度学習させなくても済むようになります．"
   ]
  },
  {
   "cell_type": "code",
   "execution_count": null,
   "metadata": {},
   "outputs": [],
   "source": [
    "torch.save(teacher, \"teacher.pkl\")"
   ]
  },
  {
   "cell_type": "markdown",
   "metadata": {},
   "source": [
    "## Studentネットワーク単体の学習（KDなしの場合）\n",
    "後で比較をするために，Studentネットワークに対して，knowledge distillationを適用しない通常の学習を行います．"
   ]
  },
  {
   "cell_type": "markdown",
   "metadata": {},
   "source": [
    "### Studentネットワークの用意\n",
    "Studentネットワークを作成します．Teacherネットワークよりも小さなネットワークにするため widen_factor=1 にします．Teacherネットワークのパラメータ数は 12,626,890 でしたが，Studentネットワークのパラメータ数は 3,163,114 であり，約4分の1になっていることが分かります．"
   ]
  },
  {
   "cell_type": "code",
   "execution_count": null,
   "metadata": {},
   "outputs": [],
   "source": [
    "# student を用意\n",
    "student = CNN(widen_factor=1).cuda()\n",
    "# teacher のサマリーを表示\n",
    "torchsummary.summary(model=student, input_size=(3,32,32))"
   ]
  },
  {
   "cell_type": "markdown",
   "metadata": {},
   "source": [
    "### 学習 & 評価"
   ]
  },
  {
   "cell_type": "code",
   "execution_count": null,
   "metadata": {},
   "outputs": [],
   "source": [
    "# オプティマイザの設定\n",
    "optimizer = torch.optim.SGD(student.parameters(), lr=0.01, momentum=0.9)\n",
    "\n",
    "# ネットワークを学習モードへ変更\n",
    "student.train()\n",
    "\n",
    "start = time()\n",
    "for epoch in range(1, NUM_EPOCH+1):\n",
    "    sum_loss = 0.0\n",
    "    count = 0\n",
    "    \n",
    "    for image, label in train_loader:\n",
    "        \n",
    "        image = image.cuda()\n",
    "        label = label.cuda()\n",
    "        \n",
    "        y_s = student(image)\n",
    "        \n",
    "        # 損失の計算\n",
    "        loss = F.cross_entropy(y_s, label)\n",
    "        \n",
    "        student.zero_grad()\n",
    "        loss.backward()\n",
    "        optimizer.step()\n",
    "        \n",
    "        sum_loss += loss.item()\n",
    "        \n",
    "        pred = torch.argmax(y_s, dim=1)\n",
    "        count += torch.sum(pred == label)\n",
    "        \n",
    "    print(f\"epoch: {epoch}, mean loss: {sum_loss/len(train_loader)}, mean accuracy: {count.item()/len(train_loader.dataset)}, elapsed_time :{time()-start}\")\n",
    "\n",
    "# ネットワークを評価モードへ変更\n",
    "student.eval()\n",
    "\n",
    "# 評価の実行\n",
    "count = 0\n",
    "with torch.no_grad():\n",
    "    for image, label in test_loader:\n",
    "        \n",
    "        image = image.cuda()\n",
    "        label = label.cuda()\n",
    "        \n",
    "        y = student(image)\n",
    "        \n",
    "        pred = torch.argmax(y, dim=1)\n",
    "        count += torch.sum(pred == label)\n",
    "\n",
    "print(f\"test accuracy: {count.item()/len(test_loader.dataset)}\")"
   ]
  },
  {
   "cell_type": "markdown",
   "metadata": {},
   "source": [
    "## Studentネットワークの学習（KDありの場合）\n",
    "学習済みTeacherネットワークを使ってknowledge distillationを行います．"
   ]
  },
  {
   "cell_type": "markdown",
   "metadata": {},
   "source": [
    "### Teacherネットワークの読み込み\n",
    "先ほど保存したTeacherネットワークの重みパラメータをteacherに読み込みます．"
   ]
  },
  {
   "cell_type": "code",
   "execution_count": null,
   "metadata": {},
   "outputs": [],
   "source": [
    "teacher = torch.load(\"teacher.pkl\")"
   ]
  },
  {
   "cell_type": "markdown",
   "metadata": {},
   "source": [
    "### Studentネットワークの用意\n",
    "Studentネットワークの重みを初期化するため，再度ネットワークを作成します．"
   ]
  },
  {
   "cell_type": "code",
   "execution_count": null,
   "metadata": {},
   "outputs": [],
   "source": [
    "student = CNN(widen_factor=1).cuda()"
   ]
  },
  {
   "cell_type": "markdown",
   "metadata": {},
   "source": [
    "### Cross entropy lossの定義\n",
    "蒸留用の損失関数を定義します．StudentネットワークとTeacherネットワークの出力(logits)に対して温度付きsoftmaxで正規化し，cross entropy lossを計算します．"
   ]
  },
  {
   "cell_type": "code",
   "execution_count": null,
   "metadata": {},
   "outputs": [],
   "source": [
    "def cross_entropy(student_logits, teacher_logits, T):\n",
    "    student_log_softmax = F.log_softmax(student_logits/T, dim=1)\n",
    "    teacher_softmax = F.softmax(teacher_logits/T, dim=1)\n",
    "    ce = -(teacher_softmax * student_log_softmax).sum(dim=1)\n",
    "    return ce.mean()"
   ]
  },
  {
   "cell_type": "markdown",
   "metadata": {},
   "source": [
    "### 学習 & 評価\n",
    "$L_{hard}$と$L_{soft}$の2つの損失関数を使用して，Studentネットワークを学習させます．\n",
    "今回は，温度パラメータを 4，$\\alpha$を 4 に設定します．\n",
    "Studentネットワークの損失値と精度を表示します．"
   ]
  },
  {
   "cell_type": "code",
   "execution_count": null,
   "metadata": {},
   "outputs": [],
   "source": [
    "# オプティマイザの設定\n",
    "optimizer = torch.optim.SGD(student.parameters(), lr=0.01, momentum=0.9)\n",
    "\n",
    "# studentネットワークのみを学習モードへ変更\n",
    "teacher.eval()\n",
    "student.train()\n",
    "\n",
    "start = time()\n",
    "for epoch in range(1, NUM_EPOCH+1):\n",
    "    sum_loss = 0.0\n",
    "    count = 0\n",
    "    \n",
    "    for image, label in train_loader:\n",
    "        \n",
    "        image = image.cuda()\n",
    "        label = label.cuda()\n",
    "        \n",
    "        # Teacherネットワークの出力を得る\n",
    "        y_t = teacher(image)\n",
    "        # Studentネットワークの出力を得る\n",
    "        y_s = student(image)\n",
    "        \n",
    "        # 損失の計算\n",
    "        hard_loss = F.cross_entropy(y_s, label)\n",
    "        soft_loss = cross_entropy(y_s, y_t.detach(), T=4.)\n",
    "        loss = hard_loss + 4.0 * soft_loss\n",
    "        \n",
    "        student.zero_grad()\n",
    "        loss.backward()\n",
    "        optimizer.step()\n",
    "        \n",
    "        sum_loss += loss.item()\n",
    "        \n",
    "        pred = torch.argmax(y_s, dim=1)\n",
    "        count += torch.sum(pred == label)\n",
    "        \n",
    "    print(f\"epoch: {epoch}, mean loss: {sum_loss/len(train_loader)}, mean accuracy: {count.item()/len(train_loader.dataset)}, elapsed_time :{time()-start}\")\n",
    "\n",
    "# ネットワークを評価モードへ変更\n",
    "student.eval()\n",
    "\n",
    "# 評価の実行\n",
    "count = 0\n",
    "with torch.no_grad():\n",
    "    for image, label in test_loader:\n",
    "        \n",
    "        image = image.cuda()\n",
    "        label = label.cuda()\n",
    "        \n",
    "        y = student(image)\n",
    "        \n",
    "        pred = torch.argmax(y, dim=1)\n",
    "        count += torch.sum(pred == label)\n",
    "\n",
    "print(f\"test accuracy: {count.item()/len(test_loader.dataset)}\")"
   ]
  },
  {
   "cell_type": "markdown",
   "metadata": {},
   "source": [
    "# 課題\n",
    "1. 温度パラメータ $\\tau$ の値や$\\alpha$の値を変更して精度の変化を調査してください．"
   ]
  },
  {
   "cell_type": "code",
   "execution_count": null,
   "metadata": {},
   "outputs": [],
   "source": []
  }
 ],
 "metadata": {
  "kernelspec": {
   "display_name": "Python 3",
   "language": "python",
   "name": "python3"
  },
  "language_info": {
   "codemirror_mode": {
    "name": "ipython",
    "version": 3
   },
   "file_extension": ".py",
   "mimetype": "text/x-python",
   "name": "python",
   "nbconvert_exporter": "python",
   "pygments_lexer": "ipython3",
   "version": "3.7.6"
  },
  "toc-autonumbering": false,
  "varInspector": {
   "cols": {
    "lenName": 16,
    "lenType": 16,
    "lenVar": 40
   },
   "kernels_config": {
    "python": {
     "delete_cmd_postfix": "",
     "delete_cmd_prefix": "del ",
     "library": "var_list.py",
     "varRefreshCmd": "print(var_dic_list())"
    },
    "r": {
     "delete_cmd_postfix": ") ",
     "delete_cmd_prefix": "rm(",
     "library": "var_list.r",
     "varRefreshCmd": "cat(var_dic_list()) "
    }
   },
   "types_to_exclude": [
    "module",
    "function",
    "builtin_function_or_method",
    "instance",
    "_Feature"
   ],
   "window_display": false
  }
 },
 "nbformat": 4,
 "nbformat_minor": 4
}
