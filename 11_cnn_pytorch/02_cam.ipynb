{
<<<<<<< HEAD
 "cells": [
  {
   "cell_type": "markdown",
   "metadata": {
    "id": "vQfhYcVF8KPt"
   },
   "source": [
    "# CNNの可視化 (Class Activation Mapping; CAM)\n",
    "\n",
    "---\n",
    "\n",
    "## 目的\n",
    "Class Activation Mapping (CAM)の仕組みを理解する.\n",
    "\n",
    "CAMを用いてCIFAR-10データセットに対するネットワークの判断根拠の可視化を行う．\n",
    "\n",
    "## Class Activation Mapping (CAM)\n",
    "Class Activation Mapping (CAM)[1]とは，ネットワークの出力に対する全結合層の結合重みを用いて，ネットワークの推論時における貢献度の高い領域をClass Activation Map (Attention map) として可視化することができる手法です．\n",
    "まず，入力画像をネットワークに入力して特徴マップを獲得します．\n",
    "次に，獲得した特徴マップに対してGlobal Average Pooling (GAP)[2]を行い，各特徴マップの空間方向に対する平均値を算出します．\n",
    "GAPとは，特徴マップの各チャネルごとに空間方向に対する平均値を算出し，その平均値を各特徴マップの値とする処理です．\n",
    "これにより，全結合層におけるパラメータ数を大幅に削減することができます．\n",
    "一方で，空間的な情報が失われてしまうというデメリットもあります．\n",
    "このGlobal Average Poolingによって得られた各チャネルに対する平均値を全結合層のユニットの応答値として最終的な認識結果を出力します．\n",
    "最後に，畳み込み層で得られた特徴マップと特定のクラスにおける特徴マップの各チャネルに対応する全結合層の結合重みを乗算し，乗算した特徴マップを全て加算することで，Attention mapを獲得します．\n",
    "クラス$c$に対するAttention mapは，以下の式のように表すことができます．\n",
    "\n",
    "$$M_c(x,y)=\\sum_{k}w^{c}_{k}f_{k}(x,y)$$\n",
    "\n",
    "ここで，$M_c$はクラス$c$に対するAttention map，$w^{c}_{k}$はクラス$c$の$k$番目の特徴マップに対する結合重み，$f_{k}(x,y)$は$k$番目の特徴マップを示しています．\n",
    "\n",
    "<img src=\"https://drive.google.com/uc?export=view&id=10yN9GxNp34WNlUDWNoCToW60cEUbsJFV\" width=100%>\n",
    "\n",
    "\n"
   ]
  },
  {
   "cell_type": "markdown",
   "metadata": {
    "id": "V8ehSX6U8KPv"
   },
   "source": [
    "## モジュールのインポート\n",
    "プログラムの実行に必要なモジュールをインポートします．\n",
    "今回は，機械学習ライブラリであるPytorchを使用します．\n",
    "PyTorchとは，Python向けのオープンソース機械学習ライブラリで，Facebookに開発されました．"
   ]
  },
  {
   "cell_type": "code",
   "execution_count": 1,
   "metadata": {
    "id": "VaNXqInW8KPv"
   },
   "outputs": [],
   "source": [
    "import torch\n",
    "import torchvision\n",
    "import torchvision.transforms as transforms\n",
    "import torch.backends.cudnn as cudnn\n",
    "import torchsummary"
   ]
  },
  {
   "cell_type": "markdown",
   "metadata": {
    "id": "b4gEy7cGCfz8"
   },
   "source": [
    "## GPUの確認\n",
    "GPUを使用した計算が可能かどうかを確認します．\n",
    "下記のコードを実行してGPU情報を確認します． GPUの確認を行うためには，上部のメニューバーの「ランタイム」→「ランタイムのタイプを変更」からハードウェアアクセラレータをGPUにしてください．\n",
    "\n",
    "`Use CUDA: True`と表示されれば，GPUを使用した計算をPytorchで行うことが可能です． CPUとなっている場合は，上記に記載している手順にしたがって，設定を変更してください．"
   ]
  },
  {
   "cell_type": "code",
   "execution_count": 2,
   "metadata": {
    "colab": {
     "base_uri": "https://localhost:8080/"
    },
    "id": "p9fjeG_U8KP1",
    "outputId": "61a6bc74-4aad-4da5-9d72-05719567088f"
   },
   "outputs": [
    {
     "name": "stdout",
     "output_type": "stream",
     "text": [
      "Use CUDA: True\n"
     ]
    }
   ],
   "source": [
    "device = torch.device(\"cuda:0\" if torch.cuda.is_available() else \"cpu\")\n",
    "use_cuda = torch.cuda.is_available()\n",
    "cudnn.benchmark = True\n",
    "print('Use CUDA:', use_cuda)"
   ]
  },
  {
   "cell_type": "markdown",
   "metadata": {
    "id": "Uanw74k0F9iw"
   },
   "source": [
    "下記のコードを実行してGPU情報を確認します．\n",
    "\n"
   ]
  },
  {
   "cell_type": "code",
   "execution_count": 3,
   "metadata": {
    "colab": {
     "base_uri": "https://localhost:8080/"
    },
    "id": "eeUIUazLGGPu",
    "outputId": "771c5612-1c50-47e6-9dc4-04c58feb106e"
   },
   "outputs": [
    {
     "name": "stdout",
     "output_type": "stream",
     "text": [
      "Sat Feb  6 06:08:53 2021       \n",
      "+-----------------------------------------------------------------------------+\n",
      "| NVIDIA-SMI 450.80.02    Driver Version: 450.80.02    CUDA Version: 11.0     |\n",
      "|-------------------------------+----------------------+----------------------+\n",
      "| GPU  Name        Persistence-M| Bus-Id        Disp.A | Volatile Uncorr. ECC |\n",
      "| Fan  Temp  Perf  Pwr:Usage/Cap|         Memory-Usage | GPU-Util  Compute M. |\n",
      "|                               |                      |               MIG M. |\n",
      "|===============================+======================+======================|\n",
      "|   0  GeForce RTX 207...  Off  | 00000000:1A:00.0 Off |                  N/A |\n",
      "| 21%   26C    P8    15W / 215W |      3MiB /  7982MiB |      0%      Default |\n",
      "|                               |                      |                  N/A |\n",
      "+-------------------------------+----------------------+----------------------+\n",
      "|   1  GeForce RTX 207...  Off  | 00000000:1B:00.0 Off |                  N/A |\n",
      "| 20%   27C    P8    18W / 215W |      3MiB /  7982MiB |      0%      Default |\n",
      "|                               |                      |                  N/A |\n",
      "+-------------------------------+----------------------+----------------------+\n",
      "|   2  GeForce RTX 207...  Off  | 00000000:1C:00.0 Off |                  N/A |\n",
      "| 20%   38C    P8     7W / 215W |   2921MiB /  7982MiB |      0%      Default |\n",
      "|                               |                      |                  N/A |\n",
      "+-------------------------------+----------------------+----------------------+\n",
      "|   3  GeForce RTX 207...  Off  | 00000000:1D:00.0 Off |                  N/A |\n",
      "| 20%   28C    P8     9W / 215W |      3MiB /  7982MiB |      0%      Default |\n",
      "|                               |                      |                  N/A |\n",
      "+-------------------------------+----------------------+----------------------+\n",
      "|   4  GeForce RTX 207...  Off  | 00000000:1E:00.0 Off |                  N/A |\n",
      "| 20%   29C    P8    16W / 215W |      3MiB /  7982MiB |      0%      Default |\n",
      "|                               |                      |                  N/A |\n",
      "+-------------------------------+----------------------+----------------------+\n",
      "|   5  GeForce RTX 207...  Off  | 00000000:3D:00.0 Off |                  N/A |\n",
      "| 20%   27C    P8    13W / 215W |      3MiB /  7982MiB |      0%      Default |\n",
      "|                               |                      |                  N/A |\n",
      "+-------------------------------+----------------------+----------------------+\n",
      "|   6  GeForce RTX 207...  Off  | 00000000:3E:00.0 Off |                  N/A |\n",
      "| 20%   29C    P8    10W / 215W |      3MiB /  7982MiB |      0%      Default |\n",
      "|                               |                      |                  N/A |\n",
      "+-------------------------------+----------------------+----------------------+\n",
      "|   7  GeForce RTX 207...  Off  | 00000000:3F:00.0 Off |                  N/A |\n",
      "| 20%   26C    P8    15W / 215W |      3MiB /  7982MiB |      0%      Default |\n",
      "|                               |                      |                  N/A |\n",
      "+-------------------------------+----------------------+----------------------+\n",
      "|   8  GeForce RTX 207...  Off  | 00000000:40:00.0 Off |                  N/A |\n",
      "| 21%   28C    P8    16W / 215W |      3MiB /  7982MiB |      0%      Default |\n",
      "|                               |                      |                  N/A |\n",
      "+-------------------------------+----------------------+----------------------+\n",
      "|   9  GeForce RTX 207...  Off  | 00000000:41:00.0 Off |                  N/A |\n",
      "| 20%   28C    P8    18W / 215W |      3MiB /  7982MiB |      0%      Default |\n",
      "|                               |                      |                  N/A |\n",
      "+-------------------------------+----------------------+----------------------+\n",
      "                                                                               \n",
      "+-----------------------------------------------------------------------------+\n",
      "| Processes:                                                                  |\n",
      "|  GPU   GI   CI        PID   Type   Process name                  GPU Memory |\n",
      "|        ID   ID                                                   Usage      |\n",
      "|=============================================================================|\n",
      "+-----------------------------------------------------------------------------+\n"
     ]
    }
   ],
   "source": [
    "!nvidia-smi"
   ]
  },
  {
   "cell_type": "markdown",
   "metadata": {
    "id": "QEgbYa9EloXV"
   },
   "source": [
    "## 使用するデータセット\n",
    "\n",
    "### データセット\n",
    "今回の物体認識では，CIFAR-10データセットを使用します．CIFAR-10データセットは，飛行機や犬などの10クラスの物体が表示されている画像から構成されたデータセットです．\n",
    "\n",
    "![CIFAR10_sample.png](https://qiita-image-store.s3.ap-northeast-1.amazonaws.com/0/176458/b6b43478-c85f-9211-7bc6-227d9b387af5.png)"
   ]
  },
  {
   "cell_type": "markdown",
   "metadata": {
    "id": "xNzvYQL58KP4"
   },
   "source": [
    "### データセットのダウンロードと読み込み\n",
    "実験に使用するCIFAR-10データセットを読み込みます．\n",
    "１回の誤差を算出するデータ数 (ミニバッチサイズ) は，4とします．\n",
    "まず，CIFAR-10データセットをダウンロードします．\n",
    "次に，ダウンロードしたデータセットを読み込みます．\n",
    "学習には，大量のデータを利用しますが，それでも十分ではありません． そこで，データ拡張 (data augmentation) により，データのバリエーションを増やします． 一般的な方法は，画像の左右反転，明るさ変換などです． また，画像の一部にマスク処理をかけるRandom Erasingも行います．"
   ]
  },
  {
   "cell_type": "code",
   "execution_count": 4,
   "metadata": {
    "colab": {
     "base_uri": "https://localhost:8080/",
     "height": 150,
     "referenced_widgets": [
      "a0b9af73839b404ab03907ed0cad6792",
      "a043b4deaa9a464b89a0df861616b38b",
      "55ce6a71537a421a9944fd651a77f01a",
      "42b133d49cc74e70915d03119a5800c7",
      "485baa518e034cb4956dbb3e2eb6d753",
      "4ed8ba4caad842e88222b349452f9e68",
      "eabd855516604f1f9eedb77a244588c0",
      "43d0d5ce85eb42f3a9c1c7880dc120df"
     ]
    },
    "id": "leWJTOIL8KP4",
    "outputId": "0953ba39-e133-4247-f546-0bc327f786e2"
   },
   "outputs": [
    {
     "name": "stdout",
     "output_type": "stream",
     "text": [
      "Files already downloaded and verified\n",
      "Files already downloaded and verified\n"
     ]
    }
   ],
   "source": [
    "batch_size = 4\n",
    "\n",
    "transform_train = transforms.Compose([\n",
    "    transforms.RandomCrop(32, padding=4),\n",
    "    transforms.RandomHorizontalFlip(),\n",
    "    transforms.ToTensor(),\n",
    "    transforms.Normalize((0.4914, 0.4822, 0.4465), (0.2023, 0.1994, 0.2010)),\n",
    "    transforms.RandomErasing(),\n",
    "])\n",
    "\n",
    "transform_test = transforms.Compose([\n",
    "    transforms.ToTensor(),\n",
    "    transforms.Normalize((0.4914, 0.4822, 0.4465), (0.2023, 0.1994, 0.2010)),\n",
    "])\n",
    "\n",
    "trainset = torchvision.datasets.CIFAR10(root='./data', train=True,\n",
    "                                        download=True, transform=transform_train)\n",
    "trainloader = torch.utils.data.DataLoader(trainset, batch_size=batch_size,\n",
    "                                          shuffle=True, num_workers=20)\n",
    "\n",
    "testset = torchvision.datasets.CIFAR10(root='./data', train=False,\n",
    "                                       download=True, transform=transform_test)\n",
    "testloader = torch.utils.data.DataLoader(testset, batch_size=batch_size,\n",
    "                                         shuffle=False, num_workers=20)\n",
    "\n",
    "classes = ('plane', 'car', 'bird', 'cat',\n",
    "           'deer', 'dog', 'frog', 'horse', 'ship', 'truck')"
   ]
  },
  {
   "cell_type": "markdown",
   "metadata": {
    "id": "zHQfAwb_8KP7"
   },
   "source": [
    "### CIFAR-10データセットの表示\n",
    "CIFAR-10データセットに含まれる画像を表示してみます．\n",
    "ここでは，matplotlibを用いて複数の画像を表示させるプログラムを利用します．\n",
    "学習データは5万枚，1つのデータサイズは3x32x32の画像のような形式となっています． これは32x32ピクセルのカラー画像という意味になります．\n",
    "\n"
   ]
  },
  {
   "cell_type": "code",
   "execution_count": 5,
   "metadata": {
    "colab": {
     "base_uri": "https://localhost:8080/",
     "height": 211
    },
    "id": "Fod_SRFR8KP8",
    "outputId": "24d9a124-99ee-41d4-b9f8-8d2b37d0bb3b"
   },
   "outputs": [
    {
     "data": {
      "image/png": "iVBORw0KGgoAAAANSUhEUgAAAXAAAAB5CAYAAAAgYXpDAAAABHNCSVQICAgIfAhkiAAAAAlwSFlzAAALEgAACxIB0t1+/AAAADh0RVh0U29mdHdhcmUAbWF0cGxvdGxpYiB2ZXJzaW9uMy4xLjMsIGh0dHA6Ly9tYXRwbG90bGliLm9yZy+AADFEAAAgAElEQVR4nO19aYwl13Xed19VvbX79d49PQtnIWe4jShSomhtVmRJjinZkQwntuUlIWIZAgIbXmAgkuIARmDAcBbYSQAnAWEpUmLBsmLJliIvkUQtlC1L4nCVyOFwhpx9enpf31rLzY9zbp3TPd2ze5rPuh8w6Jpb9W7dW3Wr6pzzncVYa+Hh4eHh0XsobPcAPDw8PDyuD/4F7uHh4dGj8C9wDw8Pjx6Ff4F7eHh49Cj8C9zDw8OjR+Ff4B4eHh49iht6gRtjHjbGHDPGnDDGfPhmDcrDw8PD48ow1+sHbowJALwE4IcBnAPwBICfsda+cPOG5+Hh4eGxFcIb+O1DAE5Ya18BAGPMpwC8D8CWL/BqtWIHB+o3cEoPDw+P7z9MXZyZs9aObWy/kRf4LgBn1f/PAfiBy/1gcKCOX/yFn7uBU3p4eHh8/+G3f+f3T2/WfiM2cLNJ2yX2GGPMB40xR4wxR5rN1g2czsPDw8ND40Ze4OcA7FH/3w3gwsaDrLWPWmsftNY+WK1WbuB0Hh4eHh4aN/ICfwLAQWPMfmNMEcD7AXz+5gzLw8PDw+NKuG4buLU2Mcb8MoD/ByAA8DFr7fPX2s/+5tcAAMameVsxomGZQpC3dbttAECSxnRMsZjvS7OMxpRJv6aQAABUF7BxH+0DnSsqikkngDunHJ9mdK44EctQlrHlyAQ8HvlBh8+vbUsZD8qojrtd6jdNqQ+jBl4AbXczuR5rNBU0u3Jc9eCPQ+NXfv0j+XaSJHzOzaxcN4Br7c9u+Kt3FfRhdEDBNerjTbb+L/2H/+pOLuNNtdm4+fg/+K//4ZJd+9/1y7SRyj2Yn50CAHTanbztwO23AyBuBwCiQBZbMaKxFQMZY7FA26GRsaYJrcG+WpH7kHGEAY07UIt4YXERANDf36/OFXK/vJ4Kcs4ko/EWNhHVCmpNNhpNOn8YAQBK5VK+L+52+a/MvVKu8LlkbP/53//bdf3fduCOfLtv9BD9Lojytno/PY+rHbm3jZU5Hi9do0wthpAnUQllbGV3zfX83O3mn6bqWXJtmWpz5whDeR0WeF6bLR3XZgoybt3fxuNKpTIAoFiQccPS/TZFOWdz/igA4LFvfPPSk26BGyExYa39SwB/eSN9eHh4eHhcH27oBX4z0OXPpbXydQdL1CXU8qYCDzUM6Uu3TqLgr6qJ5HPZYWk1yeTAkCU899EOVR+GpW0kXXXOhIcjl6lr6CuaBvS3q/elhvuSL7PrtxypcfCnuRDSwNM4UQOJeUryRbdw495aAi4EMo6/r5t63RL9JtIJCtJX5kQmyzdGiedOyjHQEriTyuS4y8UzbDbuyx3fVyWJqWDlvnQa1JZ1RWsrF6nfWoWkylCdxmlSJbXIKsXCun0A0GEp3x1XVOvEDTsMRcot8f6CkuLdtXFaqV7XjSZromp+UZHGayH9Fvh+RHyuYiSSctyhZyJSEnuFpcpNXRkYmS3n20kwSH1F8kynAWkRhUiuc6O1RmNLG3ROGQY6rKXHSvJthzxnJdx2Y9LWC/ygt5TzRMAaUaQ67nb5GhXkmlqnuXAfWuN3Gu46jZ+1H32vhoaGAAClSv8l/We8bUrKkrAm1+Zq4UPpPTw8PHoU/gXu4eHh0aPYdhOKzVh9smK6sCmTcKmoI1lM+4MKkwtKDXUmEU0kOGInsaIqZXHAx1H/SaJMHawPFazohCao0ngC0c9aKamFU/Nk6mh2RS1aY7axoAjZ/jKrYIqEG2B3ykqJTTSFON9XYJ000IQY/421FWEDrNLn/r7K5F1Nv+vMFXy8Wadrul2KrWM5osOmpDAStRIp/TYwm537MhfkCrjcXEI2YxWUGasYMPFdkLYSb5cDGkekTFydFpGCQSBzKYd03+NOO29z57AJtVkj69WRu0Ekpojc8qTMO+6iZmyuW2028z1zs7MAgB2jQ9IHd1IoarMbE8l8nZUlJzfJdFM5p7MUJNr8twHaBJXyGkg1gWtozuV+WQsjeyfot8tE1vY11/J93TYdn/bJ9cgGBgAA/UUZsDuvm2e3I4RvmtH5y2W5L25IeknkRKUzdyqy1s0524RXL4Zy/yqVMu/i5wByPTJnntUytLl2edpL4B4eHh49im2XwMOUyctAPn8FliRKgSK/HEPkpAflnuU4rUR/EXl3VKzmTTv2kSvTyhK5Ks3Nv5zvi0ImriBf925Cl6dlJQDp6GmSaGxpBAAQB0I8dFgyaCwv5G0XplmSKMuXOZ1aBgDs2UFto/1aSnOuhUr646knSqLZKD9qN0Vjrl8yzfu/GVJ8Pm7VF7thxkp8SRKa6/FXTgIAJnaMy+HswjY6PJi3VUp03bIbGOPlCNkiS9aZIrQD0JqMFIEWgfYXUpJ4i0pzMEHCx8t5wgKP2yiiPGP32DYdX1Lrqc1zr1ZlTebLXot/fBnW2MXxqSefznfFrAkM19+Qt5VKrOWpS5BrSZkjje0l+9a54/F2rkFvggQi+RZYj8zUM91xTgVKG6sxKVmv8rV66ol8X3duFQAwefguGdssXZuOkee8jy/SaouI0LKaS4k18sKIcpBgElO/Ujp8zcOYtaBYLtZqje5LaXk5bwv33AMAaA4O5G0Zu4imvAbKmbwDjKV3SyGVNROkXgL38PDw+L6Bf4F7eHh49Ci23YTi9GwTiurhzAGJMiMUWHXtslpbVMRimrpITO1PTf1qv9qH3vXDAICnvvl3AIALbEoBgEZC6k2Simp1+twMAODk+XN5W2lwEgCwa2I/AKBSEjWxy+pfsU+yPsZtImEWZiRNTHVoGABwfu0iAKCj1OGJfhpHVYXkpTETYspisFFx3YzEvNmRmNfqT+3urSYlEyaJ22vi97+0TPObniPTU6Vf7sEIR+sF6wieAo/nMqYiNdZrvQpFNtdZdc7I+fCmMu4AjmwnM0ik5KE4oePSTMwlYZ3ubWyFtAbvz1y0ryIK11aWAAB9KoeQI9zSrvTrfJqXmbxcWBESs8IMZFctmA6bBcKi8nvm9ZOl1G+SKD9wjoIuKR9ny2vWPXubQ90DRyyquacJm4aU7cKwiaNt6L5HmawFM0qmteaqzD0+eYzGq0woGXfbcP7l6vkqxrSze1aR6PGlsQZtNocGbWoL5ZTosOmzdXE+b+s39MybgVGZHxOmzm9dm9NchHagTHJh4dpNgl4C9/Dw8OhRbLsE3ilQHonlpnxBU5ZehvpEbKizq1ZoLyWYcjcgJYG7CKpmUwjFr37hcwCA6SXqf3pNvsKnz9Nxp6fO5G1BmaSANJAiFLU6fWmjKu0Ly0IwFVliKxVkLnMcuTe5+7a8rcXkysmTJIEvLCu3MkMS/f4xkTyilCXqVKSXjRJ4oENTs2sjMXPPyU0EAC11byqB5y5sLFEoaarDOV/m5lfztpUGXY+Wzn/R5Mi5El23RkvubV+VpRg1NifPX7WCcY2aSMnQGkuNXGUnga93AXQReRy1Z5RbHufiUUIrAhdlmypxji96wpJ4ou7s2uoKAOCMPid3aJV2uqe+FwAwzy6Dzz73XL7vvnvvBQBkahxd1iIqVsbrNIVuk8naUO5PzBpgGMq6jjkasdtpYCukKpdM5rRkLTOyhNrV7oYcnTywytdqbCLfVxmneSZWyEOwK6Qd3ZE3tSLWMJyErFxyG5zDxU6M5G0RE+tt9dzUWAvsrtLcO4rxDTnyNmiINhaOkHZgIplzyvlO+vmngZLwE3YXNQX9CvYkpoeHh8f3DfwL3MPDw6NHse0mlJkWqTcLsfj5Pv7NrwMA7jkoZoQfupdUnqHAkS2K4GQVqVBQvtZMlmju6+Rp8jNeaBEBmlUlOi3oI5NIYUjU/Qr7dLoIMADoMnE2METqZJ1/BwDTF8kksrooZpt+VvHKFSGiVhaJPI36ST2cuShmm9o0qc2TdTm+4lLXZor82oA1Xe2IVdNImTMstwVKp3fquHE2KO0XnF36bQ/cAToNaYfO67jMsopE68R0j6bmReWdWaTrm6mTuXS9zVXaNzMn1+/ceSJ/7zl4IG87sI/qiITKjJCTqS4Rlp7LJiai4DKyS8AmvCwWMrDAJrvW8ooc6ObO5pKgIo9Tke9VUWWWMtxf2pF+wb6/xh1nRC1vNOhc09NyfK3ex+dU95bToHbX6LhSJAT/7BIRoU9977vSR4nu+x0H9udtLhKz06RzVkOVeInH21VplVN3m9vqemyEugdp5qIX1XXnTU2ERmy2Kp04Qd0/+Y18X/IGvjYqLau19BwWV+XZaIPG2zdFcw9KcnxWozVjrEoiFdNv+0fkHRSdZ/PLGjkhRBPynOMs3fewLm3tWTJbBVVpyw7dTfs4EVZBke7FhAl+dU3ttVk+qc9r/4mHh4eHx6sBV5TAjTEfA/BjAGastYe5bRjAnwDYB+AUgJ+y1i5ezwCiAZICWvPKBatIROFCQ9qaXSIL60V2u9K5IPjLFQRCsrS7JMHOqiy1s6v09a0Nkhvf8JgQi42MJIlRiORbYMIjjoR0ajdISmyt0d+9E+I21GRpe1alHA1ZGlpZUFIXR7G11ogAClS06MwKXcYLy9LHvlHWMC7zhV5uiZbQVyXNJQh10QsuIqE+2S7C03k3GZUHRud+yJEXp5DjLk6RhDw8TNpMWUWcdto056pKmbljjDQpq8SzRpNuUo0llW5bpf/kSa915EYmLj+FyhuS5eKLS7cqwzaXbORKyqYos6RklIukk8BLSurvY/JrwJ1zWfJ2lJgQK6tcPIbd/AptIf7yJP+ciri7IvPsr9G+oeHhvO3kOdLyXjl7MW976cSXAQCLc6TprLVlvTZjqrESQtq6DTruNXceytve+6M/AgDYxeu5XdapdBv8u+m8rW7pONMSjXUjIlW8waWD1ppzxvc2VGlt+xbpGiXnaF3VlTaxeoHm3C2Ly7HlyGlzcSZvq+1kArJu+Rh5NirsvlpcknG3Oco2mZvK24p8DRN25SwtyDnjFruZVkQrXDpJ9d2LFZHA+yfp/RKwn4NVD3DHkddqDXcvtyi3wNVI4B8H8PCGtg8DeMxaexDAY/x/Dw8PD49biCtK4Nbax40x+zY0vw/A23n7EwC+BuBD1zOAO+97CABw7lvH8ra+AZLA3/Dmh/K2anAaANBlCbigbK0mIkk5tWLT7h8nO+nTz52QfgdJ+tu1l/IW2IK4AEYsZWcdcc7vclEIfa6AXcVeePZZAMBASfZVayRJV5UdbOoiSS2J+roGLFUMs517aUnsd4sLtH3qotiNd01Q8FBY1O5n6xHWxS0qZftorKVoHre2wzm7ZCG3Hyu75yaZ/pyArnNoJFxmS3JpiOQ2yK5YsfYB5MIT1T4JgHISuOHMfUadoFThNl3qjv/T0UPkNvdTXYrL3aF1zoSXCUA6e+o0j1uu9+oKrbs0Fgn5/PnzAIBFXgONNbEHj4+Q1NxXU3lMuBhJV2XwC4u0BgqsLTXaoqm1nRqh3P3OXCD+5OQ54QkaXVpPpQF2ZaspLYH/VouyFi6efgkAcOGCSNSPf+NvAQD3HKQycWOD4jrbWiMptLEiz0Z8950AgLXlrRXvUlHZql3BkXX5VFhzyeTOrHFRlrUH7wMA1MPX5/scRxIHKouoe/660m/EWQAb7K5ZUBpjzCpopJ6NFquiWudssV2+yZp2rSL3sc3HlxT/NdxP9vNUvSvW2N3QLcBKrErd8ZjU1BFfR26f67WBT1hrpwCA/45f4XgPDw8Pj5uMv3cS0xjzQWPMEWPMkab2lPDw8PDwuCFcrxvhtDFm0lo7ZYyZBDCz1YHW2kcBPAoAOycnLtERqgOk+u89IIQKB4Nh736paj3KavjSyVMAgFhHbyWkqj/0NqnUvucAqV77X3M6b3vy6WcAAEN9ZJK4MDOb7wvZrUjXAszTdDaEdFpiF8HhWqQPoXGwmWRsTIhNpy7PLYpJxLB7X38fjTtU9Sy7THC9fOZ83jY2SKaZg7vF7LARH/1fn5T+nRuhUuf6+0kFvGO/ELdvuI/cnHJPN02isDpn17GBtN1R7oxDTF5GuauWHF/k2ovDQ6KOO0U1VDUG8yT4bFpqJ3Jvl5jUXVKpO1d5O9YCAbtCjrAr2ME7xEXO1YBcd7MK6wwq6/A458pxdQ4BKRbSbomJ49TF83wcn0eJQ0NcaKCmCgeU3HHKlTPk61bgdMZNRUCGXO1eFxSZWiCiNFbueNV+5/5G1y1eU+6PfD86bSFY6/3U7xtf/5q8zaVAbrPL7JkzYho58TKlXW4pl7fT83Ttm6rgQrBBHKzVhJxPuMp9nAqhCHYZTJQdwbBJqTJB12+lIXOZZZLYKHLURY4WVRRsd4mJUDbrlYpy/Ior6KByDYGjITMVidlxa4tDWJdbsibZaoiqilbt300m20Cb9VzdSycn69oN2MRsqQjyq8X1SuCfB/AIbz8C4HPX2Y+Hh4eHx3XiatwI/xhEWI4aY84B+C0Avwvg08aYDwA4A+Anr3cAQYmIgPPTL+RtD7yeks/XBuQLHqxSRsA0cZnUZOgvnyXy6C1DInWhuhsA0F+TL3g5JAm2wm575aIQE45c2bVzMm86ypJHUR23wvkp9u0mjeHQXffk+xYWuHhDXSSK8xdJyjeKNBnkbITLLF3q/CEVDi5qlUS6PM7zqxSl3zHhLOn4pkg2MbsUhqFcozUWYKuqLWUiqs3l7IySwMssCWleJXVSuSKF6sNEOAeuTc2zy9c0VGSWIxu1rOEIx1McaHV+RhS6hXkizlotuR5ph/NwqJwpbQ422bOHgqNu27M731fLJTAtgm8tgT97nMZRrYjGY1nj6ySyngaG6CY4sq6rCMjZNZcfRV2rMq27RGUcNJErocdrLBRirNSgcXdjIUcXFxx5eWmZuphznKw2VOBZi9r2jAnBPzxEeUMaDdFqFhZpnY4M0jgefO29+b6zU/TsrbTk3h49R/dFu5vuG15/TcNI/l/pp/W01hT3vZBVv1Rl4QtZkyrwmsyU+6MrkhGqc7qtuKsyMLIWHbJkHalgqojb0kRWYNe5DKprGlWYZEwvzWoasfYTJUrqZ4ZfZzQspy51JJ9Lu7HyXy1Bm+uQp6/GC+Vnttj1zms+m4eHh4fHTYOPxPTw8PDoUWx7LpSoTIRKR5E3nQ6ntFQRitWaI4WorRQIkdbP2dY//uhH87b3/vQvUR8qeqxYYr9Tzl2x/8CufN/MAkV+LawJYbljnMhInSC/w4n0D9xBBOvtdwj5uvz0UwCAxqoQO46ESVS+hyabOAY510pqRa0cGOTCEl2ZX1AgNfjclJgWxu7GOvz0T/yEjJEJmJrKv+JIk4oidJxL+PIKqeg2kXO6GqGh8n+1TL61YjnOZi4PDauVijgN+fhIqdIS9ql8c5lsajM5WlM5JoYG2b9WXY8ymxuW5sW0cO78KQDAHUx8B0rNdqafQKfGvYzL7Qqb6awmCtm3vxLI9di9h3ymYx7b7EWJjpxj08/4hBT3KI4S0dVQhUTSgsutQ2aNUklMHW2eciuReZZr9LyksSIPXf4QJjsj5fMdl2kOD73ucN52aO9O6r8ra/3kyzSvl4+RKfNNbxCC87Y99JycfU4cAhI2D2SpTmysHAAAFJWZs1hmotDK9atEtJ2otL2rKzSmlGMCygMShTrBc4ci+6Tiu9zbgA0rrghIMdwkqljB8rOZKBNbytVTXNregkpUUnSvTRWc0OE6qjpeIXRFL1zhD73+uD6mjqkINrLAVwEvgXt4eHj0KLZdAjfsQtdUrk8tliAjnQdhnr+6AUmVkSI3JgfpO3T8qERdXjjHFeeb4o53+hxJEA/soAjPXXslWfzOGdpeOyFSxlCJpL++QXELfJkrp+/cSVLJ0opIRzF/yS/OSsRa5sgN5SrYYgm84L7aENTYtRCZSjhv6HrE8xexFbJYJIRcAlH7+4rUb6Us17TV5rwu/NtTr8jcHXF72/69edvJs6SlfOGvH8vbupwBsszucDXVf5Wl98G6uBEODhAx+MADIuGNjZLUeftukgx1YQQnRemMkI6cao3LNdo5Sfdq5y6SZHUxgWaT1so6jeQyokvExPrY+M68rVSkH8zPSXm9BkcFu3C6toqwHOBCBLv2H8zb6gM0z/qoxL3NM/GdZTQnxa2hzYU/tKteN3Zkrqx/565ZLtE9jqzsG6+TljemXDnLrBGNDcn6r3Mfc2coM+bpl0/l+3YM0/pfnv5W3hYxed0Jtn6FuKIWABAYGlNZuQAuzRAhu7Am63qWCdOhfrq3h++RdRJx8ZSOkpRj1gAKOtLZ5aZhba+gMjc6KViXAkxZFV1X0Sx/nFxfap4uQFb1EfL5C2phud9ErE1oRdRNoaCk7vQyrq1bwUvgHh4eHj0K/wL38PDw6FFsuwnFRf9pkmDnKKlPVaWOP/YcmUSGEzru4LCoYuUSqVHFUBINzc6QqSPrLOVtt92+DwAQcL+VuhBGoxPkNzy/IITi0gqpq0obx/gYqb8uTWxblft2UZettozDqfKJ6qTdcZW/6fs5olRqw+kli0ZMBiUXsWaF1N2IP/u/X8q3LZOMRqnZfUwI15U5Y99BMgONjZDJYGRyT75vmMdUVsmYlo6SieW7R8WM0GI10vFEoVJv6/zbO24TM8ybHnodnasmPtY1VsNdQF6srmnCCYmaKhIz5tqglaqsj0GOVp3m5GFzcxJJWOFxTOwQk0G1KhGSGzHESc8CHSHLxRu0r+7CPK2tlRUycQTK5BcwuXvmvErByuupPiCFA0ImRRtM4htF6JUiPr+KaKxYF7mp1G1+dqoVOi5Sld/3jJBZRSezanCK1KQpJKYjdQ8wCXz0xZfzfYcO3UUbirC8cIFMk+UhIRmhfM1pLnKtQi66kikzwSonp5qdFRPK4iKtrWPPfYfG8ew3830H7yDf9H133JW3DY3yPVX9pi5hVu6bLRByW9W4zAubqKrx2cbCMYokdXVJVb/OnGI3SUiVk6Rqn9vS97vd3bpgy1bwEriHh4dHj2LbJfCIIwMH+oRgGuSoLaNybqxakiTmF+lLONovEoWLtEsLInGevEDS4o4hScS+l7/gzj3riSdfzPednyKJrb9PJIooImL1+RNn1Yjpm5fx346SFtfYZdDlBwGAlKWAqWlxAaz205gidlWqVEXCKrqoxViI0LRBEtPE+Na5UI48/b1820WidTqiTRSZhHvojW/I206fJ2lnnvPYH75Xou+KTEA2O8q1kEmk173uvrytzZF+EUuLh1SZrns50nPnqNyDepXubdaWfs9eJLe6mUW6B1NzkqOmwW6dS0uiSXU4pes6N7USjc1F6saKUKwO0nU7rGSmgQFVImsDnCTdUJGeLkIwCEXKTjg1acjRk5kqiFEskaYzMiqRvX28xivKNTPkcYcRaQQ6ytWyq16i3DsH2MWyoBi3jLWU0EUvdoT0HOAELDbRWiFtd1W/LdYA3No8dVHS1b7w8hcBAJ2ORMPGbbq+NtBU+XoJXMNJreWyzP2uO0mSvuNucedtrtKaef4pcsl96ogQp994nAjWoy/IWj909/0AgIN3il/t4BBpOG59BOuIVnd9003aFDnKUnyWXCoVu+jM1Ir869IvX46G1AVCrEvvrO5j4kuqeXh4eHz/wL/APTw8PHoU225CcdFxk+M78rbQmSlUdObkblLNj1w4BQBYMhLhZgNSs+ujooMM1smMEJVFVd53B6lZNU5h+/GP/VG+r8nE40pLVTphP1yV/wk7hqjf9gKNo1ESVcypty8eO563TU+TOWBFRWcODrLZqEbHh4p0ijg6LmheyNtGa3QdBsuqjiTWY/ac+HAPD5Equ3u3XKO776OI0WJJ+nj+GSKKxpnU7TMylxmuD1iri/ljpE7HvffhH8zbCpxydYDTp46OiAlqgRMvnTwt/vnLS+Q3v7Is5p1VjnRd5LS9iytiLomZkNVpfoslV7lH5I8BTiDmIjeHlLmpxCaqYkVMVWstVSx1A0bGyOyRKt/6fq6ukqWq3ilXdJpgf3GjolCLbCoolsQ0WC6zf76KDHQmkzxzrTKhBNzYbMi1cmR/SV0Py2p4c5nMbudOyfrrY+fjwYos4glOuVsu6xqybBJhE1FUFbJ7lutT7pmU9dTP1apWOjoScz10elbnE63rQjo/7UD5hg+OkDPBW99OJPodKi3wN77+VQDAqZPybKw9zc+tWjOvue+1NF5OaBaq/lNOVZyqsblUwVbTkmzuMMb9lV0uMZ0mtDO73vecurB8rktTx7qasNrsll7Kf14RXgL38PDw6FFsuwRe5MT+9SGRwJOUhlVSVdUPcSGCI0+SZLUc3Z7vywxJtzt2yZf2haOUlP/N/+hf5m1/981vAwAaDZIC466QZdMXnWucfNPWuIZdBFXAoEBE264KSUXLsyLtJAFJNhPj4ibmUoe2VNX4FhcFWGOyLM5UpF2bxjEWSWTqrj6SlDqJSH8bJfALx57Pt1dYE/gn//hf5W0PP/wOAMCXvyLuhmODdNyEy/OhXNNcZfaJAZFk+7nAQKkqRFTKUouTNGOV8+XiMXI1OzMjrnRdLswRlmvSbz9pDOPcFm/iThWpHC4uZ4TOHdHfT3NwbpKBSjLhyGWnDQFAW6V+3YgqS59dpQE6d8qhurh8ZnlqY1qnFVUjMSepFMmXcW3Lgqa6eAqOD9NSYJLQXU6U1L8yT4SvfnAjlsBXl2l+UxdEQp0Ypvs3WBPpucnSc6bSrCbcoyNOd+0Wl9I7D1L19fvvkSrsL71CxP7T3z2KraBTKDtNraCKIDgSP1WRt4bJxQJrGAcPSSRmxm63U1OfyduW5miuL3XEzXT6PNXXvf0gkaR33yuk+7irL6veLUlM54pVIZGUNR13H81mUZLK9VlysSgJ3G27iNB1np98n9dFbq7PJXM18BK4h4eHR49i2yVwl/tjaFTyjST81WsX5CtZ7iOpaIAz+J09K1LdW9/A7oFr8kWs9pPb3tR5CTo5/qAyDZcAACAASURBVBJV43bBIbpoe3OFvuB9I+L2tbJMUlq9TyTOOw9RVrfvPEsuiE+/eErG8fZ3AwCiotg9T54gCX1pVSS+jLOUdFokee+dECm3wkEbI8Nig7QhB/JsXZQerZbI5IdfS1LLO975jrxthPO5vOUH3pa3Fdge2c9Z4VyJNwAI2J0xVHNxySIypZEsLJJEWOfshZmSCQ7cSfdlfPchdTxd5/5B0VJil++e7YG6Yrizo7ZVLhRX4s5myoWTg1LOTtE91qXPYi52ofOjVGuqyMQGNFhb6lMFHZwr2rTKc7O6THbXlLMWHjx0Z75vkPOHBJGWLuk4nZmyy9ktm8x9tDoy7qRLmqJJVfbHDtl8+5RGMjhIvEOlSFJ2pFItDrL2NtAv9u4u99FU2Ra77C5a4MCSoQFZf1XO4nnurPAsLDzj3jsl18v0lAT/UF/ans/2bjU2V58kU7lKXGCfO6qrtLHde/YBAPbt25e3HZkmriZV5d5mZ+i+zLJ0fvToc/m+/RyodPvtMu6JCeIw+vuF7wEH1LW7rCV0pX+nDeqgHVeURMfx2EtSXsr/zWZBRtchT1/xF8aYPcaYrxpjjhpjnjfG/Cq3DxtjvmSMOc5/t3YC9fDw8PC46biaV34C4DestXcDeCOAXzLG3APgwwAes9YeBPAY/9/Dw8PD4xbhakqqTQGY4u1VY8xRALsAvA9UKxMAPgHgawA+dK0DyLjG4MCwEECNFqm6TeVX40gpV+vw+PNCHi43SSXtq0nFdc61j9Mvidp3/jypVG96M6WTbag0nXVODzu8U9yWzi6QmaTVUcnca6RoDIwRyXN/v9RenGH1+vRplXKUo/mWlsXEMT5Kqu6ApfHs7RPz0XidiVMjqnQ3pu2aUkmFsiEcuOv+fPv9/+IXAQDNVG7vsROUbyIzKocMk53MK2JhSYWCZS4PjJguHNeUQdpWXR6QaVJ1L6h6lq4wR9YW00WtSmaaV45Lmt9XOIWpc8MbGZU0sR1W91dULpS5OTLbWGUSceYgw3/7VOrYgfImqXTXVEX7DXAuegtzMpdX2FSkr4erbTo5Sfk4OsrGFXep/8yKmWeFzTxNXd+TIyQDNk/p2ovOTFKuyVwqbJJpq7XrogBrTKLqwhVFJlE14etMAG1F2pnAucZRX3Esczk3T8R9oyGueiG7G06q/DkbEZjs0m2dL9flAVnnXrch94jaV+b7V+8X847ZpECIM20Yvvari3Ifn56j5+D5Z5/I24ZG6Jme3CFz2TG5j89JZpURZVodm6D7bRRR7irKJ5nML2GSM8/Nol0ROVeOXsM2u/ZQzGsyuhhj9gF4AMC3AUzwy9295Me3+M0HjTFHjDFHms2tHxoPDw8Pj2vDVZOYxpg+AJ8B8GvW2hWduetysNY+CuBRANg5OXGJq/oqFymoqExurryayRQBxITA2DBJZ8cLr+T7phdIspkLVCBPH7kl3nVYvtavnCZJz5FmS6pU2qGDRG4c3C/uiaemSOJ44XnJvTA/x0EhnPR/WLmOnX+e3JemVKkvw65BQVkIsck9JOXfxpfwtn4hScucBL/T1oEGl7o5bcQ//dmfzbeHdpBW8Oz3RBPocqBGV33lUyZTMyazNs0YoQg3R9Ssr/xE+7tMIs3PC7mcsNujit3AQJ3Iy7grgTTz86ydsBQ4N6eqqnMBg0S5YaZM/AUqF0qlTIR3iQdXSIQI7eZ5VzSJKdd8I5YWSZO6cF60hBqTy3fdIy5pw6xJVTlQqK2I5AXO6xLHMs8m5yqpKjfMQQ6OqnFBDF3yLuRnLFUkZsJSfhyr7Ja8Ztw905XiU9ZiY/XkhVxgwGZyTdsd2p6bJU1jfl5cLl0Qms5H4zSpcr9ojxthrJbA6a9VwWJOQtZSdv5eYfc656IJAO01GsfURXGTvDBFJObyshwXMeFc53tWU/lXKuw+mCnJ9wIXkThxSt4prRYVLUlYUh4dleIeh19zDwDg0B0isY9xltL6gGiPpQpJ7xZ8fvXs5YqIUesU146rksAN5Tj9DIBPWms/y83TxphJ3j8JYGar33t4eHh43HxcjReKAfBRAEettb+ndn0ewCO8/QiAz9384Xl4eHh4bIWrMaG8BcA/B/BdY8wz3PZvAPwugE8bYz4A4AyAn7yeAbxygtSW2w5KOsgyp4XNuirvBKtBLh2li7wDgH6OvrvrLvHD/fIX/xIA0FiWZPHVYSIfjp8jZWGPijbbf+frAQAllfj+di5EsLwgquMLR4k8deTUuSVRb1eYfG2nos6tLJGZZlwRJKfnOe3sHlKx5kvKJzlj0lOZS7KQSKxOJur4xnIEzzxzJN/+7nfpNhmI6ujyTYSRagvdNpt5VNRgwOlnK0r9DJncK6rxFthPPLC0r78o3qQFNjPFgairndQVp5Cxu1wlcZP9kxtiguowyVdQpJpz4O8qkjvlaMvmKpkCKsq8MsbRpKEyXThLxWYp9Ie5nuWQKrThrk2grscKp7pdXaOo3FJJzB+OBNTpSHdxhfpSWe6eIy+dT3ujLWu+vUL9Li5Kfp6FBTJttFpCYt59N0UcRuxbv76AAdfrVOupw7lVzl6UNMlznMI390tviDloeYkI5KJKy7rK5ozHvvKVvO2trxPzIw1E5p45/+5EpeNlE4tyR4fJzTtsrlO+088+9SQAYI0JZQAY6SdTztkpMfnU2Ye9yMUyMhXBXO/jqMhI1nox5EIYJRUHUaD5z/PcT516Id+3tMhRqEdU7huuIbt7j0Sr7pokp4rJnfTs75yQd0Ctj54TU1H1Ogtbm/W2wtV4ofwNtk5z+85rPqOHh4eHx03BtkdiPn2CSK/bDkuhgYwzfRhN2vEXeYXLMC0tqa/wMLnQvefhH8rb7n8tSeOf/uyf520mz5xHX79dO8UFsI/JtSARyWN4B31hd+xXUjYn43/qGZJyp9aU+1LE0aI7hMgYvZ2kbJF2pcjDS1wi7eWLIqEWme3RZdkafBkSJar8yNB6Pvhvvi45TlzJrFJRou/KeVShyiliXWkoli6VC1vAWQvL67LpkfRUVFnswirNtVzkPCkqn4NLtWFUFkVHRscdkahdUYhcalXuZ67Wly7VlofQKol3sOYyPNLf/opIeqWI+isqidCkW2cjjJlUKym3Q1d4JFOEW8GNzRGnSswps5Tdasg8m5yBsSnJBRGxplPga29V2bIXj1J+mzOnxBXWRRFbK2tmcpJc3IY5I2SrKeS8215cFC3SRc+2uooY5vM2+filFdGCCnztqyot59QUEYkXL6qI6A0SeKzcKl1EpUmkDxf1qZ3nLKjNkZ5ra6JpuHVy1yHR1l9//4MAgCefE0eDbx0hF8El1spSVcxifJLIyLe+9a15W8j3+dRpuc7f+hblUjp8NxGWdRWZ6sr2TU/L3N3anZwQd8P9+/fR+dkRoLEqrrBuFUWhSP2+pJqHh4fH9xH8C9zDw8OjR7HtJpSXlkkdn0tV8qaIiauuqH2W/TGdj+vkpBBMP/jmBwAA5UjUz/17KbLyR//ZT+dt/+fPiNicvUiqzIVlUd7abSo6UIT0sdii7ROnp2TArObYMSKOhibEnOD8pI1Kj5mxuSEzoo7HTL4tpxxpF6mkXZzStaEiMWMmD22mVax5aIyPy/WbahOhkyZy/eojZOoIVSTm6iyRY8srDR6XqLyZU3/tJtFhan5Rhe6DMx8lqn9XOb2mTDnOZzpVNSvzTPZlNicUxRZRYjJSR1EOc9KtPcoHfxcXG3A8ZaetTACWTAWhipwbrJNpaE047hwvvUSE1b2qRmjIJpFMRdq5tLCubUZFoa5xcrTuuqhLun+pMpMc4IIFY+PkT60LDRTZZ3lQqe+lsiOcZbzOh/voMYpDaKgCEG2OZNUxBM4M1FiV41x0aJOjRbvKxFXi6M8zM2K2XFpa5LlsXYXArouwdEUNZL+LotRxBZmLzuRbVamKCe8H3/4O3qWr3dP1OHS/mGAPv562XblJnb53lJ+DAweEbHT3dt9B8fHfeRuZYCsc0Tug7oGb1sKCqlvLZpLxMUmL3c8RowGbngrKBJqyQ0Ks7G7ZJcmvrgwvgXt4eHj0KLZfAl+ib8jn/ua7edv9e+kruaMoBv4qS6GTO+gLNzkqX8QDB5iMzERqmJon6fJjn/qLvO3JZ0iycpGe6wIbrSORpI+0RMRfqok50Bc54UixpKBIPnc1VZmkdpeJQvWlDZnQDFjasm0ZSMKUTqS+1gGfqxtvHf1qY5HYB6okUaypFKxxStLWXXcdlt9MUi6Pmbl5/iuuWGvsPtVU0YUuHaviz9AXEnF2530UyXpBSXWzKySltTrShytmoaWiEqeurfE9HlS5P8bYNW5y50TedvsuWgMTJRFD19j1cH6BpGDnBgkAtRrNs69f+h3h/BcSqyqI20SctddEgyk48lCnBGW3OucqePz4sXzfKuduKap0skVXgV6JnBmH5BVcSXIl0Q4P07g1OdpsMRGq7su5s+fWHadqBMByqtamIixdRGVjTkg1R9ImPBed06PBc0lUil5Jzbt1/o6W0j4CzpkTqkruXY5MTVSEbMLXwUm0WuNxkm+ioigNz6+rUgvvvG3/uqGZTC5ggYn7k2cWZZzdlPuS9dQ/sH/d+ReX5Zwhl8Sr1ffKZPmZX1iW63xhepH7YFJcpcd2AaamT9ZHe1F+e7XwEriHh4dHj8K/wD08PDx6FNtuQlljteLLT72Ut730Mg3r3a+/J2+7fSep6idfoUjIt71BTAFlVr1XY1GBPv3X5Av61AuSkKiZsN7CqTALyu/ZqTnONxUQs0eq1LgOq2Ou9qNRvsUdXFqpIwwvrd9YZRNHkVVHlS8qrw+ok0glTPgV+6WKDTAHjXmVeCnjBFAtpe43OGXrsKrQPVYmEjBiE0dFJQNruW01d0kGpfptkfnlBx8iwu/w3VLD8MwZ8qudXxJ11aWHdX79ABCw6lph1mlMRTsO1mp8ZhnH1Bz1e2xOGEjDRFT/OJkdqnVVUYaj9YZVmtq+AVV9ZQMqfM+6KtrRkcvr6jw6/282k/TXJWFZmSP9+moquo+J2KqaXxKz+eVFSl28rIix5QadP1U2q4gjhbUZpsT6uHHV6VU05wz31+yIeu6u99CArKcum9uaHFWaxCqJWboZkX3p9diIrz/+1Xx7JXkWAFBTfs8Jr7tEEbcxJ+5K+K9+lpx5Rz+PjiBsd6TNEauGzSVRKAT4EFem6uvTFaHYfKo5RDc/V0lIVQ0ybKMyyiTiamwWzKXHuX7XhTdwUi9TVTUx2fngWqRqL4F7eHh49Ci2XQIf4ZScC4vy+ZviVJzf5LqTAJDGjjCgL93Yjl35PsM5D544IkToX3zlmwCATiZf/FzyLlz63UrZbcoqydDVY9RSgIuijJjIMNqfK+A6kjqnCBNdOneL+5oHliUKRexkLlJSST2TO0ha7K8rqXH5xLrx79gpOUjOnSayKekolpa/+CePiaazzO597uwN5abY2MTlzUneBcWqdTsksT39t18EAPxQTeZ5mOfZUpXts4TOqaNs20ywLXOxhJl50SZOvUjRbvMtcQtsR3T+CkvbADC4gySqcp36DyoiHVXZBaxUlbWw7r5tgFsfaSL3wEXxZqogQcpzd+6BOlKxw1phqyFSfGeBohfP6GIMfB0Mr7EoUoQ5k91RWUn9fAqXHhgAVhdJ4m478rUtZKO7U2W15mMm8WNIvy2W2luctleTh87dL1HStmWptRhtTayXI3EfjQO69gWVIrpaovWcabfbzBXmoH41aezyxRgl5bqI1NSK80Hu3mldhKxOr+uOkeOjgFM4Ky0l1yx4eolK3tNlrUlrQQV3Y1Sa7Y3vmXhN1rBlrbqllmEpIMeLybGrr07pJXAPDw+PHsW2S+BOWo1UQYekTdsnp8XNqdMgF8C3vY4d7AdV9Xgu2fW1bz+Zt7U4W6DOx1DivB7uK++CFjQCJQ3kH1OdOY8lauO+uMrF0JRI4qiocl4hS2WxClxZ5UxvKUv7HSXpDQyRjW7HpCTK72P/xJZy0duI2w5KObkVtmM2zmk7OU2moyTqBZbyiyyJdZWdWSSwS+2fBeWW5fYef/Y7AICzqyLFj7GL5ToNhqWSNVXl4SIH2hzniuznEpGEWlWae98eSag/sZ+0sfKgSPa5aMrrqU8F+VTZNl1QAVPWbC2Bryyx3Vjlrpi5QL9tqxw1LseGy4MRK6nYzbmggoeiiK6p40VouGzTZpu5dhl09mCdT6XDduPVFbFzu7oINS4Mou21lm3ZnYaqds8aw3JH5uIkb2df1nJ1Zi8NMHE2X5Ntnb8jUzlIGg3SqiuByqPppFslRyaskbhCHrFaC+DCFdaqAhd51kd5bhO2gSfORVNJ7G4uWjjOLI2zq7gD5ybpjteauZR9y1SbC+JTeX82nDNQuU5ivgfNQV3ohbYn4SVwDw8Pj3/w8C9wDw8Pjx7FFU0oxpgygMcBlPj4P7XW/pYxZhjAnwDYB+AUgJ+y1i5u1c9WyEkhTeQxKdlVJMv0GqlSTx0jIug9TVFpVi2ZDC4siomhzCp00lSRTkxSuHwcYaT3kRq1zk3MODckOc6yycTyty8qiUvYGtcp7KqUtM6cos0IzmTSYDKpb1DMJUOcS6GrTD8vsotZpIilB8SiAACoDwmhN7aDiOEpZULJa1yq33S4P6fYZToi7jIRdtm61K70J2YVvDEr0ZyFMqfoVarpBT7H0xD1+uWQr0c/qde13eLiNbaTyGpXZAGQKu0dTXBxzpYyk8tBqIlk16bytARbyy4XT5Orqq4S7lRqHeUYltiM4PguXQ2eTYJVlQfG7c90bUQ2Gayt0V3Q5GTGhHlB1ZHMOCK0qKKUJ3bu5D7I5LOi3DYTl7tHFZZwuUSaXVljbhzuOuqJullFyu4Q8H1sNrY26509KyleT0zRuWqqxmXI6y9dZ7DhiFDelykTTZFTHGeqRmjMxGaqLTkbXP/0PctNVOpeOTNnpswkHa7Z6lwojbJtFdjMalRqZvdTq3IH5e6DbqyqfEg6RPdv12vEVbrubuk1FMe8Ggm8A+Ad1trXArgfwMPGmDcC+DCAx6y1BwE8xv/38PDw8LhFuJqKPBaA83uK+J8F8D4Ab+f2TwD4GoAPXfMI8k+XqmDNwSaZVe4/LPmenCFXnI99+q/yfe94O5VDO3lBssE12M0pU1J8xIEUAUsBVSWFFVlSbq2Ki5cjHq0iGSOXDY4lPE1OOklPf8lb7DKm29xxgyw1j6gk8LOcw2VJBakssUR4x4H92ArlskhkJS55Fql8IM4lTtNRSf6/TaTtbBMGNz9aS0y0vcZS5YtdlZOFy0wdbct9eYG1k/m6SKYjt+0DAEzuI2l7YFK0iRK7JWritOtIISVRhyzxhnlQixyfS89q2IXLkJhBRnPQASxOU9TSXFogiapgw0v673DBiETlqHES9XrXTB4/zyVSEmpeBk/dg5Td2coleXRLXLxiYZ7O2VBr2EnNga5+zpposi5boAtMY9c7df2ci2NZaaJrLs9NQ4jejShY0U7dnTKp3LNcQtUXjgPICix5ryvzx3PQCTKdW6JVzgfuRljH7qrjs4IrwiH9urxGsZL2Mw7SsUy263PaXBNRbqZ5YJ9yteTgr4TfFXWVz2fXaw4BACIj93vpJdZYJg7hanG1VekDroc5A+BL1tpvA5iw1k4BAP8d3+K3HzTGHDHGHGk2W5sd4uHh4eFxHbiqF7i1NrXW3g9gN4CHjDGHr/Qb9dtHrbUPWmsfrKrcvh4eHh4eN4Zr8gO31i4ZY74G4GEA08aYSWvtlDFmEiSdXzNGBikaq90WMqTRYqImkBe+SzNZ4KrqX//Oc/m+kxeI2FxqiAq0wKRn0hUVr8Z5KVzuhZKqru5U77Ly4XY5I0LlP5zyNy9hk4jR/qEuKiyWcXRjUmsrZenXJZUfGiXTSawI3A4XMGiVlM8yq9cNFWG3EYlSyxt8LfsHZX5t9iXWBQNSVh3zDKYqlanwZpdG2lmVLteyX3yTo9m+oYpwnG7SdZivKsJoB6X+ndw1lrftG6Pt0QG6LgUVzbnG5oO2Snbv/Kh1kYdylX4TstmmXBETTYlzj+gox8shy/NwSJvzPbbKlOPckZ1JZJ1hyUVzBsrExmYeve7cGisErj6pOqcj+ZQvdMopXbsqv0eLU8s22P8/U1Guhtd1W8U8OEJdLbv8vM6aoccR8hitTkk7RxGycXfrFKi6FmXKx3XLOrcJs3UqOtO582dss9B+8V17KbHpCOF1ZCdHsDpzlybnTZ7DRfrNnH+2MpkZNo+EebyHHO9yzkBFfxYDZ4aR+cVVukfDd1Kt0F37pAZve5pel6+8KNHmlZhNXzfThGKMGTPGDPJ2BcC7ALwI4PMAHuHDHgHwuas+q4eHh4fHDeNqJPBJAJ8wZJ0vAPi0tfYLxpi/A/BpY8wHAJwB8JPXM4A2Z0ErqU9JhyWgSEVtJcwNOAKhUBHS7tQFzuKlItyS2EVj6bJpTPJwVJrOVVBiibdWFCnNuQAWVNSgq1ReYYlPu33NLhABmSl3oZAzHg7VZbw7hslNbmIHkXVLDZFUnAvY2rJIsgNcfGBuRpVRO6gi2gDEqsp6UKS5D42LJBu3OMtbV7mw8WbsXLaUj6Gb8jqp0pFD63zpQv7DEkhVxtUZoHHfPiDkzdAw5SWp1WXp9Vfp5pY44rSt8o246FCrpOfAuX9q8ou3HQmo3QgjjnJ0eWkAIe02g6sOHqo+rHNNC7W0SGMqMNmoib+AJbd17oosZRsdKckSpHPjS1VhgphvkHbDjFeJxE8LMo4ak5J5cQhNprJ7p87+6LBZhKWL0gz19eY5LFwUJTvmqNlNFDSBThPEOVMKkZwzYpIPqVYF+Drzj3X31lxKJJdZYx2qS/Siy4XiNCN9TQOOjC0pDdflOTHqbE6yd5GpqytCDLucLFkofSzz2MJRGcfeQyRJDw2RZnn+xZfzfXMnTtLxSnMuFy93MTfH1XihPAfggU3a5wG885rP6OHh4eFxU+AjMT08PDx6FNuezMqpeCWV9KfqiIxYVEfnXpmx6pspx8zMEYtdRSimjo3RJCNtO/VIm1AWF8hksZDIOetc/XxgSNSiekBRk2UQUeKqSwNAyGpUoHx0O2wicgUB9HFpc5n/Sh9rnEgpi6WtzOpeO7yM77JK6zk4TKaTvqryo2fTiU7U75L+uCtU0Im54KIAdXpMZxZQc2FzTZXHptPmTvQRQV0rCYFbK9J2qSTn6vDmKvutt5Ra6YhW7YPsEopFRSHyChvMEzry1Zm5ikVFdEVbyy5RyaUdVmYYRzZq84cjxPj/64qKs8nC6gKibOZKdcpiNp24wg5dlfDI1Q9NVS3KhOtM1pRpsFInFd1FXcZt6aOwiVae+12rcTj+2pmWaspPurFMpsGVFTHrSf9bv0IKiVqvXHdSE4qWTY0B5H6H7DHu/NEzZf4wxiWMUs9+h5NCNeVcEk3N5je1FjKOlm6r4i9urWsf7vymWteTCvXkcaTKPFYfp/fC2CGJ1SjwtTz2BCV6aysTaMD3Xfujb2bSuhK8BO7h4eHRozD2Ot7614udkxP2F3/h527Z+Tw8PDz+IeC3f+f3n7TWPrix3UvgHh4eHj0K/wL38PDw6FH4F7iHh4dHj8K/wD08PDx6FLeUxDTGzAJoAJi70rGvcoyit+fQ6+MHen8OvT5+oPfn0Evj32utHdvYeEtf4ABgjDmyGZvaS+j1OfT6+IHen0Ovjx/o/Tn0+vgBb0Lx8PDw6Fn4F7iHh4dHj2I7XuCPbsM5bzZ6fQ69Pn6g9+fQ6+MHen8OvT7+W28D9/Dw8PC4OfAmFA8PD48exS19gRtjHjbGHDPGnDDGfPhWnvt6YIzZY4z5qjHmqDHmeWPMr3L7sDHmS8aY4/x36Ep9bSe4KPXTxpgv8P97bfyDxpg/Nca8yPfiTT04h1/nNfQ9Y8wfG2PKr+Y5GGM+ZoyZMcZ8T7VtOV5jzEf4uT5mjPmR7Rn1emwxh//I6+g5Y8yfuWpjvO9VN4cr4Za9wLmizx8AeDeAewD8jDHmnlt1/utEAuA3rLV3A3gjgF/iMX8YwGPW2oMAHuP/v5rxqwCOqv/32vj/C4C/ttbeBeC1oLn0zByMMbsA/AqAB621h0G1at6PV/ccPg6qfaux6Xj5mXg/gHv5N//NrMvNum34OC6dw5cAHLbW3gfgJQAfAV7Vc7gsbqUE/hCAE9baV6y1XQCfAvC+W3j+a4a1dspa+xRvr4JeHLtA4/4EH/YJAD++PSO8MowxuwH8KIA/VM29NP46gLcB+CgAWGu71tol9NAcGCGAijEmBFAFcAGv4jlYax8HsLCheavxvg/Ap6y1HWvtSQAnQM/7tmKzOVhrv2itdUnGvwXAVRp+Vc7hSriVL/BdAM6q/5/jtp6AMWYfqLTctwFMWGunAHrJAxjfvpFdEf8ZwL8G1hWB7KXxHwAwC+B/shnoD40xNfTQHKy15wH8J1Dt2CkAy9baL6KH5sDYary9+mz/AoC/4u2enMOtfIFvVrGzJ1xgjDF9AD4D4NestSvbPZ6rhTHmxwDMWGuf3O6x3ABCAK8D8N+ttQ+AUjG8mkwNVwTbit8HYD+AnQBqxpif395R3VT03LNtjPlNkIn0k65pk8Ne1XMAbu0L/ByAPer/u0Fq5KsaxpgI9PL+pLX2s9w8bYyZ5P2TAGa2+v024y0A3muMOQUyWb3DGPNH6J3xA7Ruzllrv83//1PQC72X5vAuACettbPW2hjAZwG8Gb01B2Dr8fbUs22MeQTAjwH4OSt+1D01B4db+QJ/AsBBY8x+Y0wRRBh8/hae/5phqHjgRwEctdb+ntr1eQCP8PYjAD53q8d2NbDWfsRau9tauw90vb9irf159Mj4AcBaexHAWWPMndz0TgAvoIfmADKdvNEYU+U19U4Qn9JLcwC2Hu/nAbzfSXdowAAAAOpJREFUGFMyxuwHcBDAd7ZhfFeEMeZhAB8C8F5rbVPt6pk5rIO19pb9A/AeEPP7MoDfvJXnvs7xvhWkRj0H4Bn+9x4AIyAW/jj/Hd7usV7FXN4O4Au83VPjB3A/gCN8H/4cwFAPzuHfAXgRwPcA/G8ApVfzHAD8McheH4Ok0w9cbrwAfpOf62MA3r3d47/MHE6AbN3uef4fr+Y5XOmfj8T08PDw6FH4SEwPDw+PHoV/gXt4eHj0KPwL3MPDw6NH4V/gHh4eHj0K/wL38PDw6FH4F7iHh4dHj8K/wD08PDx6FP4F7uHh4dGj+P/mYdTB8t9MqQAAAABJRU5ErkJggg==\n",
      "text/plain": [
       "<Figure size 432x288 with 1 Axes>"
      ]
     },
     "metadata": {
      "needs_background": "light"
     },
     "output_type": "display_data"
    },
    {
     "name": "stdout",
     "output_type": "stream",
     "text": [
      "  cat  ship  ship plane\n"
     ]
    }
   ],
   "source": [
    "import matplotlib.pyplot as plt\n",
    "import numpy as np\n",
    "\n",
    "# functions to show an image\n",
    "def imshow(img):\n",
    "    npimg = img.numpy()\n",
    "    npimg = ((npimg.transpose((1,2,0))  * [0.2023, 0.1994, 0.2010]) + [0.4914, 0.4822, 0.4465])  # unnormalize\n",
    "    plt.imshow(npimg)\n",
    "    plt.show()\n",
    "\n",
    "# get some random training images\n",
    "dataiter = iter(testloader)\n",
    "images, labels = dataiter.next()\n",
    "\n",
    "# show images\n",
    "imshow(torchvision.utils.make_grid(images[0:4]))\n",
    "# print labels\n",
    "print(' '.join('%5s' % classes[labels[j]] for j in range(4)))"
   ]
  },
  {
   "cell_type": "markdown",
   "metadata": {
    "id": "DduOi-s18KP_"
   },
   "source": [
    "## ネットワークモデルの定義\n",
    "次に，CAMを定義します．\n",
    "今回は，CNNにCAMを導入したモデル (CAM) を使用します．"
   ]
  },
  {
   "cell_type": "code",
   "execution_count": 6,
   "metadata": {
    "colab": {
     "base_uri": "https://localhost:8080/"
    },
    "id": "O0cpWP_w8KP_",
    "outputId": "5b8bfabb-75a5-40da-8fa3-9f7198233212"
   },
   "outputs": [
    {
     "data": {
      "text/plain": [
       "CAM(\n",
       "  (conv1): Conv2d(3, 32, kernel_size=(3, 3), stride=(1, 1), padding=(1, 1))\n",
       "  (conv2): Conv2d(32, 32, kernel_size=(3, 3), stride=(1, 1), padding=(1, 1))\n",
       "  (pool): MaxPool2d(kernel_size=2, stride=2, padding=0, dilation=1, ceil_mode=False)\n",
       "  (conv3): Conv2d(32, 128, kernel_size=(3, 3), stride=(1, 1), padding=(1, 1))\n",
       "  (conv4): Conv2d(128, 128, kernel_size=(3, 3), stride=(1, 1), padding=(1, 1))\n",
       "  (conv5): Conv2d(128, 128, kernel_size=(3, 3), stride=(1, 1), padding=(1, 1))\n",
       "  (gap): AvgPool2d(kernel_size=16, stride=16, padding=0)\n",
       "  (relu): ReLU(inplace=True)\n",
       "  (fc): Linear(in_features=128, out_features=10, bias=True)\n",
       ")"
      ]
     },
     "execution_count": 6,
     "metadata": {},
     "output_type": "execute_result"
    }
   ],
   "source": [
    "import torch.nn as nn\n",
    "import torch.nn.functional as F\n",
    "import math\n",
    "\n",
    "class CAM(nn.Module):\n",
    "    def __init__(self):\n",
    "        super(CAM, self).__init__()\n",
    "        num_classes = 10\n",
    "\n",
    "        self.conv1 = nn.Conv2d(3, 32, kernel_size=3, padding=1)\n",
    "        self.conv2 = nn.Conv2d(32, 32, kernel_size=3, padding=1)\n",
    "        self.pool = nn.MaxPool2d(2, 2)\n",
    "        self.conv3 = nn.Conv2d(32, 128, kernel_size=3, padding=1)\n",
    "        self.conv4 = nn.Conv2d(128, 128, kernel_size=3, padding=1)\n",
    "        self.conv5 = nn.Conv2d(128, 128, kernel_size=3, padding=1)\n",
    "        self.gap = nn.AvgPool2d(16)\n",
    "        self.relu = nn.ReLU(inplace=True)\n",
    "        self.fc = nn.Linear(128, num_classes)\n",
    "\n",
    "    def forward(self, x):\n",
    "        x = self.relu(self.conv1(x))\n",
    "        x = self.relu(self.conv2(x))\n",
    "        x = self.pool(x)\n",
    "        x = self.relu(self.conv3(x))\n",
    "        x = self.relu(self.conv4(x))\n",
    "        x = self.relu(self.conv5(x))\n",
    "\n",
    "        self.attmap = x\n",
    "        x = self.gap(x)\n",
    "        x = x.view(x.size(0), -1)\n",
    "        x = self.fc(x)\n",
    "        return x, [self.attmap, self.fc.weight]\n",
    "\n",
    "model = CAM()\n",
    "model.to(device)"
   ]
  },
  {
   "cell_type": "markdown",
   "metadata": {
    "id": "uFCekfs78KQC"
   },
   "source": [
    "## 損失関数と最適化手法の定義\n",
    "学習に使用する損失関数と最適化手法を定義します．\n",
    "今回は，分類問題を扱うため，クロスエントロピー誤差を計算するための`CrossEntropyLoss`を`criterion`として定義します．\n",
    "最適化手法には，Adamを用いて学習を行います．\n",
    "最後に，定義したネットワークの詳細情報を`torchsummary.summary()`関数を用いて表示します．"
   ]
  },
  {
   "cell_type": "code",
   "execution_count": 7,
   "metadata": {
    "colab": {
     "base_uri": "https://localhost:8080/"
    },
    "id": "rntVJhx98KQC",
    "outputId": "52d9c2d2-7cee-46ba-c3ef-5bbe8ae6f29b"
   },
   "outputs": [
    {
     "name": "stdout",
     "output_type": "stream",
     "text": [
      "----------------------------------------------------------------\n",
      "        Layer (type)               Output Shape         Param #\n",
      "================================================================\n",
      "            Conv2d-1           [-1, 32, 32, 32]             896\n",
      "              ReLU-2           [-1, 32, 32, 32]               0\n",
      "            Conv2d-3           [-1, 32, 32, 32]           9,248\n",
      "              ReLU-4           [-1, 32, 32, 32]               0\n",
      "         MaxPool2d-5           [-1, 32, 16, 16]               0\n",
      "            Conv2d-6          [-1, 128, 16, 16]          36,992\n",
      "              ReLU-7          [-1, 128, 16, 16]               0\n",
      "            Conv2d-8          [-1, 128, 16, 16]         147,584\n",
      "              ReLU-9          [-1, 128, 16, 16]               0\n",
      "           Conv2d-10          [-1, 128, 16, 16]         147,584\n",
      "             ReLU-11          [-1, 128, 16, 16]               0\n",
      "        AvgPool2d-12            [-1, 128, 1, 1]               0\n",
      "           Linear-13                   [-1, 10]           1,290\n",
      "================================================================\n",
      "Total params: 343,594\n",
      "Trainable params: 343,594\n",
      "Non-trainable params: 0\n",
      "----------------------------------------------------------------\n",
      "Input size (MB): 0.01\n",
      "Forward/backward pass size (MB): 2.56\n",
      "Params size (MB): 1.31\n",
      "Estimated Total Size (MB): 3.89\n",
      "----------------------------------------------------------------\n"
     ]
    }
   ],
   "source": [
    "import torch.optim as optim\n",
    "from torch.optim import SGD, lr_scheduler\n",
    "\n",
    "criterion = nn.CrossEntropyLoss()\n",
    "optimizer = optim.Adam(model.parameters(), lr=0.001)\n",
    "#optimizer = optim.SGD(model.parameters(), lr=0.001, momentum=0.9,  weight_decay=5e-4)\n",
    "\n",
    "# モデルの情報を表示\n",
    "torchsummary.summary(model, (3, 32, 32))"
   ]
  },
  {
   "cell_type": "markdown",
   "metadata": {
    "id": "Z4NRFd6i8KQF"
   },
   "source": [
    "## 学習\n",
    "読み込んだCIFAR-10データセットと作成したネットワークを用いて，学習を行います．\n",
    "今回は，学習エポック数を20とします．\n",
    "1エポック学習するごとに学習したモデルを評価し，最も認識精度の高いモデルが保存されます．\n",
    "各更新において，学習用データと教師データをそれぞれ`inputs`と`targets`とします．\n",
    "学習モデルに`inputs`を与えて，ネットワークの出力とAttention mapを取得します．\n",
    "ネットワークの出力は教師ラベル`targets`との誤差を`criterion`で算出します．\n",
    "また，認識精度も算出します．\n",
    "そして，誤差をbackward関数で逆伝播し，ネットワークの更新を行います．\n",
    "認識精度も同時に計算して，`print`関数で学習経過における誤差や認識精度を表示します．\n"
   ]
  },
  {
   "cell_type": "code",
   "execution_count": 8,
   "metadata": {
    "colab": {
     "base_uri": "https://localhost:8080/"
    },
    "id": "nnMVTad98KQG",
    "outputId": "b2f1962f-da0b-445a-bb92-5c9a64ace908"
   },
   "outputs": [
    {
     "name": "stdout",
     "output_type": "stream",
     "text": [
      "[Epoch 1] Train Loss: 1.70403 | Train Acc: 26.687%\n",
      "Test Loss: 1.47483 | Test Acc: 47.824%\n",
      "[Epoch 2] Train Loss: 1.31764 | Train Acc: 49.984%\n",
      "Test Loss: 1.19251 | Test Acc: 57.593%\n",
      "[Epoch 4] Train Loss: 1.02148 | Train Acc: 63.094%\n",
      "Test Loss: 0.94613 | Test Acc: 67.720%\n",
      "[Epoch 5] Train Loss: 0.94710 | Train Acc: 66.389%\n",
      "Test Loss: 0.91206 | Test Acc: 69.240%\n",
      "[Epoch 6] Train Loss: 0.89878 | Train Acc: 67.973%\n",
      "Test Loss: 0.80132 | Test Acc: 73.314%\n",
      "[Epoch 7] Train Loss: 0.85403 | Train Acc: 70.428%\n",
      "Test Loss: 0.79368 | Test Acc: 74.163%\n",
      "[Epoch 8] Train Loss: 0.82010 | Train Acc: 71.561%\n",
      "Test Loss: 0.78156 | Test Acc: 73.773%\n",
      "[Epoch 9] Train Loss: 0.79375 | Train Acc: 72.558%\n",
      "Test Loss: 0.74260 | Test Acc: 74.840%\n",
      "[Epoch 10] Train Loss: 0.77694 | Train Acc: 73.522%\n",
      "Test Loss: 0.71203 | Test Acc: 76.681%\n",
      "[Epoch 11] Train Loss: 0.75839 | Train Acc: 74.070%\n",
      "Test Loss: 0.76587 | Test Acc: 74.413%\n",
      "[Epoch 12] Train Loss: 0.74646 | Train Acc: 74.529%\n",
      "Test Loss: 0.74407 | Test Acc: 75.960%\n",
      "[Epoch 13] Train Loss: 0.72603 | Train Acc: 74.931%\n",
      "Test Loss: 0.72335 | Test Acc: 75.804%\n",
      "[Epoch 14] Train Loss: 0.71965 | Train Acc: 75.601%\n",
      "Test Loss: 0.69070 | Test Acc: 77.670%\n",
      "[Epoch 15] Train Loss: 0.71138 | Train Acc: 75.783%\n",
      "Test Loss: 0.74506 | Test Acc: 76.927%\n",
      "[Epoch 16] Train Loss: 0.70076 | Train Acc: 75.756%\n",
      "Test Loss: 0.70561 | Test Acc: 77.474%\n",
      "[Epoch 17] Train Loss: 0.69280 | Train Acc: 76.213%\n",
      "Test Loss: 0.72014 | Test Acc: 75.647%\n",
      "Test Loss: 0.66557 | Test Acc: 78.632%\n",
      "[Epoch 19] Train Loss: 0.67972 | Train Acc: 76.892%\n",
      "Test Loss: 0.72387 | Test Acc: 77.214%\n",
      "[Epoch 20] Train Loss: 0.67302 | Train Acc: 77.181%\n",
      "Test Loss: 0.68478 | Test Acc: 78.183%\n",
      "Finished Training\n"
     ]
    }
   ],
   "source": [
    "epochs = 20\n",
    "best_acc = 0  # best test accuracy\n",
    "\n",
    "for epoch in range(epochs):\n",
    "    train_running_loss = 0.0\n",
    "    train_running_acc = 0.0\n",
    "\n",
    "    # training\n",
    "    model.train()\n",
    "    train_loss = 0\n",
    "    correct = 0\n",
    "    total = 0\n",
    "    count = 0\n",
    "    for batch_idx, (inputs, targets) in enumerate(trainloader):\n",
    "        inputs, targets = inputs.to(device), targets.to(device)\n",
    "        optimizer.zero_grad()\n",
    "        outputs, _ = model(inputs)\n",
    "        loss = criterion(outputs, targets)\n",
    "        loss.backward()\n",
    "        optimizer.step()\n",
    "\n",
    "        train_loss += loss.item()\n",
    "        _, predicted = outputs.max(1)\n",
    "        total += targets.size(0)\n",
    "        correct += predicted.eq(targets).sum().item()\n",
    "        # print statistics\n",
    "        train_running_loss += loss\n",
    "        train_running_acc += 100.*correct/total\n",
    "        count += 1\n",
    "\n",
    "    print('[Epoch %d] Train Loss: %.5f | Train Acc: %.3f%%'\n",
    "                  % (epoch + 1, train_loss/count, train_running_acc/count))\n",
    "\n",
    "    # testing\n",
    "    model.eval() \n",
    "    with torch.no_grad():\n",
    "        test_running_loss = 0.0\n",
    "        test_running_acc = 0.0\n",
    "        test_loss = 0\n",
    "        correct = 0\n",
    "        total = 0\n",
    "        count = 0\n",
    "        for batch_idx, (inputs, targets) in enumerate(testloader):\n",
    "            inputs, targets = inputs.to(device), targets.to(device)\n",
    "            outputs, _ = model(inputs)\n",
    "            loss = criterion(outputs, targets)\n",
    "\n",
    "            test_loss += loss.item()\n",
    "            _, predicted = outputs.max(1)\n",
    "            total += targets.size(0)\n",
    "            correct += predicted.eq(targets).sum().item()\n",
    "\n",
    "            # print statistics\n",
    "            test_running_loss += loss\n",
    "            test_running_acc += 100.*correct/total\n",
    "            count += 1\n",
    "\n",
    "        print('Test Loss: %.5f | Test Acc: %.3f%%'\n",
    "                      % (test_loss/count, test_running_acc/count))\n",
    "        \n",
    "    # save model\n",
    "    if test_running_acc/count > best_acc:\n",
    "        best_acc = max(test_running_acc/count, best_acc)\n",
    "        PATH = './cifar_net.pth'\n",
    "        torch.save(model.state_dict(), PATH)\n",
    "    \n",
    "print('Finished Training')"
   ]
  },
  {
   "cell_type": "markdown",
   "metadata": {
    "id": "wlOo-rzY8KQL"
   },
   "source": [
    "##テスト\n",
    "学習したネットワークのテストデータに対する認識精度の確認を行います．\n",
    "まず，学習したネットワークを評価するために保存したモデルをロードします．"
   ]
  },
  {
   "cell_type": "code",
   "execution_count": 9,
   "metadata": {
    "colab": {
     "base_uri": "https://localhost:8080/"
    },
    "id": "WSa0ATFj8KQP",
    "outputId": "87a09cd9-61ca-4ccf-ef05-2bb116cb498f"
   },
   "outputs": [
    {
     "data": {
      "text/plain": [
       "<All keys matched successfully>"
      ]
     },
     "execution_count": 9,
     "metadata": {},
     "output_type": "execute_result"
    }
   ],
   "source": [
    "model = CAM()\n",
    "model.to(device)\n",
    "PATH = './cifar_net.pth'\n",
    "model.load_state_dict(torch.load(PATH))"
   ]
  },
  {
   "cell_type": "markdown",
   "metadata": {
    "id": "VwWfJO358KQS"
   },
   "source": [
    "次に，学習したネットワークを用いて，テストデータに対する認識精度の確認を行います．\n",
    "`model.eval()`を適用することで，ネットワーク演算を評価モードへ変更します． これにより，学習時と評価時で挙動が異なる演算（dropout等）を変更することが可能です． また，`torch.no_grad()`を適用することで，学習時には必要になる勾配情報を保持することなく演算を行います．"
   ]
  },
  {
   "cell_type": "code",
   "execution_count": 10,
   "metadata": {
    "colab": {
     "base_uri": "https://localhost:8080/"
    },
    "id": "ij38kQBP8KQS",
    "outputId": "379c2615-416b-45ef-ff9b-825f7543e51f"
   },
   "outputs": [
    {
     "name": "stdout",
     "output_type": "stream",
     "text": [
      "Test Loss: 0.66557 | Test Acc: 78.632%\n"
     ]
    }
   ],
   "source": [
    "model.eval()\n",
    "\n",
    "running_loss = 0.0\n",
    "running_acc = 0.0\n",
    "test_loss = 0\n",
    "correct = 0\n",
    "total = 0\n",
    "count = 0\n",
    "\n",
    "with torch.no_grad():\n",
    "    for batch_idx, (inputs, targets) in enumerate(testloader):\n",
    "        inputs, targets = inputs.to(device), targets.to(device)\n",
    "        outputs, _ = model(inputs)\n",
    "        loss = criterion(outputs, targets)\n",
    "\n",
    "        test_loss += loss.item()\n",
    "        _, predicted = outputs.max(1)\n",
    "        total += targets.size(0)\n",
    "        correct += predicted.eq(targets).sum().item()\n",
    "\n",
    "        # print statistics\n",
    "        running_loss += loss\n",
    "        running_acc += 100.*correct/total\n",
    "        count += 1\n",
    "\n",
    "    print('Test Loss: %.5f | Test Acc: %.3f%%'\n",
    "                  % (test_loss/count, running_acc/count))"
   ]
  },
  {
   "cell_type": "markdown",
   "metadata": {
    "id": "qiY_kiXb8KQV"
   },
   "source": [
    "## CAMによるAttention mapの可視化\n",
    "出力されたクラス確率の上位5クラスに対するAttention mapを可視化して，ネットワークの判断根拠を確認してみます．\n",
    "再度，実行することで他のテストサンプルに対するAttention mapを可視化することができます．\n",
    "pred (prediction) は認識結果，conf (confidence) は認識結果に対する信頼度を示しています．"
   ]
  },
  {
   "cell_type": "code",
   "execution_count": 11,
   "metadata": {
    "colab": {
     "base_uri": "https://localhost:8080/",
     "height": 380
    },
    "id": "cB0SvioEwlm4",
    "outputId": "0acf3291-dd5f-4d5d-ff08-b334404adbb6"
   },
   "outputs": [
    {
     "name": "stderr",
     "output_type": "stream",
     "text": [
      "/opt/conda/lib/python3.7/site-packages/ipykernel_launcher.py:66: MatplotlibDeprecationWarning: Adding an axes using the same arguments as a previous axes currently reuses the earlier instance.  In a future version, a new instance will always be created and returned.  Meanwhile, this warning can be suppressed, and the future behavior ensured, by passing a unique label to each axes instance.\n"
     ]
    },
    {
     "data": {
      "image/png": "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\n",
      "text/plain": [
       "<Figure size 1008x144 with 1 Axes>"
      ]
     },
     "metadata": {
      "needs_background": "light"
     },
     "output_type": "display_data"
    },
    {
     "data": {
      "image/png": "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\n",
      "text/plain": [
       "<Figure size 864x108 with 6 Axes>"
      ]
     },
     "metadata": {
      "needs_background": "light"
     },
     "output_type": "display_data"
    }
   ],
   "source": [
    "import cv2\n",
    "from ipykernel import kernelapp as app\n",
    "\n",
    "testloader = torch.utils.data.DataLoader(testset, batch_size=1,\n",
    "                                         shuffle=True, num_workers=20)\n",
    "\n",
    "classes_list = ['plane', 'car', 'bird', 'cat',\n",
    "           'deer', 'dog', 'frog', 'horse', 'ship', 'truck']\n",
    "\n",
    "softmax = nn.Softmax(dim=1)\n",
    "\n",
    "def min_max(x, axis=None):\n",
    "    x_min = x.min(axis=axis, keepdims=True)\n",
    "    x_max = x.max(axis=axis, keepdims=True)\n",
    "    return (x - x_min) / (x_max - x_min)\n",
    "\n",
    "with torch.no_grad():\n",
    "    v_list = []\n",
    "    att_list = []\n",
    "    for batch_idx, (inputs, targets) in enumerate(testloader):\n",
    "        inputs, targets = inputs.to(device), targets.to(device)\n",
    "        outputs, attention = model(inputs)\n",
    "        outputs = softmax(outputs)\n",
    "        d_inputs = inputs.data.cpu()\n",
    "        d_inputs = d_inputs.numpy()\n",
    "\n",
    "        in_b, in_c, in_y, in_x = inputs.shape\n",
    "        item_img = d_inputs[0]\n",
    "        v_img = ((item_img.transpose((1, 2, 0)) * [0.2023, 0.1994, 0.2010]) + [0.4914, 0.4822, 0.4465]) * 255\n",
    "        v_img = np.uint8(v_img)\n",
    "\n",
    "        # Class Activation Mapping\n",
    "        out_put = outputs.data.topk(5, 1, True, True)\n",
    "        top5_score, top5_idx = out_put\n",
    "        top5_idx = top5_idx.cpu()\n",
    "        top5_idx = top5_idx.numpy()\n",
    "        maps, vecs = attention\n",
    "\n",
    "        for idx_rank, item_rank in enumerate(top5_idx[0]):\n",
    "            contributes = vecs[item_rank]\n",
    "            vis_maps = maps[0] * contributes.reshape(contributes.shape[0], 1, 1)\n",
    "            vis_maps = vis_maps.data.cpu()\n",
    "            vis_maps = vis_maps.numpy()\n",
    "            sum_map = np.sum(vis_maps, axis=0)\n",
    "\n",
    "            resize_map = cv2.resize(sum_map, (in_x, in_y))\n",
    "            resize_map = min_max(resize_map)\n",
    "            resize_map *= 255.\n",
    "            resize_map = np.uint8(resize_map)\n",
    "\n",
    "            jet_map = cv2.applyColorMap(resize_map, cv2.COLORMAP_JET)\n",
    "            jet_map = cv2.addWeighted(v_img, 0.6, jet_map, 0.4, 0)\n",
    "            v_list.append(v_img)\n",
    "            att_list.append(jet_map)\n",
    "        break\n",
    "\n",
    "# Show attention map\n",
    "cols = 1\n",
    "rows = 1\n",
    "\n",
    "fig = plt.figure(figsize=(14, 2.0))\n",
    "plt.axis(\"off\")\n",
    "for r in range(rows):\n",
    "    for c in range(cols):\n",
    "        cls = targets[c].item()\n",
    "        ax = fig.add_subplot(r+1, cols, c+1)\n",
    "        plt.title('Input image\\n\\n{}'.format(classes_list[cls]))\n",
    "        ax.imshow(v_list[cols * r + c])\n",
    "        ax.set_axis_off()\n",
    "plt.show()\n",
    "\n",
    "a_cols = 5\n",
    "a_rows = 1\n",
    "\n",
    "fig = plt.figure(figsize=(12, 1.5))\n",
    "plt.title('Attention map\\n\\n\\n')\n",
    "plt.axis(\"off\")\n",
    "for r in range(a_rows):\n",
    "    for c in range(a_cols):\n",
    "        cls = top5_idx[0][c].item()\n",
    "        conf = top5_score[0][c]\n",
    "        ax = fig.add_subplot(r+1, a_cols, c+1)\n",
    "        plt.title('class: {}\\nconf: {:.2f}'.format(classes_list[cls], conf))\n",
    "        ax.imshow(att_list[a_cols * r + c])\n",
    "        ax.set_axis_off()\n",
    "plt.show()"
   ]
  },
  {
   "cell_type": "markdown",
   "metadata": {
    "id": "MFFp16Bgcs4x"
   },
   "source": [
    "#課題\n",
    "1. ハイパーパラメータ (学習率，エポック数，ミニバッチサイズ等) を変更して，Attention mapの変化を確認してみましょう．"
   ]
  },
  {
   "cell_type": "code",
   "execution_count": 12,
   "metadata": {
    "id": "0XznUZILdgos"
   },
   "outputs": [],
   "source": [
    "#ここにコードを書く"
   ]
  },
  {
   "cell_type": "markdown",
   "metadata": {
    "id": "MjKIGtvknT-G"
   },
   "source": [
    "# 参考文献\n",
    "- [1] B. Zhou, A. Khosla, A. Lapedriza, A. Oliva,\n",
    "and A. Torralba, \"Learning deep features for discriminative\n",
    "localization\". In 2016 IEEE Conference on Computer\n",
    "Vision and Pattern Recognition, pp. 2921–2929, 2016.\n",
    "\n",
    "- [2] M. Lin, Q. Chen, and S. Yan, \"Network in network\".\n",
    "In 2nd International Conference on Learning Representations,\n",
    "Banff, AB, Canada, April 14-16, 2014, Conference\n",
    "Track Proceedings, 2014."
   ]
  }
 ],
 "metadata": {
  "accelerator": "GPU",
  "colab": {
   "collapsed_sections": [],
   "name": "02_cam.ipynb",
   "provenance": []
  },
  "kernelspec": {
   "display_name": "Python 3",
   "language": "python",
   "name": "python3"
  },
  "language_info": {
   "codemirror_mode": {
    "name": "ipython",
    "version": 3
   },
   "file_extension": ".py",
   "mimetype": "text/x-python",
   "name": "python",
   "nbconvert_exporter": "python",
   "pygments_lexer": "ipython3",
   "version": "3.7.6"
  },
  "varInspector": {
   "cols": {
    "lenName": 16,
    "lenType": 16,
    "lenVar": 40
   },
   "kernels_config": {
    "python": {
     "delete_cmd_postfix": "",
     "delete_cmd_prefix": "del ",
     "library": "var_list.py",
     "varRefreshCmd": "print(var_dic_list())"
    },
    "r": {
     "delete_cmd_postfix": ") ",
     "delete_cmd_prefix": "rm(",
     "library": "var_list.r",
     "varRefreshCmd": "cat(var_dic_list()) "
    }
   },
   "types_to_exclude": [
    "module",
    "function",
    "builtin_function_or_method",
    "instance",
    "_Feature"
   ],
   "window_display": false
  },
  "widgets": {
   "application/vnd.jupyter.widget-state+json": {
    "42b133d49cc74e70915d03119a5800c7": {
     "model_module": "@jupyter-widgets/controls",
     "model_name": "HTMLModel",
     "state": {
      "_dom_classes": [],
      "_model_module": "@jupyter-widgets/controls",
      "_model_module_version": "1.5.0",
      "_model_name": "HTMLModel",
      "_view_count": null,
      "_view_module": "@jupyter-widgets/controls",
      "_view_module_version": "1.5.0",
      "_view_name": "HTMLView",
      "description": "",
      "description_tooltip": null,
      "layout": "IPY_MODEL_43d0d5ce85eb42f3a9c1c7880dc120df",
      "placeholder": "​",
      "style": "IPY_MODEL_eabd855516604f1f9eedb77a244588c0",
      "value": " 170500096/? [00:08&lt;00:00, 20420541.29it/s]"
     }
    },
    "43d0d5ce85eb42f3a9c1c7880dc120df": {
     "model_module": "@jupyter-widgets/base",
     "model_name": "LayoutModel",
     "state": {
      "_model_module": "@jupyter-widgets/base",
      "_model_module_version": "1.2.0",
      "_model_name": "LayoutModel",
      "_view_count": null,
      "_view_module": "@jupyter-widgets/base",
      "_view_module_version": "1.2.0",
      "_view_name": "LayoutView",
      "align_content": null,
      "align_items": null,
      "align_self": null,
      "border": null,
      "bottom": null,
      "display": null,
      "flex": null,
      "flex_flow": null,
      "grid_area": null,
      "grid_auto_columns": null,
      "grid_auto_flow": null,
      "grid_auto_rows": null,
      "grid_column": null,
      "grid_gap": null,
      "grid_row": null,
      "grid_template_areas": null,
      "grid_template_columns": null,
      "grid_template_rows": null,
      "height": null,
      "justify_content": null,
      "justify_items": null,
      "left": null,
      "margin": null,
      "max_height": null,
      "max_width": null,
      "min_height": null,
      "min_width": null,
      "object_fit": null,
      "object_position": null,
      "order": null,
      "overflow": null,
      "overflow_x": null,
      "overflow_y": null,
      "padding": null,
      "right": null,
      "top": null,
      "visibility": null,
      "width": null
     }
    },
    "485baa518e034cb4956dbb3e2eb6d753": {
     "model_module": "@jupyter-widgets/controls",
     "model_name": "ProgressStyleModel",
     "state": {
      "_model_module": "@jupyter-widgets/controls",
      "_model_module_version": "1.5.0",
      "_model_name": "ProgressStyleModel",
      "_view_count": null,
      "_view_module": "@jupyter-widgets/base",
      "_view_module_version": "1.2.0",
      "_view_name": "StyleView",
      "bar_color": null,
      "description_width": "initial"
     }
    },
    "4ed8ba4caad842e88222b349452f9e68": {
     "model_module": "@jupyter-widgets/base",
     "model_name": "LayoutModel",
     "state": {
      "_model_module": "@jupyter-widgets/base",
      "_model_module_version": "1.2.0",
      "_model_name": "LayoutModel",
      "_view_count": null,
      "_view_module": "@jupyter-widgets/base",
      "_view_module_version": "1.2.0",
      "_view_name": "LayoutView",
      "align_content": null,
      "align_items": null,
      "align_self": null,
      "border": null,
      "bottom": null,
      "display": null,
      "flex": null,
      "flex_flow": null,
      "grid_area": null,
      "grid_auto_columns": null,
      "grid_auto_flow": null,
      "grid_auto_rows": null,
      "grid_column": null,
      "grid_gap": null,
      "grid_row": null,
      "grid_template_areas": null,
      "grid_template_columns": null,
      "grid_template_rows": null,
      "height": null,
      "justify_content": null,
      "justify_items": null,
      "left": null,
      "margin": null,
      "max_height": null,
      "max_width": null,
      "min_height": null,
      "min_width": null,
      "object_fit": null,
      "object_position": null,
      "order": null,
      "overflow": null,
      "overflow_x": null,
      "overflow_y": null,
      "padding": null,
      "right": null,
      "top": null,
      "visibility": null,
      "width": null
     }
    },
    "55ce6a71537a421a9944fd651a77f01a": {
     "model_module": "@jupyter-widgets/controls",
     "model_name": "FloatProgressModel",
     "state": {
      "_dom_classes": [],
      "_model_module": "@jupyter-widgets/controls",
      "_model_module_version": "1.5.0",
      "_model_name": "FloatProgressModel",
      "_view_count": null,
      "_view_module": "@jupyter-widgets/controls",
      "_view_module_version": "1.5.0",
      "_view_name": "ProgressView",
      "bar_style": "success",
      "description": "",
      "description_tooltip": null,
      "layout": "IPY_MODEL_4ed8ba4caad842e88222b349452f9e68",
      "max": 1,
      "min": 0,
      "orientation": "horizontal",
      "style": "IPY_MODEL_485baa518e034cb4956dbb3e2eb6d753",
      "value": 1
     }
    },
    "a043b4deaa9a464b89a0df861616b38b": {
     "model_module": "@jupyter-widgets/base",
     "model_name": "LayoutModel",
     "state": {
      "_model_module": "@jupyter-widgets/base",
      "_model_module_version": "1.2.0",
      "_model_name": "LayoutModel",
      "_view_count": null,
      "_view_module": "@jupyter-widgets/base",
      "_view_module_version": "1.2.0",
      "_view_name": "LayoutView",
      "align_content": null,
      "align_items": null,
      "align_self": null,
      "border": null,
      "bottom": null,
      "display": null,
      "flex": null,
      "flex_flow": null,
      "grid_area": null,
      "grid_auto_columns": null,
      "grid_auto_flow": null,
      "grid_auto_rows": null,
      "grid_column": null,
      "grid_gap": null,
      "grid_row": null,
      "grid_template_areas": null,
      "grid_template_columns": null,
      "grid_template_rows": null,
      "height": null,
      "justify_content": null,
      "justify_items": null,
      "left": null,
      "margin": null,
      "max_height": null,
      "max_width": null,
      "min_height": null,
      "min_width": null,
      "object_fit": null,
      "object_position": null,
      "order": null,
      "overflow": null,
      "overflow_x": null,
      "overflow_y": null,
      "padding": null,
      "right": null,
      "top": null,
      "visibility": null,
      "width": null
     }
    },
    "a0b9af73839b404ab03907ed0cad6792": {
     "model_module": "@jupyter-widgets/controls",
     "model_name": "HBoxModel",
     "state": {
      "_dom_classes": [],
      "_model_module": "@jupyter-widgets/controls",
      "_model_module_version": "1.5.0",
      "_model_name": "HBoxModel",
      "_view_count": null,
      "_view_module": "@jupyter-widgets/controls",
      "_view_module_version": "1.5.0",
      "_view_name": "HBoxView",
      "box_style": "",
      "children": [
       "IPY_MODEL_55ce6a71537a421a9944fd651a77f01a",
       "IPY_MODEL_42b133d49cc74e70915d03119a5800c7"
      ],
      "layout": "IPY_MODEL_a043b4deaa9a464b89a0df861616b38b"
     }
    },
    "eabd855516604f1f9eedb77a244588c0": {
     "model_module": "@jupyter-widgets/controls",
     "model_name": "DescriptionStyleModel",
     "state": {
      "_model_module": "@jupyter-widgets/controls",
      "_model_module_version": "1.5.0",
      "_model_name": "DescriptionStyleModel",
      "_view_count": null,
      "_view_module": "@jupyter-widgets/base",
      "_view_module_version": "1.2.0",
      "_view_name": "StyleView",
      "description_width": ""
     }
    }
   }
  }
 },
 "nbformat": 4,
 "nbformat_minor": 1
}
=======
  "nbformat": 4,
  "nbformat_minor": 0,
  "metadata": {
    "kernelspec": {
      "display_name": "Python 3",
      "language": "python",
      "name": "python3"
    },
    "language_info": {
      "codemirror_mode": {
        "name": "ipython",
        "version": 3
      },
      "file_extension": ".py",
      "mimetype": "text/x-python",
      "name": "python",
      "nbconvert_exporter": "python",
      "pygments_lexer": "ipython3",
      "version": "3.7.6"
    },
    "colab": {
      "name": "02_cam.ipynb",
      "provenance": [],
      "collapsed_sections": []
    },
    "accelerator": "GPU",
    "widgets": {
      "application/vnd.jupyter.widget-state+json": {
        "a0b9af73839b404ab03907ed0cad6792": {
          "model_module": "@jupyter-widgets/controls",
          "model_name": "HBoxModel",
          "state": {
            "_view_name": "HBoxView",
            "_dom_classes": [],
            "_model_name": "HBoxModel",
            "_view_module": "@jupyter-widgets/controls",
            "_model_module_version": "1.5.0",
            "_view_count": null,
            "_view_module_version": "1.5.0",
            "box_style": "",
            "layout": "IPY_MODEL_a043b4deaa9a464b89a0df861616b38b",
            "_model_module": "@jupyter-widgets/controls",
            "children": [
              "IPY_MODEL_55ce6a71537a421a9944fd651a77f01a",
              "IPY_MODEL_42b133d49cc74e70915d03119a5800c7"
            ]
          }
        },
        "a043b4deaa9a464b89a0df861616b38b": {
          "model_module": "@jupyter-widgets/base",
          "model_name": "LayoutModel",
          "state": {
            "_view_name": "LayoutView",
            "grid_template_rows": null,
            "right": null,
            "justify_content": null,
            "_view_module": "@jupyter-widgets/base",
            "overflow": null,
            "_model_module_version": "1.2.0",
            "_view_count": null,
            "flex_flow": null,
            "width": null,
            "min_width": null,
            "border": null,
            "align_items": null,
            "bottom": null,
            "_model_module": "@jupyter-widgets/base",
            "top": null,
            "grid_column": null,
            "overflow_y": null,
            "overflow_x": null,
            "grid_auto_flow": null,
            "grid_area": null,
            "grid_template_columns": null,
            "flex": null,
            "_model_name": "LayoutModel",
            "justify_items": null,
            "grid_row": null,
            "max_height": null,
            "align_content": null,
            "visibility": null,
            "align_self": null,
            "height": null,
            "min_height": null,
            "padding": null,
            "grid_auto_rows": null,
            "grid_gap": null,
            "max_width": null,
            "order": null,
            "_view_module_version": "1.2.0",
            "grid_template_areas": null,
            "object_position": null,
            "object_fit": null,
            "grid_auto_columns": null,
            "margin": null,
            "display": null,
            "left": null
          }
        },
        "55ce6a71537a421a9944fd651a77f01a": {
          "model_module": "@jupyter-widgets/controls",
          "model_name": "FloatProgressModel",
          "state": {
            "_view_name": "ProgressView",
            "style": "IPY_MODEL_485baa518e034cb4956dbb3e2eb6d753",
            "_dom_classes": [],
            "description": "",
            "_model_name": "FloatProgressModel",
            "bar_style": "success",
            "max": 1,
            "_view_module": "@jupyter-widgets/controls",
            "_model_module_version": "1.5.0",
            "value": 1,
            "_view_count": null,
            "_view_module_version": "1.5.0",
            "orientation": "horizontal",
            "min": 0,
            "description_tooltip": null,
            "_model_module": "@jupyter-widgets/controls",
            "layout": "IPY_MODEL_4ed8ba4caad842e88222b349452f9e68"
          }
        },
        "42b133d49cc74e70915d03119a5800c7": {
          "model_module": "@jupyter-widgets/controls",
          "model_name": "HTMLModel",
          "state": {
            "_view_name": "HTMLView",
            "style": "IPY_MODEL_eabd855516604f1f9eedb77a244588c0",
            "_dom_classes": [],
            "description": "",
            "_model_name": "HTMLModel",
            "placeholder": "​",
            "_view_module": "@jupyter-widgets/controls",
            "_model_module_version": "1.5.0",
            "value": " 170500096/? [00:08&lt;00:00, 20420541.29it/s]",
            "_view_count": null,
            "_view_module_version": "1.5.0",
            "description_tooltip": null,
            "_model_module": "@jupyter-widgets/controls",
            "layout": "IPY_MODEL_43d0d5ce85eb42f3a9c1c7880dc120df"
          }
        },
        "485baa518e034cb4956dbb3e2eb6d753": {
          "model_module": "@jupyter-widgets/controls",
          "model_name": "ProgressStyleModel",
          "state": {
            "_view_name": "StyleView",
            "_model_name": "ProgressStyleModel",
            "description_width": "initial",
            "_view_module": "@jupyter-widgets/base",
            "_model_module_version": "1.5.0",
            "_view_count": null,
            "_view_module_version": "1.2.0",
            "bar_color": null,
            "_model_module": "@jupyter-widgets/controls"
          }
        },
        "4ed8ba4caad842e88222b349452f9e68": {
          "model_module": "@jupyter-widgets/base",
          "model_name": "LayoutModel",
          "state": {
            "_view_name": "LayoutView",
            "grid_template_rows": null,
            "right": null,
            "justify_content": null,
            "_view_module": "@jupyter-widgets/base",
            "overflow": null,
            "_model_module_version": "1.2.0",
            "_view_count": null,
            "flex_flow": null,
            "width": null,
            "min_width": null,
            "border": null,
            "align_items": null,
            "bottom": null,
            "_model_module": "@jupyter-widgets/base",
            "top": null,
            "grid_column": null,
            "overflow_y": null,
            "overflow_x": null,
            "grid_auto_flow": null,
            "grid_area": null,
            "grid_template_columns": null,
            "flex": null,
            "_model_name": "LayoutModel",
            "justify_items": null,
            "grid_row": null,
            "max_height": null,
            "align_content": null,
            "visibility": null,
            "align_self": null,
            "height": null,
            "min_height": null,
            "padding": null,
            "grid_auto_rows": null,
            "grid_gap": null,
            "max_width": null,
            "order": null,
            "_view_module_version": "1.2.0",
            "grid_template_areas": null,
            "object_position": null,
            "object_fit": null,
            "grid_auto_columns": null,
            "margin": null,
            "display": null,
            "left": null
          }
        },
        "eabd855516604f1f9eedb77a244588c0": {
          "model_module": "@jupyter-widgets/controls",
          "model_name": "DescriptionStyleModel",
          "state": {
            "_view_name": "StyleView",
            "_model_name": "DescriptionStyleModel",
            "description_width": "",
            "_view_module": "@jupyter-widgets/base",
            "_model_module_version": "1.5.0",
            "_view_count": null,
            "_view_module_version": "1.2.0",
            "_model_module": "@jupyter-widgets/controls"
          }
        },
        "43d0d5ce85eb42f3a9c1c7880dc120df": {
          "model_module": "@jupyter-widgets/base",
          "model_name": "LayoutModel",
          "state": {
            "_view_name": "LayoutView",
            "grid_template_rows": null,
            "right": null,
            "justify_content": null,
            "_view_module": "@jupyter-widgets/base",
            "overflow": null,
            "_model_module_version": "1.2.0",
            "_view_count": null,
            "flex_flow": null,
            "width": null,
            "min_width": null,
            "border": null,
            "align_items": null,
            "bottom": null,
            "_model_module": "@jupyter-widgets/base",
            "top": null,
            "grid_column": null,
            "overflow_y": null,
            "overflow_x": null,
            "grid_auto_flow": null,
            "grid_area": null,
            "grid_template_columns": null,
            "flex": null,
            "_model_name": "LayoutModel",
            "justify_items": null,
            "grid_row": null,
            "max_height": null,
            "align_content": null,
            "visibility": null,
            "align_self": null,
            "height": null,
            "min_height": null,
            "padding": null,
            "grid_auto_rows": null,
            "grid_gap": null,
            "max_width": null,
            "order": null,
            "_view_module_version": "1.2.0",
            "grid_template_areas": null,
            "object_position": null,
            "object_fit": null,
            "grid_auto_columns": null,
            "margin": null,
            "display": null,
            "left": null
          }
        }
      }
    }
  },
  "cells": [
    {
      "cell_type": "markdown",
      "metadata": {
        "id": "vQfhYcVF8KPt"
      },
      "source": [
        "# CNNの可視化 (Class Activation Mapping; CAM)\n",
        "\n",
        "---\n",
        "\n",
        "## 目的\n",
        "Class Activation Mapping (CAM)の仕組みを理解する.\n",
        "\n",
        "CAMを用いてCIFAR-10データセットに対するネットワークの判断根拠の可視化を行う．\n",
        "\n",
        "## Class Activation Mapping (CAM)\n",
        "Class Activation Mapping (CAM)[1]とは，ネットワークの出力に対する全結合層の結合重みを用いて，ネットワークの推論時における貢献度の高い領域をClass Activation Map (Attention map) として可視化することができる手法です．\n",
        "まず，入力画像をネットワークに入力して特徴マップを獲得します．\n",
        "次に，獲得した特徴マップに対してGlobal Average Pooling (GAP)[2]を行い，各特徴マップの空間方向に対する平均値を算出します．\n",
        "GAPとは，特徴マップの各チャネルごとに空間方向に対する平均値を算出し，その平均値を各特徴マップの値とする処理です．\n",
        "これにより，全結合層におけるパラメータ数を大幅に削減することができます．\n",
        "一方で，空間的な情報が失われてしまうというデメリットもあります．\n",
        "このGlobal Average Poolingによって得られた各チャネルに対する平均値を全結合層のユニットの応答値として最終的な認識結果を出力します．\n",
        "最後に，畳み込み層で得られた特徴マップと特定のクラスにおける特徴マップの各チャネルに対応する全結合層の結合重みを乗算し，乗算した特徴マップを全て加算することで，Attention mapを獲得します．\n",
        "クラス$c$に対するAttention mapは，以下の式のように表すことができます．\n",
        "\n",
        "$$M_c(x,y)=\\sum_{k}w^{c}_{k}f_{k}(x,y)$$\n",
        "\n",
        "ここで，$M_c$はクラス$c$に対するAttention map，$w^{c}_{k}$はクラス$c$の$k$番目の特徴マップに対する結合重み，$f_{k}(x,y)$は$k$番目の特徴マップを示しています．\n",
        "\n",
        "<img src=\"https://drive.google.com/uc?export=view&id=1X7JLYOkgsUH0mDcVdkDOY6BoBjcFTVHt\" width=100%>\n",
        "\n",
        "\n"
      ]
    },
    {
      "cell_type": "markdown",
      "metadata": {
        "id": "V8ehSX6U8KPv"
      },
      "source": [
        "## モジュールのインポート\n",
        "プログラムの実行に必要なモジュールをインポートします．\n",
        "今回は，機械学習ライブラリであるPytorchを使用します．\n",
        "PyTorchとは，Python向けのオープンソース機械学習ライブラリで，Facebookに開発されました．"
      ]
    },
    {
      "cell_type": "code",
      "metadata": {
        "id": "VaNXqInW8KPv"
      },
      "source": [
        "import torch\n",
        "import torchvision\n",
        "import torchvision.transforms as transforms\n",
        "import torch.backends.cudnn as cudnn\n",
        "import torchsummary"
      ],
      "execution_count": null,
      "outputs": []
    },
    {
      "cell_type": "markdown",
      "metadata": {
        "id": "b4gEy7cGCfz8"
      },
      "source": [
        "## GPUの確認\n",
        "GPUを使用した計算が可能かどうかを確認します．\n",
        "下記のコードを実行してGPU情報を確認します． GPUの確認を行うためには，上部のメニューバーの「ランタイム」→「ランタイムのタイプを変更」からハードウェアアクセラレータをGPUにしてください．\n",
        "\n",
        "`Use CUDA: True`と表示されれば，GPUを使用した計算をPytorchで行うことが可能です． CPUとなっている場合は，上記に記載している手順にしたがって，設定を変更してください．"
      ]
    },
    {
      "cell_type": "code",
      "metadata": {
        "id": "p9fjeG_U8KP1",
        "colab": {
          "base_uri": "https://localhost:8080/"
        },
        "outputId": "61a6bc74-4aad-4da5-9d72-05719567088f"
      },
      "source": [
        "device = torch.device(\"cuda:0\" if torch.cuda.is_available() else \"cpu\")\n",
        "use_cuda = torch.cuda.is_available()\n",
        "cudnn.benchmark = True\n",
        "print('Use CUDA:', use_cuda)"
      ],
      "execution_count": null,
      "outputs": [
        {
          "output_type": "stream",
          "text": [
            "Use CUDA: True\n"
          ],
          "name": "stdout"
        }
      ]
    },
    {
      "cell_type": "markdown",
      "metadata": {
        "id": "Uanw74k0F9iw"
      },
      "source": [
        "下記のコードを実行してGPU情報を確認します．\n",
        "\n"
      ]
    },
    {
      "cell_type": "code",
      "metadata": {
        "id": "eeUIUazLGGPu",
        "colab": {
          "base_uri": "https://localhost:8080/"
        },
        "outputId": "771c5612-1c50-47e6-9dc4-04c58feb106e"
      },
      "source": [
        "!nvidia-smi"
      ],
      "execution_count": null,
      "outputs": [
        {
          "output_type": "stream",
          "text": [
            "Sun Dec  6 16:32:09 2020       \n",
            "+-----------------------------------------------------------------------------+\n",
            "| NVIDIA-SMI 455.45.01    Driver Version: 418.67       CUDA Version: 10.1     |\n",
            "|-------------------------------+----------------------+----------------------+\n",
            "| GPU  Name        Persistence-M| Bus-Id        Disp.A | Volatile Uncorr. ECC |\n",
            "| Fan  Temp  Perf  Pwr:Usage/Cap|         Memory-Usage | GPU-Util  Compute M. |\n",
            "|                               |                      |               MIG M. |\n",
            "|===============================+======================+======================|\n",
            "|   0  Tesla T4            Off  | 00000000:00:04.0 Off |                    0 |\n",
            "| N/A   66C    P8    15W /  70W |     10MiB / 15079MiB |      0%      Default |\n",
            "|                               |                      |                 ERR! |\n",
            "+-------------------------------+----------------------+----------------------+\n",
            "                                                                               \n",
            "+-----------------------------------------------------------------------------+\n",
            "| Processes:                                                                  |\n",
            "|  GPU   GI   CI        PID   Type   Process name                  GPU Memory |\n",
            "|        ID   ID                                                   Usage      |\n",
            "|=============================================================================|\n",
            "|  No running processes found                                                 |\n",
            "+-----------------------------------------------------------------------------+\n"
          ],
          "name": "stdout"
        }
      ]
    },
    {
      "cell_type": "markdown",
      "metadata": {
        "id": "QEgbYa9EloXV"
      },
      "source": [
        "## 使用するデータセット\n",
        "\n",
        "### データセット\n",
        "今回の物体認識では，CIFAR-10データセットを使用します．CIFAR-10データセットは，飛行機や犬などの10クラスの物体が表示されている画像から構成されたデータセットです．\n",
        "\n",
        "![CIFAR10_sample.png](https://qiita-image-store.s3.ap-northeast-1.amazonaws.com/0/176458/b6b43478-c85f-9211-7bc6-227d9b387af5.png)"
      ]
    },
    {
      "cell_type": "markdown",
      "metadata": {
        "id": "xNzvYQL58KP4"
      },
      "source": [
        "### データセットのダウンロードと読み込み\n",
        "実験に使用するCIFAR-10データセットを読み込みます．\n",
        "１回の誤差を算出するデータ数 (ミニバッチサイズ) は，4とします．\n",
        "まず，CIFAR-10データセットをダウンロードします．\n",
        "次に，ダウンロードしたデータセットを読み込みます．\n",
        "学習には，大量のデータを利用しますが，それでも十分ではありません． そこで，データ拡張 (data augmentation) により，データのバリエーションを増やします． 一般的な方法は，画像の左右反転，明るさ変換などです． また，画像の一部にマスク処理をかけるRandom Erasingも行います．"
      ]
    },
    {
      "cell_type": "code",
      "metadata": {
        "id": "leWJTOIL8KP4",
        "colab": {
          "base_uri": "https://localhost:8080/",
          "height": 150,
          "referenced_widgets": [
            "a0b9af73839b404ab03907ed0cad6792",
            "a043b4deaa9a464b89a0df861616b38b",
            "55ce6a71537a421a9944fd651a77f01a",
            "42b133d49cc74e70915d03119a5800c7",
            "485baa518e034cb4956dbb3e2eb6d753",
            "4ed8ba4caad842e88222b349452f9e68",
            "eabd855516604f1f9eedb77a244588c0",
            "43d0d5ce85eb42f3a9c1c7880dc120df"
          ]
        },
        "outputId": "0953ba39-e133-4247-f546-0bc327f786e2"
      },
      "source": [
        "batch_size = 4\n",
        "\n",
        "transform_train = transforms.Compose([\n",
        "    transforms.RandomCrop(32, padding=4),\n",
        "    transforms.RandomHorizontalFlip(),\n",
        "    transforms.ToTensor(),\n",
        "    transforms.Normalize((0.4914, 0.4822, 0.4465), (0.2023, 0.1994, 0.2010)),\n",
        "    transforms.RandomErasing(),\n",
        "])\n",
        "\n",
        "transform_test = transforms.Compose([\n",
        "    transforms.ToTensor(),\n",
        "    transforms.Normalize((0.4914, 0.4822, 0.4465), (0.2023, 0.1994, 0.2010)),\n",
        "])\n",
        "\n",
        "trainset = torchvision.datasets.CIFAR10(root='./data', train=True,\n",
        "                                        download=True, transform=transform_train)\n",
        "trainloader = torch.utils.data.DataLoader(trainset, batch_size=batch_size,\n",
        "                                          shuffle=True, num_workers=20)\n",
        "\n",
        "testset = torchvision.datasets.CIFAR10(root='./data', train=False,\n",
        "                                       download=True, transform=transform_test)\n",
        "testloader = torch.utils.data.DataLoader(testset, batch_size=batch_size,\n",
        "                                         shuffle=False, num_workers=20)\n",
        "\n",
        "classes = ('plane', 'car', 'bird', 'cat',\n",
        "           'deer', 'dog', 'frog', 'horse', 'ship', 'truck')"
      ],
      "execution_count": null,
      "outputs": [
        {
          "output_type": "stream",
          "text": [
            "Downloading https://www.cs.toronto.edu/~kriz/cifar-10-python.tar.gz to ./data/cifar-10-python.tar.gz\n"
          ],
          "name": "stdout"
        },
        {
          "output_type": "display_data",
          "data": {
            "application/vnd.jupyter.widget-view+json": {
              "model_id": "a0b9af73839b404ab03907ed0cad6792",
              "version_minor": 0,
              "version_major": 2
            },
            "text/plain": [
              "HBox(children=(FloatProgress(value=1.0, bar_style='info', max=1.0), HTML(value='')))"
            ]
          },
          "metadata": {
            "tags": []
          }
        },
        {
          "output_type": "stream",
          "text": [
            "Extracting ./data/cifar-10-python.tar.gz to ./data\n",
            "Files already downloaded and verified\n"
          ],
          "name": "stdout"
        }
      ]
    },
    {
      "cell_type": "markdown",
      "metadata": {
        "id": "zHQfAwb_8KP7"
      },
      "source": [
        "### CIFAR-10データセットの表示\n",
        "CIFAR-10データセットに含まれる画像を表示してみます．\n",
        "ここでは，matplotlibを用いて複数の画像を表示させるプログラムを利用します．\n",
        "学習データは5万枚，1つのデータサイズは3x32x32の画像のような形式となっています． これは32x32ピクセルのカラー画像という意味になります．\n",
        "\n"
      ]
    },
    {
      "cell_type": "code",
      "metadata": {
        "id": "Fod_SRFR8KP8",
        "colab": {
          "base_uri": "https://localhost:8080/",
          "height": 211
        },
        "outputId": "24d9a124-99ee-41d4-b9f8-8d2b37d0bb3b"
      },
      "source": [
        "import matplotlib.pyplot as plt\n",
        "import numpy as np\n",
        "\n",
        "# functions to show an image\n",
        "def imshow(img):\n",
        "    npimg = img.numpy()\n",
        "    npimg = ((npimg.transpose((1,2,0))  * [0.2023, 0.1994, 0.2010]) + [0.4914, 0.4822, 0.4465])  # unnormalize\n",
        "    plt.imshow(npimg)\n",
        "    plt.show()\n",
        "\n",
        "# get some random training images\n",
        "dataiter = iter(testloader)\n",
        "images, labels = dataiter.next()\n",
        "\n",
        "# show images\n",
        "imshow(torchvision.utils.make_grid(images[0:4]))\n",
        "# print labels\n",
        "print(' '.join('%5s' % classes[labels[j]] for j in range(2)))"
      ],
      "execution_count": null,
      "outputs": [
        {
          "output_type": "stream",
          "text": [
            "Clipping input data to the valid range for imshow with RGB data ([0..1] for floats or [0..255] for integers).\n"
          ],
          "name": "stderr"
        },
        {
          "output_type": "stream",
          "text": [
            "\n"
          ],
          "name": "stdout"
        },
        {
          "output_type": "display_data",
          "data": {
            "image/png": "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\n",
            "text/plain": [
              "<Figure size 432x288 with 1 Axes>"
            ]
          },
          "metadata": {
            "tags": [],
            "needs_background": "light"
          }
        },
        {
          "output_type": "stream",
          "text": [
            "  cat  ship\n"
          ],
          "name": "stdout"
        }
      ]
    },
    {
      "cell_type": "markdown",
      "metadata": {
        "id": "DduOi-s18KP_"
      },
      "source": [
        "## ネットワークモデルの定義\n",
        "次に，CAMを定義します．\n",
        "今回は，CNNにCAMを導入したモデル (CAM) を使用します．"
      ]
    },
    {
      "cell_type": "code",
      "metadata": {
        "id": "O0cpWP_w8KP_",
        "colab": {
          "base_uri": "https://localhost:8080/"
        },
        "outputId": "5b8bfabb-75a5-40da-8fa3-9f7198233212"
      },
      "source": [
        "import torch.nn as nn\n",
        "import torch.nn.functional as F\n",
        "import math\n",
        "\n",
        "class CAM(nn.Module):\n",
        "    def __init__(self):\n",
        "        super(CAM, self).__init__()\n",
        "        num_classes = 10\n",
        "\n",
        "        self.conv1 = nn.Conv2d(3, 32, kernel_size=3, padding=1)\n",
        "        self.conv2 = nn.Conv2d(32, 32, kernel_size=3, padding=1)\n",
        "        self.pool = nn.MaxPool2d(2, 2)\n",
        "        self.conv3 = nn.Conv2d(32, 128, kernel_size=3, padding=1)\n",
        "        self.conv4 = nn.Conv2d(128, 128, kernel_size=3, padding=1)\n",
        "        self.conv5 = nn.Conv2d(128, 128, kernel_size=3, padding=1)\n",
        "        self.gap = nn.AvgPool2d(16)\n",
        "        self.relu = nn.ReLU(inplace=True)\n",
        "        self.fc = nn.Linear(128, num_classes)\n",
        "\n",
        "    def forward(self, x):\n",
        "        x = self.relu(self.conv1(x))\n",
        "        x = self.relu(self.conv2(x))\n",
        "        x = self.pool(x)\n",
        "        x = self.relu(self.conv3(x))\n",
        "        x = self.relu(self.conv4(x))\n",
        "        x = self.relu(self.conv5(x))\n",
        "\n",
        "        self.attmap = x\n",
        "        x = self.gap(x)\n",
        "        x = x.view(x.size(0), -1)\n",
        "        x = self.fc(x)\n",
        "        return x, [self.attmap, self.fc.weight]\n",
        "\n",
        "model = CAM()\n",
        "model.to(device)"
      ],
      "execution_count": null,
      "outputs": [
        {
          "output_type": "execute_result",
          "data": {
            "text/plain": [
              "CAM(\n",
              "  (conv1): Conv2d(3, 32, kernel_size=(3, 3), stride=(1, 1), padding=(1, 1))\n",
              "  (conv2): Conv2d(32, 32, kernel_size=(3, 3), stride=(1, 1), padding=(1, 1))\n",
              "  (pool): MaxPool2d(kernel_size=2, stride=2, padding=0, dilation=1, ceil_mode=False)\n",
              "  (conv3): Conv2d(32, 128, kernel_size=(3, 3), stride=(1, 1), padding=(1, 1))\n",
              "  (conv4): Conv2d(128, 128, kernel_size=(3, 3), stride=(1, 1), padding=(1, 1))\n",
              "  (conv5): Conv2d(128, 128, kernel_size=(3, 3), stride=(1, 1), padding=(1, 1))\n",
              "  (gap): AvgPool2d(kernel_size=16, stride=16, padding=0)\n",
              "  (relu): ReLU(inplace=True)\n",
              "  (fc): Linear(in_features=128, out_features=10, bias=True)\n",
              ")"
            ]
          },
          "metadata": {
            "tags": []
          },
          "execution_count": 6
        }
      ]
    },
    {
      "cell_type": "markdown",
      "metadata": {
        "id": "uFCekfs78KQC"
      },
      "source": [
        "## 損失関数と最適化手法の定義\n",
        "学習に使用する損失関数と最適化手法を定義します．\n",
        "今回は，分類問題を扱うため，クロスエントロピー誤差を計算するための`CrossEntropyLoss`を`criterion`として定義します．\n",
        "最適化手法には，Adamを用いて学習を行います．\n",
        "最後に，定義したネットワークの詳細情報を`torchsummary.summary()`関数を用いて表示します．"
      ]
    },
    {
      "cell_type": "code",
      "metadata": {
        "id": "rntVJhx98KQC",
        "colab": {
          "base_uri": "https://localhost:8080/"
        },
        "outputId": "52d9c2d2-7cee-46ba-c3ef-5bbe8ae6f29b"
      },
      "source": [
        "import torch.optim as optim\n",
        "from torch.optim import SGD, lr_scheduler\n",
        "\n",
        "criterion = nn.CrossEntropyLoss()\n",
        "optimizer = optim.Adam(model.parameters(), lr=0.001)\n",
        "#optimizer = optim.SGD(model.parameters(), lr=0.001, momentum=0.9,  weight_decay=5e-4)\n",
        "\n",
        "# モデルの情報を表示\n",
        "torchsummary.summary(model, (3, 32, 32))"
      ],
      "execution_count": null,
      "outputs": [
        {
          "output_type": "stream",
          "text": [
            "----------------------------------------------------------------\n",
            "        Layer (type)               Output Shape         Param #\n",
            "================================================================\n",
            "            Conv2d-1           [-1, 32, 32, 32]             896\n",
            "              ReLU-2           [-1, 32, 32, 32]               0\n",
            "            Conv2d-3           [-1, 32, 32, 32]           9,248\n",
            "              ReLU-4           [-1, 32, 32, 32]               0\n",
            "         MaxPool2d-5           [-1, 32, 16, 16]               0\n",
            "            Conv2d-6          [-1, 128, 16, 16]          36,992\n",
            "              ReLU-7          [-1, 128, 16, 16]               0\n",
            "            Conv2d-8          [-1, 128, 16, 16]         147,584\n",
            "              ReLU-9          [-1, 128, 16, 16]               0\n",
            "           Conv2d-10          [-1, 128, 16, 16]         147,584\n",
            "             ReLU-11          [-1, 128, 16, 16]               0\n",
            "        AvgPool2d-12            [-1, 128, 1, 1]               0\n",
            "           Linear-13                   [-1, 10]           1,290\n",
            "================================================================\n",
            "Total params: 343,594\n",
            "Trainable params: 343,594\n",
            "Non-trainable params: 0\n",
            "----------------------------------------------------------------\n",
            "Input size (MB): 0.01\n",
            "Forward/backward pass size (MB): 2.56\n",
            "Params size (MB): 1.31\n",
            "Estimated Total Size (MB): 3.89\n",
            "----------------------------------------------------------------\n"
          ],
          "name": "stdout"
        }
      ]
    },
    {
      "cell_type": "markdown",
      "metadata": {
        "id": "Z4NRFd6i8KQF"
      },
      "source": [
        "## 学習\n",
        "読み込んだCIFAR-10データセットと作成したネットワークを用いて，学習を行います．\n",
        "今回は，学習エポック数を20とします．\n",
        "1エポック学習するごとに学習したモデルを評価し，最も認識精度の高いモデルが保存されます．\n",
        "各更新において，学習用データと教師データをそれぞれ`inputs`と`targets`とします．\n",
        "学習モデルに`inputs`を与えて，ネットワークの出力とAttention mapを取得します．\n",
        "ネットワークの出力は教師ラベル`targets`との誤差を`criterion`で算出します．\n",
        "また，認識精度も算出します．\n",
        "そして，誤差をbackward関数で逆伝播し，ネットワークの更新を行います．\n",
        "認識精度も同時に計算して，`print`関数で学習経過における誤差や認識精度を表示します．\n"
      ]
    },
    {
      "cell_type": "code",
      "metadata": {
        "id": "nnMVTad98KQG",
        "colab": {
          "base_uri": "https://localhost:8080/"
        },
        "outputId": "b2f1962f-da0b-445a-bb92-5c9a64ace908"
      },
      "source": [
        "epochs = 20\n",
        "best_acc = 0  # best test accuracy\n",
        "\n",
        "for epoch in range(epochs):\n",
        "    train_running_loss = 0.0\n",
        "    train_running_acc = 0.0\n",
        "\n",
        "    # training\n",
        "    model.train()\n",
        "    train_loss = 0\n",
        "    correct = 0\n",
        "    total = 0\n",
        "    count = 0\n",
        "    for batch_idx, (inputs, targets) in enumerate(trainloader):\n",
        "        inputs, targets = inputs.to(device), targets.to(device)\n",
        "        optimizer.zero_grad()\n",
        "        outputs, _ = model(inputs)\n",
        "        loss = criterion(outputs, targets)\n",
        "        loss.backward()\n",
        "        optimizer.step()\n",
        "\n",
        "        train_loss += loss.item()\n",
        "        _, predicted = outputs.max(1)\n",
        "        total += targets.size(0)\n",
        "        correct += predicted.eq(targets).sum().item()\n",
        "        # print statistics\n",
        "        train_running_loss += loss\n",
        "        train_running_acc += 100.*correct/total\n",
        "        count += 1\n",
        "\n",
        "    print('[Epoch %d] Train Loss: %.5f | Train Acc: %.3f%%'\n",
        "                  % (epoch + 1, train_loss/count, train_running_acc/count))\n",
        "\n",
        "    # testing\n",
        "    model.eval() \n",
        "    with torch.no_grad():\n",
        "        test_running_loss = 0.0\n",
        "        test_running_acc = 0.0\n",
        "        test_loss = 0\n",
        "        correct = 0\n",
        "        total = 0\n",
        "        count = 0\n",
        "        for batch_idx, (inputs, targets) in enumerate(testloader):\n",
        "            inputs, targets = inputs.to(device), targets.to(device)\n",
        "            outputs, _ = model(inputs)\n",
        "            loss = criterion(outputs, targets)\n",
        "\n",
        "            test_loss += loss.item()\n",
        "            _, predicted = outputs.max(1)\n",
        "            total += targets.size(0)\n",
        "            correct += predicted.eq(targets).sum().item()\n",
        "\n",
        "            # print statistics\n",
        "            test_running_loss += loss\n",
        "            test_running_acc += 100.*correct/total\n",
        "            count += 1\n",
        "\n",
        "        print('Test Loss: %.5f | Test Acc: %.3f%%'\n",
        "                      % (test_loss/count, test_running_acc/count))\n",
        "        \n",
        "    # save model\n",
        "    if test_running_acc/count > best_acc:\n",
        "        best_acc = max(test_running_acc/count, best_acc)\n",
        "        PATH = './cifar_net.pth'\n",
        "        torch.save(model.state_dict(), PATH)\n",
        "    \n",
        "print('Finished Training')"
      ],
      "execution_count": null,
      "outputs": [
        {
          "output_type": "stream",
          "text": [
            "[Epoch 1] Train Loss: 1.76606 | Train Acc: 25.012%\n",
            "Test Loss: 1.45371 | Test Acc: 47.047%\n",
            "[Epoch 2] Train Loss: 1.42574 | Train Acc: 46.216%\n",
            "Test Loss: 1.21031 | Test Acc: 56.153%\n",
            "[Epoch 3] Train Loss: 1.24113 | Train Acc: 54.078%\n",
            "Test Loss: 1.15074 | Test Acc: 59.260%\n",
            "[Epoch 4] Train Loss: 1.11394 | Train Acc: 59.823%\n",
            "Test Loss: 1.06110 | Test Acc: 63.944%\n",
            "[Epoch 5] Train Loss: 1.01673 | Train Acc: 63.634%\n",
            "Test Loss: 0.95646 | Test Acc: 67.904%\n",
            "[Epoch 6] Train Loss: 0.95282 | Train Acc: 66.708%\n",
            "Test Loss: 0.92317 | Test Acc: 68.825%\n",
            "[Epoch 7] Train Loss: 0.90826 | Train Acc: 68.292%\n",
            "Test Loss: 0.84584 | Test Acc: 70.871%\n",
            "[Epoch 8] Train Loss: 0.87060 | Train Acc: 69.516%\n",
            "Test Loss: 0.83976 | Test Acc: 71.618%\n",
            "[Epoch 9] Train Loss: 0.84604 | Train Acc: 70.585%\n",
            "Test Loss: 0.81663 | Test Acc: 72.404%\n",
            "[Epoch 10] Train Loss: 0.81846 | Train Acc: 71.618%\n",
            "Test Loss: 0.85695 | Test Acc: 72.947%\n",
            "[Epoch 11] Train Loss: 0.80406 | Train Acc: 72.489%\n",
            "Test Loss: 0.75087 | Test Acc: 75.654%\n",
            "[Epoch 12] Train Loss: 0.77768 | Train Acc: 73.318%\n",
            "Test Loss: 0.75705 | Test Acc: 75.232%\n",
            "[Epoch 13] Train Loss: 0.76327 | Train Acc: 73.687%\n",
            "Test Loss: 0.74694 | Test Acc: 75.809%\n",
            "[Epoch 14] Train Loss: 0.74734 | Train Acc: 74.455%\n",
            "Test Loss: 0.69946 | Test Acc: 76.262%\n",
            "[Epoch 15] Train Loss: 0.73644 | Train Acc: 74.500%\n",
            "Test Loss: 0.76686 | Test Acc: 75.704%\n",
            "[Epoch 16] Train Loss: 0.73313 | Train Acc: 74.984%\n",
            "Test Loss: 0.69092 | Test Acc: 77.330%\n",
            "[Epoch 17] Train Loss: 0.71615 | Train Acc: 75.192%\n",
            "Test Loss: 0.75502 | Test Acc: 76.396%\n",
            "[Epoch 18] Train Loss: 0.71197 | Train Acc: 75.878%\n",
            "Test Loss: 0.72062 | Test Acc: 76.645%\n",
            "[Epoch 19] Train Loss: 0.69897 | Train Acc: 76.194%\n",
            "Test Loss: 0.71444 | Test Acc: 76.257%\n",
            "[Epoch 20] Train Loss: 0.69327 | Train Acc: 75.962%\n",
            "Test Loss: 0.66496 | Test Acc: 78.916%\n",
            "Finished Training\n"
          ],
          "name": "stdout"
        }
      ]
    },
    {
      "cell_type": "markdown",
      "metadata": {
        "id": "wlOo-rzY8KQL"
      },
      "source": [
        "##テスト\n",
        "学習したネットワークのテストデータに対する認識精度の確認を行います．\n",
        "まず，学習したネットワークを評価するために保存したモデルをロードします．"
      ]
    },
    {
      "cell_type": "code",
      "metadata": {
        "id": "WSa0ATFj8KQP",
        "colab": {
          "base_uri": "https://localhost:8080/"
        },
        "outputId": "87a09cd9-61ca-4ccf-ef05-2bb116cb498f"
      },
      "source": [
        "model = CAM()\n",
        "model.to(device)\n",
        "PATH = './cifar_net.pth'\n",
        "model.load_state_dict(torch.load(PATH))"
      ],
      "execution_count": null,
      "outputs": [
        {
          "output_type": "execute_result",
          "data": {
            "text/plain": [
              "<All keys matched successfully>"
            ]
          },
          "metadata": {
            "tags": []
          },
          "execution_count": 9
        }
      ]
    },
    {
      "cell_type": "markdown",
      "metadata": {
        "id": "VwWfJO358KQS"
      },
      "source": [
        "次に，学習したネットワークを用いて，テストデータに対する認識精度の確認を行います．\n",
        "`model.eval()`を適用することで，ネットワーク演算を評価モードへ変更します． これにより，学習時と評価時で挙動が異なる演算（dropout等）を変更することが可能です． また，`torch.no_grad()`を適用することで，学習時には必要になる勾配情報を保持することなく演算を行います．"
      ]
    },
    {
      "cell_type": "code",
      "metadata": {
        "id": "ij38kQBP8KQS",
        "colab": {
          "base_uri": "https://localhost:8080/"
        },
        "outputId": "379c2615-416b-45ef-ff9b-825f7543e51f"
      },
      "source": [
        "model.eval()\n",
        "\n",
        "running_loss = 0.0\n",
        "running_acc = 0.0\n",
        "test_loss = 0\n",
        "correct = 0\n",
        "total = 0\n",
        "count = 0\n",
        "\n",
        "with torch.no_grad():\n",
        "    for batch_idx, (inputs, targets) in enumerate(testloader):\n",
        "        inputs, targets = inputs.to(device), targets.to(device)\n",
        "        outputs, _ = model(inputs)\n",
        "        loss = criterion(outputs, targets)\n",
        "\n",
        "        test_loss += loss.item()\n",
        "        _, predicted = outputs.max(1)\n",
        "        total += targets.size(0)\n",
        "        correct += predicted.eq(targets).sum().item()\n",
        "\n",
        "        # print statistics\n",
        "        running_loss += loss\n",
        "        running_acc += 100.*correct/total\n",
        "        count += 1\n",
        "\n",
        "    print('Test Loss: %.5f | Test Acc: %.3f%%'\n",
        "                  % (test_loss/count, running_acc/count))"
      ],
      "execution_count": null,
      "outputs": [
        {
          "output_type": "stream",
          "text": [
            "Test Loss: 0.66496 | Test Acc: 78.916%\n"
          ],
          "name": "stdout"
        }
      ]
    },
    {
      "cell_type": "markdown",
      "metadata": {
        "id": "qiY_kiXb8KQV"
      },
      "source": [
        "## CAMによるAttention mapの可視化\n",
        "出力されたクラス確率の上位5クラスに対するAttention mapを可視化して，ネットワークの判断根拠を確認してみます．\n",
        "再度，実行することで他のテストサンプルに対するAttention mapを可視化することができます．\n",
        "pred (prediction) は認識結果，conf (confidence) は認識結果に対する信頼度を示しています．"
      ]
    },
    {
      "cell_type": "code",
      "metadata": {
        "id": "cB0SvioEwlm4",
        "colab": {
          "base_uri": "https://localhost:8080/",
          "height": 380
        },
        "outputId": "0acf3291-dd5f-4d5d-ff08-b334404adbb6"
      },
      "source": [
        "import cv2\n",
        "from ipykernel import kernelapp as app\n",
        "\n",
        "testloader = torch.utils.data.DataLoader(testset, batch_size=1,\n",
        "                                         shuffle=True, num_workers=20)\n",
        "\n",
        "classes_list = ['plane', 'car', 'bird', 'cat',\n",
        "           'deer', 'dog', 'frog', 'horse', 'ship', 'truck']\n",
        "\n",
        "softmax = nn.Softmax(dim=1)\n",
        "\n",
        "def min_max(x, axis=None):\n",
        "    x_min = x.min(axis=axis, keepdims=True)\n",
        "    x_max = x.max(axis=axis, keepdims=True)\n",
        "    return (x - x_min) / (x_max - x_min)\n",
        "\n",
        "with torch.no_grad():\n",
        "    v_list = []\n",
        "    att_list = []\n",
        "    for batch_idx, (inputs, targets) in enumerate(testloader):\n",
        "        inputs, targets = inputs.to(device), targets.to(device)\n",
        "        outputs, attention = model(inputs)\n",
        "        outputs = softmax(outputs)\n",
        "        d_inputs = inputs.data.cpu()\n",
        "        d_inputs = d_inputs.numpy()\n",
        "\n",
        "        in_b, in_c, in_y, in_x = inputs.shape\n",
        "        item_img = d_inputs[0]\n",
        "        v_img = ((item_img.transpose((1, 2, 0)) * [0.2023, 0.1994, 0.2010]) + [0.4914, 0.4822, 0.4465]) * 255\n",
        "        v_img = np.uint8(v_img)\n",
        "\n",
        "        # Class Activation Mapping\n",
        "        out_put = outputs.data.topk(5, 1, True, True)\n",
        "        top5_score, top5_idx = out_put\n",
        "        top5_idx = top5_idx.cpu()\n",
        "        top5_idx = top5_idx.numpy()\n",
        "        maps, vecs = attention\n",
        "\n",
        "        for idx_rank, item_rank in enumerate(top5_idx[0]):\n",
        "            contributes = vecs[item_rank]\n",
        "            vis_maps = maps[0] * contributes.reshape(contributes.shape[0], 1, 1)\n",
        "            vis_maps = vis_maps.data.cpu()\n",
        "            vis_maps = vis_maps.numpy()\n",
        "            sum_map = np.sum(vis_maps, axis=0)\n",
        "\n",
        "            resize_map = cv2.resize(sum_map, (in_x, in_y))\n",
        "            resize_map = min_max(resize_map)\n",
        "            resize_map *= 255.\n",
        "            resize_map = np.uint8(resize_map)\n",
        "\n",
        "            jet_map = cv2.applyColorMap(resize_map, cv2.COLORMAP_JET)\n",
        "            jet_map = cv2.addWeighted(v_img, 0.6, jet_map, 0.4, 0)\n",
        "            v_list.append(v_img)\n",
        "            att_list.append(jet_map)\n",
        "        break\n",
        "\n",
        "# Show attention map\n",
        "cols = 1\n",
        "rows = 1\n",
        "\n",
        "fig = plt.figure(figsize=(14, 2.0))\n",
        "plt.axis(\"off\")\n",
        "for r in range(rows):\n",
        "    for c in range(cols):\n",
        "        cls = targets[c].item()\n",
        "        ax = fig.add_subplot(r+1, cols, c+1)\n",
        "        plt.title('Input image\\n\\n{}'.format(classes_list[cls]))\n",
        "        ax.imshow(v_list[cols * r + c])\n",
        "        ax.set_axis_off()\n",
        "plt.show()\n",
        "\n",
        "a_cols = 5\n",
        "a_rows = 1\n",
        "\n",
        "fig = plt.figure(figsize=(12, 1.5))\n",
        "plt.title('Attention map\\n\\n\\n')\n",
        "plt.axis(\"off\")\n",
        "for r in range(a_rows):\n",
        "    for c in range(a_cols):\n",
        "        cls = top5_idx[0][c].item()\n",
        "        conf = top5_score[0][c]\n",
        "        ax = fig.add_subplot(r+1, a_cols, c+1)\n",
        "        plt.title('class: {}\\nconf: {:.2f}'.format(classes_list[cls], conf))\n",
        "        ax.imshow(att_list[a_cols * r + c])\n",
        "        ax.set_axis_off()\n",
        "plt.show()"
      ],
      "execution_count": null,
      "outputs": [
        {
          "output_type": "stream",
          "text": [
            "/usr/local/lib/python3.6/dist-packages/ipykernel_launcher.py:66: MatplotlibDeprecationWarning: Adding an axes using the same arguments as a previous axes currently reuses the earlier instance.  In a future version, a new instance will always be created and returned.  Meanwhile, this warning can be suppressed, and the future behavior ensured, by passing a unique label to each axes instance.\n"
          ],
          "name": "stderr"
        },
        {
          "output_type": "display_data",
          "data": {
            "image/png": "iVBORw0KGgoAAAANSUhEUgAAAHsAAACpCAYAAAALMUJbAAAABHNCSVQICAgIfAhkiAAAAAlwSFlzAAALEgAACxIB0t1+/AAAADh0RVh0U29mdHdhcmUAbWF0cGxvdGxpYiB2ZXJzaW9uMy4yLjIsIGh0dHA6Ly9tYXRwbG90bGliLm9yZy+WH4yJAAASn0lEQVR4nO1da4xd11X+1rmPc+/Mnbkz4xl77Di24zhx7KiPNGlLBWrTNKSt0hZRJJBQQRRVqkAIKn5QIfGI+EFThEBC/ABRECJR1aYBJVSkvERTEkgKidM6KakT52F7Etvz8rzu+5y7+XGuz1pru/f4xvE8PHt/kuV9Z+27z75nnb3WXmuvtQ4ZY+DhBoLNnoDHxsEz2yF4ZjsEz2yH4JntEDyzHYKTzCaiHxDRnZs9j43GhjGbiF4nors34Dr3EdGDWX2MMbcaYx5f77lsNTi5sp2FMWZD/gF4HcDdvfYvAXgSwB8DuADgNQAfF30fB/AlAP8DYAXAowAmerQ7Acz8qLEBfAxAG0AHwBqA7w8wl/sAfAPAgwBWATwP4GYAvw1gFsAZAPeI734WwIu9vq8C+Lw19m8BOAvgTQCfA2AAHOrRwt5vPg3gPIC/AFDeKB5s5sp+P4ATACYB/BGAvyYiEvRfBPDLAHYDiAD82eUGNMb8M4A/BPB1Y0zFGPOuAefySQAPABgH8ByAf0Ei9a4D8AcA/lL0nQXwCQCjSBj/p0T0HgAgoo8B+E0kD94hJA+mxP1IHqR39+jXAfi9Aef49rGJK/ukoA0hWQHTYmXfL+hHkazYHDJWtlipD76FudwH4N8E7ZNIpEKu93mkN7exPmM9AuA3eu2/AfAlQTvU++4hAASgBuBGQf8AgNc2igf5q/C8XCnOXWwYY+q9RV0R9DOifQpAAYkUWA+cF+0GgHljTCw+X5zbEhF9HMDvI1mhAZIH9flenz0AnhFjyd8w1ev7rBBghOQB3hBsJrMvh+tFex8SPTyPZHUMXSQQUQ7JjbyIdTvGI6IQwN8jUTGPGmM6RPQIEqYBia7eK74if8M8kgfnVmPMG+s1xyxs5d34Z4joKBENIdGbD/dW20sASkR0LxEVAPwOko3PRZwHcICI1uO3FXvXmgMQ9Vb5PYL+EIDPEtGR3rx/9yLBGNMF8FdIdPxOACCi64joo+swzx+JrczsBwD8LRJxXwLw6wBgjFkG8KsAvgLgDSQrfUZ87xu9/xeI6NjVnJAxZrU3j4eQWBE/D+AfBf1bSDaS3wZwEsDTPVKr9/8XL/6diFYA/DuAw1dzjlmg3kZhS4GIHkeyyfrKZs/l7YCIjgB4AUBojIk2ez5beWVfkyCinyaikIjGAXwZwDe3AqMBz+z1wOeR2OKvAIgB/MrmToexJcW4x/rAr2yH4JntEDyzHYJntkPwzHYIntkOwTPbIXhmOwTPbIfgme0QPLMdgme2Q/DMdgie2Q7BM9sheGY7hG3P7Msl+rmU0bmV48Y3BMaYWzd7DhuFbb+yPRjbitlE9EUieoOIVonoBBF9pEcqEtHf9f7+AyK6Q3wnzRvvifyHiejrvb7HiGjQ5MAtj23DbCI6DODXALzXGDMC4KNIEvgA4FMAvgZgDElQ/59nDPVTSBINJgB8FcAjvcyTax7bhtlIwnZDAEeJqGCMed0Y80qP9qQx5rFe+tADALJW67PGmIeNMR0Af4IkG+XH1nXmG4Rtw2xjzEkAX0CSgjtLRF8joj098jnRtY4kV6zf5jTNvOzlZ80gyc685rFtmA0AxpivGmN+AsB+JNmcX76CYdLMy15y4F4kVRSueWwbZhPRYSK6q5dW20SSHtu9gqFuJ6JP91b+F5Ak5T19me9cE9g2zEair+9Hkgd9DsBOJHVR3ioeBfBzSLI0fwHAp3v6+5qHT/8RIKL7kBS7+cxmz2U9sJ1Wtsdl4JntELwYdwh+ZTsEz2yHkHnE+eh3vpfK+G43VjRdjHC9Yfq0rz7s35X16eqslbd+H+07IKf8qQ++q++AfmU7BM9sh7CFIlXs5+5KPJ1XhiyVtFVsFTXFK5yUX9kOwTPbIXhmO4SBdfb6m1obp6NtSC/ixpqUg+NqODr9ynYIntkOYQuZXlnYKgbQVpnHlcGvbIfgme0QPLMdwjWis9cXV8fY4lHI2BT+Q9e6mBE0Gngml5x7DfQtv7Idgme2Q3gbYjzrOWFvGNkyTWBQr1BXeLVsgZUTjjeyxJsRnSMxRmBdNy9ka2z9LDlGYLoWTQR0dMtps2C9EcSYRtpuh9bFA75gTseHZMCLcY/LwDPbIQwuxi+RHFkHF1c3ZkzuUm0RLMePLKL8HAc8RhhZkWWm/245yvEfcvZPFiqqa1gGm7LumBPyOYz1BeKYxzDr7KHzK9sheGY7BM9sh3AZnS3tmreiT4Quy1Dtg8YJBEKnBpa9lhPzCsi2XfjigVDGBatbXthXbWt82TVnmTghuNRKblSYm6deVv0Wv3+caQePKlr54C0824httvUIofAr2yF4ZjuETDFuhMfIzvaUsVqXmAzqY0ZMdpZmEF/rCjMvZ7QMbs1fSNthrAsklEXKkhni96nbtXMuzM6n7R0H9yraaHk4bU+WRxUtzPE4pekSj//GD1W/b//Tf6Tt5r3Dipa76Qi35fTXQY77le0QPLMdgme2Q8jU2fkCPwtxrHWlirW2T5sG1tlZJ2LCjShsJbJOns68fCJt3zBWVbSJMp9E0XAxbY/u2aH6vbIwl7b3TY4p2lxtNW134rai7T96E9OKbDad36/HWL2TzauxvbsVrSj0dJSxh8kyUwetnuFXtkPwzHYImWJ8ZKSStuNYn8i32yx/okibPJ2OELUDOt5sUWSE7yof8XinXz2p+k3v3ZW2b3v/uxXt3OnX0vaSEMET42XVb/+tN6RtKlteMsO3aOXCgqK9dOJY2v7hS6+m7Wdf+J7qN9eope1PTE8rmnJSXrG55YMXPCx4ZjuETDFeyIlnwejnIido3a6uvZ4PWmk77rL4j43uFwha3jpo6QixXsqzmJqYGFH9JsfZq7XYriva6fpS2q53WNWMtxqq3/A4q6tCpaRotaXZtH3s+DOKNvPK/6XtlRUev9XSt/X6G25O2+WK3ql3wPcga+Upj+UlKs/vxj0seGY7BM9sh5CpsyvCA7W0sqK/KE58upYOCcD6KyeCBqKuvlzBsG6P6suKNlRhb5jU09URrfdnzpxO24221sWTk+ytKhb51Kta0adX83P8Vonv/utjiva/z343bddWLyjaznHWv5RnXR8Eel9x9LYP8DwKoaJ1RMBClu0VBLm0bZvBg8bf+5XtEDyzHUK2B63CB+3S1AKApvCgLa2sKVoU8LB5lj4oW+JmVMR1zy8uKhrl2bU0+yZ7oFrtluoXt7lfZMWglQosWmvCi/Wtx76p+j391BNpe3nhnKJ1oybPv6RF8PwiH5KUhvlat7/vvarf1C72msXWPZDi2Zj+AXt27ViJXOA9aB4WPLMdgme2Q8jU2YFww4VFbfLEXablc1pnSGtCmglLM6dUv7Mz7G6sr+gTpekjt6XthQ7rNQr0lCd3jPO12k1Fe+opfh3Xfz/1n2n7xZdeUP2KYv7VsnaXmpjHXJjX+4qxXTem7R//8IfS9s1H3qH6dQ3Pvws7CITbWZo3J0xdu9+g5QL9ynYIntkOIVOMRx0WYa22Fj9Rm4MByD6FESZE3OF+zz/zX6rf3HMcT71jUseF7T78zrQ9XmVPVRRroTVzmoMGnnziCUU7fvy5tL2ywt6vYqhVkgy9aDUsE0eYPFNTOn7snnt/Nm0ffQebWx07LVfcnktj7OVnkZosTDIAKBT6v9U5iqK+NAm/sh2CZ7ZDyBTjsYgta7e056rVEjFo1i7YiNTNQAQlDFmlC0IhQCvDOi2mKSTT0oIIIDimAwheeJ7jvZYW9Y6+kGNRuGfXVNqu1/WBCeX5wGdsfJeiHbiRw4A/9OGfVLTd+w+kbXE7VMEfADCUseWWIv4KS2GT96B52PDMdgie2Q4hU2d3hC5uN3UwXyy3+9ZpTc4wTVo5O6emVL+Z/FDaPnnmrKKdECdTZ+bOp+2FxTn0Q1jWp1LypC4MORji+gPaw3X9gUNp++BNujLCrt370nahrPcVa3VW1NIitKxDfZoVWG8+FEo7ELrX1sOBCPgka43W6nrP1A9+ZTsEz2yHkCnG6zUOSmg3tagg4uckb3mFYpFq02iymfPqWSt9ZpHFIOX1c7e88GLa7oprtZraWxSL4jfhcEXRbrqFRfLhw5watG/fzarf9O49aTvI6VvSFPNvW/HmkVgrRh5HXBKTJ8tIKJKqjSoPlzqWLpB1Te0Ajrl5HRvXD35lOwTPbIfgme0Qsk+9msJ9F+muUit1rVOXZov1zbI4RRrdfVD1e+cHOVDg5ZMnFG32zZm0LQvWTU9fr/rddTe7MG+/432KNjrGgQ2lITbzIivqT+etaVoYssu13dGVFzqRdG/y3+04bmlS2ePLuXREdQv7FRJGXCuyTubyZrB6w35lOwTPbIeQuf5LQoQ1jRZh8uRobW1V00TlhZU17pcvag/X1O7r0vbCsk4vKpTZjJoY58CGWw5rD9ftd7wnbe/bv1/RoojFnUqzyXjEOx1dRSJfEKZdnLf68pjdWBYI1GNKER9ZqTt54VHLieJ+dsGiOGJzq2DVVa8M6UCHfvAr2yF4ZjsEz2yHkKmzV5ucRrtqpew2Guw+rdVriha1hU6RZoJVSFYacPtF1Aeg9V5RmE2VHbpMxQWxX6iuLSnaSIX1flnsF+zYc1XCwjKNpLnVaup9CyDKiQRS3/ZPqbXdsUZ8LxeIeuNW3GNOxJ7n8tqVSgVvenlY8Mx2CJnr/8xZrsMdW16ySJgGzaYVU96Sb7Lj6IUoKKp+K00Wg13SaTejw1y9YKjKlRLCYS3GDbF4XljUqcMNGVwgCue1Wlocy7hr28NFfU6lAKCj3okhTuasAMyoIwr4FbSZ1BSBnB0h/u3s3WJRVHYgvUbb0WCv+vMr2yF4ZjuETDH+0D98J21Xx7X4zOdZPNsxzg0REyUPCxrWKx+aQhU0alr0ycOPXVNcuaCQ11POy1gtqzpBfYV358si/ccuJS2tAns3HoasJuwUpZKIdZcFhRqXxOvxvNZqmja3wKpHOu/aLW25SBVSzGtPZFFknn7uZ+5CP/iV7RA8sx2CZ7ZDyNTZx19m06tU0sF2ofBqDY/oQD8ieeDP5kSrpfWyDEysrWrvVxQxbXGJv5ezzDd5yF8uafOtI0yeep1tmYJVRaIi5j9U0rXIpYk5q+vywSwLfSvMN2nmAUAg39Qb6GsPVzkYIxJv/7W9ktJj2Q0s06vrT708LHhmO4RMMT46yuZWqTykaOGQMDvyWrRKKdZaZVOjtqbNjkDU2h6t6HqfXeFNaghP22hVz0OagHmrLmihxOKtXNGqRkF6yax4Liny86Eef1UcjDQioeasuxqGrF5iK7asIOY/XuV7OlodV/2WxUFU13qbbclSX/3gV7ZD8Mx2CJ7ZDiFTZy/Oc3qsXWB1WNQDlzHZABDH8oSJTYZmQ+vsULwRsDKh3bHK9LrAxWPXatokqQyLE7FQ666SMKPKJdbZkWUa1YQLM7AK8k6I2POoa8fH8xzDIl8rb7l0c8JUqtX1PVhe4EJ6q0L32i5oXdDWij3PeiO9HGOgXh7bAp7ZDiH7ZenikLwyrE2jgnilxIplUoWiLvfOaS4U17Rj1cQxT8eq21YQFYx27OAKRnalI2kShlZc+rBI4Q0LbNZIDx8A5HL8PdusWavx9RoNPf+uKArYFbm4doG6QIhkWzwPlXheZfFb7NM9KbrtOXox7nEJPLMdQrYHbWJn2rZ33CPVCaZZO0wZftvNsXct0FIWJEJx5dtzks88taEhbsex9XyKEFuC9uQNlUYFTcaI6coFw6LwTmyJxE7E4wdW2o2Mr6utsYiPbJ0kYIt4KdZlGlW7bcfJ8YFM10oNalkFCfvBr2yH4JntEDyzHUKmzt4risEVipZ3Spx6jWVs/WWB26Ulffpfq3NwRHV4QtHywpO1Nsd7glZL682u8Go1LNOuJdKQOkJP15s6vrwo9GjLqgolXwQ/NqYDDqf2cMrx8ARXXLpg/c6G8BxWJycVLRAmWyDNK6sC1dISB0yWStoMJhpszfqV7RA8sx1Cdr1x4WnKk+66Vmex2LBinENhNgXieSqFuvbn+BSLz65lktRlKozwMoWW90sKu3zO/jl87ZwYv2rFzEXCVJQeM0DHazctk21+luugx+L+2IdGEGPMzp5XpFioubYYv1qtqn4yjry+puc4UtUvku0Hv7Idgme2Q/DMdgiZOvvUKX7DXqmk3aVFoUfzhf6puB2hkwLrJGdI6M5iUY9RFL7VEXHClrfqcMsToMCOpxYuRxloYOdzqfeYDOl9hXpToZVL1ha/E+LkrN7We5imCLiQVY8AoCtO/uS8VqzqUfLUy06fXrGqYvSDX9kOwTPbIZAdz+SxfeFXtkPwzHYIntkOwTPbIXhmOwTPbIfw/9qg2iIUjIFZAAAAAElFTkSuQmCC\n",
            "text/plain": [
              "<Figure size 1008x144 with 1 Axes>"
            ]
          },
          "metadata": {
            "tags": [],
            "needs_background": "light"
          }
        },
        {
          "output_type": "display_data",
          "data": {
            "image/png": "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\n",
            "text/plain": [
              "<Figure size 864x108 with 6 Axes>"
            ]
          },
          "metadata": {
            "tags": [],
            "needs_background": "light"
          }
        }
      ]
    },
    {
      "cell_type": "markdown",
      "metadata": {
        "id": "MFFp16Bgcs4x"
      },
      "source": [
        "#課題\n",
        "1. ハイパーパラメータ (学習率，エポック数，ミニバッチサイズ等) を変更して，Attention mapの変化を確認してみましょう．"
      ]
    },
    {
      "cell_type": "code",
      "metadata": {
        "id": "0XznUZILdgos"
      },
      "source": [
        "#ここにコードを書く"
      ],
      "execution_count": null,
      "outputs": []
    },
    {
      "cell_type": "markdown",
      "metadata": {
        "id": "MjKIGtvknT-G"
      },
      "source": [
        "# 参考文献\n",
        "- [1] B. Zhou, A. Khosla, A. Lapedriza, A. Oliva,\n",
        "and A. Torralba, \"Learning deep features for discriminative\n",
        "localization\". In 2016 IEEE Conference on Computer\n",
        "Vision and Pattern Recognition, pp. 2921–2929, 2016.\n",
        "\n",
        "- [2] M. Lin, Q. Chen, and S. Yan, \"Network in network\".\n",
        "In 2nd International Conference on Learning Representations,\n",
        "Banff, AB, Canada, April 14-16, 2014, Conference\n",
        "Track Proceedings, 2014."
      ]
    }
  ]
}
>>>>>>> new_update_heavy
