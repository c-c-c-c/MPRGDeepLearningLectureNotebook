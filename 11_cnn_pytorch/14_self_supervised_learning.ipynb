{
  "nbformat": 4,
  "nbformat_minor": 0,
  "metadata": {
    "accelerator": "GPU",
    "colab": {
      "name": "14_self_supervised_learning.ipynb",
      "provenance": [],
      "collapsed_sections": [],
      "include_colab_link": true
    },
    "kernelspec": {
      "display_name": "Python 3",
      "language": "python",
      "name": "python3"
    },
    "language_info": {
      "codemirror_mode": {
        "name": "ipython",
        "version": 3
      },
      "file_extension": ".py",
      "mimetype": "text/x-python",
      "name": "python",
      "nbconvert_exporter": "python",
      "pygments_lexer": "ipython3",
      "version": "3.6.10"
    }
  },
  "cells": [
    {
      "cell_type": "markdown",
      "metadata": {
        "id": "view-in-github",
        "colab_type": "text"
      },
      "source": [
        "<a href=\"https://colab.research.google.com/github/machine-perception-robotics-group/MPRGDeepLearningLectureNotebook/blob/master/11_cnn_pytorch/14_self_supervised_learning.ipynb\" target=\"_parent\"><img src=\"https://colab.research.google.com/assets/colab-badge.svg\" alt=\"Open In Colab\"/></a>"
      ]
    },
    {
      "cell_type": "markdown",
      "metadata": {
        "id": "HpXJ4V8D2Cc_"
      },
      "source": [
        "# 14. 自己教師付き学習\n",
        "DNNは一般的に，大量の教師ラベル付きデータを用いて学習を行うことで高い認識性能を発揮しています．しかし，教師ラベルは人手によって付与されるため，データ数に比例して人的コストが増えてしまいます．また，問題設定によっては画像に対して1ピクセル毎のラベル付けが必要な場合やデータ自体を集めることが困難な場合もあります．これらのことから期待される問題設定やタスクに対して理想的なデータセット（大量の教師ラベル付きデータ）を用意するのは多くの場合困難です．このような問題を解決する学習方法の１つとして「自己師付き学習」があります．\n",
        "\n",
        "<img src=\"https://dl.dropboxusercontent.com/s/cw3nd3iq0ggb01g/sup.png\" width = 57%>\n",
        "\n",
        "自己教師付き学習（Self-supervised Learning）は，教師ラベルのないデータを用いた学習方法です．教師ラベルなしデータに対して，独自の問題を設計することで疑似的な教師ラベルを付与し，ネットワークの学習を行います．\n",
        "\n",
        "<img src=\"https://dl.dropboxusercontent.com/s/6qlgcye8hr4blaq/self_sup.png\" width = 57%>\n",
        "\n",
        "自己教師付き学習として様々な学習方法が提案されてますが，ここではContrastive Learningという枠組みについて紹介します．\n",
        "\n",
        "# Contrastive Learning\n",
        "\n",
        "Contrastive Learningは，似た入力データは特徴空間においても似た特徴ベクトルとなり，異なるデータは異なる特徴ベクトルとなるように学習する手法です．\n",
        "具体的には，同一画像に対してノイズや幾何学変換などを行い，ノイズや幾何学変換を行う前の画像が同じ場合は特徴ベクトルを近づけ，異なる場合は離すように学習を行います．\n",
        "つまり，ネットワークは「複数あるデータの中から変換前が同じ画像の組み合わせを見つける」という問題を解いていることになります．\n",
        "この一連の処理は，「13_半教師付き学習」で紹介したConsistency Regularizationと似た学習ではありますが，Contrastive Learningでは異なるデータに対しても関係づけを行っています．\n",
        "\n",
        "<img src=\"https://dl.dropboxusercontent.com/s/r7yrz62wtt0g7iw/semi_sup_CR.png\" width = 57%>\n",
        "\n",
        "今回は，Contrastive Learningの中でも「A Simple Framework for Contrastive Learning（SimCLR）」という手法について紹介すると共に，簡単な問題設定から実際に学習を行います．\n",
        "\n",
        "# SimCLR\n",
        "\n",
        "## 学習方法\n",
        "ミニバッチの取得以降の学習の流れは以下のようになります．\n",
        "\n",
        "1. ミニバッチ内の各データに対して，データ増幅を適用し，1つのデータから2つのデータ増幅適用データを作成\\\n",
        "（データ数がN枚から２N枚へ増加）\n",
        "2. データをネットワーク(+MLP)に入力\n",
        "3. ネットワークが出力した特徴ベクトル間の類似度を計算\n",
        "\n",
        "<img src=\"https://dl.dropboxusercontent.com/s/rte7jfpzb3md7tg/SimCLR_2.png\" width = 57%>\n",
        "\n",
        "このとき，学習を行うネットワークは，特徴抽出器に該当する部分のみを利用し，ネットワークが抽出した特徴ベクトルをMLP（２～３層の多層パーセプトロン）へ入力します．\n",
        "特徴ベクトルの類似度計算には，MLPが出力した特徴ベクトルを利用します．\n",
        "\n",
        "## 損失式\n",
        "２N枚に拡張したミニバッチの中には，ある１枚のデータに対して，1枚の近づけたいデータと(2N-2)枚の離したいデータがあります．\n",
        "そのため，データ毎に近づけたいデータと離したいデータの組み合わせが異なることになります．\n",
        "\n",
        "特徴ベクトル間の類似度計算には，コサイン類似度を利用します．\n",
        "コサイン類似度はベクトル間のなす角度を計算し，値が1に近いほど２つのベクトルの向きが近いことを表します．\n",
        "\n",
        "損失設計は以下のようになり，この損失式を NT-Xent（Normalized Temperature-scaled CROSS entropy）損失と呼びます．\n",
        "このとき，$z_i$は基準となるデータの特徴ベクトル，$z_j$は近づけたいデータの特徴ベクトル，$T$は温度パラメータ，$N$はバッチサイズを表します．\n",
        "この損失計算をミニバッチ内のデータ毎に行い，最終的な損失とします．\n",
        "\n",
        "<img src=\"https://dl.dropboxusercontent.com/s/zztz70av6dgmwdj/SimCLR_loss.png\" width = 57%>\n",
        "\n",
        "この損失式を整えると以下のようになります．\n",
        "近づけたい特徴ベクトルの類似度が分母，離したい特徴ベクトルの類似度が分子となることがわかります．\n",
        "損失値を小さくするために，分母を大きく，分子を小さくするような学習が行われます．\n",
        "\n",
        "<img src=\"https://dl.dropboxusercontent.com/s/6v0hob1q5r6szl9/SimCLR_loss2.png\" width = 57%>\n",
        "\n",
        "\n",
        "## データ増幅\n",
        "Contrastive Learningの項において，ネットワークは「複数あるデータの中から変換前が同じ画像の組み合わせを見つける」という問題を解いていると説明しました．\n",
        "実際には，どのような問題を解いているのでしょうか？\n",
        "\n",
        "SimCLRではデータ増幅として主に「クロップ」，「リサイズ」，「明るさ，コントラスト，彩度，色相の変化」を利用しています．\\\n",
        "「クロップ」について着目すると以下のような２つの問題設定が考えられます．\n",
        "\n",
        "<img src=\"https://dl.dropboxusercontent.com/s/8785c0qxjpqaqor/data_aug.png.png\" width = 70%>\n",
        "\n",
        "このとき，「リサイズ」はランダムなサイズでクロップした画像に対して，画像サイズが原画像と同じになるように変更します．\\\n",
        "また，同一画像をもとにしたクロップ画像は色情報やヒストグラムが似た画像になりやすいです．\n",
        "そのため，「明るさ，コントラスト，彩度，色相」をランダムに変化させることで，ネットワークが色情報だけに着目しないようにします．\n",
        "\n",
        "## 学習の評価\n",
        "Contrastive Learningによって学習が行われるのは，ネットワークの特徴抽出器とMLPのみのため，クラス分類問題などによる評価を行うことができません．そのため，最終的な評価時は，MLPを取り外し，ネットワークの特徴抽出器と問題設定に合わせたクラス識別器を用いて再学習やファインチューニングを行います．\n",
        "\n",
        "SimCLRの論文内では以下の３つの実験から学習方法の評価を行っています．\n",
        "\n",
        "1. 線形評価　　　：クラス識別器のみをデータセットを用いて学習\n",
        "2. 半教師付き学習：特徴抽出器とクラス識別器をデータセットの1～10\\%のラベル付きデータから学習\n",
        "3. 転移学習　　　：クラス識別器のみの学習と特徴抽出器とクラス識別器の学習の２つから評価"
      ]
    },
    {
      "cell_type": "markdown",
      "metadata": {
        "id": "qzQjzxih2CdA"
      },
      "source": [
        "# 畳み込みニューラルネットワークの自己教師付き学習\n",
        "クラス分類問題のデータセットを用いて，SimCLRに基づいたネットワークの学習を行います．"
      ]
    },
    {
      "cell_type": "markdown",
      "metadata": {
        "id": "8Lpmx0gO2CdA"
      },
      "source": [
        "## モジュールの読み込み\n",
        "まず初めにGoogle Colaboratory上にインストールされていないライブラリのインストールを行います．\\\n",
        "インストール時のログが長いため，「%%capture」というセルマジックを使い，ログを非表示にします．"
      ]
    },
    {
      "cell_type": "code",
      "metadata": {
        "id": "ZO-PhSaPS1QE"
      },
      "source": [
        "%%capture\n",
        "! pip install git+https://github.com/PytorchLightning/pytorch-lightning-bolts.git@master --upgrade\n",
        "! pip install pytorch-lightning==0.9.1rc1 --upgrade"
      ],
      "execution_count": 1,
      "outputs": []
    },
    {
      "cell_type": "code",
      "metadata": {
        "id": "VkOJk9mW2CdB"
      },
      "source": [
        "from time import time\n",
        "import torch\n",
        "import torch.nn as nn\n",
        "import torch.nn.functional as F\n",
        "import torchvision\n",
        "import torchvision.transforms as transforms\n",
        "\n",
        "from pl_bolts.optimizers.lr_scheduler import LinearWarmupCosineAnnealingLR\n",
        "from pl_bolts.optimizers import LARSWrapper"
      ],
      "execution_count": 2,
      "outputs": []
    },
    {
      "cell_type": "markdown",
      "metadata": {
        "id": "GPuOra882CdC"
      },
      "source": [
        "## データセットの準備"
      ]
    },
    {
      "cell_type": "markdown",
      "metadata": {
        "id": "TlrNwkXU2CdC"
      },
      "source": [
        "### データ増幅の定義\n",
        "SimCLRによる学習を行うには，教師なしデータ１枚につき，データ増幅を施した２枚の画像を取得する必要があります．\\\n",
        "「13_半教師付き学習」では，自作のDatasetクラスによって実現しましたが，今回は自作のデータ増幅クラスによって実現します．"
      ]
    },
    {
      "cell_type": "code",
      "metadata": {
        "id": "mP9BaWl12CdC"
      },
      "source": [
        "# 自作データ増幅クラス\n",
        "class TransformsSimCLR:\n",
        "    def __init__(self):\n",
        "        c_w = 0.5   # color_jitterの強さの調整\n",
        "        color_jitter = transforms.ColorJitter(0.8*c_w, 0.8*c_w, 0.8*c_w, 0.2*c_w)  # ランダムに明るさ,コントラスト,彩度,色相を変化\n",
        "        self.train_transform = transforms.Compose([\n",
        "            transforms.RandomResizedCrop(32),               # ランダムにクロップして32×32のサイズで出力\n",
        "            transforms.RandomHorizontalFlip(),              # ランダムに左右反転\n",
        "            transforms.RandomApply([color_jitter], p=0.8),  # 80%の確率でcolor_jitterを適用\n",
        "            transforms.RandomGrayscale(p=0.2),              # 20%の確率で画像をグレー画像化\n",
        "            transforms.ToTensor(),                          # 画像をtensor化\n",
        "        ])\n",
        "        \n",
        "    def __call__(self, x):\n",
        "        return self.train_transform(x), self.train_transform(x)  # 画像に対して２回データ増幅を適用"
      ],
      "execution_count": 3,
      "outputs": []
    },
    {
      "cell_type": "markdown",
      "metadata": {
        "id": "cSBPgwaw2CdC"
      },
      "source": [
        "### データセットの定義\n",
        "自己教師付き学習手法の評価には，一般的に教師付き学習に用いるベンチマークデータセットが利用されます．\\\n",
        "データセットとして，一般物体認識用データセットであるCIFAR-10を用います．\\\n",
        "CIFAR-10は，10クラス（飛行機，自動車，鳥，猫，鹿，犬，カエル，馬，船，トラック）の画像から構成されるデータセットです．\n",
        "\n",
        "SimCLRではデータ増幅を施したミニバッチ内の全てのデータ間で距離を計算し，近づける・離す学習を行います．そのため，ミニバッチサイズが大きいほど多くのデータを考慮した学習となります．今回はミニバッチサイズを512とします．\\\n",
        "（SimCLRの論文内では256~2048で実験が行われています）\n",
        "\n",
        "また，Contrastive Learningでは，クラス識別器を学習しないため，評価用データによる学習途中の評価ができません．そのため，ここでは評価用データセットの定義は行いません．"
      ]
    },
    {
      "cell_type": "code",
      "metadata": {
        "id": "z5DZZMQg2CdD",
        "colab": {
          "base_uri": "https://localhost:8080/"
        },
        "outputId": "f3aed2d8-aa91-4f28-f10e-22ce369bc525"
      },
      "source": [
        "BATCH_SIZE = 512  # ミニバッチサイズ\n",
        "\n",
        "train_data = torchvision.datasets.CIFAR10(root=\"./dataset/CIFAR-10\", \n",
        "                                          train=True,\n",
        "                                          transform=TransformsSimCLR(), # 自作のデータ増幅クラス\n",
        "                                          download=True)\n",
        "\n",
        "train_loader = torch.utils.data.DataLoader(train_data, \n",
        "                                           batch_size=BATCH_SIZE,\n",
        "                                           shuffle=True,\n",
        "                                           drop_last=True,\n",
        "                                           num_workers=10)"
      ],
      "execution_count": 4,
      "outputs": [
        {
          "output_type": "stream",
          "text": [
            "Files already downloaded and verified\n"
          ],
          "name": "stdout"
        }
      ]
    },
    {
      "cell_type": "markdown",
      "metadata": {
        "id": "uQ-oBfYoct9W"
      },
      "source": [
        "### データの可視化\n",
        "ここでは先程定義した自作データ増幅クラスによって，１つの教師なしデータに対してどのような処理が行われたのか（視覚的にどう違うのか）を確認します．"
      ]
    },
    {
      "cell_type": "code",
      "metadata": {
        "id": "kydSU88e2CdD",
        "colab": {
          "base_uri": "https://localhost:8080/",
          "height": 252
        },
        "outputId": "f2751e89-8d7a-4219-e6b6-ed73f84111e8"
      },
      "source": [
        "import matplotlib.pyplot as plt\n",
        "\n",
        "tmp = train_loader.__iter__()\n",
        "(image_i, image_y), label = tmp.next()\n",
        "\n",
        "for i in range(1):\n",
        "    fig, (ax1, ax2) = plt.subplots(ncols=2, figsize=(8,4))\n",
        "\n",
        "    ax1.imshow(image_i[i].permute(1,2,0))\n",
        "    ax2.imshow(image_y[i].permute(1,2,0))\n",
        "\n",
        "    fig.show()"
      ],
      "execution_count": 5,
      "outputs": [
        {
          "output_type": "display_data",
          "data": {
            "image/png": "[encoded data removed]",
            "text/plain": [
              "<Figure size 576x288 with 2 Axes>"
            ]
          },
          "metadata": {
            "tags": [],
            "needs_background": "light"
          }
        }
      ]
    },
    {
      "cell_type": "markdown",
      "metadata": {
        "id": "PdPXvYKZ2CdD"
      },
      "source": [
        "## ネットワークの準備"
      ]
    },
    {
      "cell_type": "markdown",
      "metadata": {
        "id": "JWXNl_9A2CdD"
      },
      "source": [
        "### ネットワークの定義\n",
        "畳み込みニューラルネットワークの定義をします．\\\n",
        "ここでは，10.knowledge_distillation，11.deep_mutual_learning，13.半教師付き学習で使用したネットワークと同様のものを利用します．"
      ]
    },
    {
      "cell_type": "code",
      "metadata": {
        "id": "Ns6Yv3lK2CdD"
      },
      "source": [
        "class CNN(nn.Module):\n",
        "    def __init__(self, widen_factor=1):\n",
        "        super().__init__()\n",
        "        self.conv1 = nn.Conv2d(3, 16*widen_factor, kernel_size=3, stride=1, padding=1)\n",
        "        self.conv2 = nn.Conv2d(16*widen_factor, 32*widen_factor, kernel_size=3, stride=1, padding=1)\n",
        "        self.l1 = nn.Linear(8*8*32*widen_factor, 1024*widen_factor)\n",
        "        self.l2 = nn.Linear(1024*widen_factor, 1024*widen_factor)\n",
        "        self.l3 = nn.Linear(1024*widen_factor, 10)\n",
        "        self.act = nn.ReLU()\n",
        "        self.pool = nn.MaxPool2d(2, 2)\n",
        "    \n",
        "    def forward(self, x):\n",
        "        h = self.pool(self.act(self.conv1(x)))\n",
        "        h = self.pool(self.act(self.conv2(h)))\n",
        "        h = h.view(h.size()[0], -1)\n",
        "        h = self.act(self.l1(h))\n",
        "        h = self.act(self.l2(h))\n",
        "        h = self.l3(h)\n",
        "        return h"
      ],
      "execution_count": 6,
      "outputs": []
    },
    {
      "cell_type": "markdown",
      "metadata": {
        "id": "f7_D6lBect9Z"
      },
      "source": [
        "### 多層パーセプトロン(MLP)の定義\n",
        "SimCLRでは，ネットワークの出力した特徴量をMLPに入力し，MLPの出力した特徴量を距離計算に利用します．\\\n",
        "今回は，２層の畳み込み層と３層の全結合層からなるネットワークの中で，２層目の全結合層の出力をMLPへの入力とします．\\\n",
        "この時，学習後の評価のために，ネットワークによる特徴量とMLPによる特徴量の２つを出力するように設計します．\n",
        "\n",
        "また，損失計算を簡単にするために，データ増幅を適用した2N枚のデータをそのままネットワークへ入力するのではなく，N枚ずつのデータを２つ入力する形にします．\n",
        "\n",
        "そのため，ネットワークは特徴抽出器の出力２つとMLPの出力２つの計４つの特徴ベクトルを出力します．"
      ]
    },
    {
      "cell_type": "code",
      "metadata": {
        "id": "hlKSoszs2CdD"
      },
      "source": [
        "# 入力をそのまま出力とする層の定義\n",
        "class Identity(nn.Module):\n",
        "    def __init__(self):\n",
        "        super(Identity, self).__init__()\n",
        "\n",
        "    def forward(self, x):\n",
        "        return x\n",
        "\n",
        "# MLPを含めたネットワークの定義\n",
        "class SimCLR(nn.Module):\n",
        "    def __init__(self, encoder, n_features, projection_dim=64):\n",
        "        super(SimCLR, self).__init__()\n",
        "        self.encoder    = encoder     # ネットワーク\n",
        "        self.n_features = n_features  # ネットワークの3層目の全結合層の入力サイズ\n",
        "        self.encoder.l3 = Identity()  # ネットワークの3層目の全結合層を変更（入力値をそのまま返すように変更）\n",
        "        self.projection_dim = projection_dim  # MLPの出力サイズ\n",
        "\n",
        "        # MLPの定義\n",
        "        self.projector = nn.Sequential( nn.Linear(self.n_features, self.n_features, bias=False),\n",
        "                                        nn.ReLU(),\n",
        "                                        nn.Linear(self.n_features, self.projection_dim, bias=False) )\n",
        "\n",
        "    def forward(self, x_i, x_j):\n",
        "        # ネットワークへ入力\n",
        "        h_i = self.encoder(x_i)\n",
        "        h_j = self.encoder(x_j)\n",
        "        # ネットワークの出力した特徴量をMLPへ入力\n",
        "        z_i = self.projector(h_i)\n",
        "        z_j = self.projector(h_j)\n",
        "        # ネットワークによる特徴量とMLPによる特徴量を出力するように設計\n",
        "        return h_i, h_j, z_i, z_j"
      ],
      "execution_count": 7,
      "outputs": []
    },
    {
      "cell_type": "code",
      "metadata": {
        "id": "26E6CmuK2CdD"
      },
      "source": [
        "encoder = CNN(widen_factor=1)        # ネットワークの定義\n",
        "n_features = encoder.l3.in_features  # ネットワークの３層目の全結合層の入力サイズの取得\n",
        "net = SimCLR(encoder, n_features)    # MLPを含めたネットワークの定義"
      ],
      "execution_count": 8,
      "outputs": []
    },
    {
      "cell_type": "markdown",
      "metadata": {
        "id": "7l6kK-4K2CdD"
      },
      "source": [
        "## 損失関数の定義\r\n",
        "ここでは，NT-Xent（Normalized Temperature-scaled CROSS entropy）損失を実装します．\r\n",
        "損失式は以下のようになります．\r\n",
        "\r\n",
        "<img src=\"https://dl.dropboxusercontent.com/s/zztz70av6dgmwdj/SimCLR_loss.png\" width = 40%>\r\n",
        "\r\n",
        "このとき，この損失式は1つのデータ$z_i$に対する損失値を計算するものでした．\\\r\n",
        "基準とするデータ$z_i$によって分母の構成が変わるため，１つのデータ毎にこの損失計算をする必要があります．\r\n",
        "\r\n",
        "プログラム上では，この損失式を６段階の工程（forward内）から実現しています．\\\r\n",
        "ここでは例として，ミニバッチサイズを4とした場合の一連の処理について解説します．\r\n"
      ]
    },
    {
      "cell_type": "code",
      "metadata": {
        "id": "05aiTXn_2CdD"
      },
      "source": [
        "class NT_Xent(nn.Module):\n",
        "    def __init__(self, batch_size=128, temperature=1):\n",
        "        super(NT_Xent, self).__init__()\n",
        "        self.batch_size  = batch_size   # ミニバッチサイズ\n",
        "        self.temperature = temperature  # 温度パラメータ\n",
        "\n",
        "        self.mask = self.mask_correlated_samples(batch_size)\n",
        "        self.criterion    = nn.CrossEntropyLoss(reduction=\"sum\")  # クロスエントロピー\n",
        "        self.similarity_f = nn.CosineSimilarity(dim=2)            # コサイン類似度\n",
        "\n",
        "    # 同一画像の類似度と近づけたい類似度を削除するためのマスクの作成\n",
        "    def mask_correlated_samples(self, batch_size):\n",
        "        N    = 2 * batch_size\n",
        "        mask = torch.ones((N, N), dtype=bool)\n",
        "        mask = mask.fill_diagonal_(0)  # 同一画像の類似度が入っている位置のテンソルを0に\n",
        "        for i in range(batch_size):\n",
        "            mask[i, batch_size+i] = 0  # 近づけたい類似度が入っている位置のテンソルを0に\n",
        "            mask[batch_size+i, i] = 0  # 近づけたい類似度が入っている位置のテンソルを0に\n",
        "        return mask\n",
        "\n",
        "    def forward(self, z_i, z_j):\n",
        "        # ------ 1 --------------------------------------------------------------------------\n",
        "        N = 2 * self.batch_size\n",
        "        z = torch.cat((z_i, z_j), dim=0)  # ２つの出力を1つのテンソルに\n",
        "\n",
        "        # ------ 2 --------------------------------------------------------------------------\n",
        "        sim = self.similarity_f(z.unsqueeze(1), z.unsqueeze(0)) / self.temperature  # 全てのデータ間の類似度を計算\n",
        "\n",
        "        # ------ 3 --------------------------------------------------------------------------\n",
        "        sim_i_j = torch.diag(sim,  self.batch_size)  # 近づけたい類似度(i->j))を抽出\n",
        "        sim_j_i = torch.diag(sim, -self.batch_size)  # 近づけたい類似度(j->i))を抽出\n",
        "\n",
        "        # ------ 4 --------------------------------------------------------------------------\n",
        "        positive_samples = torch.cat((sim_i_j, sim_j_i), dim=0).reshape(N, 1)  # 近づけたい特徴間の類似度を1つのテンソルに\n",
        "        negative_samples = sim[self.mask].reshape(N, -1)                       # 離したい特徴間の類似度のみのテンソルの作成\n",
        "\n",
        "        # ------ 5 --------------------------------------------------------------------------\n",
        "        logits = torch.cat((positive_samples, negative_samples), dim=1)  # 近づけたい特徴間の類似度と離したい特徴間の類似度を1つのテンソルに\n",
        "\n",
        "        # ------ 6 --------------------------------------------------------------------------\n",
        "        labels = torch.zeros(N).to(positive_samples.cuda()).long()  # 近づけたい類似度の位置を表すテンソルを作成\n",
        "\n",
        "        # 最終的な損失値の算出\n",
        "        loss = self.criterion(logits, labels)  # 損失計算 = -log( exp(logits[labels])/sum(exp(logits)) )\n",
        "        loss /= N                              # データ数で除算\n",
        "        return loss"
      ],
      "execution_count": 9,
      "outputs": []
    },
    {
      "cell_type": "markdown",
      "metadata": {
        "id": "HizwoyXf0-ag"
      },
      "source": [
        "## 学習条件の設定\r\n",
        "ミニバッチサイズが大きい場合，1 epochあたりのiteration数が少なくなるため，同一の学習回数（epoch数）におけるネットワークの総更新回数が少なくなります．\r\n",
        "そのため，一般的には，学習率や学習回数を大きく設定します．\r\n",
        "しかし，学習率が大きい場合，学習が不安定になることがあります．\r\n",
        "そこで，学習率を勾配に合わせて調整するLARS（Layerwise Adaptive Rate Scaling），学習率を学習初期は小さな値として徐々に一定の値まで上げるWarmupを利用します．\r\n",
        "\r\n",
        "今回は，学習回数を100 epoch，学習率を0.01とします．Google colaboratory上では1 epochあたり約1分弱（100 epochで約2時間）の時間がかかります．\r\n",
        "そのため，学習回数は適宜調整してください．"
      ]
    },
    {
      "cell_type": "code",
      "metadata": {
        "id": "zgriDGQOTGYJ"
      },
      "source": [
        "# 学習条件の設定\n",
        "NUM_EPOCH = 100\n",
        "#LR = 0.3*(BATCH_SIZE/256)  # SimCLRで使われているミニバッチサイズに合わせた学習率の調整式\n",
        "LR = 0.01\n",
        "\n",
        "criterion = NT_Xent(BATCH_SIZE, 0.5)\n",
        "optimizer = LARSWrapper(torch.optim.SGD(net.parameters(), lr=LR, momentum=0.9))\n",
        "scheduler = LinearWarmupCosineAnnealingLR(optimizer, warmup_epochs=10, max_epochs=NUM_EPOCH, warmup_start_lr=0, eta_min=0)"
      ],
      "execution_count": 10,
      "outputs": []
    },
    {
      "cell_type": "markdown",
      "metadata": {
        "id": "r6yLJvmTca31"
      },
      "source": [
        "### 学習率の推移の可視化\r\n",
        "Warmupを適用することでどのうように初期学習率がふるまうのか確認をします．"
      ]
    },
    {
      "cell_type": "code",
      "metadata": {
        "id": "OQ1EPwuQcfty",
        "colab": {
          "base_uri": "https://localhost:8080/",
          "height": 279
        },
        "outputId": "f3a64a57-1f30-4f36-95bd-183f84bf1a8e"
      },
      "source": [
        "import numpy as np\n",
        "# 学習率の推移の可視化\n",
        "def print_lr(LR, NUM_EPOCH):\n",
        "    model = torch.nn.Linear(10, 3) # 仮のネットワークを作成\n",
        " \n",
        "    # 可視化したい条件\n",
        "    lr_list = list()\n",
        "    optimizer = LARSWrapper(torch.optim.Adam(model.parameters(), lr=LR))\n",
        "    scheduler = LinearWarmupCosineAnnealingLR(optimizer, warmup_epochs=10, max_epochs=NUM_EPOCH, warmup_start_lr=0, eta_min=0)\n",
        "\n",
        "    # 学習率の取得\n",
        "    for step in range(NUM_EPOCH):\n",
        "        lr_list.append(scheduler.get_last_lr()[0])\n",
        "        optimizer.step()\n",
        "        scheduler.step()\n",
        "\n",
        "    # 学習率の推移を描画\n",
        "    plt.figure(figsize=(8, 4))\n",
        "    plt.plot([i+1 for i in range(len(lr_list))], lr_list)\n",
        "    # 10 epoch刻みで縦線を描画\n",
        "    plt.vlines([10*i for i in range(int((NUM_EPOCH/10)+1))], 0, np.array(lr_list).max(), \"green\", linestyles='dashed')\n",
        "    # x軸とy軸のラベルを描画\n",
        "    plt.xlabel('lr')\n",
        "    plt.ylabel('epoch')\n",
        "    plt.show()\n",
        "\n",
        "# 学習率の推移の確認\n",
        "print_lr(LR, NUM_EPOCH)"
      ],
      "execution_count": 11,
      "outputs": [
        {
          "output_type": "display_data",
          "data": {
            "image/png": "[encoded data removed]",
            "text/plain": [
              "<Figure size 576x288 with 1 Axes>"
            ]
          },
          "metadata": {
            "tags": [],
            "needs_background": "light"
          }
        }
      ]
    },
    {
      "cell_type": "markdown",
      "metadata": {
        "id": "OvcU3vH-1JTP"
      },
      "source": [
        "## ネットワークの学習"
      ]
    },
    {
      "cell_type": "code",
      "metadata": {
        "id": "AfVDPUaj2CdD",
        "colab": {
          "base_uri": "https://localhost:8080/"
        },
        "outputId": "0ecc29ea-190d-48f5-dc95-f60761aa8447"
      },
      "source": [
        "# ネットワークをGPUへ\n",
        "net = net.cuda()\n",
        "\n",
        "# ネットワークを学習モードへ変更\n",
        "net.train()\n",
        "\n",
        "start = time()\n",
        "for epoch in range(1, NUM_EPOCH+1):\n",
        "    sum_loss = 0.0\n",
        "    \n",
        "    for (image_i, image_y), _ in train_loader:\n",
        "        image_i = image_i.cuda()\n",
        "        image_y = image_y.cuda()\n",
        "        \n",
        "        _, _, z_i, z_j = net(image_i, image_y)\n",
        "        \n",
        "        # 損失の計算\n",
        "        loss = criterion(z_i, z_j)\n",
        "        \n",
        "        # パラメータの更新\n",
        "        net.zero_grad()\n",
        "        loss.backward()\n",
        "        optimizer.step()\n",
        "        scheduler.step()\n",
        "        \n",
        "        # ログ用に損失と精度の取得\n",
        "        sum_loss += loss.item()\n",
        "       \n",
        "    # ログの表示\n",
        "    if (epoch%5 == 0):\n",
        "        print(f\"epoch: {epoch}, mean loss: {round(sum_loss/len(train_loader), 3)}, elapsed_time :{round(time()-start, 2)}\")"
      ],
      "execution_count": 12,
      "outputs": [
        {
          "output_type": "stream",
          "text": [
            "epoch: 5, mean loss: 6.059, elapsed_time :386.11\n",
            "epoch: 10, mean loss: 5.995, elapsed_time :775.05\n",
            "epoch: 15, mean loss: 5.945, elapsed_time :1164.95\n",
            "epoch: 20, mean loss: 5.904, elapsed_time :1557.89\n",
            "epoch: 25, mean loss: 5.9, elapsed_time :1953.28\n",
            "epoch: 30, mean loss: 5.873, elapsed_time :2350.09\n",
            "epoch: 35, mean loss: 5.843, elapsed_time :2741.52\n",
            "epoch: 40, mean loss: 5.839, elapsed_time :3128.48\n",
            "epoch: 45, mean loss: 5.833, elapsed_time :3514.07\n",
            "epoch: 50, mean loss: 5.798, elapsed_time :3899.56\n",
            "epoch: 55, mean loss: 5.788, elapsed_time :4289.31\n",
            "epoch: 60, mean loss: 5.797, elapsed_time :4677.98\n",
            "epoch: 65, mean loss: 5.775, elapsed_time :5062.44\n",
            "epoch: 70, mean loss: 5.768, elapsed_time :5452.25\n",
            "epoch: 75, mean loss: 5.774, elapsed_time :5842.66\n",
            "epoch: 80, mean loss: 5.757, elapsed_time :6232.34\n",
            "epoch: 85, mean loss: 5.74, elapsed_time :6622.33\n",
            "epoch: 90, mean loss: 5.746, elapsed_time :7005.55\n",
            "epoch: 95, mean loss: 5.741, elapsed_time :7388.69\n",
            "epoch: 100, mean loss: 5.729, elapsed_time :7772.57\n"
          ],
          "name": "stdout"
        }
      ]
    },
    {
      "cell_type": "markdown",
      "metadata": {
        "id": "Ml_a45JR2CdD"
      },
      "source": [
        "## 線形評価によるネットワークの評価\r\n",
        "線形評価からSimCLRによって学習した特徴抽出器の評価を行います．\r\n",
        "ここでは，「13_半教師付き学習」の結果と比較できるように，計100枚の学習用データからクラス識別器の学習を行い，評価用データを用いて精度を算出します．"
      ]
    },
    {
      "cell_type": "code",
      "metadata": {
        "id": "TAsT3xSGct9g"
      },
      "source": [
        "import random\n",
        "from sklearn.model_selection import StratifiedShuffleSplit\n",
        "from collections import defaultdict\n",
        "from torch.utils.data import Sampler\n",
        "from torch.utils.data import SubsetRandomSampler, Subset, Dataset"
      ],
      "execution_count": 13,
      "outputs": []
    },
    {
      "cell_type": "markdown",
      "metadata": {
        "id": "lEzD7pMfct9g"
      },
      "source": [
        "## データセットの準備\r\n",
        "今回は，学習用データの数が小さいため，ミニバッチサイズを小さく設定します．\r\n",
        "そのため，ミニバッチを各クラスからバランスよく取得することを考えます．\r\n",
        "データセットの中から取得するデータを決定するアルゴリズムはSamplerクラスにより制御します．\\\r\n",
        "今回は自作のSamplerクラスを利用します．"
      ]
    },
    {
      "cell_type": "code",
      "metadata": {
        "id": "26PBxAebct9h"
      },
      "source": [
        "# 自作 Sampler\n",
        "class StratifiedSampler(Sampler):\n",
        "    def __init__(self, labels):\n",
        "        self.idx_by_lb = defaultdict(list)\n",
        "        for idx, lb in enumerate(labels):\n",
        "            self.idx_by_lb[lb].append(idx)\n",
        "\n",
        "        self.size = len(labels)\n",
        "\n",
        "    def __len__(self):\n",
        "        return self.size\n",
        "\n",
        "    def __iter__(self):\n",
        "        songs_list = []\n",
        "        artists_list = []\n",
        "        for lb, v in self.idx_by_lb.items():\n",
        "            for idx in v:\n",
        "                songs_list.append(idx)\n",
        "                artists_list.append(lb)\n",
        "\n",
        "        shuffled = spotifyShuffle(songs_list, artists_list)\n",
        "        return iter(shuffled)\n",
        "\n",
        "\n",
        "def fisherYatesShuffle(arr):\n",
        "    for i in range(len(arr)-1, 0, -1):\n",
        "        j = random.randint(0, i)\n",
        "        arr[i], arr[j] = arr[j], arr[i]\n",
        "    return arr\n",
        "\n",
        "\n",
        "def spotifyShuffle(songs_list, artists_list):\n",
        "    artist2songs = defaultdict(list)\n",
        "    for artist, song in zip(artists_list, songs_list):\n",
        "        artist2songs[artist].append(song)\n",
        "    songList = []\n",
        "    songsLocs = []\n",
        "    for artist, songs in artist2songs.items():\n",
        "        songs = fisherYatesShuffle(songs)\n",
        "        songList += songs\n",
        "        songsLocs += get_locs(len(songs))\n",
        "    return [songList[idx] for idx in argsort(songsLocs)]\n",
        "\n",
        "\n",
        "def get_locs(n):\n",
        "    percent = 1. / n\n",
        "    locs = [percent * random.random()]\n",
        "    last = locs[0]\n",
        "    for i in range(n - 1):\n",
        "        value = last + percent * random.uniform(0.8, 1.2)\n",
        "        locs.append(value)\n",
        "        last = value\n",
        "    return locs\n",
        "\n",
        "\n",
        "def argsort(seq):\n",
        "    return [i for i, j in sorted(enumerate(seq), key=lambda x:x[1])]"
      ],
      "execution_count": 14,
      "outputs": []
    },
    {
      "cell_type": "markdown",
      "metadata": {
        "id": "_pP_CFPI_kOT"
      },
      "source": [
        "### データ増幅の定義\r\n",
        "今回は，先程学習した特徴抽出器の構造を変更等せずにそのまま利用します．\\\r\n",
        "そのため，学習へは利用しませんが，ネットワークへ２つの画像を入力する必要があります．"
      ]
    },
    {
      "cell_type": "code",
      "metadata": {
        "id": "-u0UfLvY2CdD"
      },
      "source": [
        "class TransformsSimCLR_test:\n",
        "    def __init__(self):\n",
        "        self.test_transform = torchvision.transforms.Compose([\n",
        "            transforms.ToTensor(),\n",
        "        ])\n",
        "\n",
        "    def __call__(self, x):\n",
        "        return self.test_transform(x), self.test_transform(x)"
      ],
      "execution_count": 15,
      "outputs": []
    },
    {
      "cell_type": "markdown",
      "metadata": {
        "id": "NDYHq55s710d"
      },
      "source": [
        "### データセットの定義"
      ]
    },
    {
      "cell_type": "code",
      "metadata": {
        "id": "4U3QqNA-ct9i",
        "colab": {
          "base_uri": "https://localhost:8080/"
        },
        "outputId": "75b3f4d1-72d6-46dc-9575-4abe9540c4dc"
      },
      "source": [
        "total_trainset = torchvision.datasets.CIFAR10(root=\"./dataset/CIFAR-10\", train=True,  download=False, transform=TransformsSimCLR_test())\n",
        "\n",
        "sss = StratifiedShuffleSplit(n_splits=1, test_size=49900, random_state=0)\n",
        "sss = sss.split(list(range(len(total_trainset))), total_trainset.targets)\n",
        "label_idx, unlabel_idx = next(sss)\n",
        "\n",
        "trainset = Subset(total_trainset, label_idx)\n",
        "train_labels = [total_trainset.targets[idx] for idx in label_idx]\n",
        "trainset.train_labels = train_labels\n",
        "\n",
        "print(\"学習用データ数：\", len(trainset))"
      ],
      "execution_count": 16,
      "outputs": [
        {
          "output_type": "stream",
          "text": [
            "学習用データ数： 100\n"
          ],
          "name": "stdout"
        }
      ]
    },
    {
      "cell_type": "code",
      "metadata": {
        "id": "GnpWrXgBct9j"
      },
      "source": [
        "testset = torchvision.datasets.CIFAR10(root=\"./dataset/CIFAR-10\", train=False, download=False, transform=TransformsSimCLR_test())\n",
        "\n",
        "# 教師付きデータセット用 Dataloader\n",
        "train_loader = torch.utils.data.DataLoader(trainset, \n",
        "                                           batch_size=10, \n",
        "                                           shuffle=False,   # Samplerを利用するためFalse\n",
        "                                           num_workers=10,\n",
        "                                           pin_memory=True,\n",
        "                                           sampler=StratifiedSampler(trainset.train_labels),  # 自作のSampler\n",
        "                                           drop_last=True)\n",
        "\n",
        "# 評価データ用 Dataloader\n",
        "test_loader  = torch.utils.data.DataLoader(testset, \n",
        "                                           batch_size=1000,\n",
        "                                           shuffle=False, \n",
        "                                           num_workers=10, \n",
        "                                           pin_memory=True, \n",
        "                                           drop_last=False)"
      ],
      "execution_count": 17,
      "outputs": []
    },
    {
      "cell_type": "markdown",
      "metadata": {
        "id": "HXrnv98Dct9j"
      },
      "source": [
        "## クラス識別器の用意"
      ]
    },
    {
      "cell_type": "code",
      "metadata": {
        "id": "Q3XLLyB32CdD"
      },
      "source": [
        "class LogisticRegression(nn.Module):\n",
        "    def __init__(self, n_features, n_classes):\n",
        "        super(LogisticRegression, self).__init__()\n",
        "\n",
        "        self.model = nn.Linear(n_features, n_classes)\n",
        "\n",
        "    def forward(self, x):\n",
        "        return self.model(x)"
      ],
      "execution_count": 18,
      "outputs": []
    },
    {
      "cell_type": "code",
      "metadata": {
        "id": "3QSp26si2CdD"
      },
      "source": [
        "net_fc = LogisticRegression(net.encoder.l2.out_features, 10)"
      ],
      "execution_count": 19,
      "outputs": []
    },
    {
      "cell_type": "markdown",
      "metadata": {
        "id": "osGcukLwct9k"
      },
      "source": [
        "## クラス識別器の学習\r\n",
        "SimCLRの学習を行う際にネットワークの定義において，MLPの出力に加え，ネットワークの特徴抽出器の出力も取得できるように設計しました．\r\n",
        "そのため，ネットワークの特徴抽出器が出力した特徴ベクトルを先程定義したクラス識別器へ入力することで最終的なlogtsを獲得します．"
      ]
    },
    {
      "cell_type": "code",
      "metadata": {
        "id": "NknonYsbct9k"
      },
      "source": [
        "optimizer = torch.optim.Adam(net_fc.parameters(), lr=0.01)\n",
        "criterion = torch.nn.CrossEntropyLoss()"
      ],
      "execution_count": 20,
      "outputs": []
    },
    {
      "cell_type": "code",
      "metadata": {
        "id": "aKeaR2Kb2CdD",
        "colab": {
          "base_uri": "https://localhost:8080/"
        },
        "outputId": "6e95f40d-d84a-4d35-cc59-a1ba6c28266e"
      },
      "source": [
        "# エポック数の設定\n",
        "NUM_EPOCH = 10\n",
        "\n",
        "# ネットワークとクラス識別器をGPUへ\n",
        "net    = net.cuda()\n",
        "net_fc = net_fc.cuda()\n",
        "\n",
        "# ネットワークを学習モードへ変更\n",
        "net.eval()\n",
        "net_fc.train()\n",
        "\n",
        "start = time()\n",
        "for epoch in range(1, NUM_EPOCH+1):\n",
        "    sum_loss = 0.0\n",
        "    count = 0\n",
        "    \n",
        "    for (image_i, image_y), label in train_loader:\n",
        "        image_i = image_i.cuda()\n",
        "        image_y = image_y.cuda()\n",
        "        label   = label.cuda()\n",
        "        \n",
        "        with torch.no_grad():\n",
        "            h, _, _, _ = net(image_i, image_y)  #  特徴抽出器へ入力\n",
        "            \n",
        "        h = h.detach()\n",
        "        y = net_fc(h)  # クラス識別器へ入力\n",
        "\n",
        "        # 損失の計算\n",
        "        loss = criterion(y, label)\n",
        "        \n",
        "        # パラメータの更新\n",
        "        net_fc.zero_grad()\n",
        "        loss.backward()\n",
        "        optimizer.step()\n",
        "        \n",
        "        # ログ\n",
        "        sum_loss += loss.item()\n",
        "        \n",
        "        pred   = torch.argmax(y, dim=1)\n",
        "        count += torch.sum(pred == label)\n",
        "        \n",
        "        # ログの表示\n",
        "    print(f\"epoch: {epoch}, mean loss: {round(sum_loss/len(train_loader), 3)}, mean accuracy: {round(count.item()/len(train_loader.dataset), 2)}, elapsed_time :{round(time()-start, 2)}\")\n",
        "\n",
        "    \n",
        "# ネットワークを評価モードへ変更\n",
        "net_fc.eval()\n",
        "\n",
        "# 評価の実行\n",
        "count = 0\n",
        "with torch.no_grad():\n",
        "    for (image_i, image_y), label in test_loader:\n",
        "        image_i = image_i.cuda()\n",
        "        image_y = image_y.cuda()\n",
        "        label   = label.cuda()\n",
        "        \n",
        "        h, _, _, _ = net(image_i, image_y)\n",
        "        y = net_fc(h)\n",
        "        \n",
        "        pred = torch.argmax(y, dim=1)\n",
        "        count += torch.sum(pred == label)\n",
        "\n",
        "print(f\"test accuracy: {count.item()/len(test_loader.dataset)}\")"
      ],
      "execution_count": 21,
      "outputs": [
        {
          "output_type": "stream",
          "text": [
            "epoch: 1, mean loss: 2.163, mean accuracy: 0.26, elapsed_time :0.88\n",
            "epoch: 2, mean loss: 1.665, mean accuracy: 0.62, elapsed_time :1.6\n",
            "epoch: 3, mean loss: 1.376, mean accuracy: 0.68, elapsed_time :2.33\n",
            "epoch: 4, mean loss: 1.172, mean accuracy: 0.77, elapsed_time :3.05\n",
            "epoch: 5, mean loss: 1.026, mean accuracy: 0.75, elapsed_time :3.77\n",
            "epoch: 6, mean loss: 0.906, mean accuracy: 0.82, elapsed_time :4.48\n",
            "epoch: 7, mean loss: 0.811, mean accuracy: 0.87, elapsed_time :5.2\n",
            "epoch: 8, mean loss: 0.727, mean accuracy: 0.89, elapsed_time :5.93\n",
            "epoch: 9, mean loss: 0.659, mean accuracy: 0.93, elapsed_time :6.65\n",
            "epoch: 10, mean loss: 0.601, mean accuracy: 0.94, elapsed_time :7.38\n",
            "test accuracy: 0.3847\n"
          ],
          "name": "stdout"
        }
      ]
    },
    {
      "cell_type": "code",
      "metadata": {
        "id": "MYJ0l1wX2CdD"
      },
      "source": [
        ""
      ],
      "execution_count": 21,
      "outputs": []
    },
    {
      "cell_type": "code",
      "metadata": {
        "id": "3Bt1fO412CdD"
      },
      "source": [
        ""
      ],
      "execution_count": 21,
      "outputs": []
    },
    {
      "cell_type": "code",
      "metadata": {
        "id": "Jq-OBDDI2CdD"
      },
      "source": [
        ""
      ],
      "execution_count": 21,
      "outputs": []
    }
  ]
}