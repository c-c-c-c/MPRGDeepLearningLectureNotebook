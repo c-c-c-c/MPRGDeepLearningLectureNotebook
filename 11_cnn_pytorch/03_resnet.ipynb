{
<<<<<<< HEAD
 "cells": [
  {
   "cell_type": "markdown",
   "metadata": {
    "id": "vQfhYcVF8KPt"
   },
   "source": [
    "# Residual Networks (ResNet)\n",
    "\n",
    "---\n",
    "\n",
    "## 目的\n",
    "ResNetの構造 (スキップ構造) の仕組みを理解する.\n",
    "\n",
    "ResNetを用いてCIFAR-10データセットに対する物体認識を行う．\n",
    "\n",
    "## Residual Networks (ResNet)\n",
    "Residual Networks (ResNet)[1]は，2015年のILSVRCの優勝モデルです．VGGNet[2]で示されたように，ネットワークを深くすることは表現能力を向上させ，認識精度を改善できます．しかし，あまりにも深いネットワークは効率的な学習が困難でした．ResNetは，通常のネットワークのように，何かしらの処理ブロックによる変換$F(x)$を単純に次の層に渡していくのではなく，スキップ構造によりその処理ブロックへの入力$x$をショートカットし， $H(x) = F(x)+x$を次の層に渡すようにしています．スキップ構造により，誤差逆伝播時に勾配が消失しても，層をまたいで値を伝播することができます．このショートカットを含めた処理単位をResidual blockと呼びます．ResNetでは，スキップ構造により非常に深いネットワークにおいても効率的に学習ができるようになりました．Residual blockは，3×3 のフィルタサイズを持つ畳み込み層とBatch Normalization，ReLUから構成されています．深いネットワークでは，ある層のパラメータの更新によって，その次の層への入力の分布がバッチ毎に大きく変化してしまう内部共変量シフト (Internal covariate shift) が発生し，学習が効率的に進まない問題がありました．Batch Normalizationは，内部共変量シフトを正規化し，なるべく各層が独立して学習を行えるようにすることで，学習を安定化・高速化する手法です．ResNetでは，このBatch Normalizationとスキップ構造をResidual blockに組み込むことで152層と非常に深いネットワークの学習を実現しています．\n",
    "\n",
    "<img src=\"https://drive.google.com/uc?export=view&id=1CeAcGquytT_LIv9_aeFzXhDJCiJjVzcj\" width = 80%>\n",
    "\n",
    "\n",
    "<img src=\"https://drive.google.com/uc?export=view&id=18hcp2W3_14NHiliRTC-zfT5p0gqDGlc4\" width = 80%>"
   ]
  },
  {
   "cell_type": "markdown",
   "metadata": {
    "id": "V8ehSX6U8KPv"
   },
   "source": [
    "## モジュールのインポート\n",
    "プログラムの実行に必要なモジュールをインポートします．\n",
    "今回は，機械学習ライブラリであるPytorchを使用します．\n",
    "PyTorchとは，Python向けのオープンソース機械学習ライブラリで，Facebookに開発されました．"
   ]
  },
  {
   "cell_type": "code",
   "execution_count": 1,
   "metadata": {
    "id": "VaNXqInW8KPv"
   },
   "outputs": [],
   "source": [
    "import torch\n",
    "import torchvision\n",
    "import torchvision.transforms as transforms\n",
    "import torch.backends.cudnn as cudnn\n",
    "import torchsummary"
   ]
  },
  {
   "cell_type": "markdown",
   "metadata": {
    "id": "b4gEy7cGCfz8"
   },
   "source": [
    "## GPUの確認\n",
    "GPUを使用した計算が可能かどうかを確認します．\n",
    "下記のコードを実行してGPU情報を確認します． GPUの確認を行うためには，上部のメニューバーの「ランタイム」→「ランタイムのタイプを変更」からハードウェアアクセラレータをGPUにしてください．\n",
    "\n",
    "`Use CUDA: True`と表示されれば，GPUを使用した計算をPytorchで行うことが可能です． CPUとなっている場合は，上記に記載している手順にしたがって，設定を変更してください．"
   ]
  },
  {
   "cell_type": "code",
   "execution_count": 2,
   "metadata": {
    "colab": {
     "base_uri": "https://localhost:8080/"
    },
    "id": "p9fjeG_U8KP1",
    "outputId": "b870d133-7024-4d5d-c959-1df4d3c4c149"
   },
   "outputs": [
    {
     "name": "stdout",
     "output_type": "stream",
     "text": [
      "Use CUDA: True\n"
     ]
    }
   ],
   "source": [
    "device = torch.device(\"cuda:0\" if torch.cuda.is_available() else \"cpu\")\n",
    "use_cuda = torch.cuda.is_available()\n",
    "cudnn.benchmark = True\n",
    "print('Use CUDA:', use_cuda)"
   ]
  },
  {
   "cell_type": "markdown",
   "metadata": {
    "id": "Uanw74k0F9iw"
   },
   "source": [
    "下記のコードを実行してGPU情報を確認します．\n",
    "\n"
   ]
  },
  {
   "cell_type": "code",
   "execution_count": 3,
   "metadata": {
    "colab": {
     "base_uri": "https://localhost:8080/"
    },
    "id": "eeUIUazLGGPu",
    "outputId": "dc80061b-2901-4f4f-d19c-4d7bc40dc77c"
   },
   "outputs": [
    {
     "name": "stdout",
     "output_type": "stream",
     "text": [
      "Wed Feb 10 11:08:48 2021       \n",
      "+-----------------------------------------------------------------------------+\n",
      "| NVIDIA-SMI 450.80.02    Driver Version: 450.80.02    CUDA Version: 11.0     |\n",
      "|-------------------------------+----------------------+----------------------+\n",
      "| GPU  Name        Persistence-M| Bus-Id        Disp.A | Volatile Uncorr. ECC |\n",
      "| Fan  Temp  Perf  Pwr:Usage/Cap|         Memory-Usage | GPU-Util  Compute M. |\n",
      "|                               |                      |               MIG M. |\n",
      "|===============================+======================+======================|\n",
      "|   0  GeForce RTX 207...  Off  | 00000000:1A:00.0 Off |                  N/A |\n",
      "| 21%   25C    P8    15W / 215W |      3MiB /  7982MiB |      0%      Default |\n",
      "|                               |                      |                  N/A |\n",
      "+-------------------------------+----------------------+----------------------+\n",
      "|   1  GeForce RTX 207...  Off  | 00000000:1B:00.0 Off |                  N/A |\n",
      "| 20%   26C    P8    18W / 215W |      3MiB /  7982MiB |      0%      Default |\n",
      "|                               |                      |                  N/A |\n",
      "+-------------------------------+----------------------+----------------------+\n",
      "|   2  GeForce RTX 207...  Off  | 00000000:1C:00.0 Off |                  N/A |\n",
      "| 20%   28C    P8     6W / 215W |   4050MiB /  7982MiB |      0%      Default |\n",
      "|                               |                      |                  N/A |\n",
      "+-------------------------------+----------------------+----------------------+\n",
      "|   3  GeForce RTX 207...  Off  | 00000000:1D:00.0 Off |                  N/A |\n",
      "| 20%   28C    P8     9W / 215W |      3MiB /  7982MiB |      0%      Default |\n",
      "|                               |                      |                  N/A |\n",
      "+-------------------------------+----------------------+----------------------+\n",
      "|   4  GeForce RTX 207...  Off  | 00000000:1E:00.0 Off |                  N/A |\n",
      "| 20%   28C    P8    16W / 215W |      3MiB /  7982MiB |      0%      Default |\n",
      "|                               |                      |                  N/A |\n",
      "+-------------------------------+----------------------+----------------------+\n",
      "|   5  GeForce RTX 207...  Off  | 00000000:3D:00.0 Off |                  N/A |\n",
      "| 20%   27C    P8    13W / 215W |   7908MiB /  7982MiB |      0%      Default |\n",
      "|                               |                      |                  N/A |\n",
      "+-------------------------------+----------------------+----------------------+\n",
      "|   6  GeForce RTX 207...  Off  | 00000000:3E:00.0 Off |                  N/A |\n",
      "| 20%   28C    P8     9W / 215W |      3MiB /  7982MiB |      0%      Default |\n",
      "|                               |                      |                  N/A |\n",
      "+-------------------------------+----------------------+----------------------+\n",
      "|   7  GeForce RTX 207...  Off  | 00000000:3F:00.0 Off |                  N/A |\n",
      "| 20%   26C    P8    15W / 215W |      3MiB /  7982MiB |      0%      Default |\n",
      "|                               |                      |                  N/A |\n",
      "+-------------------------------+----------------------+----------------------+\n",
      "|   8  GeForce RTX 207...  Off  | 00000000:40:00.0 Off |                  N/A |\n",
      "| 20%   27C    P8    16W / 215W |      3MiB /  7982MiB |      0%      Default |\n",
      "|                               |                      |                  N/A |\n",
      "+-------------------------------+----------------------+----------------------+\n",
      "|   9  GeForce RTX 207...  Off  | 00000000:41:00.0 Off |                  N/A |\n",
      "| 20%   28C    P8    19W / 215W |      3MiB /  7982MiB |      0%      Default |\n",
      "|                               |                      |                  N/A |\n",
      "+-------------------------------+----------------------+----------------------+\n",
      "                                                                               \n",
      "+-----------------------------------------------------------------------------+\n",
      "| Processes:                                                                  |\n",
      "|  GPU   GI   CI        PID   Type   Process name                  GPU Memory |\n",
      "|        ID   ID                                                   Usage      |\n",
      "|=============================================================================|\n",
      "+-----------------------------------------------------------------------------+\n"
     ]
    }
   ],
   "source": [
    "!nvidia-smi"
   ]
  },
  {
   "cell_type": "markdown",
   "metadata": {
    "id": "-XzIClJ5k6h4"
   },
   "source": [
    "## 使用するデータセット\n",
    "\n",
    "### データセット\n",
    "今回の物体認識では，CIFAR-10データセットを使用します．CIFAR-10データセットは，飛行機や犬などの10クラスの物体が表示されている画像から構成されたデータセットです．\n",
    "\n",
    "![CIFAR10_sample.png](https://qiita-image-store.s3.ap-northeast-1.amazonaws.com/0/176458/b6b43478-c85f-9211-7bc6-227d9b387af5.png)"
   ]
  },
  {
   "cell_type": "markdown",
   "metadata": {
    "id": "xNzvYQL58KP4"
   },
   "source": [
    "### データセットのダウンロードと読み込み\n",
    "実験に使用するCIFAR-10データセットを読み込みます．\n",
    "１回の誤差を算出するデータ数 (ミニバッチサイズ) は，128とします．\n",
    "まず，CIFAR-10データセットをダウンロードします．\n",
    "次に，ダウンロードしたデータセットを読み込みます．\n",
    "学習には，大量のデータを利用しますが，それでも十分ではありません． そこで，データ拡張 (data augmentation) により，データのバリエーションを増やします． 一般的な方法は，画像の左右反転，明るさ変換などです．"
   ]
  },
  {
   "cell_type": "code",
   "execution_count": 4,
   "metadata": {
    "colab": {
     "base_uri": "https://localhost:8080/",
     "height": 102,
     "referenced_widgets": [
      "2bcc19d3ebe44208aefc266ecb092de7",
      "18eff29c692a4fafaea1c4742c2804ff",
      "0574b7fe14f74a0e91f37e9646010897",
      "f403a35ccdaf465eb42f4424f497e2f2",
      "d61072097735498083cc36333996066e",
      "429753e636ad4ae4a09b0ec7cd40ae88",
      "b696f279d101434498eb5e006517a6ac",
      "015ac6472a574f0189472681028cb8b4"
     ]
    },
    "id": "leWJTOIL8KP4",
    "outputId": "07d318b1-2fa5-4699-b13a-e4eaf3fa7ec9"
   },
   "outputs": [
    {
     "name": "stdout",
     "output_type": "stream",
     "text": [
      "Files already downloaded and verified\n",
      "Files already downloaded and verified\n"
     ]
    }
   ],
   "source": [
    "batch_size = 16\n",
    "\n",
    "transform_train = transforms.Compose([\n",
    "    transforms.RandomCrop(32, padding=4),\n",
    "    transforms.RandomHorizontalFlip(),\n",
    "    transforms.ToTensor(),\n",
    "    transforms.Normalize((0.4914, 0.4822, 0.4465), (0.2023, 0.1994, 0.2010)),\n",
    "])\n",
    "\n",
    "transform_test = transforms.Compose([\n",
    "    transforms.ToTensor(),\n",
    "    transforms.Normalize((0.4914, 0.4822, 0.4465), (0.2023, 0.1994, 0.2010)),\n",
    "])\n",
    "\n",
    "trainset = torchvision.datasets.CIFAR10(root='./data', train=True,\n",
    "                                        download=True, transform=transform_train)\n",
    "trainloader = torch.utils.data.DataLoader(trainset, batch_size=batch_size,\n",
    "                                          shuffle=True, num_workers=20)\n",
    "\n",
    "testset = torchvision.datasets.CIFAR10(root='./data', train=False,\n",
    "                                       download=True, transform=transform_test)\n",
    "testloader = torch.utils.data.DataLoader(testset, batch_size=batch_size,\n",
    "                                         shuffle=False, num_workers=20)\n",
    "\n",
    "classes = ('plane', 'car', 'bird', 'cat',\n",
    "           'deer', 'dog', 'frog', 'horse', 'ship', 'truck')"
   ]
  },
  {
   "cell_type": "markdown",
   "metadata": {
    "id": "zHQfAwb_8KP7"
   },
   "source": [
    "### CIFAR-10データセットの表示\n",
    "CIFAR-10データセットに含まれる画像を表示してみます．\n",
    "ここでは，matplotlibを用いて複数の画像を表示させるプログラムを利用します．\n",
    "学習データは5万枚，1つのデータサイズは3x32x32の画像のような形式となっています．これは32x32ピクセルのカラー画像という意味になります．\n",
    "\n"
   ]
  },
  {
   "cell_type": "code",
   "execution_count": 5,
   "metadata": {
    "colab": {
     "base_uri": "https://localhost:8080/",
     "height": 173
    },
    "id": "Fod_SRFR8KP8",
    "outputId": "cfb75aa9-3a9e-4aab-9df3-1ef7f54ba826"
   },
   "outputs": [
    {
     "data": {
      "image/png": "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\n",
      "text/plain": [
       "<Figure size 432x288 with 1 Axes>"
      ]
     },
     "metadata": {
      "needs_background": "light"
     },
     "output_type": "display_data"
    },
    {
     "name": "stdout",
     "output_type": "stream",
     "text": [
      "  cat  ship  ship plane\n"
     ]
    }
   ],
   "source": [
    "import matplotlib.pyplot as plt\n",
    "import numpy as np\n",
    "\n",
    "# functions to show an image\n",
    "def imshow(img):\n",
    "    npimg = img.numpy()\n",
    "    npimg = ((npimg.transpose((1,2,0))  * [0.2023, 0.1994, 0.2010]) + [0.4914, 0.4822, 0.4465])  # unnormalize\n",
    "    plt.imshow(npimg)\n",
    "    plt.show()\n",
    "\n",
    "# get some random training images\n",
    "dataiter = iter(testloader)\n",
    "images, labels = dataiter.next()\n",
    "\n",
    "# show images\n",
    "imshow(torchvision.utils.make_grid(images[0:4]))\n",
    "# print labels\n",
    "print(' '.join('%5s' % classes[labels[j]] for j in range(4)))"
   ]
  },
  {
   "cell_type": "markdown",
   "metadata": {
    "id": "DduOi-s18KP_"
   },
   "source": [
    "## ネットワークモデルの定義\n",
    "次に，ResNetを定義します．\n",
    "ResNetの層の深さ (depth) は，20層に設定します．"
   ]
  },
  {
   "cell_type": "code",
   "execution_count": 6,
   "metadata": {
    "colab": {
     "base_uri": "https://localhost:8080/"
    },
    "id": "O0cpWP_w8KP_",
    "outputId": "61ff9f21-2fb1-472d-c4bf-36a9d0eea726"
   },
   "outputs": [
    {
     "data": {
      "text/plain": [
       "ResNet(\n",
       "  (conv1): Conv2d(3, 16, kernel_size=(3, 3), stride=(1, 1), padding=(1, 1), bias=False)\n",
       "  (bn1): BatchNorm2d(16, eps=1e-05, momentum=0.1, affine=True, track_running_stats=True)\n",
       "  (relu): ReLU(inplace=True)\n",
       "  (layer1): Sequential(\n",
       "    (0): BasicBlock(\n",
       "      (conv1): Conv2d(16, 16, kernel_size=(3, 3), stride=(1, 1), padding=(1, 1), bias=False)\n",
       "      (bn1): BatchNorm2d(16, eps=1e-05, momentum=0.1, affine=True, track_running_stats=True)\n",
       "      (relu): ReLU(inplace=True)\n",
       "      (conv2): Conv2d(16, 16, kernel_size=(3, 3), stride=(1, 1), padding=(1, 1), bias=False)\n",
       "      (bn2): BatchNorm2d(16, eps=1e-05, momentum=0.1, affine=True, track_running_stats=True)\n",
       "    )\n",
       "    (1): BasicBlock(\n",
       "      (conv1): Conv2d(16, 16, kernel_size=(3, 3), stride=(1, 1), padding=(1, 1), bias=False)\n",
       "      (bn1): BatchNorm2d(16, eps=1e-05, momentum=0.1, affine=True, track_running_stats=True)\n",
       "      (relu): ReLU(inplace=True)\n",
       "      (conv2): Conv2d(16, 16, kernel_size=(3, 3), stride=(1, 1), padding=(1, 1), bias=False)\n",
       "      (bn2): BatchNorm2d(16, eps=1e-05, momentum=0.1, affine=True, track_running_stats=True)\n",
       "    )\n",
       "    (2): BasicBlock(\n",
       "      (conv1): Conv2d(16, 16, kernel_size=(3, 3), stride=(1, 1), padding=(1, 1), bias=False)\n",
       "      (bn1): BatchNorm2d(16, eps=1e-05, momentum=0.1, affine=True, track_running_stats=True)\n",
       "      (relu): ReLU(inplace=True)\n",
       "      (conv2): Conv2d(16, 16, kernel_size=(3, 3), stride=(1, 1), padding=(1, 1), bias=False)\n",
       "      (bn2): BatchNorm2d(16, eps=1e-05, momentum=0.1, affine=True, track_running_stats=True)\n",
       "    )\n",
       "  )\n",
       "  (layer2): Sequential(\n",
       "    (0): BasicBlock(\n",
       "      (conv1): Conv2d(16, 32, kernel_size=(3, 3), stride=(2, 2), padding=(1, 1), bias=False)\n",
       "      (bn1): BatchNorm2d(32, eps=1e-05, momentum=0.1, affine=True, track_running_stats=True)\n",
       "      (relu): ReLU(inplace=True)\n",
       "      (conv2): Conv2d(32, 32, kernel_size=(3, 3), stride=(1, 1), padding=(1, 1), bias=False)\n",
       "      (bn2): BatchNorm2d(32, eps=1e-05, momentum=0.1, affine=True, track_running_stats=True)\n",
       "      (downsample): Sequential(\n",
       "        (0): Conv2d(16, 32, kernel_size=(1, 1), stride=(2, 2), bias=False)\n",
       "        (1): BatchNorm2d(32, eps=1e-05, momentum=0.1, affine=True, track_running_stats=True)\n",
       "      )\n",
       "    )\n",
       "    (1): BasicBlock(\n",
       "      (conv1): Conv2d(32, 32, kernel_size=(3, 3), stride=(1, 1), padding=(1, 1), bias=False)\n",
       "      (bn1): BatchNorm2d(32, eps=1e-05, momentum=0.1, affine=True, track_running_stats=True)\n",
       "      (relu): ReLU(inplace=True)\n",
       "      (conv2): Conv2d(32, 32, kernel_size=(3, 3), stride=(1, 1), padding=(1, 1), bias=False)\n",
       "      (bn2): BatchNorm2d(32, eps=1e-05, momentum=0.1, affine=True, track_running_stats=True)\n",
       "    )\n",
       "    (2): BasicBlock(\n",
       "      (conv1): Conv2d(32, 32, kernel_size=(3, 3), stride=(1, 1), padding=(1, 1), bias=False)\n",
       "      (bn1): BatchNorm2d(32, eps=1e-05, momentum=0.1, affine=True, track_running_stats=True)\n",
       "      (relu): ReLU(inplace=True)\n",
       "      (conv2): Conv2d(32, 32, kernel_size=(3, 3), stride=(1, 1), padding=(1, 1), bias=False)\n",
       "      (bn2): BatchNorm2d(32, eps=1e-05, momentum=0.1, affine=True, track_running_stats=True)\n",
       "    )\n",
       "  )\n",
       "  (layer3): Sequential(\n",
       "    (0): BasicBlock(\n",
       "      (conv1): Conv2d(32, 64, kernel_size=(3, 3), stride=(2, 2), padding=(1, 1), bias=False)\n",
       "      (bn1): BatchNorm2d(64, eps=1e-05, momentum=0.1, affine=True, track_running_stats=True)\n",
       "      (relu): ReLU(inplace=True)\n",
       "      (conv2): Conv2d(64, 64, kernel_size=(3, 3), stride=(1, 1), padding=(1, 1), bias=False)\n",
       "      (bn2): BatchNorm2d(64, eps=1e-05, momentum=0.1, affine=True, track_running_stats=True)\n",
       "      (downsample): Sequential(\n",
       "        (0): Conv2d(32, 64, kernel_size=(1, 1), stride=(2, 2), bias=False)\n",
       "        (1): BatchNorm2d(64, eps=1e-05, momentum=0.1, affine=True, track_running_stats=True)\n",
       "      )\n",
       "    )\n",
       "    (1): BasicBlock(\n",
       "      (conv1): Conv2d(64, 64, kernel_size=(3, 3), stride=(1, 1), padding=(1, 1), bias=False)\n",
       "      (bn1): BatchNorm2d(64, eps=1e-05, momentum=0.1, affine=True, track_running_stats=True)\n",
       "      (relu): ReLU(inplace=True)\n",
       "      (conv2): Conv2d(64, 64, kernel_size=(3, 3), stride=(1, 1), padding=(1, 1), bias=False)\n",
       "      (bn2): BatchNorm2d(64, eps=1e-05, momentum=0.1, affine=True, track_running_stats=True)\n",
       "    )\n",
       "    (2): BasicBlock(\n",
       "      (conv1): Conv2d(64, 64, kernel_size=(3, 3), stride=(1, 1), padding=(1, 1), bias=False)\n",
       "      (bn1): BatchNorm2d(64, eps=1e-05, momentum=0.1, affine=True, track_running_stats=True)\n",
       "      (relu): ReLU(inplace=True)\n",
       "      (conv2): Conv2d(64, 64, kernel_size=(3, 3), stride=(1, 1), padding=(1, 1), bias=False)\n",
       "      (bn2): BatchNorm2d(64, eps=1e-05, momentum=0.1, affine=True, track_running_stats=True)\n",
       "    )\n",
       "  )\n",
       "  (avgpool): AvgPool2d(kernel_size=8, stride=8, padding=0)\n",
       "  (fc): Linear(in_features=64, out_features=10, bias=True)\n",
       ")"
      ]
     },
     "execution_count": 6,
     "metadata": {},
     "output_type": "execute_result"
    }
   ],
   "source": [
    "import torch.nn as nn\n",
    "import torch.nn.functional as F\n",
    "import math\n",
    "\n",
    "\n",
    "# 3*3 のConvolution層を作る関数を定義。あとで使うため。\n",
    "def conv3x3(in_planes, out_planes, stride=1):\n",
    "    \"3x3 convolution with padding\"\n",
    "    return nn.Conv2d(in_planes, out_planes, kernel_size=3, stride=stride,\n",
    "                     padding=1, bias=False)\n",
    "\n",
    "class BasicBlock(nn.Module):\n",
    "    expansion = 1\n",
    "\n",
    "    def __init__(self, inplanes, planes, stride=1, downsample=None):\n",
    "        super(BasicBlock, self).__init__()\n",
    "        self.conv1 = conv3x3(inplanes, planes, stride)\n",
    "        self.bn1 = nn.BatchNorm2d(planes)\n",
    "        self.relu = nn.ReLU(inplace=True)\n",
    "        self.conv2 = conv3x3(planes, planes)\n",
    "        self.bn2 = nn.BatchNorm2d(planes)\n",
    "        self.downsample = downsample\n",
    "        self.stride = stride\n",
    "\n",
    "    def forward(self, x):\n",
    "        residual = x\n",
    "\n",
    "        out = self.conv1(x)\n",
    "        out = self.bn1(out)\n",
    "        out = self.relu(out)\n",
    "\n",
    "        out = self.conv2(out)\n",
    "        out = self.bn2(out)\n",
    "\n",
    "        if self.downsample is not None:\n",
    "            residual = self.downsample(x)\n",
    "\n",
    "        out += residual\n",
    "        out = self.relu(out)\n",
    "\n",
    "        return out\n",
    "\n",
    "class Bottleneck(nn.Module):\n",
    "    expansion = 4\n",
    "\n",
    "    def __init__(self, inplanes, planes, stride=1, downsample=None):\n",
    "        super(Bottleneck, self).__init__()\n",
    "        self.conv1 = nn.Conv2d(inplanes, planes, kernel_size=1, bias=False)\n",
    "        self.bn1 = nn.BatchNorm2d(planes)\n",
    "        self.conv2 = nn.Conv2d(planes, planes, kernel_size=3, stride=stride,\n",
    "                               padding=1, bias=False)\n",
    "        self.bn2 = nn.BatchNorm2d(planes)\n",
    "        self.conv3 = nn.Conv2d(planes, planes * 4, kernel_size=1, bias=False)\n",
    "        self.bn3 = nn.BatchNorm2d(planes * 4)\n",
    "        self.relu = nn.ReLU(inplace=True)\n",
    "        self.downsample = downsample\n",
    "        self.stride = stride\n",
    "\n",
    "    def forward(self, x):\n",
    "        residual = x\n",
    "\n",
    "        out = self.conv1(x)\n",
    "        out = self.bn1(out)\n",
    "        out = self.relu(out)\n",
    "\n",
    "        out = self.conv2(out)\n",
    "        out = self.bn2(out)\n",
    "        out = self.relu(out)\n",
    "\n",
    "        out = self.conv3(out)\n",
    "        out = self.bn3(out)\n",
    "\n",
    "        if self.downsample is not None:\n",
    "            residual = self.downsample(x)\n",
    "\n",
    "        out += residual\n",
    "        out = self.relu(out)\n",
    "\n",
    "        return out\n",
    "\n",
    "    \n",
    "#########################\n",
    "# ResNet クラスを定義\n",
    "\n",
    "class ResNet(nn.Module):\n",
    "\n",
    "    def __init__(self, depth, num_classes=10):\n",
    "        super(ResNet, self).__init__()\n",
    "        # Model type specifies number of layers for CIFAR-10 model\n",
    "        block_name = 'Bottleneck' if depth >=44 else 'BasicBlock'\n",
    "        if block_name.lower() == 'basicblock':\n",
    "            assert (depth - 2) % 6 == 0, 'When use basicblock, depth should be 6n+2, e.g. 20, 32, 44'\n",
    "            n = (depth - 2) // 6\n",
    "            block = BasicBlock\n",
    "        elif block_name.lower() == 'bottleneck':\n",
    "            assert (depth - 2) % 9 == 0, 'When use bottleneck, depth should be 9n+2, e.g. 47, 56, 110, 1199'\n",
    "            n = (depth - 2) // 9\n",
    "            block = Bottleneck\n",
    "        else:\n",
    "            raise ValueError('block_name shoule be Basicblock or Bottleneck')\n",
    "\n",
    "        self.inplanes = 16\n",
    "        self.conv1 = nn.Conv2d(3, 16, kernel_size=3, padding=1,\n",
    "                               bias=False)\n",
    "        self.bn1 = nn.BatchNorm2d(16)\n",
    "        self.relu = nn.ReLU(inplace=True)\n",
    "        self.layer1 = self._make_layer(block, 16, n)\n",
    "        self.layer2 = self._make_layer(block, 32, n, stride=2)\n",
    "        self.layer3 = self._make_layer(block, 64, n, stride=2)\n",
    "        self.avgpool = nn.AvgPool2d(8)\n",
    "        self.fc = nn.Linear(64 * block.expansion, num_classes)\n",
    "\n",
    "        for m in self.modules():\n",
    "            if isinstance(m, nn.Conv2d):\n",
    "                n = m.kernel_size[0] * m.kernel_size[1] * m.out_channels\n",
    "                m.weight.data.normal_(0, math.sqrt(2. / n))\n",
    "            elif isinstance(m, nn.BatchNorm2d):\n",
    "                m.weight.data.fill_(1)\n",
    "                m.bias.data.zero_()\n",
    "\n",
    "    def _make_layer(self, block, planes, blocks, stride=1):\n",
    "        downsample = None\n",
    "        if stride != 1 or self.inplanes != planes * block.expansion:\n",
    "            downsample = nn.Sequential(\n",
    "                nn.Conv2d(self.inplanes, planes * block.expansion,\n",
    "                          kernel_size=1, stride=stride, bias=False),\n",
    "                nn.BatchNorm2d(planes * block.expansion),\n",
    "            )\n",
    "\n",
    "        layers = []\n",
    "        layers.append(block(self.inplanes, planes, stride, downsample))\n",
    "        self.inplanes = planes * block.expansion\n",
    "        for i in range(1, blocks):\n",
    "            layers.append(block(self.inplanes, planes))\n",
    "\n",
    "        return nn.Sequential(*layers)\n",
    "\n",
    "    def forward(self, x):\n",
    "        x = self.conv1(x)\n",
    "        x = self.bn1(x)\n",
    "        x = self.relu(x)    # 32x32\n",
    "\n",
    "        x = self.layer1(x)  # 32x32\n",
    "        x = self.layer2(x)  # 16x16\n",
    "        x = self.layer3(x)  # 8x8\n",
    "\n",
    "        x = self.avgpool(x)\n",
    "        x = x.view(x.size(0), -1)\n",
    "        x = self.fc(x)\n",
    "\n",
    "        return x\n",
    "\n",
    "depth = 20 #e.g. 20, 32, 44, 47, 56, 110, 1199\n",
    "model = ResNet(depth)\n",
    "model.to(device)"
   ]
  },
  {
   "cell_type": "markdown",
   "metadata": {
    "id": "uFCekfs78KQC"
   },
   "source": [
    "## 損失関数と最適化手法の定義\n",
    "学習に使用する損失関数と最適化手法を定義します．\n",
    "今回は，分類問題を扱うため，クロスエントロピー誤差を計算するための`CrossEntropyLoss`を`criterion`として定義します．\n",
    "また，`scheduler`で学習率のスケジューリングを行います．\n",
    "`scheduler`では，初期の学習率を0.1に設定し，全体のエポック数の1/2と3/4で学習率を0.1倍します．\n",
    "最適化手法には，確率的勾配降下法 (stochastic gradient descent: SGD) を用いて学習します．\n",
    "最後に，定義したネットワークの詳細情報を`torchsummary.summary()`関数を用いて表示します．\n"
   ]
  },
  {
   "cell_type": "code",
   "execution_count": 7,
   "metadata": {
    "colab": {
     "base_uri": "https://localhost:8080/"
    },
    "id": "rntVJhx98KQC",
    "outputId": "86dc64fa-daf5-4338-fa70-39a55d81f29d"
   },
   "outputs": [
    {
     "name": "stdout",
     "output_type": "stream",
     "text": [
      "----------------------------------------------------------------\n",
      "        Layer (type)               Output Shape         Param #\n",
      "================================================================\n",
      "            Conv2d-1           [-1, 16, 32, 32]             432\n",
      "       BatchNorm2d-2           [-1, 16, 32, 32]              32\n",
      "              ReLU-3           [-1, 16, 32, 32]               0\n",
      "            Conv2d-4           [-1, 16, 32, 32]           2,304\n",
      "       BatchNorm2d-5           [-1, 16, 32, 32]              32\n",
      "              ReLU-6           [-1, 16, 32, 32]               0\n",
      "            Conv2d-7           [-1, 16, 32, 32]           2,304\n",
      "       BatchNorm2d-8           [-1, 16, 32, 32]              32\n",
      "              ReLU-9           [-1, 16, 32, 32]               0\n",
      "       BasicBlock-10           [-1, 16, 32, 32]               0\n",
      "           Conv2d-11           [-1, 16, 32, 32]           2,304\n",
      "      BatchNorm2d-12           [-1, 16, 32, 32]              32\n",
      "             ReLU-13           [-1, 16, 32, 32]               0\n",
      "           Conv2d-14           [-1, 16, 32, 32]           2,304\n",
      "      BatchNorm2d-15           [-1, 16, 32, 32]              32\n",
      "             ReLU-16           [-1, 16, 32, 32]               0\n",
      "       BasicBlock-17           [-1, 16, 32, 32]               0\n",
      "           Conv2d-18           [-1, 16, 32, 32]           2,304\n",
      "      BatchNorm2d-19           [-1, 16, 32, 32]              32\n",
      "             ReLU-20           [-1, 16, 32, 32]               0\n",
      "           Conv2d-21           [-1, 16, 32, 32]           2,304\n",
      "      BatchNorm2d-22           [-1, 16, 32, 32]              32\n",
      "             ReLU-23           [-1, 16, 32, 32]               0\n",
      "       BasicBlock-24           [-1, 16, 32, 32]               0\n",
      "           Conv2d-25           [-1, 32, 16, 16]           4,608\n",
      "      BatchNorm2d-26           [-1, 32, 16, 16]              64\n",
      "             ReLU-27           [-1, 32, 16, 16]               0\n",
      "           Conv2d-28           [-1, 32, 16, 16]           9,216\n",
      "      BatchNorm2d-29           [-1, 32, 16, 16]              64\n",
      "           Conv2d-30           [-1, 32, 16, 16]             512\n",
      "      BatchNorm2d-31           [-1, 32, 16, 16]              64\n",
      "             ReLU-32           [-1, 32, 16, 16]               0\n",
      "       BasicBlock-33           [-1, 32, 16, 16]               0\n",
      "           Conv2d-34           [-1, 32, 16, 16]           9,216\n",
      "      BatchNorm2d-35           [-1, 32, 16, 16]              64\n",
      "             ReLU-36           [-1, 32, 16, 16]               0\n",
      "           Conv2d-37           [-1, 32, 16, 16]           9,216\n",
      "      BatchNorm2d-38           [-1, 32, 16, 16]              64\n",
      "             ReLU-39           [-1, 32, 16, 16]               0\n",
      "       BasicBlock-40           [-1, 32, 16, 16]               0\n",
      "           Conv2d-41           [-1, 32, 16, 16]           9,216\n",
      "      BatchNorm2d-42           [-1, 32, 16, 16]              64\n",
      "             ReLU-43           [-1, 32, 16, 16]               0\n",
      "           Conv2d-44           [-1, 32, 16, 16]           9,216\n",
      "      BatchNorm2d-45           [-1, 32, 16, 16]              64\n",
      "             ReLU-46           [-1, 32, 16, 16]               0\n",
      "       BasicBlock-47           [-1, 32, 16, 16]               0\n",
      "           Conv2d-48             [-1, 64, 8, 8]          18,432\n",
      "      BatchNorm2d-49             [-1, 64, 8, 8]             128\n",
      "             ReLU-50             [-1, 64, 8, 8]               0\n",
      "           Conv2d-51             [-1, 64, 8, 8]          36,864\n",
      "      BatchNorm2d-52             [-1, 64, 8, 8]             128\n",
      "           Conv2d-53             [-1, 64, 8, 8]           2,048\n",
      "      BatchNorm2d-54             [-1, 64, 8, 8]             128\n",
      "             ReLU-55             [-1, 64, 8, 8]               0\n",
      "       BasicBlock-56             [-1, 64, 8, 8]               0\n",
      "           Conv2d-57             [-1, 64, 8, 8]          36,864\n",
      "      BatchNorm2d-58             [-1, 64, 8, 8]             128\n",
      "             ReLU-59             [-1, 64, 8, 8]               0\n",
      "           Conv2d-60             [-1, 64, 8, 8]          36,864\n",
      "      BatchNorm2d-61             [-1, 64, 8, 8]             128\n",
      "             ReLU-62             [-1, 64, 8, 8]               0\n",
      "       BasicBlock-63             [-1, 64, 8, 8]               0\n",
      "           Conv2d-64             [-1, 64, 8, 8]          36,864\n",
      "      BatchNorm2d-65             [-1, 64, 8, 8]             128\n",
      "             ReLU-66             [-1, 64, 8, 8]               0\n",
      "           Conv2d-67             [-1, 64, 8, 8]          36,864\n",
      "      BatchNorm2d-68             [-1, 64, 8, 8]             128\n",
      "             ReLU-69             [-1, 64, 8, 8]               0\n",
      "       BasicBlock-70             [-1, 64, 8, 8]               0\n",
      "        AvgPool2d-71             [-1, 64, 1, 1]               0\n",
      "           Linear-72                   [-1, 10]             650\n",
      "================================================================\n",
      "Total params: 272,474\n",
      "Trainable params: 272,474\n",
      "Non-trainable params: 0\n",
      "----------------------------------------------------------------\n",
      "Input size (MB): 0.01\n",
      "Forward/backward pass size (MB): 5.16\n",
      "Params size (MB): 1.04\n",
      "Estimated Total Size (MB): 6.21\n",
      "----------------------------------------------------------------\n"
     ]
    }
   ],
   "source": [
    "import torch.optim as optim\n",
    "from torch.optim import SGD, lr_scheduler\n",
    "\n",
    "criterion = nn.CrossEntropyLoss()\n",
    "optimizer = optim.SGD(model.parameters(), lr=0.1, momentum=0.9, weight_decay=5e-4)\n",
    "scheduler = lr_scheduler.MultiStepLR(optimizer, milestones=[50, 75], gamma=0.1) # 50 < 75\n",
    "\n",
    "# モデルの情報を表示\n",
    "torchsummary.summary(model, (3, 32, 32))"
   ]
  },
  {
   "cell_type": "markdown",
   "metadata": {
    "id": "Z4NRFd6i8KQF"
   },
   "source": [
    "## 学習\n",
    "読み込んだCIFAR-10データセットと作成したネットワークを用いて，学習を行います．\n",
    "今回は，学習エポック数を100とします．\n",
    "1エポック学習するごとに学習したモデルを評価し，最も認識精度の高いモデルが保存されます．\n",
    "各更新において，学習用データと教師データをそれぞれ`inputs`と`targets`とします．\n",
    "学習モデルに`inputs`を与えて，ResNetの出力を取得します．\n",
    "ResNetの出力と教師ラベル`targets`との誤差を`criterion`で算出します．\n",
    "また，認識精度も算出します．\n",
    "そして，誤差をbackward関数で逆伝播し，ネットワークの更新を行います．\n",
    "認識精度も同時に計算して，`print`関数で学習経過における誤差や認識精度を表示します．"
   ]
  },
  {
   "cell_type": "code",
   "execution_count": 8,
   "metadata": {
    "colab": {
     "base_uri": "https://localhost:8080/"
    },
    "id": "nnMVTad98KQG",
    "outputId": "81701db8-d41a-4426-dbda-b384069a93b2",
    "scrolled": true
   },
   "outputs": [
    {
     "name": "stderr",
     "output_type": "stream",
     "text": [
      "/opt/conda/lib/python3.7/site-packages/torch/optim/lr_scheduler.py:136: UserWarning: Detected call of `lr_scheduler.step()` before `optimizer.step()`. In PyTorch 1.1.0 and later, you should call them in the opposite order: `optimizer.step()` before `lr_scheduler.step()`.  Failure to do this will result in PyTorch skipping the first value of the learning rate schedule. See more details at https://pytorch.org/docs/stable/optim.html#how-to-adjust-learning-rate\n",
      "  \"https://pytorch.org/docs/stable/optim.html#how-to-adjust-learning-rate\", UserWarning)\n"
     ]
    },
    {
     "name": "stdout",
     "output_type": "stream",
     "text": [
      "[Epoch 1] Train Loss: 1.75992 | Train Acc: 26.396%\n",
      "Test Loss: 1.44629 | Test Acc: 48.572%\n",
      "[Epoch 2] Train Loss: 1.30365 | Train Acc: 50.951%\n",
      "Test Loss: 1.16497 | Test Acc: 59.933%\n",
      "[Epoch 3] Train Loss: 1.14573 | Train Acc: 59.128%\n",
      "Test Loss: 1.16155 | Test Acc: 58.855%\n",
      "[Epoch 4] Train Loss: 1.10027 | Train Acc: 61.269%\n",
      "Test Loss: 1.10270 | Test Acc: 61.934%\n",
      "[Epoch 5] Train Loss: 1.06755 | Train Acc: 63.161%\n",
      "Test Loss: 1.12232 | Test Acc: 62.556%\n",
      "[Epoch 6] Train Loss: 1.04921 | Train Acc: 63.736%\n",
      "Test Loss: 0.96151 | Test Acc: 65.699%\n",
      "[Epoch 7] Train Loss: 1.04102 | Train Acc: 64.106%\n",
      "Test Loss: 1.38225 | Test Acc: 56.248%\n",
      "[Epoch 8] Train Loss: 1.03386 | Train Acc: 64.386%\n",
      "Test Loss: 1.42933 | Test Acc: 54.712%\n",
      "[Epoch 9] Train Loss: 1.02512 | Train Acc: 65.025%\n",
      "Test Loss: 1.21737 | Test Acc: 59.713%\n",
      "[Epoch 10] Train Loss: 1.02201 | Train Acc: 64.729%\n",
      "Test Loss: 1.43849 | Test Acc: 57.172%\n",
      "[Epoch 11] Train Loss: 1.02048 | Train Acc: 65.047%\n",
      "Test Loss: 1.09807 | Test Acc: 60.987%\n",
      "[Epoch 12] Train Loss: 1.01305 | Train Acc: 64.685%\n",
      "Test Loss: 1.20175 | Test Acc: 63.095%\n",
      "[Epoch 13] Train Loss: 1.00987 | Train Acc: 65.075%\n",
      "Test Loss: 1.49650 | Test Acc: 54.595%\n",
      "[Epoch 14] Train Loss: 1.00341 | Train Acc: 65.763%\n",
      "Test Loss: 1.02833 | Test Acc: 64.774%\n",
      "[Epoch 15] Train Loss: 1.00725 | Train Acc: 65.508%\n",
      "Test Loss: 1.06120 | Test Acc: 64.131%\n",
      "[Epoch 16] Train Loss: 0.99715 | Train Acc: 65.969%\n",
      "Test Loss: 1.00618 | Test Acc: 66.306%\n",
      "[Epoch 17] Train Loss: 1.00334 | Train Acc: 65.678%\n",
      "Test Loss: 1.00347 | Test Acc: 65.982%\n",
      "[Epoch 18] Train Loss: 0.99765 | Train Acc: 65.842%\n",
      "Test Loss: 0.95522 | Test Acc: 67.170%\n",
      "[Epoch 19] Train Loss: 0.99492 | Train Acc: 65.890%\n",
      "Test Loss: 1.06029 | Test Acc: 65.460%\n",
      "[Epoch 20] Train Loss: 0.99567 | Train Acc: 66.140%\n",
      "Test Loss: 1.06122 | Test Acc: 63.652%\n",
      "[Epoch 21] Train Loss: 0.98986 | Train Acc: 66.400%\n",
      "Test Loss: 1.09389 | Test Acc: 62.173%\n",
      "[Epoch 22] Train Loss: 0.99480 | Train Acc: 65.769%\n",
      "Test Loss: 2.07986 | Test Acc: 44.008%\n",
      "[Epoch 23] Train Loss: 0.99550 | Train Acc: 65.998%\n",
      "Test Loss: 1.49634 | Test Acc: 56.757%\n",
      "[Epoch 24] Train Loss: 0.98725 | Train Acc: 66.136%\n",
      "Test Loss: 0.94496 | Test Acc: 68.476%\n",
      "[Epoch 25] Train Loss: 0.99070 | Train Acc: 65.961%\n",
      "Test Loss: 1.09093 | Test Acc: 62.792%\n",
      "[Epoch 26] Train Loss: 0.99390 | Train Acc: 65.714%\n",
      "Test Loss: 0.93502 | Test Acc: 68.974%\n",
      "[Epoch 27] Train Loss: 0.98413 | Train Acc: 66.766%\n",
      "Test Loss: 1.17829 | Test Acc: 59.489%\n",
      "[Epoch 28] Train Loss: 0.99150 | Train Acc: 65.735%\n",
      "Test Loss: 1.32526 | Test Acc: 59.261%\n",
      "[Epoch 29] Train Loss: 0.99960 | Train Acc: 65.676%\n",
      "Test Loss: 1.23434 | Test Acc: 58.508%\n",
      "[Epoch 30] Train Loss: 0.99007 | Train Acc: 65.957%\n",
      "Test Loss: 1.11326 | Test Acc: 61.927%\n",
      "[Epoch 31] Train Loss: 0.99420 | Train Acc: 65.576%\n",
      "Test Loss: 1.89058 | Test Acc: 50.427%\n",
      "[Epoch 32] Train Loss: 0.98165 | Train Acc: 66.395%\n",
      "Test Loss: 1.01040 | Test Acc: 66.185%\n",
      "[Epoch 33] Train Loss: 0.98534 | Train Acc: 66.414%\n",
      "Test Loss: 1.12630 | Test Acc: 62.909%\n",
      "[Epoch 34] Train Loss: 0.98514 | Train Acc: 66.514%\n",
      "Test Loss: 0.92489 | Test Acc: 68.415%\n",
      "[Epoch 35] Train Loss: 0.98148 | Train Acc: 66.540%\n",
      "Test Loss: 1.69723 | Test Acc: 49.511%\n",
      "[Epoch 36] Train Loss: 0.98902 | Train Acc: 66.640%\n",
      "Test Loss: 1.50875 | Test Acc: 55.944%\n",
      "[Epoch 37] Train Loss: 0.99058 | Train Acc: 65.918%\n",
      "Test Loss: 1.04811 | Test Acc: 66.552%\n",
      "[Epoch 38] Train Loss: 0.98501 | Train Acc: 66.503%\n",
      "Test Loss: 0.98230 | Test Acc: 67.064%\n",
      "[Epoch 39] Train Loss: 0.98636 | Train Acc: 66.578%\n",
      "Test Loss: 1.01878 | Test Acc: 65.811%\n",
      "[Epoch 40] Train Loss: 0.98420 | Train Acc: 66.847%\n",
      "Test Loss: 1.48324 | Test Acc: 54.806%\n",
      "[Epoch 41] Train Loss: 0.98462 | Train Acc: 66.131%\n",
      "Test Loss: 1.19575 | Test Acc: 61.015%\n",
      "[Epoch 42] Train Loss: 0.98544 | Train Acc: 66.034%\n",
      "Test Loss: 1.65971 | Test Acc: 52.758%\n",
      "[Epoch 43] Train Loss: 0.99374 | Train Acc: 65.353%\n",
      "Test Loss: 1.05787 | Test Acc: 63.084%\n",
      "[Epoch 44] Train Loss: 0.98749 | Train Acc: 66.334%\n",
      "Test Loss: 1.09841 | Test Acc: 62.603%\n",
      "[Epoch 45] Train Loss: 0.97494 | Train Acc: 66.491%\n",
      "Test Loss: 1.00217 | Test Acc: 64.993%\n",
      "[Epoch 46] Train Loss: 0.98936 | Train Acc: 65.500%\n",
      "Test Loss: 1.05803 | Test Acc: 64.624%\n",
      "[Epoch 47] Train Loss: 0.98117 | Train Acc: 66.394%\n",
      "Test Loss: 1.19362 | Test Acc: 59.093%\n",
      "[Epoch 48] Train Loss: 0.98807 | Train Acc: 65.897%\n",
      "Test Loss: 1.17917 | Test Acc: 61.604%\n",
      "[Epoch 49] Train Loss: 0.99021 | Train Acc: 66.206%\n",
      "Test Loss: 1.52104 | Test Acc: 53.416%\n",
      "[Epoch 50] Train Loss: 0.65007 | Train Acc: 75.741%\n",
      "Test Loss: 0.56556 | Test Acc: 80.859%\n",
      "[Epoch 51] Train Loss: 0.58023 | Train Acc: 80.318%\n",
      "Test Loss: 0.54277 | Test Acc: 81.228%\n",
      "[Epoch 52] Train Loss: 0.56652 | Train Acc: 80.674%\n",
      "Test Loss: 0.52616 | Test Acc: 82.396%\n",
      "[Epoch 53] Train Loss: 0.55314 | Train Acc: 81.103%\n",
      "Test Loss: 0.55950 | Test Acc: 81.262%\n",
      "[Epoch 54] Train Loss: 0.55944 | Train Acc: 80.945%\n",
      "Test Loss: 0.57138 | Test Acc: 80.988%\n",
      "[Epoch 55] Train Loss: 0.55349 | Train Acc: 80.992%\n",
      "Test Loss: 0.53547 | Test Acc: 81.927%\n",
      "[Epoch 56] Train Loss: 0.54916 | Train Acc: 81.340%\n",
      "Test Loss: 0.52231 | Test Acc: 82.540%\n",
      "[Epoch 57] Train Loss: 0.54967 | Train Acc: 81.609%\n",
      "Test Loss: 0.66515 | Test Acc: 78.360%\n",
      "[Epoch 58] Train Loss: 0.54954 | Train Acc: 81.126%\n",
      "Test Loss: 0.56365 | Test Acc: 81.193%\n",
      "[Epoch 59] Train Loss: 0.54168 | Train Acc: 81.886%\n",
      "Test Loss: 0.54427 | Test Acc: 82.233%\n",
      "[Epoch 60] Train Loss: 0.54137 | Train Acc: 81.719%\n",
      "Test Loss: 0.56949 | Test Acc: 80.482%\n",
      "[Epoch 61] Train Loss: 0.53622 | Train Acc: 81.816%\n",
      "Test Loss: 0.53347 | Test Acc: 81.911%\n",
      "[Epoch 62] Train Loss: 0.53333 | Train Acc: 81.985%\n",
      "Test Loss: 0.54929 | Test Acc: 81.247%\n",
      "[Epoch 63] Train Loss: 0.52802 | Train Acc: 82.393%\n",
      "Test Loss: 0.50261 | Test Acc: 82.844%\n",
      "[Epoch 64] Train Loss: 0.52688 | Train Acc: 82.155%\n",
      "Test Loss: 0.52281 | Test Acc: 81.849%\n",
      "[Epoch 65] Train Loss: 0.52582 | Train Acc: 82.265%\n",
      "Test Loss: 0.52494 | Test Acc: 82.049%\n",
      "[Epoch 66] Train Loss: 0.52299 | Train Acc: 82.529%\n",
      "Test Loss: 0.51173 | Test Acc: 82.384%\n",
      "[Epoch 67] Train Loss: 0.51921 | Train Acc: 81.847%\n",
      "Test Loss: 0.49549 | Test Acc: 83.148%\n",
      "[Epoch 68] Train Loss: 0.52354 | Train Acc: 82.498%\n",
      "Test Loss: 0.49799 | Test Acc: 83.054%\n",
      "[Epoch 69] Train Loss: 0.51517 | Train Acc: 82.529%\n",
      "Test Loss: 0.47104 | Test Acc: 83.934%\n",
      "[Epoch 70] Train Loss: 0.51404 | Train Acc: 82.578%\n",
      "Test Loss: 0.54462 | Test Acc: 81.145%\n",
      "[Epoch 71] Train Loss: 0.51248 | Train Acc: 82.515%\n",
      "Test Loss: 0.51679 | Test Acc: 82.565%\n",
      "[Epoch 72] Train Loss: 0.51280 | Train Acc: 82.731%\n",
      "Test Loss: 0.46541 | Test Acc: 84.269%\n",
      "[Epoch 73] Train Loss: 0.50858 | Train Acc: 82.495%\n",
      "Test Loss: 0.52967 | Test Acc: 82.222%\n",
      "[Epoch 74] Train Loss: 0.51058 | Train Acc: 82.772%\n",
      "Test Loss: 0.50952 | Test Acc: 82.906%\n",
      "[Epoch 75] Train Loss: 0.38426 | Train Acc: 86.235%\n",
      "Test Loss: 0.36918 | Test Acc: 87.643%\n",
      "[Epoch 76] Train Loss: 0.34287 | Train Acc: 88.399%\n",
      "Test Loss: 0.35217 | Test Acc: 88.394%\n",
      "[Epoch 77] Train Loss: 0.32537 | Train Acc: 89.051%\n",
      "Test Loss: 0.35240 | Test Acc: 87.751%\n",
      "[Epoch 78] Train Loss: 0.31511 | Train Acc: 89.649%\n",
      "Test Loss: 0.33735 | Test Acc: 88.815%\n",
      "[Epoch 79] Train Loss: 0.30524 | Train Acc: 89.850%\n",
      "Test Loss: 0.34149 | Test Acc: 88.525%\n",
      "[Epoch 80] Train Loss: 0.29889 | Train Acc: 89.956%\n",
      "Test Loss: 0.34641 | Test Acc: 88.646%\n",
      "[Epoch 81] Train Loss: 0.29350 | Train Acc: 90.009%\n",
      "Test Loss: 0.34131 | Test Acc: 88.637%\n",
      "[Epoch 82] Train Loss: 0.28925 | Train Acc: 90.198%\n",
      "Test Loss: 0.33941 | Test Acc: 88.701%\n",
      "[Epoch 83] Train Loss: 0.28472 | Train Acc: 90.403%\n",
      "Test Loss: 0.33194 | Test Acc: 89.320%\n",
      "[Epoch 84] Train Loss: 0.28324 | Train Acc: 90.310%\n",
      "Test Loss: 0.34117 | Test Acc: 88.977%\n",
      "[Epoch 85] Train Loss: 0.27702 | Train Acc: 90.607%\n",
      "Test Loss: 0.34641 | Test Acc: 88.736%\n",
      "[Epoch 86] Train Loss: 0.27750 | Train Acc: 90.610%\n",
      "Test Loss: 0.34255 | Test Acc: 88.768%\n",
      "[Epoch 87] Train Loss: 0.27390 | Train Acc: 90.886%\n",
      "Test Loss: 0.34714 | Test Acc: 88.371%\n",
      "[Epoch 88] Train Loss: 0.26721 | Train Acc: 90.825%\n",
      "Test Loss: 0.33816 | Test Acc: 88.821%\n",
      "[Epoch 89] Train Loss: 0.27063 | Train Acc: 90.795%\n",
      "Test Loss: 0.33563 | Test Acc: 88.612%\n",
      "[Epoch 91] Train Loss: 0.26551 | Train Acc: 91.285%\n",
      "Test Loss: 0.32525 | Test Acc: 89.212%\n",
      "[Epoch 92] Train Loss: 0.26627 | Train Acc: 90.976%\n"
     ]
    },
    {
     "name": "stdout",
     "output_type": "stream",
     "text": [
      "Test Loss: 0.34166 | Test Acc: 88.582%\n",
      "[Epoch 93] Train Loss: 0.26418 | Train Acc: 90.753%\n",
      "Test Loss: 0.34303 | Test Acc: 88.529%\n",
      "[Epoch 94] Train Loss: 0.26048 | Train Acc: 91.088%\n",
      "Test Loss: 0.32679 | Test Acc: 88.694%\n",
      "[Epoch 95] Train Loss: 0.25904 | Train Acc: 91.332%\n",
      "Test Loss: 0.34427 | Test Acc: 88.466%\n",
      "[Epoch 96] Train Loss: 0.26220 | Train Acc: 91.145%\n",
      "Test Loss: 0.34368 | Test Acc: 88.403%\n",
      "[Epoch 97] Train Loss: 0.26078 | Train Acc: 91.121%\n",
      "Test Loss: 0.34557 | Test Acc: 88.406%\n",
      "[Epoch 98] Train Loss: 0.25929 | Train Acc: 91.539%\n",
      "Test Loss: 0.33750 | Test Acc: 88.546%\n",
      "[Epoch 99] Train Loss: 0.25758 | Train Acc: 91.036%\n",
      "Test Loss: 0.34288 | Test Acc: 88.664%\n",
      "[Epoch 100] Train Loss: 0.25337 | Train Acc: 91.309%\n",
      "Test Loss: 0.37301 | Test Acc: 88.047%\n",
      "Finished Training\n"
     ]
    }
   ],
   "source": [
    "epochs = 100\n",
    "best_acc = 0  # best test accuracy\n",
    "\n",
    "# Training\n",
    "for epoch in range(epochs):\n",
    "    scheduler.step()\n",
    "    train_running_loss = 0.0\n",
    "    train_running_acc = 0.0\n",
    "\n",
    "    # training\n",
    "    model.train()\n",
    "    train_loss = 0\n",
    "    correct = 0\n",
    "    total = 0\n",
    "    count = 0\n",
    "    for batch_idx, (inputs, targets) in enumerate(trainloader):\n",
    "        inputs, targets = inputs.to(device), targets.to(device)\n",
    "        optimizer.zero_grad()\n",
    "        outputs = model(inputs)\n",
    "        loss = criterion(outputs, targets)\n",
    "        loss.backward()\n",
    "        optimizer.step()\n",
    "\n",
    "\n",
    "        train_loss += loss.item()\n",
    "        _, predicted = outputs.max(1)\n",
    "        total += targets.size(0)\n",
    "        correct += predicted.eq(targets).sum().item()\n",
    "\n",
    "        # print statistics\n",
    "        train_running_loss += loss\n",
    "        train_running_acc += 100.*correct/total\n",
    "        count += 1\n",
    "\n",
    "    print('[Epoch %d] Train Loss: %.5f | Train Acc: %.3f%%'\n",
    "                  % (epoch + 1, train_loss/count, train_running_acc/count))\n",
    "    \n",
    "    # testing\n",
    "    model.eval() \n",
    "    with torch.no_grad():\n",
    "        test_running_loss = 0.0\n",
    "        test_running_acc = 0.0\n",
    "        test_loss = 0\n",
    "        correct = 0\n",
    "        total = 0\n",
    "        count = 0\n",
    "        for batch_idx, (inputs, targets) in enumerate(testloader):\n",
    "            inputs, targets = inputs.to(device), targets.to(device)\n",
    "            outputs = model(inputs)\n",
    "            loss = criterion(outputs, targets)\n",
    "\n",
    "            test_loss += loss.item()\n",
    "            _, predicted = outputs.max(1)\n",
    "            total += targets.size(0)\n",
    "            correct += predicted.eq(targets).sum().item()\n",
    "\n",
    "            # print statistics\n",
    "            test_running_loss += loss\n",
    "            test_running_acc += 100.*correct/total\n",
    "            count += 1\n",
    "\n",
    "        print('Test Loss: %.5f | Test Acc: %.3f%%'\n",
    "                      % (test_loss/count, test_running_acc/count))\n",
    "        \n",
    "    # save model\n",
    "    if test_running_acc/count > best_acc:\n",
    "        best_acc = max(test_running_acc/count, best_acc)\n",
    "        PATH = './cifar_net.pth'\n",
    "        torch.save(model.state_dict(), PATH)\n",
    "    \n",
    "print('Finished Training')"
   ]
  },
  {
   "cell_type": "markdown",
   "metadata": {
    "id": "wlOo-rzY8KQL"
   },
   "source": [
    "##テスト\n",
    "学習したネットワークのテストデータに対する認識精度の確認を行います．まず，学習したネットワークを評価するために保存したモデルをロードします．"
   ]
  },
  {
   "cell_type": "code",
   "execution_count": 9,
   "metadata": {
    "colab": {
     "base_uri": "https://localhost:8080/"
    },
    "id": "WSa0ATFj8KQP",
    "outputId": "09c64c4e-7690-44be-9a13-3d262591e29d"
   },
   "outputs": [
    {
     "data": {
      "text/plain": [
       "<All keys matched successfully>"
      ]
     },
     "execution_count": 9,
     "metadata": {},
     "output_type": "execute_result"
    }
   ],
   "source": [
    "depth = 20 #e.g. 20, 32, 44, 47, 56, 110, 1199\n",
    "model = ResNet(depth)\n",
    "model.to(device)\n",
    "PATH = './cifar_net.pth'\n",
    "model.load_state_dict(torch.load(PATH))"
   ]
  },
  {
   "cell_type": "markdown",
   "metadata": {
    "id": "VwWfJO358KQS"
   },
   "source": [
    "次に，学習したネットワークを用いて，テストデータに対する認識精度の確認を行います．\n",
    "`model.eval()`を適用することで，ネットワーク演算を評価モードへ変更します． これにより，学習時と評価時で挙動が異なる演算（dropout等）を変更することが可能です． また，`torch.no_grad()`を適用することで，学習時には必要になる勾配情報を保持することなく演算を行います．"
   ]
  },
  {
   "cell_type": "code",
   "execution_count": 10,
   "metadata": {
    "colab": {
     "base_uri": "https://localhost:8080/"
    },
    "id": "ij38kQBP8KQS",
    "outputId": "6858bee9-595a-4e1f-834d-2cfc8b3b1f65"
   },
   "outputs": [
    {
     "name": "stdout",
     "output_type": "stream",
     "text": [
      "Test Loss: 0.33194 | Test Acc: 89.320%\n"
     ]
    }
   ],
   "source": [
    "# testing\n",
    "model.eval() \n",
    "with torch.no_grad():\n",
    "    test_running_loss = 0.0\n",
    "    test_running_acc = 0.0\n",
    "    test_loss = 0\n",
    "    correct = 0\n",
    "    total = 0\n",
    "    count = 0\n",
    "    for batch_idx, (inputs, targets) in enumerate(testloader):\n",
    "        inputs, targets = inputs.to(device), targets.to(device)\n",
    "        outputs = model(inputs)\n",
    "        loss = criterion(outputs, targets)\n",
    "\n",
    "        test_loss += loss.item()\n",
    "        _, predicted = outputs.max(1)\n",
    "        total += targets.size(0)\n",
    "        correct += predicted.eq(targets).sum().item()\n",
    "\n",
    "        # print statistics\n",
    "        test_running_loss += loss\n",
    "        test_running_acc += 100.*correct/total\n",
    "        count += 1\n",
    "\n",
    "    print('Test Loss: %.5f | Test Acc: %.3f%%'\n",
    "                  % (test_loss/count, test_running_acc/count))"
   ]
  },
  {
   "cell_type": "markdown",
   "metadata": {
    "id": "YjJ48SKsd3dp"
   },
   "source": [
    "## 課題\n",
    "1. エポック数やミニバッチサイズを変えて実験しましょう．\n"
   ]
  },
  {
   "cell_type": "code",
   "execution_count": 11,
   "metadata": {
    "id": "bapCu45reINz"
   },
   "outputs": [],
   "source": [
    "#ここにコードを書く"
   ]
  },
  {
   "cell_type": "markdown",
   "metadata": {
    "id": "P8Pw0zlCfed4"
   },
   "source": [
    "2. ResNetの層数を変えて認識精度の変化を比較しましょう．"
   ]
  },
  {
   "cell_type": "code",
   "execution_count": 12,
   "metadata": {
    "id": "eyMnF0A7fjPQ"
   },
   "outputs": [],
   "source": [
    "#ここにコードを書く"
   ]
  },
  {
   "cell_type": "markdown",
   "metadata": {
    "id": "Fc6zxbw2qQYp"
   },
   "source": [
    "# 参考文献\n",
    "- [1] K. He, X. Zhang, S. Ren, and J. Sun,\n",
    "\"Deep residual learning for image recognition\". In 2016 IEEE Conference on Computer Vision and Pattern Recognition,\n",
    "pp. 770–778, 2016.\n",
    "\n",
    "- [2] S. Karen and Z. Andrew, \"Very deep convolutional networks\n",
    "for large-scale image recognition\". In International Confer-\n",
    "ence on Learning Representations, 2015."
   ]
  }
 ],
 "metadata": {
  "accelerator": "GPU",
  "colab": {
   "collapsed_sections": [],
   "name": "03_resnet.ipynb",
   "provenance": []
  },
  "kernelspec": {
   "display_name": "Python 3",
   "language": "python",
   "name": "python3"
  },
  "language_info": {
   "codemirror_mode": {
    "name": "ipython",
    "version": 3
   },
   "file_extension": ".py",
   "mimetype": "text/x-python",
   "name": "python",
   "nbconvert_exporter": "python",
   "pygments_lexer": "ipython3",
   "version": "3.7.6"
  },
  "varInspector": {
   "cols": {
    "lenName": 16,
    "lenType": 16,
    "lenVar": 40
   },
   "kernels_config": {
    "python": {
     "delete_cmd_postfix": "",
     "delete_cmd_prefix": "del ",
     "library": "var_list.py",
     "varRefreshCmd": "print(var_dic_list())"
    },
    "r": {
     "delete_cmd_postfix": ") ",
     "delete_cmd_prefix": "rm(",
     "library": "var_list.r",
     "varRefreshCmd": "cat(var_dic_list()) "
    }
   },
   "types_to_exclude": [
    "module",
    "function",
    "builtin_function_or_method",
    "instance",
    "_Feature"
   ],
   "window_display": false
  },
  "widgets": {
   "application/vnd.jupyter.widget-state+json": {
    "015ac6472a574f0189472681028cb8b4": {
     "model_module": "@jupyter-widgets/base",
     "model_name": "LayoutModel",
     "state": {
      "_model_module": "@jupyter-widgets/base",
      "_model_module_version": "1.2.0",
      "_model_name": "LayoutModel",
      "_view_count": null,
      "_view_module": "@jupyter-widgets/base",
      "_view_module_version": "1.2.0",
      "_view_name": "LayoutView",
      "align_content": null,
      "align_items": null,
      "align_self": null,
      "border": null,
      "bottom": null,
      "display": null,
      "flex": null,
      "flex_flow": null,
      "grid_area": null,
      "grid_auto_columns": null,
      "grid_auto_flow": null,
      "grid_auto_rows": null,
      "grid_column": null,
      "grid_gap": null,
      "grid_row": null,
      "grid_template_areas": null,
      "grid_template_columns": null,
      "grid_template_rows": null,
      "height": null,
      "justify_content": null,
      "justify_items": null,
      "left": null,
      "margin": null,
      "max_height": null,
      "max_width": null,
      "min_height": null,
      "min_width": null,
      "object_fit": null,
      "object_position": null,
      "order": null,
      "overflow": null,
      "overflow_x": null,
      "overflow_y": null,
      "padding": null,
      "right": null,
      "top": null,
      "visibility": null,
      "width": null
     }
    },
    "0574b7fe14f74a0e91f37e9646010897": {
     "model_module": "@jupyter-widgets/controls",
     "model_name": "FloatProgressModel",
     "state": {
      "_dom_classes": [],
      "_model_module": "@jupyter-widgets/controls",
      "_model_module_version": "1.5.0",
      "_model_name": "FloatProgressModel",
      "_view_count": null,
      "_view_module": "@jupyter-widgets/controls",
      "_view_module_version": "1.5.0",
      "_view_name": "ProgressView",
      "bar_style": "info",
      "description": "",
      "description_tooltip": null,
      "layout": "IPY_MODEL_429753e636ad4ae4a09b0ec7cd40ae88",
      "max": 1,
      "min": 0,
      "orientation": "horizontal",
      "style": "IPY_MODEL_d61072097735498083cc36333996066e",
      "value": 1
     }
    },
    "18eff29c692a4fafaea1c4742c2804ff": {
     "model_module": "@jupyter-widgets/base",
     "model_name": "LayoutModel",
     "state": {
      "_model_module": "@jupyter-widgets/base",
      "_model_module_version": "1.2.0",
      "_model_name": "LayoutModel",
      "_view_count": null,
      "_view_module": "@jupyter-widgets/base",
      "_view_module_version": "1.2.0",
      "_view_name": "LayoutView",
      "align_content": null,
      "align_items": null,
      "align_self": null,
      "border": null,
      "bottom": null,
      "display": null,
      "flex": null,
      "flex_flow": null,
      "grid_area": null,
      "grid_auto_columns": null,
      "grid_auto_flow": null,
      "grid_auto_rows": null,
      "grid_column": null,
      "grid_gap": null,
      "grid_row": null,
      "grid_template_areas": null,
      "grid_template_columns": null,
      "grid_template_rows": null,
      "height": null,
      "justify_content": null,
      "justify_items": null,
      "left": null,
      "margin": null,
      "max_height": null,
      "max_width": null,
      "min_height": null,
      "min_width": null,
      "object_fit": null,
      "object_position": null,
      "order": null,
      "overflow": null,
      "overflow_x": null,
      "overflow_y": null,
      "padding": null,
      "right": null,
      "top": null,
      "visibility": null,
      "width": null
     }
    },
    "2bcc19d3ebe44208aefc266ecb092de7": {
     "model_module": "@jupyter-widgets/controls",
     "model_name": "HBoxModel",
     "state": {
      "_dom_classes": [],
      "_model_module": "@jupyter-widgets/controls",
      "_model_module_version": "1.5.0",
      "_model_name": "HBoxModel",
      "_view_count": null,
      "_view_module": "@jupyter-widgets/controls",
      "_view_module_version": "1.5.0",
      "_view_name": "HBoxView",
      "box_style": "",
      "children": [
       "IPY_MODEL_0574b7fe14f74a0e91f37e9646010897",
       "IPY_MODEL_f403a35ccdaf465eb42f4424f497e2f2"
      ],
      "layout": "IPY_MODEL_18eff29c692a4fafaea1c4742c2804ff"
     }
    },
    "429753e636ad4ae4a09b0ec7cd40ae88": {
     "model_module": "@jupyter-widgets/base",
     "model_name": "LayoutModel",
     "state": {
      "_model_module": "@jupyter-widgets/base",
      "_model_module_version": "1.2.0",
      "_model_name": "LayoutModel",
      "_view_count": null,
      "_view_module": "@jupyter-widgets/base",
      "_view_module_version": "1.2.0",
      "_view_name": "LayoutView",
      "align_content": null,
      "align_items": null,
      "align_self": null,
      "border": null,
      "bottom": null,
      "display": null,
      "flex": null,
      "flex_flow": null,
      "grid_area": null,
      "grid_auto_columns": null,
      "grid_auto_flow": null,
      "grid_auto_rows": null,
      "grid_column": null,
      "grid_gap": null,
      "grid_row": null,
      "grid_template_areas": null,
      "grid_template_columns": null,
      "grid_template_rows": null,
      "height": null,
      "justify_content": null,
      "justify_items": null,
      "left": null,
      "margin": null,
      "max_height": null,
      "max_width": null,
      "min_height": null,
      "min_width": null,
      "object_fit": null,
      "object_position": null,
      "order": null,
      "overflow": null,
      "overflow_x": null,
      "overflow_y": null,
      "padding": null,
      "right": null,
      "top": null,
      "visibility": null,
      "width": null
     }
    },
    "b696f279d101434498eb5e006517a6ac": {
     "model_module": "@jupyter-widgets/controls",
     "model_name": "DescriptionStyleModel",
     "state": {
      "_model_module": "@jupyter-widgets/controls",
      "_model_module_version": "1.5.0",
      "_model_name": "DescriptionStyleModel",
      "_view_count": null,
      "_view_module": "@jupyter-widgets/base",
      "_view_module_version": "1.2.0",
      "_view_name": "StyleView",
      "description_width": ""
     }
    },
    "d61072097735498083cc36333996066e": {
     "model_module": "@jupyter-widgets/controls",
     "model_name": "ProgressStyleModel",
     "state": {
      "_model_module": "@jupyter-widgets/controls",
      "_model_module_version": "1.5.0",
      "_model_name": "ProgressStyleModel",
      "_view_count": null,
      "_view_module": "@jupyter-widgets/base",
      "_view_module_version": "1.2.0",
      "_view_name": "StyleView",
      "bar_color": null,
      "description_width": "initial"
     }
    },
    "f403a35ccdaf465eb42f4424f497e2f2": {
     "model_module": "@jupyter-widgets/controls",
     "model_name": "HTMLModel",
     "state": {
      "_dom_classes": [],
      "_model_module": "@jupyter-widgets/controls",
      "_model_module_version": "1.5.0",
      "_model_name": "HTMLModel",
      "_view_count": null,
      "_view_module": "@jupyter-widgets/controls",
      "_view_module_version": "1.5.0",
      "_view_name": "HTMLView",
      "description": "",
      "description_tooltip": null,
      "layout": "IPY_MODEL_015ac6472a574f0189472681028cb8b4",
      "placeholder": "​",
      "style": "IPY_MODEL_b696f279d101434498eb5e006517a6ac",
      "value": " 170500096/? [01:00&lt;00:00, 3637268.48it/s]"
     }
    }
   }
  }
 },
 "nbformat": 4,
 "nbformat_minor": 1
}
=======
  "nbformat": 4,
  "nbformat_minor": 0,
  "metadata": {
    "kernelspec": {
      "display_name": "Python 3",
      "language": "python",
      "name": "python3"
    },
    "language_info": {
      "codemirror_mode": {
        "name": "ipython",
        "version": 3
      },
      "file_extension": ".py",
      "mimetype": "text/x-python",
      "name": "python",
      "nbconvert_exporter": "python",
      "pygments_lexer": "ipython3",
      "version": "3.7.6"
    },
    "colab": {
      "name": "03_resnet.ipynb",
      "provenance": [],
      "collapsed_sections": []
    },
    "accelerator": "GPU",
    "widgets": {
      "application/vnd.jupyter.widget-state+json": {
        "2bcc19d3ebe44208aefc266ecb092de7": {
          "model_module": "@jupyter-widgets/controls",
          "model_name": "HBoxModel",
          "state": {
            "_view_name": "HBoxView",
            "_dom_classes": [],
            "_model_name": "HBoxModel",
            "_view_module": "@jupyter-widgets/controls",
            "_model_module_version": "1.5.0",
            "_view_count": null,
            "_view_module_version": "1.5.0",
            "box_style": "",
            "layout": "IPY_MODEL_18eff29c692a4fafaea1c4742c2804ff",
            "_model_module": "@jupyter-widgets/controls",
            "children": [
              "IPY_MODEL_0574b7fe14f74a0e91f37e9646010897",
              "IPY_MODEL_f403a35ccdaf465eb42f4424f497e2f2"
            ]
          }
        },
        "18eff29c692a4fafaea1c4742c2804ff": {
          "model_module": "@jupyter-widgets/base",
          "model_name": "LayoutModel",
          "state": {
            "_view_name": "LayoutView",
            "grid_template_rows": null,
            "right": null,
            "justify_content": null,
            "_view_module": "@jupyter-widgets/base",
            "overflow": null,
            "_model_module_version": "1.2.0",
            "_view_count": null,
            "flex_flow": null,
            "width": null,
            "min_width": null,
            "border": null,
            "align_items": null,
            "bottom": null,
            "_model_module": "@jupyter-widgets/base",
            "top": null,
            "grid_column": null,
            "overflow_y": null,
            "overflow_x": null,
            "grid_auto_flow": null,
            "grid_area": null,
            "grid_template_columns": null,
            "flex": null,
            "_model_name": "LayoutModel",
            "justify_items": null,
            "grid_row": null,
            "max_height": null,
            "align_content": null,
            "visibility": null,
            "align_self": null,
            "height": null,
            "min_height": null,
            "padding": null,
            "grid_auto_rows": null,
            "grid_gap": null,
            "max_width": null,
            "order": null,
            "_view_module_version": "1.2.0",
            "grid_template_areas": null,
            "object_position": null,
            "object_fit": null,
            "grid_auto_columns": null,
            "margin": null,
            "display": null,
            "left": null
          }
        },
        "0574b7fe14f74a0e91f37e9646010897": {
          "model_module": "@jupyter-widgets/controls",
          "model_name": "FloatProgressModel",
          "state": {
            "_view_name": "ProgressView",
            "style": "IPY_MODEL_d61072097735498083cc36333996066e",
            "_dom_classes": [],
            "description": "",
            "_model_name": "FloatProgressModel",
            "bar_style": "info",
            "max": 1,
            "_view_module": "@jupyter-widgets/controls",
            "_model_module_version": "1.5.0",
            "value": 1,
            "_view_count": null,
            "_view_module_version": "1.5.0",
            "orientation": "horizontal",
            "min": 0,
            "description_tooltip": null,
            "_model_module": "@jupyter-widgets/controls",
            "layout": "IPY_MODEL_429753e636ad4ae4a09b0ec7cd40ae88"
          }
        },
        "f403a35ccdaf465eb42f4424f497e2f2": {
          "model_module": "@jupyter-widgets/controls",
          "model_name": "HTMLModel",
          "state": {
            "_view_name": "HTMLView",
            "style": "IPY_MODEL_b696f279d101434498eb5e006517a6ac",
            "_dom_classes": [],
            "description": "",
            "_model_name": "HTMLModel",
            "placeholder": "​",
            "_view_module": "@jupyter-widgets/controls",
            "_model_module_version": "1.5.0",
            "value": " 170500096/? [01:00&lt;00:00, 3637268.48it/s]",
            "_view_count": null,
            "_view_module_version": "1.5.0",
            "description_tooltip": null,
            "_model_module": "@jupyter-widgets/controls",
            "layout": "IPY_MODEL_015ac6472a574f0189472681028cb8b4"
          }
        },
        "d61072097735498083cc36333996066e": {
          "model_module": "@jupyter-widgets/controls",
          "model_name": "ProgressStyleModel",
          "state": {
            "_view_name": "StyleView",
            "_model_name": "ProgressStyleModel",
            "description_width": "initial",
            "_view_module": "@jupyter-widgets/base",
            "_model_module_version": "1.5.0",
            "_view_count": null,
            "_view_module_version": "1.2.0",
            "bar_color": null,
            "_model_module": "@jupyter-widgets/controls"
          }
        },
        "429753e636ad4ae4a09b0ec7cd40ae88": {
          "model_module": "@jupyter-widgets/base",
          "model_name": "LayoutModel",
          "state": {
            "_view_name": "LayoutView",
            "grid_template_rows": null,
            "right": null,
            "justify_content": null,
            "_view_module": "@jupyter-widgets/base",
            "overflow": null,
            "_model_module_version": "1.2.0",
            "_view_count": null,
            "flex_flow": null,
            "width": null,
            "min_width": null,
            "border": null,
            "align_items": null,
            "bottom": null,
            "_model_module": "@jupyter-widgets/base",
            "top": null,
            "grid_column": null,
            "overflow_y": null,
            "overflow_x": null,
            "grid_auto_flow": null,
            "grid_area": null,
            "grid_template_columns": null,
            "flex": null,
            "_model_name": "LayoutModel",
            "justify_items": null,
            "grid_row": null,
            "max_height": null,
            "align_content": null,
            "visibility": null,
            "align_self": null,
            "height": null,
            "min_height": null,
            "padding": null,
            "grid_auto_rows": null,
            "grid_gap": null,
            "max_width": null,
            "order": null,
            "_view_module_version": "1.2.0",
            "grid_template_areas": null,
            "object_position": null,
            "object_fit": null,
            "grid_auto_columns": null,
            "margin": null,
            "display": null,
            "left": null
          }
        },
        "b696f279d101434498eb5e006517a6ac": {
          "model_module": "@jupyter-widgets/controls",
          "model_name": "DescriptionStyleModel",
          "state": {
            "_view_name": "StyleView",
            "_model_name": "DescriptionStyleModel",
            "description_width": "",
            "_view_module": "@jupyter-widgets/base",
            "_model_module_version": "1.5.0",
            "_view_count": null,
            "_view_module_version": "1.2.0",
            "_model_module": "@jupyter-widgets/controls"
          }
        },
        "015ac6472a574f0189472681028cb8b4": {
          "model_module": "@jupyter-widgets/base",
          "model_name": "LayoutModel",
          "state": {
            "_view_name": "LayoutView",
            "grid_template_rows": null,
            "right": null,
            "justify_content": null,
            "_view_module": "@jupyter-widgets/base",
            "overflow": null,
            "_model_module_version": "1.2.0",
            "_view_count": null,
            "flex_flow": null,
            "width": null,
            "min_width": null,
            "border": null,
            "align_items": null,
            "bottom": null,
            "_model_module": "@jupyter-widgets/base",
            "top": null,
            "grid_column": null,
            "overflow_y": null,
            "overflow_x": null,
            "grid_auto_flow": null,
            "grid_area": null,
            "grid_template_columns": null,
            "flex": null,
            "_model_name": "LayoutModel",
            "justify_items": null,
            "grid_row": null,
            "max_height": null,
            "align_content": null,
            "visibility": null,
            "align_self": null,
            "height": null,
            "min_height": null,
            "padding": null,
            "grid_auto_rows": null,
            "grid_gap": null,
            "max_width": null,
            "order": null,
            "_view_module_version": "1.2.0",
            "grid_template_areas": null,
            "object_position": null,
            "object_fit": null,
            "grid_auto_columns": null,
            "margin": null,
            "display": null,
            "left": null
          }
        }
      }
    }
  },
  "cells": [
    {
      "cell_type": "markdown",
      "metadata": {
        "id": "vQfhYcVF8KPt"
      },
      "source": [
        "# Residual Networks (ResNet)\n",
        "\n",
        "---\n",
        "\n",
        "## 目的\n",
        "ResNetの構造 (スキップ構造) の仕組みを理解する.\n",
        "\n",
        "ResNetを用いてCIFAR-10データセットに対する物体認識を行う．\n",
        "\n",
        "## Residual Networks (ResNet)\n",
        "Residual Networks (ResNet)[1]は，2015年のILSVRCの優勝モデルです．VGGNet[2]で示されたように，ネットワークを深くすることは表現能力を向上させ，認識精度を改善できます．しかし，あまりにも深いネットワークは効率的な学習が困難でした．ResNetは，通常のネットワークのように，何かしらの処理ブロックによる変換$F(x)$を単純に次の層に渡していくのではなく，スキップ構造によりその処理ブロックへの入力$x$をショートカットし， $H(x) = F(x)+x$を次の層に渡すようにしています．スキップ構造により，誤差逆伝播時に勾配が消失しても，層をまたいで値を伝播することができます．このショートカットを含めた処理単位をResidual blockと呼びます．ResNetでは，スキップ構造により非常に深いネットワークにおいても効率的に学習ができるようになりました．Residual blockは，3×3 のフィルタサイズを持つ畳み込み層とBatch Normalization，ReLUから構成されています．深いネットワークでは，ある層のパラメータの更新によって，その次の層への入力の分布がバッチ毎に大きく変化してしまう内部共変量シフト (Internal covariate shift) が発生し，学習が効率的に進まない問題がありました．Batch Normalizationは，内部共変量シフトを正規化し，なるべく各層が独立して学習を行えるようにすることで，学習を安定化・高速化する手法です．ResNetでは，このBatch Normalizationとスキップ構造をResidual blockに組み込むことで152層と非常に深いネットワークの学習を実現しています．\n",
        "\n",
        "<img src=\"https://drive.google.com/uc?export=view&id=1mAJyAY5iChAAQUtH7u7FN31iO1wXUQm0\" width = 100%>\n",
        "\n",
        "\n",
        "<img src=\"https://drive.google.com/uc?export=view&id=1ZXQ7P-MwGjhrS64yIsYQ8OnclV6nPEUq\" width = 100%>"
      ]
    },
    {
      "cell_type": "markdown",
      "metadata": {
        "id": "V8ehSX6U8KPv"
      },
      "source": [
        "## モジュールのインポート\n",
        "プログラムの実行に必要なモジュールをインポートします．\n",
        "今回は，機械学習ライブラリであるPytorchを使用します．\n",
        "PyTorchとは，Python向けのオープンソース機械学習ライブラリで，Facebookに開発されました．"
      ]
    },
    {
      "cell_type": "code",
      "metadata": {
        "id": "VaNXqInW8KPv"
      },
      "source": [
        "import torch\n",
        "import torchvision\n",
        "import torchvision.transforms as transforms\n",
        "import torch.backends.cudnn as cudnn\n",
        "import torchsummary"
      ],
      "execution_count": null,
      "outputs": []
    },
    {
      "cell_type": "markdown",
      "metadata": {
        "id": "b4gEy7cGCfz8"
      },
      "source": [
        "## GPUの確認\n",
        "GPUを使用した計算が可能かどうかを確認します．\n",
        "下記のコードを実行してGPU情報を確認します． GPUの確認を行うためには，上部のメニューバーの「ランタイム」→「ランタイムのタイプを変更」からハードウェアアクセラレータをGPUにしてください．\n",
        "\n",
        "`Use CUDA: True`と表示されれば，GPUを使用した計算をPytorchで行うことが可能です． CPUとなっている場合は，上記に記載している手順にしたがって，設定を変更してください．"
      ]
    },
    {
      "cell_type": "code",
      "metadata": {
        "id": "p9fjeG_U8KP1",
        "colab": {
          "base_uri": "https://localhost:8080/"
        },
        "outputId": "b870d133-7024-4d5d-c959-1df4d3c4c149"
      },
      "source": [
        "device = torch.device(\"cuda:0\" if torch.cuda.is_available() else \"cpu\")\n",
        "use_cuda = torch.cuda.is_available()\n",
        "cudnn.benchmark = True\n",
        "print('Use CUDA:', use_cuda)"
      ],
      "execution_count": null,
      "outputs": [
        {
          "output_type": "stream",
          "text": [
            "Use CUDA: True\n"
          ],
          "name": "stdout"
        }
      ]
    },
    {
      "cell_type": "markdown",
      "metadata": {
        "id": "Uanw74k0F9iw"
      },
      "source": [
        "下記のコードを実行してGPU情報を確認します．\n",
        "\n"
      ]
    },
    {
      "cell_type": "code",
      "metadata": {
        "id": "eeUIUazLGGPu",
        "colab": {
          "base_uri": "https://localhost:8080/"
        },
        "outputId": "dc80061b-2901-4f4f-d19c-4d7bc40dc77c"
      },
      "source": [
        "!nvidia-smi"
      ],
      "execution_count": null,
      "outputs": [
        {
          "output_type": "stream",
          "text": [
            "Fri Dec  4 13:03:09 2020       \n",
            "+-----------------------------------------------------------------------------+\n",
            "| NVIDIA-SMI 455.38       Driver Version: 418.67       CUDA Version: 10.1     |\n",
            "|-------------------------------+----------------------+----------------------+\n",
            "| GPU  Name        Persistence-M| Bus-Id        Disp.A | Volatile Uncorr. ECC |\n",
            "| Fan  Temp  Perf  Pwr:Usage/Cap|         Memory-Usage | GPU-Util  Compute M. |\n",
            "|                               |                      |               MIG M. |\n",
            "|===============================+======================+======================|\n",
            "|   0  Tesla T4            Off  | 00000000:00:04.0 Off |                    0 |\n",
            "| N/A   55C    P8    13W /  70W |     10MiB / 15079MiB |      0%      Default |\n",
            "|                               |                      |                 ERR! |\n",
            "+-------------------------------+----------------------+----------------------+\n",
            "                                                                               \n",
            "+-----------------------------------------------------------------------------+\n",
            "| Processes:                                                                  |\n",
            "|  GPU   GI   CI        PID   Type   Process name                  GPU Memory |\n",
            "|        ID   ID                                                   Usage      |\n",
            "|=============================================================================|\n",
            "|  No running processes found                                                 |\n",
            "+-----------------------------------------------------------------------------+\n"
          ],
          "name": "stdout"
        }
      ]
    },
    {
      "cell_type": "markdown",
      "metadata": {
        "id": "-XzIClJ5k6h4"
      },
      "source": [
        "## 使用するデータセット\n",
        "\n",
        "### データセット\n",
        "今回の物体認識では，CIFAR-10データセットを使用します．CIFAR-10データセットは，飛行機や犬などの10クラスの物体が表示されている画像から構成されたデータセットです．\n",
        "\n",
        "![CIFAR10_sample.png](https://qiita-image-store.s3.ap-northeast-1.amazonaws.com/0/176458/b6b43478-c85f-9211-7bc6-227d9b387af5.png)"
      ]
    },
    {
      "cell_type": "markdown",
      "metadata": {
        "id": "xNzvYQL58KP4"
      },
      "source": [
        "### データセットのダウンロードと読み込み\n",
        "実験に使用するCIFAR-10データセットを読み込みます．\n",
        "１回の誤差を算出するデータ数 (ミニバッチサイズ) は，128とします．\n",
        "まず，CIFAR-10データセットをダウンロードします．\n",
        "次に，ダウンロードしたデータセットを読み込みます．\n",
        "学習には，大量のデータを利用しますが，それでも十分ではありません． そこで，データ拡張 (data augmentation) により，データのバリエーションを増やします． 一般的な方法は，画像の左右反転，明るさ変換などです．"
      ]
    },
    {
      "cell_type": "code",
      "metadata": {
        "id": "leWJTOIL8KP4",
        "colab": {
          "base_uri": "https://localhost:8080/",
          "height": 102,
          "referenced_widgets": [
            "2bcc19d3ebe44208aefc266ecb092de7",
            "18eff29c692a4fafaea1c4742c2804ff",
            "0574b7fe14f74a0e91f37e9646010897",
            "f403a35ccdaf465eb42f4424f497e2f2",
            "d61072097735498083cc36333996066e",
            "429753e636ad4ae4a09b0ec7cd40ae88",
            "b696f279d101434498eb5e006517a6ac",
            "015ac6472a574f0189472681028cb8b4"
          ]
        },
        "outputId": "07d318b1-2fa5-4699-b13a-e4eaf3fa7ec9"
      },
      "source": [
        "batch_size = 128\n",
        "\n",
        "transform_train = transforms.Compose([\n",
        "    transforms.RandomCrop(32, padding=4),\n",
        "    transforms.RandomHorizontalFlip(),\n",
        "    transforms.ToTensor(),\n",
        "    transforms.Normalize((0.4914, 0.4822, 0.4465), (0.2023, 0.1994, 0.2010)),\n",
        "])\n",
        "\n",
        "transform_test = transforms.Compose([\n",
        "    transforms.ToTensor(),\n",
        "    transforms.Normalize((0.4914, 0.4822, 0.4465), (0.2023, 0.1994, 0.2010)),\n",
        "])\n",
        "\n",
        "trainset = torchvision.datasets.CIFAR10(root='./data', train=True,\n",
        "                                        download=True, transform=transform_train)\n",
        "trainloader = torch.utils.data.DataLoader(trainset, batch_size=batch_size,\n",
        "                                          shuffle=True, num_workers=20)\n",
        "\n",
        "testset = torchvision.datasets.CIFAR10(root='./data', train=False,\n",
        "                                       download=True, transform=transform_test)\n",
        "testloader = torch.utils.data.DataLoader(testset, batch_size=batch_size,\n",
        "                                         shuffle=False, num_workers=20)\n",
        "\n",
        "classes = ('plane', 'car', 'bird', 'cat',\n",
        "           'deer', 'dog', 'frog', 'horse', 'ship', 'truck')"
      ],
      "execution_count": null,
      "outputs": [
        {
          "output_type": "stream",
          "text": [
            "Downloading https://www.cs.toronto.edu/~kriz/cifar-10-python.tar.gz to ./data/cifar-10-python.tar.gz\n"
          ],
          "name": "stdout"
        },
        {
          "output_type": "display_data",
          "data": {
            "application/vnd.jupyter.widget-view+json": {
              "model_id": "2bcc19d3ebe44208aefc266ecb092de7",
              "version_minor": 0,
              "version_major": 2
            },
            "text/plain": [
              "HBox(children=(FloatProgress(value=1.0, bar_style='info', max=1.0), HTML(value='')))"
            ]
          },
          "metadata": {
            "tags": []
          }
        },
        {
          "output_type": "stream",
          "text": [
            "Extracting ./data/cifar-10-python.tar.gz to ./data\n",
            "Files already downloaded and verified\n"
          ],
          "name": "stdout"
        }
      ]
    },
    {
      "cell_type": "markdown",
      "metadata": {
        "id": "zHQfAwb_8KP7"
      },
      "source": [
        "### CIFAR-10データセットの表示\n",
        "CIFAR-10データセットに含まれる画像を表示してみます．\n",
        "ここでは，matplotlibを用いて複数の画像を表示させるプログラムを利用します．\n",
        "学習データは5万枚，1つのデータサイズは3x32x32の画像のような形式となっています．これは32x32ピクセルのカラー画像という意味になります．\n",
        "\n"
      ]
    },
    {
      "cell_type": "code",
      "metadata": {
        "id": "Fod_SRFR8KP8",
        "colab": {
          "base_uri": "https://localhost:8080/",
          "height": 173
        },
        "outputId": "cfb75aa9-3a9e-4aab-9df3-1ef7f54ba826"
      },
      "source": [
        "import matplotlib.pyplot as plt\n",
        "import numpy as np\n",
        "\n",
        "# functions to show an image\n",
        "def imshow(img):\n",
        "    npimg = img.numpy()\n",
        "    npimg = ((npimg.transpose((1,2,0))  * [0.2023, 0.1994, 0.2010]) + [0.4914, 0.4822, 0.4465])  # unnormalize\n",
        "    plt.imshow(npimg)\n",
        "    plt.show()\n",
        "\n",
        "# get some random training images\n",
        "dataiter = iter(testloader)\n",
        "images, labels = dataiter.next()\n",
        "\n",
        "# show images\n",
        "imshow(torchvision.utils.make_grid(images[0:4]))\n",
        "# print labels\n",
        "print(' '.join('%5s' % classes[labels[j]] for j in range(4)))"
      ],
      "execution_count": null,
      "outputs": [
        {
          "output_type": "stream",
          "text": [
            "Clipping input data to the valid range for imshow with RGB data ([0..1] for floats or [0..255] for integers).\n"
          ],
          "name": "stderr"
        },
        {
          "output_type": "display_data",
          "data": {
            "image/png": "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\n",
            "text/plain": [
              "<Figure size 432x288 with 1 Axes>"
            ]
          },
          "metadata": {
            "tags": [],
            "needs_background": "light"
          }
        },
        {
          "output_type": "stream",
          "text": [
            "  cat  ship  ship plane\n"
          ],
          "name": "stdout"
        }
      ]
    },
    {
      "cell_type": "markdown",
      "metadata": {
        "id": "DduOi-s18KP_"
      },
      "source": [
        "## ネットワークモデルの定義\n",
        "次に，ResNetを定義します．\n",
        "ResNetの層の深さ (depth) は，20層に設定します．"
      ]
    },
    {
      "cell_type": "code",
      "metadata": {
        "id": "O0cpWP_w8KP_",
        "colab": {
          "base_uri": "https://localhost:8080/"
        },
        "outputId": "61ff9f21-2fb1-472d-c4bf-36a9d0eea726"
      },
      "source": [
        "import torch.nn as nn\n",
        "import torch.nn.functional as F\n",
        "import math\n",
        "\n",
        "def conv3x3(in_planes, out_planes, stride=1):\n",
        "    \"3x3 convolution with padding\"\n",
        "    return nn.Conv2d(in_planes, out_planes, kernel_size=3, stride=stride,\n",
        "                     padding=1, bias=False)\n",
        "\n",
        "class BasicBlock(nn.Module):\n",
        "    expansion = 1\n",
        "\n",
        "    def __init__(self, inplanes, planes, stride=1, downsample=None):\n",
        "        super(BasicBlock, self).__init__()\n",
        "        self.conv1 = conv3x3(inplanes, planes, stride)\n",
        "        self.bn1 = nn.BatchNorm2d(planes)\n",
        "        self.relu = nn.ReLU(inplace=True)\n",
        "        self.conv2 = conv3x3(planes, planes)\n",
        "        self.bn2 = nn.BatchNorm2d(planes)\n",
        "        self.downsample = downsample\n",
        "        self.stride = stride\n",
        "\n",
        "    def forward(self, x):\n",
        "        residual = x\n",
        "\n",
        "        out = self.conv1(x)\n",
        "        out = self.bn1(out)\n",
        "        out = self.relu(out)\n",
        "\n",
        "        out = self.conv2(out)\n",
        "        out = self.bn2(out)\n",
        "\n",
        "        if self.downsample is not None:\n",
        "            residual = self.downsample(x)\n",
        "\n",
        "        out += residual\n",
        "        out = self.relu(out)\n",
        "\n",
        "        return out\n",
        "\n",
        "class Bottleneck(nn.Module):\n",
        "    expansion = 4\n",
        "\n",
        "    def __init__(self, inplanes, planes, stride=1, downsample=None):\n",
        "        super(Bottleneck, self).__init__()\n",
        "        self.conv1 = nn.Conv2d(inplanes, planes, kernel_size=1, bias=False)\n",
        "        self.bn1 = nn.BatchNorm2d(planes)\n",
        "        self.conv2 = nn.Conv2d(planes, planes, kernel_size=3, stride=stride,\n",
        "                               padding=1, bias=False)\n",
        "        self.bn2 = nn.BatchNorm2d(planes)\n",
        "        self.conv3 = nn.Conv2d(planes, planes * 4, kernel_size=1, bias=False)\n",
        "        self.bn3 = nn.BatchNorm2d(planes * 4)\n",
        "        self.relu = nn.ReLU(inplace=True)\n",
        "        self.downsample = downsample\n",
        "        self.stride = stride\n",
        "\n",
        "    def forward(self, x):\n",
        "        residual = x\n",
        "\n",
        "        out = self.conv1(x)\n",
        "        out = self.bn1(out)\n",
        "        out = self.relu(out)\n",
        "\n",
        "        out = self.conv2(out)\n",
        "        out = self.bn2(out)\n",
        "        out = self.relu(out)\n",
        "\n",
        "        out = self.conv3(out)\n",
        "        out = self.bn3(out)\n",
        "\n",
        "        if self.downsample is not None:\n",
        "            residual = self.downsample(x)\n",
        "\n",
        "        out += residual\n",
        "        out = self.relu(out)\n",
        "\n",
        "        return out\n",
        "\n",
        "class ResNet(nn.Module):\n",
        "\n",
        "    def __init__(self, depth, num_classes=10):\n",
        "        super(ResNet, self).__init__()\n",
        "        # Model type specifies number of layers for CIFAR-10 model\n",
        "        block_name = 'Bottleneck' if depth >=44 else 'BasicBlock'\n",
        "        if block_name.lower() == 'basicblock':\n",
        "            assert (depth - 2) % 6 == 0, 'When use basicblock, depth should be 6n+2, e.g. 20, 32, 44'\n",
        "            n = (depth - 2) // 6\n",
        "            block = BasicBlock\n",
        "        elif block_name.lower() == 'bottleneck':\n",
        "            assert (depth - 2) % 9 == 0, 'When use bottleneck, depth should be 9n+2, e.g. 47, 56, 110, 1199'\n",
        "            n = (depth - 2) // 9\n",
        "            block = Bottleneck\n",
        "        else:\n",
        "            raise ValueError('block_name shoule be Basicblock or Bottleneck')\n",
        "\n",
        "        self.inplanes = 16\n",
        "        self.conv1 = nn.Conv2d(3, 16, kernel_size=3, padding=1,\n",
        "                               bias=False)\n",
        "        self.bn1 = nn.BatchNorm2d(16)\n",
        "        self.relu = nn.ReLU(inplace=True)\n",
        "        self.layer1 = self._make_layer(block, 16, n)\n",
        "        self.layer2 = self._make_layer(block, 32, n, stride=2)\n",
        "        self.layer3 = self._make_layer(block, 64, n, stride=2)\n",
        "        self.avgpool = nn.AvgPool2d(8)\n",
        "        self.fc = nn.Linear(64 * block.expansion, num_classes)\n",
        "\n",
        "        for m in self.modules():\n",
        "            if isinstance(m, nn.Conv2d):\n",
        "                n = m.kernel_size[0] * m.kernel_size[1] * m.out_channels\n",
        "                m.weight.data.normal_(0, math.sqrt(2. / n))\n",
        "            elif isinstance(m, nn.BatchNorm2d):\n",
        "                m.weight.data.fill_(1)\n",
        "                m.bias.data.zero_()\n",
        "\n",
        "    def _make_layer(self, block, planes, blocks, stride=1):\n",
        "        downsample = None\n",
        "        if stride != 1 or self.inplanes != planes * block.expansion:\n",
        "            downsample = nn.Sequential(\n",
        "                nn.Conv2d(self.inplanes, planes * block.expansion,\n",
        "                          kernel_size=1, stride=stride, bias=False),\n",
        "                nn.BatchNorm2d(planes * block.expansion),\n",
        "            )\n",
        "\n",
        "        layers = []\n",
        "        layers.append(block(self.inplanes, planes, stride, downsample))\n",
        "        self.inplanes = planes * block.expansion\n",
        "        for i in range(1, blocks):\n",
        "            layers.append(block(self.inplanes, planes))\n",
        "\n",
        "        return nn.Sequential(*layers)\n",
        "\n",
        "    def forward(self, x):\n",
        "        x = self.conv1(x)\n",
        "        x = self.bn1(x)\n",
        "        x = self.relu(x)    # 32x32\n",
        "\n",
        "        x = self.layer1(x)  # 32x32\n",
        "        x = self.layer2(x)  # 16x16\n",
        "        x = self.layer3(x)  # 8x8\n",
        "\n",
        "        x = self.avgpool(x)\n",
        "        x = x.view(x.size(0), -1)\n",
        "        x = self.fc(x)\n",
        "\n",
        "        return x\n",
        "\n",
        "depth = 20 #e.g. 20, 32, 44, 47, 56, 110, 1199\n",
        "model = ResNet(depth)\n",
        "model.to(device)"
      ],
      "execution_count": null,
      "outputs": [
        {
          "output_type": "execute_result",
          "data": {
            "text/plain": [
              "ResNet(\n",
              "  (conv1): Conv2d(3, 16, kernel_size=(3, 3), stride=(1, 1), padding=(1, 1), bias=False)\n",
              "  (bn1): BatchNorm2d(16, eps=1e-05, momentum=0.1, affine=True, track_running_stats=True)\n",
              "  (relu): ReLU(inplace=True)\n",
              "  (layer1): Sequential(\n",
              "    (0): BasicBlock(\n",
              "      (conv1): Conv2d(16, 16, kernel_size=(3, 3), stride=(1, 1), padding=(1, 1), bias=False)\n",
              "      (bn1): BatchNorm2d(16, eps=1e-05, momentum=0.1, affine=True, track_running_stats=True)\n",
              "      (relu): ReLU(inplace=True)\n",
              "      (conv2): Conv2d(16, 16, kernel_size=(3, 3), stride=(1, 1), padding=(1, 1), bias=False)\n",
              "      (bn2): BatchNorm2d(16, eps=1e-05, momentum=0.1, affine=True, track_running_stats=True)\n",
              "    )\n",
              "    (1): BasicBlock(\n",
              "      (conv1): Conv2d(16, 16, kernel_size=(3, 3), stride=(1, 1), padding=(1, 1), bias=False)\n",
              "      (bn1): BatchNorm2d(16, eps=1e-05, momentum=0.1, affine=True, track_running_stats=True)\n",
              "      (relu): ReLU(inplace=True)\n",
              "      (conv2): Conv2d(16, 16, kernel_size=(3, 3), stride=(1, 1), padding=(1, 1), bias=False)\n",
              "      (bn2): BatchNorm2d(16, eps=1e-05, momentum=0.1, affine=True, track_running_stats=True)\n",
              "    )\n",
              "    (2): BasicBlock(\n",
              "      (conv1): Conv2d(16, 16, kernel_size=(3, 3), stride=(1, 1), padding=(1, 1), bias=False)\n",
              "      (bn1): BatchNorm2d(16, eps=1e-05, momentum=0.1, affine=True, track_running_stats=True)\n",
              "      (relu): ReLU(inplace=True)\n",
              "      (conv2): Conv2d(16, 16, kernel_size=(3, 3), stride=(1, 1), padding=(1, 1), bias=False)\n",
              "      (bn2): BatchNorm2d(16, eps=1e-05, momentum=0.1, affine=True, track_running_stats=True)\n",
              "    )\n",
              "  )\n",
              "  (layer2): Sequential(\n",
              "    (0): BasicBlock(\n",
              "      (conv1): Conv2d(16, 32, kernel_size=(3, 3), stride=(2, 2), padding=(1, 1), bias=False)\n",
              "      (bn1): BatchNorm2d(32, eps=1e-05, momentum=0.1, affine=True, track_running_stats=True)\n",
              "      (relu): ReLU(inplace=True)\n",
              "      (conv2): Conv2d(32, 32, kernel_size=(3, 3), stride=(1, 1), padding=(1, 1), bias=False)\n",
              "      (bn2): BatchNorm2d(32, eps=1e-05, momentum=0.1, affine=True, track_running_stats=True)\n",
              "      (downsample): Sequential(\n",
              "        (0): Conv2d(16, 32, kernel_size=(1, 1), stride=(2, 2), bias=False)\n",
              "        (1): BatchNorm2d(32, eps=1e-05, momentum=0.1, affine=True, track_running_stats=True)\n",
              "      )\n",
              "    )\n",
              "    (1): BasicBlock(\n",
              "      (conv1): Conv2d(32, 32, kernel_size=(3, 3), stride=(1, 1), padding=(1, 1), bias=False)\n",
              "      (bn1): BatchNorm2d(32, eps=1e-05, momentum=0.1, affine=True, track_running_stats=True)\n",
              "      (relu): ReLU(inplace=True)\n",
              "      (conv2): Conv2d(32, 32, kernel_size=(3, 3), stride=(1, 1), padding=(1, 1), bias=False)\n",
              "      (bn2): BatchNorm2d(32, eps=1e-05, momentum=0.1, affine=True, track_running_stats=True)\n",
              "    )\n",
              "    (2): BasicBlock(\n",
              "      (conv1): Conv2d(32, 32, kernel_size=(3, 3), stride=(1, 1), padding=(1, 1), bias=False)\n",
              "      (bn1): BatchNorm2d(32, eps=1e-05, momentum=0.1, affine=True, track_running_stats=True)\n",
              "      (relu): ReLU(inplace=True)\n",
              "      (conv2): Conv2d(32, 32, kernel_size=(3, 3), stride=(1, 1), padding=(1, 1), bias=False)\n",
              "      (bn2): BatchNorm2d(32, eps=1e-05, momentum=0.1, affine=True, track_running_stats=True)\n",
              "    )\n",
              "  )\n",
              "  (layer3): Sequential(\n",
              "    (0): BasicBlock(\n",
              "      (conv1): Conv2d(32, 64, kernel_size=(3, 3), stride=(2, 2), padding=(1, 1), bias=False)\n",
              "      (bn1): BatchNorm2d(64, eps=1e-05, momentum=0.1, affine=True, track_running_stats=True)\n",
              "      (relu): ReLU(inplace=True)\n",
              "      (conv2): Conv2d(64, 64, kernel_size=(3, 3), stride=(1, 1), padding=(1, 1), bias=False)\n",
              "      (bn2): BatchNorm2d(64, eps=1e-05, momentum=0.1, affine=True, track_running_stats=True)\n",
              "      (downsample): Sequential(\n",
              "        (0): Conv2d(32, 64, kernel_size=(1, 1), stride=(2, 2), bias=False)\n",
              "        (1): BatchNorm2d(64, eps=1e-05, momentum=0.1, affine=True, track_running_stats=True)\n",
              "      )\n",
              "    )\n",
              "    (1): BasicBlock(\n",
              "      (conv1): Conv2d(64, 64, kernel_size=(3, 3), stride=(1, 1), padding=(1, 1), bias=False)\n",
              "      (bn1): BatchNorm2d(64, eps=1e-05, momentum=0.1, affine=True, track_running_stats=True)\n",
              "      (relu): ReLU(inplace=True)\n",
              "      (conv2): Conv2d(64, 64, kernel_size=(3, 3), stride=(1, 1), padding=(1, 1), bias=False)\n",
              "      (bn2): BatchNorm2d(64, eps=1e-05, momentum=0.1, affine=True, track_running_stats=True)\n",
              "    )\n",
              "    (2): BasicBlock(\n",
              "      (conv1): Conv2d(64, 64, kernel_size=(3, 3), stride=(1, 1), padding=(1, 1), bias=False)\n",
              "      (bn1): BatchNorm2d(64, eps=1e-05, momentum=0.1, affine=True, track_running_stats=True)\n",
              "      (relu): ReLU(inplace=True)\n",
              "      (conv2): Conv2d(64, 64, kernel_size=(3, 3), stride=(1, 1), padding=(1, 1), bias=False)\n",
              "      (bn2): BatchNorm2d(64, eps=1e-05, momentum=0.1, affine=True, track_running_stats=True)\n",
              "    )\n",
              "  )\n",
              "  (avgpool): AvgPool2d(kernel_size=8, stride=8, padding=0)\n",
              "  (fc): Linear(in_features=64, out_features=10, bias=True)\n",
              ")"
            ]
          },
          "metadata": {
            "tags": []
          },
          "execution_count": 6
        }
      ]
    },
    {
      "cell_type": "markdown",
      "metadata": {
        "id": "uFCekfs78KQC"
      },
      "source": [
        "## 損失関数と最適化手法の定義\n",
        "学習に使用する損失関数と最適化手法を定義します．\n",
        "今回は，分類問題を扱うため，クロスエントロピー誤差を計算するための`CrossEntropyLoss`を`criterion`として定義します．\n",
        "また，`scheduler`で学習率のスケジューリングを行います．\n",
        "`scheduler`では，初期の学習率を0.1に設定し，全体のエポック数の1/2と3/4で学習率を0.1倍します．\n",
        "最適化手法には，確率的勾配降下法 (stochastic gradient descent: SGD) を用いて学習します．\n",
        "最後に，定義したネットワークの詳細情報を`torchsummary.summary()`関数を用いて表示します．\n"
      ]
    },
    {
      "cell_type": "code",
      "metadata": {
        "id": "rntVJhx98KQC",
        "colab": {
          "base_uri": "https://localhost:8080/"
        },
        "outputId": "86dc64fa-daf5-4338-fa70-39a55d81f29d"
      },
      "source": [
        "import torch.optim as optim\n",
        "from torch.optim import SGD, lr_scheduler\n",
        "\n",
        "criterion = nn.CrossEntropyLoss()\n",
        "optimizer = optim.SGD(model.parameters(), lr=0.1, momentum=0.9, weight_decay=5e-4)\n",
        "scheduler = lr_scheduler.MultiStepLR(optimizer, milestones=[50, 75], gamma=0.1) # 50 < 75\n",
        "\n",
        "# モデルの情報を表示\n",
        "torchsummary.summary(model, (3, 32, 32))"
      ],
      "execution_count": null,
      "outputs": [
        {
          "output_type": "stream",
          "text": [
            "----------------------------------------------------------------\n",
            "        Layer (type)               Output Shape         Param #\n",
            "================================================================\n",
            "            Conv2d-1           [-1, 16, 32, 32]             432\n",
            "       BatchNorm2d-2           [-1, 16, 32, 32]              32\n",
            "              ReLU-3           [-1, 16, 32, 32]               0\n",
            "            Conv2d-4           [-1, 16, 32, 32]           2,304\n",
            "       BatchNorm2d-5           [-1, 16, 32, 32]              32\n",
            "              ReLU-6           [-1, 16, 32, 32]               0\n",
            "            Conv2d-7           [-1, 16, 32, 32]           2,304\n",
            "       BatchNorm2d-8           [-1, 16, 32, 32]              32\n",
            "              ReLU-9           [-1, 16, 32, 32]               0\n",
            "       BasicBlock-10           [-1, 16, 32, 32]               0\n",
            "           Conv2d-11           [-1, 16, 32, 32]           2,304\n",
            "      BatchNorm2d-12           [-1, 16, 32, 32]              32\n",
            "             ReLU-13           [-1, 16, 32, 32]               0\n",
            "           Conv2d-14           [-1, 16, 32, 32]           2,304\n",
            "      BatchNorm2d-15           [-1, 16, 32, 32]              32\n",
            "             ReLU-16           [-1, 16, 32, 32]               0\n",
            "       BasicBlock-17           [-1, 16, 32, 32]               0\n",
            "           Conv2d-18           [-1, 16, 32, 32]           2,304\n",
            "      BatchNorm2d-19           [-1, 16, 32, 32]              32\n",
            "             ReLU-20           [-1, 16, 32, 32]               0\n",
            "           Conv2d-21           [-1, 16, 32, 32]           2,304\n",
            "      BatchNorm2d-22           [-1, 16, 32, 32]              32\n",
            "             ReLU-23           [-1, 16, 32, 32]               0\n",
            "       BasicBlock-24           [-1, 16, 32, 32]               0\n",
            "           Conv2d-25           [-1, 32, 16, 16]           4,608\n",
            "      BatchNorm2d-26           [-1, 32, 16, 16]              64\n",
            "             ReLU-27           [-1, 32, 16, 16]               0\n",
            "           Conv2d-28           [-1, 32, 16, 16]           9,216\n",
            "      BatchNorm2d-29           [-1, 32, 16, 16]              64\n",
            "           Conv2d-30           [-1, 32, 16, 16]             512\n",
            "      BatchNorm2d-31           [-1, 32, 16, 16]              64\n",
            "             ReLU-32           [-1, 32, 16, 16]               0\n",
            "       BasicBlock-33           [-1, 32, 16, 16]               0\n",
            "           Conv2d-34           [-1, 32, 16, 16]           9,216\n",
            "      BatchNorm2d-35           [-1, 32, 16, 16]              64\n",
            "             ReLU-36           [-1, 32, 16, 16]               0\n",
            "           Conv2d-37           [-1, 32, 16, 16]           9,216\n",
            "      BatchNorm2d-38           [-1, 32, 16, 16]              64\n",
            "             ReLU-39           [-1, 32, 16, 16]               0\n",
            "       BasicBlock-40           [-1, 32, 16, 16]               0\n",
            "           Conv2d-41           [-1, 32, 16, 16]           9,216\n",
            "      BatchNorm2d-42           [-1, 32, 16, 16]              64\n",
            "             ReLU-43           [-1, 32, 16, 16]               0\n",
            "           Conv2d-44           [-1, 32, 16, 16]           9,216\n",
            "      BatchNorm2d-45           [-1, 32, 16, 16]              64\n",
            "             ReLU-46           [-1, 32, 16, 16]               0\n",
            "       BasicBlock-47           [-1, 32, 16, 16]               0\n",
            "           Conv2d-48             [-1, 64, 8, 8]          18,432\n",
            "      BatchNorm2d-49             [-1, 64, 8, 8]             128\n",
            "             ReLU-50             [-1, 64, 8, 8]               0\n",
            "           Conv2d-51             [-1, 64, 8, 8]          36,864\n",
            "      BatchNorm2d-52             [-1, 64, 8, 8]             128\n",
            "           Conv2d-53             [-1, 64, 8, 8]           2,048\n",
            "      BatchNorm2d-54             [-1, 64, 8, 8]             128\n",
            "             ReLU-55             [-1, 64, 8, 8]               0\n",
            "       BasicBlock-56             [-1, 64, 8, 8]               0\n",
            "           Conv2d-57             [-1, 64, 8, 8]          36,864\n",
            "      BatchNorm2d-58             [-1, 64, 8, 8]             128\n",
            "             ReLU-59             [-1, 64, 8, 8]               0\n",
            "           Conv2d-60             [-1, 64, 8, 8]          36,864\n",
            "      BatchNorm2d-61             [-1, 64, 8, 8]             128\n",
            "             ReLU-62             [-1, 64, 8, 8]               0\n",
            "       BasicBlock-63             [-1, 64, 8, 8]               0\n",
            "           Conv2d-64             [-1, 64, 8, 8]          36,864\n",
            "      BatchNorm2d-65             [-1, 64, 8, 8]             128\n",
            "             ReLU-66             [-1, 64, 8, 8]               0\n",
            "           Conv2d-67             [-1, 64, 8, 8]          36,864\n",
            "      BatchNorm2d-68             [-1, 64, 8, 8]             128\n",
            "             ReLU-69             [-1, 64, 8, 8]               0\n",
            "       BasicBlock-70             [-1, 64, 8, 8]               0\n",
            "        AvgPool2d-71             [-1, 64, 1, 1]               0\n",
            "           Linear-72                   [-1, 10]             650\n",
            "================================================================\n",
            "Total params: 272,474\n",
            "Trainable params: 272,474\n",
            "Non-trainable params: 0\n",
            "----------------------------------------------------------------\n",
            "Input size (MB): 0.01\n",
            "Forward/backward pass size (MB): 5.16\n",
            "Params size (MB): 1.04\n",
            "Estimated Total Size (MB): 6.21\n",
            "----------------------------------------------------------------\n"
          ],
          "name": "stdout"
        }
      ]
    },
    {
      "cell_type": "markdown",
      "metadata": {
        "id": "Z4NRFd6i8KQF"
      },
      "source": [
        "## 学習\n",
        "読み込んだCIFAR-10データセットと作成したネットワークを用いて，学習を行います．\n",
        "今回は，学習エポック数を100とします．\n",
        "1エポック学習するごとに学習したモデルを評価し，最も認識精度の高いモデルが保存されます．\n",
        "各更新において，学習用データと教師データをそれぞれ`inputs`と`targets`とします．\n",
        "学習モデルに`inputs`を与えて，ResNetの出力を取得します．\n",
        "ResNetの出力と教師ラベル`targets`との誤差を`criterion`で算出します．\n",
        "また，認識精度も算出します．\n",
        "そして，誤差をbackward関数で逆伝播し，ネットワークの更新を行います．\n",
        "認識精度も同時に計算して，`print`関数で学習経過における誤差や認識精度を表示します．"
      ]
    },
    {
      "cell_type": "code",
      "metadata": {
        "id": "nnMVTad98KQG",
        "colab": {
          "base_uri": "https://localhost:8080/"
        },
        "outputId": "81701db8-d41a-4426-dbda-b384069a93b2"
      },
      "source": [
        "epochs = 100\n",
        "best_acc = 0  # best test accuracy\n",
        "\n",
        "# Training\n",
        "for epoch in range(epochs):\n",
        "    scheduler.step()\n",
        "    train_running_loss = 0.0\n",
        "    train_running_acc = 0.0\n",
        "\n",
        "    # training\n",
        "    model.train()\n",
        "    train_loss = 0\n",
        "    correct = 0\n",
        "    total = 0\n",
        "    count = 0\n",
        "    for batch_idx, (inputs, targets) in enumerate(trainloader):\n",
        "        inputs, targets = inputs.to(device), targets.to(device)\n",
        "        optimizer.zero_grad()\n",
        "        outputs = model(inputs)\n",
        "        loss = criterion(outputs, targets)\n",
        "        loss.backward()\n",
        "        optimizer.step()\n",
        "\n",
        "\n",
        "        train_loss += loss.item()\n",
        "        _, predicted = outputs.max(1)\n",
        "        total += targets.size(0)\n",
        "        correct += predicted.eq(targets).sum().item()\n",
        "\n",
        "        # print statistics\n",
        "        train_running_loss += loss\n",
        "        train_running_acc += 100.*correct/total\n",
        "        count += 1\n",
        "\n",
        "    print('[Epoch %d] Train Loss: %.5f | Train Acc: %.3f%%'\n",
        "                  % (epoch + 1, train_loss/count, train_running_acc/count))\n",
        "    \n",
        "    # testing\n",
        "    model.eval() \n",
        "    with torch.no_grad():\n",
        "        test_running_loss = 0.0\n",
        "        test_running_acc = 0.0\n",
        "        test_loss = 0\n",
        "        correct = 0\n",
        "        total = 0\n",
        "        count = 0\n",
        "        for batch_idx, (inputs, targets) in enumerate(testloader):\n",
        "            inputs, targets = inputs.to(device), targets.to(device)\n",
        "            outputs = model(inputs)\n",
        "            loss = criterion(outputs, targets)\n",
        "\n",
        "            test_loss += loss.item()\n",
        "            _, predicted = outputs.max(1)\n",
        "            total += targets.size(0)\n",
        "            correct += predicted.eq(targets).sum().item()\n",
        "\n",
        "            # print statistics\n",
        "            test_running_loss += loss\n",
        "            test_running_acc += 100.*correct/total\n",
        "            count += 1\n",
        "\n",
        "        print('Test Loss: %.5f | Test Acc: %.3f%%'\n",
        "                      % (test_loss/count, test_running_acc/count))\n",
        "        \n",
        "    # save model\n",
        "    if test_running_acc/count > best_acc:\n",
        "        best_acc = max(test_running_acc/count, best_acc)\n",
        "        PATH = './cifar_net.pth'\n",
        "        torch.save(model.state_dict(), PATH)\n",
        "    \n",
        "print('Finished Training')"
      ],
      "execution_count": null,
      "outputs": [
        {
          "output_type": "stream",
          "text": [
            "/usr/local/lib/python3.6/dist-packages/torch/optim/lr_scheduler.py:136: UserWarning: Detected call of `lr_scheduler.step()` before `optimizer.step()`. In PyTorch 1.1.0 and later, you should call them in the opposite order: `optimizer.step()` before `lr_scheduler.step()`.  Failure to do this will result in PyTorch skipping the first value of the learning rate schedule. See more details at https://pytorch.org/docs/stable/optim.html#how-to-adjust-learning-rate\n",
            "  \"https://pytorch.org/docs/stable/optim.html#how-to-adjust-learning-rate\", UserWarning)\n"
          ],
          "name": "stderr"
        },
        {
          "output_type": "stream",
          "text": [
            "[Epoch 1] Train Loss: 1.57913 | Train Acc: 31.481%\n",
            "Test Loss: 1.38078 | Test Acc: 51.562%\n",
            "[Epoch 2] Train Loss: 1.09267 | Train Acc: 57.809%\n",
            "Test Loss: 1.08952 | Test Acc: 61.671%\n",
            "[Epoch 3] Train Loss: 0.88779 | Train Acc: 66.610%\n",
            "Test Loss: 1.04624 | Test Acc: 64.969%\n",
            "[Epoch 4] Train Loss: 0.76325 | Train Acc: 72.861%\n",
            "Test Loss: 0.85856 | Test Acc: 70.924%\n",
            "[Epoch 5] Train Loss: 0.69444 | Train Acc: 75.749%\n",
            "Test Loss: 1.08965 | Test Acc: 66.641%\n",
            "[Epoch 6] Train Loss: 0.64403 | Train Acc: 77.360%\n",
            "Test Loss: 0.81364 | Test Acc: 73.490%\n",
            "[Epoch 7] Train Loss: 0.62204 | Train Acc: 78.025%\n",
            "Test Loss: 0.79868 | Test Acc: 74.112%\n",
            "[Epoch 8] Train Loss: 0.60404 | Train Acc: 78.724%\n",
            "Test Loss: 0.75683 | Test Acc: 74.565%\n",
            "[Epoch 9] Train Loss: 0.57879 | Train Acc: 80.535%\n",
            "Test Loss: 0.76753 | Test Acc: 74.231%\n",
            "[Epoch 10] Train Loss: 0.56652 | Train Acc: 80.361%\n",
            "Test Loss: 0.85306 | Test Acc: 71.644%\n",
            "[Epoch 11] Train Loss: 0.54860 | Train Acc: 81.000%\n",
            "Test Loss: 1.08418 | Test Acc: 67.178%\n",
            "[Epoch 12] Train Loss: 0.54457 | Train Acc: 81.116%\n",
            "Test Loss: 0.77448 | Test Acc: 75.211%\n",
            "[Epoch 13] Train Loss: 0.53557 | Train Acc: 81.603%\n",
            "Test Loss: 0.62359 | Test Acc: 79.400%\n",
            "[Epoch 14] Train Loss: 0.52745 | Train Acc: 82.221%\n",
            "Test Loss: 0.71690 | Test Acc: 76.233%\n",
            "[Epoch 15] Train Loss: 0.52112 | Train Acc: 82.178%\n",
            "Test Loss: 0.60757 | Test Acc: 79.538%\n",
            "[Epoch 16] Train Loss: 0.51244 | Train Acc: 82.522%\n",
            "Test Loss: 0.64580 | Test Acc: 78.832%\n",
            "[Epoch 17] Train Loss: 0.49987 | Train Acc: 82.748%\n",
            "Test Loss: 0.61498 | Test Acc: 79.846%\n",
            "[Epoch 18] Train Loss: 0.50601 | Train Acc: 82.898%\n",
            "Test Loss: 0.85058 | Test Acc: 72.969%\n",
            "[Epoch 19] Train Loss: 0.50035 | Train Acc: 83.224%\n",
            "Test Loss: 0.78697 | Test Acc: 74.656%\n",
            "[Epoch 20] Train Loss: 0.49441 | Train Acc: 83.004%\n",
            "Test Loss: 0.67162 | Test Acc: 78.617%\n",
            "[Epoch 21] Train Loss: 0.48602 | Train Acc: 83.381%\n",
            "Test Loss: 0.78733 | Test Acc: 75.441%\n",
            "[Epoch 22] Train Loss: 0.47953 | Train Acc: 83.867%\n",
            "Test Loss: 0.56854 | Test Acc: 80.923%\n",
            "[Epoch 23] Train Loss: 0.48522 | Train Acc: 83.512%\n",
            "Test Loss: 0.88325 | Test Acc: 72.988%\n",
            "[Epoch 24] Train Loss: 0.47470 | Train Acc: 84.023%\n",
            "Test Loss: 0.58439 | Test Acc: 79.750%\n",
            "[Epoch 25] Train Loss: 0.47480 | Train Acc: 83.781%\n",
            "Test Loss: 0.66653 | Test Acc: 77.175%\n",
            "[Epoch 26] Train Loss: 0.46765 | Train Acc: 84.200%\n",
            "Test Loss: 0.66494 | Test Acc: 77.953%\n",
            "[Epoch 27] Train Loss: 0.46899 | Train Acc: 84.162%\n",
            "Test Loss: 0.65058 | Test Acc: 77.636%\n",
            "[Epoch 28] Train Loss: 0.47103 | Train Acc: 84.010%\n",
            "Test Loss: 0.66015 | Test Acc: 78.026%\n",
            "[Epoch 29] Train Loss: 0.46262 | Train Acc: 84.559%\n",
            "Test Loss: 0.75337 | Test Acc: 76.644%\n",
            "[Epoch 30] Train Loss: 0.46481 | Train Acc: 84.346%\n",
            "Test Loss: 0.56156 | Test Acc: 80.735%\n",
            "[Epoch 31] Train Loss: 0.46172 | Train Acc: 84.513%\n",
            "Test Loss: 0.62052 | Test Acc: 78.249%\n",
            "[Epoch 32] Train Loss: 0.45226 | Train Acc: 85.018%\n",
            "Test Loss: 0.60873 | Test Acc: 80.545%\n",
            "[Epoch 33] Train Loss: 0.45525 | Train Acc: 84.720%\n",
            "Test Loss: 0.65491 | Test Acc: 78.577%\n",
            "[Epoch 34] Train Loss: 0.45404 | Train Acc: 84.466%\n",
            "Test Loss: 0.75657 | Test Acc: 74.966%\n",
            "[Epoch 35] Train Loss: 0.45455 | Train Acc: 84.350%\n",
            "Test Loss: 0.63988 | Test Acc: 79.294%\n",
            "[Epoch 36] Train Loss: 0.45181 | Train Acc: 84.606%\n",
            "Test Loss: 0.70071 | Test Acc: 78.690%\n",
            "[Epoch 37] Train Loss: 0.45089 | Train Acc: 84.702%\n",
            "Test Loss: 0.62422 | Test Acc: 79.505%\n",
            "[Epoch 38] Train Loss: 0.45509 | Train Acc: 84.523%\n",
            "Test Loss: 0.59657 | Test Acc: 79.904%\n",
            "[Epoch 39] Train Loss: 0.44606 | Train Acc: 85.022%\n",
            "Test Loss: 0.68194 | Test Acc: 76.904%\n",
            "[Epoch 40] Train Loss: 0.45120 | Train Acc: 84.677%\n",
            "Test Loss: 0.62853 | Test Acc: 79.166%\n",
            "[Epoch 41] Train Loss: 0.44888 | Train Acc: 84.748%\n",
            "Test Loss: 0.57961 | Test Acc: 80.371%\n",
            "[Epoch 42] Train Loss: 0.44539 | Train Acc: 85.153%\n",
            "Test Loss: 0.54788 | Test Acc: 81.614%\n",
            "[Epoch 43] Train Loss: 0.44625 | Train Acc: 84.908%\n",
            "Test Loss: 0.66763 | Test Acc: 78.044%\n",
            "[Epoch 44] Train Loss: 0.44125 | Train Acc: 85.259%\n",
            "Test Loss: 0.67591 | Test Acc: 79.290%\n",
            "[Epoch 45] Train Loss: 0.44415 | Train Acc: 84.874%\n",
            "Test Loss: 0.67435 | Test Acc: 78.019%\n",
            "[Epoch 46] Train Loss: 0.44133 | Train Acc: 85.454%\n",
            "Test Loss: 0.53630 | Test Acc: 82.053%\n",
            "[Epoch 47] Train Loss: 0.44462 | Train Acc: 84.850%\n",
            "Test Loss: 0.66207 | Test Acc: 79.239%\n",
            "[Epoch 48] Train Loss: 0.44381 | Train Acc: 85.323%\n",
            "Test Loss: 0.69415 | Test Acc: 78.248%\n",
            "[Epoch 49] Train Loss: 0.43960 | Train Acc: 84.888%\n",
            "Test Loss: 1.00987 | Test Acc: 71.635%\n",
            "[Epoch 50] Train Loss: 0.28816 | Train Acc: 88.982%\n",
            "Test Loss: 0.30758 | Test Acc: 89.443%\n",
            "[Epoch 51] Train Loss: 0.24284 | Train Acc: 91.701%\n",
            "Test Loss: 0.29761 | Test Acc: 89.810%\n",
            "[Epoch 52] Train Loss: 0.22494 | Train Acc: 92.311%\n",
            "Test Loss: 0.29095 | Test Acc: 90.076%\n",
            "[Epoch 53] Train Loss: 0.21739 | Train Acc: 92.402%\n",
            "Test Loss: 0.28316 | Test Acc: 90.198%\n",
            "[Epoch 54] Train Loss: 0.20259 | Train Acc: 93.165%\n",
            "Test Loss: 0.28132 | Test Acc: 90.291%\n",
            "[Epoch 55] Train Loss: 0.19269 | Train Acc: 93.576%\n",
            "Test Loss: 0.27961 | Test Acc: 90.482%\n",
            "[Epoch 56] Train Loss: 0.18659 | Train Acc: 93.540%\n",
            "Test Loss: 0.28331 | Test Acc: 90.632%\n",
            "[Epoch 57] Train Loss: 0.18143 | Train Acc: 93.828%\n",
            "Test Loss: 0.28102 | Test Acc: 90.424%\n",
            "[Epoch 58] Train Loss: 0.17733 | Train Acc: 94.004%\n",
            "Test Loss: 0.28015 | Test Acc: 91.063%\n",
            "[Epoch 59] Train Loss: 0.16971 | Train Acc: 94.368%\n",
            "Test Loss: 0.28265 | Test Acc: 90.497%\n",
            "[Epoch 60] Train Loss: 0.16698 | Train Acc: 94.583%\n",
            "Test Loss: 0.27899 | Test Acc: 90.763%\n",
            "[Epoch 61] Train Loss: 0.16722 | Train Acc: 94.244%\n",
            "Test Loss: 0.27465 | Test Acc: 91.232%\n",
            "[Epoch 62] Train Loss: 0.16215 | Train Acc: 94.561%\n",
            "Test Loss: 0.29168 | Test Acc: 90.243%\n",
            "[Epoch 63] Train Loss: 0.16049 | Train Acc: 94.726%\n",
            "Test Loss: 0.29149 | Test Acc: 90.577%\n",
            "[Epoch 64] Train Loss: 0.15654 | Train Acc: 94.983%\n",
            "Test Loss: 0.29176 | Test Acc: 90.474%\n",
            "[Epoch 65] Train Loss: 0.15521 | Train Acc: 94.935%\n",
            "Test Loss: 0.31205 | Test Acc: 89.912%\n",
            "[Epoch 66] Train Loss: 0.15335 | Train Acc: 94.983%\n",
            "Test Loss: 0.30306 | Test Acc: 90.085%\n",
            "[Epoch 67] Train Loss: 0.15108 | Train Acc: 94.870%\n",
            "Test Loss: 0.29952 | Test Acc: 90.463%\n",
            "[Epoch 68] Train Loss: 0.14704 | Train Acc: 95.207%\n",
            "Test Loss: 0.31884 | Test Acc: 89.769%\n",
            "[Epoch 69] Train Loss: 0.14568 | Train Acc: 95.237%\n",
            "Test Loss: 0.30941 | Test Acc: 90.511%\n",
            "[Epoch 70] Train Loss: 0.14711 | Train Acc: 95.061%\n",
            "Test Loss: 0.30545 | Test Acc: 90.346%\n",
            "[Epoch 71] Train Loss: 0.15100 | Train Acc: 95.214%\n",
            "Test Loss: 0.33097 | Test Acc: 89.636%\n",
            "[Epoch 72] Train Loss: 0.14731 | Train Acc: 95.184%\n",
            "Test Loss: 0.34754 | Test Acc: 89.232%\n",
            "[Epoch 73] Train Loss: 0.15047 | Train Acc: 95.005%\n",
            "Test Loss: 0.31192 | Test Acc: 90.427%\n",
            "[Epoch 74] Train Loss: 0.14770 | Train Acc: 95.149%\n",
            "Test Loss: 0.30975 | Test Acc: 90.241%\n",
            "[Epoch 75] Train Loss: 0.10980 | Train Acc: 96.104%\n",
            "Test Loss: 0.27150 | Test Acc: 91.233%\n",
            "[Epoch 76] Train Loss: 0.09476 | Train Acc: 96.817%\n",
            "Test Loss: 0.26468 | Test Acc: 91.504%\n",
            "[Epoch 77] Train Loss: 0.08984 | Train Acc: 97.188%\n",
            "Test Loss: 0.26533 | Test Acc: 91.594%\n",
            "[Epoch 78] Train Loss: 0.08692 | Train Acc: 97.153%\n",
            "Test Loss: 0.26790 | Test Acc: 91.548%\n",
            "[Epoch 79] Train Loss: 0.08290 | Train Acc: 97.394%\n",
            "Test Loss: 0.26585 | Test Acc: 91.460%\n",
            "[Epoch 80] Train Loss: 0.08215 | Train Acc: 97.538%\n",
            "Test Loss: 0.26708 | Test Acc: 91.518%\n",
            "[Epoch 81] Train Loss: 0.07922 | Train Acc: 97.617%\n",
            "Test Loss: 0.26985 | Test Acc: 91.492%\n",
            "[Epoch 82] Train Loss: 0.07983 | Train Acc: 97.565%\n",
            "Test Loss: 0.26939 | Test Acc: 91.521%\n",
            "[Epoch 83] Train Loss: 0.07589 | Train Acc: 97.673%\n",
            "Test Loss: 0.27379 | Test Acc: 91.455%\n",
            "[Epoch 84] Train Loss: 0.07481 | Train Acc: 97.709%\n",
            "Test Loss: 0.27090 | Test Acc: 91.614%\n",
            "[Epoch 85] Train Loss: 0.07511 | Train Acc: 97.703%\n",
            "Test Loss: 0.26974 | Test Acc: 91.437%\n",
            "[Epoch 86] Train Loss: 0.07230 | Train Acc: 97.868%\n",
            "Test Loss: 0.27372 | Test Acc: 91.861%\n",
            "[Epoch 87] Train Loss: 0.07134 | Train Acc: 97.843%\n",
            "Test Loss: 0.27584 | Test Acc: 91.749%\n",
            "[Epoch 88] Train Loss: 0.07089 | Train Acc: 97.822%\n",
            "Test Loss: 0.27876 | Test Acc: 91.494%\n",
            "[Epoch 89] Train Loss: 0.06809 | Train Acc: 98.068%\n",
            "Test Loss: 0.27231 | Test Acc: 91.773%\n",
            "[Epoch 90] Train Loss: 0.06738 | Train Acc: 97.966%\n",
            "Test Loss: 0.27433 | Test Acc: 91.594%\n",
            "[Epoch 91] Train Loss: 0.06603 | Train Acc: 98.046%\n",
            "Test Loss: 0.27793 | Test Acc: 91.454%\n",
            "[Epoch 92] Train Loss: 0.06643 | Train Acc: 98.055%\n",
            "Test Loss: 0.27630 | Test Acc: 91.554%\n",
            "[Epoch 93] Train Loss: 0.06576 | Train Acc: 98.078%\n",
            "Test Loss: 0.27935 | Test Acc: 91.436%\n",
            "[Epoch 94] Train Loss: 0.06326 | Train Acc: 98.184%\n",
            "Test Loss: 0.28056 | Test Acc: 91.397%\n",
            "[Epoch 95] Train Loss: 0.06306 | Train Acc: 98.233%\n",
            "Test Loss: 0.27993 | Test Acc: 91.513%\n",
            "[Epoch 96] Train Loss: 0.06137 | Train Acc: 98.275%\n",
            "Test Loss: 0.28176 | Test Acc: 91.355%\n",
            "[Epoch 97] Train Loss: 0.06261 | Train Acc: 98.187%\n",
            "Test Loss: 0.28779 | Test Acc: 91.475%\n",
            "[Epoch 98] Train Loss: 0.06187 | Train Acc: 98.222%\n",
            "Test Loss: 0.28235 | Test Acc: 91.655%\n",
            "[Epoch 99] Train Loss: 0.06200 | Train Acc: 98.183%\n",
            "Test Loss: 0.28701 | Test Acc: 91.358%\n",
            "[Epoch 100] Train Loss: 0.06028 | Train Acc: 98.209%\n",
            "Test Loss: 0.28403 | Test Acc: 91.586%\n",
            "Finished Training\n"
          ],
          "name": "stdout"
        }
      ]
    },
    {
      "cell_type": "markdown",
      "metadata": {
        "id": "wlOo-rzY8KQL"
      },
      "source": [
        "##テスト\n",
        "学習したネットワークのテストデータに対する認識精度の確認を行います．まず，学習したネットワークを評価するために保存したモデルをロードします．"
      ]
    },
    {
      "cell_type": "code",
      "metadata": {
        "id": "WSa0ATFj8KQP",
        "colab": {
          "base_uri": "https://localhost:8080/"
        },
        "outputId": "09c64c4e-7690-44be-9a13-3d262591e29d"
      },
      "source": [
        "depth = 20 #e.g. 20, 32, 44, 47, 56, 110, 1199\n",
        "model = ResNet(depth)\n",
        "model.to(device)\n",
        "PATH = './cifar_net.pth'\n",
        "model.load_state_dict(torch.load(PATH))"
      ],
      "execution_count": null,
      "outputs": [
        {
          "output_type": "execute_result",
          "data": {
            "text/plain": [
              "<All keys matched successfully>"
            ]
          },
          "metadata": {
            "tags": []
          },
          "execution_count": 9
        }
      ]
    },
    {
      "cell_type": "markdown",
      "metadata": {
        "id": "VwWfJO358KQS"
      },
      "source": [
        "次に，学習したネットワークを用いて，テストデータに対する認識精度の確認を行います．\n",
        "`model.eval()`を適用することで，ネットワーク演算を評価モードへ変更します． これにより，学習時と評価時で挙動が異なる演算（dropout等）を変更することが可能です． また，`torch.no_grad()`を適用することで，学習時には必要になる勾配情報を保持することなく演算を行います．"
      ]
    },
    {
      "cell_type": "code",
      "metadata": {
        "id": "ij38kQBP8KQS",
        "colab": {
          "base_uri": "https://localhost:8080/"
        },
        "outputId": "6858bee9-595a-4e1f-834d-2cfc8b3b1f65"
      },
      "source": [
        "# testing\n",
        "model.eval() \n",
        "with torch.no_grad():\n",
        "    test_running_loss = 0.0\n",
        "    test_running_acc = 0.0\n",
        "    test_loss = 0\n",
        "    correct = 0\n",
        "    total = 0\n",
        "    count = 0\n",
        "    for batch_idx, (inputs, targets) in enumerate(testloader):\n",
        "        inputs, targets = inputs.to(device), targets.to(device)\n",
        "        outputs = model(inputs)\n",
        "        loss = criterion(outputs, targets)\n",
        "\n",
        "        test_loss += loss.item()\n",
        "        _, predicted = outputs.max(1)\n",
        "        total += targets.size(0)\n",
        "        correct += predicted.eq(targets).sum().item()\n",
        "\n",
        "        # print statistics\n",
        "        test_running_loss += loss\n",
        "        test_running_acc += 100.*correct/total\n",
        "        count += 1\n",
        "\n",
        "    print('Test Loss: %.5f | Test Acc: %.3f%%'\n",
        "                  % (test_loss/count, test_running_acc/count))"
      ],
      "execution_count": null,
      "outputs": [
        {
          "output_type": "stream",
          "text": [
            "Test Loss: 0.27372 | Test Acc: 91.861%\n"
          ],
          "name": "stdout"
        }
      ]
    },
    {
      "cell_type": "markdown",
      "metadata": {
        "id": "YjJ48SKsd3dp"
      },
      "source": [
        "## 課題\n",
        "1. エポック数やミニバッチサイズを変えて実験しましょう．\n"
      ]
    },
    {
      "cell_type": "code",
      "metadata": {
        "id": "bapCu45reINz"
      },
      "source": [
        "#ここにコードを書く"
      ],
      "execution_count": null,
      "outputs": []
    },
    {
      "cell_type": "markdown",
      "metadata": {
        "id": "P8Pw0zlCfed4"
      },
      "source": [
        "2. ResNetの層数を変えて認識精度の変化を比較しましょう．"
      ]
    },
    {
      "cell_type": "code",
      "metadata": {
        "id": "eyMnF0A7fjPQ"
      },
      "source": [
        "#ここにコードを書く"
      ],
      "execution_count": null,
      "outputs": []
    },
    {
      "cell_type": "markdown",
      "metadata": {
        "id": "Fc6zxbw2qQYp"
      },
      "source": [
        "# 参考文献\n",
        "- [1] K. He, X. Zhang, S. Ren, and J. Sun,\n",
        "\"Deep residual learning for image recognition\". In 2016 IEEE Conference on Computer Vision and Pattern Recognition,\n",
        "pp. 770–778, 2016.\n",
        "\n",
        "- [2] S. Karen and Z. Andrew, \"Very deep convolutional networks\n",
        "for large-scale image recognition\". In International Confer-\n",
        "ence on Learning Representations, 2015."
      ]
    }
  ]
}
>>>>>>> new_update_heavy
