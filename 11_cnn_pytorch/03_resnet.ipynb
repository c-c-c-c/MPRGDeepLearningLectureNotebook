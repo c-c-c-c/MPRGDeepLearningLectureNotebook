{
 "cells": [
  {
   "cell_type": "markdown",
   "metadata": {
    "id": "vQfhYcVF8KPt"
   },
   "source": [
    "# Residual Networks (ResNet)\n",
    "\n",
    "---\n",
    "\n",
    "## 目的\n",
    "ResNetの構造 (スキップ構造) の仕組みを理解する.\n",
    "\n",
    "ResNetを用いてCIFAR-10データセットに対する物体認識を行う．\n",
    "\n",
    "## Residual Networks (ResNet)\n",
    "Residual Networks (ResNet)[1]は，2015年のILSVRCの優勝モデルです．VGGNet[2]で示されたように，ネットワークを深くすることは表現能力を向上させ，認識精度を改善できます．しかし，あまりにも深いネットワークは効率的な学習が困難でした．ResNetは，通常のネットワークのように，何かしらの処理ブロックによる変換$F(x)$を単純に次の層に渡していくのではなく，スキップ構造によりその処理ブロックへの入力$x$をショートカットし， $H(x) = F(x)+x$を次の層に渡すようにしています．スキップ構造により，誤差逆伝播時に勾配が消失しても，層をまたいで値を伝播することができます．このショートカットを含めた処理単位をResidual blockと呼びます．ResNetでは，スキップ構造により非常に深いネットワークにおいても効率的に学習ができるようになりました．Residual blockは，3×3 のフィルタサイズを持つ畳み込み層とBatch Normalization，ReLUから構成されています．深いネットワークでは，ある層のパラメータの更新によって，その次の層への入力の分布がバッチ毎に大きく変化してしまう内部共変量シフト (Internal covariate shift) が発生し，学習が効率的に進まない問題がありました．Batch Normalizationは，内部共変量シフトを正規化し，なるべく各層が独立して学習を行えるようにすることで，学習を安定化・高速化する手法です．ResNetでは，このBatch Normalizationとスキップ構造をResidual blockに組み込むことで152層と非常に深いネットワークの学習を実現しています．\n",
    "\n",
    "<img src=\"https://drive.google.com/uc?export=view&id=1CeAcGquytT_LIv9_aeFzXhDJCiJjVzcj\" width = 80%>\n",
    "\n",
    "\n",
    "<img src=\"https://drive.google.com/uc?export=view&id=18hcp2W3_14NHiliRTC-zfT5p0gqDGlc4\" width = 80%>"
   ]
  },
  {
   "cell_type": "markdown",
   "metadata": {
    "id": "V8ehSX6U8KPv"
   },
   "source": [
    "## モジュールのインポート\n",
    "プログラムの実行に必要なモジュールをインポートします．\n",
    "今回は，機械学習ライブラリであるPytorchを使用します．\n",
    "PyTorchとは，Python向けのオープンソース機械学習ライブラリで，Facebookに開発されました．"
   ]
  },
  {
   "cell_type": "code",
   "execution_count": 1,
   "metadata": {
    "id": "VaNXqInW8KPv"
   },
   "outputs": [],
   "source": [
    "import torch\n",
    "import torchvision\n",
    "import torchvision.transforms as transforms\n",
    "import torch.backends.cudnn as cudnn\n",
    "import torchsummary"
   ]
  },
  {
   "cell_type": "markdown",
   "metadata": {
    "id": "b4gEy7cGCfz8"
   },
   "source": [
    "## GPUの確認\n",
    "GPUを使用した計算が可能かどうかを確認します．\n",
    "下記のコードを実行してGPU情報を確認します． GPUの確認を行うためには，上部のメニューバーの「ランタイム」→「ランタイムのタイプを変更」からハードウェアアクセラレータをGPUにしてください．\n",
    "\n",
    "`Use CUDA: True`と表示されれば，GPUを使用した計算をPytorchで行うことが可能です． CPUとなっている場合は，上記に記載している手順にしたがって，設定を変更してください．"
   ]
  },
  {
   "cell_type": "code",
   "execution_count": 2,
   "metadata": {
    "colab": {
     "base_uri": "https://localhost:8080/"
    },
    "id": "p9fjeG_U8KP1",
    "outputId": "b870d133-7024-4d5d-c959-1df4d3c4c149"
   },
   "outputs": [
    {
     "name": "stdout",
     "output_type": "stream",
     "text": [
      "Use CUDA: True\n"
     ]
    }
   ],
   "source": [
    "device = torch.device(\"cuda:0\" if torch.cuda.is_available() else \"cpu\")\n",
    "use_cuda = torch.cuda.is_available()\n",
    "cudnn.benchmark = True\n",
    "print('Use CUDA:', use_cuda)"
   ]
  },
  {
   "cell_type": "markdown",
   "metadata": {
    "id": "Uanw74k0F9iw"
   },
   "source": [
    "下記のコードを実行してGPU情報を確認します．\n",
    "\n"
   ]
  },
  {
   "cell_type": "code",
   "execution_count": 3,
   "metadata": {
    "colab": {
     "base_uri": "https://localhost:8080/"
    },
    "id": "eeUIUazLGGPu",
    "outputId": "dc80061b-2901-4f4f-d19c-4d7bc40dc77c"
   },
   "outputs": [
    {
     "name": "stdout",
     "output_type": "stream",
     "text": [
      "Wed Feb 10 11:08:48 2021       \n",
      "+-----------------------------------------------------------------------------+\n",
      "| NVIDIA-SMI 450.80.02    Driver Version: 450.80.02    CUDA Version: 11.0     |\n",
      "|-------------------------------+----------------------+----------------------+\n",
      "| GPU  Name        Persistence-M| Bus-Id        Disp.A | Volatile Uncorr. ECC |\n",
      "| Fan  Temp  Perf  Pwr:Usage/Cap|         Memory-Usage | GPU-Util  Compute M. |\n",
      "|                               |                      |               MIG M. |\n",
      "|===============================+======================+======================|\n",
      "|   0  GeForce RTX 207...  Off  | 00000000:1A:00.0 Off |                  N/A |\n",
      "| 21%   25C    P8    15W / 215W |      3MiB /  7982MiB |      0%      Default |\n",
      "|                               |                      |                  N/A |\n",
      "+-------------------------------+----------------------+----------------------+\n",
      "|   1  GeForce RTX 207...  Off  | 00000000:1B:00.0 Off |                  N/A |\n",
      "| 20%   26C    P8    18W / 215W |      3MiB /  7982MiB |      0%      Default |\n",
      "|                               |                      |                  N/A |\n",
      "+-------------------------------+----------------------+----------------------+\n",
      "|   2  GeForce RTX 207...  Off  | 00000000:1C:00.0 Off |                  N/A |\n",
      "| 20%   28C    P8     6W / 215W |   4050MiB /  7982MiB |      0%      Default |\n",
      "|                               |                      |                  N/A |\n",
      "+-------------------------------+----------------------+----------------------+\n",
      "|   3  GeForce RTX 207...  Off  | 00000000:1D:00.0 Off |                  N/A |\n",
      "| 20%   28C    P8     9W / 215W |      3MiB /  7982MiB |      0%      Default |\n",
      "|                               |                      |                  N/A |\n",
      "+-------------------------------+----------------------+----------------------+\n",
      "|   4  GeForce RTX 207...  Off  | 00000000:1E:00.0 Off |                  N/A |\n",
      "| 20%   28C    P8    16W / 215W |      3MiB /  7982MiB |      0%      Default |\n",
      "|                               |                      |                  N/A |\n",
      "+-------------------------------+----------------------+----------------------+\n",
      "|   5  GeForce RTX 207...  Off  | 00000000:3D:00.0 Off |                  N/A |\n",
      "| 20%   27C    P8    13W / 215W |   7908MiB /  7982MiB |      0%      Default |\n",
      "|                               |                      |                  N/A |\n",
      "+-------------------------------+----------------------+----------------------+\n",
      "|   6  GeForce RTX 207...  Off  | 00000000:3E:00.0 Off |                  N/A |\n",
      "| 20%   28C    P8     9W / 215W |      3MiB /  7982MiB |      0%      Default |\n",
      "|                               |                      |                  N/A |\n",
      "+-------------------------------+----------------------+----------------------+\n",
      "|   7  GeForce RTX 207...  Off  | 00000000:3F:00.0 Off |                  N/A |\n",
      "| 20%   26C    P8    15W / 215W |      3MiB /  7982MiB |      0%      Default |\n",
      "|                               |                      |                  N/A |\n",
      "+-------------------------------+----------------------+----------------------+\n",
      "|   8  GeForce RTX 207...  Off  | 00000000:40:00.0 Off |                  N/A |\n",
      "| 20%   27C    P8    16W / 215W |      3MiB /  7982MiB |      0%      Default |\n",
      "|                               |                      |                  N/A |\n",
      "+-------------------------------+----------------------+----------------------+\n",
      "|   9  GeForce RTX 207...  Off  | 00000000:41:00.0 Off |                  N/A |\n",
      "| 20%   28C    P8    19W / 215W |      3MiB /  7982MiB |      0%      Default |\n",
      "|                               |                      |                  N/A |\n",
      "+-------------------------------+----------------------+----------------------+\n",
      "                                                                               \n",
      "+-----------------------------------------------------------------------------+\n",
      "| Processes:                                                                  |\n",
      "|  GPU   GI   CI        PID   Type   Process name                  GPU Memory |\n",
      "|        ID   ID                                                   Usage      |\n",
      "|=============================================================================|\n",
      "+-----------------------------------------------------------------------------+\n"
     ]
    }
   ],
   "source": [
    "!nvidia-smi"
   ]
  },
  {
   "cell_type": "markdown",
   "metadata": {
    "id": "-XzIClJ5k6h4"
   },
   "source": [
    "## 使用するデータセット\n",
    "\n",
    "### データセット\n",
    "今回の物体認識では，CIFAR-10データセットを使用します．CIFAR-10データセットは，飛行機や犬などの10クラスの物体が表示されている画像から構成されたデータセットです．\n",
    "\n",
    "![CIFAR10_sample.png](https://qiita-image-store.s3.ap-northeast-1.amazonaws.com/0/176458/b6b43478-c85f-9211-7bc6-227d9b387af5.png)"
   ]
  },
  {
   "cell_type": "markdown",
   "metadata": {
    "id": "xNzvYQL58KP4"
   },
   "source": [
    "### データセットのダウンロードと読み込み\n",
    "実験に使用するCIFAR-10データセットを読み込みます．\n",
    "１回の誤差を算出するデータ数 (ミニバッチサイズ) は，128とします．\n",
    "まず，CIFAR-10データセットをダウンロードします．\n",
    "次に，ダウンロードしたデータセットを読み込みます．\n",
    "学習には，大量のデータを利用しますが，それでも十分ではありません． そこで，データ拡張 (data augmentation) により，データのバリエーションを増やします． 一般的な方法は，画像の左右反転，明るさ変換などです．"
   ]
  },
  {
   "cell_type": "code",
   "execution_count": 4,
   "metadata": {
    "colab": {
     "base_uri": "https://localhost:8080/",
     "height": 102,
     "referenced_widgets": [
      "2bcc19d3ebe44208aefc266ecb092de7",
      "18eff29c692a4fafaea1c4742c2804ff",
      "0574b7fe14f74a0e91f37e9646010897",
      "f403a35ccdaf465eb42f4424f497e2f2",
      "d61072097735498083cc36333996066e",
      "429753e636ad4ae4a09b0ec7cd40ae88",
      "b696f279d101434498eb5e006517a6ac",
      "015ac6472a574f0189472681028cb8b4"
     ]
    },
    "id": "leWJTOIL8KP4",
    "outputId": "07d318b1-2fa5-4699-b13a-e4eaf3fa7ec9"
   },
   "outputs": [
    {
     "name": "stdout",
     "output_type": "stream",
     "text": [
      "Files already downloaded and verified\n",
      "Files already downloaded and verified\n"
     ]
    }
   ],
   "source": [
    "batch_size = 16\n",
    "\n",
    "transform_train = transforms.Compose([\n",
    "    transforms.RandomCrop(32, padding=4),\n",
    "    transforms.RandomHorizontalFlip(),\n",
    "    transforms.ToTensor(),\n",
    "    transforms.Normalize((0.4914, 0.4822, 0.4465), (0.2023, 0.1994, 0.2010)),\n",
    "])\n",
    "\n",
    "transform_test = transforms.Compose([\n",
    "    transforms.ToTensor(),\n",
    "    transforms.Normalize((0.4914, 0.4822, 0.4465), (0.2023, 0.1994, 0.2010)),\n",
    "])\n",
    "\n",
    "trainset = torchvision.datasets.CIFAR10(root='./data', train=True,\n",
    "                                        download=True, transform=transform_train)\n",
    "trainloader = torch.utils.data.DataLoader(trainset, batch_size=batch_size,\n",
    "                                          shuffle=True, num_workers=20)\n",
    "\n",
    "testset = torchvision.datasets.CIFAR10(root='./data', train=False,\n",
    "                                       download=True, transform=transform_test)\n",
    "testloader = torch.utils.data.DataLoader(testset, batch_size=batch_size,\n",
    "                                         shuffle=False, num_workers=20)\n",
    "\n",
    "classes = ('plane', 'car', 'bird', 'cat',\n",
    "           'deer', 'dog', 'frog', 'horse', 'ship', 'truck')"
   ]
  },
  {
   "cell_type": "markdown",
   "metadata": {
    "id": "zHQfAwb_8KP7"
   },
   "source": [
    "### CIFAR-10データセットの表示\n",
    "CIFAR-10データセットに含まれる画像を表示してみます．\n",
    "ここでは，matplotlibを用いて複数の画像を表示させるプログラムを利用します．\n",
    "学習データは5万枚，1つのデータサイズは3x32x32の画像のような形式となっています．これは32x32ピクセルのカラー画像という意味になります．\n",
    "\n"
   ]
  },
  {
   "cell_type": "code",
   "execution_count": 5,
   "metadata": {
    "colab": {
     "base_uri": "https://localhost:8080/",
     "height": 173
    },
    "id": "Fod_SRFR8KP8",
    "outputId": "cfb75aa9-3a9e-4aab-9df3-1ef7f54ba826"
   },
   "outputs": [
    {
     "data": {
      "image/png": "[encoded data removed]",
      "text/plain": [
       "<Figure size 432x288 with 1 Axes>"
      ]
     },
     "metadata": {
      "needs_background": "light"
     },
     "output_type": "display_data"
    },
    {
     "name": "stdout",
     "output_type": "stream",
     "text": [
      "  cat  ship  ship plane\n"
     ]
    }
   ],
   "source": [
    "import matplotlib.pyplot as plt\n",
    "import numpy as np\n",
    "\n",
    "# functions to show an image\n",
    "def imshow(img):\n",
    "    npimg = img.numpy()\n",
    "    npimg = ((npimg.transpose((1,2,0))  * [0.2023, 0.1994, 0.2010]) + [0.4914, 0.4822, 0.4465])  # unnormalize\n",
    "    plt.imshow(npimg)\n",
    "    plt.show()\n",
    "\n",
    "# get some random training images\n",
    "dataiter = iter(testloader)\n",
    "images, labels = dataiter.next()\n",
    "\n",
    "# show images\n",
    "imshow(torchvision.utils.make_grid(images[0:4]))\n",
    "# print labels\n",
    "print(' '.join('%5s' % classes[labels[j]] for j in range(4)))"
   ]
  },
  {
   "cell_type": "markdown",
   "metadata": {
    "id": "DduOi-s18KP_"
   },
   "source": [
    "## ネットワークモデルの定義\n",
    "次に，ResNetを定義します．\n",
    "ResNetの層の深さ (depth) は，20層に設定します．"
   ]
  },
  {
   "cell_type": "code",
   "execution_count": 6,
   "metadata": {
    "colab": {
     "base_uri": "https://localhost:8080/"
    },
    "id": "O0cpWP_w8KP_",
    "outputId": "61ff9f21-2fb1-472d-c4bf-36a9d0eea726"
   },
   "outputs": [
    {
     "data": {
      "text/plain": [
       "ResNet(\n",
       "  (conv1): Conv2d(3, 16, kernel_size=(3, 3), stride=(1, 1), padding=(1, 1), bias=False)\n",
       "  (bn1): BatchNorm2d(16, eps=1e-05, momentum=0.1, affine=True, track_running_stats=True)\n",
       "  (relu): ReLU(inplace=True)\n",
       "  (layer1): Sequential(\n",
       "    (0): BasicBlock(\n",
       "      (conv1): Conv2d(16, 16, kernel_size=(3, 3), stride=(1, 1), padding=(1, 1), bias=False)\n",
       "      (bn1): BatchNorm2d(16, eps=1e-05, momentum=0.1, affine=True, track_running_stats=True)\n",
       "      (relu): ReLU(inplace=True)\n",
       "      (conv2): Conv2d(16, 16, kernel_size=(3, 3), stride=(1, 1), padding=(1, 1), bias=False)\n",
       "      (bn2): BatchNorm2d(16, eps=1e-05, momentum=0.1, affine=True, track_running_stats=True)\n",
       "    )\n",
       "    (1): BasicBlock(\n",
       "      (conv1): Conv2d(16, 16, kernel_size=(3, 3), stride=(1, 1), padding=(1, 1), bias=False)\n",
       "      (bn1): BatchNorm2d(16, eps=1e-05, momentum=0.1, affine=True, track_running_stats=True)\n",
       "      (relu): ReLU(inplace=True)\n",
       "      (conv2): Conv2d(16, 16, kernel_size=(3, 3), stride=(1, 1), padding=(1, 1), bias=False)\n",
       "      (bn2): BatchNorm2d(16, eps=1e-05, momentum=0.1, affine=True, track_running_stats=True)\n",
       "    )\n",
       "    (2): BasicBlock(\n",
       "      (conv1): Conv2d(16, 16, kernel_size=(3, 3), stride=(1, 1), padding=(1, 1), bias=False)\n",
       "      (bn1): BatchNorm2d(16, eps=1e-05, momentum=0.1, affine=True, track_running_stats=True)\n",
       "      (relu): ReLU(inplace=True)\n",
       "      (conv2): Conv2d(16, 16, kernel_size=(3, 3), stride=(1, 1), padding=(1, 1), bias=False)\n",
       "      (bn2): BatchNorm2d(16, eps=1e-05, momentum=0.1, affine=True, track_running_stats=True)\n",
       "    )\n",
       "  )\n",
       "  (layer2): Sequential(\n",
       "    (0): BasicBlock(\n",
       "      (conv1): Conv2d(16, 32, kernel_size=(3, 3), stride=(2, 2), padding=(1, 1), bias=False)\n",
       "      (bn1): BatchNorm2d(32, eps=1e-05, momentum=0.1, affine=True, track_running_stats=True)\n",
       "      (relu): ReLU(inplace=True)\n",
       "      (conv2): Conv2d(32, 32, kernel_size=(3, 3), stride=(1, 1), padding=(1, 1), bias=False)\n",
       "      (bn2): BatchNorm2d(32, eps=1e-05, momentum=0.1, affine=True, track_running_stats=True)\n",
       "      (downsample): Sequential(\n",
       "        (0): Conv2d(16, 32, kernel_size=(1, 1), stride=(2, 2), bias=False)\n",
       "        (1): BatchNorm2d(32, eps=1e-05, momentum=0.1, affine=True, track_running_stats=True)\n",
       "      )\n",
       "    )\n",
       "    (1): BasicBlock(\n",
       "      (conv1): Conv2d(32, 32, kernel_size=(3, 3), stride=(1, 1), padding=(1, 1), bias=False)\n",
       "      (bn1): BatchNorm2d(32, eps=1e-05, momentum=0.1, affine=True, track_running_stats=True)\n",
       "      (relu): ReLU(inplace=True)\n",
       "      (conv2): Conv2d(32, 32, kernel_size=(3, 3), stride=(1, 1), padding=(1, 1), bias=False)\n",
       "      (bn2): BatchNorm2d(32, eps=1e-05, momentum=0.1, affine=True, track_running_stats=True)\n",
       "    )\n",
       "    (2): BasicBlock(\n",
       "      (conv1): Conv2d(32, 32, kernel_size=(3, 3), stride=(1, 1), padding=(1, 1), bias=False)\n",
       "      (bn1): BatchNorm2d(32, eps=1e-05, momentum=0.1, affine=True, track_running_stats=True)\n",
       "      (relu): ReLU(inplace=True)\n",
       "      (conv2): Conv2d(32, 32, kernel_size=(3, 3), stride=(1, 1), padding=(1, 1), bias=False)\n",
       "      (bn2): BatchNorm2d(32, eps=1e-05, momentum=0.1, affine=True, track_running_stats=True)\n",
       "    )\n",
       "  )\n",
       "  (layer3): Sequential(\n",
       "    (0): BasicBlock(\n",
       "      (conv1): Conv2d(32, 64, kernel_size=(3, 3), stride=(2, 2), padding=(1, 1), bias=False)\n",
       "      (bn1): BatchNorm2d(64, eps=1e-05, momentum=0.1, affine=True, track_running_stats=True)\n",
       "      (relu): ReLU(inplace=True)\n",
       "      (conv2): Conv2d(64, 64, kernel_size=(3, 3), stride=(1, 1), padding=(1, 1), bias=False)\n",
       "      (bn2): BatchNorm2d(64, eps=1e-05, momentum=0.1, affine=True, track_running_stats=True)\n",
       "      (downsample): Sequential(\n",
       "        (0): Conv2d(32, 64, kernel_size=(1, 1), stride=(2, 2), bias=False)\n",
       "        (1): BatchNorm2d(64, eps=1e-05, momentum=0.1, affine=True, track_running_stats=True)\n",
       "      )\n",
       "    )\n",
       "    (1): BasicBlock(\n",
       "      (conv1): Conv2d(64, 64, kernel_size=(3, 3), stride=(1, 1), padding=(1, 1), bias=False)\n",
       "      (bn1): BatchNorm2d(64, eps=1e-05, momentum=0.1, affine=True, track_running_stats=True)\n",
       "      (relu): ReLU(inplace=True)\n",
       "      (conv2): Conv2d(64, 64, kernel_size=(3, 3), stride=(1, 1), padding=(1, 1), bias=False)\n",
       "      (bn2): BatchNorm2d(64, eps=1e-05, momentum=0.1, affine=True, track_running_stats=True)\n",
       "    )\n",
       "    (2): BasicBlock(\n",
       "      (conv1): Conv2d(64, 64, kernel_size=(3, 3), stride=(1, 1), padding=(1, 1), bias=False)\n",
       "      (bn1): BatchNorm2d(64, eps=1e-05, momentum=0.1, affine=True, track_running_stats=True)\n",
       "      (relu): ReLU(inplace=True)\n",
       "      (conv2): Conv2d(64, 64, kernel_size=(3, 3), stride=(1, 1), padding=(1, 1), bias=False)\n",
       "      (bn2): BatchNorm2d(64, eps=1e-05, momentum=0.1, affine=True, track_running_stats=True)\n",
       "    )\n",
       "  )\n",
       "  (avgpool): AvgPool2d(kernel_size=8, stride=8, padding=0)\n",
       "  (fc): Linear(in_features=64, out_features=10, bias=True)\n",
       ")"
      ]
     },
     "execution_count": 6,
     "metadata": {},
     "output_type": "execute_result"
    }
   ],
   "source": [
    "import torch.nn as nn\n",
    "import torch.nn.functional as F\n",
    "import math\n",
    "\n",
    "def conv3x3(in_planes, out_planes, stride=1):\n",
    "    \"3x3 convolution with padding\"\n",
    "    return nn.Conv2d(in_planes, out_planes, kernel_size=3, stride=stride,\n",
    "                     padding=1, bias=False)\n",
    "\n",
    "class BasicBlock(nn.Module):\n",
    "    expansion = 1\n",
    "\n",
    "    def __init__(self, inplanes, planes, stride=1, downsample=None):\n",
    "        super(BasicBlock, self).__init__()\n",
    "        self.conv1 = conv3x3(inplanes, planes, stride)\n",
    "        self.bn1 = nn.BatchNorm2d(planes)\n",
    "        self.relu = nn.ReLU(inplace=True)\n",
    "        self.conv2 = conv3x3(planes, planes)\n",
    "        self.bn2 = nn.BatchNorm2d(planes)\n",
    "        self.downsample = downsample\n",
    "        self.stride = stride\n",
    "\n",
    "    def forward(self, x):\n",
    "        residual = x\n",
    "\n",
    "        out = self.conv1(x)\n",
    "        out = self.bn1(out)\n",
    "        out = self.relu(out)\n",
    "\n",
    "        out = self.conv2(out)\n",
    "        out = self.bn2(out)\n",
    "\n",
    "        if self.downsample is not None:\n",
    "            residual = self.downsample(x)\n",
    "\n",
    "        out += residual\n",
    "        out = self.relu(out)\n",
    "\n",
    "        return out\n",
    "\n",
    "class Bottleneck(nn.Module):\n",
    "    expansion = 4\n",
    "\n",
    "    def __init__(self, inplanes, planes, stride=1, downsample=None):\n",
    "        super(Bottleneck, self).__init__()\n",
    "        self.conv1 = nn.Conv2d(inplanes, planes, kernel_size=1, bias=False)\n",
    "        self.bn1 = nn.BatchNorm2d(planes)\n",
    "        self.conv2 = nn.Conv2d(planes, planes, kernel_size=3, stride=stride,\n",
    "                               padding=1, bias=False)\n",
    "        self.bn2 = nn.BatchNorm2d(planes)\n",
    "        self.conv3 = nn.Conv2d(planes, planes * 4, kernel_size=1, bias=False)\n",
    "        self.bn3 = nn.BatchNorm2d(planes * 4)\n",
    "        self.relu = nn.ReLU(inplace=True)\n",
    "        self.downsample = downsample\n",
    "        self.stride = stride\n",
    "\n",
    "    def forward(self, x):\n",
    "        residual = x\n",
    "\n",
    "        out = self.conv1(x)\n",
    "        out = self.bn1(out)\n",
    "        out = self.relu(out)\n",
    "\n",
    "        out = self.conv2(out)\n",
    "        out = self.bn2(out)\n",
    "        out = self.relu(out)\n",
    "\n",
    "        out = self.conv3(out)\n",
    "        out = self.bn3(out)\n",
    "\n",
    "        if self.downsample is not None:\n",
    "            residual = self.downsample(x)\n",
    "\n",
    "        out += residual\n",
    "        out = self.relu(out)\n",
    "\n",
    "        return out\n",
    "\n",
    "    \n",
    "#########################\n",
    "# ResNet クラスを定義\n",
    "\n",
    "class ResNet(nn.Module):\n",
    "\n",
    "    def __init__(self, depth, num_classes=10):\n",
    "        super(ResNet, self).__init__()\n",
    "        # Model type specifies number of layers for CIFAR-10 model\n",
    "        block_name = 'Bottleneck' if depth >=44 else 'BasicBlock'\n",
    "        if block_name.lower() == 'basicblock':\n",
    "            assert (depth - 2) % 6 == 0, 'When use basicblock, depth should be 6n+2, e.g. 20, 32, 44'\n",
    "            n = (depth - 2) // 6\n",
    "            block = BasicBlock\n",
    "        elif block_name.lower() == 'bottleneck':\n",
    "            assert (depth - 2) % 9 == 0, 'When use bottleneck, depth should be 9n+2, e.g. 47, 56, 110, 1199'\n",
    "            n = (depth - 2) // 9\n",
    "            block = Bottleneck\n",
    "        else:\n",
    "            raise ValueError('block_name shoule be Basicblock or Bottleneck')\n",
    "\n",
    "        self.inplanes = 16\n",
    "        self.conv1 = nn.Conv2d(3, 16, kernel_size=3, padding=1,\n",
    "                               bias=False)\n",
    "        self.bn1 = nn.BatchNorm2d(16)\n",
    "        self.relu = nn.ReLU(inplace=True)\n",
    "        self.layer1 = self._make_layer(block, 16, n)\n",
    "        self.layer2 = self._make_layer(block, 32, n, stride=2)\n",
    "        self.layer3 = self._make_layer(block, 64, n, stride=2)\n",
    "        self.avgpool = nn.AvgPool2d(8)\n",
    "        self.fc = nn.Linear(64 * block.expansion, num_classes)\n",
    "\n",
    "        for m in self.modules():\n",
    "            if isinstance(m, nn.Conv2d):\n",
    "                n = m.kernel_size[0] * m.kernel_size[1] * m.out_channels\n",
    "                m.weight.data.normal_(0, math.sqrt(2. / n))\n",
    "            elif isinstance(m, nn.BatchNorm2d):\n",
    "                m.weight.data.fill_(1)\n",
    "                m.bias.data.zero_()\n",
    "\n",
    "    def _make_layer(self, block, planes, blocks, stride=1):\n",
    "        downsample = None\n",
    "        if stride != 1 or self.inplanes != planes * block.expansion:\n",
    "            downsample = nn.Sequential(\n",
    "                nn.Conv2d(self.inplanes, planes * block.expansion,\n",
    "                          kernel_size=1, stride=stride, bias=False),\n",
    "                nn.BatchNorm2d(planes * block.expansion),\n",
    "            )\n",
    "\n",
    "        layers = []\n",
    "        layers.append(block(self.inplanes, planes, stride, downsample))\n",
    "        self.inplanes = planes * block.expansion\n",
    "        for i in range(1, blocks):\n",
    "            layers.append(block(self.inplanes, planes))\n",
    "\n",
    "        return nn.Sequential(*layers)\n",
    "\n",
    "    def forward(self, x):\n",
    "        x = self.conv1(x)\n",
    "        x = self.bn1(x)\n",
    "        x = self.relu(x)    # 32x32\n",
    "\n",
    "        x = self.layer1(x)  # 32x32\n",
    "        x = self.layer2(x)  # 16x16\n",
    "        x = self.layer3(x)  # 8x8\n",
    "\n",
    "        x = self.avgpool(x)\n",
    "        x = x.view(x.size(0), -1)\n",
    "        x = self.fc(x)\n",
    "\n",
    "        return x\n",
    "\n",
    "depth = 20 #e.g. 20, 32, 44, 47, 56, 110, 1199\n",
    "model = ResNet(depth)\n",
    "model.to(device)"
   ]
  },
  {
   "cell_type": "markdown",
   "metadata": {
    "id": "uFCekfs78KQC"
   },
   "source": [
    "## 損失関数と最適化手法の定義\n",
    "学習に使用する損失関数と最適化手法を定義します．\n",
    "今回は，分類問題を扱うため，クロスエントロピー誤差を計算するための`CrossEntropyLoss`を`criterion`として定義します．\n",
    "また，`scheduler`で学習率のスケジューリングを行います．\n",
    "`scheduler`では，初期の学習率を0.1に設定し，全体のエポック数の1/2と3/4で学習率を0.1倍します．\n",
    "最適化手法には，確率的勾配降下法 (stochastic gradient descent: SGD) を用いて学習します．\n",
    "最後に，定義したネットワークの詳細情報を`torchsummary.summary()`関数を用いて表示します．\n"
   ]
  },
  {
   "cell_type": "code",
   "execution_count": 7,
   "metadata": {
    "colab": {
     "base_uri": "https://localhost:8080/"
    },
    "id": "rntVJhx98KQC",
    "outputId": "86dc64fa-daf5-4338-fa70-39a55d81f29d"
   },
   "outputs": [
    {
     "name": "stdout",
     "output_type": "stream",
     "text": [
      "----------------------------------------------------------------\n",
      "        Layer (type)               Output Shape         Param #\n",
      "================================================================\n",
      "            Conv2d-1           [-1, 16, 32, 32]             432\n",
      "       BatchNorm2d-2           [-1, 16, 32, 32]              32\n",
      "              ReLU-3           [-1, 16, 32, 32]               0\n",
      "            Conv2d-4           [-1, 16, 32, 32]           2,304\n",
      "       BatchNorm2d-5           [-1, 16, 32, 32]              32\n",
      "              ReLU-6           [-1, 16, 32, 32]               0\n",
      "            Conv2d-7           [-1, 16, 32, 32]           2,304\n",
      "       BatchNorm2d-8           [-1, 16, 32, 32]              32\n",
      "              ReLU-9           [-1, 16, 32, 32]               0\n",
      "       BasicBlock-10           [-1, 16, 32, 32]               0\n",
      "           Conv2d-11           [-1, 16, 32, 32]           2,304\n",
      "      BatchNorm2d-12           [-1, 16, 32, 32]              32\n",
      "             ReLU-13           [-1, 16, 32, 32]               0\n",
      "           Conv2d-14           [-1, 16, 32, 32]           2,304\n",
      "      BatchNorm2d-15           [-1, 16, 32, 32]              32\n",
      "             ReLU-16           [-1, 16, 32, 32]               0\n",
      "       BasicBlock-17           [-1, 16, 32, 32]               0\n",
      "           Conv2d-18           [-1, 16, 32, 32]           2,304\n",
      "      BatchNorm2d-19           [-1, 16, 32, 32]              32\n",
      "             ReLU-20           [-1, 16, 32, 32]               0\n",
      "           Conv2d-21           [-1, 16, 32, 32]           2,304\n",
      "      BatchNorm2d-22           [-1, 16, 32, 32]              32\n",
      "             ReLU-23           [-1, 16, 32, 32]               0\n",
      "       BasicBlock-24           [-1, 16, 32, 32]               0\n",
      "           Conv2d-25           [-1, 32, 16, 16]           4,608\n",
      "      BatchNorm2d-26           [-1, 32, 16, 16]              64\n",
      "             ReLU-27           [-1, 32, 16, 16]               0\n",
      "           Conv2d-28           [-1, 32, 16, 16]           9,216\n",
      "      BatchNorm2d-29           [-1, 32, 16, 16]              64\n",
      "           Conv2d-30           [-1, 32, 16, 16]             512\n",
      "      BatchNorm2d-31           [-1, 32, 16, 16]              64\n",
      "             ReLU-32           [-1, 32, 16, 16]               0\n",
      "       BasicBlock-33           [-1, 32, 16, 16]               0\n",
      "           Conv2d-34           [-1, 32, 16, 16]           9,216\n",
      "      BatchNorm2d-35           [-1, 32, 16, 16]              64\n",
      "             ReLU-36           [-1, 32, 16, 16]               0\n",
      "           Conv2d-37           [-1, 32, 16, 16]           9,216\n",
      "      BatchNorm2d-38           [-1, 32, 16, 16]              64\n",
      "             ReLU-39           [-1, 32, 16, 16]               0\n",
      "       BasicBlock-40           [-1, 32, 16, 16]               0\n",
      "           Conv2d-41           [-1, 32, 16, 16]           9,216\n",
      "      BatchNorm2d-42           [-1, 32, 16, 16]              64\n",
      "             ReLU-43           [-1, 32, 16, 16]               0\n",
      "           Conv2d-44           [-1, 32, 16, 16]           9,216\n",
      "      BatchNorm2d-45           [-1, 32, 16, 16]              64\n",
      "             ReLU-46           [-1, 32, 16, 16]               0\n",
      "       BasicBlock-47           [-1, 32, 16, 16]               0\n",
      "           Conv2d-48             [-1, 64, 8, 8]          18,432\n",
      "      BatchNorm2d-49             [-1, 64, 8, 8]             128\n",
      "             ReLU-50             [-1, 64, 8, 8]               0\n",
      "           Conv2d-51             [-1, 64, 8, 8]          36,864\n",
      "      BatchNorm2d-52             [-1, 64, 8, 8]             128\n",
      "           Conv2d-53             [-1, 64, 8, 8]           2,048\n",
      "      BatchNorm2d-54             [-1, 64, 8, 8]             128\n",
      "             ReLU-55             [-1, 64, 8, 8]               0\n",
      "       BasicBlock-56             [-1, 64, 8, 8]               0\n",
      "           Conv2d-57             [-1, 64, 8, 8]          36,864\n",
      "      BatchNorm2d-58             [-1, 64, 8, 8]             128\n",
      "             ReLU-59             [-1, 64, 8, 8]               0\n",
      "           Conv2d-60             [-1, 64, 8, 8]          36,864\n",
      "      BatchNorm2d-61             [-1, 64, 8, 8]             128\n",
      "             ReLU-62             [-1, 64, 8, 8]               0\n",
      "       BasicBlock-63             [-1, 64, 8, 8]               0\n",
      "           Conv2d-64             [-1, 64, 8, 8]          36,864\n",
      "      BatchNorm2d-65             [-1, 64, 8, 8]             128\n",
      "             ReLU-66             [-1, 64, 8, 8]               0\n",
      "           Conv2d-67             [-1, 64, 8, 8]          36,864\n",
      "      BatchNorm2d-68             [-1, 64, 8, 8]             128\n",
      "             ReLU-69             [-1, 64, 8, 8]               0\n",
      "       BasicBlock-70             [-1, 64, 8, 8]               0\n",
      "        AvgPool2d-71             [-1, 64, 1, 1]               0\n",
      "           Linear-72                   [-1, 10]             650\n",
      "================================================================\n",
      "Total params: 272,474\n",
      "Trainable params: 272,474\n",
      "Non-trainable params: 0\n",
      "----------------------------------------------------------------\n",
      "Input size (MB): 0.01\n",
      "Forward/backward pass size (MB): 5.16\n",
      "Params size (MB): 1.04\n",
      "Estimated Total Size (MB): 6.21\n",
      "----------------------------------------------------------------\n"
     ]
    }
   ],
   "source": [
    "import torch.optim as optim\n",
    "from torch.optim import SGD, lr_scheduler\n",
    "\n",
    "criterion = nn.CrossEntropyLoss()\n",
    "optimizer = optim.SGD(model.parameters(), lr=0.1, momentum=0.9, weight_decay=5e-4)\n",
    "scheduler = lr_scheduler.MultiStepLR(optimizer, milestones=[50, 75], gamma=0.1) # 50 < 75\n",
    "\n",
    "# モデルの情報を表示\n",
    "torchsummary.summary(model, (3, 32, 32))"
   ]
  },
  {
   "cell_type": "markdown",
   "metadata": {
    "id": "Z4NRFd6i8KQF"
   },
   "source": [
    "## 学習\n",
    "読み込んだCIFAR-10データセットと作成したネットワークを用いて，学習を行います．\n",
    "今回は，学習エポック数を100とします．\n",
    "1エポック学習するごとに学習したモデルを評価し，最も認識精度の高いモデルが保存されます．\n",
    "各更新において，学習用データと教師データをそれぞれ`inputs`と`targets`とします．\n",
    "学習モデルに`inputs`を与えて，ResNetの出力を取得します．\n",
    "ResNetの出力と教師ラベル`targets`との誤差を`criterion`で算出します．\n",
    "また，認識精度も算出します．\n",
    "そして，誤差をbackward関数で逆伝播し，ネットワークの更新を行います．\n",
    "認識精度も同時に計算して，`print`関数で学習経過における誤差や認識精度を表示します．"
   ]
  },
  {
   "cell_type": "code",
   "execution_count": 8,
   "metadata": {
    "colab": {
     "base_uri": "https://localhost:8080/"
    },
    "id": "nnMVTad98KQG",
    "outputId": "81701db8-d41a-4426-dbda-b384069a93b2",
    "scrolled": true
   },
   "outputs": [
    {
     "name": "stderr",
     "output_type": "stream",
     "text": [
      "/opt/conda/lib/python3.7/site-packages/torch/optim/lr_scheduler.py:136: UserWarning: Detected call of `lr_scheduler.step()` before `optimizer.step()`. In PyTorch 1.1.0 and later, you should call them in the opposite order: `optimizer.step()` before `lr_scheduler.step()`.  Failure to do this will result in PyTorch skipping the first value of the learning rate schedule. See more details at https://pytorch.org/docs/stable/optim.html#how-to-adjust-learning-rate\n",
      "  \"https://pytorch.org/docs/stable/optim.html#how-to-adjust-learning-rate\", UserWarning)\n"
     ]
    },
    {
     "name": "stdout",
     "output_type": "stream",
     "text": [
      "[Epoch 1] Train Loss: 1.75992 | Train Acc: 26.396%\n",
      "Test Loss: 1.44629 | Test Acc: 48.572%\n",
      "[Epoch 2] Train Loss: 1.30365 | Train Acc: 50.951%\n",
      "Test Loss: 1.16497 | Test Acc: 59.933%\n",
      "[Epoch 3] Train Loss: 1.14573 | Train Acc: 59.128%\n",
      "Test Loss: 1.16155 | Test Acc: 58.855%\n",
      "[Epoch 4] Train Loss: 1.10027 | Train Acc: 61.269%\n",
      "Test Loss: 1.10270 | Test Acc: 61.934%\n",
      "[Epoch 5] Train Loss: 1.06755 | Train Acc: 63.161%\n",
      "Test Loss: 1.12232 | Test Acc: 62.556%\n",
      "[Epoch 6] Train Loss: 1.04921 | Train Acc: 63.736%\n",
      "Test Loss: 0.96151 | Test Acc: 65.699%\n",
      "[Epoch 7] Train Loss: 1.04102 | Train Acc: 64.106%\n",
      "Test Loss: 1.38225 | Test Acc: 56.248%\n",
      "[Epoch 8] Train Loss: 1.03386 | Train Acc: 64.386%\n",
      "Test Loss: 1.42933 | Test Acc: 54.712%\n",
      "[Epoch 9] Train Loss: 1.02512 | Train Acc: 65.025%\n",
      "Test Loss: 1.21737 | Test Acc: 59.713%\n",
      "[Epoch 10] Train Loss: 1.02201 | Train Acc: 64.729%\n",
      "Test Loss: 1.43849 | Test Acc: 57.172%\n",
      "[Epoch 11] Train Loss: 1.02048 | Train Acc: 65.047%\n",
      "Test Loss: 1.09807 | Test Acc: 60.987%\n",
      "[Epoch 12] Train Loss: 1.01305 | Train Acc: 64.685%\n",
      "Test Loss: 1.20175 | Test Acc: 63.095%\n",
      "[Epoch 13] Train Loss: 1.00987 | Train Acc: 65.075%\n",
      "Test Loss: 1.49650 | Test Acc: 54.595%\n",
      "[Epoch 14] Train Loss: 1.00341 | Train Acc: 65.763%\n",
      "Test Loss: 1.02833 | Test Acc: 64.774%\n",
      "[Epoch 15] Train Loss: 1.00725 | Train Acc: 65.508%\n",
      "Test Loss: 1.06120 | Test Acc: 64.131%\n",
      "[Epoch 16] Train Loss: 0.99715 | Train Acc: 65.969%\n",
      "Test Loss: 1.00618 | Test Acc: 66.306%\n",
      "[Epoch 17] Train Loss: 1.00334 | Train Acc: 65.678%\n",
      "Test Loss: 1.00347 | Test Acc: 65.982%\n",
      "[Epoch 18] Train Loss: 0.99765 | Train Acc: 65.842%\n",
      "Test Loss: 0.95522 | Test Acc: 67.170%\n",
      "[Epoch 19] Train Loss: 0.99492 | Train Acc: 65.890%\n",
      "Test Loss: 1.06029 | Test Acc: 65.460%\n",
      "[Epoch 20] Train Loss: 0.99567 | Train Acc: 66.140%\n",
      "Test Loss: 1.06122 | Test Acc: 63.652%\n",
      "[Epoch 21] Train Loss: 0.98986 | Train Acc: 66.400%\n",
      "Test Loss: 1.09389 | Test Acc: 62.173%\n",
      "[Epoch 22] Train Loss: 0.99480 | Train Acc: 65.769%\n",
      "Test Loss: 2.07986 | Test Acc: 44.008%\n",
      "[Epoch 23] Train Loss: 0.99550 | Train Acc: 65.998%\n",
      "Test Loss: 1.49634 | Test Acc: 56.757%\n",
      "[Epoch 24] Train Loss: 0.98725 | Train Acc: 66.136%\n",
      "Test Loss: 0.94496 | Test Acc: 68.476%\n",
      "[Epoch 25] Train Loss: 0.99070 | Train Acc: 65.961%\n",
      "Test Loss: 1.09093 | Test Acc: 62.792%\n",
      "[Epoch 26] Train Loss: 0.99390 | Train Acc: 65.714%\n",
      "Test Loss: 0.93502 | Test Acc: 68.974%\n",
      "[Epoch 27] Train Loss: 0.98413 | Train Acc: 66.766%\n",
      "Test Loss: 1.17829 | Test Acc: 59.489%\n",
      "[Epoch 28] Train Loss: 0.99150 | Train Acc: 65.735%\n",
      "Test Loss: 1.32526 | Test Acc: 59.261%\n",
      "[Epoch 29] Train Loss: 0.99960 | Train Acc: 65.676%\n",
      "Test Loss: 1.23434 | Test Acc: 58.508%\n",
      "[Epoch 30] Train Loss: 0.99007 | Train Acc: 65.957%\n",
      "Test Loss: 1.11326 | Test Acc: 61.927%\n",
      "[Epoch 31] Train Loss: 0.99420 | Train Acc: 65.576%\n",
      "Test Loss: 1.89058 | Test Acc: 50.427%\n",
      "[Epoch 32] Train Loss: 0.98165 | Train Acc: 66.395%\n",
      "Test Loss: 1.01040 | Test Acc: 66.185%\n",
      "[Epoch 33] Train Loss: 0.98534 | Train Acc: 66.414%\n",
      "Test Loss: 1.12630 | Test Acc: 62.909%\n",
      "[Epoch 34] Train Loss: 0.98514 | Train Acc: 66.514%\n",
      "Test Loss: 0.92489 | Test Acc: 68.415%\n",
      "[Epoch 35] Train Loss: 0.98148 | Train Acc: 66.540%\n",
      "Test Loss: 1.69723 | Test Acc: 49.511%\n",
      "[Epoch 36] Train Loss: 0.98902 | Train Acc: 66.640%\n",
      "Test Loss: 1.50875 | Test Acc: 55.944%\n",
      "[Epoch 37] Train Loss: 0.99058 | Train Acc: 65.918%\n",
      "Test Loss: 1.04811 | Test Acc: 66.552%\n",
      "[Epoch 38] Train Loss: 0.98501 | Train Acc: 66.503%\n",
      "Test Loss: 0.98230 | Test Acc: 67.064%\n",
      "[Epoch 39] Train Loss: 0.98636 | Train Acc: 66.578%\n",
      "Test Loss: 1.01878 | Test Acc: 65.811%\n",
      "[Epoch 40] Train Loss: 0.98420 | Train Acc: 66.847%\n",
      "Test Loss: 1.48324 | Test Acc: 54.806%\n",
      "[Epoch 41] Train Loss: 0.98462 | Train Acc: 66.131%\n",
      "Test Loss: 1.19575 | Test Acc: 61.015%\n",
      "[Epoch 42] Train Loss: 0.98544 | Train Acc: 66.034%\n",
      "Test Loss: 1.65971 | Test Acc: 52.758%\n",
      "[Epoch 43] Train Loss: 0.99374 | Train Acc: 65.353%\n",
      "Test Loss: 1.05787 | Test Acc: 63.084%\n",
      "[Epoch 44] Train Loss: 0.98749 | Train Acc: 66.334%\n",
      "Test Loss: 1.09841 | Test Acc: 62.603%\n",
      "[Epoch 45] Train Loss: 0.97494 | Train Acc: 66.491%\n",
      "Test Loss: 1.00217 | Test Acc: 64.993%\n",
      "[Epoch 46] Train Loss: 0.98936 | Train Acc: 65.500%\n",
      "Test Loss: 1.05803 | Test Acc: 64.624%\n",
      "[Epoch 47] Train Loss: 0.98117 | Train Acc: 66.394%\n",
      "Test Loss: 1.19362 | Test Acc: 59.093%\n",
      "[Epoch 48] Train Loss: 0.98807 | Train Acc: 65.897%\n",
      "Test Loss: 1.17917 | Test Acc: 61.604%\n",
      "[Epoch 49] Train Loss: 0.99021 | Train Acc: 66.206%\n",
      "Test Loss: 1.52104 | Test Acc: 53.416%\n",
      "[Epoch 50] Train Loss: 0.65007 | Train Acc: 75.741%\n",
      "Test Loss: 0.56556 | Test Acc: 80.859%\n",
      "[Epoch 51] Train Loss: 0.58023 | Train Acc: 80.318%\n",
      "Test Loss: 0.54277 | Test Acc: 81.228%\n",
      "[Epoch 52] Train Loss: 0.56652 | Train Acc: 80.674%\n",
      "Test Loss: 0.52616 | Test Acc: 82.396%\n",
      "[Epoch 53] Train Loss: 0.55314 | Train Acc: 81.103%\n",
      "Test Loss: 0.55950 | Test Acc: 81.262%\n",
      "[Epoch 54] Train Loss: 0.55944 | Train Acc: 80.945%\n",
      "Test Loss: 0.57138 | Test Acc: 80.988%\n",
      "[Epoch 55] Train Loss: 0.55349 | Train Acc: 80.992%\n",
      "Test Loss: 0.53547 | Test Acc: 81.927%\n",
      "[Epoch 56] Train Loss: 0.54916 | Train Acc: 81.340%\n",
      "Test Loss: 0.52231 | Test Acc: 82.540%\n",
      "[Epoch 57] Train Loss: 0.54967 | Train Acc: 81.609%\n",
      "Test Loss: 0.66515 | Test Acc: 78.360%\n",
      "[Epoch 58] Train Loss: 0.54954 | Train Acc: 81.126%\n",
      "Test Loss: 0.56365 | Test Acc: 81.193%\n",
      "[Epoch 59] Train Loss: 0.54168 | Train Acc: 81.886%\n",
      "Test Loss: 0.54427 | Test Acc: 82.233%\n",
      "[Epoch 60] Train Loss: 0.54137 | Train Acc: 81.719%\n",
      "Test Loss: 0.56949 | Test Acc: 80.482%\n",
      "[Epoch 61] Train Loss: 0.53622 | Train Acc: 81.816%\n",
      "Test Loss: 0.53347 | Test Acc: 81.911%\n",
      "[Epoch 62] Train Loss: 0.53333 | Train Acc: 81.985%\n",
      "Test Loss: 0.54929 | Test Acc: 81.247%\n",
      "[Epoch 63] Train Loss: 0.52802 | Train Acc: 82.393%\n",
      "Test Loss: 0.50261 | Test Acc: 82.844%\n",
      "[Epoch 64] Train Loss: 0.52688 | Train Acc: 82.155%\n",
      "Test Loss: 0.52281 | Test Acc: 81.849%\n",
      "[Epoch 65] Train Loss: 0.52582 | Train Acc: 82.265%\n",
      "Test Loss: 0.52494 | Test Acc: 82.049%\n",
      "[Epoch 66] Train Loss: 0.52299 | Train Acc: 82.529%\n",
      "Test Loss: 0.51173 | Test Acc: 82.384%\n",
      "[Epoch 67] Train Loss: 0.51921 | Train Acc: 81.847%\n",
      "Test Loss: 0.49549 | Test Acc: 83.148%\n",
      "[Epoch 68] Train Loss: 0.52354 | Train Acc: 82.498%\n",
      "Test Loss: 0.49799 | Test Acc: 83.054%\n",
      "[Epoch 69] Train Loss: 0.51517 | Train Acc: 82.529%\n",
      "Test Loss: 0.47104 | Test Acc: 83.934%\n",
      "[Epoch 70] Train Loss: 0.51404 | Train Acc: 82.578%\n",
      "Test Loss: 0.54462 | Test Acc: 81.145%\n",
      "[Epoch 71] Train Loss: 0.51248 | Train Acc: 82.515%\n",
      "Test Loss: 0.51679 | Test Acc: 82.565%\n",
      "[Epoch 72] Train Loss: 0.51280 | Train Acc: 82.731%\n",
      "Test Loss: 0.46541 | Test Acc: 84.269%\n",
      "[Epoch 73] Train Loss: 0.50858 | Train Acc: 82.495%\n",
      "Test Loss: 0.52967 | Test Acc: 82.222%\n",
      "[Epoch 74] Train Loss: 0.51058 | Train Acc: 82.772%\n",
      "Test Loss: 0.50952 | Test Acc: 82.906%\n",
      "[Epoch 75] Train Loss: 0.38426 | Train Acc: 86.235%\n",
      "Test Loss: 0.36918 | Test Acc: 87.643%\n",
      "[Epoch 76] Train Loss: 0.34287 | Train Acc: 88.399%\n",
      "Test Loss: 0.35217 | Test Acc: 88.394%\n",
      "[Epoch 77] Train Loss: 0.32537 | Train Acc: 89.051%\n",
      "Test Loss: 0.35240 | Test Acc: 87.751%\n",
      "[Epoch 78] Train Loss: 0.31511 | Train Acc: 89.649%\n",
      "Test Loss: 0.33735 | Test Acc: 88.815%\n",
      "[Epoch 79] Train Loss: 0.30524 | Train Acc: 89.850%\n",
      "Test Loss: 0.34149 | Test Acc: 88.525%\n",
      "[Epoch 80] Train Loss: 0.29889 | Train Acc: 89.956%\n",
      "Test Loss: 0.34641 | Test Acc: 88.646%\n",
      "[Epoch 81] Train Loss: 0.29350 | Train Acc: 90.009%\n",
      "Test Loss: 0.34131 | Test Acc: 88.637%\n",
      "[Epoch 82] Train Loss: 0.28925 | Train Acc: 90.198%\n",
      "Test Loss: 0.33941 | Test Acc: 88.701%\n",
      "[Epoch 83] Train Loss: 0.28472 | Train Acc: 90.403%\n",
      "Test Loss: 0.33194 | Test Acc: 89.320%\n",
      "[Epoch 84] Train Loss: 0.28324 | Train Acc: 90.310%\n",
      "Test Loss: 0.34117 | Test Acc: 88.977%\n",
      "[Epoch 85] Train Loss: 0.27702 | Train Acc: 90.607%\n",
      "Test Loss: 0.34641 | Test Acc: 88.736%\n",
      "[Epoch 86] Train Loss: 0.27750 | Train Acc: 90.610%\n",
      "Test Loss: 0.34255 | Test Acc: 88.768%\n",
      "[Epoch 87] Train Loss: 0.27390 | Train Acc: 90.886%\n",
      "Test Loss: 0.34714 | Test Acc: 88.371%\n",
      "[Epoch 88] Train Loss: 0.26721 | Train Acc: 90.825%\n",
      "Test Loss: 0.33816 | Test Acc: 88.821%\n",
      "[Epoch 89] Train Loss: 0.27063 | Train Acc: 90.795%\n",
      "Test Loss: 0.33563 | Test Acc: 88.612%\n",
      "[Epoch 91] Train Loss: 0.26551 | Train Acc: 91.285%\n",
      "Test Loss: 0.32525 | Test Acc: 89.212%\n",
      "[Epoch 92] Train Loss: 0.26627 | Train Acc: 90.976%\n"
     ]
    },
    {
     "name": "stdout",
     "output_type": "stream",
     "text": [
      "Test Loss: 0.34166 | Test Acc: 88.582%\n",
      "[Epoch 93] Train Loss: 0.26418 | Train Acc: 90.753%\n",
      "Test Loss: 0.34303 | Test Acc: 88.529%\n",
      "[Epoch 94] Train Loss: 0.26048 | Train Acc: 91.088%\n",
      "Test Loss: 0.32679 | Test Acc: 88.694%\n",
      "[Epoch 95] Train Loss: 0.25904 | Train Acc: 91.332%\n",
      "Test Loss: 0.34427 | Test Acc: 88.466%\n",
      "[Epoch 96] Train Loss: 0.26220 | Train Acc: 91.145%\n",
      "Test Loss: 0.34368 | Test Acc: 88.403%\n",
      "[Epoch 97] Train Loss: 0.26078 | Train Acc: 91.121%\n",
      "Test Loss: 0.34557 | Test Acc: 88.406%\n",
      "[Epoch 98] Train Loss: 0.25929 | Train Acc: 91.539%\n",
      "Test Loss: 0.33750 | Test Acc: 88.546%\n",
      "[Epoch 99] Train Loss: 0.25758 | Train Acc: 91.036%\n",
      "Test Loss: 0.34288 | Test Acc: 88.664%\n",
      "[Epoch 100] Train Loss: 0.25337 | Train Acc: 91.309%\n",
      "Test Loss: 0.37301 | Test Acc: 88.047%\n",
      "Finished Training\n"
     ]
    }
   ],
   "source": [
    "epochs = 100\n",
    "best_acc = 0  # best test accuracy\n",
    "\n",
    "# Training\n",
    "for epoch in range(epochs):\n",
    "    scheduler.step()\n",
    "    train_running_loss = 0.0\n",
    "    train_running_acc = 0.0\n",
    "\n",
    "    # training\n",
    "    model.train()\n",
    "    train_loss = 0\n",
    "    correct = 0\n",
    "    total = 0\n",
    "    count = 0\n",
    "    for batch_idx, (inputs, targets) in enumerate(trainloader):\n",
    "        inputs, targets = inputs.to(device), targets.to(device)\n",
    "        optimizer.zero_grad()\n",
    "        outputs = model(inputs)\n",
    "        loss = criterion(outputs, targets)\n",
    "        loss.backward()\n",
    "        optimizer.step()\n",
    "\n",
    "\n",
    "        train_loss += loss.item()\n",
    "        _, predicted = outputs.max(1)\n",
    "        total += targets.size(0)\n",
    "        correct += predicted.eq(targets).sum().item()\n",
    "\n",
    "        # print statistics\n",
    "        train_running_loss += loss\n",
    "        train_running_acc += 100.*correct/total\n",
    "        count += 1\n",
    "\n",
    "    print('[Epoch %d] Train Loss: %.5f | Train Acc: %.3f%%'\n",
    "                  % (epoch + 1, train_loss/count, train_running_acc/count))\n",
    "    \n",
    "    # testing\n",
    "    model.eval() \n",
    "    with torch.no_grad():\n",
    "        test_running_loss = 0.0\n",
    "        test_running_acc = 0.0\n",
    "        test_loss = 0\n",
    "        correct = 0\n",
    "        total = 0\n",
    "        count = 0\n",
    "        for batch_idx, (inputs, targets) in enumerate(testloader):\n",
    "            inputs, targets = inputs.to(device), targets.to(device)\n",
    "            outputs = model(inputs)\n",
    "            loss = criterion(outputs, targets)\n",
    "\n",
    "            test_loss += loss.item()\n",
    "            _, predicted = outputs.max(1)\n",
    "            total += targets.size(0)\n",
    "            correct += predicted.eq(targets).sum().item()\n",
    "\n",
    "            # print statistics\n",
    "            test_running_loss += loss\n",
    "            test_running_acc += 100.*correct/total\n",
    "            count += 1\n",
    "\n",
    "        print('Test Loss: %.5f | Test Acc: %.3f%%'\n",
    "                      % (test_loss/count, test_running_acc/count))\n",
    "        \n",
    "    # save model\n",
    "    if test_running_acc/count > best_acc:\n",
    "        best_acc = max(test_running_acc/count, best_acc)\n",
    "        PATH = './cifar_net.pth'\n",
    "        torch.save(model.state_dict(), PATH)\n",
    "    \n",
    "print('Finished Training')"
   ]
  },
  {
   "cell_type": "markdown",
   "metadata": {
    "id": "wlOo-rzY8KQL"
   },
   "source": [
    "##テスト\n",
    "学習したネットワークのテストデータに対する認識精度の確認を行います．まず，学習したネットワークを評価するために保存したモデルをロードします．"
   ]
  },
  {
   "cell_type": "code",
   "execution_count": 9,
   "metadata": {
    "colab": {
     "base_uri": "https://localhost:8080/"
    },
    "id": "WSa0ATFj8KQP",
    "outputId": "09c64c4e-7690-44be-9a13-3d262591e29d"
   },
   "outputs": [
    {
     "data": {
      "text/plain": [
       "<All keys matched successfully>"
      ]
     },
     "execution_count": 9,
     "metadata": {},
     "output_type": "execute_result"
    }
   ],
   "source": [
    "depth = 20 #e.g. 20, 32, 44, 47, 56, 110, 1199\n",
    "model = ResNet(depth)\n",
    "model.to(device)\n",
    "PATH = './cifar_net.pth'\n",
    "model.load_state_dict(torch.load(PATH))"
   ]
  },
  {
   "cell_type": "markdown",
   "metadata": {
    "id": "VwWfJO358KQS"
   },
   "source": [
    "次に，学習したネットワークを用いて，テストデータに対する認識精度の確認を行います．\n",
    "`model.eval()`を適用することで，ネットワーク演算を評価モードへ変更します． これにより，学習時と評価時で挙動が異なる演算（dropout等）を変更することが可能です． また，`torch.no_grad()`を適用することで，学習時には必要になる勾配情報を保持することなく演算を行います．"
   ]
  },
  {
   "cell_type": "code",
   "execution_count": 10,
   "metadata": {
    "colab": {
     "base_uri": "https://localhost:8080/"
    },
    "id": "ij38kQBP8KQS",
    "outputId": "6858bee9-595a-4e1f-834d-2cfc8b3b1f65"
   },
   "outputs": [
    {
     "name": "stdout",
     "output_type": "stream",
     "text": [
      "Test Loss: 0.33194 | Test Acc: 89.320%\n"
     ]
    }
   ],
   "source": [
    "# testing\n",
    "model.eval() \n",
    "with torch.no_grad():\n",
    "    test_running_loss = 0.0\n",
    "    test_running_acc = 0.0\n",
    "    test_loss = 0\n",
    "    correct = 0\n",
    "    total = 0\n",
    "    count = 0\n",
    "    for batch_idx, (inputs, targets) in enumerate(testloader):\n",
    "        inputs, targets = inputs.to(device), targets.to(device)\n",
    "        outputs = model(inputs)\n",
    "        loss = criterion(outputs, targets)\n",
    "\n",
    "        test_loss += loss.item()\n",
    "        _, predicted = outputs.max(1)\n",
    "        total += targets.size(0)\n",
    "        correct += predicted.eq(targets).sum().item()\n",
    "\n",
    "        # print statistics\n",
    "        test_running_loss += loss\n",
    "        test_running_acc += 100.*correct/total\n",
    "        count += 1\n",
    "\n",
    "    print('Test Loss: %.5f | Test Acc: %.3f%%'\n",
    "                  % (test_loss/count, test_running_acc/count))"
   ]
  },
  {
   "cell_type": "markdown",
   "metadata": {
    "id": "YjJ48SKsd3dp"
   },
   "source": [
    "## 課題\n",
    "1. エポック数やミニバッチサイズを変えて実験しましょう．\n"
   ]
  },
  {
   "cell_type": "code",
   "execution_count": 11,
   "metadata": {
    "id": "bapCu45reINz"
   },
   "outputs": [],
   "source": [
    "#ここにコードを書く"
   ]
  },
  {
   "cell_type": "markdown",
   "metadata": {
    "id": "P8Pw0zlCfed4"
   },
   "source": [
    "2. ResNetの層数を変えて認識精度の変化を比較しましょう．"
   ]
  },
  {
   "cell_type": "code",
   "execution_count": 12,
   "metadata": {
    "id": "eyMnF0A7fjPQ"
   },
   "outputs": [],
   "source": [
    "#ここにコードを書く"
   ]
  },
  {
   "cell_type": "markdown",
   "metadata": {
    "id": "Fc6zxbw2qQYp"
   },
   "source": [
    "# 参考文献\n",
    "- [1] K. He, X. Zhang, S. Ren, and J. Sun,\n",
    "\"Deep residual learning for image recognition\". In 2016 IEEE Conference on Computer Vision and Pattern Recognition,\n",
    "pp. 770–778, 2016.\n",
    "\n",
    "- [2] S. Karen and Z. Andrew, \"Very deep convolutional networks\n",
    "for large-scale image recognition\". In International Confer-\n",
    "ence on Learning Representations, 2015."
   ]
  }
 ],
 "metadata": {
  "accelerator": "GPU",
  "colab": {
   "collapsed_sections": [],
   "name": "03_resnet.ipynb",
   "provenance": []
  },
  "kernelspec": {
   "display_name": "Python 3",
   "language": "python",
   "name": "python3"
  },
  "varInspector": {
   "cols": {
    "lenName": 16,
    "lenType": 16,
    "lenVar": 40
   },
   "kernels_config": {
    "python": {
     "delete_cmd_postfix": "",
     "delete_cmd_prefix": "del ",
     "library": "var_list.py",
     "varRefreshCmd": "print(var_dic_list())"
    },
    "r": {
     "delete_cmd_postfix": ") ",
     "delete_cmd_prefix": "rm(",
     "library": "var_list.r",
     "varRefreshCmd": "cat(var_dic_list()) "
    }
   },
   "types_to_exclude": [
    "module",
    "function",
    "builtin_function_or_method",
    "instance",
    "_Feature"
   ],
   "window_display": false
  },
  "widgets": {
   "application/vnd.jupyter.widget-state+json": {
    "015ac6472a574f0189472681028cb8b4": {
     "model_module": "@jupyter-widgets/base",
     "model_name": "LayoutModel",
     "state": {
      "_model_module": "@jupyter-widgets/base",
      "_model_module_version": "1.2.0",
      "_model_name": "LayoutModel",
      "_view_count": null,
      "_view_module": "@jupyter-widgets/base",
      "_view_module_version": "1.2.0",
      "_view_name": "LayoutView",
      "align_content": null,
      "align_items": null,
      "align_self": null,
      "border": null,
      "bottom": null,
      "display": null,
      "flex": null,
      "flex_flow": null,
      "grid_area": null,
      "grid_auto_columns": null,
      "grid_auto_flow": null,
      "grid_auto_rows": null,
      "grid_column": null,
      "grid_gap": null,
      "grid_row": null,
      "grid_template_areas": null,
      "grid_template_columns": null,
      "grid_template_rows": null,
      "height": null,
      "justify_content": null,
      "justify_items": null,
      "left": null,
      "margin": null,
      "max_height": null,
      "max_width": null,
      "min_height": null,
      "min_width": null,
      "object_fit": null,
      "object_position": null,
      "order": null,
      "overflow": null,
      "overflow_x": null,
      "overflow_y": null,
      "padding": null,
      "right": null,
      "top": null,
      "visibility": null,
      "width": null
     }
    },
    "0574b7fe14f74a0e91f37e9646010897": {
     "model_module": "@jupyter-widgets/controls",
     "model_name": "FloatProgressModel",
     "state": {
      "_dom_classes": [],
      "_model_module": "@jupyter-widgets/controls",
      "_model_module_version": "1.5.0",
      "_model_name": "FloatProgressModel",
      "_view_count": null,
      "_view_module": "@jupyter-widgets/controls",
      "_view_module_version": "1.5.0",
      "_view_name": "ProgressView",
      "bar_style": "info",
      "description": "",
      "description_tooltip": null,
      "layout": "IPY_MODEL_429753e636ad4ae4a09b0ec7cd40ae88",
      "max": 1,
      "min": 0,
      "orientation": "horizontal",
      "style": "IPY_MODEL_d61072097735498083cc36333996066e",
      "value": 1
     }
    },
    "18eff29c692a4fafaea1c4742c2804ff": {
     "model_module": "@jupyter-widgets/base",
     "model_name": "LayoutModel",
     "state": {
      "_model_module": "@jupyter-widgets/base",
      "_model_module_version": "1.2.0",
      "_model_name": "LayoutModel",
      "_view_count": null,
      "_view_module": "@jupyter-widgets/base",
      "_view_module_version": "1.2.0",
      "_view_name": "LayoutView",
      "align_content": null,
      "align_items": null,
      "align_self": null,
      "border": null,
      "bottom": null,
      "display": null,
      "flex": null,
      "flex_flow": null,
      "grid_area": null,
      "grid_auto_columns": null,
      "grid_auto_flow": null,
      "grid_auto_rows": null,
      "grid_column": null,
      "grid_gap": null,
      "grid_row": null,
      "grid_template_areas": null,
      "grid_template_columns": null,
      "grid_template_rows": null,
      "height": null,
      "justify_content": null,
      "justify_items": null,
      "left": null,
      "margin": null,
      "max_height": null,
      "max_width": null,
      "min_height": null,
      "min_width": null,
      "object_fit": null,
      "object_position": null,
      "order": null,
      "overflow": null,
      "overflow_x": null,
      "overflow_y": null,
      "padding": null,
      "right": null,
      "top": null,
      "visibility": null,
      "width": null
     }
    },
    "2bcc19d3ebe44208aefc266ecb092de7": {
     "model_module": "@jupyter-widgets/controls",
     "model_name": "HBoxModel",
     "state": {
      "_dom_classes": [],
      "_model_module": "@jupyter-widgets/controls",
      "_model_module_version": "1.5.0",
      "_model_name": "HBoxModel",
      "_view_count": null,
      "_view_module": "@jupyter-widgets/controls",
      "_view_module_version": "1.5.0",
      "_view_name": "HBoxView",
      "box_style": "",
      "children": [
       "IPY_MODEL_0574b7fe14f74a0e91f37e9646010897",
       "IPY_MODEL_f403a35ccdaf465eb42f4424f497e2f2"
      ],
      "layout": "IPY_MODEL_18eff29c692a4fafaea1c4742c2804ff"
     }
    },
    "429753e636ad4ae4a09b0ec7cd40ae88": {
     "model_module": "@jupyter-widgets/base",
     "model_name": "LayoutModel",
     "state": {
      "_model_module": "@jupyter-widgets/base",
      "_model_module_version": "1.2.0",
      "_model_name": "LayoutModel",
      "_view_count": null,
      "_view_module": "@jupyter-widgets/base",
      "_view_module_version": "1.2.0",
      "_view_name": "LayoutView",
      "align_content": null,
      "align_items": null,
      "align_self": null,
      "border": null,
      "bottom": null,
      "display": null,
      "flex": null,
      "flex_flow": null,
      "grid_area": null,
      "grid_auto_columns": null,
      "grid_auto_flow": null,
      "grid_auto_rows": null,
      "grid_column": null,
      "grid_gap": null,
      "grid_row": null,
      "grid_template_areas": null,
      "grid_template_columns": null,
      "grid_template_rows": null,
      "height": null,
      "justify_content": null,
      "justify_items": null,
      "left": null,
      "margin": null,
      "max_height": null,
      "max_width": null,
      "min_height": null,
      "min_width": null,
      "object_fit": null,
      "object_position": null,
      "order": null,
      "overflow": null,
      "overflow_x": null,
      "overflow_y": null,
      "padding": null,
      "right": null,
      "top": null,
      "visibility": null,
      "width": null
     }
    },
    "b696f279d101434498eb5e006517a6ac": {
     "model_module": "@jupyter-widgets/controls",
     "model_name": "DescriptionStyleModel",
     "state": {
      "_model_module": "@jupyter-widgets/controls",
      "_model_module_version": "1.5.0",
      "_model_name": "DescriptionStyleModel",
      "_view_count": null,
      "_view_module": "@jupyter-widgets/base",
      "_view_module_version": "1.2.0",
      "_view_name": "StyleView",
      "description_width": ""
     }
    },
    "d61072097735498083cc36333996066e": {
     "model_module": "@jupyter-widgets/controls",
     "model_name": "ProgressStyleModel",
     "state": {
      "_model_module": "@jupyter-widgets/controls",
      "_model_module_version": "1.5.0",
      "_model_name": "ProgressStyleModel",
      "_view_count": null,
      "_view_module": "@jupyter-widgets/base",
      "_view_module_version": "1.2.0",
      "_view_name": "StyleView",
      "bar_color": null,
      "description_width": "initial"
     }
    },
    "f403a35ccdaf465eb42f4424f497e2f2": {
     "model_module": "@jupyter-widgets/controls",
     "model_name": "HTMLModel",
     "state": {
      "_dom_classes": [],
      "_model_module": "@jupyter-widgets/controls",
      "_model_module_version": "1.5.0",
      "_model_name": "HTMLModel",
      "_view_count": null,
      "_view_module": "@jupyter-widgets/controls",
      "_view_module_version": "1.5.0",
      "_view_name": "HTMLView",
      "description": "",
      "description_tooltip": null,
      "layout": "IPY_MODEL_015ac6472a574f0189472681028cb8b4",
      "placeholder": "​",
      "style": "IPY_MODEL_b696f279d101434498eb5e006517a6ac",
      "value": " 170500096/? [01:00&lt;00:00, 3637268.48it/s]"
     }
    }
   }
  }
 },
 "nbformat": 4,
 "nbformat_minor": 1
}
